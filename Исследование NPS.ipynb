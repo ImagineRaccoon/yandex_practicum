{
 "cells": [
  {
   "cell_type": "markdown",
   "id": "1f23452a",
   "metadata": {},
   "source": [
    "# Исследование NPS"
   ]
  },
  {
   "cell_type": "markdown",
   "id": "a38837ce",
   "metadata": {},
   "source": [
    "Цель исследования:\n",
    "        Требовалось определить текущий уровень потребительской лояльности(NPS) на основании предоставленных данных опросов пользователей телекоммуникационной компании. Так же требовалось оценить:\n",
    "- Как распределены участники опроса по возрасту и полу? Каких пользователей больше: новых или старых? Пользователи из каких городов активнее участвовали в опросе?\n",
    "- Какие группы пользователей наиболее лояльны к сервису? Какие менее?\n",
    "- Какой общий NPS среди всех опрошенных?\n",
    "- Как можно описать клиентов, которые относятся к группе cторонников (англ. promoters)?"
   ]
  },
  {
   "cell_type": "markdown",
   "id": "f67ceefa",
   "metadata": {},
   "source": [
    "# Выгрузка данных"
   ]
  },
  {
   "cell_type": "code",
   "execution_count": 1,
   "id": "fc7efa54",
   "metadata": {},
   "outputs": [],
   "source": [
    "import os\n",
    "import pandas as pd\n",
    "import numpy as np\n",
    "\n",
    "from sqlalchemy import create_engine"
   ]
  },
  {
   "cell_type": "code",
   "execution_count": 2,
   "id": "0017f8e7",
   "metadata": {},
   "outputs": [],
   "source": [
    "path_to_db_local = 'telecomm_csi.db'\n",
    "path_to_db_platform = '/datasets/telecomm_csi.db'\n",
    "path_to_db = None\n",
    "\n",
    "if os.path.exists(path_to_db_local):\n",
    "    path_to_db = path_to_db_local\n",
    "elif os.path.exists(path_to_db_platform):\n",
    "    path_to_db = path_to_db_platform\n",
    "else:\n",
    "    raise Exception('Файл с базой данных SQLite не найден!')\n",
    "\n",
    "if path_to_db:\n",
    "    engine = create_engine(f'sqlite:///{path_to_db}', echo=False)"
   ]
  },
  {
   "cell_type": "code",
   "execution_count": 3,
   "id": "84ebad43",
   "metadata": {},
   "outputs": [],
   "source": [
    "query = \"\"\"\n",
    "SELECT \n",
    "    user_id --Идентификатор клиента\n",
    "    ,lt_day --Количество дней «жизни» клиента\n",
    "    ,case when lt_day<365 then 1 else 0 end is_new --Поле хранит информацию о том, является ли клиент новым\n",
    "    ,age --Возраст\n",
    "    ,gender_segment --Пол (для удобства работы с полем преобразуйте значения в текстовый вид)\n",
    "    ,os_name --Тип операционной системы\n",
    "    ,cpe_type_name --Тип устройства\n",
    "    ,country --Страна проживания\n",
    "    ,city --Город проживания\n",
    "    ,ags.title as age_segment --Возрастной сегмент\n",
    "    ,ts.title as traffic_segment --Сегмент по объёму потребляемого трафика\n",
    "    ,ls.title as lifetime_segment --Сегмент по количеству дней «жизни»\n",
    "    ,nps_score --Оценка клиента в NPS-опросе\n",
    "    ,case when nps_score>=9 then 'promoters' \n",
    "        when nps_score in (7,8) then 'passives'\n",
    "        when nps_score<7 then 'detractors'\n",
    "        else Null end as nps_group --Поле хранит информацию о том, к какой группе относится оценка клиента в опросе\n",
    "FROM user u\n",
    "    join location l on u.location_id = l.location_id\n",
    "    join age_segment ags on ags.age_gr_id = u.age_gr_id\n",
    "    join traffic_segment ts on ts.tr_gr_id = u.tr_gr_id\n",
    "    join lifetime_segment ls on ls.lt_gr_id = u.lt_gr_id\n",
    "\"\"\""
   ]
  },
  {
   "cell_type": "code",
   "execution_count": 4,
   "id": "3965faf2",
   "metadata": {},
   "outputs": [
    {
     "data": {
      "text/html": [
       "<div>\n",
       "<style scoped>\n",
       "    .dataframe tbody tr th:only-of-type {\n",
       "        vertical-align: middle;\n",
       "    }\n",
       "\n",
       "    .dataframe tbody tr th {\n",
       "        vertical-align: top;\n",
       "    }\n",
       "\n",
       "    .dataframe thead th {\n",
       "        text-align: right;\n",
       "    }\n",
       "</style>\n",
       "<table border=\"1\" class=\"dataframe\">\n",
       "  <thead>\n",
       "    <tr style=\"text-align: right;\">\n",
       "      <th></th>\n",
       "      <th>user_id</th>\n",
       "      <th>lt_day</th>\n",
       "      <th>is_new</th>\n",
       "      <th>age</th>\n",
       "      <th>gender_segment</th>\n",
       "      <th>os_name</th>\n",
       "      <th>cpe_type_name</th>\n",
       "      <th>country</th>\n",
       "      <th>city</th>\n",
       "      <th>age_segment</th>\n",
       "      <th>traffic_segment</th>\n",
       "      <th>lifetime_segment</th>\n",
       "      <th>nps_score</th>\n",
       "      <th>nps_group</th>\n",
       "    </tr>\n",
       "  </thead>\n",
       "  <tbody>\n",
       "    <tr>\n",
       "      <th>0</th>\n",
       "      <td>A001A2</td>\n",
       "      <td>2320</td>\n",
       "      <td>0</td>\n",
       "      <td>45.0</td>\n",
       "      <td>1.0</td>\n",
       "      <td>ANDROID</td>\n",
       "      <td>SMARTPHONE</td>\n",
       "      <td>Россия</td>\n",
       "      <td>Уфа</td>\n",
       "      <td>05 45-54</td>\n",
       "      <td>04 1-5</td>\n",
       "      <td>08 36+</td>\n",
       "      <td>10</td>\n",
       "      <td>promoters</td>\n",
       "    </tr>\n",
       "    <tr>\n",
       "      <th>1</th>\n",
       "      <td>A001WF</td>\n",
       "      <td>2344</td>\n",
       "      <td>0</td>\n",
       "      <td>53.0</td>\n",
       "      <td>0.0</td>\n",
       "      <td>ANDROID</td>\n",
       "      <td>SMARTPHONE</td>\n",
       "      <td>Россия</td>\n",
       "      <td>Киров</td>\n",
       "      <td>05 45-54</td>\n",
       "      <td>04 1-5</td>\n",
       "      <td>08 36+</td>\n",
       "      <td>10</td>\n",
       "      <td>promoters</td>\n",
       "    </tr>\n",
       "    <tr>\n",
       "      <th>2</th>\n",
       "      <td>A003Q7</td>\n",
       "      <td>467</td>\n",
       "      <td>0</td>\n",
       "      <td>57.0</td>\n",
       "      <td>0.0</td>\n",
       "      <td>ANDROID</td>\n",
       "      <td>SMARTPHONE</td>\n",
       "      <td>Россия</td>\n",
       "      <td>Москва</td>\n",
       "      <td>06 55-64</td>\n",
       "      <td>08 20-25</td>\n",
       "      <td>06 13-24</td>\n",
       "      <td>10</td>\n",
       "      <td>promoters</td>\n",
       "    </tr>\n",
       "  </tbody>\n",
       "</table>\n",
       "</div>"
      ],
      "text/plain": [
       "  user_id  lt_day  is_new   age  gender_segment  os_name cpe_type_name  \\\n",
       "0  A001A2    2320       0  45.0             1.0  ANDROID    SMARTPHONE   \n",
       "1  A001WF    2344       0  53.0             0.0  ANDROID    SMARTPHONE   \n",
       "2  A003Q7     467       0  57.0             0.0  ANDROID    SMARTPHONE   \n",
       "\n",
       "  country    city age_segment traffic_segment lifetime_segment  nps_score  \\\n",
       "0  Россия     Уфа    05 45-54          04 1-5           08 36+         10   \n",
       "1  Россия   Киров    05 45-54          04 1-5           08 36+         10   \n",
       "2  Россия  Москва    06 55-64        08 20-25         06 13-24         10   \n",
       "\n",
       "   nps_group  \n",
       "0  promoters  \n",
       "1  promoters  \n",
       "2  promoters  "
      ]
     },
     "execution_count": 4,
     "metadata": {},
     "output_type": "execute_result"
    }
   ],
   "source": [
    "df = pd.read_sql(query, engine)\n",
    "df.head(3)"
   ]
  },
  {
   "cell_type": "code",
   "execution_count": 5,
   "id": "9db04858",
   "metadata": {},
   "outputs": [],
   "source": [
    "df.to_csv('telecomm_csi_tableau.csv', index=False)"
   ]
  },
  {
   "cell_type": "markdown",
   "id": "3bd0af85",
   "metadata": {},
   "source": [
    "# Итоги исследования"
   ]
  },
  {
   "cell_type": "markdown",
   "id": "81efd22d",
   "metadata": {},
   "source": [
    "Ссылка на отчет в tableau\n",
    "\n",
    "https://public.tableau.com/views/NPS_16946514345350/NPS?:language=en-GB&publish=yes&:display_count=n&:origin=viz_share_link\n",
    "\n",
    "Все выводы по исследованию содержаться в нижней части каждого из листов презентации в tableau"
   ]
  }
 ],
 "metadata": {
  "ExecuteTimeLog": [
   {
    "duration": 510,
    "start_time": "2023-09-13T18:50:07.712Z"
   },
   {
    "duration": 101,
    "start_time": "2023-09-13T18:50:09.156Z"
   },
   {
    "duration": 2,
    "start_time": "2023-09-13T18:51:50.911Z"
   },
   {
    "duration": 3619,
    "start_time": "2023-09-13T18:51:51.645Z"
   },
   {
    "duration": 3,
    "start_time": "2023-09-13T19:03:38.812Z"
   },
   {
    "duration": 699,
    "start_time": "2023-09-13T19:03:39.504Z"
   },
   {
    "duration": 3,
    "start_time": "2023-09-13T19:05:29.911Z"
   },
   {
    "duration": 495,
    "start_time": "2023-09-13T19:06:09.662Z"
   },
   {
    "duration": 84,
    "start_time": "2023-09-13T19:06:10.159Z"
   },
   {
    "duration": 4,
    "start_time": "2023-09-13T19:06:10.246Z"
   },
   {
    "duration": 11,
    "start_time": "2023-09-13T19:07:47.780Z"
   },
   {
    "duration": 49,
    "start_time": "2023-09-13T19:07:48.653Z"
   },
   {
    "duration": 513,
    "start_time": "2023-09-13T19:07:54.437Z"
   },
   {
    "duration": 95,
    "start_time": "2023-09-13T19:07:54.952Z"
   },
   {
    "duration": 4,
    "start_time": "2023-09-13T19:07:55.049Z"
   },
   {
    "duration": 482,
    "start_time": "2023-09-13T19:18:15.468Z"
   },
   {
    "duration": 89,
    "start_time": "2023-09-13T19:18:15.952Z"
   },
   {
    "duration": 4,
    "start_time": "2023-09-13T19:18:16.043Z"
   },
   {
    "duration": 4831,
    "start_time": "2023-09-13T19:18:16.049Z"
   },
   {
    "duration": 3962,
    "start_time": "2023-09-13T19:18:20.882Z"
   },
   {
    "duration": 3874,
    "start_time": "2023-09-13T19:19:17.417Z"
   },
   {
    "duration": 556,
    "start_time": "2023-09-14T03:41:11.146Z"
   },
   {
    "duration": 11,
    "start_time": "2023-09-14T03:41:11.704Z"
   },
   {
    "duration": 5,
    "start_time": "2023-09-14T03:41:11.716Z"
   },
   {
    "duration": 5588,
    "start_time": "2023-09-14T03:41:11.723Z"
   },
   {
    "duration": 4467,
    "start_time": "2023-09-14T03:41:17.313Z"
   },
   {
    "duration": 518,
    "start_time": "2023-09-15T03:44:32.642Z"
   },
   {
    "duration": 10,
    "start_time": "2023-09-15T03:44:33.162Z"
   },
   {
    "duration": 10,
    "start_time": "2023-09-15T03:44:33.174Z"
   },
   {
    "duration": 5483,
    "start_time": "2023-09-15T03:44:33.186Z"
   },
   {
    "duration": 4732,
    "start_time": "2023-09-15T03:44:38.671Z"
   }
  ],
  "kernelspec": {
   "display_name": "Python 3 (ipykernel)",
   "language": "python",
   "name": "python3"
  },
  "language_info": {
   "codemirror_mode": {
    "name": "ipython",
    "version": 3
   },
   "file_extension": ".py",
   "mimetype": "text/x-python",
   "name": "python",
   "nbconvert_exporter": "python",
   "pygments_lexer": "ipython3",
   "version": "3.10.13"
  },
  "toc": {
   "base_numbering": 1,
   "nav_menu": {},
   "number_sections": true,
   "sideBar": true,
   "skip_h1_title": true,
   "title_cell": "Table of Contents",
   "title_sidebar": "Contents",
   "toc_cell": false,
   "toc_position": {},
   "toc_section_display": true,
   "toc_window_display": false
  }
 },
 "nbformat": 4,
 "nbformat_minor": 5
}
