{
 "cells": [
  {
   "cell_type": "code",
   "execution_count": 1,
   "id": "6040e29a",
   "metadata": {},
   "outputs": [],
   "source": [
    "import numpy as np\n",
    "import pandas as pd\n",
    "import matplotlib.pyplot as plt\n",
    "from scipy import stats as st\n",
    "from scipy.stats import binom, poisson, norm\n",
    "from math import sqrt, factorial"
   ]
  },
  {
   "cell_type": "markdown",
   "id": "8ec0340a",
   "metadata": {},
   "source": [
    "## Проектная работа. Статистический анализ данных сервиса аренды самокатов GoFast\n",
    "Предметом исследования является популярный сервис по аренде самокатов GoFast. Чтобы совершать поездки по городу, пользователи сервиса пользуются мобильным приложением. Сервис активно развивается и привлекает все больше пользователей. Для оптимизации бизнес-процессов и повышения эффективности деятельности компании необходимо провести анализ данных о пользователях и их поездках.\n",
    "\n",
    "### Цель работы\n",
    "Целью данного исследования является анализ данных о пользователях и поездках в сервисе GoFast с целью выявления основных тенденций использования сервиса и проверки гипотез, способствующих увеличению его эффективности.\n",
    "\n",
    "### Ход работы\n",
    "В нашем распоряжении имеются три датасета: users_go.csv, хранящий данные о пользователях, rides_go.csv, хранящик данные о поездках пользователей и subscriptions_go.csv, хранящий информацию о подписках в данном сервисе. О качестве данных нет никакой информации. Поэтому прежде чем приступить к анализу, понадобиться обзор данных, чтобы полученные в конечном итоге результаты были достоверны\n",
    "\n",
    "Поэтому мое исследование будет иметь следующий порядок действий:\n",
    "1. Исследование данных: Взгляд на данные для понимания их структуры и содержания.\n",
    "2. Предобработка данных: Очистка данных от ошибок, пропусков и дубликатов, чтобы гарантировать их качество и точность анализа.\n",
    "3. Исследовательский анализ данных\n",
    "4. Расчеты и подготовка данных: Выполнение необходимых расчетов и подготовка данных для последующей проверки гипотез.\n",
    "5. Проверка гипотез: Проведение статистических тестов для подтверждения или опровержения предположений и гипотез.\n",
    "6. Анализ для маркетинга: Предоставление цифр и выводов, которые помогут маркетологам принимать эффективные решения.\n",
    "7. Формулирование общего вывода: Сводка всех результатов и выводов проекта в четкое и понятное заключение."
   ]
  },
  {
   "cell_type": "markdown",
   "id": "380431b3",
   "metadata": {},
   "source": [
    "### Шаг 1. Загрузка данных"
   ]
  },
  {
   "cell_type": "markdown",
   "id": "8d725976",
   "metadata": {},
   "source": [
    "В первую очередь выгрузим данные. Сделаем это таким образом, чтобы получить данные можно было в любом случае:"
   ]
  },
  {
   "cell_type": "code",
   "execution_count": 2,
   "id": "2791b37e",
   "metadata": {},
   "outputs": [],
   "source": [
    "try:\n",
    "    df_user_go = pd.read_csv('users_go.csv')\n",
    "    df_rides_go = pd.read_csv('rides_go.csv')\n",
    "    df_sub_go = pd.read_csv('subscriptions_go.csv')\n",
    "except:\n",
    "    df_user_go = pd.read_csv('https://code.s3.yandex.net/datasets/users_go.csv')\n",
    "    df_rides_go = pd.read_csv('https://code.s3.yandex.net/datasets/rides_go.csv')\n",
    "    df_sub_go = pd.read_csv('https://code.s3.yandex.net/datasets/subscriptions_go.csv')"
   ]
  },
  {
   "cell_type": "markdown",
   "id": "b132edfd",
   "metadata": {},
   "source": [
    "Напишем функцию на вход которой будет подано название таблицы и которая выведет первые строки датафреймов и информацию о них:"
   ]
  },
  {
   "cell_type": "code",
   "execution_count": 3,
   "id": "57108f2b",
   "metadata": {},
   "outputs": [],
   "source": [
    "def datafraim_print_info(datafraim):\n",
    "    print(datafraim.info())\n",
    "    display(datafraim.head(10))"
   ]
  },
  {
   "cell_type": "markdown",
   "id": "7f1bbded",
   "metadata": {},
   "source": [
    "#### Таблица с пользователями:"
   ]
  },
  {
   "cell_type": "code",
   "execution_count": 4,
   "id": "cc1c9e86",
   "metadata": {},
   "outputs": [
    {
     "name": "stdout",
     "output_type": "stream",
     "text": [
      "<class 'pandas.core.frame.DataFrame'>\n",
      "RangeIndex: 1565 entries, 0 to 1564\n",
      "Data columns (total 5 columns):\n",
      " #   Column             Non-Null Count  Dtype \n",
      "---  ------             --------------  ----- \n",
      " 0   user_id            1565 non-null   int64 \n",
      " 1   name               1565 non-null   object\n",
      " 2   age                1565 non-null   int64 \n",
      " 3   city               1565 non-null   object\n",
      " 4   subscription_type  1565 non-null   object\n",
      "dtypes: int64(2), object(3)\n",
      "memory usage: 61.3+ KB\n",
      "None\n"
     ]
    },
    {
     "data": {
      "text/html": [
       "<div>\n",
       "<style scoped>\n",
       "    .dataframe tbody tr th:only-of-type {\n",
       "        vertical-align: middle;\n",
       "    }\n",
       "\n",
       "    .dataframe tbody tr th {\n",
       "        vertical-align: top;\n",
       "    }\n",
       "\n",
       "    .dataframe thead th {\n",
       "        text-align: right;\n",
       "    }\n",
       "</style>\n",
       "<table border=\"1\" class=\"dataframe\">\n",
       "  <thead>\n",
       "    <tr style=\"text-align: right;\">\n",
       "      <th></th>\n",
       "      <th>user_id</th>\n",
       "      <th>name</th>\n",
       "      <th>age</th>\n",
       "      <th>city</th>\n",
       "      <th>subscription_type</th>\n",
       "    </tr>\n",
       "  </thead>\n",
       "  <tbody>\n",
       "    <tr>\n",
       "      <th>0</th>\n",
       "      <td>1</td>\n",
       "      <td>Кира</td>\n",
       "      <td>22</td>\n",
       "      <td>Тюмень</td>\n",
       "      <td>ultra</td>\n",
       "    </tr>\n",
       "    <tr>\n",
       "      <th>1</th>\n",
       "      <td>2</td>\n",
       "      <td>Станислав</td>\n",
       "      <td>31</td>\n",
       "      <td>Омск</td>\n",
       "      <td>ultra</td>\n",
       "    </tr>\n",
       "    <tr>\n",
       "      <th>2</th>\n",
       "      <td>3</td>\n",
       "      <td>Алексей</td>\n",
       "      <td>20</td>\n",
       "      <td>Москва</td>\n",
       "      <td>ultra</td>\n",
       "    </tr>\n",
       "    <tr>\n",
       "      <th>3</th>\n",
       "      <td>4</td>\n",
       "      <td>Константин</td>\n",
       "      <td>26</td>\n",
       "      <td>Ростов-на-Дону</td>\n",
       "      <td>ultra</td>\n",
       "    </tr>\n",
       "    <tr>\n",
       "      <th>4</th>\n",
       "      <td>5</td>\n",
       "      <td>Адель</td>\n",
       "      <td>28</td>\n",
       "      <td>Омск</td>\n",
       "      <td>ultra</td>\n",
       "    </tr>\n",
       "    <tr>\n",
       "      <th>5</th>\n",
       "      <td>6</td>\n",
       "      <td>Регина</td>\n",
       "      <td>25</td>\n",
       "      <td>Краснодар</td>\n",
       "      <td>ultra</td>\n",
       "    </tr>\n",
       "    <tr>\n",
       "      <th>6</th>\n",
       "      <td>7</td>\n",
       "      <td>Игорь</td>\n",
       "      <td>23</td>\n",
       "      <td>Омск</td>\n",
       "      <td>ultra</td>\n",
       "    </tr>\n",
       "    <tr>\n",
       "      <th>7</th>\n",
       "      <td>8</td>\n",
       "      <td>Юрий</td>\n",
       "      <td>23</td>\n",
       "      <td>Краснодар</td>\n",
       "      <td>ultra</td>\n",
       "    </tr>\n",
       "    <tr>\n",
       "      <th>8</th>\n",
       "      <td>9</td>\n",
       "      <td>Ян</td>\n",
       "      <td>21</td>\n",
       "      <td>Пятигорск</td>\n",
       "      <td>ultra</td>\n",
       "    </tr>\n",
       "    <tr>\n",
       "      <th>9</th>\n",
       "      <td>10</td>\n",
       "      <td>Валерий</td>\n",
       "      <td>18</td>\n",
       "      <td>Екатеринбург</td>\n",
       "      <td>ultra</td>\n",
       "    </tr>\n",
       "  </tbody>\n",
       "</table>\n",
       "</div>"
      ],
      "text/plain": [
       "   user_id        name  age            city subscription_type\n",
       "0        1        Кира   22          Тюмень             ultra\n",
       "1        2   Станислав   31            Омск             ultra\n",
       "2        3     Алексей   20          Москва             ultra\n",
       "3        4  Константин   26  Ростов-на-Дону             ultra\n",
       "4        5       Адель   28            Омск             ultra\n",
       "5        6      Регина   25       Краснодар             ultra\n",
       "6        7       Игорь   23            Омск             ultra\n",
       "7        8        Юрий   23       Краснодар             ultra\n",
       "8        9          Ян   21       Пятигорск             ultra\n",
       "9       10     Валерий   18    Екатеринбург             ultra"
      ]
     },
     "metadata": {},
     "output_type": "display_data"
    }
   ],
   "source": [
    "datafraim_print_info(df_user_go)"
   ]
  },
  {
   "cell_type": "markdown",
   "id": "10ac4b13",
   "metadata": {},
   "source": [
    "#### Таблица с поездками:"
   ]
  },
  {
   "cell_type": "code",
   "execution_count": 5,
   "id": "6a098852",
   "metadata": {},
   "outputs": [
    {
     "name": "stdout",
     "output_type": "stream",
     "text": [
      "<class 'pandas.core.frame.DataFrame'>\n",
      "RangeIndex: 18068 entries, 0 to 18067\n",
      "Data columns (total 4 columns):\n",
      " #   Column    Non-Null Count  Dtype  \n",
      "---  ------    --------------  -----  \n",
      " 0   user_id   18068 non-null  int64  \n",
      " 1   distance  18068 non-null  float64\n",
      " 2   duration  18068 non-null  float64\n",
      " 3   date      18068 non-null  object \n",
      "dtypes: float64(2), int64(1), object(1)\n",
      "memory usage: 564.8+ KB\n",
      "None\n"
     ]
    },
    {
     "data": {
      "text/html": [
       "<div>\n",
       "<style scoped>\n",
       "    .dataframe tbody tr th:only-of-type {\n",
       "        vertical-align: middle;\n",
       "    }\n",
       "\n",
       "    .dataframe tbody tr th {\n",
       "        vertical-align: top;\n",
       "    }\n",
       "\n",
       "    .dataframe thead th {\n",
       "        text-align: right;\n",
       "    }\n",
       "</style>\n",
       "<table border=\"1\" class=\"dataframe\">\n",
       "  <thead>\n",
       "    <tr style=\"text-align: right;\">\n",
       "      <th></th>\n",
       "      <th>user_id</th>\n",
       "      <th>distance</th>\n",
       "      <th>duration</th>\n",
       "      <th>date</th>\n",
       "    </tr>\n",
       "  </thead>\n",
       "  <tbody>\n",
       "    <tr>\n",
       "      <th>0</th>\n",
       "      <td>1</td>\n",
       "      <td>4409.919140</td>\n",
       "      <td>25.599769</td>\n",
       "      <td>2021-01-01</td>\n",
       "    </tr>\n",
       "    <tr>\n",
       "      <th>1</th>\n",
       "      <td>1</td>\n",
       "      <td>2617.592153</td>\n",
       "      <td>15.816871</td>\n",
       "      <td>2021-01-18</td>\n",
       "    </tr>\n",
       "    <tr>\n",
       "      <th>2</th>\n",
       "      <td>1</td>\n",
       "      <td>754.159807</td>\n",
       "      <td>6.232113</td>\n",
       "      <td>2021-04-20</td>\n",
       "    </tr>\n",
       "    <tr>\n",
       "      <th>3</th>\n",
       "      <td>1</td>\n",
       "      <td>2694.783254</td>\n",
       "      <td>18.511000</td>\n",
       "      <td>2021-08-11</td>\n",
       "    </tr>\n",
       "    <tr>\n",
       "      <th>4</th>\n",
       "      <td>1</td>\n",
       "      <td>4028.687306</td>\n",
       "      <td>26.265803</td>\n",
       "      <td>2021-08-28</td>\n",
       "    </tr>\n",
       "    <tr>\n",
       "      <th>5</th>\n",
       "      <td>1</td>\n",
       "      <td>2770.890808</td>\n",
       "      <td>16.650138</td>\n",
       "      <td>2021-10-09</td>\n",
       "    </tr>\n",
       "    <tr>\n",
       "      <th>6</th>\n",
       "      <td>1</td>\n",
       "      <td>3039.020292</td>\n",
       "      <td>14.927879</td>\n",
       "      <td>2021-10-19</td>\n",
       "    </tr>\n",
       "    <tr>\n",
       "      <th>7</th>\n",
       "      <td>1</td>\n",
       "      <td>2842.118050</td>\n",
       "      <td>23.117468</td>\n",
       "      <td>2021-11-06</td>\n",
       "    </tr>\n",
       "    <tr>\n",
       "      <th>8</th>\n",
       "      <td>1</td>\n",
       "      <td>3412.690668</td>\n",
       "      <td>15.238072</td>\n",
       "      <td>2021-11-14</td>\n",
       "    </tr>\n",
       "    <tr>\n",
       "      <th>9</th>\n",
       "      <td>1</td>\n",
       "      <td>748.690645</td>\n",
       "      <td>15.041884</td>\n",
       "      <td>2021-11-22</td>\n",
       "    </tr>\n",
       "  </tbody>\n",
       "</table>\n",
       "</div>"
      ],
      "text/plain": [
       "   user_id     distance   duration        date\n",
       "0        1  4409.919140  25.599769  2021-01-01\n",
       "1        1  2617.592153  15.816871  2021-01-18\n",
       "2        1   754.159807   6.232113  2021-04-20\n",
       "3        1  2694.783254  18.511000  2021-08-11\n",
       "4        1  4028.687306  26.265803  2021-08-28\n",
       "5        1  2770.890808  16.650138  2021-10-09\n",
       "6        1  3039.020292  14.927879  2021-10-19\n",
       "7        1  2842.118050  23.117468  2021-11-06\n",
       "8        1  3412.690668  15.238072  2021-11-14\n",
       "9        1   748.690645  15.041884  2021-11-22"
      ]
     },
     "metadata": {},
     "output_type": "display_data"
    }
   ],
   "source": [
    "datafraim_print_info(df_rides_go)"
   ]
  },
  {
   "cell_type": "markdown",
   "id": "6c8f680b",
   "metadata": {},
   "source": [
    "#### Таблица с подписками:"
   ]
  },
  {
   "cell_type": "code",
   "execution_count": 6,
   "id": "153b3034",
   "metadata": {},
   "outputs": [
    {
     "name": "stdout",
     "output_type": "stream",
     "text": [
      "<class 'pandas.core.frame.DataFrame'>\n",
      "RangeIndex: 2 entries, 0 to 1\n",
      "Data columns (total 4 columns):\n",
      " #   Column             Non-Null Count  Dtype \n",
      "---  ------             --------------  ----- \n",
      " 0   subscription_type  2 non-null      object\n",
      " 1   minute_price       2 non-null      int64 \n",
      " 2   start_ride_price   2 non-null      int64 \n",
      " 3   subscription_fee   2 non-null      int64 \n",
      "dtypes: int64(3), object(1)\n",
      "memory usage: 192.0+ bytes\n",
      "None\n"
     ]
    },
    {
     "data": {
      "text/html": [
       "<div>\n",
       "<style scoped>\n",
       "    .dataframe tbody tr th:only-of-type {\n",
       "        vertical-align: middle;\n",
       "    }\n",
       "\n",
       "    .dataframe tbody tr th {\n",
       "        vertical-align: top;\n",
       "    }\n",
       "\n",
       "    .dataframe thead th {\n",
       "        text-align: right;\n",
       "    }\n",
       "</style>\n",
       "<table border=\"1\" class=\"dataframe\">\n",
       "  <thead>\n",
       "    <tr style=\"text-align: right;\">\n",
       "      <th></th>\n",
       "      <th>subscription_type</th>\n",
       "      <th>minute_price</th>\n",
       "      <th>start_ride_price</th>\n",
       "      <th>subscription_fee</th>\n",
       "    </tr>\n",
       "  </thead>\n",
       "  <tbody>\n",
       "    <tr>\n",
       "      <th>0</th>\n",
       "      <td>free</td>\n",
       "      <td>8</td>\n",
       "      <td>50</td>\n",
       "      <td>0</td>\n",
       "    </tr>\n",
       "    <tr>\n",
       "      <th>1</th>\n",
       "      <td>ultra</td>\n",
       "      <td>6</td>\n",
       "      <td>0</td>\n",
       "      <td>199</td>\n",
       "    </tr>\n",
       "  </tbody>\n",
       "</table>\n",
       "</div>"
      ],
      "text/plain": [
       "  subscription_type  minute_price  start_ride_price  subscription_fee\n",
       "0              free             8                50                 0\n",
       "1             ultra             6                 0               199"
      ]
     },
     "metadata": {},
     "output_type": "display_data"
    }
   ],
   "source": [
    "datafraim_print_info(df_sub_go)"
   ]
  },
  {
   "cell_type": "markdown",
   "id": "75b60d66",
   "metadata": {},
   "source": [
    "#### Промежуточный вывод по шагу 1:\n",
    "Данные были загружены успешно. Было замечено что практически все колонки соответствуют своим типам, только у колонки датафрейма с поездками стоит сменить тип колонки date. На данный момент стоит тип object, а нужен тип дата"
   ]
  },
  {
   "cell_type": "markdown",
   "id": "3840b277",
   "metadata": {},
   "source": [
    "### Шаг 2. Предобработка данных"
   ]
  },
  {
   "cell_type": "markdown",
   "id": "104fcec0",
   "metadata": {},
   "source": [
    "В первую очередь приведем колонку date датафрейма с поездками с правильному типу:"
   ]
  },
  {
   "cell_type": "code",
   "execution_count": 7,
   "id": "dbf98928",
   "metadata": {},
   "outputs": [],
   "source": [
    "df_rides_go['date'] = pd.to_datetime(df_rides_go['date'], format = '%Y-%m-%d')"
   ]
  },
  {
   "cell_type": "markdown",
   "id": "e4929153",
   "metadata": {},
   "source": [
    "Проверим, что все изменилось успешно:"
   ]
  },
  {
   "cell_type": "code",
   "execution_count": 8,
   "id": "ad68f43b",
   "metadata": {},
   "outputs": [
    {
     "name": "stdout",
     "output_type": "stream",
     "text": [
      "<class 'pandas.core.frame.DataFrame'>\n",
      "RangeIndex: 18068 entries, 0 to 18067\n",
      "Data columns (total 4 columns):\n",
      " #   Column    Non-Null Count  Dtype         \n",
      "---  ------    --------------  -----         \n",
      " 0   user_id   18068 non-null  int64         \n",
      " 1   distance  18068 non-null  float64       \n",
      " 2   duration  18068 non-null  float64       \n",
      " 3   date      18068 non-null  datetime64[ns]\n",
      "dtypes: datetime64[ns](1), float64(2), int64(1)\n",
      "memory usage: 564.8 KB\n",
      "None\n"
     ]
    },
    {
     "data": {
      "text/html": [
       "<div>\n",
       "<style scoped>\n",
       "    .dataframe tbody tr th:only-of-type {\n",
       "        vertical-align: middle;\n",
       "    }\n",
       "\n",
       "    .dataframe tbody tr th {\n",
       "        vertical-align: top;\n",
       "    }\n",
       "\n",
       "    .dataframe thead th {\n",
       "        text-align: right;\n",
       "    }\n",
       "</style>\n",
       "<table border=\"1\" class=\"dataframe\">\n",
       "  <thead>\n",
       "    <tr style=\"text-align: right;\">\n",
       "      <th></th>\n",
       "      <th>user_id</th>\n",
       "      <th>distance</th>\n",
       "      <th>duration</th>\n",
       "      <th>date</th>\n",
       "    </tr>\n",
       "  </thead>\n",
       "  <tbody>\n",
       "    <tr>\n",
       "      <th>0</th>\n",
       "      <td>1</td>\n",
       "      <td>4409.919140</td>\n",
       "      <td>25.599769</td>\n",
       "      <td>2021-01-01</td>\n",
       "    </tr>\n",
       "    <tr>\n",
       "      <th>1</th>\n",
       "      <td>1</td>\n",
       "      <td>2617.592153</td>\n",
       "      <td>15.816871</td>\n",
       "      <td>2021-01-18</td>\n",
       "    </tr>\n",
       "    <tr>\n",
       "      <th>2</th>\n",
       "      <td>1</td>\n",
       "      <td>754.159807</td>\n",
       "      <td>6.232113</td>\n",
       "      <td>2021-04-20</td>\n",
       "    </tr>\n",
       "    <tr>\n",
       "      <th>3</th>\n",
       "      <td>1</td>\n",
       "      <td>2694.783254</td>\n",
       "      <td>18.511000</td>\n",
       "      <td>2021-08-11</td>\n",
       "    </tr>\n",
       "    <tr>\n",
       "      <th>4</th>\n",
       "      <td>1</td>\n",
       "      <td>4028.687306</td>\n",
       "      <td>26.265803</td>\n",
       "      <td>2021-08-28</td>\n",
       "    </tr>\n",
       "    <tr>\n",
       "      <th>5</th>\n",
       "      <td>1</td>\n",
       "      <td>2770.890808</td>\n",
       "      <td>16.650138</td>\n",
       "      <td>2021-10-09</td>\n",
       "    </tr>\n",
       "    <tr>\n",
       "      <th>6</th>\n",
       "      <td>1</td>\n",
       "      <td>3039.020292</td>\n",
       "      <td>14.927879</td>\n",
       "      <td>2021-10-19</td>\n",
       "    </tr>\n",
       "    <tr>\n",
       "      <th>7</th>\n",
       "      <td>1</td>\n",
       "      <td>2842.118050</td>\n",
       "      <td>23.117468</td>\n",
       "      <td>2021-11-06</td>\n",
       "    </tr>\n",
       "    <tr>\n",
       "      <th>8</th>\n",
       "      <td>1</td>\n",
       "      <td>3412.690668</td>\n",
       "      <td>15.238072</td>\n",
       "      <td>2021-11-14</td>\n",
       "    </tr>\n",
       "    <tr>\n",
       "      <th>9</th>\n",
       "      <td>1</td>\n",
       "      <td>748.690645</td>\n",
       "      <td>15.041884</td>\n",
       "      <td>2021-11-22</td>\n",
       "    </tr>\n",
       "  </tbody>\n",
       "</table>\n",
       "</div>"
      ],
      "text/plain": [
       "   user_id     distance   duration       date\n",
       "0        1  4409.919140  25.599769 2021-01-01\n",
       "1        1  2617.592153  15.816871 2021-01-18\n",
       "2        1   754.159807   6.232113 2021-04-20\n",
       "3        1  2694.783254  18.511000 2021-08-11\n",
       "4        1  4028.687306  26.265803 2021-08-28\n",
       "5        1  2770.890808  16.650138 2021-10-09\n",
       "6        1  3039.020292  14.927879 2021-10-19\n",
       "7        1  2842.118050  23.117468 2021-11-06\n",
       "8        1  3412.690668  15.238072 2021-11-14\n",
       "9        1   748.690645  15.041884 2021-11-22"
      ]
     },
     "metadata": {},
     "output_type": "display_data"
    }
   ],
   "source": [
    "datafraim_print_info(df_rides_go)"
   ]
  },
  {
   "cell_type": "markdown",
   "id": "4852bbd7",
   "metadata": {},
   "source": [
    "Тип колонки изменен успешно\n",
    "\n",
    "Создадим новую колонку в датафрейме с поездками, которая будет хранить номер месяца на основе колонки date"
   ]
  },
  {
   "cell_type": "code",
   "execution_count": 9,
   "id": "c598a501",
   "metadata": {},
   "outputs": [
    {
     "data": {
      "text/html": [
       "<div>\n",
       "<style scoped>\n",
       "    .dataframe tbody tr th:only-of-type {\n",
       "        vertical-align: middle;\n",
       "    }\n",
       "\n",
       "    .dataframe tbody tr th {\n",
       "        vertical-align: top;\n",
       "    }\n",
       "\n",
       "    .dataframe thead th {\n",
       "        text-align: right;\n",
       "    }\n",
       "</style>\n",
       "<table border=\"1\" class=\"dataframe\">\n",
       "  <thead>\n",
       "    <tr style=\"text-align: right;\">\n",
       "      <th></th>\n",
       "      <th>user_id</th>\n",
       "      <th>distance</th>\n",
       "      <th>duration</th>\n",
       "      <th>date</th>\n",
       "      <th>month_of_date</th>\n",
       "    </tr>\n",
       "  </thead>\n",
       "  <tbody>\n",
       "    <tr>\n",
       "      <th>0</th>\n",
       "      <td>1</td>\n",
       "      <td>4409.919140</td>\n",
       "      <td>25.599769</td>\n",
       "      <td>2021-01-01</td>\n",
       "      <td>1</td>\n",
       "    </tr>\n",
       "    <tr>\n",
       "      <th>1</th>\n",
       "      <td>1</td>\n",
       "      <td>2617.592153</td>\n",
       "      <td>15.816871</td>\n",
       "      <td>2021-01-18</td>\n",
       "      <td>1</td>\n",
       "    </tr>\n",
       "    <tr>\n",
       "      <th>2</th>\n",
       "      <td>1</td>\n",
       "      <td>754.159807</td>\n",
       "      <td>6.232113</td>\n",
       "      <td>2021-04-20</td>\n",
       "      <td>4</td>\n",
       "    </tr>\n",
       "    <tr>\n",
       "      <th>3</th>\n",
       "      <td>1</td>\n",
       "      <td>2694.783254</td>\n",
       "      <td>18.511000</td>\n",
       "      <td>2021-08-11</td>\n",
       "      <td>8</td>\n",
       "    </tr>\n",
       "    <tr>\n",
       "      <th>4</th>\n",
       "      <td>1</td>\n",
       "      <td>4028.687306</td>\n",
       "      <td>26.265803</td>\n",
       "      <td>2021-08-28</td>\n",
       "      <td>8</td>\n",
       "    </tr>\n",
       "  </tbody>\n",
       "</table>\n",
       "</div>"
      ],
      "text/plain": [
       "   user_id     distance   duration       date  month_of_date\n",
       "0        1  4409.919140  25.599769 2021-01-01              1\n",
       "1        1  2617.592153  15.816871 2021-01-18              1\n",
       "2        1   754.159807   6.232113 2021-04-20              4\n",
       "3        1  2694.783254  18.511000 2021-08-11              8\n",
       "4        1  4028.687306  26.265803 2021-08-28              8"
      ]
     },
     "execution_count": 9,
     "metadata": {},
     "output_type": "execute_result"
    }
   ],
   "source": [
    "df_rides_go['month_of_date'] = df_rides_go['date'].dt.month\n",
    "df_rides_go.head()"
   ]
  },
  {
   "cell_type": "markdown",
   "id": "c46077be",
   "metadata": {},
   "source": [
    "Колонка создана успешно\n",
    "\n",
    "Далее проверим все три датафрейма на наличие пропусков и дубликатов. Для этого создадим функцию, которая на ввод будет получать название датафрейма, а на выводе давать нам инфорамцию о пропусках и явных дубликатах"
   ]
  },
  {
   "cell_type": "code",
   "execution_count": 10,
   "id": "a34e6b7f",
   "metadata": {},
   "outputs": [],
   "source": [
    "def datafraim_null_n_dublicates(datafraim):\n",
    "    print('Число явных дубликатов в датафрейме:', datafraim.duplicated().sum())\n",
    "    display(pd.DataFrame(round(datafraim.isna().mean()*100,)).sort_values(by = 0).style.background_gradient('coolwarm'))"
   ]
  },
  {
   "cell_type": "code",
   "execution_count": 11,
   "id": "d1278cfa",
   "metadata": {},
   "outputs": [
    {
     "name": "stdout",
     "output_type": "stream",
     "text": [
      "Число явных дубликатов в датафрейме: 31\n"
     ]
    },
    {
     "data": {
      "text/html": [
       "<style  type=\"text/css\" >\n",
       "#T_4b34b_row0_col0,#T_4b34b_row1_col0,#T_4b34b_row2_col0,#T_4b34b_row3_col0,#T_4b34b_row4_col0{\n",
       "            background-color:  #3b4cc0;\n",
       "            color:  #f1f1f1;\n",
       "        }</style><table id=\"T_4b34b_\" ><thead>    <tr>        <th class=\"blank level0\" ></th>        <th class=\"col_heading level0 col0\" >0</th>    </tr></thead><tbody>\n",
       "                <tr>\n",
       "                        <th id=\"T_4b34b_level0_row0\" class=\"row_heading level0 row0\" >user_id</th>\n",
       "                        <td id=\"T_4b34b_row0_col0\" class=\"data row0 col0\" >0.000000</td>\n",
       "            </tr>\n",
       "            <tr>\n",
       "                        <th id=\"T_4b34b_level0_row1\" class=\"row_heading level0 row1\" >name</th>\n",
       "                        <td id=\"T_4b34b_row1_col0\" class=\"data row1 col0\" >0.000000</td>\n",
       "            </tr>\n",
       "            <tr>\n",
       "                        <th id=\"T_4b34b_level0_row2\" class=\"row_heading level0 row2\" >age</th>\n",
       "                        <td id=\"T_4b34b_row2_col0\" class=\"data row2 col0\" >0.000000</td>\n",
       "            </tr>\n",
       "            <tr>\n",
       "                        <th id=\"T_4b34b_level0_row3\" class=\"row_heading level0 row3\" >city</th>\n",
       "                        <td id=\"T_4b34b_row3_col0\" class=\"data row3 col0\" >0.000000</td>\n",
       "            </tr>\n",
       "            <tr>\n",
       "                        <th id=\"T_4b34b_level0_row4\" class=\"row_heading level0 row4\" >subscription_type</th>\n",
       "                        <td id=\"T_4b34b_row4_col0\" class=\"data row4 col0\" >0.000000</td>\n",
       "            </tr>\n",
       "    </tbody></table>"
      ],
      "text/plain": [
       "<pandas.io.formats.style.Styler at 0x7f9ea92abf40>"
      ]
     },
     "metadata": {},
     "output_type": "display_data"
    }
   ],
   "source": [
    "datafraim_null_n_dublicates(df_user_go)"
   ]
  },
  {
   "cell_type": "markdown",
   "id": "bd066220",
   "metadata": {},
   "source": [
    "Как можно заметить в датафрейме с пользователями пропуски отсутствуют. Однако есть явные дубликаты. Удалим же их"
   ]
  },
  {
   "cell_type": "code",
   "execution_count": 12,
   "id": "12e255c9",
   "metadata": {},
   "outputs": [
    {
     "name": "stdout",
     "output_type": "stream",
     "text": [
      "Число явных дубликатов в датафрейме: 0\n"
     ]
    },
    {
     "data": {
      "text/html": [
       "<style  type=\"text/css\" >\n",
       "#T_6539c_row0_col0,#T_6539c_row1_col0,#T_6539c_row2_col0,#T_6539c_row3_col0,#T_6539c_row4_col0{\n",
       "            background-color:  #3b4cc0;\n",
       "            color:  #f1f1f1;\n",
       "        }</style><table id=\"T_6539c_\" ><thead>    <tr>        <th class=\"blank level0\" ></th>        <th class=\"col_heading level0 col0\" >0</th>    </tr></thead><tbody>\n",
       "                <tr>\n",
       "                        <th id=\"T_6539c_level0_row0\" class=\"row_heading level0 row0\" >user_id</th>\n",
       "                        <td id=\"T_6539c_row0_col0\" class=\"data row0 col0\" >0.000000</td>\n",
       "            </tr>\n",
       "            <tr>\n",
       "                        <th id=\"T_6539c_level0_row1\" class=\"row_heading level0 row1\" >name</th>\n",
       "                        <td id=\"T_6539c_row1_col0\" class=\"data row1 col0\" >0.000000</td>\n",
       "            </tr>\n",
       "            <tr>\n",
       "                        <th id=\"T_6539c_level0_row2\" class=\"row_heading level0 row2\" >age</th>\n",
       "                        <td id=\"T_6539c_row2_col0\" class=\"data row2 col0\" >0.000000</td>\n",
       "            </tr>\n",
       "            <tr>\n",
       "                        <th id=\"T_6539c_level0_row3\" class=\"row_heading level0 row3\" >city</th>\n",
       "                        <td id=\"T_6539c_row3_col0\" class=\"data row3 col0\" >0.000000</td>\n",
       "            </tr>\n",
       "            <tr>\n",
       "                        <th id=\"T_6539c_level0_row4\" class=\"row_heading level0 row4\" >subscription_type</th>\n",
       "                        <td id=\"T_6539c_row4_col0\" class=\"data row4 col0\" >0.000000</td>\n",
       "            </tr>\n",
       "    </tbody></table>"
      ],
      "text/plain": [
       "<pandas.io.formats.style.Styler at 0x7f9ea9310fd0>"
      ]
     },
     "metadata": {},
     "output_type": "display_data"
    }
   ],
   "source": [
    "df_user_go = df_user_go.drop_duplicates()\n",
    "datafraim_null_n_dublicates(df_user_go)"
   ]
  },
  {
   "cell_type": "markdown",
   "id": "51e1f4d6",
   "metadata": {},
   "source": [
    "Проверим колонки name и city на наличие неявных дубликатов"
   ]
  },
  {
   "cell_type": "code",
   "execution_count": 13,
   "id": "33903fbb",
   "metadata": {},
   "outputs": [
    {
     "name": "stdout",
     "output_type": "stream",
     "text": [
      "Пятигорск         219\n",
      "Екатеринбург      204\n",
      "Ростов-на-Дону    198\n",
      "Краснодар         193\n",
      "Сочи              189\n",
      "Омск              183\n",
      "Тюмень            180\n",
      "Москва            168\n",
      "Name: city, dtype: int64\n"
     ]
    }
   ],
   "source": [
    "print(df_user_go['city'].value_counts())"
   ]
  },
  {
   "cell_type": "code",
   "execution_count": 14,
   "id": "f11d38d3",
   "metadata": {},
   "outputs": [
    {
     "name": "stdout",
     "output_type": "stream",
     "text": [
      "Мария        22\n",
      "Анна         22\n",
      "Александр    17\n",
      "Дмитрий      17\n",
      "Никита       16\n",
      "             ..\n",
      "Алина         3\n",
      "Семен         2\n",
      "Радмир        1\n",
      "Тихон         1\n",
      "Милана        1\n",
      "Name: name, Length: 194, dtype: int64\n"
     ]
    }
   ],
   "source": [
    "print(df_user_go['name'].value_counts())"
   ]
  },
  {
   "cell_type": "markdown",
   "id": "bfb79442",
   "metadata": {},
   "source": [
    "Неявных дубликатов не обнаружено. Перейдем в сл.таблице - с поездками"
   ]
  },
  {
   "cell_type": "code",
   "execution_count": 15,
   "id": "e711542c",
   "metadata": {},
   "outputs": [
    {
     "name": "stdout",
     "output_type": "stream",
     "text": [
      "Число явных дубликатов в датафрейме: 0\n"
     ]
    },
    {
     "data": {
      "text/html": [
       "<style  type=\"text/css\" >\n",
       "#T_17fb6_row0_col0,#T_17fb6_row1_col0,#T_17fb6_row2_col0,#T_17fb6_row3_col0,#T_17fb6_row4_col0{\n",
       "            background-color:  #3b4cc0;\n",
       "            color:  #f1f1f1;\n",
       "        }</style><table id=\"T_17fb6_\" ><thead>    <tr>        <th class=\"blank level0\" ></th>        <th class=\"col_heading level0 col0\" >0</th>    </tr></thead><tbody>\n",
       "                <tr>\n",
       "                        <th id=\"T_17fb6_level0_row0\" class=\"row_heading level0 row0\" >user_id</th>\n",
       "                        <td id=\"T_17fb6_row0_col0\" class=\"data row0 col0\" >0.000000</td>\n",
       "            </tr>\n",
       "            <tr>\n",
       "                        <th id=\"T_17fb6_level0_row1\" class=\"row_heading level0 row1\" >distance</th>\n",
       "                        <td id=\"T_17fb6_row1_col0\" class=\"data row1 col0\" >0.000000</td>\n",
       "            </tr>\n",
       "            <tr>\n",
       "                        <th id=\"T_17fb6_level0_row2\" class=\"row_heading level0 row2\" >duration</th>\n",
       "                        <td id=\"T_17fb6_row2_col0\" class=\"data row2 col0\" >0.000000</td>\n",
       "            </tr>\n",
       "            <tr>\n",
       "                        <th id=\"T_17fb6_level0_row3\" class=\"row_heading level0 row3\" >date</th>\n",
       "                        <td id=\"T_17fb6_row3_col0\" class=\"data row3 col0\" >0.000000</td>\n",
       "            </tr>\n",
       "            <tr>\n",
       "                        <th id=\"T_17fb6_level0_row4\" class=\"row_heading level0 row4\" >month_of_date</th>\n",
       "                        <td id=\"T_17fb6_row4_col0\" class=\"data row4 col0\" >0.000000</td>\n",
       "            </tr>\n",
       "    </tbody></table>"
      ],
      "text/plain": [
       "<pandas.io.formats.style.Styler at 0x7f9ea90ffa00>"
      ]
     },
     "metadata": {},
     "output_type": "display_data"
    }
   ],
   "source": [
    "datafraim_null_n_dublicates(df_rides_go)"
   ]
  },
  {
   "cell_type": "markdown",
   "id": "d0c919e0",
   "metadata": {},
   "source": [
    "Выявим какой временной промежуток поездок предоставлен для анализа (пригодится в будущем):"
   ]
  },
  {
   "cell_type": "code",
   "execution_count": 16,
   "id": "f1ddf4ad",
   "metadata": {},
   "outputs": [
    {
     "name": "stdout",
     "output_type": "stream",
     "text": [
      "Минимальная дата поездки: 2021-01-01 00:00:00\n",
      "Максимальная дата поездки: 2021-12-30 00:00:00\n"
     ]
    }
   ],
   "source": [
    "print('Минимальная дата поездки:', df_rides_go['date'].min())\n",
    "print('Максимальная дата поездки:', df_rides_go['date'].max())"
   ]
  },
  {
   "cell_type": "markdown",
   "id": "402770b1",
   "metadata": {},
   "source": [
    "Следовательно можно сделать вывод о том что нам дана информация о поездках за один 2021 год (нет только 31 декабря)\n",
    "В этом датафрейме проверять наличие неявных дубликатов не имеет смысла\n",
    "\n",
    "Перейдем к следующему датафрейму с подписками"
   ]
  },
  {
   "cell_type": "code",
   "execution_count": 17,
   "id": "df080b8f",
   "metadata": {},
   "outputs": [
    {
     "name": "stdout",
     "output_type": "stream",
     "text": [
      "Число явных дубликатов в датафрейме: 0\n"
     ]
    },
    {
     "data": {
      "text/html": [
       "<style  type=\"text/css\" >\n",
       "#T_82cbc_row0_col0,#T_82cbc_row1_col0,#T_82cbc_row2_col0,#T_82cbc_row3_col0{\n",
       "            background-color:  #3b4cc0;\n",
       "            color:  #f1f1f1;\n",
       "        }</style><table id=\"T_82cbc_\" ><thead>    <tr>        <th class=\"blank level0\" ></th>        <th class=\"col_heading level0 col0\" >0</th>    </tr></thead><tbody>\n",
       "                <tr>\n",
       "                        <th id=\"T_82cbc_level0_row0\" class=\"row_heading level0 row0\" >subscription_type</th>\n",
       "                        <td id=\"T_82cbc_row0_col0\" class=\"data row0 col0\" >0.000000</td>\n",
       "            </tr>\n",
       "            <tr>\n",
       "                        <th id=\"T_82cbc_level0_row1\" class=\"row_heading level0 row1\" >minute_price</th>\n",
       "                        <td id=\"T_82cbc_row1_col0\" class=\"data row1 col0\" >0.000000</td>\n",
       "            </tr>\n",
       "            <tr>\n",
       "                        <th id=\"T_82cbc_level0_row2\" class=\"row_heading level0 row2\" >start_ride_price</th>\n",
       "                        <td id=\"T_82cbc_row2_col0\" class=\"data row2 col0\" >0.000000</td>\n",
       "            </tr>\n",
       "            <tr>\n",
       "                        <th id=\"T_82cbc_level0_row3\" class=\"row_heading level0 row3\" >subscription_fee</th>\n",
       "                        <td id=\"T_82cbc_row3_col0\" class=\"data row3 col0\" >0.000000</td>\n",
       "            </tr>\n",
       "    </tbody></table>"
      ],
      "text/plain": [
       "<pandas.io.formats.style.Styler at 0x7f9ea9215370>"
      ]
     },
     "metadata": {},
     "output_type": "display_data"
    }
   ],
   "source": [
    "datafraim_null_n_dublicates(df_sub_go)"
   ]
  },
  {
   "cell_type": "code",
   "execution_count": 18,
   "id": "e3b8367d",
   "metadata": {},
   "outputs": [
    {
     "data": {
      "text/html": [
       "<div>\n",
       "<style scoped>\n",
       "    .dataframe tbody tr th:only-of-type {\n",
       "        vertical-align: middle;\n",
       "    }\n",
       "\n",
       "    .dataframe tbody tr th {\n",
       "        vertical-align: top;\n",
       "    }\n",
       "\n",
       "    .dataframe thead th {\n",
       "        text-align: right;\n",
       "    }\n",
       "</style>\n",
       "<table border=\"1\" class=\"dataframe\">\n",
       "  <thead>\n",
       "    <tr style=\"text-align: right;\">\n",
       "      <th></th>\n",
       "      <th>subscription_type</th>\n",
       "      <th>minute_price</th>\n",
       "      <th>start_ride_price</th>\n",
       "      <th>subscription_fee</th>\n",
       "    </tr>\n",
       "  </thead>\n",
       "  <tbody>\n",
       "    <tr>\n",
       "      <th>0</th>\n",
       "      <td>free</td>\n",
       "      <td>8</td>\n",
       "      <td>50</td>\n",
       "      <td>0</td>\n",
       "    </tr>\n",
       "    <tr>\n",
       "      <th>1</th>\n",
       "      <td>ultra</td>\n",
       "      <td>6</td>\n",
       "      <td>0</td>\n",
       "      <td>199</td>\n",
       "    </tr>\n",
       "  </tbody>\n",
       "</table>\n",
       "</div>"
      ],
      "text/plain": [
       "  subscription_type  minute_price  start_ride_price  subscription_fee\n",
       "0              free             8                50                 0\n",
       "1             ultra             6                 0               199"
      ]
     },
     "execution_count": 18,
     "metadata": {},
     "output_type": "execute_result"
    }
   ],
   "source": [
    "df_sub_go"
   ]
  },
  {
   "cell_type": "markdown",
   "id": "ea8c53bf",
   "metadata": {},
   "source": [
    "Как можно заметить, в данной таблице нет ни пропусков, ни явных/неявных дубликатов (сверху выведена полная таблица, хранящая 2 строки)"
   ]
  },
  {
   "cell_type": "markdown",
   "id": "143d2280",
   "metadata": {},
   "source": [
    "#### Промежуточные выводы по шагу 2:\n",
    "После выполнения данного шага:\n",
    "1. Было произведено изменение типа на правильный в колонке date датафрейма df_rides_go (таблица с поездками)\n",
    "2. Выявлены явные дубликаты датафрейма df_user_go и удалены\n",
    "3. Осуществлена проверка всех 3 датафреймов на наличие пустых значений. Их выявлено не было\n",
    "4. Добавлена новая колонка, хранящая месяц поездки\n",
    "5. А также выявлено для будущих исследований временной промежуток исследования - один год (2021 год)"
   ]
  },
  {
   "cell_type": "markdown",
   "id": "ea137506",
   "metadata": {},
   "source": [
    "### Шаг 3. Исследовательский анализ данных"
   ]
  },
  {
   "cell_type": "markdown",
   "id": "52dacf6b",
   "metadata": {},
   "source": [
    "#### Частота встречаемости городов"
   ]
  },
  {
   "cell_type": "code",
   "execution_count": 19,
   "id": "8c65da03",
   "metadata": {},
   "outputs": [
    {
     "data": {
      "image/png": "[encoded data removed]",
      "text/plain": [
       "<Figure size 432x216 with 1 Axes>"
      ]
     },
     "metadata": {
      "needs_background": "light"
     },
     "output_type": "display_data"
    }
   ],
   "source": [
    "df_user_go.pivot_table(index = 'city', values = 'user_id', aggfunc = 'count').sort_values(by='user_id', ascending = True).plot( kind='barh', figsize = (6,3), grid = True)\n",
    "plt.title('Частота встречаемости городов')\n",
    "plt.xlabel('Количество пользователей')\n",
    "plt.ylabel('Города')\n",
    "plt.legend(loc='lower right')\n",
    "plt.show()"
   ]
  },
  {
   "cell_type": "code",
   "execution_count": 20,
   "id": "5bceb3a9",
   "metadata": {},
   "outputs": [
    {
     "data": {
      "text/plain": [
       "Пятигорск         219\n",
       "Екатеринбург      204\n",
       "Ростов-на-Дону    198\n",
       "Краснодар         193\n",
       "Сочи              189\n",
       "Омск              183\n",
       "Тюмень            180\n",
       "Москва            168\n",
       "Name: city, dtype: int64"
      ]
     },
     "execution_count": 20,
     "metadata": {},
     "output_type": "execute_result"
    }
   ],
   "source": [
    "df_user_go['city'].value_counts()"
   ]
  },
  {
   "cell_type": "markdown",
   "id": "385c1d90",
   "metadata": {},
   "source": [
    "##### Вывод:\n",
    "1. Датафреймы хранят информацию о пользователях и поездках из 8 городов\n",
    "2. Большая доля пользователей приходится на Пятигорск, Екатеринбург, Ростов-на-Дону, что составляет 621 человек (40.5% от общего числа пользователей)\n",
    "3. Меньше всего пользователей приходится на Москву - 168 человек (11% от общего числа пользователей)"
   ]
  },
  {
   "cell_type": "markdown",
   "id": "3c0eccf0",
   "metadata": {},
   "source": [
    "#### Cоотношение пользователей с подпиской и без подписки"
   ]
  },
  {
   "cell_type": "code",
   "execution_count": 21,
   "id": "c8ce245b",
   "metadata": {},
   "outputs": [],
   "source": [
    "table_subs = df_user_go.pivot_table(index = 'subscription_type', values = 'user_id', aggfunc = 'count').reset_index()"
   ]
  },
  {
   "cell_type": "code",
   "execution_count": 22,
   "id": "fd1aff0a",
   "metadata": {},
   "outputs": [
    {
     "data": {
      "image/png": "[encoded data removed]",
      "text/plain": [
       "<Figure size 432x144 with 1 Axes>"
      ]
     },
     "metadata": {
      "needs_background": "light"
     },
     "output_type": "display_data"
    }
   ],
   "source": [
    "table_subs.plot(x = 'subscription_type', kind='barh', figsize = (6,2), grid = True )\n",
    "plt.title('Соотношение пользователей с типом подписки')\n",
    "plt.xlabel('Число пользователей')\n",
    "plt.ylabel('Тип подписки')\n",
    "plt.show()"
   ]
  },
  {
   "cell_type": "code",
   "execution_count": 23,
   "id": "3d61fb18",
   "metadata": {},
   "outputs": [
    {
     "data": {
      "text/html": [
       "<div>\n",
       "<style scoped>\n",
       "    .dataframe tbody tr th:only-of-type {\n",
       "        vertical-align: middle;\n",
       "    }\n",
       "\n",
       "    .dataframe tbody tr th {\n",
       "        vertical-align: top;\n",
       "    }\n",
       "\n",
       "    .dataframe thead th {\n",
       "        text-align: right;\n",
       "    }\n",
       "</style>\n",
       "<table border=\"1\" class=\"dataframe\">\n",
       "  <thead>\n",
       "    <tr style=\"text-align: right;\">\n",
       "      <th></th>\n",
       "      <th>subscription_type</th>\n",
       "      <th>user_id</th>\n",
       "    </tr>\n",
       "  </thead>\n",
       "  <tbody>\n",
       "    <tr>\n",
       "      <th>0</th>\n",
       "      <td>free</td>\n",
       "      <td>835</td>\n",
       "    </tr>\n",
       "    <tr>\n",
       "      <th>1</th>\n",
       "      <td>ultra</td>\n",
       "      <td>699</td>\n",
       "    </tr>\n",
       "  </tbody>\n",
       "</table>\n",
       "</div>"
      ],
      "text/plain": [
       "  subscription_type  user_id\n",
       "0              free      835\n",
       "1             ultra      699"
      ]
     },
     "execution_count": 23,
     "metadata": {},
     "output_type": "execute_result"
    }
   ],
   "source": [
    "table_subs"
   ]
  },
  {
   "cell_type": "code",
   "execution_count": 24,
   "id": "79ebb64a",
   "metadata": {},
   "outputs": [
    {
     "data": {
      "image/png": "[encoded data removed]",
      "text/plain": [
       "<Figure size 432x288 with 1 Axes>"
      ]
     },
     "metadata": {},
     "output_type": "display_data"
    }
   ],
   "source": [
    "fig, ax = plt.subplots()\n",
    "ax.pie(table_subs['user_id'], labels=table_subs['subscription_type'], autopct='%1.1f%%')\n",
    "plt.title('Соотношение пользователей с подпиской и без подписки')\n",
    "plt.show()"
   ]
  },
  {
   "cell_type": "markdown",
   "id": "7925f61e",
   "metadata": {},
   "source": [
    "##### Выводы:\n",
    "1. В таблице представлено количество пользователей, где подписка либо отсутствует (free), либо является платной (ultra).\n",
    "2. По данным таблицы видно, что количество пользователей без подписки (free) превышает количество пользователей с платной подпиской ultra. Это может свидетельствовать о том, что большинство пользователей предпочитают пользоваться сервисом без регулярной платы за подписку (54.4% пользователей без подписки и 45.6% пользователей с подпиской)."
   ]
  },
  {
   "cell_type": "markdown",
   "id": "c20646f3",
   "metadata": {},
   "source": [
    "#### Возраст пользователей"
   ]
  },
  {
   "cell_type": "code",
   "execution_count": 25,
   "id": "6d0f6f9a",
   "metadata": {},
   "outputs": [
    {
     "data": {
      "image/png": "[encoded data removed]",
      "text/plain": [
       "<Figure size 504x504 with 1 Axes>"
      ]
     },
     "metadata": {
      "needs_background": "light"
     },
     "output_type": "display_data"
    }
   ],
   "source": [
    "df_user_go.pivot_table(index = 'age', values = 'user_id', aggfunc = 'count').reset_index().plot(x = 'age', kind='barh', figsize = (7,7), grid = True)\n",
    "plt.title('Соотношение числа пользователей с возрастом')\n",
    "plt.xlabel('Число пользователей')\n",
    "plt.ylabel('Возраст')\n",
    "plt.show()"
   ]
  },
  {
   "cell_type": "code",
   "execution_count": 26,
   "id": "4bad4c42",
   "metadata": {},
   "outputs": [
    {
     "data": {
      "text/html": [
       "<div>\n",
       "<style scoped>\n",
       "    .dataframe tbody tr th:only-of-type {\n",
       "        vertical-align: middle;\n",
       "    }\n",
       "\n",
       "    .dataframe tbody tr th {\n",
       "        vertical-align: top;\n",
       "    }\n",
       "\n",
       "    .dataframe thead th {\n",
       "        text-align: right;\n",
       "    }\n",
       "</style>\n",
       "<table border=\"1\" class=\"dataframe\">\n",
       "  <thead>\n",
       "    <tr style=\"text-align: right;\">\n",
       "      <th></th>\n",
       "      <th>age</th>\n",
       "      <th>user_id</th>\n",
       "    </tr>\n",
       "  </thead>\n",
       "  <tbody>\n",
       "    <tr>\n",
       "      <th>13</th>\n",
       "      <td>25</td>\n",
       "      <td>145</td>\n",
       "    </tr>\n",
       "    <tr>\n",
       "      <th>12</th>\n",
       "      <td>24</td>\n",
       "      <td>132</td>\n",
       "    </tr>\n",
       "    <tr>\n",
       "      <th>14</th>\n",
       "      <td>26</td>\n",
       "      <td>131</td>\n",
       "    </tr>\n",
       "    <tr>\n",
       "      <th>11</th>\n",
       "      <td>23</td>\n",
       "      <td>129</td>\n",
       "    </tr>\n",
       "    <tr>\n",
       "      <th>15</th>\n",
       "      <td>27</td>\n",
       "      <td>119</td>\n",
       "    </tr>\n",
       "    <tr>\n",
       "      <th>10</th>\n",
       "      <td>22</td>\n",
       "      <td>119</td>\n",
       "    </tr>\n",
       "    <tr>\n",
       "      <th>16</th>\n",
       "      <td>28</td>\n",
       "      <td>112</td>\n",
       "    </tr>\n",
       "    <tr>\n",
       "      <th>9</th>\n",
       "      <td>21</td>\n",
       "      <td>93</td>\n",
       "    </tr>\n",
       "    <tr>\n",
       "      <th>8</th>\n",
       "      <td>20</td>\n",
       "      <td>71</td>\n",
       "    </tr>\n",
       "    <tr>\n",
       "      <th>18</th>\n",
       "      <td>30</td>\n",
       "      <td>68</td>\n",
       "    </tr>\n",
       "    <tr>\n",
       "      <th>17</th>\n",
       "      <td>29</td>\n",
       "      <td>68</td>\n",
       "    </tr>\n",
       "    <tr>\n",
       "      <th>19</th>\n",
       "      <td>31</td>\n",
       "      <td>48</td>\n",
       "    </tr>\n",
       "    <tr>\n",
       "      <th>7</th>\n",
       "      <td>19</td>\n",
       "      <td>47</td>\n",
       "    </tr>\n",
       "    <tr>\n",
       "      <th>6</th>\n",
       "      <td>18</td>\n",
       "      <td>46</td>\n",
       "    </tr>\n",
       "    <tr>\n",
       "      <th>20</th>\n",
       "      <td>32</td>\n",
       "      <td>41</td>\n",
       "    </tr>\n",
       "    <tr>\n",
       "      <th>21</th>\n",
       "      <td>33</td>\n",
       "      <td>39</td>\n",
       "    </tr>\n",
       "    <tr>\n",
       "      <th>5</th>\n",
       "      <td>17</td>\n",
       "      <td>26</td>\n",
       "    </tr>\n",
       "    <tr>\n",
       "      <th>22</th>\n",
       "      <td>34</td>\n",
       "      <td>19</td>\n",
       "    </tr>\n",
       "    <tr>\n",
       "      <th>4</th>\n",
       "      <td>16</td>\n",
       "      <td>19</td>\n",
       "    </tr>\n",
       "    <tr>\n",
       "      <th>23</th>\n",
       "      <td>35</td>\n",
       "      <td>15</td>\n",
       "    </tr>\n",
       "    <tr>\n",
       "      <th>3</th>\n",
       "      <td>15</td>\n",
       "      <td>13</td>\n",
       "    </tr>\n",
       "    <tr>\n",
       "      <th>2</th>\n",
       "      <td>14</td>\n",
       "      <td>9</td>\n",
       "    </tr>\n",
       "    <tr>\n",
       "      <th>1</th>\n",
       "      <td>13</td>\n",
       "      <td>8</td>\n",
       "    </tr>\n",
       "    <tr>\n",
       "      <th>24</th>\n",
       "      <td>36</td>\n",
       "      <td>6</td>\n",
       "    </tr>\n",
       "    <tr>\n",
       "      <th>0</th>\n",
       "      <td>12</td>\n",
       "      <td>4</td>\n",
       "    </tr>\n",
       "    <tr>\n",
       "      <th>26</th>\n",
       "      <td>38</td>\n",
       "      <td>3</td>\n",
       "    </tr>\n",
       "    <tr>\n",
       "      <th>25</th>\n",
       "      <td>37</td>\n",
       "      <td>2</td>\n",
       "    </tr>\n",
       "    <tr>\n",
       "      <th>27</th>\n",
       "      <td>39</td>\n",
       "      <td>1</td>\n",
       "    </tr>\n",
       "    <tr>\n",
       "      <th>28</th>\n",
       "      <td>43</td>\n",
       "      <td>1</td>\n",
       "    </tr>\n",
       "  </tbody>\n",
       "</table>\n",
       "</div>"
      ],
      "text/plain": [
       "    age  user_id\n",
       "13   25      145\n",
       "12   24      132\n",
       "14   26      131\n",
       "11   23      129\n",
       "15   27      119\n",
       "10   22      119\n",
       "16   28      112\n",
       "9    21       93\n",
       "8    20       71\n",
       "18   30       68\n",
       "17   29       68\n",
       "19   31       48\n",
       "7    19       47\n",
       "6    18       46\n",
       "20   32       41\n",
       "21   33       39\n",
       "5    17       26\n",
       "22   34       19\n",
       "4    16       19\n",
       "23   35       15\n",
       "3    15       13\n",
       "2    14        9\n",
       "1    13        8\n",
       "24   36        6\n",
       "0    12        4\n",
       "26   38        3\n",
       "25   37        2\n",
       "27   39        1\n",
       "28   43        1"
      ]
     },
     "execution_count": 26,
     "metadata": {},
     "output_type": "execute_result"
    }
   ],
   "source": [
    "df_user_go.pivot_table(index = 'age', values = 'user_id', aggfunc = 'count').reset_index().sort_values(by = 'user_id', ascending = False)"
   ]
  },
  {
   "cell_type": "code",
   "execution_count": 27,
   "id": "23199a3e",
   "metadata": {},
   "outputs": [
    {
     "data": {
      "image/png": "[encoded data removed]",
      "text/plain": [
       "<Figure size 504x216 with 1 Axes>"
      ]
     },
     "metadata": {
      "needs_background": "light"
     },
     "output_type": "display_data"
    },
    {
     "data": {
      "text/plain": [
       "count    1534.000000\n",
       "mean       24.903520\n",
       "std         4.572367\n",
       "min        12.000000\n",
       "25%        22.000000\n",
       "50%        25.000000\n",
       "75%        28.000000\n",
       "max        43.000000\n",
       "Name: age, dtype: float64"
      ]
     },
     "execution_count": 27,
     "metadata": {},
     "output_type": "execute_result"
    }
   ],
   "source": [
    "df_user_go['age'].plot(kind = 'hist', grid=True, figsize = (7,3), bins = 30)\n",
    "plt.title('Возраст пользователей')\n",
    "plt.xlabel('возраст')\n",
    "plt.ylabel('Число пользователей пользователей')\n",
    "plt.show()\n",
    "df_user_go['age'].describe()"
   ]
  },
  {
   "cell_type": "markdown",
   "id": "55c4afda",
   "metadata": {},
   "source": [
    "##### Вывод\n",
    "1. Наибольшее количество пользователей в возрасте от 10 до 20 лет: Наибольшее количество пользователей сконцентрировано в возрастной группе от 10 до 20 лет, что может свидетельствовать о популярности приложения среди подростков и молодежи, которые активно используют самокаты в городской среде\n",
    "2. Снижение числа пользователей с увеличением возраста: С увеличением возраста количество пользователей постепенно уменьшается, что вполне естественно, учитывая, что использование самоката может быть менее привлекательным для старших возрастных групп из-за физических ограничений или изменения интересов.\n",
    "3. Выборка имеет нормальное распределение. Медиана и средний возраст практически совпадают (25 и 24,9 лет соответственно)"
   ]
  },
  {
   "cell_type": "markdown",
   "id": "37d302b9",
   "metadata": {},
   "source": [
    "#### Расстояние, которое пользователь преодолел за одну поездку"
   ]
  },
  {
   "cell_type": "code",
   "execution_count": 28,
   "id": "4a6c3818",
   "metadata": {},
   "outputs": [
    {
     "data": {
      "image/png": "[encoded data removed]",
      "text/plain": [
       "<Figure size 504x216 with 1 Axes>"
      ]
     },
     "metadata": {
      "needs_background": "light"
     },
     "output_type": "display_data"
    },
    {
     "data": {
      "text/plain": [
       "count    18068.000000\n",
       "mean      3070.659976\n",
       "std       1116.831209\n",
       "min          0.855683\n",
       "25%       2543.226360\n",
       "50%       3133.609994\n",
       "75%       3776.222735\n",
       "max       7211.007745\n",
       "Name: distance, dtype: float64"
      ]
     },
     "execution_count": 28,
     "metadata": {},
     "output_type": "execute_result"
    }
   ],
   "source": [
    "df_rides_go['distance'].plot(kind = 'hist', grid=True, figsize = (7,3), bins = 30)\n",
    "plt.title('Расстояние одной поездки')\n",
    "plt.xlabel('расстояние, м')\n",
    "plt.ylabel('количество пользователей')\n",
    "plt.show()\n",
    "df_rides_go['distance'].describe()"
   ]
  },
  {
   "cell_type": "markdown",
   "id": "90d6a1d9",
   "metadata": {},
   "source": [
    "##### Вывод\n",
    "В большинстве случаев, среднее расстояние поездок составляет более 3 километров. Однако, есть небольшой пик около расстояния в 600 метров, что может указывать на то, что некоторые пользователи совершают короткие поездки, возможно, чтобы добраться до ближайших станций метро или других общественных транспортных средств."
   ]
  },
  {
   "cell_type": "markdown",
   "id": "0aecfd4d",
   "metadata": {},
   "source": [
    "#### Продолжительность поездок"
   ]
  },
  {
   "cell_type": "code",
   "execution_count": 29,
   "id": "7ff857be",
   "metadata": {},
   "outputs": [
    {
     "data": {
      "image/png": "[encoded data removed]",
      "text/plain": [
       "<Figure size 504x216 with 1 Axes>"
      ]
     },
     "metadata": {
      "needs_background": "light"
     },
     "output_type": "display_data"
    },
    {
     "data": {
      "text/plain": [
       "count    18068.000000\n",
       "mean        17.805011\n",
       "std          6.091051\n",
       "min          0.500000\n",
       "25%         13.597563\n",
       "50%         17.678395\n",
       "75%         21.724800\n",
       "max         40.823963\n",
       "Name: duration, dtype: float64"
      ]
     },
     "execution_count": 29,
     "metadata": {},
     "output_type": "execute_result"
    }
   ],
   "source": [
    "df_rides_go['duration'].plot(kind = 'hist', grid=True, figsize = (7,3), bins = 30)\n",
    "plt.title('Продолжительность одной поездки')\n",
    "plt.xlabel('время, мин')\n",
    "plt.ylabel('количество пользователей')\n",
    "plt.show()\n",
    "df_rides_go['duration'].describe()"
   ]
  },
  {
   "cell_type": "markdown",
   "id": "bd73ad9b",
   "metadata": {},
   "source": [
    "##### Вывод:\n",
    "1. Пользователи берут самокат в аренду в среднем на ~18 минут\n",
    "2. Распределение не содержит выбросов, имеет нормальное распределение"
   ]
  },
  {
   "cell_type": "markdown",
   "id": "95378e16",
   "metadata": {},
   "source": [
    "#### Промежуточный вывод шага 3\n",
    "После исследования данных на шаге 3 можно сделать вывод, что:\n",
    "1. Данные хранят информацию о пользователях и поездках из 8 городов\n",
    "2. Большая доля пользователей приходится на Пятигорск, Екатеринбург, Ростов-на-Дону, что составляет 621 человек (40.5% от общего числа пользователей)\n",
    "3. Меньше всего пользователей приходится на Москву - 168 человек (11% от общего числа пользователей)\n",
    "4. Количество пользователей без подписки (free) превышает количество пользователей с платной подпиской ultra. Это может свидетельствовать о том, что большинство пользователей предпочитают пользоваться сервисом без регулярной платы за подписку (54.4% пользователей без подписки и 45.6% пользователей с подпиской).\n",
    "5. Наибольшее количество пользователей в возрасте от 10 до 20 лет: Наибольшее количество пользователей сконцентрировано в возрастной группе от 10 до 20 лет, что может свидетельствовать о популярности приложения среди подростков и молодежи, которые активно используют самокаты в городской среде\n",
    "6. Снижение числа пользователей с увеличением возраста: С увеличением возраста количество пользователей постепенно уменьшается, что вполне естественно, учитывая, что использование самоката может быть менее привлекательным для старших возрастных групп из-за физических ограничений или изменения интересов.\n",
    "7. В большинстве случаев, среднее расстояние поездок составляет более 3 километров. Однако, есть небольшой пик около расстояния в 600 метров, что может указывать на то, что некоторые пользователи совершают короткие поездки, возможно, чтобы добраться до ближайших станций метро или других общественных транспортных средств.\n",
    "8. Пользователи берут самокат в аренду в среднем на ~18 минут"
   ]
  },
  {
   "cell_type": "markdown",
   "id": "7fe04a94",
   "metadata": {},
   "source": [
    "### Шаг 4. Объединение данных"
   ]
  },
  {
   "cell_type": "markdown",
   "id": "cdd7cea5",
   "metadata": {},
   "source": [
    "Объединим все три датафрейма в один для удобства дальнейшего использования:"
   ]
  },
  {
   "cell_type": "code",
   "execution_count": 30,
   "id": "7744cea2",
   "metadata": {},
   "outputs": [
    {
     "data": {
      "text/html": [
       "<div>\n",
       "<style scoped>\n",
       "    .dataframe tbody tr th:only-of-type {\n",
       "        vertical-align: middle;\n",
       "    }\n",
       "\n",
       "    .dataframe tbody tr th {\n",
       "        vertical-align: top;\n",
       "    }\n",
       "\n",
       "    .dataframe thead th {\n",
       "        text-align: right;\n",
       "    }\n",
       "</style>\n",
       "<table border=\"1\" class=\"dataframe\">\n",
       "  <thead>\n",
       "    <tr style=\"text-align: right;\">\n",
       "      <th></th>\n",
       "      <th>user_id</th>\n",
       "      <th>distance</th>\n",
       "      <th>duration</th>\n",
       "      <th>date</th>\n",
       "      <th>month_of_date</th>\n",
       "      <th>name</th>\n",
       "      <th>age</th>\n",
       "      <th>city</th>\n",
       "      <th>subscription_type</th>\n",
       "      <th>minute_price</th>\n",
       "      <th>start_ride_price</th>\n",
       "      <th>subscription_fee</th>\n",
       "    </tr>\n",
       "  </thead>\n",
       "  <tbody>\n",
       "    <tr>\n",
       "      <th>0</th>\n",
       "      <td>1</td>\n",
       "      <td>4409.919140</td>\n",
       "      <td>25.599769</td>\n",
       "      <td>2021-01-01</td>\n",
       "      <td>1</td>\n",
       "      <td>Кира</td>\n",
       "      <td>22</td>\n",
       "      <td>Тюмень</td>\n",
       "      <td>ultra</td>\n",
       "      <td>6</td>\n",
       "      <td>0</td>\n",
       "      <td>199</td>\n",
       "    </tr>\n",
       "    <tr>\n",
       "      <th>1</th>\n",
       "      <td>1</td>\n",
       "      <td>2617.592153</td>\n",
       "      <td>15.816871</td>\n",
       "      <td>2021-01-18</td>\n",
       "      <td>1</td>\n",
       "      <td>Кира</td>\n",
       "      <td>22</td>\n",
       "      <td>Тюмень</td>\n",
       "      <td>ultra</td>\n",
       "      <td>6</td>\n",
       "      <td>0</td>\n",
       "      <td>199</td>\n",
       "    </tr>\n",
       "    <tr>\n",
       "      <th>2</th>\n",
       "      <td>1</td>\n",
       "      <td>754.159807</td>\n",
       "      <td>6.232113</td>\n",
       "      <td>2021-04-20</td>\n",
       "      <td>4</td>\n",
       "      <td>Кира</td>\n",
       "      <td>22</td>\n",
       "      <td>Тюмень</td>\n",
       "      <td>ultra</td>\n",
       "      <td>6</td>\n",
       "      <td>0</td>\n",
       "      <td>199</td>\n",
       "    </tr>\n",
       "    <tr>\n",
       "      <th>3</th>\n",
       "      <td>1</td>\n",
       "      <td>2694.783254</td>\n",
       "      <td>18.511000</td>\n",
       "      <td>2021-08-11</td>\n",
       "      <td>8</td>\n",
       "      <td>Кира</td>\n",
       "      <td>22</td>\n",
       "      <td>Тюмень</td>\n",
       "      <td>ultra</td>\n",
       "      <td>6</td>\n",
       "      <td>0</td>\n",
       "      <td>199</td>\n",
       "    </tr>\n",
       "    <tr>\n",
       "      <th>4</th>\n",
       "      <td>1</td>\n",
       "      <td>4028.687306</td>\n",
       "      <td>26.265803</td>\n",
       "      <td>2021-08-28</td>\n",
       "      <td>8</td>\n",
       "      <td>Кира</td>\n",
       "      <td>22</td>\n",
       "      <td>Тюмень</td>\n",
       "      <td>ultra</td>\n",
       "      <td>6</td>\n",
       "      <td>0</td>\n",
       "      <td>199</td>\n",
       "    </tr>\n",
       "    <tr>\n",
       "      <th>...</th>\n",
       "      <td>...</td>\n",
       "      <td>...</td>\n",
       "      <td>...</td>\n",
       "      <td>...</td>\n",
       "      <td>...</td>\n",
       "      <td>...</td>\n",
       "      <td>...</td>\n",
       "      <td>...</td>\n",
       "      <td>...</td>\n",
       "      <td>...</td>\n",
       "      <td>...</td>\n",
       "      <td>...</td>\n",
       "    </tr>\n",
       "    <tr>\n",
       "      <th>18063</th>\n",
       "      <td>1534</td>\n",
       "      <td>3781.098080</td>\n",
       "      <td>19.822962</td>\n",
       "      <td>2021-11-04</td>\n",
       "      <td>11</td>\n",
       "      <td>Альберт</td>\n",
       "      <td>25</td>\n",
       "      <td>Краснодар</td>\n",
       "      <td>free</td>\n",
       "      <td>8</td>\n",
       "      <td>50</td>\n",
       "      <td>0</td>\n",
       "    </tr>\n",
       "    <tr>\n",
       "      <th>18064</th>\n",
       "      <td>1534</td>\n",
       "      <td>2840.423057</td>\n",
       "      <td>21.409799</td>\n",
       "      <td>2021-11-16</td>\n",
       "      <td>11</td>\n",
       "      <td>Альберт</td>\n",
       "      <td>25</td>\n",
       "      <td>Краснодар</td>\n",
       "      <td>free</td>\n",
       "      <td>8</td>\n",
       "      <td>50</td>\n",
       "      <td>0</td>\n",
       "    </tr>\n",
       "    <tr>\n",
       "      <th>18065</th>\n",
       "      <td>1534</td>\n",
       "      <td>3826.185507</td>\n",
       "      <td>18.435051</td>\n",
       "      <td>2021-11-18</td>\n",
       "      <td>11</td>\n",
       "      <td>Альберт</td>\n",
       "      <td>25</td>\n",
       "      <td>Краснодар</td>\n",
       "      <td>free</td>\n",
       "      <td>8</td>\n",
       "      <td>50</td>\n",
       "      <td>0</td>\n",
       "    </tr>\n",
       "    <tr>\n",
       "      <th>18066</th>\n",
       "      <td>1534</td>\n",
       "      <td>2902.308661</td>\n",
       "      <td>16.674362</td>\n",
       "      <td>2021-11-27</td>\n",
       "      <td>11</td>\n",
       "      <td>Альберт</td>\n",
       "      <td>25</td>\n",
       "      <td>Краснодар</td>\n",
       "      <td>free</td>\n",
       "      <td>8</td>\n",
       "      <td>50</td>\n",
       "      <td>0</td>\n",
       "    </tr>\n",
       "    <tr>\n",
       "      <th>18067</th>\n",
       "      <td>1534</td>\n",
       "      <td>2371.711192</td>\n",
       "      <td>15.893917</td>\n",
       "      <td>2021-12-29</td>\n",
       "      <td>12</td>\n",
       "      <td>Альберт</td>\n",
       "      <td>25</td>\n",
       "      <td>Краснодар</td>\n",
       "      <td>free</td>\n",
       "      <td>8</td>\n",
       "      <td>50</td>\n",
       "      <td>0</td>\n",
       "    </tr>\n",
       "  </tbody>\n",
       "</table>\n",
       "<p>18068 rows × 12 columns</p>\n",
       "</div>"
      ],
      "text/plain": [
       "       user_id     distance   duration       date  month_of_date     name  \\\n",
       "0            1  4409.919140  25.599769 2021-01-01              1     Кира   \n",
       "1            1  2617.592153  15.816871 2021-01-18              1     Кира   \n",
       "2            1   754.159807   6.232113 2021-04-20              4     Кира   \n",
       "3            1  2694.783254  18.511000 2021-08-11              8     Кира   \n",
       "4            1  4028.687306  26.265803 2021-08-28              8     Кира   \n",
       "...        ...          ...        ...        ...            ...      ...   \n",
       "18063     1534  3781.098080  19.822962 2021-11-04             11  Альберт   \n",
       "18064     1534  2840.423057  21.409799 2021-11-16             11  Альберт   \n",
       "18065     1534  3826.185507  18.435051 2021-11-18             11  Альберт   \n",
       "18066     1534  2902.308661  16.674362 2021-11-27             11  Альберт   \n",
       "18067     1534  2371.711192  15.893917 2021-12-29             12  Альберт   \n",
       "\n",
       "       age       city subscription_type  minute_price  start_ride_price  \\\n",
       "0       22     Тюмень             ultra             6                 0   \n",
       "1       22     Тюмень             ultra             6                 0   \n",
       "2       22     Тюмень             ultra             6                 0   \n",
       "3       22     Тюмень             ultra             6                 0   \n",
       "4       22     Тюмень             ultra             6                 0   \n",
       "...    ...        ...               ...           ...               ...   \n",
       "18063   25  Краснодар              free             8                50   \n",
       "18064   25  Краснодар              free             8                50   \n",
       "18065   25  Краснодар              free             8                50   \n",
       "18066   25  Краснодар              free             8                50   \n",
       "18067   25  Краснодар              free             8                50   \n",
       "\n",
       "       subscription_fee  \n",
       "0                   199  \n",
       "1                   199  \n",
       "2                   199  \n",
       "3                   199  \n",
       "4                   199  \n",
       "...                 ...  \n",
       "18063                 0  \n",
       "18064                 0  \n",
       "18065                 0  \n",
       "18066                 0  \n",
       "18067                 0  \n",
       "\n",
       "[18068 rows x 12 columns]"
      ]
     },
     "execution_count": 30,
     "metadata": {},
     "output_type": "execute_result"
    }
   ],
   "source": [
    "df_all = df_rides_go\n",
    "df_all = df_all.merge(df_user_go, how = 'left', on = 'user_id')\n",
    "df_all = df_all.merge(df_sub_go, how = 'left', on='subscription_type')\n",
    "df_all"
   ]
  },
  {
   "cell_type": "code",
   "execution_count": 31,
   "id": "249b83e1",
   "metadata": {},
   "outputs": [
    {
     "data": {
      "text/html": [
       "<div>\n",
       "<style scoped>\n",
       "    .dataframe tbody tr th:only-of-type {\n",
       "        vertical-align: middle;\n",
       "    }\n",
       "\n",
       "    .dataframe tbody tr th {\n",
       "        vertical-align: top;\n",
       "    }\n",
       "\n",
       "    .dataframe thead th {\n",
       "        text-align: right;\n",
       "    }\n",
       "</style>\n",
       "<table border=\"1\" class=\"dataframe\">\n",
       "  <thead>\n",
       "    <tr style=\"text-align: right;\">\n",
       "      <th></th>\n",
       "      <th>user_id</th>\n",
       "      <th>distance</th>\n",
       "      <th>duration</th>\n",
       "      <th>date</th>\n",
       "      <th>month_of_date</th>\n",
       "    </tr>\n",
       "  </thead>\n",
       "  <tbody>\n",
       "    <tr>\n",
       "      <th>0</th>\n",
       "      <td>1</td>\n",
       "      <td>4409.919140</td>\n",
       "      <td>25.599769</td>\n",
       "      <td>2021-01-01</td>\n",
       "      <td>1</td>\n",
       "    </tr>\n",
       "    <tr>\n",
       "      <th>1</th>\n",
       "      <td>1</td>\n",
       "      <td>2617.592153</td>\n",
       "      <td>15.816871</td>\n",
       "      <td>2021-01-18</td>\n",
       "      <td>1</td>\n",
       "    </tr>\n",
       "    <tr>\n",
       "      <th>2</th>\n",
       "      <td>1</td>\n",
       "      <td>754.159807</td>\n",
       "      <td>6.232113</td>\n",
       "      <td>2021-04-20</td>\n",
       "      <td>4</td>\n",
       "    </tr>\n",
       "    <tr>\n",
       "      <th>3</th>\n",
       "      <td>1</td>\n",
       "      <td>2694.783254</td>\n",
       "      <td>18.511000</td>\n",
       "      <td>2021-08-11</td>\n",
       "      <td>8</td>\n",
       "    </tr>\n",
       "    <tr>\n",
       "      <th>4</th>\n",
       "      <td>1</td>\n",
       "      <td>4028.687306</td>\n",
       "      <td>26.265803</td>\n",
       "      <td>2021-08-28</td>\n",
       "      <td>8</td>\n",
       "    </tr>\n",
       "    <tr>\n",
       "      <th>...</th>\n",
       "      <td>...</td>\n",
       "      <td>...</td>\n",
       "      <td>...</td>\n",
       "      <td>...</td>\n",
       "      <td>...</td>\n",
       "    </tr>\n",
       "    <tr>\n",
       "      <th>18063</th>\n",
       "      <td>1534</td>\n",
       "      <td>3781.098080</td>\n",
       "      <td>19.822962</td>\n",
       "      <td>2021-11-04</td>\n",
       "      <td>11</td>\n",
       "    </tr>\n",
       "    <tr>\n",
       "      <th>18064</th>\n",
       "      <td>1534</td>\n",
       "      <td>2840.423057</td>\n",
       "      <td>21.409799</td>\n",
       "      <td>2021-11-16</td>\n",
       "      <td>11</td>\n",
       "    </tr>\n",
       "    <tr>\n",
       "      <th>18065</th>\n",
       "      <td>1534</td>\n",
       "      <td>3826.185507</td>\n",
       "      <td>18.435051</td>\n",
       "      <td>2021-11-18</td>\n",
       "      <td>11</td>\n",
       "    </tr>\n",
       "    <tr>\n",
       "      <th>18066</th>\n",
       "      <td>1534</td>\n",
       "      <td>2902.308661</td>\n",
       "      <td>16.674362</td>\n",
       "      <td>2021-11-27</td>\n",
       "      <td>11</td>\n",
       "    </tr>\n",
       "    <tr>\n",
       "      <th>18067</th>\n",
       "      <td>1534</td>\n",
       "      <td>2371.711192</td>\n",
       "      <td>15.893917</td>\n",
       "      <td>2021-12-29</td>\n",
       "      <td>12</td>\n",
       "    </tr>\n",
       "  </tbody>\n",
       "</table>\n",
       "<p>18068 rows × 5 columns</p>\n",
       "</div>"
      ],
      "text/plain": [
       "       user_id     distance   duration       date  month_of_date\n",
       "0            1  4409.919140  25.599769 2021-01-01              1\n",
       "1            1  2617.592153  15.816871 2021-01-18              1\n",
       "2            1   754.159807   6.232113 2021-04-20              4\n",
       "3            1  2694.783254  18.511000 2021-08-11              8\n",
       "4            1  4028.687306  26.265803 2021-08-28              8\n",
       "...        ...          ...        ...        ...            ...\n",
       "18063     1534  3781.098080  19.822962 2021-11-04             11\n",
       "18064     1534  2840.423057  21.409799 2021-11-16             11\n",
       "18065     1534  3826.185507  18.435051 2021-11-18             11\n",
       "18066     1534  2902.308661  16.674362 2021-11-27             11\n",
       "18067     1534  2371.711192  15.893917 2021-12-29             12\n",
       "\n",
       "[18068 rows x 5 columns]"
      ]
     },
     "execution_count": 31,
     "metadata": {},
     "output_type": "execute_result"
    }
   ],
   "source": [
    "df_rides_go"
   ]
  },
  {
   "cell_type": "markdown",
   "id": "8ce87970",
   "metadata": {},
   "source": [
    "Проверим, что данные объединились без пропусков и дубликатов"
   ]
  },
  {
   "cell_type": "code",
   "execution_count": 32,
   "id": "b76b7912",
   "metadata": {},
   "outputs": [
    {
     "name": "stdout",
     "output_type": "stream",
     "text": [
      "Число явных дубликатов в датафрейме: 0\n"
     ]
    },
    {
     "data": {
      "text/html": [
       "<style  type=\"text/css\" >\n",
       "#T_40a30_row0_col0,#T_40a30_row1_col0,#T_40a30_row2_col0,#T_40a30_row3_col0,#T_40a30_row4_col0,#T_40a30_row5_col0,#T_40a30_row6_col0,#T_40a30_row7_col0,#T_40a30_row8_col0,#T_40a30_row9_col0,#T_40a30_row10_col0,#T_40a30_row11_col0{\n",
       "            background-color:  #3b4cc0;\n",
       "            color:  #f1f1f1;\n",
       "        }</style><table id=\"T_40a30_\" ><thead>    <tr>        <th class=\"blank level0\" ></th>        <th class=\"col_heading level0 col0\" >0</th>    </tr></thead><tbody>\n",
       "                <tr>\n",
       "                        <th id=\"T_40a30_level0_row0\" class=\"row_heading level0 row0\" >user_id</th>\n",
       "                        <td id=\"T_40a30_row0_col0\" class=\"data row0 col0\" >0.000000</td>\n",
       "            </tr>\n",
       "            <tr>\n",
       "                        <th id=\"T_40a30_level0_row1\" class=\"row_heading level0 row1\" >distance</th>\n",
       "                        <td id=\"T_40a30_row1_col0\" class=\"data row1 col0\" >0.000000</td>\n",
       "            </tr>\n",
       "            <tr>\n",
       "                        <th id=\"T_40a30_level0_row2\" class=\"row_heading level0 row2\" >duration</th>\n",
       "                        <td id=\"T_40a30_row2_col0\" class=\"data row2 col0\" >0.000000</td>\n",
       "            </tr>\n",
       "            <tr>\n",
       "                        <th id=\"T_40a30_level0_row3\" class=\"row_heading level0 row3\" >date</th>\n",
       "                        <td id=\"T_40a30_row3_col0\" class=\"data row3 col0\" >0.000000</td>\n",
       "            </tr>\n",
       "            <tr>\n",
       "                        <th id=\"T_40a30_level0_row4\" class=\"row_heading level0 row4\" >month_of_date</th>\n",
       "                        <td id=\"T_40a30_row4_col0\" class=\"data row4 col0\" >0.000000</td>\n",
       "            </tr>\n",
       "            <tr>\n",
       "                        <th id=\"T_40a30_level0_row5\" class=\"row_heading level0 row5\" >name</th>\n",
       "                        <td id=\"T_40a30_row5_col0\" class=\"data row5 col0\" >0.000000</td>\n",
       "            </tr>\n",
       "            <tr>\n",
       "                        <th id=\"T_40a30_level0_row6\" class=\"row_heading level0 row6\" >age</th>\n",
       "                        <td id=\"T_40a30_row6_col0\" class=\"data row6 col0\" >0.000000</td>\n",
       "            </tr>\n",
       "            <tr>\n",
       "                        <th id=\"T_40a30_level0_row7\" class=\"row_heading level0 row7\" >city</th>\n",
       "                        <td id=\"T_40a30_row7_col0\" class=\"data row7 col0\" >0.000000</td>\n",
       "            </tr>\n",
       "            <tr>\n",
       "                        <th id=\"T_40a30_level0_row8\" class=\"row_heading level0 row8\" >subscription_type</th>\n",
       "                        <td id=\"T_40a30_row8_col0\" class=\"data row8 col0\" >0.000000</td>\n",
       "            </tr>\n",
       "            <tr>\n",
       "                        <th id=\"T_40a30_level0_row9\" class=\"row_heading level0 row9\" >minute_price</th>\n",
       "                        <td id=\"T_40a30_row9_col0\" class=\"data row9 col0\" >0.000000</td>\n",
       "            </tr>\n",
       "            <tr>\n",
       "                        <th id=\"T_40a30_level0_row10\" class=\"row_heading level0 row10\" >start_ride_price</th>\n",
       "                        <td id=\"T_40a30_row10_col0\" class=\"data row10 col0\" >0.000000</td>\n",
       "            </tr>\n",
       "            <tr>\n",
       "                        <th id=\"T_40a30_level0_row11\" class=\"row_heading level0 row11\" >subscription_fee</th>\n",
       "                        <td id=\"T_40a30_row11_col0\" class=\"data row11 col0\" >0.000000</td>\n",
       "            </tr>\n",
       "    </tbody></table>"
      ],
      "text/plain": [
       "<pandas.io.formats.style.Styler at 0x7f9ea0d1dc70>"
      ]
     },
     "metadata": {},
     "output_type": "display_data"
    }
   ],
   "source": [
    "datafraim_null_n_dublicates(df_all)"
   ]
  },
  {
   "cell_type": "markdown",
   "id": "a530c0d2",
   "metadata": {},
   "source": [
    "Как можно заметить, явных дубликатов не появилось, как и пропусков. Также исходя из того, что все таблицы объединялись с таблицой по поездкам, в которой 18068 строк и в получившемся датафрейме столько же строк, можно сделать вывод о том что данные объединены успешно\n",
    "\n",
    "Создадим еще 2 датафрейма (основанные на общем датафрейме, созданном выше): о пользователях без подписки и с подпиской"
   ]
  },
  {
   "cell_type": "code",
   "execution_count": 33,
   "id": "70b909b2",
   "metadata": {},
   "outputs": [
    {
     "data": {
      "text/html": [
       "<div>\n",
       "<style scoped>\n",
       "    .dataframe tbody tr th:only-of-type {\n",
       "        vertical-align: middle;\n",
       "    }\n",
       "\n",
       "    .dataframe tbody tr th {\n",
       "        vertical-align: top;\n",
       "    }\n",
       "\n",
       "    .dataframe thead th {\n",
       "        text-align: right;\n",
       "    }\n",
       "</style>\n",
       "<table border=\"1\" class=\"dataframe\">\n",
       "  <thead>\n",
       "    <tr style=\"text-align: right;\">\n",
       "      <th></th>\n",
       "      <th>user_id</th>\n",
       "      <th>distance</th>\n",
       "      <th>duration</th>\n",
       "      <th>date</th>\n",
       "      <th>month_of_date</th>\n",
       "      <th>name</th>\n",
       "      <th>age</th>\n",
       "      <th>city</th>\n",
       "      <th>subscription_type</th>\n",
       "      <th>minute_price</th>\n",
       "      <th>start_ride_price</th>\n",
       "      <th>subscription_fee</th>\n",
       "    </tr>\n",
       "  </thead>\n",
       "  <tbody>\n",
       "    <tr>\n",
       "      <th>0</th>\n",
       "      <td>700</td>\n",
       "      <td>2515.690719</td>\n",
       "      <td>14.944286</td>\n",
       "      <td>2021-01-02</td>\n",
       "      <td>1</td>\n",
       "      <td>Айдар</td>\n",
       "      <td>22</td>\n",
       "      <td>Омск</td>\n",
       "      <td>free</td>\n",
       "      <td>8</td>\n",
       "      <td>50</td>\n",
       "      <td>0</td>\n",
       "    </tr>\n",
       "    <tr>\n",
       "      <th>1</th>\n",
       "      <td>700</td>\n",
       "      <td>846.932642</td>\n",
       "      <td>16.234663</td>\n",
       "      <td>2021-02-01</td>\n",
       "      <td>2</td>\n",
       "      <td>Айдар</td>\n",
       "      <td>22</td>\n",
       "      <td>Омск</td>\n",
       "      <td>free</td>\n",
       "      <td>8</td>\n",
       "      <td>50</td>\n",
       "      <td>0</td>\n",
       "    </tr>\n",
       "    <tr>\n",
       "      <th>2</th>\n",
       "      <td>700</td>\n",
       "      <td>4004.434142</td>\n",
       "      <td>20.016628</td>\n",
       "      <td>2021-02-04</td>\n",
       "      <td>2</td>\n",
       "      <td>Айдар</td>\n",
       "      <td>22</td>\n",
       "      <td>Омск</td>\n",
       "      <td>free</td>\n",
       "      <td>8</td>\n",
       "      <td>50</td>\n",
       "      <td>0</td>\n",
       "    </tr>\n",
       "    <tr>\n",
       "      <th>3</th>\n",
       "      <td>700</td>\n",
       "      <td>1205.911290</td>\n",
       "      <td>9.782872</td>\n",
       "      <td>2021-02-10</td>\n",
       "      <td>2</td>\n",
       "      <td>Айдар</td>\n",
       "      <td>22</td>\n",
       "      <td>Омск</td>\n",
       "      <td>free</td>\n",
       "      <td>8</td>\n",
       "      <td>50</td>\n",
       "      <td>0</td>\n",
       "    </tr>\n",
       "    <tr>\n",
       "      <th>4</th>\n",
       "      <td>700</td>\n",
       "      <td>3047.379435</td>\n",
       "      <td>17.427673</td>\n",
       "      <td>2021-02-14</td>\n",
       "      <td>2</td>\n",
       "      <td>Айдар</td>\n",
       "      <td>22</td>\n",
       "      <td>Омск</td>\n",
       "      <td>free</td>\n",
       "      <td>8</td>\n",
       "      <td>50</td>\n",
       "      <td>0</td>\n",
       "    </tr>\n",
       "  </tbody>\n",
       "</table>\n",
       "</div>"
      ],
      "text/plain": [
       "   user_id     distance   duration       date  month_of_date   name  age  \\\n",
       "0      700  2515.690719  14.944286 2021-01-02              1  Айдар   22   \n",
       "1      700   846.932642  16.234663 2021-02-01              2  Айдар   22   \n",
       "2      700  4004.434142  20.016628 2021-02-04              2  Айдар   22   \n",
       "3      700  1205.911290   9.782872 2021-02-10              2  Айдар   22   \n",
       "4      700  3047.379435  17.427673 2021-02-14              2  Айдар   22   \n",
       "\n",
       "   city subscription_type  minute_price  start_ride_price  subscription_fee  \n",
       "0  Омск              free             8                50                 0  \n",
       "1  Омск              free             8                50                 0  \n",
       "2  Омск              free             8                50                 0  \n",
       "3  Омск              free             8                50                 0  \n",
       "4  Омск              free             8                50                 0  "
      ]
     },
     "execution_count": 33,
     "metadata": {},
     "output_type": "execute_result"
    }
   ],
   "source": [
    "df_all_free = df_all[df_all['subscription_type']=='free'].reset_index(drop = True)\n",
    "df_all_free.head()"
   ]
  },
  {
   "cell_type": "code",
   "execution_count": 34,
   "id": "2d17f4d0",
   "metadata": {},
   "outputs": [
    {
     "data": {
      "text/html": [
       "<div>\n",
       "<style scoped>\n",
       "    .dataframe tbody tr th:only-of-type {\n",
       "        vertical-align: middle;\n",
       "    }\n",
       "\n",
       "    .dataframe tbody tr th {\n",
       "        vertical-align: top;\n",
       "    }\n",
       "\n",
       "    .dataframe thead th {\n",
       "        text-align: right;\n",
       "    }\n",
       "</style>\n",
       "<table border=\"1\" class=\"dataframe\">\n",
       "  <thead>\n",
       "    <tr style=\"text-align: right;\">\n",
       "      <th></th>\n",
       "      <th>user_id</th>\n",
       "      <th>distance</th>\n",
       "      <th>duration</th>\n",
       "      <th>date</th>\n",
       "      <th>month_of_date</th>\n",
       "      <th>name</th>\n",
       "      <th>age</th>\n",
       "      <th>city</th>\n",
       "      <th>subscription_type</th>\n",
       "      <th>minute_price</th>\n",
       "      <th>start_ride_price</th>\n",
       "      <th>subscription_fee</th>\n",
       "    </tr>\n",
       "  </thead>\n",
       "  <tbody>\n",
       "    <tr>\n",
       "      <th>0</th>\n",
       "      <td>1</td>\n",
       "      <td>4409.919140</td>\n",
       "      <td>25.599769</td>\n",
       "      <td>2021-01-01</td>\n",
       "      <td>1</td>\n",
       "      <td>Кира</td>\n",
       "      <td>22</td>\n",
       "      <td>Тюмень</td>\n",
       "      <td>ultra</td>\n",
       "      <td>6</td>\n",
       "      <td>0</td>\n",
       "      <td>199</td>\n",
       "    </tr>\n",
       "    <tr>\n",
       "      <th>1</th>\n",
       "      <td>1</td>\n",
       "      <td>2617.592153</td>\n",
       "      <td>15.816871</td>\n",
       "      <td>2021-01-18</td>\n",
       "      <td>1</td>\n",
       "      <td>Кира</td>\n",
       "      <td>22</td>\n",
       "      <td>Тюмень</td>\n",
       "      <td>ultra</td>\n",
       "      <td>6</td>\n",
       "      <td>0</td>\n",
       "      <td>199</td>\n",
       "    </tr>\n",
       "    <tr>\n",
       "      <th>2</th>\n",
       "      <td>1</td>\n",
       "      <td>754.159807</td>\n",
       "      <td>6.232113</td>\n",
       "      <td>2021-04-20</td>\n",
       "      <td>4</td>\n",
       "      <td>Кира</td>\n",
       "      <td>22</td>\n",
       "      <td>Тюмень</td>\n",
       "      <td>ultra</td>\n",
       "      <td>6</td>\n",
       "      <td>0</td>\n",
       "      <td>199</td>\n",
       "    </tr>\n",
       "    <tr>\n",
       "      <th>3</th>\n",
       "      <td>1</td>\n",
       "      <td>2694.783254</td>\n",
       "      <td>18.511000</td>\n",
       "      <td>2021-08-11</td>\n",
       "      <td>8</td>\n",
       "      <td>Кира</td>\n",
       "      <td>22</td>\n",
       "      <td>Тюмень</td>\n",
       "      <td>ultra</td>\n",
       "      <td>6</td>\n",
       "      <td>0</td>\n",
       "      <td>199</td>\n",
       "    </tr>\n",
       "    <tr>\n",
       "      <th>4</th>\n",
       "      <td>1</td>\n",
       "      <td>4028.687306</td>\n",
       "      <td>26.265803</td>\n",
       "      <td>2021-08-28</td>\n",
       "      <td>8</td>\n",
       "      <td>Кира</td>\n",
       "      <td>22</td>\n",
       "      <td>Тюмень</td>\n",
       "      <td>ultra</td>\n",
       "      <td>6</td>\n",
       "      <td>0</td>\n",
       "      <td>199</td>\n",
       "    </tr>\n",
       "  </tbody>\n",
       "</table>\n",
       "</div>"
      ],
      "text/plain": [
       "   user_id     distance   duration       date  month_of_date  name  age  \\\n",
       "0        1  4409.919140  25.599769 2021-01-01              1  Кира   22   \n",
       "1        1  2617.592153  15.816871 2021-01-18              1  Кира   22   \n",
       "2        1   754.159807   6.232113 2021-04-20              4  Кира   22   \n",
       "3        1  2694.783254  18.511000 2021-08-11              8  Кира   22   \n",
       "4        1  4028.687306  26.265803 2021-08-28              8  Кира   22   \n",
       "\n",
       "     city subscription_type  minute_price  start_ride_price  subscription_fee  \n",
       "0  Тюмень             ultra             6                 0               199  \n",
       "1  Тюмень             ultra             6                 0               199  \n",
       "2  Тюмень             ultra             6                 0               199  \n",
       "3  Тюмень             ultra             6                 0               199  \n",
       "4  Тюмень             ultra             6                 0               199  "
      ]
     },
     "execution_count": 34,
     "metadata": {},
     "output_type": "execute_result"
    }
   ],
   "source": [
    "df_all_subs = df_all[df_all['subscription_type']=='ultra'].reset_index(drop = True)\n",
    "df_all_subs.head()"
   ]
  },
  {
   "cell_type": "markdown",
   "id": "c67c5af2",
   "metadata": {},
   "source": [
    "Визуализируем информацию о расстоянии и времени поездок для пользователей обеих категорий"
   ]
  },
  {
   "cell_type": "code",
   "execution_count": 35,
   "id": "b4b58800",
   "metadata": {},
   "outputs": [
    {
     "data": {
      "image/png": "[encoded data removed]",
      "text/plain": [
       "<Figure size 576x360 with 1 Axes>"
      ]
     },
     "metadata": {
      "needs_background": "light"
     },
     "output_type": "display_data"
    }
   ],
   "source": [
    "ax = df_all_free['distance'].plot(kind = 'hist', grid=True, figsize = (8,5), bins = 40, label='Без подписки')\n",
    "ax = df_all_subs['distance'].plot(kind = 'hist', grid=True, figsize = (8,5), bins = 40, label='С подпиской')\n",
    "plt.title('Расстояние одной поездки для пользователей в зависимости от наличия подписки')\n",
    "plt.xlabel('Расстояние одной поездки (в метрах)')\n",
    "plt.ylabel('Число пользователей')\n",
    "plt.legend(loc='upper right')\n",
    "plt.show()"
   ]
  },
  {
   "cell_type": "code",
   "execution_count": 36,
   "id": "8f2a6bcb",
   "metadata": {},
   "outputs": [
    {
     "data": {
      "image/png": "[encoded data removed]",
      "text/plain": [
       "<Figure size 576x360 with 1 Axes>"
      ]
     },
     "metadata": {
      "needs_background": "light"
     },
     "output_type": "display_data"
    }
   ],
   "source": [
    "df_all_free['duration'].plot(kind = 'hist', grid=True, figsize = (8,5), bins = 40, label='Без подписки')\n",
    "df_all_subs['duration'].plot(kind = 'hist', grid=True, figsize = (8,5), bins = 40, label='С подпиской')\n",
    "plt.title('Продолжительность одной поездки пользователей в зависимости от наличия подписки')\n",
    "plt.xlabel('Время одной сессии (в минутах)')\n",
    "plt.ylabel('Число пользователей')\n",
    "plt.legend(loc='upper right')\n",
    "plt.show()"
   ]
  },
  {
   "cell_type": "markdown",
   "id": "c000e431",
   "metadata": {},
   "source": [
    "#### Промежуточный вывод шага 4\n",
    "1. После выполнения данного шага был создан общий датафрейм со всей имеющейся информацией. На его основе были созданы 2 датафрейма с разделением в зависимости от наличия подписки\n",
    "2. После визуализации этих 2 датафреймов можно сделать вывод о том, что наиболее выразительная разница наблюдается у пользователей доезжающих до 2000 метров, Так пользователи с подпиской проезжающие до 2000 в среднем проезжают 1000 метров, а без подписки только 500 метров. В то время как распределение длительности одной сессии практически не отличаются. Однако заметен выброс (100 пользователей) около 0 у пользователей без подписки"
   ]
  },
  {
   "cell_type": "markdown",
   "id": "642a7716",
   "metadata": {},
   "source": [
    "### Шаг 5. Подсчёт выручки"
   ]
  },
  {
   "cell_type": "markdown",
   "id": "3dbb0203",
   "metadata": {},
   "source": [
    "Создайте датафрейм с агрегированными данными о поездках на основе датафрейма с объединёнными данными из шага 4: найдите суммарное расстояние, количество поездок и суммарное время для каждого пользователя за каждый месяц."
   ]
  },
  {
   "cell_type": "code",
   "execution_count": 37,
   "id": "15f3932b",
   "metadata": {},
   "outputs": [
    {
     "data": {
      "text/html": [
       "<div>\n",
       "<style scoped>\n",
       "    .dataframe tbody tr th:only-of-type {\n",
       "        vertical-align: middle;\n",
       "    }\n",
       "\n",
       "    .dataframe tbody tr th {\n",
       "        vertical-align: top;\n",
       "    }\n",
       "\n",
       "    .dataframe thead th {\n",
       "        text-align: right;\n",
       "    }\n",
       "</style>\n",
       "<table border=\"1\" class=\"dataframe\">\n",
       "  <thead>\n",
       "    <tr style=\"text-align: right;\">\n",
       "      <th></th>\n",
       "      <th>user_id</th>\n",
       "      <th>month_of_date</th>\n",
       "      <th>count_distance</th>\n",
       "      <th>sum_distance</th>\n",
       "      <th>sum_duration</th>\n",
       "    </tr>\n",
       "  </thead>\n",
       "  <tbody>\n",
       "    <tr>\n",
       "      <th>0</th>\n",
       "      <td>1</td>\n",
       "      <td>1</td>\n",
       "      <td>2</td>\n",
       "      <td>7027.511294</td>\n",
       "      <td>42</td>\n",
       "    </tr>\n",
       "    <tr>\n",
       "      <th>1</th>\n",
       "      <td>1</td>\n",
       "      <td>4</td>\n",
       "      <td>1</td>\n",
       "      <td>754.159807</td>\n",
       "      <td>7</td>\n",
       "    </tr>\n",
       "    <tr>\n",
       "      <th>2</th>\n",
       "      <td>1</td>\n",
       "      <td>8</td>\n",
       "      <td>2</td>\n",
       "      <td>6723.470560</td>\n",
       "      <td>46</td>\n",
       "    </tr>\n",
       "    <tr>\n",
       "      <th>3</th>\n",
       "      <td>1</td>\n",
       "      <td>10</td>\n",
       "      <td>2</td>\n",
       "      <td>5809.911100</td>\n",
       "      <td>32</td>\n",
       "    </tr>\n",
       "    <tr>\n",
       "      <th>4</th>\n",
       "      <td>1</td>\n",
       "      <td>11</td>\n",
       "      <td>3</td>\n",
       "      <td>7003.499363</td>\n",
       "      <td>56</td>\n",
       "    </tr>\n",
       "    <tr>\n",
       "      <th>...</th>\n",
       "      <td>...</td>\n",
       "      <td>...</td>\n",
       "      <td>...</td>\n",
       "      <td>...</td>\n",
       "      <td>...</td>\n",
       "    </tr>\n",
       "    <tr>\n",
       "      <th>11326</th>\n",
       "      <td>1534</td>\n",
       "      <td>6</td>\n",
       "      <td>2</td>\n",
       "      <td>3409.468534</td>\n",
       "      <td>26</td>\n",
       "    </tr>\n",
       "    <tr>\n",
       "      <th>11327</th>\n",
       "      <td>1534</td>\n",
       "      <td>8</td>\n",
       "      <td>2</td>\n",
       "      <td>7622.453034</td>\n",
       "      <td>48</td>\n",
       "    </tr>\n",
       "    <tr>\n",
       "      <th>11328</th>\n",
       "      <td>1534</td>\n",
       "      <td>9</td>\n",
       "      <td>1</td>\n",
       "      <td>4928.173852</td>\n",
       "      <td>23</td>\n",
       "    </tr>\n",
       "    <tr>\n",
       "      <th>11329</th>\n",
       "      <td>1534</td>\n",
       "      <td>11</td>\n",
       "      <td>4</td>\n",
       "      <td>13350.015305</td>\n",
       "      <td>78</td>\n",
       "    </tr>\n",
       "    <tr>\n",
       "      <th>11330</th>\n",
       "      <td>1534</td>\n",
       "      <td>12</td>\n",
       "      <td>1</td>\n",
       "      <td>2371.711192</td>\n",
       "      <td>16</td>\n",
       "    </tr>\n",
       "  </tbody>\n",
       "</table>\n",
       "<p>11331 rows × 5 columns</p>\n",
       "</div>"
      ],
      "text/plain": [
       "       user_id  month_of_date  count_distance  sum_distance  sum_duration\n",
       "0            1              1               2   7027.511294            42\n",
       "1            1              4               1    754.159807             7\n",
       "2            1              8               2   6723.470560            46\n",
       "3            1             10               2   5809.911100            32\n",
       "4            1             11               3   7003.499363            56\n",
       "...        ...            ...             ...           ...           ...\n",
       "11326     1534              6               2   3409.468534            26\n",
       "11327     1534              8               2   7622.453034            48\n",
       "11328     1534              9               1   4928.173852            23\n",
       "11329     1534             11               4  13350.015305            78\n",
       "11330     1534             12               1   2371.711192            16\n",
       "\n",
       "[11331 rows x 5 columns]"
      ]
     },
     "execution_count": 37,
     "metadata": {},
     "output_type": "execute_result"
    }
   ],
   "source": [
    "# заранее для следующего шага подсчета выручки, округлим время поезки до следующего целого числа\n",
    "df_all['duration'] = np.ceil(df_all['duration'])\n",
    "df_all['duration'] = df_all['duration'].astype('int')\n",
    "\n",
    "df_all_pt = df_all.pivot_table(index = ['user_id', 'month_of_date'], values = ['distance', 'duration'], aggfunc = ['count', 'sum'])\n",
    "df_all_pt.columns = ['_'.join(col) for col in df_all_pt.columns.values]\n",
    "df_all_pt = df_all_pt.drop(columns = 'count_duration').reset_index(drop = False)\n",
    "df_all_pt"
   ]
  },
  {
   "cell_type": "markdown",
   "id": "4f1d6410",
   "metadata": {},
   "source": [
    "Получился датафрейм, в котором в разрезе user_id и месяца поездки были посчитаны:\n",
    "1. count_distance - число поездок\n",
    "2. sum_distance - суммарное расстояние\n",
    "3. sum_duration - суммарное время сессий"
   ]
  },
  {
   "cell_type": "markdown",
   "id": "5da1f665",
   "metadata": {},
   "source": [
    "В этот же датафрейм добавим столбец с помесячной выручкой, которую принёс каждый пользователь. Для этого обратимся к информации об условиях оплаты для подписчиков и тех, у кого нет подписки. Продолжительность каждой поездки в каждой строке исходного датафрейма для подсчёта стоимости округлим до следующего целого числа"
   ]
  },
  {
   "cell_type": "code",
   "execution_count": 38,
   "id": "1eefd7e7",
   "metadata": {},
   "outputs": [
    {
     "data": {
      "text/html": [
       "<div>\n",
       "<style scoped>\n",
       "    .dataframe tbody tr th:only-of-type {\n",
       "        vertical-align: middle;\n",
       "    }\n",
       "\n",
       "    .dataframe tbody tr th {\n",
       "        vertical-align: top;\n",
       "    }\n",
       "\n",
       "    .dataframe thead th {\n",
       "        text-align: right;\n",
       "    }\n",
       "</style>\n",
       "<table border=\"1\" class=\"dataframe\">\n",
       "  <thead>\n",
       "    <tr style=\"text-align: right;\">\n",
       "      <th></th>\n",
       "      <th>user_id</th>\n",
       "      <th>month_of_date</th>\n",
       "      <th>count_distance</th>\n",
       "      <th>sum_distance</th>\n",
       "      <th>sum_duration</th>\n",
       "      <th>name</th>\n",
       "      <th>age</th>\n",
       "      <th>city</th>\n",
       "      <th>subscription_type</th>\n",
       "      <th>minute_price</th>\n",
       "      <th>start_ride_price</th>\n",
       "      <th>subscription_fee</th>\n",
       "    </tr>\n",
       "  </thead>\n",
       "  <tbody>\n",
       "    <tr>\n",
       "      <th>0</th>\n",
       "      <td>1</td>\n",
       "      <td>1</td>\n",
       "      <td>2</td>\n",
       "      <td>7027.511294</td>\n",
       "      <td>42</td>\n",
       "      <td>Кира</td>\n",
       "      <td>22</td>\n",
       "      <td>Тюмень</td>\n",
       "      <td>ultra</td>\n",
       "      <td>6</td>\n",
       "      <td>0</td>\n",
       "      <td>199</td>\n",
       "    </tr>\n",
       "    <tr>\n",
       "      <th>1</th>\n",
       "      <td>1</td>\n",
       "      <td>4</td>\n",
       "      <td>1</td>\n",
       "      <td>754.159807</td>\n",
       "      <td>7</td>\n",
       "      <td>Кира</td>\n",
       "      <td>22</td>\n",
       "      <td>Тюмень</td>\n",
       "      <td>ultra</td>\n",
       "      <td>6</td>\n",
       "      <td>0</td>\n",
       "      <td>199</td>\n",
       "    </tr>\n",
       "    <tr>\n",
       "      <th>2</th>\n",
       "      <td>1</td>\n",
       "      <td>8</td>\n",
       "      <td>2</td>\n",
       "      <td>6723.470560</td>\n",
       "      <td>46</td>\n",
       "      <td>Кира</td>\n",
       "      <td>22</td>\n",
       "      <td>Тюмень</td>\n",
       "      <td>ultra</td>\n",
       "      <td>6</td>\n",
       "      <td>0</td>\n",
       "      <td>199</td>\n",
       "    </tr>\n",
       "    <tr>\n",
       "      <th>3</th>\n",
       "      <td>1</td>\n",
       "      <td>10</td>\n",
       "      <td>2</td>\n",
       "      <td>5809.911100</td>\n",
       "      <td>32</td>\n",
       "      <td>Кира</td>\n",
       "      <td>22</td>\n",
       "      <td>Тюмень</td>\n",
       "      <td>ultra</td>\n",
       "      <td>6</td>\n",
       "      <td>0</td>\n",
       "      <td>199</td>\n",
       "    </tr>\n",
       "    <tr>\n",
       "      <th>4</th>\n",
       "      <td>1</td>\n",
       "      <td>11</td>\n",
       "      <td>3</td>\n",
       "      <td>7003.499363</td>\n",
       "      <td>56</td>\n",
       "      <td>Кира</td>\n",
       "      <td>22</td>\n",
       "      <td>Тюмень</td>\n",
       "      <td>ultra</td>\n",
       "      <td>6</td>\n",
       "      <td>0</td>\n",
       "      <td>199</td>\n",
       "    </tr>\n",
       "    <tr>\n",
       "      <th>...</th>\n",
       "      <td>...</td>\n",
       "      <td>...</td>\n",
       "      <td>...</td>\n",
       "      <td>...</td>\n",
       "      <td>...</td>\n",
       "      <td>...</td>\n",
       "      <td>...</td>\n",
       "      <td>...</td>\n",
       "      <td>...</td>\n",
       "      <td>...</td>\n",
       "      <td>...</td>\n",
       "      <td>...</td>\n",
       "    </tr>\n",
       "    <tr>\n",
       "      <th>11326</th>\n",
       "      <td>1534</td>\n",
       "      <td>6</td>\n",
       "      <td>2</td>\n",
       "      <td>3409.468534</td>\n",
       "      <td>26</td>\n",
       "      <td>Альберт</td>\n",
       "      <td>25</td>\n",
       "      <td>Краснодар</td>\n",
       "      <td>free</td>\n",
       "      <td>8</td>\n",
       "      <td>50</td>\n",
       "      <td>0</td>\n",
       "    </tr>\n",
       "    <tr>\n",
       "      <th>11327</th>\n",
       "      <td>1534</td>\n",
       "      <td>8</td>\n",
       "      <td>2</td>\n",
       "      <td>7622.453034</td>\n",
       "      <td>48</td>\n",
       "      <td>Альберт</td>\n",
       "      <td>25</td>\n",
       "      <td>Краснодар</td>\n",
       "      <td>free</td>\n",
       "      <td>8</td>\n",
       "      <td>50</td>\n",
       "      <td>0</td>\n",
       "    </tr>\n",
       "    <tr>\n",
       "      <th>11328</th>\n",
       "      <td>1534</td>\n",
       "      <td>9</td>\n",
       "      <td>1</td>\n",
       "      <td>4928.173852</td>\n",
       "      <td>23</td>\n",
       "      <td>Альберт</td>\n",
       "      <td>25</td>\n",
       "      <td>Краснодар</td>\n",
       "      <td>free</td>\n",
       "      <td>8</td>\n",
       "      <td>50</td>\n",
       "      <td>0</td>\n",
       "    </tr>\n",
       "    <tr>\n",
       "      <th>11329</th>\n",
       "      <td>1534</td>\n",
       "      <td>11</td>\n",
       "      <td>4</td>\n",
       "      <td>13350.015305</td>\n",
       "      <td>78</td>\n",
       "      <td>Альберт</td>\n",
       "      <td>25</td>\n",
       "      <td>Краснодар</td>\n",
       "      <td>free</td>\n",
       "      <td>8</td>\n",
       "      <td>50</td>\n",
       "      <td>0</td>\n",
       "    </tr>\n",
       "    <tr>\n",
       "      <th>11330</th>\n",
       "      <td>1534</td>\n",
       "      <td>12</td>\n",
       "      <td>1</td>\n",
       "      <td>2371.711192</td>\n",
       "      <td>16</td>\n",
       "      <td>Альберт</td>\n",
       "      <td>25</td>\n",
       "      <td>Краснодар</td>\n",
       "      <td>free</td>\n",
       "      <td>8</td>\n",
       "      <td>50</td>\n",
       "      <td>0</td>\n",
       "    </tr>\n",
       "  </tbody>\n",
       "</table>\n",
       "<p>11331 rows × 12 columns</p>\n",
       "</div>"
      ],
      "text/plain": [
       "       user_id  month_of_date  count_distance  sum_distance  sum_duration  \\\n",
       "0            1              1               2   7027.511294            42   \n",
       "1            1              4               1    754.159807             7   \n",
       "2            1              8               2   6723.470560            46   \n",
       "3            1             10               2   5809.911100            32   \n",
       "4            1             11               3   7003.499363            56   \n",
       "...        ...            ...             ...           ...           ...   \n",
       "11326     1534              6               2   3409.468534            26   \n",
       "11327     1534              8               2   7622.453034            48   \n",
       "11328     1534              9               1   4928.173852            23   \n",
       "11329     1534             11               4  13350.015305            78   \n",
       "11330     1534             12               1   2371.711192            16   \n",
       "\n",
       "          name  age       city subscription_type  minute_price  \\\n",
       "0         Кира   22     Тюмень             ultra             6   \n",
       "1         Кира   22     Тюмень             ultra             6   \n",
       "2         Кира   22     Тюмень             ultra             6   \n",
       "3         Кира   22     Тюмень             ultra             6   \n",
       "4         Кира   22     Тюмень             ultra             6   \n",
       "...        ...  ...        ...               ...           ...   \n",
       "11326  Альберт   25  Краснодар              free             8   \n",
       "11327  Альберт   25  Краснодар              free             8   \n",
       "11328  Альберт   25  Краснодар              free             8   \n",
       "11329  Альберт   25  Краснодар              free             8   \n",
       "11330  Альберт   25  Краснодар              free             8   \n",
       "\n",
       "       start_ride_price  subscription_fee  \n",
       "0                     0               199  \n",
       "1                     0               199  \n",
       "2                     0               199  \n",
       "3                     0               199  \n",
       "4                     0               199  \n",
       "...                 ...               ...  \n",
       "11326                50                 0  \n",
       "11327                50                 0  \n",
       "11328                50                 0  \n",
       "11329                50                 0  \n",
       "11330                50                 0  \n",
       "\n",
       "[11331 rows x 12 columns]"
      ]
     },
     "execution_count": 38,
     "metadata": {},
     "output_type": "execute_result"
    }
   ],
   "source": [
    "df_all_pt = df_all_pt.merge(df_user_go, how='left', on='user_id')\n",
    "df_all_pt = df_all_pt.merge(df_sub_go, how = 'left', on = 'subscription_type')\n",
    "df_all_pt"
   ]
  },
  {
   "cell_type": "code",
   "execution_count": 39,
   "id": "1b8c3948",
   "metadata": {},
   "outputs": [
    {
     "data": {
      "text/html": [
       "<div>\n",
       "<style scoped>\n",
       "    .dataframe tbody tr th:only-of-type {\n",
       "        vertical-align: middle;\n",
       "    }\n",
       "\n",
       "    .dataframe tbody tr th {\n",
       "        vertical-align: top;\n",
       "    }\n",
       "\n",
       "    .dataframe thead th {\n",
       "        text-align: right;\n",
       "    }\n",
       "</style>\n",
       "<table border=\"1\" class=\"dataframe\">\n",
       "  <thead>\n",
       "    <tr style=\"text-align: right;\">\n",
       "      <th></th>\n",
       "      <th>user_id</th>\n",
       "      <th>month_of_date</th>\n",
       "      <th>count_distance</th>\n",
       "      <th>sum_distance</th>\n",
       "      <th>sum_duration</th>\n",
       "      <th>name</th>\n",
       "      <th>age</th>\n",
       "      <th>city</th>\n",
       "      <th>subscription_type</th>\n",
       "      <th>revenue</th>\n",
       "    </tr>\n",
       "  </thead>\n",
       "  <tbody>\n",
       "    <tr>\n",
       "      <th>0</th>\n",
       "      <td>1</td>\n",
       "      <td>1</td>\n",
       "      <td>2</td>\n",
       "      <td>7027.511294</td>\n",
       "      <td>42</td>\n",
       "      <td>Кира</td>\n",
       "      <td>22</td>\n",
       "      <td>Тюмень</td>\n",
       "      <td>ultra</td>\n",
       "      <td>451</td>\n",
       "    </tr>\n",
       "    <tr>\n",
       "      <th>1</th>\n",
       "      <td>1</td>\n",
       "      <td>4</td>\n",
       "      <td>1</td>\n",
       "      <td>754.159807</td>\n",
       "      <td>7</td>\n",
       "      <td>Кира</td>\n",
       "      <td>22</td>\n",
       "      <td>Тюмень</td>\n",
       "      <td>ultra</td>\n",
       "      <td>241</td>\n",
       "    </tr>\n",
       "    <tr>\n",
       "      <th>2</th>\n",
       "      <td>1</td>\n",
       "      <td>8</td>\n",
       "      <td>2</td>\n",
       "      <td>6723.470560</td>\n",
       "      <td>46</td>\n",
       "      <td>Кира</td>\n",
       "      <td>22</td>\n",
       "      <td>Тюмень</td>\n",
       "      <td>ultra</td>\n",
       "      <td>475</td>\n",
       "    </tr>\n",
       "    <tr>\n",
       "      <th>3</th>\n",
       "      <td>1</td>\n",
       "      <td>10</td>\n",
       "      <td>2</td>\n",
       "      <td>5809.911100</td>\n",
       "      <td>32</td>\n",
       "      <td>Кира</td>\n",
       "      <td>22</td>\n",
       "      <td>Тюмень</td>\n",
       "      <td>ultra</td>\n",
       "      <td>391</td>\n",
       "    </tr>\n",
       "    <tr>\n",
       "      <th>4</th>\n",
       "      <td>1</td>\n",
       "      <td>11</td>\n",
       "      <td>3</td>\n",
       "      <td>7003.499363</td>\n",
       "      <td>56</td>\n",
       "      <td>Кира</td>\n",
       "      <td>22</td>\n",
       "      <td>Тюмень</td>\n",
       "      <td>ultra</td>\n",
       "      <td>535</td>\n",
       "    </tr>\n",
       "    <tr>\n",
       "      <th>...</th>\n",
       "      <td>...</td>\n",
       "      <td>...</td>\n",
       "      <td>...</td>\n",
       "      <td>...</td>\n",
       "      <td>...</td>\n",
       "      <td>...</td>\n",
       "      <td>...</td>\n",
       "      <td>...</td>\n",
       "      <td>...</td>\n",
       "      <td>...</td>\n",
       "    </tr>\n",
       "    <tr>\n",
       "      <th>11326</th>\n",
       "      <td>1534</td>\n",
       "      <td>6</td>\n",
       "      <td>2</td>\n",
       "      <td>3409.468534</td>\n",
       "      <td>26</td>\n",
       "      <td>Альберт</td>\n",
       "      <td>25</td>\n",
       "      <td>Краснодар</td>\n",
       "      <td>free</td>\n",
       "      <td>308</td>\n",
       "    </tr>\n",
       "    <tr>\n",
       "      <th>11327</th>\n",
       "      <td>1534</td>\n",
       "      <td>8</td>\n",
       "      <td>2</td>\n",
       "      <td>7622.453034</td>\n",
       "      <td>48</td>\n",
       "      <td>Альберт</td>\n",
       "      <td>25</td>\n",
       "      <td>Краснодар</td>\n",
       "      <td>free</td>\n",
       "      <td>484</td>\n",
       "    </tr>\n",
       "    <tr>\n",
       "      <th>11328</th>\n",
       "      <td>1534</td>\n",
       "      <td>9</td>\n",
       "      <td>1</td>\n",
       "      <td>4928.173852</td>\n",
       "      <td>23</td>\n",
       "      <td>Альберт</td>\n",
       "      <td>25</td>\n",
       "      <td>Краснодар</td>\n",
       "      <td>free</td>\n",
       "      <td>234</td>\n",
       "    </tr>\n",
       "    <tr>\n",
       "      <th>11329</th>\n",
       "      <td>1534</td>\n",
       "      <td>11</td>\n",
       "      <td>4</td>\n",
       "      <td>13350.015305</td>\n",
       "      <td>78</td>\n",
       "      <td>Альберт</td>\n",
       "      <td>25</td>\n",
       "      <td>Краснодар</td>\n",
       "      <td>free</td>\n",
       "      <td>824</td>\n",
       "    </tr>\n",
       "    <tr>\n",
       "      <th>11330</th>\n",
       "      <td>1534</td>\n",
       "      <td>12</td>\n",
       "      <td>1</td>\n",
       "      <td>2371.711192</td>\n",
       "      <td>16</td>\n",
       "      <td>Альберт</td>\n",
       "      <td>25</td>\n",
       "      <td>Краснодар</td>\n",
       "      <td>free</td>\n",
       "      <td>178</td>\n",
       "    </tr>\n",
       "  </tbody>\n",
       "</table>\n",
       "<p>11331 rows × 10 columns</p>\n",
       "</div>"
      ],
      "text/plain": [
       "       user_id  month_of_date  count_distance  sum_distance  sum_duration  \\\n",
       "0            1              1               2   7027.511294            42   \n",
       "1            1              4               1    754.159807             7   \n",
       "2            1              8               2   6723.470560            46   \n",
       "3            1             10               2   5809.911100            32   \n",
       "4            1             11               3   7003.499363            56   \n",
       "...        ...            ...             ...           ...           ...   \n",
       "11326     1534              6               2   3409.468534            26   \n",
       "11327     1534              8               2   7622.453034            48   \n",
       "11328     1534              9               1   4928.173852            23   \n",
       "11329     1534             11               4  13350.015305            78   \n",
       "11330     1534             12               1   2371.711192            16   \n",
       "\n",
       "          name  age       city subscription_type  revenue  \n",
       "0         Кира   22     Тюмень             ultra      451  \n",
       "1         Кира   22     Тюмень             ultra      241  \n",
       "2         Кира   22     Тюмень             ultra      475  \n",
       "3         Кира   22     Тюмень             ultra      391  \n",
       "4         Кира   22     Тюмень             ultra      535  \n",
       "...        ...  ...        ...               ...      ...  \n",
       "11326  Альберт   25  Краснодар              free      308  \n",
       "11327  Альберт   25  Краснодар              free      484  \n",
       "11328  Альберт   25  Краснодар              free      234  \n",
       "11329  Альберт   25  Краснодар              free      824  \n",
       "11330  Альберт   25  Краснодар              free      178  \n",
       "\n",
       "[11331 rows x 10 columns]"
      ]
     },
     "execution_count": 39,
     "metadata": {},
     "output_type": "execute_result"
    }
   ],
   "source": [
    "df_all_pt['revenue'] = (df_all_pt['start_ride_price'] * df_all_pt['count_distance'] + df_all_pt['minute_price'] * df_all_pt['sum_duration'] + df_all_pt['subscription_fee'])\n",
    "df_all_pt = df_all_pt.drop(columns = ['minute_price', 'start_ride_price', 'subscription_fee'])\n",
    "df_all_pt"
   ]
  },
  {
   "cell_type": "markdown",
   "id": "ba334889",
   "metadata": {},
   "source": [
    "#### Промежуточный вывод шага 5\n",
    "После выполнения данного шага удалось создать датафрейм, в котором вычислено помесячно для каждого пользователя выручка, суммарное расстояние, количество сессий и суммарную длительность сессий"
   ]
  },
  {
   "cell_type": "markdown",
   "id": "8f80a86d",
   "metadata": {},
   "source": [
    "### Шаг 6. Проверка гипотез"
   ]
  },
  {
   "cell_type": "markdown",
   "id": "a12e7fa6",
   "metadata": {},
   "source": [
    "#### Шаг 6.1\n",
    "Продакт-менеджеры сервиса хотят увеличить количество пользователей с подпиской. Для этого они будут проводить различные акции, но сначала нужно выяснить несколько важных моментов.\n",
    "\n",
    "Важно понять, тратят ли пользователи с подпиской больше времени на поездки? Если да, то пользователи с подпиской могут быть «выгоднее» для компании. Проверим гипотезу. Используем исходные данные о продолжительности каждой сессии — отдельно для подписчиков и тех, у кого нет подписки."
   ]
  },
  {
   "cell_type": "markdown",
   "id": "1ba30069",
   "metadata": {},
   "source": [
    "Сравним 2 датафрейма df_all_free и df_all_sub и проверим гипотезы:\n",
    "- Нулевая теория: среднее время поездок пользователей с подпиской и пользователей без подписки равны\n",
    "- Альтернативная гипотеза: пользователи с подпиской тратят больше времени на поездки"
   ]
  },
  {
   "cell_type": "code",
   "execution_count": 40,
   "id": "de1b6162",
   "metadata": {},
   "outputs": [
    {
     "name": "stdout",
     "output_type": "stream",
     "text": [
      "p-значение: 1.2804098316645618e-34\n",
      "Отвергаем нулевую гипотезу\n"
     ]
    }
   ],
   "source": [
    "alpha = 0.05 # уровень статистической значимости\n",
    "\n",
    "# так как у нас левосторонняя альтернативная гипотеза используем параметр 'less'\n",
    "results = st.ttest_ind(df_all_subs['duration'], df_all_free['duration'], alternative='greater')\n",
    "\n",
    "print('p-значение:', results.pvalue)\n",
    "\n",
    "if results.pvalue < alpha:\n",
    "    print('Отвергаем нулевую гипотезу')\n",
    "else:\n",
    "    print('Не отвергаем нулевую гипотезу')"
   ]
  },
  {
   "cell_type": "markdown",
   "id": "57b6c95f",
   "metadata": {},
   "source": [
    "Следовательно гипотеза верна: пользователи с подпиской тратят больше времени на поездки\n",
    "\n",
    "Однако стоит перепроверить себя:"
   ]
  },
  {
   "cell_type": "code",
   "execution_count": 41,
   "id": "87363a74",
   "metadata": {},
   "outputs": [
    {
     "name": "stdout",
     "output_type": "stream",
     "text": [
      "Среднее время поездки пользователей без подписки: 17.39\n",
      "Среднее время поездки пользователей c подпиской: 18.54\n"
     ]
    }
   ],
   "source": [
    "print('Среднее время поездки пользователей без подписки:', round(df_all_free['duration'].mean(),2))\n",
    "print('Среднее время поездки пользователей c подпиской:', round(df_all_subs['duration'].mean(),2))"
   ]
  },
  {
   "cell_type": "markdown",
   "id": "5be5cd20",
   "metadata": {},
   "source": [
    "#### Шаг 6.2\n",
    "Расстояние одной поездки в 3130 метров — оптимальное с точки зрения износа самоката. Можно ли сказать, что среднее расстояние, которое проезжают пользователи с подпиской за одну поездку, не превышает 3130 метров? Проверим гипотезу и сделаем выводы."
   ]
  },
  {
   "cell_type": "markdown",
   "id": "784cdf71",
   "metadata": {},
   "source": [
    "У нас есть гипотезы:\n",
    "- Нулевая гипотеза: среднее расстояние поездки пользователя с подпиской меньше, либо равна 3130 метрам\n",
    "- Альтернативная гипотеза: среднее расстояние поездки пользователя с подпиской больше 3130 метров"
   ]
  },
  {
   "cell_type": "code",
   "execution_count": 42,
   "id": "7dd64b34",
   "metadata": {},
   "outputs": [
    {
     "name": "stdout",
     "output_type": "stream",
     "text": [
      "p-значение: 0.9195368847849785\n",
      "Не получилось отвергнуть нулевую гипотезу\n"
     ]
    }
   ],
   "source": [
    "interested_value = 3130\n",
    "\n",
    "alpha = 0.05 # уровень статистической значимости\n",
    "\n",
    "results = st.ttest_1samp(df_all_subs['distance'], interested_value, alternative='greater')\n",
    "\n",
    "print('p-значение:', results.pvalue)\n",
    "\n",
    "if results.pvalue < alpha:\n",
    "    print('Отвергаем нулевую гипотезу')\n",
    "else:\n",
    "    print('Не получилось отвергнуть нулевую гипотезу')"
   ]
  },
  {
   "cell_type": "code",
   "execution_count": 43,
   "id": "6b2787ac",
   "metadata": {},
   "outputs": [
    {
     "name": "stdout",
     "output_type": "stream",
     "text": [
      "Среднее дистанция поездки пользователей c подпиской: 3115.0\n"
     ]
    }
   ],
   "source": [
    "print('Среднее дистанция поездки пользователей c подпиской:', round(df_all_subs['distance'].mean(),0))"
   ]
  },
  {
   "cell_type": "markdown",
   "id": "dd571690",
   "metadata": {},
   "source": [
    "Нулевая гипотеза подтверждена: среднее расстояние поездки пользователя с подпиской меньше, либо равна 3130 метрам"
   ]
  },
  {
   "cell_type": "markdown",
   "id": "21d83bff",
   "metadata": {},
   "source": [
    "#### Шаг 6.3 \n",
    "Проверим гипотезу о том, будет ли помесячная выручка от пользователей с подпиской по месяцам выше, чем выручка от пользователей без подписки. Сделаем вывод."
   ]
  },
  {
   "cell_type": "markdown",
   "id": "b47ee0e9",
   "metadata": {},
   "source": [
    "Имеется 2 гипотезы:\n",
    "- Нулевая гипотеза: помесячная выручка от пользователей с подпиской и без равны\n",
    "- Альтернативная гипотеза: помесячная выручка от пользователей с подпиской выше чем выручка от пользователей без подписки"
   ]
  },
  {
   "cell_type": "code",
   "execution_count": 44,
   "id": "3f84a5f2",
   "metadata": {},
   "outputs": [
    {
     "name": "stdout",
     "output_type": "stream",
     "text": [
      "p-значение: 1.8850394384715216e-31\n",
      "Отвергаем нулевую гипотезу\n"
     ]
    }
   ],
   "source": [
    "# создадим два датафрейма с помесячной выручкой в зависимости от наличия подписки\n",
    "df_all_pt_subs = df_all_pt[df_all_pt['subscription_type'] == 'ultra']\n",
    "df_all_pt_free = df_all_pt[df_all_pt['subscription_type'] == 'free']\n",
    "\n",
    "alpha = 0.05 # уровень статистической значимости\n",
    "\n",
    "results = st.ttest_ind(df_all_pt_subs['revenue'], df_all_pt_free['revenue'], alternative='greater')\n",
    "\n",
    "print('p-значение:', results.pvalue)\n",
    "\n",
    "if results.pvalue < alpha:\n",
    "    print('Отвергаем нулевую гипотезу')\n",
    "else:\n",
    "    print('Нет оснований отвергнуть нулевую гипотезу')"
   ]
  },
  {
   "cell_type": "markdown",
   "id": "57e19f49",
   "metadata": {},
   "source": [
    "p-value меньше заданного уровня значимости, поэтому отвергаем нулевую гипотезу. Следовательно можно сказать о том, что помесячная выручка от пользователей с подпиской выше чем выручка от пользователей без подписки\n",
    "\n",
    "Это можно проверить:"
   ]
  },
  {
   "cell_type": "code",
   "execution_count": 45,
   "id": "57ff184f",
   "metadata": {},
   "outputs": [
    {
     "name": "stdout",
     "output_type": "stream",
     "text": [
      "Средняя помесячная выручка от пользователи без подписки: 328.64\n",
      "Средняя помесячная выручка от пользователи с подпиской: 362.79\n"
     ]
    }
   ],
   "source": [
    "print('Средняя помесячная выручка от пользователи без подписки:', round(df_all_pt_free['revenue'].mean(),2))\n",
    "print('Средняя помесячная выручка от пользователи с подпиской:', round(df_all_pt_subs['revenue'].mean(),2))"
   ]
  },
  {
   "cell_type": "markdown",
   "id": "c11bb1d7",
   "metadata": {},
   "source": [
    "<div class=\"alert alert-block alert-success\">\n",
    "<b>✅Комментарий ревьюера:</b> Здесь правильно</div>"
   ]
  },
  {
   "cell_type": "markdown",
   "id": "022f8bb5",
   "metadata": {},
   "source": [
    "#### Шаг 6.4\n",
    "Представим такую ситуацию: техническая команда сервиса обновила сервера, с которыми взаимодействует мобильное приложение. Она надеется, что из-за этого количество обращений в техподдержку значимо снизилось. Некоторый файл содержит для каждого пользователя данные о количестве обращений до обновления и после него. Какой тест вам понадобился бы для проверки этой гипотезы?"
   ]
  },
  {
   "cell_type": "markdown",
   "id": "d18a3303",
   "metadata": {},
   "source": [
    "##### Ответ:\n",
    "Если имеются данные о количестве обращений в техподдержку для каждого пользователя до и после обновления серверов, и эти данные являются зависимыми (т.е., одно и то же лицо представлено как до, так и после обновления), то более подходящим тестом для проверки гипотезы будет парный t-тест для зависимых выборок. Для этого можно воспользоваться методом scipy.stats.ttest_rel(), передавая ему два набора данных: данные до обновления и после."
   ]
  },
  {
   "cell_type": "markdown",
   "id": "e6627de3",
   "metadata": {},
   "source": [
    "<div class=\"alert alert-block alert-success\">\n",
    "<b>✅Комментарий ревьюера:</b> Верно </div>"
   ]
  },
  {
   "cell_type": "markdown",
   "id": "9fd23423",
   "metadata": {},
   "source": [
    "#### Промежуточный вывод шага 6\n",
    "В ходе выполнение данного шага удалось подтвердить гипотезы:\n",
    "1. Пользователи с подпиской тратят больше времени на поездки\n",
    "2. Среднее расстояние поездки пользователя с подпиской меньше 3130 метрам\n",
    "3. Помесячная выручка от пользователей с подпиской выше чем выручка от пользователей без подписки"
   ]
  },
  {
   "cell_type": "markdown",
   "id": "90016962",
   "metadata": {},
   "source": [
    "### Шаг 7. Распределения"
   ]
  },
  {
   "cell_type": "markdown",
   "id": "1bd8be8b",
   "metadata": {},
   "source": [
    "#### Шаг 7.1\n",
    "Отделу маркетинга GoFast поставили задачу: нужно провести акцию с раздачей промокодов на один бесплатный месяц подписки, в рамках которой как минимум 100 существующих клиентов должны продлить эту подписку. То есть по завершении периода действия подписки пользователь может либо отказаться от неё, либо продлить, совершив соответствующий платёж. \n",
    "\n",
    "Эта акция уже проводилась ранее и по итогу выяснилось, что после бесплатного пробного периода подписку продлевают 10 % пользователей. Выясните, какое минимальное количество промокодов нужно разослать, чтобы вероятность не выполнить план была примерно 5%. Подберем параметры распределения, описывающего эту ситуацию, построим график распределения и сформулируйте ответ на вопрос о количестве промокодов."
   ]
  },
  {
   "cell_type": "markdown",
   "id": "8017ff1b",
   "metadata": {},
   "source": [
    "Начнем с построения графика биномиального распределения."
   ]
  },
  {
   "cell_type": "code",
   "execution_count": 46,
   "id": "4111a486",
   "metadata": {},
   "outputs": [
    {
     "data": {
      "image/png": "[encoded data removed]",
      "text/plain": [
       "<Figure size 432x288 with 1 Axes>"
      ]
     },
     "metadata": {
      "needs_background": "light"
     },
     "output_type": "display_data"
    }
   ],
   "source": [
    "# определим примерный диапазон значений биномиального распределения графиком\n",
    "n = 1000\n",
    "p = 0.1\n",
    "distr = []\n",
    "\n",
    "for k in range(0, n + 1):\n",
    "    choose = factorial(n) / (factorial(k) * factorial(n - k))\n",
    "    prob = choose * p**k * (1 - p)**(n - k)\n",
    "    distr.append(prob)\n",
    "\n",
    "plt.bar(range(0, n + 1), distr);\n",
    "plt.xlabel('Количество успехов (k)')\n",
    "plt.ylabel('Вероятность')\n",
    "plt.title('Биномиальное распределение')\n",
    "plt.show()"
   ]
  },
  {
   "cell_type": "markdown",
   "id": "0f27527a",
   "metadata": {},
   "source": [
    "<div class=\"alert alert-block alert-warning\">\n",
    "<b>🔁Комментарий ревьюера:</b>\n",
    "\n",
    "Не забывай подписывать заголовки для графиков и оси</div>"
   ]
  },
  {
   "cell_type": "markdown",
   "id": "2325fe6d",
   "metadata": {},
   "source": [
    "<div class=\"alert alert-block alert-info\">\n",
    "<b>🔄Комментарий студента:</b> \n",
    "Надписи добавила\n",
    "</div>"
   ]
  },
  {
   "cell_type": "markdown",
   "id": "03bc73c0",
   "metadata": {},
   "source": [
    "<div class=\"alert alert-block alert-success\">\n",
    "<b>✅Комментарий ревьюера 2:</b> Отлично, исправлено!👍  </div>"
   ]
  },
  {
   "cell_type": "markdown",
   "id": "441fa1b9",
   "metadata": {},
   "source": [
    "Определим минимальное количество промокодов в диапазоне (n-500, n+500), чтобы вероятность не выполнения плана была не более 5%."
   ]
  },
  {
   "cell_type": "code",
   "execution_count": 47,
   "id": "82a8a911",
   "metadata": {},
   "outputs": [
    {
     "name": "stdout",
     "output_type": "stream",
     "text": [
      "Минимальное число промокодов: 1161\n"
     ]
    }
   ],
   "source": [
    "for n in range (500,1500):\n",
    "    if binom.cdf(99, n, p) < 0.05:\n",
    "        print(\"Минимальное число промокодов:\", n)\n",
    "        break"
   ]
  },
  {
   "cell_type": "markdown",
   "id": "47dad57a",
   "metadata": {},
   "source": [
    "Для гарантированного получения не менее 100 продлений подписок при проведении акции раздачи промокодов с вероятностью невыполнения плана не более 5%, необходимо отправить менее 1161 промокода."
   ]
  },
  {
   "cell_type": "markdown",
   "id": "cf7c61ee",
   "metadata": {},
   "source": [
    "#### Шаг 7.2"
   ]
  },
  {
   "cell_type": "markdown",
   "id": "9b04363c",
   "metadata": {},
   "source": [
    "Отдел маркетинга рассылает клиентам push-уведомления в мобильном приложении. Клиенты могут открыть его или не открывать. Известно, что уведомления открывают около 40 % получивших клиентов. Отдел планирует разослать 1 млн уведомлений. С помощью аппроксимации постройте примерный график распределения и оцените вероятность того, что уведомление откроют не более 399,5 тыс. пользователей."
   ]
  },
  {
   "cell_type": "markdown",
   "id": "9ee9dd97",
   "metadata": {},
   "source": [
    "Воспользуемся аппроксимацией биномиального распределения нормальным распределением и произведем расчеты."
   ]
  },
  {
   "cell_type": "code",
   "execution_count": 48,
   "id": "d0519a02",
   "metadata": {},
   "outputs": [
    {
     "name": "stdout",
     "output_type": "stream",
     "text": [
      "Вероятность что push-уведомления откроют не более 399,5 тыс. пользователей: 0.15\n"
     ]
    }
   ],
   "source": [
    "n = 1000000\n",
    "p = 0.4\n",
    "\n",
    "mu = n * p\n",
    "sigma = sqrt(n * p * (1 - p))\n",
    "distr = st.norm(mu, sigma)\n",
    "\n",
    "x = 399500\n",
    "\n",
    "# считаем вероятность получить значение, равное x или меньше\n",
    "result = distr.cdf(x)\n",
    "\n",
    "print('Вероятность что push-уведомления откроют не более 399,5 тыс. пользователей:',\n",
    "      round(result, 2))"
   ]
  },
  {
   "cell_type": "markdown",
   "id": "f2477427",
   "metadata": {},
   "source": [
    "В условиях акции рассылки 1 миллиона push-уведомлений вероятность того, что их откроют не более, чем 399,5 тысяч пользователей, составляет 15%."
   ]
  },
  {
   "cell_type": "markdown",
   "id": "f203b0d3",
   "metadata": {},
   "source": [
    "<div class=\"alert alert-block alert-success\">\n",
    "<b>✅Комментарий ревьюера:</b> Дополнительные задачи решены правильно, молодец! </div>"
   ]
  },
  {
   "cell_type": "markdown",
   "id": "1f08d8ff",
   "metadata": {},
   "source": [
    "#### Промежуточные выводы шага 7\n",
    "Для отдела маркетинга были произведены расчеты и получены следующие результаты:\n",
    "1. Для гарантированного получения не менее 100 продлений подписок при проведении акции раздачи промокодов с вероятностью невыполнения плана не более 5%, необходимо отправить менее 1161 промокода.\n",
    "2. В условиях акции рассылки 1 миллиона push-уведомлений вероятность того, что их откроют не более, чем 399,5 тысяч пользователей, составляет 15%."
   ]
  },
  {
   "cell_type": "markdown",
   "id": "3996d1a9",
   "metadata": {},
   "source": [
    "### Общие выводы\n",
    "Предметом исследования является популярный сервис по аренде самокатов GoFast. Чтобы совершать поездки по городу, пользователи сервиса пользуются мобильным приложением. Для исследования были предоставлены данные о пользователях, поездках и подписках. Прежде чем приступать к анализу было произведено изучение данных на предмет пропусков, дубликатов (явных или неявных), а также на соответствие типам данных, чтобы дальнейшие выводы были более достоверны. После изучение данных были удалены явные дубликаты, а также произведено изменение типа столбца, чтобы он ему соответствовал. Неявные дубликаты и пропуски в данных выявлены не были\n",
    "Далее был произведен исследовательский анализ данных и вот что удалось выявить:\n",
    "1. Данные хранят информацию о пользователях и поездках из 8 городов\n",
    "2. Большая доля пользователей приходится на Пятигорск, Екатеринбург, Ростов-на-Дону, что составляет 621 человек (40.5% от общего числа пользователей)\n",
    "3. Меньше всего пользователей приходится на Москву - 168 человек (11% от общего числа пользователей)\n",
    "4. Количество пользователей без подписки (free) превышает количество пользователей с платной подпиской ultra. Это может свидетельствовать о том, что большинство пользователей предпочитают пользоваться сервисом без регулярной платы за подписку (54.4% пользователей без подписки и 45.6% пользователей с подпиской).\n",
    "5. Наибольшее количество пользователей в возрасте от 10 до 20 лет: Наибольшее количество пользователей сконцентрировано в возрастной группе от 10 до 20 лет, что может свидетельствовать о популярности приложения среди подростков и молодежи, которые активно используют самокаты в городской среде\n",
    "6. Снижение числа пользователей с увеличением возраста: С увеличением возраста количество пользователей постепенно уменьшается, что вполне естественно, учитывая, что использование самоката может быть менее привлекательным для старших возрастных групп из-за физических ограничений или изменения интересов.\n",
    "7. В большинстве случаев, среднее расстояние поездок составляет более 3 километров. Однако, есть небольшой пик около расстояния в 600 метров, что может указывать на то, что некоторые пользователи совершают короткие поездки, возможно, чтобы добраться до ближайших станций метро или других общественных транспортных средств.\n",
    "8. Пользователи берут самокат в аренду в среднем на ~18 минут\n",
    "После были произведены расчеты, выдвинуты и подтверждены следующие гипотезы:\n",
    "1. Пользователи с подпиской тратят больше времени на поездки (Среднее время поездки пользователей без подписки - 17.39 минут и c подпиской - 18.54 минут)\n",
    "2. Среднее расстояние поездки пользователя с подпиской меньше, либо равна 3130 метрам\n",
    "3. Помесячная выручка от пользователей с подпиской выше чем выручка от пользователей без подписки (Средняя помесячная выручка от пользователи без подписки - 328.64 и с подпиской - 362.79)\n",
    "Также для отдела маркетинга были произведены расчеты и получены следующие результаты:\n",
    "1. Для гарантированного получения не менее 100 продлений подписок при проведении акции раздачи промокодов с вероятностью невыполнения плана не более 5%, необходимо отправить менее 1161 промокода.\n",
    "2. В условиях акции рассылки 1 миллиона push-уведомлений вероятность того, что их откроют не более, чем 399,5 тысяч пользователей, составляет 15%.\n",
    "\n",
    "Исходя из полученных результатов, можно дать следующие рекомендации:\n",
    "1. Необходимо обратить внимание на области с высокой концентрацией пользователей и разработать меры по улучшению сервиса и инфраструктуры в этих регионах, чтобы удовлетворить спрос на аренду самокатов.\n",
    "2. Разработать маркетинговые стратегии, направленные на увеличение числа подписчиков, предлагая им выгодные условия использования сервиса и акции.\n",
    "3. Внимательно изучить поведение пользователей в разных возрастных группах и адаптировать сервис и маркетинговые стратегии под их потребности и предпочтения.\n",
    "4. Создать акции и специальные предложения для пользователей, совершающих короткие поездки, чтобы стимулировать их чаще пользоваться сервисом.\n",
    "5. Провести тестовые рассылки промокодов и push-уведомлений с целью увеличения числа активных пользователей и продлений подписок, учитывая вероятности, полученные в ходе анализа."
   ]
  },
  {
   "cell_type": "markdown",
   "id": "3516bb88",
   "metadata": {},
   "source": [
    "<div class=\"alert alert-block alert-success\">\n",
    "<b>✅Комментарий ревьюера:</b> \n",
    "\n",
    "\n",
    "Хороший итоговый вывод! Здорово, что сформулировала рекомендации!\n",
    "\n",
    "\n",
    "    \n",
    "**Хочу обратить твое внимание на то, что после исправления замечаний в некоторых пунктах исследования могут измениться результаты, поэтому нужно будет подкорректировать выводы.**\n",
    "</div>"
   ]
  },
  {
   "cell_type": "code",
   "execution_count": null,
   "id": "1ae3f3f8",
   "metadata": {},
   "outputs": [],
   "source": []
  },
  {
   "cell_type": "code",
   "execution_count": null,
   "id": "330aecd0",
   "metadata": {},
   "outputs": [],
   "source": []
  },
  {
   "cell_type": "code",
   "execution_count": null,
   "id": "32b87c2c",
   "metadata": {},
   "outputs": [],
   "source": []
  },
  {
   "cell_type": "code",
   "execution_count": null,
   "id": "aaf662cf",
   "metadata": {},
   "outputs": [],
   "source": []
  }
 ],
 "metadata": {
  "ExecuteTimeLog": [
   {
    "duration": 1342,
    "start_time": "2024-03-01T13:44:45.481Z"
   },
   {
    "duration": 184,
    "start_time": "2024-03-01T14:00:57.946Z"
   },
   {
    "duration": 3,
    "start_time": "2024-03-01T14:04:22.081Z"
   },
   {
    "duration": 2,
    "start_time": "2024-03-01T14:05:08.304Z"
   },
   {
    "duration": 2,
    "start_time": "2024-03-01T14:05:42.327Z"
   },
   {
    "duration": 21,
    "start_time": "2024-03-01T14:08:07.162Z"
   },
   {
    "duration": 17,
    "start_time": "2024-03-01T14:09:14.472Z"
   },
   {
    "duration": 14,
    "start_time": "2024-03-01T14:09:59.943Z"
   },
   {
    "duration": 3,
    "start_time": "2024-03-01T14:10:11.748Z"
   },
   {
    "duration": 19,
    "start_time": "2024-03-01T14:10:12.860Z"
   },
   {
    "duration": 16,
    "start_time": "2024-03-01T14:10:15.368Z"
   },
   {
    "duration": 13,
    "start_time": "2024-03-01T14:10:16.764Z"
   },
   {
    "duration": 2,
    "start_time": "2024-03-01T14:17:24.950Z"
   },
   {
    "duration": 11,
    "start_time": "2024-03-01T14:17:26.152Z"
   },
   {
    "duration": 3,
    "start_time": "2024-03-01T14:17:35.052Z"
   },
   {
    "duration": 15,
    "start_time": "2024-03-01T14:17:35.996Z"
   },
   {
    "duration": 16,
    "start_time": "2024-03-01T14:17:40.046Z"
   },
   {
    "duration": 7,
    "start_time": "2024-03-01T14:25:32.316Z"
   },
   {
    "duration": 15,
    "start_time": "2024-03-01T14:26:08.736Z"
   },
   {
    "duration": 95,
    "start_time": "2024-03-01T14:27:51.523Z"
   },
   {
    "duration": 6,
    "start_time": "2024-03-01T14:27:58.484Z"
   },
   {
    "duration": 4,
    "start_time": "2024-03-01T14:28:06.876Z"
   },
   {
    "duration": 10,
    "start_time": "2024-03-01T14:28:16.030Z"
   },
   {
    "duration": 4,
    "start_time": "2024-03-01T14:34:03.447Z"
   },
   {
    "duration": 4,
    "start_time": "2024-03-01T14:34:26.205Z"
   },
   {
    "duration": 11,
    "start_time": "2024-03-01T14:34:33.271Z"
   },
   {
    "duration": 14,
    "start_time": "2024-03-01T14:34:46.750Z"
   },
   {
    "duration": 4,
    "start_time": "2024-03-01T14:35:31.667Z"
   },
   {
    "duration": 15,
    "start_time": "2024-03-01T14:35:32.666Z"
   },
   {
    "duration": 3,
    "start_time": "2024-03-01T14:35:54.686Z"
   },
   {
    "duration": 71,
    "start_time": "2024-03-01T14:35:55.138Z"
   },
   {
    "duration": 14,
    "start_time": "2024-03-01T14:37:27.445Z"
   },
   {
    "duration": 14,
    "start_time": "2024-03-01T14:37:37.060Z"
   },
   {
    "duration": 6,
    "start_time": "2024-03-01T14:40:20.657Z"
   },
   {
    "duration": 5,
    "start_time": "2024-03-01T14:40:35.175Z"
   },
   {
    "duration": 4,
    "start_time": "2024-03-01T14:40:42.888Z"
   },
   {
    "duration": 4,
    "start_time": "2024-03-01T14:40:52.751Z"
   },
   {
    "duration": 6,
    "start_time": "2024-03-01T14:41:00.701Z"
   },
   {
    "duration": 7,
    "start_time": "2024-03-01T14:41:38.947Z"
   },
   {
    "duration": 4,
    "start_time": "2024-03-01T14:41:44.038Z"
   },
   {
    "duration": 15,
    "start_time": "2024-03-01T14:42:34.072Z"
   },
   {
    "duration": 4,
    "start_time": "2024-03-01T14:44:08.981Z"
   },
   {
    "duration": 4,
    "start_time": "2024-03-01T14:44:29.201Z"
   },
   {
    "duration": 12,
    "start_time": "2024-03-01T14:46:33.019Z"
   },
   {
    "duration": 7,
    "start_time": "2024-03-01T14:46:53.018Z"
   },
   {
    "duration": 160,
    "start_time": "2024-03-01T15:04:01.566Z"
   },
   {
    "duration": 156,
    "start_time": "2024-03-01T15:04:30.848Z"
   },
   {
    "duration": 148,
    "start_time": "2024-03-01T15:04:39.393Z"
   },
   {
    "duration": 12,
    "start_time": "2024-03-01T15:06:14.617Z"
   },
   {
    "duration": 11,
    "start_time": "2024-03-01T15:06:37.307Z"
   },
   {
    "duration": 1250,
    "start_time": "2024-03-01T15:14:29.450Z"
   },
   {
    "duration": 1176,
    "start_time": "2024-03-01T15:15:23.966Z"
   },
   {
    "duration": 114,
    "start_time": "2024-03-01T15:15:34.156Z"
   },
   {
    "duration": 127,
    "start_time": "2024-03-01T15:15:59.084Z"
   },
   {
    "duration": 126,
    "start_time": "2024-03-01T15:16:27.278Z"
   },
   {
    "duration": 15,
    "start_time": "2024-03-01T15:17:47.711Z"
   },
   {
    "duration": 20,
    "start_time": "2024-03-01T15:18:19.526Z"
   },
   {
    "duration": 125,
    "start_time": "2024-03-01T15:18:30.346Z"
   },
   {
    "duration": 14,
    "start_time": "2024-03-01T15:27:24.836Z"
   },
   {
    "duration": 347,
    "start_time": "2024-03-01T15:32:37.425Z"
   },
   {
    "duration": 265,
    "start_time": "2024-03-01T15:32:46.951Z"
   },
   {
    "duration": 296,
    "start_time": "2024-03-01T15:32:59.257Z"
   },
   {
    "duration": 166,
    "start_time": "2024-03-01T15:33:22.120Z"
   },
   {
    "duration": 292,
    "start_time": "2024-03-01T15:33:42.498Z"
   },
   {
    "duration": 301,
    "start_time": "2024-03-01T15:34:07.382Z"
   },
   {
    "duration": 320,
    "start_time": "2024-03-01T15:34:50.461Z"
   },
   {
    "duration": 372,
    "start_time": "2024-03-01T15:34:57.560Z"
   },
   {
    "duration": 288,
    "start_time": "2024-03-01T15:36:07.428Z"
   },
   {
    "duration": 311,
    "start_time": "2024-03-01T15:36:14.572Z"
   },
   {
    "duration": 321,
    "start_time": "2024-03-01T15:36:25.767Z"
   },
   {
    "duration": 281,
    "start_time": "2024-03-01T15:36:32.366Z"
   },
   {
    "duration": 13,
    "start_time": "2024-03-01T15:36:39.753Z"
   },
   {
    "duration": 13,
    "start_time": "2024-03-01T15:36:59.636Z"
   },
   {
    "duration": 19,
    "start_time": "2024-03-01T15:37:09.942Z"
   },
   {
    "duration": 165,
    "start_time": "2024-03-01T15:37:39.790Z"
   },
   {
    "duration": 264,
    "start_time": "2024-03-01T15:37:52.061Z"
   },
   {
    "duration": 177,
    "start_time": "2024-03-01T15:38:17.092Z"
   },
   {
    "duration": 15,
    "start_time": "2024-03-01T15:45:12.816Z"
   },
   {
    "duration": 13,
    "start_time": "2024-03-01T15:45:54.185Z"
   },
   {
    "duration": 127746,
    "start_time": "2024-03-01T15:46:30.023Z"
   },
   {
    "duration": 21983,
    "start_time": "2024-03-01T15:48:50.219Z"
   },
   {
    "duration": 159,
    "start_time": "2024-03-01T15:49:17.101Z"
   },
   {
    "duration": 182,
    "start_time": "2024-03-01T15:49:31.559Z"
   },
   {
    "duration": 169,
    "start_time": "2024-03-01T15:55:04.714Z"
   },
   {
    "duration": 31,
    "start_time": "2024-03-01T15:59:16.066Z"
   },
   {
    "duration": 24,
    "start_time": "2024-03-01T15:59:21.890Z"
   },
   {
    "duration": 16,
    "start_time": "2024-03-01T16:01:06.130Z"
   },
   {
    "duration": 17,
    "start_time": "2024-03-01T16:01:14.495Z"
   },
   {
    "duration": 14,
    "start_time": "2024-03-01T16:01:28.072Z"
   },
   {
    "duration": 16,
    "start_time": "2024-03-01T16:01:37.078Z"
   },
   {
    "duration": 9,
    "start_time": "2024-03-01T16:02:10.179Z"
   },
   {
    "duration": 15,
    "start_time": "2024-03-01T16:02:22.699Z"
   },
   {
    "duration": 166,
    "start_time": "2024-03-01T16:04:22.040Z"
   },
   {
    "duration": 164,
    "start_time": "2024-03-01T16:04:30.124Z"
   },
   {
    "duration": 224,
    "start_time": "2024-03-01T16:04:35.085Z"
   },
   {
    "duration": 232,
    "start_time": "2024-03-01T16:05:47.544Z"
   },
   {
    "duration": 236,
    "start_time": "2024-03-01T16:05:58.634Z"
   },
   {
    "duration": 225,
    "start_time": "2024-03-01T16:07:16.283Z"
   },
   {
    "duration": 211,
    "start_time": "2024-03-01T16:07:29.454Z"
   },
   {
    "duration": 226,
    "start_time": "2024-03-01T16:07:34.516Z"
   },
   {
    "duration": 196,
    "start_time": "2024-03-01T16:07:41.978Z"
   },
   {
    "duration": 192,
    "start_time": "2024-03-01T16:07:51.446Z"
   },
   {
    "duration": 242,
    "start_time": "2024-03-01T16:07:57.927Z"
   },
   {
    "duration": 273,
    "start_time": "2024-03-01T16:08:03.671Z"
   },
   {
    "duration": 272,
    "start_time": "2024-03-01T16:08:11.041Z"
   },
   {
    "duration": 283,
    "start_time": "2024-03-01T16:08:27.146Z"
   },
   {
    "duration": 279,
    "start_time": "2024-03-01T16:08:38.105Z"
   },
   {
    "duration": 266,
    "start_time": "2024-03-01T16:08:44.061Z"
   },
   {
    "duration": 277,
    "start_time": "2024-03-01T16:08:50.124Z"
   },
   {
    "duration": 22,
    "start_time": "2024-03-01T16:21:06.392Z"
   },
   {
    "duration": 46,
    "start_time": "2024-03-01T16:21:18.890Z"
   },
   {
    "duration": 27,
    "start_time": "2024-03-01T16:21:55.170Z"
   },
   {
    "duration": 25,
    "start_time": "2024-03-01T16:22:07.596Z"
   },
   {
    "duration": 25,
    "start_time": "2024-03-01T16:22:12.229Z"
   },
   {
    "duration": 27,
    "start_time": "2024-03-01T16:22:17.509Z"
   },
   {
    "duration": 31,
    "start_time": "2024-03-01T16:22:28.073Z"
   },
   {
    "duration": 30,
    "start_time": "2024-03-01T16:23:13.033Z"
   },
   {
    "duration": 35,
    "start_time": "2024-03-01T16:23:41.651Z"
   },
   {
    "duration": 21,
    "start_time": "2024-03-01T16:24:18.140Z"
   },
   {
    "duration": 30,
    "start_time": "2024-03-01T16:24:23.799Z"
   },
   {
    "duration": 28,
    "start_time": "2024-03-01T16:24:46.695Z"
   },
   {
    "duration": 28,
    "start_time": "2024-03-01T16:24:49.791Z"
   },
   {
    "duration": 29,
    "start_time": "2024-03-01T16:24:54.832Z"
   },
   {
    "duration": 9,
    "start_time": "2024-03-01T16:37:02.906Z"
   },
   {
    "duration": 27,
    "start_time": "2024-03-01T16:37:17.926Z"
   },
   {
    "duration": 19,
    "start_time": "2024-03-01T16:43:09.531Z"
   },
   {
    "duration": 198,
    "start_time": "2024-03-01T16:43:28.976Z"
   },
   {
    "duration": 1143,
    "start_time": "2024-03-01T16:43:44.030Z"
   },
   {
    "duration": 19,
    "start_time": "2024-03-01T16:43:56.450Z"
   },
   {
    "duration": 1116,
    "start_time": "2024-03-01T16:43:57.588Z"
   },
   {
    "duration": 31,
    "start_time": "2024-03-01T16:44:10.915Z"
   },
   {
    "duration": 24,
    "start_time": "2024-03-01T16:44:13.626Z"
   },
   {
    "duration": 193,
    "start_time": "2024-03-01T16:44:15.495Z"
   },
   {
    "duration": 5,
    "start_time": "2024-03-01T16:49:37.258Z"
   },
   {
    "duration": 5,
    "start_time": "2024-03-01T16:51:29.598Z"
   },
   {
    "duration": 5,
    "start_time": "2024-03-01T16:56:06.644Z"
   },
   {
    "duration": 4,
    "start_time": "2024-03-01T16:56:35.480Z"
   },
   {
    "duration": 13,
    "start_time": "2024-03-01T17:01:08.523Z"
   },
   {
    "duration": 5,
    "start_time": "2024-03-01T17:03:19.114Z"
   },
   {
    "duration": 6144,
    "start_time": "2024-03-01T17:14:31.505Z"
   },
   {
    "duration": 1320,
    "start_time": "2024-03-01T17:14:47.031Z"
   },
   {
    "duration": 81,
    "start_time": "2024-03-01T17:15:39.674Z"
   },
   {
    "duration": 5,
    "start_time": "2024-03-01T17:19:04.198Z"
   },
   {
    "duration": 111,
    "start_time": "2024-03-01T17:22:32.106Z"
   },
   {
    "duration": 9,
    "start_time": "2024-03-01T17:23:04.515Z"
   },
   {
    "duration": 136,
    "start_time": "2024-03-01T17:23:16.066Z"
   },
   {
    "duration": 6,
    "start_time": "2024-03-01T17:23:25.060Z"
   },
   {
    "duration": 105,
    "start_time": "2024-03-01T17:23:44.287Z"
   },
   {
    "duration": 69,
    "start_time": "2024-03-01T17:24:02.579Z"
   },
   {
    "duration": 69,
    "start_time": "2024-03-01T17:24:14.917Z"
   },
   {
    "duration": 10,
    "start_time": "2024-03-01T17:31:09.189Z"
   },
   {
    "duration": 36,
    "start_time": "2024-03-01T17:31:25.245Z"
   },
   {
    "duration": 27,
    "start_time": "2024-03-01T17:31:33.202Z"
   },
   {
    "duration": 210,
    "start_time": "2024-03-01T17:31:33.915Z"
   },
   {
    "duration": 1029,
    "start_time": "2024-03-01T17:36:50.491Z"
   },
   {
    "duration": 277,
    "start_time": "2024-03-01T17:36:53.652Z"
   },
   {
    "duration": 3,
    "start_time": "2024-03-01T17:36:54.281Z"
   },
   {
    "duration": 21,
    "start_time": "2024-03-01T17:36:54.824Z"
   },
   {
    "duration": 16,
    "start_time": "2024-03-01T17:36:55.249Z"
   },
   {
    "duration": 13,
    "start_time": "2024-03-01T17:36:55.600Z"
   },
   {
    "duration": 7,
    "start_time": "2024-03-01T17:36:56.390Z"
   },
   {
    "duration": 15,
    "start_time": "2024-03-01T17:36:56.849Z"
   },
   {
    "duration": 10,
    "start_time": "2024-03-01T17:36:57.401Z"
   },
   {
    "duration": 4,
    "start_time": "2024-03-01T17:36:57.870Z"
   },
   {
    "duration": 51,
    "start_time": "2024-03-01T17:36:58.068Z"
   },
   {
    "duration": 16,
    "start_time": "2024-03-01T17:36:58.430Z"
   },
   {
    "duration": 5,
    "start_time": "2024-03-01T17:36:58.902Z"
   },
   {
    "duration": 5,
    "start_time": "2024-03-01T17:36:59.153Z"
   },
   {
    "duration": 14,
    "start_time": "2024-03-01T17:36:59.605Z"
   },
   {
    "duration": 5,
    "start_time": "2024-03-01T17:37:00.244Z"
   },
   {
    "duration": 12,
    "start_time": "2024-03-01T17:37:00.787Z"
   },
   {
    "duration": 7,
    "start_time": "2024-03-01T17:37:01.026Z"
   },
   {
    "duration": 163,
    "start_time": "2024-03-01T17:37:02.433Z"
   },
   {
    "duration": 13,
    "start_time": "2024-03-01T17:37:02.652Z"
   },
   {
    "duration": 8,
    "start_time": "2024-03-01T17:37:06.219Z"
   },
   {
    "duration": 123,
    "start_time": "2024-03-01T17:37:06.835Z"
   },
   {
    "duration": 7,
    "start_time": "2024-03-01T17:37:07.811Z"
   },
   {
    "duration": 80,
    "start_time": "2024-03-01T17:37:09.259Z"
   },
   {
    "duration": 320,
    "start_time": "2024-03-01T17:37:11.572Z"
   },
   {
    "duration": 15,
    "start_time": "2024-03-01T17:37:13.073Z"
   },
   {
    "duration": 166,
    "start_time": "2024-03-01T17:37:14.949Z"
   },
   {
    "duration": 179,
    "start_time": "2024-03-01T17:37:18.697Z"
   },
   {
    "duration": 176,
    "start_time": "2024-03-01T17:37:21.574Z"
   },
   {
    "duration": 24,
    "start_time": "2024-03-01T17:37:22.946Z"
   },
   {
    "duration": 17,
    "start_time": "2024-03-01T17:37:23.360Z"
   },
   {
    "duration": 14,
    "start_time": "2024-03-01T17:37:23.587Z"
   },
   {
    "duration": 341,
    "start_time": "2024-03-01T17:37:24.060Z"
   },
   {
    "duration": 280,
    "start_time": "2024-03-01T17:37:24.447Z"
   },
   {
    "duration": 36,
    "start_time": "2024-03-01T17:37:29.921Z"
   },
   {
    "duration": 35,
    "start_time": "2024-03-01T17:37:30.988Z"
   },
   {
    "duration": 199,
    "start_time": "2024-03-01T17:37:31.250Z"
   },
   {
    "duration": 5,
    "start_time": "2024-03-01T17:37:32.824Z"
   },
   {
    "duration": 5,
    "start_time": "2024-03-01T17:37:33.471Z"
   },
   {
    "duration": 5,
    "start_time": "2024-03-01T17:37:34.397Z"
   },
   {
    "duration": 4,
    "start_time": "2024-03-01T17:37:34.667Z"
   },
   {
    "duration": 9,
    "start_time": "2024-03-01T17:37:35.841Z"
   },
   {
    "duration": 4,
    "start_time": "2024-03-01T17:37:36.404Z"
   },
   {
    "duration": 1434,
    "start_time": "2024-03-01T17:37:38.400Z"
   },
   {
    "duration": 91,
    "start_time": "2024-03-01T17:37:39.836Z"
   },
   {
    "duration": 6,
    "start_time": "2024-03-01T17:37:40.758Z"
   },
   {
    "duration": 1373,
    "start_time": "2024-03-02T08:20:50.118Z"
   },
   {
    "duration": 201,
    "start_time": "2024-03-02T08:20:51.493Z"
   },
   {
    "duration": 3,
    "start_time": "2024-03-02T08:20:51.696Z"
   },
   {
    "duration": 60,
    "start_time": "2024-03-02T08:20:51.701Z"
   },
   {
    "duration": 17,
    "start_time": "2024-03-02T08:20:51.763Z"
   },
   {
    "duration": 15,
    "start_time": "2024-03-02T08:20:51.782Z"
   },
   {
    "duration": 8,
    "start_time": "2024-03-02T08:20:51.799Z"
   },
   {
    "duration": 15,
    "start_time": "2024-03-02T08:20:51.809Z"
   },
   {
    "duration": 11,
    "start_time": "2024-03-02T08:20:51.826Z"
   },
   {
    "duration": 3,
    "start_time": "2024-03-02T08:20:51.839Z"
   },
   {
    "duration": 75,
    "start_time": "2024-03-02T08:20:51.843Z"
   },
   {
    "duration": 15,
    "start_time": "2024-03-02T08:20:51.919Z"
   },
   {
    "duration": 5,
    "start_time": "2024-03-02T08:20:51.935Z"
   },
   {
    "duration": 9,
    "start_time": "2024-03-02T08:20:51.942Z"
   },
   {
    "duration": 45,
    "start_time": "2024-03-02T08:20:51.953Z"
   },
   {
    "duration": 5,
    "start_time": "2024-03-02T08:20:52.001Z"
   },
   {
    "duration": 14,
    "start_time": "2024-03-02T08:20:52.008Z"
   },
   {
    "duration": 39,
    "start_time": "2024-03-02T08:20:52.024Z"
   },
   {
    "duration": 188,
    "start_time": "2024-03-02T08:20:52.065Z"
   },
   {
    "duration": 13,
    "start_time": "2024-03-02T08:20:52.255Z"
   },
   {
    "duration": 22,
    "start_time": "2024-03-02T08:20:52.269Z"
   },
   {
    "duration": 141,
    "start_time": "2024-03-02T08:20:52.293Z"
   },
   {
    "duration": 6,
    "start_time": "2024-03-02T08:20:52.436Z"
   },
   {
    "duration": 91,
    "start_time": "2024-03-02T08:20:52.443Z"
   },
   {
    "duration": 311,
    "start_time": "2024-03-02T08:20:52.535Z"
   },
   {
    "duration": 14,
    "start_time": "2024-03-02T08:20:52.848Z"
   },
   {
    "duration": 203,
    "start_time": "2024-03-02T08:20:52.864Z"
   },
   {
    "duration": 189,
    "start_time": "2024-03-02T08:20:53.070Z"
   },
   {
    "duration": 203,
    "start_time": "2024-03-02T08:20:53.261Z"
   },
   {
    "duration": 36,
    "start_time": "2024-03-02T08:20:53.466Z"
   },
   {
    "duration": 18,
    "start_time": "2024-03-02T08:20:53.503Z"
   },
   {
    "duration": 16,
    "start_time": "2024-03-02T08:20:53.523Z"
   },
   {
    "duration": 427,
    "start_time": "2024-03-02T08:20:53.540Z"
   },
   {
    "duration": 326,
    "start_time": "2024-03-02T08:20:53.969Z"
   },
   {
    "duration": 40,
    "start_time": "2024-03-02T08:20:54.297Z"
   },
   {
    "duration": 27,
    "start_time": "2024-03-02T08:20:54.338Z"
   },
   {
    "duration": 247,
    "start_time": "2024-03-02T08:20:54.366Z"
   },
   {
    "duration": 6,
    "start_time": "2024-03-02T08:20:54.614Z"
   },
   {
    "duration": 36,
    "start_time": "2024-03-02T08:20:54.621Z"
   },
   {
    "duration": 6,
    "start_time": "2024-03-02T08:20:54.659Z"
   },
   {
    "duration": 6,
    "start_time": "2024-03-02T08:20:54.667Z"
   },
   {
    "duration": 11,
    "start_time": "2024-03-02T08:20:54.675Z"
   },
   {
    "duration": 4,
    "start_time": "2024-03-02T08:20:54.691Z"
   },
   {
    "duration": 1546,
    "start_time": "2024-03-02T08:20:54.697Z"
   },
   {
    "duration": 98,
    "start_time": "2024-03-02T08:20:56.245Z"
   },
   {
    "duration": 6,
    "start_time": "2024-03-02T08:20:56.345Z"
   },
   {
    "duration": 7,
    "start_time": "2024-03-02T08:27:39.610Z"
   },
   {
    "duration": 1119,
    "start_time": "2024-03-02T08:31:49.946Z"
   },
   {
    "duration": 213,
    "start_time": "2024-03-02T08:31:51.067Z"
   },
   {
    "duration": 3,
    "start_time": "2024-03-02T08:31:51.281Z"
   },
   {
    "duration": 24,
    "start_time": "2024-03-02T08:31:51.286Z"
   },
   {
    "duration": 18,
    "start_time": "2024-03-02T08:31:51.312Z"
   },
   {
    "duration": 15,
    "start_time": "2024-03-02T08:31:51.332Z"
   },
   {
    "duration": 9,
    "start_time": "2024-03-02T08:31:51.348Z"
   },
   {
    "duration": 43,
    "start_time": "2024-03-02T08:31:51.358Z"
   },
   {
    "duration": 10,
    "start_time": "2024-03-02T08:31:51.403Z"
   },
   {
    "duration": 10,
    "start_time": "2024-03-02T08:31:51.416Z"
   },
   {
    "duration": 73,
    "start_time": "2024-03-02T08:31:51.428Z"
   },
   {
    "duration": 15,
    "start_time": "2024-03-02T08:31:51.503Z"
   },
   {
    "duration": 5,
    "start_time": "2024-03-02T08:31:51.520Z"
   },
   {
    "duration": 10,
    "start_time": "2024-03-02T08:31:51.526Z"
   },
   {
    "duration": 25,
    "start_time": "2024-03-02T08:31:51.537Z"
   },
   {
    "duration": 30,
    "start_time": "2024-03-02T08:31:51.565Z"
   },
   {
    "duration": 14,
    "start_time": "2024-03-02T08:31:51.597Z"
   },
   {
    "duration": 7,
    "start_time": "2024-03-02T08:31:51.613Z"
   },
   {
    "duration": 219,
    "start_time": "2024-03-02T08:31:51.621Z"
   },
   {
    "duration": 13,
    "start_time": "2024-03-02T08:31:51.841Z"
   },
   {
    "duration": 12,
    "start_time": "2024-03-02T08:31:51.856Z"
   },
   {
    "duration": 151,
    "start_time": "2024-03-02T08:31:51.870Z"
   },
   {
    "duration": 8,
    "start_time": "2024-03-02T08:31:52.023Z"
   },
   {
    "duration": 97,
    "start_time": "2024-03-02T08:31:52.032Z"
   },
   {
    "duration": 308,
    "start_time": "2024-03-02T08:31:52.130Z"
   },
   {
    "duration": 15,
    "start_time": "2024-03-02T08:31:52.439Z"
   },
   {
    "duration": 201,
    "start_time": "2024-03-02T08:31:52.456Z"
   },
   {
    "duration": 196,
    "start_time": "2024-03-02T08:31:52.660Z"
   },
   {
    "duration": 208,
    "start_time": "2024-03-02T08:31:52.858Z"
   },
   {
    "duration": 39,
    "start_time": "2024-03-02T08:31:53.068Z"
   },
   {
    "duration": 20,
    "start_time": "2024-03-02T08:31:53.109Z"
   },
   {
    "duration": 15,
    "start_time": "2024-03-02T08:31:53.130Z"
   },
   {
    "duration": 394,
    "start_time": "2024-03-02T08:31:53.147Z"
   },
   {
    "duration": 300,
    "start_time": "2024-03-02T08:31:53.543Z"
   },
   {
    "duration": 46,
    "start_time": "2024-03-02T08:31:53.845Z"
   },
   {
    "duration": 28,
    "start_time": "2024-03-02T08:31:53.893Z"
   },
   {
    "duration": 227,
    "start_time": "2024-03-02T08:31:53.922Z"
   },
   {
    "duration": 6,
    "start_time": "2024-03-02T08:31:54.150Z"
   },
   {
    "duration": 7,
    "start_time": "2024-03-02T08:31:54.157Z"
   },
   {
    "duration": 26,
    "start_time": "2024-03-02T08:31:54.165Z"
   },
   {
    "duration": 4,
    "start_time": "2024-03-02T08:31:54.193Z"
   },
   {
    "duration": 12,
    "start_time": "2024-03-02T08:31:54.199Z"
   },
   {
    "duration": 4,
    "start_time": "2024-03-02T08:31:54.213Z"
   },
   {
    "duration": 1607,
    "start_time": "2024-03-02T08:31:54.219Z"
   },
   {
    "duration": 90,
    "start_time": "2024-03-02T08:31:55.827Z"
   },
   {
    "duration": 6,
    "start_time": "2024-03-02T08:31:55.918Z"
   },
   {
    "duration": 1393,
    "start_time": "2024-03-02T17:36:06.814Z"
   },
   {
    "duration": 392,
    "start_time": "2024-03-02T17:36:13.528Z"
   },
   {
    "duration": 3,
    "start_time": "2024-03-02T17:36:15.932Z"
   },
   {
    "duration": 27,
    "start_time": "2024-03-02T17:36:17.542Z"
   },
   {
    "duration": 20,
    "start_time": "2024-03-02T17:36:19.801Z"
   },
   {
    "duration": 14,
    "start_time": "2024-03-02T17:36:21.714Z"
   },
   {
    "duration": 8,
    "start_time": "2024-03-02T17:36:28.319Z"
   },
   {
    "duration": 20,
    "start_time": "2024-03-02T17:36:30.712Z"
   },
   {
    "duration": 12,
    "start_time": "2024-03-02T17:36:33.207Z"
   },
   {
    "duration": 3,
    "start_time": "2024-03-02T17:36:35.382Z"
   },
   {
    "duration": 67,
    "start_time": "2024-03-02T17:36:35.830Z"
   },
   {
    "duration": 16,
    "start_time": "2024-03-02T17:36:38.331Z"
   },
   {
    "duration": 5,
    "start_time": "2024-03-02T17:36:40.078Z"
   },
   {
    "duration": 5,
    "start_time": "2024-03-02T17:36:41.478Z"
   },
   {
    "duration": 22,
    "start_time": "2024-03-02T17:36:43.785Z"
   },
   {
    "duration": 5,
    "start_time": "2024-03-02T17:36:45.001Z"
   },
   {
    "duration": 17,
    "start_time": "2024-03-02T17:36:47.598Z"
   },
   {
    "duration": 6,
    "start_time": "2024-03-02T17:36:49.350Z"
   },
   {
    "duration": 183,
    "start_time": "2024-03-02T17:36:54.948Z"
   },
   {
    "duration": 7,
    "start_time": "2024-03-02T17:37:27.166Z"
   },
   {
    "duration": 12,
    "start_time": "2024-03-02T17:37:51.512Z"
   },
   {
    "duration": 175,
    "start_time": "2024-03-02T17:37:52.141Z"
   },
   {
    "duration": 11,
    "start_time": "2024-03-02T17:37:53.488Z"
   },
   {
    "duration": 83,
    "start_time": "2024-03-02T17:37:53.818Z"
   },
   {
    "duration": 337,
    "start_time": "2024-03-02T17:38:01.407Z"
   },
   {
    "duration": 23,
    "start_time": "2024-03-02T17:38:19.211Z"
   },
   {
    "duration": 231,
    "start_time": "2024-03-02T17:38:21.819Z"
   },
   {
    "duration": 195,
    "start_time": "2024-03-02T17:38:25.264Z"
   },
   {
    "duration": 216,
    "start_time": "2024-03-02T17:38:29.482Z"
   },
   {
    "duration": 41,
    "start_time": "2024-03-02T17:38:40.401Z"
   },
   {
    "duration": 31,
    "start_time": "2024-03-02T17:39:24.555Z"
   },
   {
    "duration": 110,
    "start_time": "2024-03-02T17:39:46.491Z"
   },
   {
    "duration": 117,
    "start_time": "2024-03-02T17:40:08.019Z"
   },
   {
    "duration": 15,
    "start_time": "2024-03-02T17:40:26.605Z"
   },
   {
    "duration": 14,
    "start_time": "2024-03-02T17:42:15.378Z"
   },
   {
    "duration": 17,
    "start_time": "2024-03-02T17:43:09.903Z"
   },
   {
    "duration": 23,
    "start_time": "2024-03-02T17:43:11.331Z"
   },
   {
    "duration": 328,
    "start_time": "2024-03-02T17:43:13.292Z"
   },
   {
    "duration": 336,
    "start_time": "2024-03-02T17:43:14.311Z"
   },
   {
    "duration": 40,
    "start_time": "2024-03-02T17:43:29.663Z"
   },
   {
    "duration": 42,
    "start_time": "2024-03-02T17:43:33.203Z"
   },
   {
    "duration": 22,
    "start_time": "2024-03-02T17:44:12.888Z"
   },
   {
    "duration": 6,
    "start_time": "2024-03-02T17:48:01.092Z"
   },
   {
    "duration": 1751,
    "start_time": "2024-03-02T17:52:35.582Z"
   },
   {
    "duration": 1838,
    "start_time": "2024-03-02T17:52:42.284Z"
   },
   {
    "duration": 137,
    "start_time": "2024-03-02T17:53:15.105Z"
   },
   {
    "duration": 6,
    "start_time": "2024-03-02T17:53:17.177Z"
   },
   {
    "duration": 1217,
    "start_time": "2024-03-02T17:59:28.204Z"
   },
   {
    "duration": 270,
    "start_time": "2024-03-02T17:59:29.456Z"
   },
   {
    "duration": 3,
    "start_time": "2024-03-02T17:59:29.868Z"
   },
   {
    "duration": 25,
    "start_time": "2024-03-02T17:59:30.140Z"
   },
   {
    "duration": 33,
    "start_time": "2024-03-02T17:59:30.420Z"
   },
   {
    "duration": 17,
    "start_time": "2024-03-02T17:59:30.704Z"
   },
   {
    "duration": 10,
    "start_time": "2024-03-02T17:59:31.576Z"
   },
   {
    "duration": 17,
    "start_time": "2024-03-02T17:59:31.885Z"
   },
   {
    "duration": 11,
    "start_time": "2024-03-02T17:59:32.189Z"
   },
   {
    "duration": 3,
    "start_time": "2024-03-02T17:59:32.493Z"
   },
   {
    "duration": 55,
    "start_time": "2024-03-02T17:59:32.648Z"
   },
   {
    "duration": 23,
    "start_time": "2024-03-02T17:59:32.938Z"
   },
   {
    "duration": 7,
    "start_time": "2024-03-02T17:59:33.236Z"
   },
   {
    "duration": 6,
    "start_time": "2024-03-02T17:59:33.386Z"
   },
   {
    "duration": 16,
    "start_time": "2024-03-02T17:59:33.682Z"
   },
   {
    "duration": 5,
    "start_time": "2024-03-02T17:59:33.980Z"
   },
   {
    "duration": 14,
    "start_time": "2024-03-02T17:59:34.463Z"
   },
   {
    "duration": 6,
    "start_time": "2024-03-02T17:59:34.753Z"
   },
   {
    "duration": 209,
    "start_time": "2024-03-02T17:59:35.732Z"
   },
   {
    "duration": 7,
    "start_time": "2024-03-02T17:59:35.943Z"
   },
   {
    "duration": 10,
    "start_time": "2024-03-02T17:59:36.689Z"
   },
   {
    "duration": 154,
    "start_time": "2024-03-02T17:59:36.833Z"
   },
   {
    "duration": 7,
    "start_time": "2024-03-02T17:59:36.989Z"
   },
   {
    "duration": 97,
    "start_time": "2024-03-02T17:59:37.175Z"
   },
   {
    "duration": 328,
    "start_time": "2024-03-02T17:59:37.866Z"
   },
   {
    "duration": 18,
    "start_time": "2024-03-02T17:59:38.340Z"
   },
   {
    "duration": 205,
    "start_time": "2024-03-02T17:59:38.488Z"
   },
   {
    "duration": 203,
    "start_time": "2024-03-02T17:59:39.097Z"
   },
   {
    "duration": 215,
    "start_time": "2024-03-02T17:59:39.664Z"
   },
   {
    "duration": 37,
    "start_time": "2024-03-02T17:59:40.754Z"
   },
   {
    "duration": 20,
    "start_time": "2024-03-02T17:59:40.931Z"
   },
   {
    "duration": 28,
    "start_time": "2024-03-02T17:59:41.152Z"
   },
   {
    "duration": 18,
    "start_time": "2024-03-02T17:59:41.835Z"
   },
   {
    "duration": 16,
    "start_time": "2024-03-02T17:59:41.983Z"
   },
   {
    "duration": 404,
    "start_time": "2024-03-02T17:59:42.438Z"
   },
   {
    "duration": 347,
    "start_time": "2024-03-02T17:59:42.843Z"
   },
   {
    "duration": 41,
    "start_time": "2024-03-02T17:59:43.691Z"
   },
   {
    "duration": 28,
    "start_time": "2024-03-02T17:59:44.156Z"
   },
   {
    "duration": 32,
    "start_time": "2024-03-02T17:59:44.323Z"
   },
   {
    "duration": 7,
    "start_time": "2024-03-02T17:59:46.059Z"
   },
   {
    "duration": 5,
    "start_time": "2024-03-02T17:59:46.762Z"
   },
   {
    "duration": 11,
    "start_time": "2024-03-02T17:59:48.117Z"
   },
   {
    "duration": 4,
    "start_time": "2024-03-02T17:59:48.376Z"
   },
   {
    "duration": 9,
    "start_time": "2024-03-02T17:59:50.208Z"
   },
   {
    "duration": 4,
    "start_time": "2024-03-02T17:59:50.865Z"
   },
   {
    "duration": 1747,
    "start_time": "2024-03-02T17:59:53.630Z"
   },
   {
    "duration": 107,
    "start_time": "2024-03-02T17:59:55.379Z"
   },
   {
    "duration": 6,
    "start_time": "2024-03-02T17:59:56.774Z"
   },
   {
    "duration": 1168,
    "start_time": "2024-03-02T18:10:05.499Z"
   },
   {
    "duration": 183,
    "start_time": "2024-03-02T18:10:06.669Z"
   },
   {
    "duration": 2,
    "start_time": "2024-03-02T18:10:06.854Z"
   },
   {
    "duration": 24,
    "start_time": "2024-03-02T18:10:06.858Z"
   },
   {
    "duration": 15,
    "start_time": "2024-03-02T18:10:06.884Z"
   },
   {
    "duration": 12,
    "start_time": "2024-03-02T18:10:06.900Z"
   },
   {
    "duration": 7,
    "start_time": "2024-03-02T18:10:06.914Z"
   },
   {
    "duration": 20,
    "start_time": "2024-03-02T18:10:06.923Z"
   },
   {
    "duration": 14,
    "start_time": "2024-03-02T18:10:06.944Z"
   },
   {
    "duration": 4,
    "start_time": "2024-03-02T18:10:06.961Z"
   },
   {
    "duration": 58,
    "start_time": "2024-03-02T18:10:06.966Z"
   },
   {
    "duration": 14,
    "start_time": "2024-03-02T18:10:07.026Z"
   },
   {
    "duration": 5,
    "start_time": "2024-03-02T18:10:07.041Z"
   },
   {
    "duration": 5,
    "start_time": "2024-03-02T18:10:07.047Z"
   },
   {
    "duration": 20,
    "start_time": "2024-03-02T18:10:07.053Z"
   },
   {
    "duration": 5,
    "start_time": "2024-03-02T18:10:07.075Z"
   },
   {
    "duration": 45,
    "start_time": "2024-03-02T18:10:07.082Z"
   },
   {
    "duration": 7,
    "start_time": "2024-03-02T18:10:07.129Z"
   },
   {
    "duration": 180,
    "start_time": "2024-03-02T18:10:07.138Z"
   },
   {
    "duration": 5,
    "start_time": "2024-03-02T18:10:07.320Z"
   },
   {
    "duration": 8,
    "start_time": "2024-03-02T18:10:07.327Z"
   },
   {
    "duration": 160,
    "start_time": "2024-03-02T18:10:07.337Z"
   },
   {
    "duration": 6,
    "start_time": "2024-03-02T18:10:07.499Z"
   },
   {
    "duration": 73,
    "start_time": "2024-03-02T18:10:07.515Z"
   },
   {
    "duration": 285,
    "start_time": "2024-03-02T18:10:07.589Z"
   },
   {
    "duration": 14,
    "start_time": "2024-03-02T18:10:07.875Z"
   },
   {
    "duration": 179,
    "start_time": "2024-03-02T18:10:07.891Z"
   },
   {
    "duration": 187,
    "start_time": "2024-03-02T18:10:08.073Z"
   },
   {
    "duration": 202,
    "start_time": "2024-03-02T18:10:08.261Z"
   },
   {
    "duration": 28,
    "start_time": "2024-03-02T18:10:08.465Z"
   },
   {
    "duration": 26,
    "start_time": "2024-03-02T18:10:08.495Z"
   },
   {
    "duration": 33,
    "start_time": "2024-03-02T18:10:08.522Z"
   },
   {
    "duration": 14,
    "start_time": "2024-03-02T18:10:08.556Z"
   },
   {
    "duration": 13,
    "start_time": "2024-03-02T18:10:08.572Z"
   },
   {
    "duration": 357,
    "start_time": "2024-03-02T18:10:08.587Z"
   },
   {
    "duration": 281,
    "start_time": "2024-03-02T18:10:08.945Z"
   },
   {
    "duration": 35,
    "start_time": "2024-03-02T18:10:09.227Z"
   },
   {
    "duration": 24,
    "start_time": "2024-03-02T18:10:09.264Z"
   },
   {
    "duration": 35,
    "start_time": "2024-03-02T18:10:09.289Z"
   },
   {
    "duration": 5,
    "start_time": "2024-03-02T18:10:09.326Z"
   },
   {
    "duration": 16,
    "start_time": "2024-03-02T18:10:09.332Z"
   },
   {
    "duration": 5,
    "start_time": "2024-03-02T18:10:09.350Z"
   },
   {
    "duration": 3,
    "start_time": "2024-03-02T18:10:09.357Z"
   },
   {
    "duration": 23,
    "start_time": "2024-03-02T18:10:09.362Z"
   },
   {
    "duration": 4,
    "start_time": "2024-03-02T18:10:09.387Z"
   },
   {
    "duration": 1436,
    "start_time": "2024-03-02T18:10:09.393Z"
   },
   {
    "duration": 96,
    "start_time": "2024-03-02T18:10:10.831Z"
   },
   {
    "duration": 5,
    "start_time": "2024-03-02T18:10:10.929Z"
   }
  ],
  "kernelspec": {
   "display_name": "Python 3 (ipykernel)",
   "language": "python",
   "name": "python3"
  },
  "language_info": {
   "codemirror_mode": {
    "name": "ipython",
    "version": 3
   },
   "file_extension": ".py",
   "mimetype": "text/x-python",
   "name": "python",
   "nbconvert_exporter": "python",
   "pygments_lexer": "ipython3",
   "version": "3.10.13"
  },
  "toc": {
   "base_numbering": 1,
   "nav_menu": {},
   "number_sections": true,
   "sideBar": true,
   "skip_h1_title": true,
   "title_cell": "Table of Contents",
   "title_sidebar": "Contents",
   "toc_cell": false,
   "toc_position": {},
   "toc_section_display": true,
   "toc_window_display": false
  }
 },
 "nbformat": 4,
 "nbformat_minor": 5
}
