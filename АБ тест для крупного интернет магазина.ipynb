{
 "cells": [
  {
   "cell_type": "markdown",
   "metadata": {},
   "source": [
    "# Проектная работа. Принятие решений в бизнесе. АБ тест для крупного интернет магазина\n",
    "Вы — аналитик крупного интернет-магазина. Вашей задачей является приоритизация гипотез по увеличению выручки с использованием фреймворков ICE и RICE, а также анализ результатов A/B-теста\n",
    "\n",
    "### Цель проекта\n",
    "Оценить и приоритизировать гипотезы для увеличения выручки интернет-магазина, провести анализ A/B-теста и принять решение по его результатам.\n",
    "\n",
    "### Ход выполнения проекта\n",
    "В нашем распоряжении есть 3 датасета: hypothesis.csv, хранящий 9 гипотез по увеличению выручки интернет-магазина с указанными параметрами Reach, Impact, Confidence, Effort; orders.csv, хранящий информацию о заказах интернет-магазина, которые попали в АБ тест (с разделением по группам); visitors.csv, хранящий информацию о посетителях сайта, которые попали в АБ тест (с разделением по группам). О качестве данных нет никакой информации. Поэтому прежде чем приступить к анализу, понадобиться обзор данных, чтобы полученные в конечном итоге результаты были достоверны\n",
    "\n",
    "Поэтому мой проект будет иметь следующий порядок действий:\n",
    "1. Выгрузка данных\n",
    "2. Предобработка данных\n",
    "3. Приоретизация гипотез\n",
    "4. Анализ AB - теста\n",
    "5. Общие выводы"
   ]
  },
  {
   "cell_type": "markdown",
   "metadata": {},
   "source": [
    "Импортируем библиотеки:"
   ]
  },
  {
   "cell_type": "code",
   "execution_count": 1,
   "metadata": {},
   "outputs": [],
   "source": [
    "import pandas as pd\n",
    "import numpy as np\n",
    "import math\n",
    "import scipy.stats as stats\n",
    "from scipy import stats as st\n",
    "import matplotlib.pyplot as plt\n",
    "import seaborn as sns\n",
    "pd.set_option('display.max_columns', None)\n",
    "pd.set_option('display.max_colwidth', 1000)"
   ]
  },
  {
   "cell_type": "markdown",
   "metadata": {},
   "source": [
    "Выгрузим данные (таким образом, чтобы загрузить можно было даже при отсутствии файла на компьютере):"
   ]
  },
  {
   "cell_type": "code",
   "execution_count": 2,
   "metadata": {},
   "outputs": [],
   "source": [
    "try:\n",
    "    hypothesis_df = pd.read_csv('hypothesis.csv')\n",
    "    orders_df = pd.read_csv('orders.csv')\n",
    "    visitors_df = pd.read_csv('visitors.csv')\n",
    "except:\n",
    "    hypothesis_df = pd.read_csv('https://code.s3.yandex.net/datasets/hypothesis.csv')\n",
    "    orders_df = pd.read_csv('https://code.s3.yandex.net/datasets/orders.csv')\n",
    "    visitors_df = pd.read_csv('https://code.s3.yandex.net/datasets/visitors.csv')"
   ]
  },
  {
   "cell_type": "markdown",
   "metadata": {},
   "source": [
    "Проверим, что датафреймы выгрузились успешно:"
   ]
  },
  {
   "cell_type": "code",
   "execution_count": 3,
   "metadata": {},
   "outputs": [
    {
     "name": "stdout",
     "output_type": "stream",
     "text": [
      "<class 'pandas.core.frame.DataFrame'>\n",
      "RangeIndex: 9 entries, 0 to 8\n",
      "Data columns (total 5 columns):\n",
      " #   Column      Non-Null Count  Dtype \n",
      "---  ------      --------------  ----- \n",
      " 0   Hypothesis  9 non-null      object\n",
      " 1   Reach       9 non-null      int64 \n",
      " 2   Impact      9 non-null      int64 \n",
      " 3   Confidence  9 non-null      int64 \n",
      " 4   Efforts     9 non-null      int64 \n",
      "dtypes: int64(4), object(1)\n",
      "memory usage: 488.0+ bytes\n"
     ]
    },
    {
     "data": {
      "text/html": [
       "<div>\n",
       "<style scoped>\n",
       "    .dataframe tbody tr th:only-of-type {\n",
       "        vertical-align: middle;\n",
       "    }\n",
       "\n",
       "    .dataframe tbody tr th {\n",
       "        vertical-align: top;\n",
       "    }\n",
       "\n",
       "    .dataframe thead th {\n",
       "        text-align: right;\n",
       "    }\n",
       "</style>\n",
       "<table border=\"1\" class=\"dataframe\">\n",
       "  <thead>\n",
       "    <tr style=\"text-align: right;\">\n",
       "      <th></th>\n",
       "      <th>Hypothesis</th>\n",
       "      <th>Reach</th>\n",
       "      <th>Impact</th>\n",
       "      <th>Confidence</th>\n",
       "      <th>Efforts</th>\n",
       "    </tr>\n",
       "  </thead>\n",
       "  <tbody>\n",
       "    <tr>\n",
       "      <th>0</th>\n",
       "      <td>Добавить два новых канала привлечения трафика, что позволит привлекать на 30% больше пользователей</td>\n",
       "      <td>3</td>\n",
       "      <td>10</td>\n",
       "      <td>8</td>\n",
       "      <td>6</td>\n",
       "    </tr>\n",
       "    <tr>\n",
       "      <th>1</th>\n",
       "      <td>Запустить собственную службу доставки, что сократит срок доставки заказов</td>\n",
       "      <td>2</td>\n",
       "      <td>5</td>\n",
       "      <td>4</td>\n",
       "      <td>10</td>\n",
       "    </tr>\n",
       "    <tr>\n",
       "      <th>2</th>\n",
       "      <td>Добавить блоки рекомендаций товаров на сайт интернет магазина, чтобы повысить конверсию и средний чек заказа</td>\n",
       "      <td>8</td>\n",
       "      <td>3</td>\n",
       "      <td>7</td>\n",
       "      <td>3</td>\n",
       "    </tr>\n",
       "    <tr>\n",
       "      <th>3</th>\n",
       "      <td>Изменить структура категорий, что увеличит конверсию, т.к. пользователи быстрее найдут нужный товар</td>\n",
       "      <td>8</td>\n",
       "      <td>3</td>\n",
       "      <td>3</td>\n",
       "      <td>8</td>\n",
       "    </tr>\n",
       "    <tr>\n",
       "      <th>4</th>\n",
       "      <td>Изменить цвет фона главной страницы, чтобы увеличить вовлеченность пользователей</td>\n",
       "      <td>3</td>\n",
       "      <td>1</td>\n",
       "      <td>1</td>\n",
       "      <td>1</td>\n",
       "    </tr>\n",
       "  </tbody>\n",
       "</table>\n",
       "</div>"
      ],
      "text/plain": [
       "                                                                                                     Hypothesis  \\\n",
       "0            Добавить два новых канала привлечения трафика, что позволит привлекать на 30% больше пользователей   \n",
       "1                                     Запустить собственную службу доставки, что сократит срок доставки заказов   \n",
       "2  Добавить блоки рекомендаций товаров на сайт интернет магазина, чтобы повысить конверсию и средний чек заказа   \n",
       "3           Изменить структура категорий, что увеличит конверсию, т.к. пользователи быстрее найдут нужный товар   \n",
       "4                              Изменить цвет фона главной страницы, чтобы увеличить вовлеченность пользователей   \n",
       "\n",
       "   Reach  Impact  Confidence  Efforts  \n",
       "0      3      10           8        6  \n",
       "1      2       5           4       10  \n",
       "2      8       3           7        3  \n",
       "3      8       3           3        8  \n",
       "4      3       1           1        1  "
      ]
     },
     "execution_count": 3,
     "metadata": {},
     "output_type": "execute_result"
    }
   ],
   "source": [
    "hypothesis_df.info()\n",
    "hypothesis_df.head()"
   ]
  },
  {
   "cell_type": "code",
   "execution_count": 4,
   "metadata": {},
   "outputs": [
    {
     "name": "stdout",
     "output_type": "stream",
     "text": [
      "<class 'pandas.core.frame.DataFrame'>\n",
      "RangeIndex: 1197 entries, 0 to 1196\n",
      "Data columns (total 5 columns):\n",
      " #   Column         Non-Null Count  Dtype \n",
      "---  ------         --------------  ----- \n",
      " 0   transactionId  1197 non-null   int64 \n",
      " 1   visitorId      1197 non-null   int64 \n",
      " 2   date           1197 non-null   object\n",
      " 3   revenue        1197 non-null   int64 \n",
      " 4   group          1197 non-null   object\n",
      "dtypes: int64(3), object(2)\n",
      "memory usage: 46.9+ KB\n"
     ]
    },
    {
     "data": {
      "text/html": [
       "<div>\n",
       "<style scoped>\n",
       "    .dataframe tbody tr th:only-of-type {\n",
       "        vertical-align: middle;\n",
       "    }\n",
       "\n",
       "    .dataframe tbody tr th {\n",
       "        vertical-align: top;\n",
       "    }\n",
       "\n",
       "    .dataframe thead th {\n",
       "        text-align: right;\n",
       "    }\n",
       "</style>\n",
       "<table border=\"1\" class=\"dataframe\">\n",
       "  <thead>\n",
       "    <tr style=\"text-align: right;\">\n",
       "      <th></th>\n",
       "      <th>transactionId</th>\n",
       "      <th>visitorId</th>\n",
       "      <th>date</th>\n",
       "      <th>revenue</th>\n",
       "      <th>group</th>\n",
       "    </tr>\n",
       "  </thead>\n",
       "  <tbody>\n",
       "    <tr>\n",
       "      <th>0</th>\n",
       "      <td>3667963787</td>\n",
       "      <td>3312258926</td>\n",
       "      <td>2019-08-15</td>\n",
       "      <td>1650</td>\n",
       "      <td>B</td>\n",
       "    </tr>\n",
       "    <tr>\n",
       "      <th>1</th>\n",
       "      <td>2804400009</td>\n",
       "      <td>3642806036</td>\n",
       "      <td>2019-08-15</td>\n",
       "      <td>730</td>\n",
       "      <td>B</td>\n",
       "    </tr>\n",
       "    <tr>\n",
       "      <th>2</th>\n",
       "      <td>2961555356</td>\n",
       "      <td>4069496402</td>\n",
       "      <td>2019-08-15</td>\n",
       "      <td>400</td>\n",
       "      <td>A</td>\n",
       "    </tr>\n",
       "    <tr>\n",
       "      <th>3</th>\n",
       "      <td>3797467345</td>\n",
       "      <td>1196621759</td>\n",
       "      <td>2019-08-15</td>\n",
       "      <td>9759</td>\n",
       "      <td>B</td>\n",
       "    </tr>\n",
       "    <tr>\n",
       "      <th>4</th>\n",
       "      <td>2282983706</td>\n",
       "      <td>2322279887</td>\n",
       "      <td>2019-08-15</td>\n",
       "      <td>2308</td>\n",
       "      <td>B</td>\n",
       "    </tr>\n",
       "  </tbody>\n",
       "</table>\n",
       "</div>"
      ],
      "text/plain": [
       "   transactionId   visitorId        date  revenue group\n",
       "0     3667963787  3312258926  2019-08-15     1650     B\n",
       "1     2804400009  3642806036  2019-08-15      730     B\n",
       "2     2961555356  4069496402  2019-08-15      400     A\n",
       "3     3797467345  1196621759  2019-08-15     9759     B\n",
       "4     2282983706  2322279887  2019-08-15     2308     B"
      ]
     },
     "execution_count": 4,
     "metadata": {},
     "output_type": "execute_result"
    }
   ],
   "source": [
    "orders_df.info()\n",
    "orders_df.head()"
   ]
  },
  {
   "cell_type": "code",
   "execution_count": 5,
   "metadata": {},
   "outputs": [
    {
     "name": "stdout",
     "output_type": "stream",
     "text": [
      "<class 'pandas.core.frame.DataFrame'>\n",
      "RangeIndex: 62 entries, 0 to 61\n",
      "Data columns (total 3 columns):\n",
      " #   Column    Non-Null Count  Dtype \n",
      "---  ------    --------------  ----- \n",
      " 0   date      62 non-null     object\n",
      " 1   group     62 non-null     object\n",
      " 2   visitors  62 non-null     int64 \n",
      "dtypes: int64(1), object(2)\n",
      "memory usage: 1.6+ KB\n"
     ]
    },
    {
     "data": {
      "text/html": [
       "<div>\n",
       "<style scoped>\n",
       "    .dataframe tbody tr th:only-of-type {\n",
       "        vertical-align: middle;\n",
       "    }\n",
       "\n",
       "    .dataframe tbody tr th {\n",
       "        vertical-align: top;\n",
       "    }\n",
       "\n",
       "    .dataframe thead th {\n",
       "        text-align: right;\n",
       "    }\n",
       "</style>\n",
       "<table border=\"1\" class=\"dataframe\">\n",
       "  <thead>\n",
       "    <tr style=\"text-align: right;\">\n",
       "      <th></th>\n",
       "      <th>date</th>\n",
       "      <th>group</th>\n",
       "      <th>visitors</th>\n",
       "    </tr>\n",
       "  </thead>\n",
       "  <tbody>\n",
       "    <tr>\n",
       "      <th>0</th>\n",
       "      <td>2019-08-01</td>\n",
       "      <td>A</td>\n",
       "      <td>719</td>\n",
       "    </tr>\n",
       "    <tr>\n",
       "      <th>1</th>\n",
       "      <td>2019-08-02</td>\n",
       "      <td>A</td>\n",
       "      <td>619</td>\n",
       "    </tr>\n",
       "    <tr>\n",
       "      <th>2</th>\n",
       "      <td>2019-08-03</td>\n",
       "      <td>A</td>\n",
       "      <td>507</td>\n",
       "    </tr>\n",
       "    <tr>\n",
       "      <th>3</th>\n",
       "      <td>2019-08-04</td>\n",
       "      <td>A</td>\n",
       "      <td>717</td>\n",
       "    </tr>\n",
       "    <tr>\n",
       "      <th>4</th>\n",
       "      <td>2019-08-05</td>\n",
       "      <td>A</td>\n",
       "      <td>756</td>\n",
       "    </tr>\n",
       "  </tbody>\n",
       "</table>\n",
       "</div>"
      ],
      "text/plain": [
       "         date group  visitors\n",
       "0  2019-08-01     A       719\n",
       "1  2019-08-02     A       619\n",
       "2  2019-08-03     A       507\n",
       "3  2019-08-04     A       717\n",
       "4  2019-08-05     A       756"
      ]
     },
     "execution_count": 5,
     "metadata": {},
     "output_type": "execute_result"
    }
   ],
   "source": [
    "visitors_df.info()\n",
    "visitors_df.head()"
   ]
  },
  {
   "cell_type": "markdown",
   "metadata": {},
   "source": [
    "Проведем предобработку данных (если она потребуется):"
   ]
  },
  {
   "cell_type": "code",
   "execution_count": 6,
   "metadata": {},
   "outputs": [
    {
     "name": "stdout",
     "output_type": "stream",
     "text": [
      "Наличие дубликатов: 0\n",
      "-------------------------------------------\n",
      "Наличие пропусков:\n",
      "Hypothesis    0\n",
      "Reach         0\n",
      "Impact        0\n",
      "Confidence    0\n",
      "Efforts       0\n",
      "dtype: int64\n",
      "-------------------------------------------\n",
      "Стат.данные датафрейма:\n"
     ]
    },
    {
     "data": {
      "text/html": [
       "<div>\n",
       "<style scoped>\n",
       "    .dataframe tbody tr th:only-of-type {\n",
       "        vertical-align: middle;\n",
       "    }\n",
       "\n",
       "    .dataframe tbody tr th {\n",
       "        vertical-align: top;\n",
       "    }\n",
       "\n",
       "    .dataframe thead th {\n",
       "        text-align: right;\n",
       "    }\n",
       "</style>\n",
       "<table border=\"1\" class=\"dataframe\">\n",
       "  <thead>\n",
       "    <tr style=\"text-align: right;\">\n",
       "      <th></th>\n",
       "      <th>Reach</th>\n",
       "      <th>Impact</th>\n",
       "      <th>Confidence</th>\n",
       "      <th>Efforts</th>\n",
       "    </tr>\n",
       "  </thead>\n",
       "  <tbody>\n",
       "    <tr>\n",
       "      <th>count</th>\n",
       "      <td>9.000000</td>\n",
       "      <td>9.000000</td>\n",
       "      <td>9.000000</td>\n",
       "      <td>9.000000</td>\n",
       "    </tr>\n",
       "    <tr>\n",
       "      <th>mean</th>\n",
       "      <td>4.777778</td>\n",
       "      <td>4.777778</td>\n",
       "      <td>5.555556</td>\n",
       "      <td>4.888889</td>\n",
       "    </tr>\n",
       "    <tr>\n",
       "      <th>std</th>\n",
       "      <td>3.153481</td>\n",
       "      <td>3.192874</td>\n",
       "      <td>3.045944</td>\n",
       "      <td>2.803767</td>\n",
       "    </tr>\n",
       "    <tr>\n",
       "      <th>min</th>\n",
       "      <td>1.000000</td>\n",
       "      <td>1.000000</td>\n",
       "      <td>1.000000</td>\n",
       "      <td>1.000000</td>\n",
       "    </tr>\n",
       "    <tr>\n",
       "      <th>25%</th>\n",
       "      <td>3.000000</td>\n",
       "      <td>3.000000</td>\n",
       "      <td>3.000000</td>\n",
       "      <td>3.000000</td>\n",
       "    </tr>\n",
       "    <tr>\n",
       "      <th>50%</th>\n",
       "      <td>3.000000</td>\n",
       "      <td>3.000000</td>\n",
       "      <td>7.000000</td>\n",
       "      <td>5.000000</td>\n",
       "    </tr>\n",
       "    <tr>\n",
       "      <th>75%</th>\n",
       "      <td>8.000000</td>\n",
       "      <td>7.000000</td>\n",
       "      <td>8.000000</td>\n",
       "      <td>6.000000</td>\n",
       "    </tr>\n",
       "    <tr>\n",
       "      <th>max</th>\n",
       "      <td>10.000000</td>\n",
       "      <td>10.000000</td>\n",
       "      <td>9.000000</td>\n",
       "      <td>10.000000</td>\n",
       "    </tr>\n",
       "  </tbody>\n",
       "</table>\n",
       "</div>"
      ],
      "text/plain": [
       "           Reach     Impact  Confidence    Efforts\n",
       "count   9.000000   9.000000    9.000000   9.000000\n",
       "mean    4.777778   4.777778    5.555556   4.888889\n",
       "std     3.153481   3.192874    3.045944   2.803767\n",
       "min     1.000000   1.000000    1.000000   1.000000\n",
       "25%     3.000000   3.000000    3.000000   3.000000\n",
       "50%     3.000000   3.000000    7.000000   5.000000\n",
       "75%     8.000000   7.000000    8.000000   6.000000\n",
       "max    10.000000  10.000000    9.000000  10.000000"
      ]
     },
     "metadata": {},
     "output_type": "display_data"
    }
   ],
   "source": [
    "print('Наличие дубликатов: {}'.format(hypothesis_df.duplicated().sum()))\n",
    "print('-' * 43)\n",
    "print('Наличие пропусков:')\n",
    "print(hypothesis_df.isna().sum())\n",
    "print('-' * 43)\n",
    "print('Стат.данные датафрейма:')\n",
    "display(hypothesis_df.describe())"
   ]
  },
  {
   "cell_type": "markdown",
   "metadata": {},
   "source": [
    "Как можно заметить, в таблице с гипотезами нет ни пропусков, ни дубликатов. Все колонки указаны с верным типом данных. Однако для удобства дальнейшего использования приведем названия колонок к нижнему регистру:"
   ]
  },
  {
   "cell_type": "code",
   "execution_count": 7,
   "metadata": {},
   "outputs": [
    {
     "data": {
      "text/html": [
       "<div>\n",
       "<style scoped>\n",
       "    .dataframe tbody tr th:only-of-type {\n",
       "        vertical-align: middle;\n",
       "    }\n",
       "\n",
       "    .dataframe tbody tr th {\n",
       "        vertical-align: top;\n",
       "    }\n",
       "\n",
       "    .dataframe thead th {\n",
       "        text-align: right;\n",
       "    }\n",
       "</style>\n",
       "<table border=\"1\" class=\"dataframe\">\n",
       "  <thead>\n",
       "    <tr style=\"text-align: right;\">\n",
       "      <th></th>\n",
       "      <th>hypothesis</th>\n",
       "      <th>reach</th>\n",
       "      <th>impact</th>\n",
       "      <th>confidence</th>\n",
       "      <th>efforts</th>\n",
       "    </tr>\n",
       "  </thead>\n",
       "  <tbody>\n",
       "    <tr>\n",
       "      <th>0</th>\n",
       "      <td>Добавить два новых канала привлечения трафика, что позволит привлекать на 30% больше пользователей</td>\n",
       "      <td>3</td>\n",
       "      <td>10</td>\n",
       "      <td>8</td>\n",
       "      <td>6</td>\n",
       "    </tr>\n",
       "    <tr>\n",
       "      <th>1</th>\n",
       "      <td>Запустить собственную службу доставки, что сократит срок доставки заказов</td>\n",
       "      <td>2</td>\n",
       "      <td>5</td>\n",
       "      <td>4</td>\n",
       "      <td>10</td>\n",
       "    </tr>\n",
       "    <tr>\n",
       "      <th>2</th>\n",
       "      <td>Добавить блоки рекомендаций товаров на сайт интернет магазина, чтобы повысить конверсию и средний чек заказа</td>\n",
       "      <td>8</td>\n",
       "      <td>3</td>\n",
       "      <td>7</td>\n",
       "      <td>3</td>\n",
       "    </tr>\n",
       "    <tr>\n",
       "      <th>3</th>\n",
       "      <td>Изменить структура категорий, что увеличит конверсию, т.к. пользователи быстрее найдут нужный товар</td>\n",
       "      <td>8</td>\n",
       "      <td>3</td>\n",
       "      <td>3</td>\n",
       "      <td>8</td>\n",
       "    </tr>\n",
       "    <tr>\n",
       "      <th>4</th>\n",
       "      <td>Изменить цвет фона главной страницы, чтобы увеличить вовлеченность пользователей</td>\n",
       "      <td>3</td>\n",
       "      <td>1</td>\n",
       "      <td>1</td>\n",
       "      <td>1</td>\n",
       "    </tr>\n",
       "  </tbody>\n",
       "</table>\n",
       "</div>"
      ],
      "text/plain": [
       "                                                                                                     hypothesis  \\\n",
       "0            Добавить два новых канала привлечения трафика, что позволит привлекать на 30% больше пользователей   \n",
       "1                                     Запустить собственную службу доставки, что сократит срок доставки заказов   \n",
       "2  Добавить блоки рекомендаций товаров на сайт интернет магазина, чтобы повысить конверсию и средний чек заказа   \n",
       "3           Изменить структура категорий, что увеличит конверсию, т.к. пользователи быстрее найдут нужный товар   \n",
       "4                              Изменить цвет фона главной страницы, чтобы увеличить вовлеченность пользователей   \n",
       "\n",
       "   reach  impact  confidence  efforts  \n",
       "0      3      10           8        6  \n",
       "1      2       5           4       10  \n",
       "2      8       3           7        3  \n",
       "3      8       3           3        8  \n",
       "4      3       1           1        1  "
      ]
     },
     "execution_count": 7,
     "metadata": {},
     "output_type": "execute_result"
    }
   ],
   "source": [
    "hypothesis_df.columns= hypothesis_df.columns.str.lower()\n",
    "hypothesis_df.head()"
   ]
  },
  {
   "cell_type": "markdown",
   "metadata": {},
   "source": [
    "Перейдем к сл.датафрейму:"
   ]
  },
  {
   "cell_type": "code",
   "execution_count": 8,
   "metadata": {},
   "outputs": [
    {
     "name": "stdout",
     "output_type": "stream",
     "text": [
      "Наличие дубликатов: 0\n",
      "-------------------------------------------\n",
      "Наличие пропусков:\n",
      "transactionId    0\n",
      "visitorId        0\n",
      "date             0\n",
      "revenue          0\n",
      "group            0\n",
      "dtype: int64\n",
      "-------------------------------------------\n",
      "Стат.данные датафрейма:\n"
     ]
    },
    {
     "data": {
      "text/html": [
       "<div>\n",
       "<style scoped>\n",
       "    .dataframe tbody tr th:only-of-type {\n",
       "        vertical-align: middle;\n",
       "    }\n",
       "\n",
       "    .dataframe tbody tr th {\n",
       "        vertical-align: top;\n",
       "    }\n",
       "\n",
       "    .dataframe thead th {\n",
       "        text-align: right;\n",
       "    }\n",
       "</style>\n",
       "<table border=\"1\" class=\"dataframe\">\n",
       "  <thead>\n",
       "    <tr style=\"text-align: right;\">\n",
       "      <th></th>\n",
       "      <th>transactionId</th>\n",
       "      <th>visitorId</th>\n",
       "      <th>revenue</th>\n",
       "    </tr>\n",
       "  </thead>\n",
       "  <tbody>\n",
       "    <tr>\n",
       "      <th>count</th>\n",
       "      <td>1.197000e+03</td>\n",
       "      <td>1.197000e+03</td>\n",
       "      <td>1.197000e+03</td>\n",
       "    </tr>\n",
       "    <tr>\n",
       "      <th>mean</th>\n",
       "      <td>2.155621e+09</td>\n",
       "      <td>2.165960e+09</td>\n",
       "      <td>8.348006e+03</td>\n",
       "    </tr>\n",
       "    <tr>\n",
       "      <th>std</th>\n",
       "      <td>1.229085e+09</td>\n",
       "      <td>1.236014e+09</td>\n",
       "      <td>3.919113e+04</td>\n",
       "    </tr>\n",
       "    <tr>\n",
       "      <th>min</th>\n",
       "      <td>1.062393e+06</td>\n",
       "      <td>5.114589e+06</td>\n",
       "      <td>5.000000e+01</td>\n",
       "    </tr>\n",
       "    <tr>\n",
       "      <th>25%</th>\n",
       "      <td>1.166776e+09</td>\n",
       "      <td>1.111826e+09</td>\n",
       "      <td>1.220000e+03</td>\n",
       "    </tr>\n",
       "    <tr>\n",
       "      <th>50%</th>\n",
       "      <td>2.145194e+09</td>\n",
       "      <td>2.217985e+09</td>\n",
       "      <td>2.978000e+03</td>\n",
       "    </tr>\n",
       "    <tr>\n",
       "      <th>75%</th>\n",
       "      <td>3.237740e+09</td>\n",
       "      <td>3.177606e+09</td>\n",
       "      <td>8.290000e+03</td>\n",
       "    </tr>\n",
       "    <tr>\n",
       "      <th>max</th>\n",
       "      <td>4.293856e+09</td>\n",
       "      <td>4.283872e+09</td>\n",
       "      <td>1.294500e+06</td>\n",
       "    </tr>\n",
       "  </tbody>\n",
       "</table>\n",
       "</div>"
      ],
      "text/plain": [
       "       transactionId     visitorId       revenue\n",
       "count   1.197000e+03  1.197000e+03  1.197000e+03\n",
       "mean    2.155621e+09  2.165960e+09  8.348006e+03\n",
       "std     1.229085e+09  1.236014e+09  3.919113e+04\n",
       "min     1.062393e+06  5.114589e+06  5.000000e+01\n",
       "25%     1.166776e+09  1.111826e+09  1.220000e+03\n",
       "50%     2.145194e+09  2.217985e+09  2.978000e+03\n",
       "75%     3.237740e+09  3.177606e+09  8.290000e+03\n",
       "max     4.293856e+09  4.283872e+09  1.294500e+06"
      ]
     },
     "metadata": {},
     "output_type": "display_data"
    }
   ],
   "source": [
    "print('Наличие дубликатов: {}'.format(orders_df.duplicated().sum()))\n",
    "print('-' * 43)\n",
    "print('Наличие пропусков:')\n",
    "print(orders_df.isna().sum())\n",
    "print('-' * 43)\n",
    "print('Стат.данные датафрейма:')\n",
    "display(orders_df.describe())"
   ]
  },
  {
   "cell_type": "markdown",
   "metadata": {},
   "source": [
    "Как можно заметить, столбец с датой указан с неверным типом, необходимо перевести в тип дата. Также изменим названия колонок transactionId, visitorId в соответствии с правилами"
   ]
  },
  {
   "cell_type": "code",
   "execution_count": 9,
   "metadata": {},
   "outputs": [
    {
     "name": "stdout",
     "output_type": "stream",
     "text": [
      "<class 'pandas.core.frame.DataFrame'>\n",
      "RangeIndex: 1197 entries, 0 to 1196\n",
      "Data columns (total 5 columns):\n",
      " #   Column          Non-Null Count  Dtype         \n",
      "---  ------          --------------  -----         \n",
      " 0   transaction_id  1197 non-null   int64         \n",
      " 1   visitor_id      1197 non-null   int64         \n",
      " 2   date            1197 non-null   datetime64[ns]\n",
      " 3   revenue         1197 non-null   int64         \n",
      " 4   group           1197 non-null   object        \n",
      "dtypes: datetime64[ns](1), int64(3), object(1)\n",
      "memory usage: 46.9+ KB\n"
     ]
    }
   ],
   "source": [
    "orders_df['date']= pd.to_datetime(orders_df['date'], format='%Y-%m-%d')\n",
    "orders_df = orders_df.rename(columns = {'transactionId': 'transaction_id', 'visitorId': 'visitor_id'}, inplace = False)\n",
    "orders_df.info()"
   ]
  },
  {
   "cell_type": "markdown",
   "metadata": {},
   "source": [
    "Проверим датафрейм на аномалии (юзеры которые могли войти в обе группы):"
   ]
  },
  {
   "cell_type": "code",
   "execution_count": 10,
   "metadata": {},
   "outputs": [
    {
     "name": "stdout",
     "output_type": "stream",
     "text": [
      "Количество пользователей вошедших в обе группы - 58\n"
     ]
    }
   ],
   "source": [
    "double_group_users = np.intersect1d(orders_df[orders_df['group'] == 'A']['visitor_id'].unique(), orders_df[orders_df['group'] == 'B']['visitor_id'].unique())\n",
    "print('Количество пользователей вошедших в обе группы -', len(double_group_users))"
   ]
  },
  {
   "cell_type": "markdown",
   "metadata": {},
   "source": [
    "Исключим таких пользователей из датафрейма"
   ]
  },
  {
   "cell_type": "code",
   "execution_count": 11,
   "metadata": {},
   "outputs": [],
   "source": [
    "orders_df = orders_df[np.logical_not(orders_df['visitor_id'].isin(double_group_users))]"
   ]
  },
  {
   "cell_type": "code",
   "execution_count": 12,
   "metadata": {},
   "outputs": [
    {
     "name": "stdout",
     "output_type": "stream",
     "text": [
      "<class 'pandas.core.frame.DataFrame'>\n",
      "Int64Index: 1016 entries, 0 to 1196\n",
      "Data columns (total 5 columns):\n",
      " #   Column          Non-Null Count  Dtype         \n",
      "---  ------          --------------  -----         \n",
      " 0   transaction_id  1016 non-null   int64         \n",
      " 1   visitor_id      1016 non-null   int64         \n",
      " 2   date            1016 non-null   datetime64[ns]\n",
      " 3   revenue         1016 non-null   int64         \n",
      " 4   group           1016 non-null   object        \n",
      "dtypes: datetime64[ns](1), int64(3), object(1)\n",
      "memory usage: 47.6+ KB\n"
     ]
    }
   ],
   "source": [
    "orders_df.info()"
   ]
  },
  {
   "cell_type": "markdown",
   "metadata": {},
   "source": [
    "Перейдем к таблице с пользователями:"
   ]
  },
  {
   "cell_type": "code",
   "execution_count": 13,
   "metadata": {},
   "outputs": [
    {
     "name": "stdout",
     "output_type": "stream",
     "text": [
      "Наличие дубликатов: 0\n",
      "-------------------------------------------\n",
      "Наличие пропусков:\n",
      "date        0\n",
      "group       0\n",
      "visitors    0\n",
      "dtype: int64\n",
      "-------------------------------------------\n",
      "Стат.данные датафрейма:\n"
     ]
    },
    {
     "data": {
      "text/html": [
       "<div>\n",
       "<style scoped>\n",
       "    .dataframe tbody tr th:only-of-type {\n",
       "        vertical-align: middle;\n",
       "    }\n",
       "\n",
       "    .dataframe tbody tr th {\n",
       "        vertical-align: top;\n",
       "    }\n",
       "\n",
       "    .dataframe thead th {\n",
       "        text-align: right;\n",
       "    }\n",
       "</style>\n",
       "<table border=\"1\" class=\"dataframe\">\n",
       "  <thead>\n",
       "    <tr style=\"text-align: right;\">\n",
       "      <th></th>\n",
       "      <th>visitors</th>\n",
       "    </tr>\n",
       "  </thead>\n",
       "  <tbody>\n",
       "    <tr>\n",
       "      <th>count</th>\n",
       "      <td>62.000000</td>\n",
       "    </tr>\n",
       "    <tr>\n",
       "      <th>mean</th>\n",
       "      <td>607.290323</td>\n",
       "    </tr>\n",
       "    <tr>\n",
       "      <th>std</th>\n",
       "      <td>114.400560</td>\n",
       "    </tr>\n",
       "    <tr>\n",
       "      <th>min</th>\n",
       "      <td>361.000000</td>\n",
       "    </tr>\n",
       "    <tr>\n",
       "      <th>25%</th>\n",
       "      <td>534.000000</td>\n",
       "    </tr>\n",
       "    <tr>\n",
       "      <th>50%</th>\n",
       "      <td>624.500000</td>\n",
       "    </tr>\n",
       "    <tr>\n",
       "      <th>75%</th>\n",
       "      <td>710.500000</td>\n",
       "    </tr>\n",
       "    <tr>\n",
       "      <th>max</th>\n",
       "      <td>770.000000</td>\n",
       "    </tr>\n",
       "  </tbody>\n",
       "</table>\n",
       "</div>"
      ],
      "text/plain": [
       "         visitors\n",
       "count   62.000000\n",
       "mean   607.290323\n",
       "std    114.400560\n",
       "min    361.000000\n",
       "25%    534.000000\n",
       "50%    624.500000\n",
       "75%    710.500000\n",
       "max    770.000000"
      ]
     },
     "metadata": {},
     "output_type": "display_data"
    }
   ],
   "source": [
    "print('Наличие дубликатов: {}'.format(visitors_df.duplicated().sum()))\n",
    "print('-' * 43)\n",
    "print('Наличие пропусков:')\n",
    "print(visitors_df.isna().sum())\n",
    "print('-' * 43)\n",
    "print('Стат.данные датафрейма:')\n",
    "display(visitors_df.describe())"
   ]
  },
  {
   "cell_type": "markdown",
   "metadata": {},
   "source": [
    "Приведем колонку date к правильному типу:"
   ]
  },
  {
   "cell_type": "code",
   "execution_count": 14,
   "metadata": {},
   "outputs": [
    {
     "name": "stdout",
     "output_type": "stream",
     "text": [
      "<class 'pandas.core.frame.DataFrame'>\n",
      "RangeIndex: 62 entries, 0 to 61\n",
      "Data columns (total 3 columns):\n",
      " #   Column    Non-Null Count  Dtype         \n",
      "---  ------    --------------  -----         \n",
      " 0   date      62 non-null     datetime64[ns]\n",
      " 1   group     62 non-null     object        \n",
      " 2   visitors  62 non-null     int64         \n",
      "dtypes: datetime64[ns](1), int64(1), object(1)\n",
      "memory usage: 1.6+ KB\n"
     ]
    }
   ],
   "source": [
    "visitors_df['date']= pd.to_datetime(visitors_df['date'], format='%Y-%m-%d')\n",
    "visitors_df.info()"
   ]
  },
  {
   "cell_type": "markdown",
   "metadata": {},
   "source": [
    "Теперь все данные проверены, корректны, без дубликатов и пропусков и все в соответствии с правилами"
   ]
  },
  {
   "cell_type": "markdown",
   "metadata": {},
   "source": [
    "# Промежуточный вывод\n",
    "В датафреймы 'hypothesis_df', 'orders_df' и 'visitors_df' загружены данные\n",
    "Предобработка данных показала:\n",
    "- пропуски в данных отсутствуют\n",
    "- дубликаты отсутствуют\n",
    "- Удалены пользователи, которые попали в обе группы\n",
    "- Названия столбцов приведены к правильному виду\n",
    "- скорректированы типы данных в колонках date для таблиц orders и visitors"
   ]
  },
  {
   "cell_type": "markdown",
   "metadata": {},
   "source": [
    "## Часть 1. Приоритизация гипотез\n",
    "В файле /datasets/hypothesis.csv 9 гипотез по увеличению выручки интернет-магазина с указанными параметрами Reach, Impact, Confidence, Effort.\n",
    "\n",
    "Задача\n",
    "- Примените фреймворк ICE для приоритизации гипотез. Отсортируйте их по убыванию приоритета.\n",
    "- Примените фреймворк RICE для приоритизации гипотез. Отсортируйте их по убыванию приоритета.\n",
    "- Укажите, как изменилась приоритизация гипотез при применении RICE вместо ICE. Объясните, почему так произошло."
   ]
  },
  {
   "cell_type": "markdown",
   "metadata": {},
   "source": [
    "Применим фреймворк ICE для приоритизации гипотез"
   ]
  },
  {
   "cell_type": "code",
   "execution_count": 15,
   "metadata": {},
   "outputs": [
    {
     "data": {
      "text/html": [
       "<div>\n",
       "<style scoped>\n",
       "    .dataframe tbody tr th:only-of-type {\n",
       "        vertical-align: middle;\n",
       "    }\n",
       "\n",
       "    .dataframe tbody tr th {\n",
       "        vertical-align: top;\n",
       "    }\n",
       "\n",
       "    .dataframe thead th {\n",
       "        text-align: right;\n",
       "    }\n",
       "</style>\n",
       "<table border=\"1\" class=\"dataframe\">\n",
       "  <thead>\n",
       "    <tr style=\"text-align: right;\">\n",
       "      <th></th>\n",
       "      <th>hypothesis</th>\n",
       "      <th>ice</th>\n",
       "    </tr>\n",
       "  </thead>\n",
       "  <tbody>\n",
       "    <tr>\n",
       "      <th>8</th>\n",
       "      <td>Запустить акцию, дающую скидку на товар в день рождения</td>\n",
       "      <td>16.20</td>\n",
       "    </tr>\n",
       "    <tr>\n",
       "      <th>0</th>\n",
       "      <td>Добавить два новых канала привлечения трафика, что позволит привлекать на 30% больше пользователей</td>\n",
       "      <td>13.33</td>\n",
       "    </tr>\n",
       "    <tr>\n",
       "      <th>7</th>\n",
       "      <td>Добавить форму подписки на все основные страницы, чтобы собрать базу клиентов для email-рассылок</td>\n",
       "      <td>11.20</td>\n",
       "    </tr>\n",
       "    <tr>\n",
       "      <th>6</th>\n",
       "      <td>Показать на главной странице баннеры с актуальными акциями и распродажами, чтобы увеличить конверсию</td>\n",
       "      <td>8.00</td>\n",
       "    </tr>\n",
       "    <tr>\n",
       "      <th>2</th>\n",
       "      <td>Добавить блоки рекомендаций товаров на сайт интернет магазина, чтобы повысить конверсию и средний чек заказа</td>\n",
       "      <td>7.00</td>\n",
       "    </tr>\n",
       "    <tr>\n",
       "      <th>1</th>\n",
       "      <td>Запустить собственную службу доставки, что сократит срок доставки заказов</td>\n",
       "      <td>2.00</td>\n",
       "    </tr>\n",
       "    <tr>\n",
       "      <th>5</th>\n",
       "      <td>Добавить страницу отзывов клиентов о магазине, что позволит увеличить количество заказов</td>\n",
       "      <td>1.33</td>\n",
       "    </tr>\n",
       "    <tr>\n",
       "      <th>3</th>\n",
       "      <td>Изменить структура категорий, что увеличит конверсию, т.к. пользователи быстрее найдут нужный товар</td>\n",
       "      <td>1.12</td>\n",
       "    </tr>\n",
       "    <tr>\n",
       "      <th>4</th>\n",
       "      <td>Изменить цвет фона главной страницы, чтобы увеличить вовлеченность пользователей</td>\n",
       "      <td>1.00</td>\n",
       "    </tr>\n",
       "  </tbody>\n",
       "</table>\n",
       "</div>"
      ],
      "text/plain": [
       "                                                                                                     hypothesis  \\\n",
       "8                                                       Запустить акцию, дающую скидку на товар в день рождения   \n",
       "0            Добавить два новых канала привлечения трафика, что позволит привлекать на 30% больше пользователей   \n",
       "7              Добавить форму подписки на все основные страницы, чтобы собрать базу клиентов для email-рассылок   \n",
       "6          Показать на главной странице баннеры с актуальными акциями и распродажами, чтобы увеличить конверсию   \n",
       "2  Добавить блоки рекомендаций товаров на сайт интернет магазина, чтобы повысить конверсию и средний чек заказа   \n",
       "1                                     Запустить собственную службу доставки, что сократит срок доставки заказов   \n",
       "5                      Добавить страницу отзывов клиентов о магазине, что позволит увеличить количество заказов   \n",
       "3           Изменить структура категорий, что увеличит конверсию, т.к. пользователи быстрее найдут нужный товар   \n",
       "4                              Изменить цвет фона главной страницы, чтобы увеличить вовлеченность пользователей   \n",
       "\n",
       "     ice  \n",
       "8  16.20  \n",
       "0  13.33  \n",
       "7  11.20  \n",
       "6   8.00  \n",
       "2   7.00  \n",
       "1   2.00  \n",
       "5   1.33  \n",
       "3   1.12  \n",
       "4   1.00  "
      ]
     },
     "metadata": {},
     "output_type": "display_data"
    }
   ],
   "source": [
    "hypothesis_df['ice'] = round((hypothesis_df['impact'] * hypothesis_df['confidence']) / hypothesis_df['efforts'], 2)\n",
    "display(hypothesis_df[['hypothesis','ice']].sort_values(by='ice', ascending=False))"
   ]
  },
  {
   "cell_type": "markdown",
   "metadata": {},
   "source": [
    "Применим фреймворк RICE для приоритизации гипотез"
   ]
  },
  {
   "cell_type": "code",
   "execution_count": 16,
   "metadata": {},
   "outputs": [
    {
     "data": {
      "text/html": [
       "<div>\n",
       "<style scoped>\n",
       "    .dataframe tbody tr th:only-of-type {\n",
       "        vertical-align: middle;\n",
       "    }\n",
       "\n",
       "    .dataframe tbody tr th {\n",
       "        vertical-align: top;\n",
       "    }\n",
       "\n",
       "    .dataframe thead th {\n",
       "        text-align: right;\n",
       "    }\n",
       "</style>\n",
       "<table border=\"1\" class=\"dataframe\">\n",
       "  <thead>\n",
       "    <tr style=\"text-align: right;\">\n",
       "      <th></th>\n",
       "      <th>hypothesis</th>\n",
       "      <th>rice</th>\n",
       "    </tr>\n",
       "  </thead>\n",
       "  <tbody>\n",
       "    <tr>\n",
       "      <th>7</th>\n",
       "      <td>Добавить форму подписки на все основные страницы, чтобы собрать базу клиентов для email-рассылок</td>\n",
       "      <td>112.0</td>\n",
       "    </tr>\n",
       "    <tr>\n",
       "      <th>2</th>\n",
       "      <td>Добавить блоки рекомендаций товаров на сайт интернет магазина, чтобы повысить конверсию и средний чек заказа</td>\n",
       "      <td>56.0</td>\n",
       "    </tr>\n",
       "    <tr>\n",
       "      <th>0</th>\n",
       "      <td>Добавить два новых канала привлечения трафика, что позволит привлекать на 30% больше пользователей</td>\n",
       "      <td>40.0</td>\n",
       "    </tr>\n",
       "    <tr>\n",
       "      <th>6</th>\n",
       "      <td>Показать на главной странице баннеры с актуальными акциями и распродажами, чтобы увеличить конверсию</td>\n",
       "      <td>40.0</td>\n",
       "    </tr>\n",
       "    <tr>\n",
       "      <th>8</th>\n",
       "      <td>Запустить акцию, дающую скидку на товар в день рождения</td>\n",
       "      <td>16.2</td>\n",
       "    </tr>\n",
       "    <tr>\n",
       "      <th>3</th>\n",
       "      <td>Изменить структура категорий, что увеличит конверсию, т.к. пользователи быстрее найдут нужный товар</td>\n",
       "      <td>9.0</td>\n",
       "    </tr>\n",
       "    <tr>\n",
       "      <th>1</th>\n",
       "      <td>Запустить собственную службу доставки, что сократит срок доставки заказов</td>\n",
       "      <td>4.0</td>\n",
       "    </tr>\n",
       "    <tr>\n",
       "      <th>5</th>\n",
       "      <td>Добавить страницу отзывов клиентов о магазине, что позволит увеличить количество заказов</td>\n",
       "      <td>4.0</td>\n",
       "    </tr>\n",
       "    <tr>\n",
       "      <th>4</th>\n",
       "      <td>Изменить цвет фона главной страницы, чтобы увеличить вовлеченность пользователей</td>\n",
       "      <td>3.0</td>\n",
       "    </tr>\n",
       "  </tbody>\n",
       "</table>\n",
       "</div>"
      ],
      "text/plain": [
       "                                                                                                     hypothesis  \\\n",
       "7              Добавить форму подписки на все основные страницы, чтобы собрать базу клиентов для email-рассылок   \n",
       "2  Добавить блоки рекомендаций товаров на сайт интернет магазина, чтобы повысить конверсию и средний чек заказа   \n",
       "0            Добавить два новых канала привлечения трафика, что позволит привлекать на 30% больше пользователей   \n",
       "6          Показать на главной странице баннеры с актуальными акциями и распродажами, чтобы увеличить конверсию   \n",
       "8                                                       Запустить акцию, дающую скидку на товар в день рождения   \n",
       "3           Изменить структура категорий, что увеличит конверсию, т.к. пользователи быстрее найдут нужный товар   \n",
       "1                                     Запустить собственную службу доставки, что сократит срок доставки заказов   \n",
       "5                      Добавить страницу отзывов клиентов о магазине, что позволит увеличить количество заказов   \n",
       "4                              Изменить цвет фона главной страницы, чтобы увеличить вовлеченность пользователей   \n",
       "\n",
       "    rice  \n",
       "7  112.0  \n",
       "2   56.0  \n",
       "0   40.0  \n",
       "6   40.0  \n",
       "8   16.2  \n",
       "3    9.0  \n",
       "1    4.0  \n",
       "5    4.0  \n",
       "4    3.0  "
      ]
     },
     "metadata": {},
     "output_type": "display_data"
    }
   ],
   "source": [
    "hypothesis_df['rice'] = round((hypothesis_df['reach'] * hypothesis_df['impact'] * hypothesis_df['confidence']) / hypothesis_df['efforts'], 2)\n",
    "display(hypothesis_df[['hypothesis','rice']].sort_values(by='rice', ascending=False))"
   ]
  },
  {
   "cell_type": "markdown",
   "metadata": {},
   "source": [
    "### Промежуточный вывод по приоритезации гипотез:\n",
    "Включение параметра Reach (охват пользователей) в метод RICE изменило приоритетность гипотез по сравнению с методом ICE:\n",
    "1. Гипотеза о скидке на товар в день рождения, хотя и занимала первое место по методу ICE, теперь имеет более низкий приоритет из-за своего ограниченного охвата пользователей.\n",
    "2. По методу RICE более высокий приоритет получили гипотезы о добавлении формы подписки на все основные страницы, добавлении блоков рекомендаций товаров и изменении структуры категорий.\n",
    "3. Позиция гипотез о добавлении баннеров с акциями на главную страницу и об изменении цвета фона осталась неизменной.\n",
    "\n",
    "Таким образом, учет охвата пользователей в методе RICE привел к изменению приоритетности гипотез и более осмысленному распределению ресурсов для их проверки."
   ]
  },
  {
   "cell_type": "markdown",
   "metadata": {},
   "source": [
    "## Часть 2. Анализ A/B-теста\n",
    "Проанализируйте A/B-тест:\n",
    "1. Постройте график кумулятивной выручки по группам. Сделайте выводы и предположения.\n",
    "2. Постройте график кумулятивного среднего чека по группам. Сделайте выводы и предположения.\n",
    "3. Постройте график относительного изменения кумулятивного среднего чека группы B к группе A. Сделайте выводы и предположения.\n",
    "4. Постройте график кумулятивного среднего количества заказов на посетителя по группам. Сделайте выводы и предположения.\n",
    "5. Постройте график относительного изменения кумулятивного среднего количества заказов на посетителя группы B к группе A. Сделайте выводы и предположения.\n",
    "6. Постройте точечный график количества заказов по пользователям. Сделайте выводы и предположения.\n",
    "7. Посчитайте 95-й и 99-й перцентили количества заказов на пользователя. Выберите границу для определения аномальных пользователей.\n",
    "8. Постройте точечный график стоимостей заказов. Сделайте выводы и предположения.\n",
    "9. Посчитайте 95-й и 99-й перцентили стоимости заказов. Выберите границу для определения аномальных заказов.\n",
    "10. Посчитайте статистическую значимость различий в среднем количестве заказов на посетителя между группами по «сырым» данным. Сделайте выводы и предположения.\n",
    "11. Посчитайте статистическую значимость различий в среднем чеке заказа между группами по «сырым» данным. Сделайте выводы и предположения.\n",
    "12. Посчитайте статистическую значимость различий в среднем количестве заказов на посетителя между группами по «очищенным» данным. Сделайте выводы и предположения.\n",
    "13. Посчитайте статистическую значимость различий в среднем чеке заказа между группами по «очищенным» данным. Сделайте выводы и предположения.\n",
    "14. Примите решение по результатам теста и объясните его. Варианты решений:\n",
    "- Остановить тест, зафиксировать победу одной из групп.\n",
    "- Остановить тест, зафиксировать отсутствие различий между группами.\n",
    "- Продолжить тест."
   ]
  },
  {
   "cell_type": "markdown",
   "metadata": {},
   "source": [
    "График кумулятивной выручки по группам\n",
    "\n",
    "Создадим DataFrame под названием dates_groups, в котором будут уникальные сочетания значений 'date' и 'group' из таблицы orders. Затем удалим все дубликаты с помощью метода drop_duplicates()."
   ]
  },
  {
   "cell_type": "code",
   "execution_count": 17,
   "metadata": {},
   "outputs": [
    {
     "data": {
      "text/html": [
       "<div>\n",
       "<style scoped>\n",
       "    .dataframe tbody tr th:only-of-type {\n",
       "        vertical-align: middle;\n",
       "    }\n",
       "\n",
       "    .dataframe tbody tr th {\n",
       "        vertical-align: top;\n",
       "    }\n",
       "\n",
       "    .dataframe thead th {\n",
       "        text-align: right;\n",
       "    }\n",
       "</style>\n",
       "<table border=\"1\" class=\"dataframe\">\n",
       "  <thead>\n",
       "    <tr style=\"text-align: right;\">\n",
       "      <th></th>\n",
       "      <th>date</th>\n",
       "      <th>group</th>\n",
       "    </tr>\n",
       "  </thead>\n",
       "  <tbody>\n",
       "    <tr>\n",
       "      <th>0</th>\n",
       "      <td>2019-08-15</td>\n",
       "      <td>B</td>\n",
       "    </tr>\n",
       "    <tr>\n",
       "      <th>1</th>\n",
       "      <td>2019-08-15</td>\n",
       "      <td>A</td>\n",
       "    </tr>\n",
       "    <tr>\n",
       "      <th>2</th>\n",
       "      <td>2019-08-16</td>\n",
       "      <td>A</td>\n",
       "    </tr>\n",
       "    <tr>\n",
       "      <th>3</th>\n",
       "      <td>2019-08-16</td>\n",
       "      <td>B</td>\n",
       "    </tr>\n",
       "    <tr>\n",
       "      <th>4</th>\n",
       "      <td>2019-08-01</td>\n",
       "      <td>A</td>\n",
       "    </tr>\n",
       "  </tbody>\n",
       "</table>\n",
       "</div>"
      ],
      "text/plain": [
       "        date group\n",
       "0 2019-08-15     B\n",
       "1 2019-08-15     A\n",
       "2 2019-08-16     A\n",
       "3 2019-08-16     B\n",
       "4 2019-08-01     A"
      ]
     },
     "execution_count": 17,
     "metadata": {},
     "output_type": "execute_result"
    }
   ],
   "source": [
    "dates_gr = orders_df[['date','group']].drop_duplicates().reset_index(drop = True)\n",
    "dates_gr.head()"
   ]
  },
  {
   "cell_type": "markdown",
   "metadata": {},
   "source": [
    "Объявим переменную orders_aggregated, содержащую:\n",
    "- дату\n",
    "- группу A/B-теста\n",
    "- число уникальных заказов в группе теста по указанную дату включительно\n",
    "- число уникальных пользователей, совершивших хотя бы 1 заказ в группе теста по указанную дату включительно\n",
    "- суммарную выручку заказов в группе теста по указанную дату включительно"
   ]
  },
  {
   "cell_type": "code",
   "execution_count": 18,
   "metadata": {},
   "outputs": [
    {
     "data": {
      "text/html": [
       "<div>\n",
       "<style scoped>\n",
       "    .dataframe tbody tr th:only-of-type {\n",
       "        vertical-align: middle;\n",
       "    }\n",
       "\n",
       "    .dataframe tbody tr th {\n",
       "        vertical-align: top;\n",
       "    }\n",
       "\n",
       "    .dataframe thead th {\n",
       "        text-align: right;\n",
       "    }\n",
       "</style>\n",
       "<table border=\"1\" class=\"dataframe\">\n",
       "  <thead>\n",
       "    <tr style=\"text-align: right;\">\n",
       "      <th></th>\n",
       "      <th>date</th>\n",
       "      <th>group</th>\n",
       "      <th>transaction_id</th>\n",
       "      <th>visitor_id</th>\n",
       "      <th>revenue</th>\n",
       "    </tr>\n",
       "  </thead>\n",
       "  <tbody>\n",
       "    <tr>\n",
       "      <th>0</th>\n",
       "      <td>2019-08-01</td>\n",
       "      <td>A</td>\n",
       "      <td>23</td>\n",
       "      <td>19</td>\n",
       "      <td>142779</td>\n",
       "    </tr>\n",
       "    <tr>\n",
       "      <th>1</th>\n",
       "      <td>2019-08-01</td>\n",
       "      <td>B</td>\n",
       "      <td>17</td>\n",
       "      <td>17</td>\n",
       "      <td>59758</td>\n",
       "    </tr>\n",
       "    <tr>\n",
       "      <th>2</th>\n",
       "      <td>2019-08-02</td>\n",
       "      <td>A</td>\n",
       "      <td>42</td>\n",
       "      <td>36</td>\n",
       "      <td>234381</td>\n",
       "    </tr>\n",
       "    <tr>\n",
       "      <th>3</th>\n",
       "      <td>2019-08-02</td>\n",
       "      <td>B</td>\n",
       "      <td>40</td>\n",
       "      <td>39</td>\n",
       "      <td>221801</td>\n",
       "    </tr>\n",
       "    <tr>\n",
       "      <th>4</th>\n",
       "      <td>2019-08-03</td>\n",
       "      <td>A</td>\n",
       "      <td>66</td>\n",
       "      <td>60</td>\n",
       "      <td>346854</td>\n",
       "    </tr>\n",
       "  </tbody>\n",
       "</table>\n",
       "</div>"
      ],
      "text/plain": [
       "        date group  transaction_id  visitor_id  revenue\n",
       "0 2019-08-01     A              23          19   142779\n",
       "1 2019-08-01     B              17          17    59758\n",
       "2 2019-08-02     A              42          36   234381\n",
       "3 2019-08-02     B              40          39   221801\n",
       "4 2019-08-03     A              66          60   346854"
      ]
     },
     "execution_count": 18,
     "metadata": {},
     "output_type": "execute_result"
    }
   ],
   "source": [
    "orders_aggregated = dates_gr.apply(lambda x: orders_df[np.logical_and \\\n",
    "   (orders_df['date'] <= x['date'], orders_df['group'] == x['group'])]\\\n",
    "    .agg({'date' : 'max', 'group' : 'max', 'transaction_id' : 'nunique','visitor_id' : 'nunique', 'revenue' : 'sum'}), axis=1) \\\n",
    "    .sort_values(by=['date','group']).reset_index(drop = True)\n",
    "orders_aggregated.head()"
   ]
  },
  {
   "cell_type": "markdown",
   "metadata": {},
   "source": [
    "Объявим переменную visitors_aggregated, содержащую:\n",
    "- дату\n",
    "- группу A/B-теста\n",
    "- количество уникальных посетителей в группе теста по указанную дату включительно"
   ]
  },
  {
   "cell_type": "code",
   "execution_count": 19,
   "metadata": {},
   "outputs": [
    {
     "data": {
      "text/html": [
       "<div>\n",
       "<style scoped>\n",
       "    .dataframe tbody tr th:only-of-type {\n",
       "        vertical-align: middle;\n",
       "    }\n",
       "\n",
       "    .dataframe tbody tr th {\n",
       "        vertical-align: top;\n",
       "    }\n",
       "\n",
       "    .dataframe thead th {\n",
       "        text-align: right;\n",
       "    }\n",
       "</style>\n",
       "<table border=\"1\" class=\"dataframe\">\n",
       "  <thead>\n",
       "    <tr style=\"text-align: right;\">\n",
       "      <th></th>\n",
       "      <th>date</th>\n",
       "      <th>group</th>\n",
       "      <th>visitors</th>\n",
       "    </tr>\n",
       "  </thead>\n",
       "  <tbody>\n",
       "    <tr>\n",
       "      <th>0</th>\n",
       "      <td>2019-08-01</td>\n",
       "      <td>A</td>\n",
       "      <td>719</td>\n",
       "    </tr>\n",
       "    <tr>\n",
       "      <th>1</th>\n",
       "      <td>2019-08-01</td>\n",
       "      <td>B</td>\n",
       "      <td>713</td>\n",
       "    </tr>\n",
       "    <tr>\n",
       "      <th>2</th>\n",
       "      <td>2019-08-02</td>\n",
       "      <td>A</td>\n",
       "      <td>1338</td>\n",
       "    </tr>\n",
       "    <tr>\n",
       "      <th>3</th>\n",
       "      <td>2019-08-02</td>\n",
       "      <td>B</td>\n",
       "      <td>1294</td>\n",
       "    </tr>\n",
       "    <tr>\n",
       "      <th>4</th>\n",
       "      <td>2019-08-03</td>\n",
       "      <td>A</td>\n",
       "      <td>1845</td>\n",
       "    </tr>\n",
       "  </tbody>\n",
       "</table>\n",
       "</div>"
      ],
      "text/plain": [
       "        date group  visitors\n",
       "0 2019-08-01     A       719\n",
       "1 2019-08-01     B       713\n",
       "2 2019-08-02     A      1338\n",
       "3 2019-08-02     B      1294\n",
       "4 2019-08-03     A      1845"
      ]
     },
     "execution_count": 19,
     "metadata": {},
     "output_type": "execute_result"
    }
   ],
   "source": [
    "visitors_aggregated = dates_gr.apply(lambda x: visitors_df[np.logical_and\\\n",
    "                    (visitors_df['date'] <= x['date'], visitors_df['group'] == x['group'])]\\\n",
    "                    .agg({'date' : 'max', 'group' : 'max', 'visitors' : 'sum'}), axis=1)\\\n",
    "                    .sort_values(by=['date','group']).reset_index(drop = True)\n",
    "visitors_aggregated.head()"
   ]
  },
  {
   "cell_type": "markdown",
   "metadata": {},
   "source": [
    "Создадим переменную cumulative_data, объединив данные из таблиц orders_aggregated и visitors_aggregated по колонкам 'date' и 'group'. Затем присвоим столбцам cumulative_data следующие названия: ['date', 'group', 'orders', 'buyers', 'revenue', 'visitors']."
   ]
  },
  {
   "cell_type": "code",
   "execution_count": 20,
   "metadata": {},
   "outputs": [
    {
     "data": {
      "text/html": [
       "<div>\n",
       "<style scoped>\n",
       "    .dataframe tbody tr th:only-of-type {\n",
       "        vertical-align: middle;\n",
       "    }\n",
       "\n",
       "    .dataframe tbody tr th {\n",
       "        vertical-align: top;\n",
       "    }\n",
       "\n",
       "    .dataframe thead th {\n",
       "        text-align: right;\n",
       "    }\n",
       "</style>\n",
       "<table border=\"1\" class=\"dataframe\">\n",
       "  <thead>\n",
       "    <tr style=\"text-align: right;\">\n",
       "      <th></th>\n",
       "      <th>date</th>\n",
       "      <th>group</th>\n",
       "      <th>orders</th>\n",
       "      <th>buyers</th>\n",
       "      <th>revenue</th>\n",
       "      <th>visitors</th>\n",
       "    </tr>\n",
       "  </thead>\n",
       "  <tbody>\n",
       "    <tr>\n",
       "      <th>0</th>\n",
       "      <td>2019-08-01</td>\n",
       "      <td>A</td>\n",
       "      <td>23</td>\n",
       "      <td>19</td>\n",
       "      <td>142779</td>\n",
       "      <td>719</td>\n",
       "    </tr>\n",
       "    <tr>\n",
       "      <th>1</th>\n",
       "      <td>2019-08-01</td>\n",
       "      <td>B</td>\n",
       "      <td>17</td>\n",
       "      <td>17</td>\n",
       "      <td>59758</td>\n",
       "      <td>713</td>\n",
       "    </tr>\n",
       "    <tr>\n",
       "      <th>2</th>\n",
       "      <td>2019-08-02</td>\n",
       "      <td>A</td>\n",
       "      <td>42</td>\n",
       "      <td>36</td>\n",
       "      <td>234381</td>\n",
       "      <td>1338</td>\n",
       "    </tr>\n",
       "    <tr>\n",
       "      <th>3</th>\n",
       "      <td>2019-08-02</td>\n",
       "      <td>B</td>\n",
       "      <td>40</td>\n",
       "      <td>39</td>\n",
       "      <td>221801</td>\n",
       "      <td>1294</td>\n",
       "    </tr>\n",
       "    <tr>\n",
       "      <th>4</th>\n",
       "      <td>2019-08-03</td>\n",
       "      <td>A</td>\n",
       "      <td>66</td>\n",
       "      <td>60</td>\n",
       "      <td>346854</td>\n",
       "      <td>1845</td>\n",
       "    </tr>\n",
       "  </tbody>\n",
       "</table>\n",
       "</div>"
      ],
      "text/plain": [
       "        date group  orders  buyers  revenue  visitors\n",
       "0 2019-08-01     A      23      19   142779       719\n",
       "1 2019-08-01     B      17      17    59758       713\n",
       "2 2019-08-02     A      42      36   234381      1338\n",
       "3 2019-08-02     B      40      39   221801      1294\n",
       "4 2019-08-03     A      66      60   346854      1845"
      ]
     },
     "execution_count": 20,
     "metadata": {},
     "output_type": "execute_result"
    }
   ],
   "source": [
    "cumulative_data = orders_aggregated.merge(visitors_aggregated, left_on = ['date', 'group'], right_on=['date', 'group'])\n",
    "cumulative_data.columns = ['date', 'group', 'orders', 'buyers', 'revenue', 'visitors']\n",
    "cumulative_data.head()"
   ]
  },
  {
   "cell_type": "markdown",
   "metadata": {},
   "source": [
    "Создадим переменные cumulative_revenue_a и cumulative_revenue_b, в которых будем хранить данные о датах, выручке и числе заказов в группах A и B. Затем построим графики кумулятивной выручки по дням для каждой из групп."
   ]
  },
  {
   "cell_type": "code",
   "execution_count": 21,
   "metadata": {},
   "outputs": [
    {
     "data": {
      "image/png": "[encoded data removed]",
      "text/plain": [
       "<Figure size 864x288 with 1 Axes>"
      ]
     },
     "metadata": {
      "needs_background": "light"
     },
     "output_type": "display_data"
    }
   ],
   "source": [
    "# датафрейм с кумулятивным количеством заказов и кумулятивной выручкой по дням в группе А\n",
    "cumulative_revenue_a = cumulative_data[cumulative_data['group']=='A'][['date','revenue', 'orders']]\n",
    "\n",
    "# датафрейм с кумулятивным количеством заказов и кумулятивной выручкой по дням в группе B\n",
    "cumulative_revenue_b = cumulative_data[cumulative_data['group']=='B'][['date','revenue', 'orders']]\n",
    "\n",
    "plt.figure(figsize=(12,4))\n",
    "# Строим график выручки группы А\n",
    "plt.plot(cumulative_revenue_a['date'], cumulative_revenue_a['revenue'], label='A')\n",
    "# Строим график выручки группы B\n",
    "plt.plot(cumulative_revenue_b['date'], cumulative_revenue_b['revenue'], label='B')\n",
    "\n",
    "plt.title('График кумулятивной выручки по группам', size=12)\n",
    "plt.xlabel(\"Дата\")\n",
    "plt.ylabel(\"Выручка\")\n",
    "plt.legend();"
   ]
  },
  {
   "cell_type": "markdown",
   "metadata": {},
   "source": [
    "#### Вывод\n",
    "График показывает, что кумулятивная выручка в группе B выше, и изменения, внесенные в группе B, оказались положительными. Поэтому мы решили продолжить исследование. Однако, в группе B наблюдается значительный скачок в районе 2019.08.18 - 2019.08.19, что выглядит как потенциальная аномалия."
   ]
  },
  {
   "cell_type": "markdown",
   "metadata": {},
   "source": [
    "График кумулятивного среднего чека по группам\n",
    "\n",
    "Для создания графика среднего чека по группам мы разделим кумулятивную выручку на кумулятивное количество заказов."
   ]
  },
  {
   "cell_type": "code",
   "execution_count": 22,
   "metadata": {},
   "outputs": [
    {
     "data": {
      "image/png": "[encoded data removed]",
      "text/plain": [
       "<Figure size 864x288 with 1 Axes>"
      ]
     },
     "metadata": {
      "needs_background": "light"
     },
     "output_type": "display_data"
    }
   ],
   "source": [
    "plt.figure(figsize=(12,4))\n",
    "plt.plot(cumulative_revenue_a['date'], cumulative_revenue_a['revenue']/cumulative_revenue_a['orders'], label='A')\n",
    "plt.plot(cumulative_revenue_b['date'], cumulative_revenue_b['revenue']/cumulative_revenue_b['orders'], label='B')\n",
    "\n",
    "plt.title('График кумулятивного среднего чека по группам', size=14)\n",
    "plt.xlabel(\"Дата\")\n",
    "plt.ylabel(\"Сумма среднего чека\")\n",
    "plt.legend();"
   ]
  },
  {
   "cell_type": "markdown",
   "metadata": {},
   "source": [
    "#### Вывод\n",
    "Рост кумулятивного среднего чека в сегменте B также заметен в период с 2019.08.18 по 2019.08.19. Вероятно, прежде чем делать какие-либо выводы на основе этой метрики, необходимо провести дополнительный анализ выбросов, которые могут исказить результаты."
   ]
  },
  {
   "cell_type": "markdown",
   "metadata": {},
   "source": [
    "График относительного изменения кумулятивного среднего чека группы B к группе A\n",
    "\n",
    "В переменной mergе_cum_revenue объединим таблицы cumulative_revenue_a и cumulative_revenue_b"
   ]
  },
  {
   "cell_type": "code",
   "execution_count": 23,
   "metadata": {},
   "outputs": [
    {
     "data": {
      "image/png": "[encoded data removed]",
      "text/plain": [
       "<Figure size 864x288 with 1 Axes>"
      ]
     },
     "metadata": {
      "needs_background": "light"
     },
     "output_type": "display_data"
    }
   ],
   "source": [
    "merge_cum_revenue = cumulative_revenue_a.merge(cumulative_revenue_b, left_on = 'date',\\\n",
    "                                          right_on = 'date', how = 'left', suffixes=['_a', '_b'])\n",
    "\n",
    "plt.figure(figsize=(12,4))\n",
    "plt.plot(merge_cum_revenue['date'], (merge_cum_revenue['revenue_b'] / merge_cum_revenue['orders_b']) / (merge_cum_revenue['revenue_a'] / merge_cum_revenue['orders_a']) - 1)\n",
    "plt.title('График относительного изменения кумулятивного среднего чека группы B к группе A', size=14)\n",
    "\n",
    "plt.axhline(y = 0, color = 'red', linestyle = '--');"
   ]
  },
  {
   "cell_type": "markdown",
   "metadata": {},
   "source": [
    "#### Вывод\n",
    "На графике отчетливо прослеживаются значительные колебания относительного изменения кумулятивного среднего чека, которые, по-видимому, связаны с наличием аномальных заказов."
   ]
  },
  {
   "cell_type": "markdown",
   "metadata": {},
   "source": [
    "График кумулятивного среднего количества заказов на посетителя по группам\n",
    "\n",
    "Добавим в датафрейм cumulative_data столбец 'conversion', в котором будет отражено отношение числа заказов к количеству пользователей в указанной группе в указанный день. Затем создадим переменные cumulative_data_a и cumulative_data_b, в которых будут содержаться данные о заказах в сегментах A и B соответственно."
   ]
  },
  {
   "cell_type": "code",
   "execution_count": 24,
   "metadata": {},
   "outputs": [
    {
     "data": {
      "image/png": "[encoded data removed]",
      "text/plain": [
       "<Figure size 864x288 with 1 Axes>"
      ]
     },
     "metadata": {
      "needs_background": "light"
     },
     "output_type": "display_data"
    }
   ],
   "source": [
    "cumulative_data['conversion'] = cumulative_data['orders'] / cumulative_data['visitors']\n",
    "cumulative_data_a = cumulative_data[cumulative_data['group'] == 'A']\n",
    "cumulative_data_b = cumulative_data[cumulative_data['group'] == 'B']\n",
    "\n",
    "plt.figure(figsize = (12,4))\n",
    "plt.plot(cumulative_data_a['date'], cumulative_data_a['conversion'], label = 'A')\n",
    "plt.plot(cumulative_data_b['date'], cumulative_data_b['conversion'], label = 'B')\n",
    "\n",
    "plt.axhline(y = 0.025, color = 'green', linestyle = '--')\n",
    "plt.axhline(y = 0.029, color = 'red', linestyle = '--')\n",
    "\n",
    "plt.title('График кумулятивной конверсии по группам', size = 12)\n",
    "plt.xlabel(\"Даты\")\n",
    "plt.ylabel(\"Кумулятивная конверсия\")\n",
    "plt.legend();"
   ]
  },
  {
   "cell_type": "markdown",
   "metadata": {},
   "source": [
    "#### Вывод\n",
    "В начале теста конверсия в обеих группах сильно колебалась. Однако со временем мы видим снижение конверсии в группе A, тогда как в группе B конверсия стала выше.\n",
    "\n",
    "К концу теста колебания конверсии в сегментах составляют примерно: около 0.025 для группы A и около 0.029 для группы B"
   ]
  },
  {
   "cell_type": "markdown",
   "metadata": {},
   "source": [
    "График относительного изменения кумулятивного среднего количества заказов на посетителя группы B к группе A\n",
    "\n",
    "В merge_cum_conversions объединим таблицы cumulative_data_a и cumulative_data_b"
   ]
  },
  {
   "cell_type": "code",
   "execution_count": 25,
   "metadata": {},
   "outputs": [
    {
     "data": {
      "image/png": "[encoded data removed]",
      "text/plain": [
       "<Figure size 864x288 with 1 Axes>"
      ]
     },
     "metadata": {
      "needs_background": "light"
     },
     "output_type": "display_data"
    }
   ],
   "source": [
    "merge_cum_conversions = cumulative_data_a[['date','conversion']] \\\n",
    ".merge(cumulative_data_b[['date','conversion']], left_on = 'date', right_on = 'date', how = 'left', suffixes = ['A', 'B'])\n",
    "\n",
    "plt.figure(figsize=(12,4))\n",
    "plt.plot(merge_cum_conversions['date'], merge_cum_conversions['conversionB'] / merge_cum_conversions['conversionA'] - 1, \\\n",
    "         label = \"Относительный прирост конверсии группы B относительно группы A\")\n",
    "plt.title('График относительного изменения кумулятивной конверсии группы B к группе A', size = 12)\n",
    "plt.xlabel(\"Даты\")\n",
    "plt.ylabel(\"Кумулятивная конверсия\")\n",
    "plt.axhline(y = 0, color = 'black', linestyle = '--')\n",
    "plt.axhline(y = 0.16, color = 'green', linestyle = '--');"
   ]
  },
  {
   "cell_type": "markdown",
   "metadata": {},
   "source": [
    "#### Вывод\n",
    "Конверсия группы B относительно группы A колеблется в районе 0.14, и мы не наблюдаем значительных изменений. Это указывает на то, что конверсия в группе B выше, подтверждая выводы, сделанные на предыдущем графике."
   ]
  },
  {
   "cell_type": "markdown",
   "metadata": {},
   "source": [
    "Точечный график количества заказов по пользователям\n",
    "\n",
    "Произведем расчет количества заказов по пользователям"
   ]
  },
  {
   "cell_type": "code",
   "execution_count": 26,
   "metadata": {},
   "outputs": [
    {
     "name": "stdout",
     "output_type": "stream",
     "text": [
      "     visitor_id  orders\n",
      "908  3967698036       3\n",
      "55    249864742       3\n",
      "478  2108163459       3\n",
      "687  2988190573       3\n",
      "890  3908431265       3\n",
      "138   611059232       3\n",
      "632  2742574263       3\n",
      "157   678354126       2\n",
      "323  1404560065       2\n",
      "452  1985475298       2\n"
     ]
    }
   ],
   "source": [
    "orders_per_us = orders_df.drop(['group', 'revenue', 'date'], axis = 1) \\\n",
    "  .groupby('visitor_id', as_index = False) \\\n",
    "  .agg({'transaction_id' : pd.Series.nunique})\n",
    "orders_per_us.columns = ['visitor_id','orders']\n",
    "\n",
    "print(orders_per_us.sort_values(by = 'orders', ascending = False).head(10))"
   ]
  },
  {
   "cell_type": "code",
   "execution_count": 27,
   "metadata": {},
   "outputs": [
    {
     "data": {
      "image/png": "[encoded data removed]",
      "text/plain": [
       "<Figure size 432x288 with 1 Axes>"
      ]
     },
     "metadata": {
      "needs_background": "light"
     },
     "output_type": "display_data"
    }
   ],
   "source": [
    "x_values = pd.Series(range(0, len(orders_per_us)))\n",
    "plt.scatter(x_values, orders_per_us['orders'])\n",
    "plt.title('Точечный график количества заказов по пользователям', size = 12)\n",
    "plt.ylabel(\"Количество заказов\");"
   ]
  },
  {
   "cell_type": "markdown",
   "metadata": {},
   "source": [
    "#### Вывод\n",
    "Большинство клиентов совершили всего один заказ. Также значительная часть пользователей сделала 2 или 3 заказа. Для определения аномальных значений необходимо рассчитать выборочные перцентили количества заказов на одного пользователя."
   ]
  },
  {
   "cell_type": "markdown",
   "metadata": {},
   "source": [
    "Расчет 95-й и 99-й перцентили количества заказов на пользователя"
   ]
  },
  {
   "cell_type": "code",
   "execution_count": 28,
   "metadata": {},
   "outputs": [
    {
     "name": "stdout",
     "output_type": "stream",
     "text": [
      "[1. 2.]\n"
     ]
    }
   ],
   "source": [
    "print(np.percentile(orders_per_us['orders'], [95, 99]))"
   ]
  },
  {
   "cell_type": "markdown",
   "metadata": {},
   "source": [
    "#### Вывод\n",
    "Менее 5% пользователей сделали более одного заказа, а менее 1% пользователей сделали более двух заказов. Пользователей, совершивших более одного заказа, будем считать аномалиями."
   ]
  },
  {
   "cell_type": "markdown",
   "metadata": {},
   "source": [
    "Точечный график стоимостей заказов"
   ]
  },
  {
   "cell_type": "code",
   "execution_count": 29,
   "metadata": {},
   "outputs": [
    {
     "data": {
      "image/png": "[encoded data removed]",
      "text/plain": [
       "<Figure size 432x288 with 1 Axes>"
      ]
     },
     "metadata": {
      "needs_background": "light"
     },
     "output_type": "display_data"
    }
   ],
   "source": [
    "x_values = pd.Series(range(0, len(orders_df['revenue'])))\n",
    "plt.scatter(x_values, orders_df['revenue'])\n",
    "plt.title('График стоимостей заказов')\n",
    "plt.grid()"
   ]
  },
  {
   "cell_type": "markdown",
   "metadata": {},
   "source": [
    "#### Вывод\n",
    "На первый взгляд заметна существенная аномалия. Однако, для точного определения аномальных значений стоимости заказа, необходимо вычислить 95-й и 99-й перцентили."
   ]
  },
  {
   "cell_type": "code",
   "execution_count": 30,
   "metadata": {},
   "outputs": [
    {
     "name": "stdout",
     "output_type": "stream",
     "text": [
      "[26785. 53904.]\n"
     ]
    }
   ],
   "source": [
    "print(np.percentile(orders_df['revenue'], [95, 99]))"
   ]
  },
  {
   "cell_type": "markdown",
   "metadata": {},
   "source": [
    "#### Вывод\n",
    "Менее 5% заказов имеют стоимость выше 26785, а менее 1% - выше 53903. Все заказы, стоимость которых превышает 26785, могут быть считаны аномалиями."
   ]
  },
  {
   "cell_type": "markdown",
   "metadata": {},
   "source": [
    "### Статистическая значимость различий"
   ]
  },
  {
   "cell_type": "markdown",
   "metadata": {},
   "source": [
    "Посчитаем статистическую значимость различий в конверсии и среднем чеке между группами по «сырым» данным — без удаления аномальных пользователей"
   ]
  },
  {
   "cell_type": "code",
   "execution_count": 31,
   "metadata": {},
   "outputs": [
    {
     "data": {
      "text/html": [
       "<div>\n",
       "<style scoped>\n",
       "    .dataframe tbody tr th:only-of-type {\n",
       "        vertical-align: middle;\n",
       "    }\n",
       "\n",
       "    .dataframe tbody tr th {\n",
       "        vertical-align: top;\n",
       "    }\n",
       "\n",
       "    .dataframe thead th {\n",
       "        text-align: right;\n",
       "    }\n",
       "</style>\n",
       "<table border=\"1\" class=\"dataframe\">\n",
       "  <thead>\n",
       "    <tr style=\"text-align: right;\">\n",
       "      <th></th>\n",
       "      <th>date</th>\n",
       "      <th>visitorsPerDateA</th>\n",
       "    </tr>\n",
       "  </thead>\n",
       "  <tbody>\n",
       "    <tr>\n",
       "      <th>0</th>\n",
       "      <td>2019-08-01</td>\n",
       "      <td>719</td>\n",
       "    </tr>\n",
       "    <tr>\n",
       "      <th>1</th>\n",
       "      <td>2019-08-02</td>\n",
       "      <td>619</td>\n",
       "    </tr>\n",
       "    <tr>\n",
       "      <th>2</th>\n",
       "      <td>2019-08-03</td>\n",
       "      <td>507</td>\n",
       "    </tr>\n",
       "    <tr>\n",
       "      <th>3</th>\n",
       "      <td>2019-08-04</td>\n",
       "      <td>717</td>\n",
       "    </tr>\n",
       "    <tr>\n",
       "      <th>4</th>\n",
       "      <td>2019-08-05</td>\n",
       "      <td>756</td>\n",
       "    </tr>\n",
       "  </tbody>\n",
       "</table>\n",
       "</div>"
      ],
      "text/plain": [
       "        date  visitorsPerDateA\n",
       "0 2019-08-01               719\n",
       "1 2019-08-02               619\n",
       "2 2019-08-03               507\n",
       "3 2019-08-04               717\n",
       "4 2019-08-05               756"
      ]
     },
     "execution_count": 31,
     "metadata": {},
     "output_type": "execute_result"
    }
   ],
   "source": [
    "#создаем датафрейм с посетителями по дням в группе А\n",
    "visitorsADaily_df = visitors_df[visitors_df['group']=='A'][['date', 'visitors']]\n",
    "visitorsADaily_df.columns = ['date', 'visitorsPerDateA']\n",
    "visitorsADaily_df.head()"
   ]
  },
  {
   "cell_type": "code",
   "execution_count": 32,
   "metadata": {},
   "outputs": [
    {
     "data": {
      "text/html": [
       "<div>\n",
       "<style scoped>\n",
       "    .dataframe tbody tr th:only-of-type {\n",
       "        vertical-align: middle;\n",
       "    }\n",
       "\n",
       "    .dataframe tbody tr th {\n",
       "        vertical-align: top;\n",
       "    }\n",
       "\n",
       "    .dataframe thead th {\n",
       "        text-align: right;\n",
       "    }\n",
       "</style>\n",
       "<table border=\"1\" class=\"dataframe\">\n",
       "  <thead>\n",
       "    <tr style=\"text-align: right;\">\n",
       "      <th></th>\n",
       "      <th>date</th>\n",
       "      <th>visitorsCummulativeA</th>\n",
       "    </tr>\n",
       "  </thead>\n",
       "  <tbody>\n",
       "    <tr>\n",
       "      <th>0</th>\n",
       "      <td>2019-08-01</td>\n",
       "      <td>719</td>\n",
       "    </tr>\n",
       "    <tr>\n",
       "      <th>1</th>\n",
       "      <td>2019-08-02</td>\n",
       "      <td>1338</td>\n",
       "    </tr>\n",
       "    <tr>\n",
       "      <th>2</th>\n",
       "      <td>2019-08-03</td>\n",
       "      <td>1845</td>\n",
       "    </tr>\n",
       "    <tr>\n",
       "      <th>3</th>\n",
       "      <td>2019-08-04</td>\n",
       "      <td>2562</td>\n",
       "    </tr>\n",
       "    <tr>\n",
       "      <th>4</th>\n",
       "      <td>2019-08-05</td>\n",
       "      <td>3318</td>\n",
       "    </tr>\n",
       "  </tbody>\n",
       "</table>\n",
       "</div>"
      ],
      "text/plain": [
       "        date  visitorsCummulativeA\n",
       "0 2019-08-01                   719\n",
       "1 2019-08-02                  1338\n",
       "2 2019-08-03                  1845\n",
       "3 2019-08-04                  2562\n",
       "4 2019-08-05                  3318"
      ]
     },
     "execution_count": 32,
     "metadata": {},
     "output_type": "execute_result"
    }
   ],
   "source": [
    "# Соберём кумулятивные по дням данные о количестве пользователей в группе A\n",
    "visitorsACummulative = visitorsADaily_df.apply(lambda x: visitorsADaily_df[visitorsADaily_df['date'] <= x['date']].agg({'date' : 'max', 'visitorsPerDateA' : 'sum'}), axis=1)\n",
    "visitorsACummulative.columns = ['date', 'visitorsCummulativeA']\n",
    "visitorsACummulative.head()"
   ]
  },
  {
   "cell_type": "code",
   "execution_count": 33,
   "metadata": {},
   "outputs": [
    {
     "data": {
      "text/html": [
       "<div>\n",
       "<style scoped>\n",
       "    .dataframe tbody tr th:only-of-type {\n",
       "        vertical-align: middle;\n",
       "    }\n",
       "\n",
       "    .dataframe tbody tr th {\n",
       "        vertical-align: top;\n",
       "    }\n",
       "\n",
       "    .dataframe thead th {\n",
       "        text-align: right;\n",
       "    }\n",
       "</style>\n",
       "<table border=\"1\" class=\"dataframe\">\n",
       "  <thead>\n",
       "    <tr style=\"text-align: right;\">\n",
       "      <th></th>\n",
       "      <th>date</th>\n",
       "      <th>visitorsPerDateB</th>\n",
       "    </tr>\n",
       "  </thead>\n",
       "  <tbody>\n",
       "    <tr>\n",
       "      <th>31</th>\n",
       "      <td>2019-08-01</td>\n",
       "      <td>713</td>\n",
       "    </tr>\n",
       "    <tr>\n",
       "      <th>32</th>\n",
       "      <td>2019-08-02</td>\n",
       "      <td>581</td>\n",
       "    </tr>\n",
       "    <tr>\n",
       "      <th>33</th>\n",
       "      <td>2019-08-03</td>\n",
       "      <td>509</td>\n",
       "    </tr>\n",
       "    <tr>\n",
       "      <th>34</th>\n",
       "      <td>2019-08-04</td>\n",
       "      <td>770</td>\n",
       "    </tr>\n",
       "    <tr>\n",
       "      <th>35</th>\n",
       "      <td>2019-08-05</td>\n",
       "      <td>707</td>\n",
       "    </tr>\n",
       "  </tbody>\n",
       "</table>\n",
       "</div>"
      ],
      "text/plain": [
       "         date  visitorsPerDateB\n",
       "31 2019-08-01               713\n",
       "32 2019-08-02               581\n",
       "33 2019-08-03               509\n",
       "34 2019-08-04               770\n",
       "35 2019-08-05               707"
      ]
     },
     "execution_count": 33,
     "metadata": {},
     "output_type": "execute_result"
    }
   ],
   "source": [
    "#Сделаем аналогично, но с группой B\n",
    "visitorsBDaily_df = visitors_df[visitors_df['group']=='B'][['date', 'visitors']]\n",
    "visitorsBDaily_df.columns = ['date', 'visitorsPerDateB']\n",
    "visitorsBDaily_df.head()"
   ]
  },
  {
   "cell_type": "code",
   "execution_count": 34,
   "metadata": {},
   "outputs": [
    {
     "data": {
      "text/html": [
       "<div>\n",
       "<style scoped>\n",
       "    .dataframe tbody tr th:only-of-type {\n",
       "        vertical-align: middle;\n",
       "    }\n",
       "\n",
       "    .dataframe tbody tr th {\n",
       "        vertical-align: top;\n",
       "    }\n",
       "\n",
       "    .dataframe thead th {\n",
       "        text-align: right;\n",
       "    }\n",
       "</style>\n",
       "<table border=\"1\" class=\"dataframe\">\n",
       "  <thead>\n",
       "    <tr style=\"text-align: right;\">\n",
       "      <th></th>\n",
       "      <th>date</th>\n",
       "      <th>visitorsCummulativeB</th>\n",
       "    </tr>\n",
       "  </thead>\n",
       "  <tbody>\n",
       "    <tr>\n",
       "      <th>31</th>\n",
       "      <td>2019-08-01</td>\n",
       "      <td>713</td>\n",
       "    </tr>\n",
       "    <tr>\n",
       "      <th>32</th>\n",
       "      <td>2019-08-02</td>\n",
       "      <td>1294</td>\n",
       "    </tr>\n",
       "    <tr>\n",
       "      <th>33</th>\n",
       "      <td>2019-08-03</td>\n",
       "      <td>1803</td>\n",
       "    </tr>\n",
       "    <tr>\n",
       "      <th>34</th>\n",
       "      <td>2019-08-04</td>\n",
       "      <td>2573</td>\n",
       "    </tr>\n",
       "    <tr>\n",
       "      <th>35</th>\n",
       "      <td>2019-08-05</td>\n",
       "      <td>3280</td>\n",
       "    </tr>\n",
       "  </tbody>\n",
       "</table>\n",
       "</div>"
      ],
      "text/plain": [
       "         date  visitorsCummulativeB\n",
       "31 2019-08-01                   713\n",
       "32 2019-08-02                  1294\n",
       "33 2019-08-03                  1803\n",
       "34 2019-08-04                  2573\n",
       "35 2019-08-05                  3280"
      ]
     },
     "execution_count": 34,
     "metadata": {},
     "output_type": "execute_result"
    }
   ],
   "source": [
    "visitorsBCummulative = visitorsBDaily_df.apply(lambda x: visitorsBDaily_df[visitorsBDaily_df['date'] <= x['date']].agg({'date' : 'max', 'visitorsPerDateB' : 'sum'}), axis=1)\n",
    "visitorsBCummulative.columns = ['date', 'visitorsCummulativeB']\n",
    "visitorsBCummulative.head()"
   ]
  },
  {
   "cell_type": "code",
   "execution_count": 35,
   "metadata": {},
   "outputs": [
    {
     "data": {
      "text/html": [
       "<div>\n",
       "<style scoped>\n",
       "    .dataframe tbody tr th:only-of-type {\n",
       "        vertical-align: middle;\n",
       "    }\n",
       "\n",
       "    .dataframe tbody tr th {\n",
       "        vertical-align: top;\n",
       "    }\n",
       "\n",
       "    .dataframe thead th {\n",
       "        text-align: right;\n",
       "    }\n",
       "</style>\n",
       "<table border=\"1\" class=\"dataframe\">\n",
       "  <thead>\n",
       "    <tr style=\"text-align: right;\">\n",
       "      <th></th>\n",
       "      <th>date</th>\n",
       "      <th>ordersPerDateA</th>\n",
       "      <th>revenuePerDateA</th>\n",
       "    </tr>\n",
       "  </thead>\n",
       "  <tbody>\n",
       "    <tr>\n",
       "      <th>0</th>\n",
       "      <td>2019-08-01</td>\n",
       "      <td>23</td>\n",
       "      <td>142779</td>\n",
       "    </tr>\n",
       "    <tr>\n",
       "      <th>1</th>\n",
       "      <td>2019-08-02</td>\n",
       "      <td>19</td>\n",
       "      <td>91602</td>\n",
       "    </tr>\n",
       "    <tr>\n",
       "      <th>2</th>\n",
       "      <td>2019-08-03</td>\n",
       "      <td>24</td>\n",
       "      <td>112473</td>\n",
       "    </tr>\n",
       "    <tr>\n",
       "      <th>3</th>\n",
       "      <td>2019-08-04</td>\n",
       "      <td>11</td>\n",
       "      <td>41176</td>\n",
       "    </tr>\n",
       "    <tr>\n",
       "      <th>4</th>\n",
       "      <td>2019-08-05</td>\n",
       "      <td>22</td>\n",
       "      <td>86383</td>\n",
       "    </tr>\n",
       "  </tbody>\n",
       "</table>\n",
       "</div>"
      ],
      "text/plain": [
       "        date  ordersPerDateA  revenuePerDateA\n",
       "0 2019-08-01              23           142779\n",
       "1 2019-08-02              19            91602\n",
       "2 2019-08-03              24           112473\n",
       "3 2019-08-04              11            41176\n",
       "4 2019-08-05              22            86383"
      ]
     },
     "execution_count": 35,
     "metadata": {},
     "output_type": "execute_result"
    }
   ],
   "source": [
    "#Соберем данные о количестве заказов, суммарной выручке по дням в группе А\n",
    "ordersADaily = orders_df[orders_df['group']=='A'][['date', 'transaction_id', 'visitor_id', 'revenue']]\\\n",
    "    .groupby('date', as_index=False)\\\n",
    "    .agg({'transaction_id' : pd.Series.nunique, 'revenue' : 'sum'})\n",
    "ordersADaily.columns = ['date', 'ordersPerDateA', 'revenuePerDateA']\n",
    "ordersADaily.head()"
   ]
  },
  {
   "cell_type": "code",
   "execution_count": 36,
   "metadata": {},
   "outputs": [
    {
     "data": {
      "text/html": [
       "<div>\n",
       "<style scoped>\n",
       "    .dataframe tbody tr th:only-of-type {\n",
       "        vertical-align: middle;\n",
       "    }\n",
       "\n",
       "    .dataframe tbody tr th {\n",
       "        vertical-align: top;\n",
       "    }\n",
       "\n",
       "    .dataframe thead th {\n",
       "        text-align: right;\n",
       "    }\n",
       "</style>\n",
       "<table border=\"1\" class=\"dataframe\">\n",
       "  <thead>\n",
       "    <tr style=\"text-align: right;\">\n",
       "      <th></th>\n",
       "      <th>date</th>\n",
       "      <th>ordersCummulativeA</th>\n",
       "      <th>revenueCummulativeA</th>\n",
       "    </tr>\n",
       "  </thead>\n",
       "  <tbody>\n",
       "    <tr>\n",
       "      <th>0</th>\n",
       "      <td>2019-08-01</td>\n",
       "      <td>23</td>\n",
       "      <td>142779</td>\n",
       "    </tr>\n",
       "    <tr>\n",
       "      <th>1</th>\n",
       "      <td>2019-08-02</td>\n",
       "      <td>42</td>\n",
       "      <td>234381</td>\n",
       "    </tr>\n",
       "    <tr>\n",
       "      <th>2</th>\n",
       "      <td>2019-08-03</td>\n",
       "      <td>66</td>\n",
       "      <td>346854</td>\n",
       "    </tr>\n",
       "    <tr>\n",
       "      <th>3</th>\n",
       "      <td>2019-08-04</td>\n",
       "      <td>77</td>\n",
       "      <td>388030</td>\n",
       "    </tr>\n",
       "    <tr>\n",
       "      <th>4</th>\n",
       "      <td>2019-08-05</td>\n",
       "      <td>99</td>\n",
       "      <td>474413</td>\n",
       "    </tr>\n",
       "  </tbody>\n",
       "</table>\n",
       "</div>"
      ],
      "text/plain": [
       "        date  ordersCummulativeA  revenueCummulativeA\n",
       "0 2019-08-01                  23               142779\n",
       "1 2019-08-02                  42               234381\n",
       "2 2019-08-03                  66               346854\n",
       "3 2019-08-04                  77               388030\n",
       "4 2019-08-05                  99               474413"
      ]
     },
     "execution_count": 36,
     "metadata": {},
     "output_type": "execute_result"
    }
   ],
   "source": [
    "#Соберем данные о суммарном (коммулятивном) количестве заказов, суммарной выручке по дням в группе А\n",
    "ordersACummulative = ordersADaily.apply(\n",
    "    lambda x: \\\n",
    "        ordersADaily[ordersADaily['date'] <= x['date']]\\\n",
    "            .agg({\n",
    "                'date' : 'max',\n",
    "                'ordersPerDateA' : 'sum',\n",
    "                'revenuePerDateA' : 'sum'}), axis=1).sort_values(by=['date'])\n",
    "ordersACummulative.columns = ['date', 'ordersCummulativeA', 'revenueCummulativeA']\n",
    "ordersACummulative.head()"
   ]
  },
  {
   "cell_type": "code",
   "execution_count": 37,
   "metadata": {},
   "outputs": [
    {
     "data": {
      "text/html": [
       "<div>\n",
       "<style scoped>\n",
       "    .dataframe tbody tr th:only-of-type {\n",
       "        vertical-align: middle;\n",
       "    }\n",
       "\n",
       "    .dataframe tbody tr th {\n",
       "        vertical-align: top;\n",
       "    }\n",
       "\n",
       "    .dataframe thead th {\n",
       "        text-align: right;\n",
       "    }\n",
       "</style>\n",
       "<table border=\"1\" class=\"dataframe\">\n",
       "  <thead>\n",
       "    <tr style=\"text-align: right;\">\n",
       "      <th></th>\n",
       "      <th>date</th>\n",
       "      <th>ordersPerDateB</th>\n",
       "      <th>revenuePerDateB</th>\n",
       "    </tr>\n",
       "  </thead>\n",
       "  <tbody>\n",
       "    <tr>\n",
       "      <th>0</th>\n",
       "      <td>2019-08-01</td>\n",
       "      <td>17</td>\n",
       "      <td>59758</td>\n",
       "    </tr>\n",
       "    <tr>\n",
       "      <th>1</th>\n",
       "      <td>2019-08-02</td>\n",
       "      <td>23</td>\n",
       "      <td>162043</td>\n",
       "    </tr>\n",
       "    <tr>\n",
       "      <th>2</th>\n",
       "      <td>2019-08-03</td>\n",
       "      <td>14</td>\n",
       "      <td>67049</td>\n",
       "    </tr>\n",
       "    <tr>\n",
       "      <th>3</th>\n",
       "      <td>2019-08-04</td>\n",
       "      <td>14</td>\n",
       "      <td>96890</td>\n",
       "    </tr>\n",
       "    <tr>\n",
       "      <th>4</th>\n",
       "      <td>2019-08-05</td>\n",
       "      <td>21</td>\n",
       "      <td>89908</td>\n",
       "    </tr>\n",
       "  </tbody>\n",
       "</table>\n",
       "</div>"
      ],
      "text/plain": [
       "        date  ordersPerDateB  revenuePerDateB\n",
       "0 2019-08-01              17            59758\n",
       "1 2019-08-02              23           162043\n",
       "2 2019-08-03              14            67049\n",
       "3 2019-08-04              14            96890\n",
       "4 2019-08-05              21            89908"
      ]
     },
     "execution_count": 37,
     "metadata": {},
     "output_type": "execute_result"
    }
   ],
   "source": [
    "#Соберем данные о количестве заказов, суммарной выручке по дням в группе В\n",
    "ordersBDaily = orders_df[orders_df['group']=='B'][['date', 'transaction_id', 'visitor_id', 'revenue']]\\\n",
    "    .groupby('date', as_index=False)\\\n",
    "    .agg({'transaction_id' : pd.Series.nunique, 'revenue' : 'sum'})\n",
    "ordersBDaily.columns = ['date', 'ordersPerDateB', 'revenuePerDateB']\n",
    "ordersBDaily.head()"
   ]
  },
  {
   "cell_type": "code",
   "execution_count": 38,
   "metadata": {},
   "outputs": [
    {
     "data": {
      "text/html": [
       "<div>\n",
       "<style scoped>\n",
       "    .dataframe tbody tr th:only-of-type {\n",
       "        vertical-align: middle;\n",
       "    }\n",
       "\n",
       "    .dataframe tbody tr th {\n",
       "        vertical-align: top;\n",
       "    }\n",
       "\n",
       "    .dataframe thead th {\n",
       "        text-align: right;\n",
       "    }\n",
       "</style>\n",
       "<table border=\"1\" class=\"dataframe\">\n",
       "  <thead>\n",
       "    <tr style=\"text-align: right;\">\n",
       "      <th></th>\n",
       "      <th>date</th>\n",
       "      <th>ordersCummulativeB</th>\n",
       "      <th>revenueCummulativeB</th>\n",
       "    </tr>\n",
       "  </thead>\n",
       "  <tbody>\n",
       "    <tr>\n",
       "      <th>0</th>\n",
       "      <td>2019-08-01</td>\n",
       "      <td>17</td>\n",
       "      <td>59758</td>\n",
       "    </tr>\n",
       "    <tr>\n",
       "      <th>1</th>\n",
       "      <td>2019-08-02</td>\n",
       "      <td>40</td>\n",
       "      <td>221801</td>\n",
       "    </tr>\n",
       "    <tr>\n",
       "      <th>2</th>\n",
       "      <td>2019-08-03</td>\n",
       "      <td>54</td>\n",
       "      <td>288850</td>\n",
       "    </tr>\n",
       "    <tr>\n",
       "      <th>3</th>\n",
       "      <td>2019-08-04</td>\n",
       "      <td>68</td>\n",
       "      <td>385740</td>\n",
       "    </tr>\n",
       "    <tr>\n",
       "      <th>4</th>\n",
       "      <td>2019-08-05</td>\n",
       "      <td>89</td>\n",
       "      <td>475648</td>\n",
       "    </tr>\n",
       "  </tbody>\n",
       "</table>\n",
       "</div>"
      ],
      "text/plain": [
       "        date  ordersCummulativeB  revenueCummulativeB\n",
       "0 2019-08-01                  17                59758\n",
       "1 2019-08-02                  40               221801\n",
       "2 2019-08-03                  54               288850\n",
       "3 2019-08-04                  68               385740\n",
       "4 2019-08-05                  89               475648"
      ]
     },
     "execution_count": 38,
     "metadata": {},
     "output_type": "execute_result"
    }
   ],
   "source": [
    "#Соберем данные о суммерном (коммулятивном) количестве заказов, суммарной выручке по дням в группе В\n",
    "ordersBCummulative = ordersBDaily.apply(\n",
    "    lambda x: \\\n",
    "        ordersBDaily[ordersBDaily['date'] <= x['date']]\\\n",
    "            .agg({\n",
    "                'date' : 'max',\n",
    "                'ordersPerDateB' : 'sum',\n",
    "                'revenuePerDateB' : 'sum'}), axis=1).sort_values(by=['date'])\n",
    "ordersBCummulative.columns = ['date', 'ordersCummulativeB', 'revenueCummulativeB']\n",
    "ordersBCummulative.head()"
   ]
  },
  {
   "cell_type": "code",
   "execution_count": 39,
   "metadata": {},
   "outputs": [
    {
     "data": {
      "text/html": [
       "<div>\n",
       "<style scoped>\n",
       "    .dataframe tbody tr th:only-of-type {\n",
       "        vertical-align: middle;\n",
       "    }\n",
       "\n",
       "    .dataframe tbody tr th {\n",
       "        vertical-align: top;\n",
       "    }\n",
       "\n",
       "    .dataframe thead th {\n",
       "        text-align: right;\n",
       "    }\n",
       "</style>\n",
       "<table border=\"1\" class=\"dataframe\">\n",
       "  <thead>\n",
       "    <tr style=\"text-align: right;\">\n",
       "      <th></th>\n",
       "      <th>date</th>\n",
       "      <th>ordersPerDateA</th>\n",
       "      <th>revenuePerDateA</th>\n",
       "      <th>ordersPerDateB</th>\n",
       "      <th>revenuePerDateB</th>\n",
       "      <th>ordersCummulativeA</th>\n",
       "      <th>revenueCummulativeA</th>\n",
       "      <th>ordersCummulativeB</th>\n",
       "      <th>revenueCummulativeB</th>\n",
       "      <th>visitorsPerDateA</th>\n",
       "      <th>visitorsPerDateB</th>\n",
       "      <th>visitorsCummulativeA</th>\n",
       "      <th>visitorsCummulativeB</th>\n",
       "    </tr>\n",
       "  </thead>\n",
       "  <tbody>\n",
       "    <tr>\n",
       "      <th>0</th>\n",
       "      <td>2019-08-01</td>\n",
       "      <td>23</td>\n",
       "      <td>142779</td>\n",
       "      <td>17</td>\n",
       "      <td>59758</td>\n",
       "      <td>23</td>\n",
       "      <td>142779</td>\n",
       "      <td>17</td>\n",
       "      <td>59758</td>\n",
       "      <td>719</td>\n",
       "      <td>713</td>\n",
       "      <td>719</td>\n",
       "      <td>713</td>\n",
       "    </tr>\n",
       "    <tr>\n",
       "      <th>1</th>\n",
       "      <td>2019-08-02</td>\n",
       "      <td>19</td>\n",
       "      <td>91602</td>\n",
       "      <td>23</td>\n",
       "      <td>162043</td>\n",
       "      <td>42</td>\n",
       "      <td>234381</td>\n",
       "      <td>40</td>\n",
       "      <td>221801</td>\n",
       "      <td>619</td>\n",
       "      <td>581</td>\n",
       "      <td>1338</td>\n",
       "      <td>1294</td>\n",
       "    </tr>\n",
       "    <tr>\n",
       "      <th>2</th>\n",
       "      <td>2019-08-03</td>\n",
       "      <td>24</td>\n",
       "      <td>112473</td>\n",
       "      <td>14</td>\n",
       "      <td>67049</td>\n",
       "      <td>66</td>\n",
       "      <td>346854</td>\n",
       "      <td>54</td>\n",
       "      <td>288850</td>\n",
       "      <td>507</td>\n",
       "      <td>509</td>\n",
       "      <td>1845</td>\n",
       "      <td>1803</td>\n",
       "    </tr>\n",
       "    <tr>\n",
       "      <th>3</th>\n",
       "      <td>2019-08-04</td>\n",
       "      <td>11</td>\n",
       "      <td>41176</td>\n",
       "      <td>14</td>\n",
       "      <td>96890</td>\n",
       "      <td>77</td>\n",
       "      <td>388030</td>\n",
       "      <td>68</td>\n",
       "      <td>385740</td>\n",
       "      <td>717</td>\n",
       "      <td>770</td>\n",
       "      <td>2562</td>\n",
       "      <td>2573</td>\n",
       "    </tr>\n",
       "    <tr>\n",
       "      <th>4</th>\n",
       "      <td>2019-08-05</td>\n",
       "      <td>22</td>\n",
       "      <td>86383</td>\n",
       "      <td>21</td>\n",
       "      <td>89908</td>\n",
       "      <td>99</td>\n",
       "      <td>474413</td>\n",
       "      <td>89</td>\n",
       "      <td>475648</td>\n",
       "      <td>756</td>\n",
       "      <td>707</td>\n",
       "      <td>3318</td>\n",
       "      <td>3280</td>\n",
       "    </tr>\n",
       "  </tbody>\n",
       "</table>\n",
       "</div>"
      ],
      "text/plain": [
       "        date  ordersPerDateA  revenuePerDateA  ordersPerDateB  \\\n",
       "0 2019-08-01              23           142779              17   \n",
       "1 2019-08-02              19            91602              23   \n",
       "2 2019-08-03              24           112473              14   \n",
       "3 2019-08-04              11            41176              14   \n",
       "4 2019-08-05              22            86383              21   \n",
       "\n",
       "   revenuePerDateB  ordersCummulativeA  revenueCummulativeA  \\\n",
       "0            59758                  23               142779   \n",
       "1           162043                  42               234381   \n",
       "2            67049                  66               346854   \n",
       "3            96890                  77               388030   \n",
       "4            89908                  99               474413   \n",
       "\n",
       "   ordersCummulativeB  revenueCummulativeB  visitorsPerDateA  \\\n",
       "0                  17                59758               719   \n",
       "1                  40               221801               619   \n",
       "2                  54               288850               507   \n",
       "3                  68               385740               717   \n",
       "4                  89               475648               756   \n",
       "\n",
       "   visitorsPerDateB  visitorsCummulativeA  visitorsCummulativeB  \n",
       "0               713                   719                   713  \n",
       "1               581                  1338                  1294  \n",
       "2               509                  1845                  1803  \n",
       "3               770                  2562                  2573  \n",
       "4               707                  3318                  3280  "
      ]
     },
     "execution_count": 39,
     "metadata": {},
     "output_type": "execute_result"
    }
   ],
   "source": [
    "#Объеденим полученные данные в один датафрейм\n",
    "df = ordersADaily.merge(ordersBDaily, left_on='date', right_on='date', how='left')\\\n",
    "    .merge(ordersACummulative, left_on='date', right_on='date', how='left')\\\n",
    "    .merge(ordersBCummulative, left_on='date', right_on='date', how='left')\\\n",
    "    .merge(visitorsADaily_df, left_on='date', right_on='date', how='left')\\\n",
    "    .merge(visitorsBDaily_df, left_on='date', right_on='date', how='left')\\\n",
    "    .merge(visitorsACummulative, left_on='date', right_on='date', how='left')\\\n",
    "    .merge(visitorsBCummulative, left_on='date', right_on='date', how='left')\n",
    "df.head()"
   ]
  },
  {
   "cell_type": "markdown",
   "metadata": {},
   "source": [
    "Создадим переменные ordersByUsersA и ordersByUsersB со столбцами, в которых для пользователей, которые заказывали хотя бы 1 раз, укажем число совершённых заказов"
   ]
  },
  {
   "cell_type": "code",
   "execution_count": 40,
   "metadata": {},
   "outputs": [
    {
     "data": {
      "text/html": [
       "<div>\n",
       "<style scoped>\n",
       "    .dataframe tbody tr th:only-of-type {\n",
       "        vertical-align: middle;\n",
       "    }\n",
       "\n",
       "    .dataframe tbody tr th {\n",
       "        vertical-align: top;\n",
       "    }\n",
       "\n",
       "    .dataframe thead th {\n",
       "        text-align: right;\n",
       "    }\n",
       "</style>\n",
       "<table border=\"1\" class=\"dataframe\">\n",
       "  <thead>\n",
       "    <tr style=\"text-align: right;\">\n",
       "      <th></th>\n",
       "      <th>user_id</th>\n",
       "      <th>orders</th>\n",
       "    </tr>\n",
       "  </thead>\n",
       "  <tbody>\n",
       "    <tr>\n",
       "      <th>0</th>\n",
       "      <td>11685486</td>\n",
       "      <td>1</td>\n",
       "    </tr>\n",
       "    <tr>\n",
       "      <th>1</th>\n",
       "      <td>54447517</td>\n",
       "      <td>1</td>\n",
       "    </tr>\n",
       "    <tr>\n",
       "      <th>2</th>\n",
       "      <td>66685450</td>\n",
       "      <td>1</td>\n",
       "    </tr>\n",
       "    <tr>\n",
       "      <th>3</th>\n",
       "      <td>78758296</td>\n",
       "      <td>1</td>\n",
       "    </tr>\n",
       "    <tr>\n",
       "      <th>4</th>\n",
       "      <td>85103373</td>\n",
       "      <td>1</td>\n",
       "    </tr>\n",
       "  </tbody>\n",
       "</table>\n",
       "</div>"
      ],
      "text/plain": [
       "    user_id  orders\n",
       "0  11685486       1\n",
       "1  54447517       1\n",
       "2  66685450       1\n",
       "3  78758296       1\n",
       "4  85103373       1"
      ]
     },
     "execution_count": 40,
     "metadata": {},
     "output_type": "execute_result"
    }
   ],
   "source": [
    "ordersByUsersA = orders_df[orders_df['group']=='A'].groupby('visitor_id', as_index=False).agg({'transaction_id' : pd.Series.nunique})\n",
    "ordersByUsersA.columns = ['user_id', 'orders']\n",
    "ordersByUsersA.head()"
   ]
  },
  {
   "cell_type": "code",
   "execution_count": 41,
   "metadata": {},
   "outputs": [
    {
     "data": {
      "text/html": [
       "<div>\n",
       "<style scoped>\n",
       "    .dataframe tbody tr th:only-of-type {\n",
       "        vertical-align: middle;\n",
       "    }\n",
       "\n",
       "    .dataframe tbody tr th {\n",
       "        vertical-align: top;\n",
       "    }\n",
       "\n",
       "    .dataframe thead th {\n",
       "        text-align: right;\n",
       "    }\n",
       "</style>\n",
       "<table border=\"1\" class=\"dataframe\">\n",
       "  <thead>\n",
       "    <tr style=\"text-align: right;\">\n",
       "      <th></th>\n",
       "      <th>user_id</th>\n",
       "      <th>orders</th>\n",
       "    </tr>\n",
       "  </thead>\n",
       "  <tbody>\n",
       "    <tr>\n",
       "      <th>0</th>\n",
       "      <td>5114589</td>\n",
       "      <td>1</td>\n",
       "    </tr>\n",
       "    <tr>\n",
       "      <th>1</th>\n",
       "      <td>6958315</td>\n",
       "      <td>1</td>\n",
       "    </tr>\n",
       "    <tr>\n",
       "      <th>2</th>\n",
       "      <td>39475350</td>\n",
       "      <td>1</td>\n",
       "    </tr>\n",
       "    <tr>\n",
       "      <th>3</th>\n",
       "      <td>47206413</td>\n",
       "      <td>1</td>\n",
       "    </tr>\n",
       "    <tr>\n",
       "      <th>4</th>\n",
       "      <td>48147722</td>\n",
       "      <td>1</td>\n",
       "    </tr>\n",
       "    <tr>\n",
       "      <th>...</th>\n",
       "      <td>...</td>\n",
       "      <td>...</td>\n",
       "    </tr>\n",
       "    <tr>\n",
       "      <th>523</th>\n",
       "      <td>4251115836</td>\n",
       "      <td>1</td>\n",
       "    </tr>\n",
       "    <tr>\n",
       "      <th>524</th>\n",
       "      <td>4258103007</td>\n",
       "      <td>1</td>\n",
       "    </tr>\n",
       "    <tr>\n",
       "      <th>525</th>\n",
       "      <td>4279090005</td>\n",
       "      <td>1</td>\n",
       "    </tr>\n",
       "    <tr>\n",
       "      <th>526</th>\n",
       "      <td>4281247801</td>\n",
       "      <td>1</td>\n",
       "    </tr>\n",
       "    <tr>\n",
       "      <th>527</th>\n",
       "      <td>4283872382</td>\n",
       "      <td>1</td>\n",
       "    </tr>\n",
       "  </tbody>\n",
       "</table>\n",
       "<p>528 rows × 2 columns</p>\n",
       "</div>"
      ],
      "text/plain": [
       "        user_id  orders\n",
       "0       5114589       1\n",
       "1       6958315       1\n",
       "2      39475350       1\n",
       "3      47206413       1\n",
       "4      48147722       1\n",
       "..          ...     ...\n",
       "523  4251115836       1\n",
       "524  4258103007       1\n",
       "525  4279090005       1\n",
       "526  4281247801       1\n",
       "527  4283872382       1\n",
       "\n",
       "[528 rows x 2 columns]"
      ]
     },
     "execution_count": 41,
     "metadata": {},
     "output_type": "execute_result"
    }
   ],
   "source": [
    "ordersByUsersB = orders_df[orders_df['group']=='B'].groupby('visitor_id', as_index=False).agg({'transaction_id' : pd.Series.nunique})\n",
    "ordersByUsersB.columns = ['user_id', 'orders']\n",
    "ordersByUsersB"
   ]
  },
  {
   "cell_type": "markdown",
   "metadata": {},
   "source": [
    "Объявим переменные sampleA и sampleB, в которых пользователям из разных групп будет соответствовать количество заказов. Тем, кто ничего не заказал, будут соответствовать нули."
   ]
  },
  {
   "cell_type": "code",
   "execution_count": 42,
   "metadata": {},
   "outputs": [
    {
     "data": {
      "text/plain": [
       "0    1\n",
       "1    1\n",
       "2    1\n",
       "3    1\n",
       "4    1\n",
       "Name: orders, dtype: int64"
      ]
     },
     "execution_count": 42,
     "metadata": {},
     "output_type": "execute_result"
    }
   ],
   "source": [
    "sampleA = pd.concat([ordersByUsersA['orders'],pd.Series(0, index=np.arange(df['visitorsPerDateA'].sum() - len(ordersByUsersA['orders'])), name='orders')],axis=0)\n",
    "sampleA.head()"
   ]
  },
  {
   "cell_type": "code",
   "execution_count": 43,
   "metadata": {},
   "outputs": [
    {
     "data": {
      "text/plain": [
       "0    1\n",
       "1    1\n",
       "2    1\n",
       "3    1\n",
       "4    1\n",
       "Name: orders, dtype: int64"
      ]
     },
     "execution_count": 43,
     "metadata": {},
     "output_type": "execute_result"
    }
   ],
   "source": [
    "sampleB = pd.concat([ordersByUsersB['orders'],pd.Series(0, index=np.arange(df['visitorsPerDateB'].sum() - len(ordersByUsersB['orders'])), name='orders')],axis=0)\n",
    "sampleB.head()"
   ]
  },
  {
   "cell_type": "markdown",
   "metadata": {},
   "source": [
    "Выведем относительный прирост конверсии группы B: конверсия группы B / конверсия группы A - 1. Округлим до трёх знаков после запятой"
   ]
  },
  {
   "cell_type": "code",
   "execution_count": 44,
   "metadata": {},
   "outputs": [
    {
     "data": {
      "text/html": [
       "<div>\n",
       "<style scoped>\n",
       "    .dataframe tbody tr th:only-of-type {\n",
       "        vertical-align: middle;\n",
       "    }\n",
       "\n",
       "    .dataframe tbody tr th {\n",
       "        vertical-align: top;\n",
       "    }\n",
       "\n",
       "    .dataframe thead th {\n",
       "        text-align: right;\n",
       "    }\n",
       "</style>\n",
       "<table border=\"1\" class=\"dataframe\">\n",
       "  <thead>\n",
       "    <tr style=\"text-align: right;\">\n",
       "      <th></th>\n",
       "      <th>user_id</th>\n",
       "      <th>orders</th>\n",
       "    </tr>\n",
       "  </thead>\n",
       "  <tbody>\n",
       "    <tr>\n",
       "      <th>0</th>\n",
       "      <td>11685486</td>\n",
       "      <td>1</td>\n",
       "    </tr>\n",
       "    <tr>\n",
       "      <th>1</th>\n",
       "      <td>54447517</td>\n",
       "      <td>1</td>\n",
       "    </tr>\n",
       "    <tr>\n",
       "      <th>2</th>\n",
       "      <td>66685450</td>\n",
       "      <td>1</td>\n",
       "    </tr>\n",
       "    <tr>\n",
       "      <th>3</th>\n",
       "      <td>78758296</td>\n",
       "      <td>1</td>\n",
       "    </tr>\n",
       "    <tr>\n",
       "      <th>4</th>\n",
       "      <td>85103373</td>\n",
       "      <td>1</td>\n",
       "    </tr>\n",
       "  </tbody>\n",
       "</table>\n",
       "</div>"
      ],
      "text/plain": [
       "    user_id  orders\n",
       "0  11685486       1\n",
       "1  54447517       1\n",
       "2  66685450       1\n",
       "3  78758296       1\n",
       "4  85103373       1"
      ]
     },
     "execution_count": 44,
     "metadata": {},
     "output_type": "execute_result"
    }
   ],
   "source": [
    "ordersByUsersA = orders_df[orders_df['group']=='A'].groupby('visitor_id', as_index=False).agg({'transaction_id' : pd.Series.nunique})\n",
    "ordersByUsersA.columns = ['user_id', 'orders']\n",
    "ordersByUsersA.head()"
   ]
  },
  {
   "cell_type": "code",
   "execution_count": 45,
   "metadata": {},
   "outputs": [
    {
     "data": {
      "text/html": [
       "<div>\n",
       "<style scoped>\n",
       "    .dataframe tbody tr th:only-of-type {\n",
       "        vertical-align: middle;\n",
       "    }\n",
       "\n",
       "    .dataframe tbody tr th {\n",
       "        vertical-align: top;\n",
       "    }\n",
       "\n",
       "    .dataframe thead th {\n",
       "        text-align: right;\n",
       "    }\n",
       "</style>\n",
       "<table border=\"1\" class=\"dataframe\">\n",
       "  <thead>\n",
       "    <tr style=\"text-align: right;\">\n",
       "      <th></th>\n",
       "      <th>user_id</th>\n",
       "      <th>orders</th>\n",
       "    </tr>\n",
       "  </thead>\n",
       "  <tbody>\n",
       "    <tr>\n",
       "      <th>0</th>\n",
       "      <td>5114589</td>\n",
       "      <td>1</td>\n",
       "    </tr>\n",
       "    <tr>\n",
       "      <th>1</th>\n",
       "      <td>6958315</td>\n",
       "      <td>1</td>\n",
       "    </tr>\n",
       "    <tr>\n",
       "      <th>2</th>\n",
       "      <td>39475350</td>\n",
       "      <td>1</td>\n",
       "    </tr>\n",
       "    <tr>\n",
       "      <th>3</th>\n",
       "      <td>47206413</td>\n",
       "      <td>1</td>\n",
       "    </tr>\n",
       "    <tr>\n",
       "      <th>4</th>\n",
       "      <td>48147722</td>\n",
       "      <td>1</td>\n",
       "    </tr>\n",
       "  </tbody>\n",
       "</table>\n",
       "</div>"
      ],
      "text/plain": [
       "    user_id  orders\n",
       "0   5114589       1\n",
       "1   6958315       1\n",
       "2  39475350       1\n",
       "3  47206413       1\n",
       "4  48147722       1"
      ]
     },
     "execution_count": 45,
     "metadata": {},
     "output_type": "execute_result"
    }
   ],
   "source": [
    "ordersByUsersB = orders_df[orders_df['group']=='B'].groupby('visitor_id', as_index=False).agg({'transaction_id' : pd.Series.nunique})\n",
    "ordersByUsersB.columns = ['user_id', 'orders']\n",
    "ordersByUsersB.head()"
   ]
  },
  {
   "cell_type": "code",
   "execution_count": 46,
   "metadata": {},
   "outputs": [],
   "source": [
    "sampleA = pd.concat([ordersByUsersA['orders'],pd.Series(0, index=np.arange(df['visitorsPerDateA'].sum() - len(ordersByUsersA['orders'])), name='orders')],axis=0)\n",
    "sampleB = pd.concat([ordersByUsersB['orders'],pd.Series(0, index=np.arange(df['visitorsPerDateB'].sum() - len(ordersByUsersB['orders'])), name='orders')],axis=0)"
   ]
  },
  {
   "cell_type": "markdown",
   "metadata": {},
   "source": [
    "Воспользуемся критерием Манна-Уитни:\n",
    "\n",
    "- H0: Конверсия в группе A равна конверсии в группе B\n",
    "- H1: Конверсия в группе A не равна конверсии в группе B"
   ]
  },
  {
   "cell_type": "code",
   "execution_count": 47,
   "metadata": {},
   "outputs": [
    {
     "name": "stdout",
     "output_type": "stream",
     "text": [
      "P-value:  0.011018084110014696\n",
      "Отвергаем H0: разница статистически значима\n",
      "Относительный прирост конверсии группы B 0.160\n"
     ]
    }
   ],
   "source": [
    "alpha = 0.05\n",
    "results = st.mannwhitneyu(sampleA, sampleB)\n",
    "pvalue = results.pvalue\n",
    "print('P-value: ', pvalue)\n",
    "if (pvalue < alpha):\n",
    "    print(\"Отвергаем H0: разница статистически значима\")\n",
    "else:\n",
    "    print(\"Не получилось отвергнуть H0: вывод о различии сделать нельзя\")\n",
    "\n",
    "print(\"Относительный прирост конверсии группы B {0:.3f}\".format(sampleB.mean()/sampleA.mean()-1))"
   ]
  },
  {
   "cell_type": "markdown",
   "metadata": {},
   "source": [
    "#### Вывод о статистической разнице в конверсии по сырым данным: \n",
    "Можно увидеть, что p-value равен 0.011, что меньше 0.05. Значит, можно сказать, что существует статистически значимые различия между группами в конверсии. Относительный прирост конверсии группы B равен 16%"
   ]
  },
  {
   "cell_type": "markdown",
   "metadata": {},
   "source": [
    "Найдём относительные различия в среднем чеке между группами\n",
    "\n",
    "Воспользуемся критерием Манна-Уитни\n",
    "- H0: Средний чек A равен среднему чеку группы B\n",
    "- H1: Средний чек A не равен среднему чеку группы B"
   ]
  },
  {
   "cell_type": "code",
   "execution_count": 48,
   "metadata": {},
   "outputs": [
    {
     "name": "stdout",
     "output_type": "stream",
     "text": [
      "P-value:  0.8294908998149533\n",
      "Не получилось отвергнуть H0: вывод о различии сделать нельзя\n",
      "---------------------------------------------\n",
      "Различие среднего чека между сегментами 0.287\n"
     ]
    }
   ],
   "source": [
    "alpha = 0.05\n",
    "results = st.mannwhitneyu(orders_df[orders_df['group'] == 'A']['revenue'], orders_df[orders_df['group'] == 'B']['revenue'])\n",
    "pvalue = results.pvalue\n",
    "print('P-value: ', pvalue)\n",
    "if (pvalue < alpha):\n",
    "    print(\"Отвергаем H0: разница статистически значима\")\n",
    "else:\n",
    "    print(\"Не получилось отвергнуть H0: вывод о различии сделать нельзя\")\n",
    "print('---------------------------------------------')\n",
    "print(\"Различие среднего чека между сегментами {0:.3f}\".format(orders_df[orders_df['group']=='B']['revenue'].mean()/orders_df[orders_df['group']=='A']['revenue'].mean()-1))"
   ]
  },
  {
   "cell_type": "markdown",
   "metadata": {},
   "source": [
    "#### Вывод о статистической разнице в среднем чеке по сырым данным:\n",
    "Можно увидеть, что p-value равен 0.83, что больше 0.05. Это значит что статистически значимых различий в среднем чеке между группами нет. Различие среднего чека между сегментами на данный момент равно 28,7%"
   ]
  },
  {
   "cell_type": "markdown",
   "metadata": {},
   "source": [
    "#### Гипотезы очищенными данными\n",
    "Будем считать аномальными пользователями тех, кто сделал 2 заказа и более, или тех, кто совершил заказ на сумму от 26785"
   ]
  },
  {
   "cell_type": "code",
   "execution_count": 49,
   "metadata": {},
   "outputs": [
    {
     "name": "stdout",
     "output_type": "stream",
     "text": [
      "568     113298937\n",
      "1099    148427295\n",
      "928     204675465\n",
      "33      249864742\n",
      "684     358944393\n",
      "dtype: int64\n",
      "(86,)\n"
     ]
    }
   ],
   "source": [
    "usersWithManyOrders = pd.concat([ordersByUsersA[ordersByUsersA['orders'] > 1]['user_id'], ordersByUsersB[ordersByUsersB['orders'] > 1]['user_id']], axis = 0)\n",
    "usersWithExpensiveOrders = orders_df[orders_df['revenue'] > 26785]['visitor_id']\n",
    "abnormalUsers = pd.concat([usersWithManyOrders, usersWithExpensiveOrders], axis = 0).drop_duplicates().sort_values()\n",
    "print(abnormalUsers.head(5))\n",
    "print(abnormalUsers.shape)"
   ]
  },
  {
   "cell_type": "markdown",
   "metadata": {},
   "source": [
    "Всего 86 аномальных пользователей."
   ]
  },
  {
   "cell_type": "markdown",
   "metadata": {},
   "source": [
    "Подготовим выборки количества заказов по пользователям по группам теста, исключив аномальных пользователей"
   ]
  },
  {
   "cell_type": "code",
   "execution_count": 50,
   "metadata": {},
   "outputs": [],
   "source": [
    "sampleAFiltered = pd.concat([ordersByUsersA[np.logical_not(ordersByUsersA['user_id'].isin(abnormalUsers))]['orders'],pd.Series(0, index=np.arange(df['visitorsPerDateA'].sum() - len(ordersByUsersA['orders'])),name='orders')],axis=0)\n",
    "sampleBFiltered = pd.concat([ordersByUsersB[np.logical_not(ordersByUsersB['user_id'].isin(abnormalUsers))]['orders'],pd.Series(0, index=np.arange(df['visitorsPerDateB'].sum() - len(ordersByUsersB['orders'])),name='orders')],axis=0)"
   ]
  },
  {
   "cell_type": "markdown",
   "metadata": {},
   "source": [
    "Воспользуемся критерием Манна-Уитни:\n",
    "- H0: Конверсия в группе A равна конверсии в группе B\n",
    "- H1: Конверсия в группе A не равна конверсии в группе B"
   ]
  },
  {
   "cell_type": "code",
   "execution_count": 51,
   "metadata": {},
   "outputs": [
    {
     "name": "stdout",
     "output_type": "stream",
     "text": [
      "P-value:  0.01593020716573973\n",
      "Отвергаем H0: разница статистически значима\n",
      "----------------------------------------------\n",
      "Относительный прирост конверсии группы B 0.174\n"
     ]
    }
   ],
   "source": [
    "alpha = 0.05\n",
    "results = st.mannwhitneyu(sampleAFiltered, \\\n",
    "                          sampleBFiltered)\n",
    "pvalue = results.pvalue\n",
    "print('P-value: ', pvalue)\n",
    "if (pvalue < alpha):\n",
    "    print(\"Отвергаем H0: разница статистически значима\")\n",
    "else:\n",
    "    print(\"Не получилось отвергнуть H0: вывод о различии сделать нельзя\")\n",
    "print(\"----------------------------------------------\")\n",
    "print(\"Относительный прирост конверсии группы B {0:.3f}\".format(sampleBFiltered.mean()/sampleAFiltered.mean()-1))"
   ]
  },
  {
   "cell_type": "markdown",
   "metadata": {},
   "source": [
    "#### Вывод о статистической разнице в конверсии между группами с очищенными данными\n",
    "Как и в случае с сырыми данными, статистическая значимость достигнута (p-value = 0.16 что меньше 0.05). Значит, можно сказать, что существует статистически значимые различия между группами в конверсии. Относительный прирост конверсии группы B равен 17,4% (очистка данных от аномалий дала прирост в показателе в 8,75% от показателя с сырыми данными)"
   ]
  },
  {
   "cell_type": "markdown",
   "metadata": {},
   "source": [
    "Подготовим выборки для проверки гипотез по среднему чеку с очищенными группами (создадим датафреймы без аномальных пользователей)"
   ]
  },
  {
   "cell_type": "code",
   "execution_count": 52,
   "metadata": {},
   "outputs": [],
   "source": [
    "sampleAFiltered_rev = orders_df[np.logical_and(orders_df['group']=='A', np.logical_not(orders_df['visitor_id'].isin(abnormalUsers)))]['revenue']\n",
    "sampleBFiltered_rev = orders_df[np.logical_and(orders_df['group']=='B', np.logical_not(orders_df['visitor_id'].isin(abnormalUsers)))]['revenue']"
   ]
  },
  {
   "cell_type": "markdown",
   "metadata": {},
   "source": [
    "Воспользуемся критерием Манна-Уитни\n",
    "- H0: Средний чек A равен среднему чеку группы B\n",
    "- H1: Средний чек A не равен среднему чеку группы B"
   ]
  },
  {
   "cell_type": "code",
   "execution_count": 53,
   "metadata": {},
   "outputs": [
    {
     "name": "stdout",
     "output_type": "stream",
     "text": [
      "P-value:  0.7271286894009963\n",
      "Не получилось отвергнуть H0: вывод о различии сделать нельзя\n",
      "-----------------------------------------------\n",
      "Различие среднего чека между сегментами -0.034\n"
     ]
    }
   ],
   "source": [
    "alpha = 0.05\n",
    "results = st.mannwhitneyu(sampleAFiltered_rev, \\\n",
    "                          sampleBFiltered_rev)\n",
    "pvalue = results.pvalue\n",
    "print('P-value: ', pvalue)\n",
    "if (pvalue < alpha):\n",
    "    print(\"Отвергаем H0: разница статистически значима\")\n",
    "else:\n",
    "    print(\"Не получилось отвергнуть H0: вывод о различии сделать нельзя\")\n",
    "print('-----------------------------------------------')  \n",
    "print(\"Различие среднего чека между сегментами {0:.3f}\".format(sampleBFiltered_rev.mean()/sampleAFiltered_rev.mean()-1))"
   ]
  },
  {
   "cell_type": "markdown",
   "metadata": {},
   "source": [
    "#### Вывод о статистической разнице в среднем чеке между группами:\n",
    "Как можно заметить, убрав аномальных пользователей, мы снизили значение p-value на 12% (на данный момент p-value равно 0.73). Однако это не изменило выводов. Статистически значимых различий в среднем чеке между группами  до сих пор нет. Однако разница между группами изменилось с показателя в 28,7% до -3,4% (т.е. если раньше превосходила группа B в среднем чеке, то с очищенными данными эта картина изменилась)"
   ]
  },
  {
   "cell_type": "markdown",
   "metadata": {},
   "source": [
    "### Вывод по части 2\n",
    "Выводы из исследования можно сделать следующие:\n",
    "1. Кумулятивная выручка группы B превосходит группу A.\n",
    "2. Кумулятивный средний чек в группе A оказывается выше, чем в группе B.\n",
    "3. Кумулятивная конверсия в группе B превосходит группу A.\n",
    "4. В случае с сырыми данными, можно сказать, что существует статистически значимые различия между группами в конверсии. Относительный прирост конверсии группы B равен 16%\n",
    "5. В случае с сырыми данными статистически значимых различий в среднем чеке между группами нет. Различие среднего чека между сегментами на данный момент равно 28,7%\n",
    "6. Как и в случае с сырыми данными, можно сказать что и с очищенными данными существует статистически значимые различия между группами в конверсии. Относительный прирост конверсии группы B равен 17,4% (очистка данных от аномалий дала прирост в показателе в 8,75% от показателя с сырыми данными)\n",
    "7. Убрав аномальных пользователей, не изменился вывод о различиях в среднем чеке между группами, его также нет. Однако разница между группами изменилось с показателя в 28,7% до -3,4% (т.е. если раньше превосходила группа B в среднем чеке, то с очищенными данными эта картина изменилась)\n",
    "\n",
    "В результате можем сделать вывод, что конверсия группы В выше, чем конверсия группы А, в то время как средний чек между группами не отличается. Очистка данных от аномалий не поменяла картину.\n",
    "\n",
    "Исходя их обнаруженных фактов, тест следует остановить и признать его успешным, потому как при имеющихся данных сегмент B лучше сегмента A."
   ]
  },
  {
   "cell_type": "markdown",
   "metadata": {},
   "source": [
    "## Общий вывод\n",
    "Вы — аналитик крупного интернет-магазина. Вашей задачей является приоритизация гипотез по увеличению выручки с использованием фреймворков ICE и RICE, а также анализ результатов A/B-теста. В нашем распоряжении есть 3 датасета: hypothesis.csv, хранящий 9 гипотез по увеличению выручки интернет-магазина с указанными параметрами Reach, Impact, Confidence, Effort; orders.csv, хранящий информацию о заказах интернет-магазина, которые попали в АБ тест (с разделением по группам); visitors.csv, хранящий информацию о посетителях сайта, которые попали в АБ тест (с разделением по группам). О качестве данных нет никакой информации. Поэтому прежде чем приступить к анализу, понадобился обзор данных. После обзора и предобработки: были выгружены три датасета, пропуски в данных отсутствовали, дубликаты отсутствовали, были удалены пользователи, которые попали в обе группы, названия столбцов приведены к правильному виду, скорректированы типы данных в колонках date для таблиц orders и visitors\n",
    "\n",
    "После приступила к приоритизации гипотез. Включение параметра Reach (охват пользователей) в метод RICE изменило приоритетность гипотез по сравнению с методом ICE:\n",
    "1. Гипотеза о скидке на товар в день рождения, хотя и занимала первое место по методу ICE, теперь имеет более низкий приоритет из-за своего ограниченного охвата пользователей.\n",
    "2. По методу RICE более высокий приоритет получили гипотезы о добавлении формы подписки на все основные страницы, добавлении блоков рекомендаций товаров и изменении структуры категорий.\n",
    "3. Позиция гипотез о добавлении баннеров с акциями на главную страницу и об изменении цвета фона осталась неизменной.\n",
    "\n",
    "Таким образом, учет охвата пользователей в методе RICE привел к изменению приоритетности гипотез и более осмысленному распределению ресурсов для их проверки.\n",
    "\n",
    "После приоритизации гипотез, был произведен анализ AB теста, в результате которого было выявлено, что:\n",
    "1. Кумулятивная выручка группы B превосходит группу A.\n",
    "2. Кумулятивный средний чек в группе A оказывается выше, чем в группе B.\n",
    "3. Кумулятивная конверсия в группе B превосходит группу A.\n",
    "4. В случае с сырыми данными, можно сказать, что существует статистически значимые различия между группами в конверсии. Относительный прирост конверсии группы B равен 16%\n",
    "5. В случае с сырыми данными статистически значимых различий в среднем чеке между группами нет. Различие среднего чека между сегментами на данный момент равно 28,7%\n",
    "6. Как и в случае с сырыми данными, можно сказать что и с очищенными данными существует статистически значимые различия между группами в конверсии. Относительный прирост конверсии группы B равен 17,4% (очистка данных от аномалий дала прирост в показателе в 8,75% от показателя с сырыми данными)\n",
    "7. Убрав аномальных пользователей, не изменился вывод о различиях в среднем чеке между группами, его также нет. Однако разница между группами изменилось с показателя в 28,7% до -3,4% (т.е. если раньше превосходила группа B в среднем чеке, то с очищенными данными эта картина изменилась)\n",
    "\n",
    "В результате можем сделать вывод, что конверсия группы В выше, чем конверсия группы А, в то время как средний чек между группами не отличается. Очистка данных от аномалий не поменяла картину.\n",
    "\n",
    "Исходя их обнаруженных фактов, тест следует остановить и признать его успешным, потому как при имеющихся данных сегмент B лучше сегмента A.\n",
    "Исходя из того что общая комулятивная выручка в группе B выше, то разумно будет остановиться на группе В"
   ]
  }
 ],
 "metadata": {
  "ExecuteTimeLog": [
   {
    "duration": 1312,
    "start_time": "2024-03-05T12:19:56.097Z"
   },
   {
    "duration": 294,
    "start_time": "2024-03-05T12:49:38.225Z"
   },
   {
    "duration": 23,
    "start_time": "2024-03-05T12:50:22.192Z"
   },
   {
    "duration": 15,
    "start_time": "2024-03-05T12:50:40.080Z"
   },
   {
    "duration": 14,
    "start_time": "2024-03-05T12:51:00.295Z"
   },
   {
    "duration": 24,
    "start_time": "2024-03-05T12:52:46.618Z"
   },
   {
    "duration": 23,
    "start_time": "2024-03-05T12:53:08.400Z"
   },
   {
    "duration": 23,
    "start_time": "2024-03-05T12:53:13.564Z"
   },
   {
    "duration": 21,
    "start_time": "2024-03-05T12:53:16.315Z"
   },
   {
    "duration": 23,
    "start_time": "2024-03-05T12:53:19.682Z"
   },
   {
    "duration": 21,
    "start_time": "2024-03-05T12:53:39.652Z"
   },
   {
    "duration": 7,
    "start_time": "2024-03-05T12:55:54.896Z"
   },
   {
    "duration": 81,
    "start_time": "2024-03-05T12:56:06.620Z"
   },
   {
    "duration": 15,
    "start_time": "2024-03-05T12:57:21.332Z"
   },
   {
    "duration": 15,
    "start_time": "2024-03-05T12:57:48.246Z"
   },
   {
    "duration": 6,
    "start_time": "2024-03-05T15:35:07.302Z"
   },
   {
    "duration": 6,
    "start_time": "2024-03-05T15:36:19.170Z"
   },
   {
    "duration": 13,
    "start_time": "2024-03-05T15:36:28.264Z"
   },
   {
    "duration": 105,
    "start_time": "2024-03-05T15:37:19.313Z"
   },
   {
    "duration": 14,
    "start_time": "2024-03-05T15:37:40.495Z"
   },
   {
    "duration": 10,
    "start_time": "2024-03-05T15:38:32.399Z"
   },
   {
    "duration": 3,
    "start_time": "2024-03-05T15:47:00.213Z"
   },
   {
    "duration": 3,
    "start_time": "2024-03-05T15:47:28.404Z"
   },
   {
    "duration": 1098,
    "start_time": "2024-03-05T15:47:39.747Z"
   },
   {
    "duration": 305,
    "start_time": "2024-03-05T15:47:41.078Z"
   },
   {
    "duration": 18,
    "start_time": "2024-03-05T15:47:46.817Z"
   },
   {
    "duration": 18,
    "start_time": "2024-03-05T15:47:51.465Z"
   },
   {
    "duration": 14,
    "start_time": "2024-03-05T15:47:53.532Z"
   },
   {
    "duration": 31,
    "start_time": "2024-03-05T15:48:25.798Z"
   },
   {
    "duration": 8,
    "start_time": "2024-03-05T15:48:42.139Z"
   },
   {
    "duration": 21,
    "start_time": "2024-03-05T15:48:56.358Z"
   },
   {
    "duration": 17,
    "start_time": "2024-03-05T15:49:00.538Z"
   },
   {
    "duration": 15,
    "start_time": "2024-03-05T15:49:15.192Z"
   },
   {
    "duration": 15,
    "start_time": "2024-03-05T15:49:24.908Z"
   },
   {
    "duration": 16,
    "start_time": "2024-03-05T15:50:12.391Z"
   },
   {
    "duration": 10,
    "start_time": "2024-03-05T15:51:40.602Z"
   },
   {
    "duration": 11,
    "start_time": "2024-03-05T15:52:18.791Z"
   },
   {
    "duration": 8,
    "start_time": "2024-03-05T16:26:11.543Z"
   },
   {
    "duration": 95,
    "start_time": "2024-03-05T16:26:49.906Z"
   },
   {
    "duration": 4,
    "start_time": "2024-03-05T16:27:02.412Z"
   },
   {
    "duration": 10,
    "start_time": "2024-03-05T16:27:12.727Z"
   },
   {
    "duration": 1173,
    "start_time": "2024-03-05T16:29:04.666Z"
   },
   {
    "duration": 1135,
    "start_time": "2024-03-05T16:29:25.290Z"
   },
   {
    "duration": 234,
    "start_time": "2024-03-05T16:29:26.427Z"
   },
   {
    "duration": 18,
    "start_time": "2024-03-05T16:29:26.663Z"
   },
   {
    "duration": 16,
    "start_time": "2024-03-05T16:29:27.075Z"
   },
   {
    "duration": 13,
    "start_time": "2024-03-05T16:29:27.890Z"
   },
   {
    "duration": 23,
    "start_time": "2024-03-05T16:29:28.523Z"
   },
   {
    "duration": 7,
    "start_time": "2024-03-05T16:29:28.936Z"
   },
   {
    "duration": 21,
    "start_time": "2024-03-05T16:29:29.675Z"
   },
   {
    "duration": 13,
    "start_time": "2024-03-05T16:29:30.578Z"
   },
   {
    "duration": 6,
    "start_time": "2024-03-05T16:29:31.115Z"
   },
   {
    "duration": 5,
    "start_time": "2024-03-05T16:29:31.597Z"
   },
   {
    "duration": 11,
    "start_time": "2024-03-05T16:29:31.798Z"
   },
   {
    "duration": 14,
    "start_time": "2024-03-05T16:29:32.169Z"
   },
   {
    "duration": 10,
    "start_time": "2024-03-05T16:29:32.487Z"
   },
   {
    "duration": 11,
    "start_time": "2024-03-05T16:29:34.550Z"
   },
   {
    "duration": 11,
    "start_time": "2024-03-05T16:29:35.132Z"
   },
   {
    "duration": 9,
    "start_time": "2024-03-05T16:35:43.115Z"
   },
   {
    "duration": 11,
    "start_time": "2024-03-05T16:35:53.799Z"
   },
   {
    "duration": 10,
    "start_time": "2024-03-05T16:35:59.295Z"
   },
   {
    "duration": 156,
    "start_time": "2024-03-05T16:38:56.933Z"
   },
   {
    "duration": 147,
    "start_time": "2024-03-05T16:39:06.996Z"
   },
   {
    "duration": 107,
    "start_time": "2024-03-05T16:40:21.437Z"
   },
   {
    "duration": 6,
    "start_time": "2024-03-05T16:41:40.043Z"
   },
   {
    "duration": 11,
    "start_time": "2024-03-05T16:41:58.142Z"
   },
   {
    "duration": 299,
    "start_time": "2024-03-05T16:42:56.806Z"
   },
   {
    "duration": 181,
    "start_time": "2024-03-05T16:43:02.151Z"
   },
   {
    "duration": 172,
    "start_time": "2024-03-05T16:43:25.245Z"
   },
   {
    "duration": 187,
    "start_time": "2024-03-05T16:52:10.340Z"
   },
   {
    "duration": 183,
    "start_time": "2024-03-05T16:52:15.077Z"
   },
   {
    "duration": 264,
    "start_time": "2024-03-05T16:55:47.580Z"
   },
   {
    "duration": 224,
    "start_time": "2024-03-05T16:56:00.667Z"
   },
   {
    "duration": 293,
    "start_time": "2024-03-05T16:59:33.364Z"
   },
   {
    "duration": 391,
    "start_time": "2024-03-05T16:59:40.033Z"
   },
   {
    "duration": 295,
    "start_time": "2024-03-05T17:05:58.632Z"
   },
   {
    "duration": 263,
    "start_time": "2024-03-05T17:06:01.874Z"
   },
   {
    "duration": 252,
    "start_time": "2024-03-05T17:07:01.247Z"
   },
   {
    "duration": 73,
    "start_time": "2024-03-05T17:10:41.167Z"
   },
   {
    "duration": 208,
    "start_time": "2024-03-05T17:12:02.389Z"
   },
   {
    "duration": 118,
    "start_time": "2024-03-05T17:12:10.577Z"
   },
   {
    "duration": 122,
    "start_time": "2024-03-05T17:12:49.827Z"
   },
   {
    "duration": 137,
    "start_time": "2024-03-05T17:15:33.306Z"
   },
   {
    "duration": 142,
    "start_time": "2024-03-05T17:15:37.513Z"
   },
   {
    "duration": 126,
    "start_time": "2024-03-05T17:16:56.502Z"
   },
   {
    "duration": 128,
    "start_time": "2024-03-05T17:17:24.918Z"
   },
   {
    "duration": 132,
    "start_time": "2024-03-05T17:17:31.787Z"
   },
   {
    "duration": 130,
    "start_time": "2024-03-05T17:21:04.159Z"
   },
   {
    "duration": 4,
    "start_time": "2024-03-05T17:22:58.720Z"
   },
   {
    "duration": 110,
    "start_time": "2024-03-05T17:24:27.714Z"
   },
   {
    "duration": 119,
    "start_time": "2024-03-05T17:24:46.021Z"
   },
   {
    "duration": 4,
    "start_time": "2024-03-05T17:26:04.817Z"
   },
   {
    "duration": 15,
    "start_time": "2024-03-05T17:28:05.210Z"
   },
   {
    "duration": 105,
    "start_time": "2024-03-05T17:40:53.209Z"
   },
   {
    "duration": 7,
    "start_time": "2024-03-05T17:41:02.126Z"
   },
   {
    "duration": 8,
    "start_time": "2024-03-05T17:44:33.761Z"
   },
   {
    "duration": 10,
    "start_time": "2024-03-05T17:51:48.181Z"
   },
   {
    "duration": 15,
    "start_time": "2024-03-05T17:52:15.289Z"
   },
   {
    "duration": 11,
    "start_time": "2024-03-05T17:52:27.012Z"
   },
   {
    "duration": 10,
    "start_time": "2024-03-05T17:52:33.032Z"
   },
   {
    "duration": 12,
    "start_time": "2024-03-05T17:52:40.608Z"
   },
   {
    "duration": 6,
    "start_time": "2024-03-05T17:53:07.809Z"
   },
   {
    "duration": 8,
    "start_time": "2024-03-05T17:54:38.813Z"
   },
   {
    "duration": 1217,
    "start_time": "2024-03-05T18:01:59.401Z"
   },
   {
    "duration": 156,
    "start_time": "2024-03-05T18:02:00.620Z"
   },
   {
    "duration": 18,
    "start_time": "2024-03-05T18:02:00.778Z"
   },
   {
    "duration": 38,
    "start_time": "2024-03-05T18:02:00.797Z"
   },
   {
    "duration": 23,
    "start_time": "2024-03-05T18:02:00.836Z"
   },
   {
    "duration": 40,
    "start_time": "2024-03-05T18:02:00.860Z"
   },
   {
    "duration": 8,
    "start_time": "2024-03-05T18:02:00.958Z"
   },
   {
    "duration": 29,
    "start_time": "2024-03-05T18:02:01.310Z"
   },
   {
    "duration": 13,
    "start_time": "2024-03-05T18:02:01.644Z"
   },
   {
    "duration": 7,
    "start_time": "2024-03-05T18:02:01.981Z"
   },
   {
    "duration": 4,
    "start_time": "2024-03-05T18:02:02.309Z"
   },
   {
    "duration": 14,
    "start_time": "2024-03-05T18:02:02.471Z"
   },
   {
    "duration": 18,
    "start_time": "2024-03-05T18:02:02.815Z"
   },
   {
    "duration": 11,
    "start_time": "2024-03-05T18:02:03.157Z"
   },
   {
    "duration": 12,
    "start_time": "2024-03-05T18:02:03.980Z"
   },
   {
    "duration": 11,
    "start_time": "2024-03-05T18:02:04.290Z"
   },
   {
    "duration": 10,
    "start_time": "2024-03-05T18:02:04.958Z"
   },
   {
    "duration": 176,
    "start_time": "2024-03-05T18:02:05.284Z"
   },
   {
    "duration": 150,
    "start_time": "2024-03-05T18:02:05.600Z"
   },
   {
    "duration": 17,
    "start_time": "2024-03-05T18:02:05.918Z"
   },
   {
    "duration": 282,
    "start_time": "2024-03-05T18:02:06.248Z"
   },
   {
    "duration": 225,
    "start_time": "2024-03-05T18:02:06.751Z"
   },
   {
    "duration": 277,
    "start_time": "2024-03-05T18:02:07.232Z"
   },
   {
    "duration": 339,
    "start_time": "2024-03-05T18:02:07.727Z"
   },
   {
    "duration": 273,
    "start_time": "2024-03-05T18:02:08.243Z"
   },
   {
    "duration": 150,
    "start_time": "2024-03-05T18:02:08.775Z"
   },
   {
    "duration": 146,
    "start_time": "2024-03-05T18:02:08.945Z"
   },
   {
    "duration": 4,
    "start_time": "2024-03-05T18:02:09.477Z"
   },
   {
    "duration": 130,
    "start_time": "2024-03-05T18:02:09.970Z"
   },
   {
    "duration": 9,
    "start_time": "2024-03-05T18:02:10.317Z"
   },
   {
    "duration": 12,
    "start_time": "2024-03-05T18:02:10.841Z"
   },
   {
    "duration": 8,
    "start_time": "2024-03-05T18:02:11.185Z"
   },
   {
    "duration": 9,
    "start_time": "2024-03-05T18:02:11.729Z"
   },
   {
    "duration": 15,
    "start_time": "2024-03-05T18:02:12.266Z"
   },
   {
    "duration": 13,
    "start_time": "2024-03-05T18:02:12.458Z"
   },
   {
    "duration": 7,
    "start_time": "2024-03-05T18:02:12.797Z"
   },
   {
    "duration": 7,
    "start_time": "2024-03-05T18:02:13.362Z"
   },
   {
    "duration": 1291,
    "start_time": "2024-03-05T21:09:40.282Z"
   },
   {
    "duration": 545,
    "start_time": "2024-03-05T21:09:41.575Z"
   },
   {
    "duration": 18,
    "start_time": "2024-03-05T21:09:42.121Z"
   },
   {
    "duration": 14,
    "start_time": "2024-03-05T21:09:42.142Z"
   },
   {
    "duration": 12,
    "start_time": "2024-03-05T21:09:42.157Z"
   },
   {
    "duration": 21,
    "start_time": "2024-03-05T21:09:42.171Z"
   },
   {
    "duration": 6,
    "start_time": "2024-03-05T21:09:42.194Z"
   },
   {
    "duration": 19,
    "start_time": "2024-03-05T21:09:42.202Z"
   },
   {
    "duration": 11,
    "start_time": "2024-03-05T21:09:42.223Z"
   },
   {
    "duration": 6,
    "start_time": "2024-03-05T21:09:42.266Z"
   },
   {
    "duration": 3,
    "start_time": "2024-03-05T21:09:42.273Z"
   },
   {
    "duration": 9,
    "start_time": "2024-03-05T21:09:42.277Z"
   },
   {
    "duration": 12,
    "start_time": "2024-03-05T21:09:42.287Z"
   },
   {
    "duration": 10,
    "start_time": "2024-03-05T21:09:42.301Z"
   },
   {
    "duration": 10,
    "start_time": "2024-03-05T21:09:42.312Z"
   },
   {
    "duration": 49,
    "start_time": "2024-03-05T21:09:42.324Z"
   },
   {
    "duration": 19,
    "start_time": "2024-03-05T21:09:42.374Z"
   },
   {
    "duration": 178,
    "start_time": "2024-03-05T21:09:42.395Z"
   },
   {
    "duration": 121,
    "start_time": "2024-03-05T21:09:42.574Z"
   },
   {
    "duration": 12,
    "start_time": "2024-03-05T21:09:42.696Z"
   },
   {
    "duration": 274,
    "start_time": "2024-03-05T21:09:42.709Z"
   },
   {
    "duration": 193,
    "start_time": "2024-03-05T21:09:42.984Z"
   },
   {
    "duration": 311,
    "start_time": "2024-03-05T21:09:43.178Z"
   },
   {
    "duration": 311,
    "start_time": "2024-03-05T21:09:43.491Z"
   },
   {
    "duration": 263,
    "start_time": "2024-03-05T21:09:43.803Z"
   },
   {
    "duration": 126,
    "start_time": "2024-03-05T21:09:44.068Z"
   },
   {
    "duration": 138,
    "start_time": "2024-03-05T21:09:44.195Z"
   },
   {
    "duration": 5,
    "start_time": "2024-03-05T21:09:44.336Z"
   },
   {
    "duration": 126,
    "start_time": "2024-03-05T21:09:44.342Z"
   },
   {
    "duration": 4,
    "start_time": "2024-03-05T21:09:44.469Z"
   },
   {
    "duration": 15,
    "start_time": "2024-03-05T21:09:44.475Z"
   },
   {
    "duration": 7,
    "start_time": "2024-03-05T21:09:44.492Z"
   },
   {
    "duration": 12,
    "start_time": "2024-03-05T21:09:44.500Z"
   },
   {
    "duration": 15,
    "start_time": "2024-03-05T21:09:44.513Z"
   },
   {
    "duration": 37,
    "start_time": "2024-03-05T21:09:44.529Z"
   },
   {
    "duration": 7,
    "start_time": "2024-03-05T21:09:44.567Z"
   },
   {
    "duration": 10,
    "start_time": "2024-03-05T21:09:44.576Z"
   },
   {
    "duration": 1115,
    "start_time": "2024-03-05T21:30:26.097Z"
   },
   {
    "duration": 201,
    "start_time": "2024-03-05T21:30:27.214Z"
   },
   {
    "duration": 18,
    "start_time": "2024-03-05T21:30:27.416Z"
   },
   {
    "duration": 14,
    "start_time": "2024-03-05T21:30:27.436Z"
   },
   {
    "duration": 11,
    "start_time": "2024-03-05T21:30:27.452Z"
   },
   {
    "duration": 20,
    "start_time": "2024-03-05T21:30:27.465Z"
   },
   {
    "duration": 8,
    "start_time": "2024-03-05T21:30:27.487Z"
   },
   {
    "duration": 19,
    "start_time": "2024-03-05T21:30:27.496Z"
   },
   {
    "duration": 12,
    "start_time": "2024-03-05T21:30:27.517Z"
   },
   {
    "duration": 43,
    "start_time": "2024-03-05T21:30:27.531Z"
   },
   {
    "duration": 4,
    "start_time": "2024-03-05T21:30:27.575Z"
   },
   {
    "duration": 11,
    "start_time": "2024-03-05T21:30:27.581Z"
   },
   {
    "duration": 16,
    "start_time": "2024-03-05T21:30:27.594Z"
   },
   {
    "duration": 11,
    "start_time": "2024-03-05T21:30:27.614Z"
   },
   {
    "duration": 39,
    "start_time": "2024-03-05T21:30:27.627Z"
   },
   {
    "duration": 11,
    "start_time": "2024-03-05T21:30:27.668Z"
   },
   {
    "duration": 12,
    "start_time": "2024-03-05T21:30:27.680Z"
   },
   {
    "duration": 292,
    "start_time": "2024-03-05T21:30:27.693Z"
   },
   {
    "duration": 134,
    "start_time": "2024-03-05T21:30:27.986Z"
   },
   {
    "duration": 12,
    "start_time": "2024-03-05T21:30:28.121Z"
   },
   {
    "duration": 277,
    "start_time": "2024-03-05T21:30:28.134Z"
   },
   {
    "duration": 206,
    "start_time": "2024-03-05T21:30:28.412Z"
   },
   {
    "duration": 262,
    "start_time": "2024-03-05T21:30:28.620Z"
   },
   {
    "duration": 324,
    "start_time": "2024-03-05T21:30:28.884Z"
   },
   {
    "duration": 287,
    "start_time": "2024-03-05T21:30:29.210Z"
   },
   {
    "duration": 126,
    "start_time": "2024-03-05T21:30:29.498Z"
   },
   {
    "duration": 147,
    "start_time": "2024-03-05T21:30:29.625Z"
   },
   {
    "duration": 4,
    "start_time": "2024-03-05T21:30:29.774Z"
   },
   {
    "duration": 137,
    "start_time": "2024-03-05T21:30:29.780Z"
   },
   {
    "duration": 3,
    "start_time": "2024-03-05T21:30:29.919Z"
   },
   {
    "duration": 22,
    "start_time": "2024-03-05T21:30:29.923Z"
   },
   {
    "duration": 14,
    "start_time": "2024-03-05T21:30:29.946Z"
   },
   {
    "duration": 13,
    "start_time": "2024-03-05T21:30:29.961Z"
   },
   {
    "duration": 15,
    "start_time": "2024-03-05T21:30:29.976Z"
   },
   {
    "duration": 11,
    "start_time": "2024-03-05T21:30:29.992Z"
   },
   {
    "duration": 37,
    "start_time": "2024-03-05T21:30:30.005Z"
   },
   {
    "duration": 44,
    "start_time": "2024-03-05T21:30:30.043Z"
   },
   {
    "duration": 1076,
    "start_time": "2024-03-05T21:31:46.918Z"
   },
   {
    "duration": 153,
    "start_time": "2024-03-05T21:31:47.996Z"
   },
   {
    "duration": 18,
    "start_time": "2024-03-05T21:31:48.151Z"
   },
   {
    "duration": 14,
    "start_time": "2024-03-05T21:31:48.171Z"
   },
   {
    "duration": 14,
    "start_time": "2024-03-05T21:31:48.186Z"
   },
   {
    "duration": 23,
    "start_time": "2024-03-05T21:31:48.201Z"
   },
   {
    "duration": 8,
    "start_time": "2024-03-05T21:31:48.225Z"
   },
   {
    "duration": 30,
    "start_time": "2024-03-05T21:31:48.265Z"
   },
   {
    "duration": 17,
    "start_time": "2024-03-05T21:31:48.297Z"
   },
   {
    "duration": 6,
    "start_time": "2024-03-05T21:31:48.317Z"
   },
   {
    "duration": 4,
    "start_time": "2024-03-05T21:31:48.324Z"
   },
   {
    "duration": 40,
    "start_time": "2024-03-05T21:31:48.329Z"
   },
   {
    "duration": 13,
    "start_time": "2024-03-05T21:31:48.371Z"
   },
   {
    "duration": 15,
    "start_time": "2024-03-05T21:31:48.386Z"
   },
   {
    "duration": 11,
    "start_time": "2024-03-05T21:31:48.403Z"
   },
   {
    "duration": 10,
    "start_time": "2024-03-05T21:31:48.416Z"
   },
   {
    "duration": 45,
    "start_time": "2024-03-05T21:31:48.427Z"
   },
   {
    "duration": 170,
    "start_time": "2024-03-05T21:31:48.474Z"
   },
   {
    "duration": 124,
    "start_time": "2024-03-05T21:31:48.646Z"
   },
   {
    "duration": 10,
    "start_time": "2024-03-05T21:31:48.771Z"
   },
   {
    "duration": 304,
    "start_time": "2024-03-05T21:31:48.783Z"
   },
   {
    "duration": 194,
    "start_time": "2024-03-05T21:31:49.089Z"
   },
   {
    "duration": 273,
    "start_time": "2024-03-05T21:31:49.285Z"
   },
   {
    "duration": 341,
    "start_time": "2024-03-05T21:31:49.565Z"
   },
   {
    "duration": 259,
    "start_time": "2024-03-05T21:31:49.907Z"
   },
   {
    "duration": 129,
    "start_time": "2024-03-05T21:31:50.168Z"
   },
   {
    "duration": 139,
    "start_time": "2024-03-05T21:31:50.299Z"
   },
   {
    "duration": 4,
    "start_time": "2024-03-05T21:31:50.441Z"
   },
   {
    "duration": 139,
    "start_time": "2024-03-05T21:31:50.447Z"
   },
   {
    "duration": 4,
    "start_time": "2024-03-05T21:31:50.588Z"
   },
   {
    "duration": 17,
    "start_time": "2024-03-05T21:31:50.594Z"
   },
   {
    "duration": 7,
    "start_time": "2024-03-05T21:31:50.612Z"
   },
   {
    "duration": 13,
    "start_time": "2024-03-05T21:31:50.621Z"
   },
   {
    "duration": 34,
    "start_time": "2024-03-05T21:31:50.635Z"
   },
   {
    "duration": 11,
    "start_time": "2024-03-05T21:31:50.671Z"
   },
   {
    "duration": 8,
    "start_time": "2024-03-05T21:31:50.683Z"
   },
   {
    "duration": 11,
    "start_time": "2024-03-05T21:31:50.692Z"
   },
   {
    "duration": 52,
    "start_time": "2024-03-06T17:55:30.726Z"
   },
   {
    "duration": 1282,
    "start_time": "2024-03-06T17:55:39.689Z"
   },
   {
    "duration": 166,
    "start_time": "2024-03-06T17:55:40.975Z"
   },
   {
    "duration": 20,
    "start_time": "2024-03-06T17:55:41.142Z"
   },
   {
    "duration": 21,
    "start_time": "2024-03-06T17:55:41.163Z"
   },
   {
    "duration": 12,
    "start_time": "2024-03-06T17:55:41.186Z"
   },
   {
    "duration": 22,
    "start_time": "2024-03-06T17:55:41.200Z"
   },
   {
    "duration": 7,
    "start_time": "2024-03-06T17:55:41.223Z"
   },
   {
    "duration": 55,
    "start_time": "2024-03-06T17:55:41.231Z"
   },
   {
    "duration": 13,
    "start_time": "2024-03-06T17:55:41.287Z"
   },
   {
    "duration": 5,
    "start_time": "2024-03-06T17:55:41.303Z"
   },
   {
    "duration": 6,
    "start_time": "2024-03-06T17:55:41.309Z"
   },
   {
    "duration": 12,
    "start_time": "2024-03-06T17:55:41.316Z"
   },
   {
    "duration": 40,
    "start_time": "2024-03-06T17:55:41.330Z"
   },
   {
    "duration": 14,
    "start_time": "2024-03-06T17:55:41.372Z"
   },
   {
    "duration": 14,
    "start_time": "2024-03-06T17:55:41.388Z"
   },
   {
    "duration": 10,
    "start_time": "2024-03-06T17:55:41.404Z"
   },
   {
    "duration": 10,
    "start_time": "2024-03-06T17:55:41.416Z"
   },
   {
    "duration": 192,
    "start_time": "2024-03-06T17:55:41.427Z"
   },
   {
    "duration": 121,
    "start_time": "2024-03-06T17:55:41.621Z"
   },
   {
    "duration": 11,
    "start_time": "2024-03-06T17:55:41.744Z"
   },
   {
    "duration": 288,
    "start_time": "2024-03-06T17:55:41.768Z"
   },
   {
    "duration": 214,
    "start_time": "2024-03-06T17:55:42.058Z"
   },
   {
    "duration": 322,
    "start_time": "2024-03-06T17:55:42.279Z"
   },
   {
    "duration": 318,
    "start_time": "2024-03-06T17:55:42.603Z"
   },
   {
    "duration": 303,
    "start_time": "2024-03-06T17:55:42.922Z"
   },
   {
    "duration": 119,
    "start_time": "2024-03-06T17:55:43.226Z"
   },
   {
    "duration": 153,
    "start_time": "2024-03-06T17:55:43.347Z"
   },
   {
    "duration": 4,
    "start_time": "2024-03-06T17:55:43.502Z"
   },
   {
    "duration": 138,
    "start_time": "2024-03-06T17:55:43.507Z"
   },
   {
    "duration": 4,
    "start_time": "2024-03-06T17:55:43.646Z"
   },
   {
    "duration": 31,
    "start_time": "2024-03-06T17:55:43.652Z"
   },
   {
    "duration": 10,
    "start_time": "2024-03-06T17:55:43.685Z"
   },
   {
    "duration": 7,
    "start_time": "2024-03-06T17:55:43.696Z"
   },
   {
    "duration": 8,
    "start_time": "2024-03-06T17:55:43.704Z"
   },
   {
    "duration": 13,
    "start_time": "2024-03-06T17:55:43.713Z"
   },
   {
    "duration": 12,
    "start_time": "2024-03-06T17:55:43.727Z"
   },
   {
    "duration": 34,
    "start_time": "2024-03-06T17:55:43.740Z"
   },
   {
    "duration": 12,
    "start_time": "2024-03-06T17:55:43.778Z"
   },
   {
    "duration": 112,
    "start_time": "2024-03-06T19:02:53.392Z"
   },
   {
    "duration": 13,
    "start_time": "2024-03-06T19:03:06.103Z"
   },
   {
    "duration": 10,
    "start_time": "2024-03-06T19:03:15.588Z"
   },
   {
    "duration": 11,
    "start_time": "2024-03-06T19:10:36.419Z"
   },
   {
    "duration": 19,
    "start_time": "2024-03-06T19:10:55.551Z"
   },
   {
    "duration": 8,
    "start_time": "2024-03-06T19:12:19.148Z"
   },
   {
    "duration": 8,
    "start_time": "2024-03-06T19:12:25.852Z"
   },
   {
    "duration": 14,
    "start_time": "2024-03-06T19:12:32.231Z"
   },
   {
    "duration": 25,
    "start_time": "2024-03-06T19:12:48.681Z"
   },
   {
    "duration": 19,
    "start_time": "2024-03-06T19:13:15.549Z"
   },
   {
    "duration": 16,
    "start_time": "2024-03-06T19:13:23.954Z"
   },
   {
    "duration": 17,
    "start_time": "2024-03-06T19:17:01.093Z"
   },
   {
    "duration": 21,
    "start_time": "2024-03-06T19:18:21.499Z"
   },
   {
    "duration": 26,
    "start_time": "2024-03-06T19:22:21.511Z"
   },
   {
    "duration": 20,
    "start_time": "2024-03-06T19:23:04.027Z"
   },
   {
    "duration": 15,
    "start_time": "2024-03-06T19:23:14.223Z"
   },
   {
    "duration": 17,
    "start_time": "2024-03-06T19:24:13.203Z"
   },
   {
    "duration": 19,
    "start_time": "2024-03-06T19:24:50.270Z"
   },
   {
    "duration": 13,
    "start_time": "2024-03-06T19:25:44.583Z"
   },
   {
    "duration": 15,
    "start_time": "2024-03-06T19:25:51.740Z"
   },
   {
    "duration": 23,
    "start_time": "2024-03-06T19:25:58.470Z"
   },
   {
    "duration": 77,
    "start_time": "2024-03-06T19:26:51.450Z"
   },
   {
    "duration": 9,
    "start_time": "2024-03-06T19:34:47.819Z"
   },
   {
    "duration": 73,
    "start_time": "2024-03-06T19:35:52.225Z"
   },
   {
    "duration": 1163,
    "start_time": "2024-03-06T19:40:44.637Z"
   },
   {
    "duration": 162,
    "start_time": "2024-03-06T19:40:45.802Z"
   },
   {
    "duration": 18,
    "start_time": "2024-03-06T19:40:45.966Z"
   },
   {
    "duration": 14,
    "start_time": "2024-03-06T19:40:45.986Z"
   },
   {
    "duration": 15,
    "start_time": "2024-03-06T19:40:46.153Z"
   },
   {
    "duration": 24,
    "start_time": "2024-03-06T19:40:46.491Z"
   },
   {
    "duration": 8,
    "start_time": "2024-03-06T19:40:46.817Z"
   },
   {
    "duration": 21,
    "start_time": "2024-03-06T19:40:47.110Z"
   },
   {
    "duration": 13,
    "start_time": "2024-03-06T19:40:47.564Z"
   },
   {
    "duration": 7,
    "start_time": "2024-03-06T19:40:47.910Z"
   },
   {
    "duration": 5,
    "start_time": "2024-03-06T19:40:48.232Z"
   },
   {
    "duration": 10,
    "start_time": "2024-03-06T19:40:48.546Z"
   },
   {
    "duration": 15,
    "start_time": "2024-03-06T19:40:49.022Z"
   },
   {
    "duration": 11,
    "start_time": "2024-03-06T19:40:49.353Z"
   },
   {
    "duration": 11,
    "start_time": "2024-03-06T19:40:50.282Z"
   },
   {
    "duration": 10,
    "start_time": "2024-03-06T19:40:50.897Z"
   },
   {
    "duration": 14,
    "start_time": "2024-03-06T19:40:52.227Z"
   },
   {
    "duration": 171,
    "start_time": "2024-03-06T19:40:52.670Z"
   },
   {
    "duration": 127,
    "start_time": "2024-03-06T19:40:53.145Z"
   },
   {
    "duration": 11,
    "start_time": "2024-03-06T19:40:53.613Z"
   },
   {
    "duration": 266,
    "start_time": "2024-03-06T19:40:54.341Z"
   },
   {
    "duration": 197,
    "start_time": "2024-03-06T19:40:55.849Z"
   },
   {
    "duration": 272,
    "start_time": "2024-03-06T19:40:56.695Z"
   },
   {
    "duration": 310,
    "start_time": "2024-03-06T19:40:57.698Z"
   },
   {
    "duration": 273,
    "start_time": "2024-03-06T19:40:58.691Z"
   },
   {
    "duration": 112,
    "start_time": "2024-03-06T19:40:59.562Z"
   },
   {
    "duration": 140,
    "start_time": "2024-03-06T19:40:59.758Z"
   },
   {
    "duration": 4,
    "start_time": "2024-03-06T19:41:00.333Z"
   },
   {
    "duration": 123,
    "start_time": "2024-03-06T19:41:01.094Z"
   },
   {
    "duration": 4,
    "start_time": "2024-03-06T19:41:01.651Z"
   },
   {
    "duration": 17,
    "start_time": "2024-03-06T19:41:02.373Z"
   },
   {
    "duration": 19,
    "start_time": "2024-03-06T19:41:02.815Z"
   },
   {
    "duration": 8,
    "start_time": "2024-03-06T19:41:04.045Z"
   },
   {
    "duration": 89,
    "start_time": "2024-03-06T19:41:04.274Z"
   },
   {
    "duration": 19,
    "start_time": "2024-03-06T19:43:10.761Z"
   },
   {
    "duration": 9,
    "start_time": "2024-03-06T19:43:12.495Z"
   },
   {
    "duration": 1124,
    "start_time": "2024-03-06T19:43:27.182Z"
   },
   {
    "duration": 150,
    "start_time": "2024-03-06T19:43:28.307Z"
   },
   {
    "duration": 20,
    "start_time": "2024-03-06T19:43:28.776Z"
   },
   {
    "duration": 16,
    "start_time": "2024-03-06T19:43:28.994Z"
   },
   {
    "duration": 13,
    "start_time": "2024-03-06T19:43:29.239Z"
   },
   {
    "duration": 27,
    "start_time": "2024-03-06T19:43:29.715Z"
   },
   {
    "duration": 9,
    "start_time": "2024-03-06T19:43:30.152Z"
   },
   {
    "duration": 22,
    "start_time": "2024-03-06T19:43:30.617Z"
   },
   {
    "duration": 19,
    "start_time": "2024-03-06T19:43:31.075Z"
   },
   {
    "duration": 6,
    "start_time": "2024-03-06T19:43:31.534Z"
   },
   {
    "duration": 5,
    "start_time": "2024-03-06T19:43:32.020Z"
   },
   {
    "duration": 10,
    "start_time": "2024-03-06T19:43:32.491Z"
   },
   {
    "duration": 16,
    "start_time": "2024-03-06T19:43:33.007Z"
   },
   {
    "duration": 12,
    "start_time": "2024-03-06T19:43:33.492Z"
   },
   {
    "duration": 12,
    "start_time": "2024-03-06T19:43:34.989Z"
   },
   {
    "duration": 11,
    "start_time": "2024-03-06T19:43:35.405Z"
   },
   {
    "duration": 11,
    "start_time": "2024-03-06T19:43:37.015Z"
   },
   {
    "duration": 165,
    "start_time": "2024-03-06T19:43:38.003Z"
   },
   {
    "duration": 151,
    "start_time": "2024-03-06T19:43:38.900Z"
   },
   {
    "duration": 17,
    "start_time": "2024-03-06T19:43:39.805Z"
   },
   {
    "duration": 271,
    "start_time": "2024-03-06T19:43:40.763Z"
   },
   {
    "duration": 192,
    "start_time": "2024-03-06T19:43:45.523Z"
   },
   {
    "duration": 275,
    "start_time": "2024-03-06T19:43:46.392Z"
   },
   {
    "duration": 326,
    "start_time": "2024-03-06T19:43:49.615Z"
   },
   {
    "duration": 277,
    "start_time": "2024-03-06T19:43:50.818Z"
   },
   {
    "duration": 135,
    "start_time": "2024-03-06T19:43:51.951Z"
   },
   {
    "duration": 131,
    "start_time": "2024-03-06T19:43:52.247Z"
   },
   {
    "duration": 5,
    "start_time": "2024-03-06T19:43:54.201Z"
   },
   {
    "duration": 119,
    "start_time": "2024-03-06T19:43:55.972Z"
   },
   {
    "duration": 4,
    "start_time": "2024-03-06T19:43:56.980Z"
   },
   {
    "duration": 14,
    "start_time": "2024-03-06T19:43:58.374Z"
   },
   {
    "duration": 22,
    "start_time": "2024-03-06T19:43:58.906Z"
   },
   {
    "duration": 10,
    "start_time": "2024-03-06T19:44:02.177Z"
   },
   {
    "duration": 23,
    "start_time": "2024-03-06T19:44:03.577Z"
   },
   {
    "duration": 8,
    "start_time": "2024-03-06T19:44:04.352Z"
   },
   {
    "duration": 13,
    "start_time": "2024-03-06T19:44:24.851Z"
   },
   {
    "duration": 8,
    "start_time": "2024-03-06T19:44:28.330Z"
   },
   {
    "duration": 11,
    "start_time": "2024-03-06T19:44:36.981Z"
   },
   {
    "duration": 1277,
    "start_time": "2024-03-07T07:30:26.212Z"
   },
   {
    "duration": 261,
    "start_time": "2024-03-07T07:30:27.491Z"
   },
   {
    "duration": 20,
    "start_time": "2024-03-07T07:30:27.754Z"
   },
   {
    "duration": 52,
    "start_time": "2024-03-07T07:30:27.775Z"
   },
   {
    "duration": 39,
    "start_time": "2024-03-07T07:30:27.829Z"
   },
   {
    "duration": 79,
    "start_time": "2024-03-07T07:30:27.869Z"
   },
   {
    "duration": 53,
    "start_time": "2024-03-07T07:30:27.949Z"
   },
   {
    "duration": 61,
    "start_time": "2024-03-07T07:30:28.004Z"
   },
   {
    "duration": 34,
    "start_time": "2024-03-07T07:30:28.067Z"
   },
   {
    "duration": 18,
    "start_time": "2024-03-07T07:30:28.102Z"
   },
   {
    "duration": 7,
    "start_time": "2024-03-07T07:30:28.121Z"
   },
   {
    "duration": 14,
    "start_time": "2024-03-07T07:30:28.129Z"
   },
   {
    "duration": 22,
    "start_time": "2024-03-07T07:30:28.144Z"
   },
   {
    "duration": 11,
    "start_time": "2024-03-07T07:30:28.169Z"
   },
   {
    "duration": 27,
    "start_time": "2024-03-07T07:30:28.182Z"
   },
   {
    "duration": 13,
    "start_time": "2024-03-07T07:30:28.211Z"
   },
   {
    "duration": 14,
    "start_time": "2024-03-07T07:30:28.226Z"
   },
   {
    "duration": 192,
    "start_time": "2024-03-07T07:30:28.242Z"
   },
   {
    "duration": 129,
    "start_time": "2024-03-07T07:30:28.436Z"
   },
   {
    "duration": 24,
    "start_time": "2024-03-07T07:30:28.567Z"
   },
   {
    "duration": 306,
    "start_time": "2024-03-07T07:30:28.593Z"
   },
   {
    "duration": 216,
    "start_time": "2024-03-07T07:30:28.900Z"
   },
   {
    "duration": 277,
    "start_time": "2024-03-07T07:30:29.118Z"
   },
   {
    "duration": 334,
    "start_time": "2024-03-07T07:30:29.397Z"
   },
   {
    "duration": 295,
    "start_time": "2024-03-07T07:30:29.733Z"
   },
   {
    "duration": 140,
    "start_time": "2024-03-07T07:30:30.029Z"
   },
   {
    "duration": 157,
    "start_time": "2024-03-07T07:30:30.171Z"
   },
   {
    "duration": 123,
    "start_time": "2024-03-07T07:30:30.330Z"
   },
   {
    "duration": 173,
    "start_time": "2024-03-07T07:30:30.455Z"
   },
   {
    "duration": 5,
    "start_time": "2024-03-07T07:30:30.630Z"
   },
   {
    "duration": 62,
    "start_time": "2024-03-07T07:30:30.637Z"
   },
   {
    "duration": 50,
    "start_time": "2024-03-07T07:30:30.701Z"
   },
   {
    "duration": 68,
    "start_time": "2024-03-07T07:30:30.753Z"
   },
   {
    "duration": 55,
    "start_time": "2024-03-07T07:30:30.823Z"
   },
   {
    "duration": 33,
    "start_time": "2024-03-07T07:30:30.880Z"
   },
   {
    "duration": 199,
    "start_time": "2024-03-07T07:30:30.915Z"
   },
   {
    "duration": 81,
    "start_time": "2024-03-07T07:30:31.116Z"
   },
   {
    "duration": 72,
    "start_time": "2024-03-07T07:30:31.198Z"
   },
   {
    "duration": 7,
    "start_time": "2024-03-07T07:30:58.036Z"
   },
   {
    "duration": 1192,
    "start_time": "2024-03-07T07:38:07.910Z"
   },
   {
    "duration": 314,
    "start_time": "2024-03-07T07:38:09.104Z"
   },
   {
    "duration": 21,
    "start_time": "2024-03-07T07:38:09.420Z"
   },
   {
    "duration": 21,
    "start_time": "2024-03-07T07:38:09.443Z"
   },
   {
    "duration": 16,
    "start_time": "2024-03-07T07:38:09.466Z"
   },
   {
    "duration": 32,
    "start_time": "2024-03-07T07:38:09.483Z"
   },
   {
    "duration": 11,
    "start_time": "2024-03-07T07:38:09.517Z"
   },
   {
    "duration": 112,
    "start_time": "2024-03-07T07:38:09.530Z"
   },
   {
    "duration": 17,
    "start_time": "2024-03-07T07:38:09.644Z"
   },
   {
    "duration": 11,
    "start_time": "2024-03-07T07:38:09.664Z"
   },
   {
    "duration": 8,
    "start_time": "2024-03-07T07:38:09.677Z"
   },
   {
    "duration": 30,
    "start_time": "2024-03-07T07:38:09.687Z"
   },
   {
    "duration": 27,
    "start_time": "2024-03-07T07:38:09.719Z"
   },
   {
    "duration": 16,
    "start_time": "2024-03-07T07:38:09.748Z"
   },
   {
    "duration": 16,
    "start_time": "2024-03-07T07:38:09.766Z"
   },
   {
    "duration": 20,
    "start_time": "2024-03-07T07:38:09.784Z"
   },
   {
    "duration": 23,
    "start_time": "2024-03-07T07:38:09.805Z"
   },
   {
    "duration": 200,
    "start_time": "2024-03-07T07:38:09.829Z"
   },
   {
    "duration": 131,
    "start_time": "2024-03-07T07:38:10.030Z"
   },
   {
    "duration": 12,
    "start_time": "2024-03-07T07:38:10.163Z"
   },
   {
    "duration": 301,
    "start_time": "2024-03-07T07:38:10.191Z"
   },
   {
    "duration": 222,
    "start_time": "2024-03-07T07:38:10.493Z"
   },
   {
    "duration": 301,
    "start_time": "2024-03-07T07:38:10.716Z"
   },
   {
    "duration": 373,
    "start_time": "2024-03-07T07:38:11.018Z"
   },
   {
    "duration": 334,
    "start_time": "2024-03-07T07:38:11.393Z"
   },
   {
    "duration": 164,
    "start_time": "2024-03-07T07:38:11.729Z"
   },
   {
    "duration": 207,
    "start_time": "2024-03-07T07:38:11.895Z"
   },
   {
    "duration": 5,
    "start_time": "2024-03-07T07:38:12.106Z"
   },
   {
    "duration": 151,
    "start_time": "2024-03-07T07:38:12.113Z"
   },
   {
    "duration": 5,
    "start_time": "2024-03-07T07:38:12.266Z"
   },
   {
    "duration": 35,
    "start_time": "2024-03-07T07:38:12.273Z"
   },
   {
    "duration": 22,
    "start_time": "2024-03-07T07:38:12.310Z"
   },
   {
    "duration": 22,
    "start_time": "2024-03-07T07:38:12.334Z"
   },
   {
    "duration": 34,
    "start_time": "2024-03-07T07:38:12.358Z"
   },
   {
    "duration": 10,
    "start_time": "2024-03-07T07:38:12.394Z"
   },
   {
    "duration": 16,
    "start_time": "2024-03-07T07:38:12.405Z"
   },
   {
    "duration": 13,
    "start_time": "2024-03-07T07:38:12.423Z"
   },
   {
    "duration": 20,
    "start_time": "2024-03-07T07:38:12.437Z"
   },
   {
    "duration": 50,
    "start_time": "2024-03-07T09:16:21.490Z"
   },
   {
    "duration": 1409,
    "start_time": "2024-03-07T09:16:42.043Z"
   },
   {
    "duration": 178,
    "start_time": "2024-03-07T09:16:43.454Z"
   },
   {
    "duration": 20,
    "start_time": "2024-03-07T09:16:43.634Z"
   },
   {
    "duration": 14,
    "start_time": "2024-03-07T09:16:43.657Z"
   },
   {
    "duration": 32,
    "start_time": "2024-03-07T09:16:43.672Z"
   },
   {
    "duration": 37,
    "start_time": "2024-03-07T09:16:43.706Z"
   },
   {
    "duration": 9,
    "start_time": "2024-03-07T09:16:43.904Z"
   },
   {
    "duration": 22,
    "start_time": "2024-03-07T09:16:44.232Z"
   },
   {
    "duration": 13,
    "start_time": "2024-03-07T09:16:44.567Z"
   },
   {
    "duration": 7,
    "start_time": "2024-03-07T09:16:44.920Z"
   },
   {
    "duration": 4,
    "start_time": "2024-03-07T09:16:45.363Z"
   },
   {
    "duration": 11,
    "start_time": "2024-03-07T09:16:45.945Z"
   },
   {
    "duration": 16,
    "start_time": "2024-03-07T09:16:46.323Z"
   },
   {
    "duration": 15,
    "start_time": "2024-03-07T09:16:46.721Z"
   },
   {
    "duration": 12,
    "start_time": "2024-03-07T09:16:47.880Z"
   },
   {
    "duration": 14,
    "start_time": "2024-03-07T09:16:48.223Z"
   },
   {
    "duration": 10,
    "start_time": "2024-03-07T09:16:49.010Z"
   },
   {
    "duration": 175,
    "start_time": "2024-03-07T09:16:49.340Z"
   },
   {
    "duration": 139,
    "start_time": "2024-03-07T09:16:49.675Z"
   },
   {
    "duration": 13,
    "start_time": "2024-03-07T09:16:50.011Z"
   },
   {
    "duration": 264,
    "start_time": "2024-03-07T09:16:50.527Z"
   },
   {
    "duration": 189,
    "start_time": "2024-03-07T09:16:51.820Z"
   },
   {
    "duration": 290,
    "start_time": "2024-03-07T09:16:52.623Z"
   },
   {
    "duration": 340,
    "start_time": "2024-03-07T09:16:53.686Z"
   },
   {
    "duration": 311,
    "start_time": "2024-03-07T09:16:54.473Z"
   },
   {
    "duration": 152,
    "start_time": "2024-03-07T09:16:55.153Z"
   },
   {
    "duration": 135,
    "start_time": "2024-03-07T09:16:55.322Z"
   },
   {
    "duration": 4,
    "start_time": "2024-03-07T09:16:56.054Z"
   },
   {
    "duration": 127,
    "start_time": "2024-03-07T09:16:57.107Z"
   },
   {
    "duration": 4,
    "start_time": "2024-03-07T09:16:57.892Z"
   },
   {
    "duration": 4,
    "start_time": "2024-03-07T09:17:01.998Z"
   },
   {
    "duration": 4,
    "start_time": "2024-03-07T09:17:35.625Z"
   },
   {
    "duration": 5,
    "start_time": "2024-03-07T09:17:51.368Z"
   },
   {
    "duration": 45,
    "start_time": "2024-03-07T09:18:29.769Z"
   },
   {
    "duration": 51,
    "start_time": "2024-03-07T09:18:50.318Z"
   },
   {
    "duration": 4,
    "start_time": "2024-03-07T09:19:18.332Z"
   },
   {
    "duration": 4,
    "start_time": "2024-03-07T09:19:52.214Z"
   },
   {
    "duration": 98,
    "start_time": "2024-03-07T09:20:04.841Z"
   },
   {
    "duration": 5,
    "start_time": "2024-03-07T09:20:20.078Z"
   },
   {
    "duration": 7,
    "start_time": "2024-03-07T09:20:42.713Z"
   },
   {
    "duration": 9,
    "start_time": "2024-03-07T09:20:49.934Z"
   },
   {
    "duration": 49,
    "start_time": "2024-03-07T09:20:59.760Z"
   },
   {
    "duration": 9,
    "start_time": "2024-03-07T09:21:36.115Z"
   },
   {
    "duration": 45,
    "start_time": "2024-03-07T09:22:08.341Z"
   },
   {
    "duration": 51,
    "start_time": "2024-03-07T09:22:12.798Z"
   },
   {
    "duration": 50,
    "start_time": "2024-03-07T09:22:16.191Z"
   },
   {
    "duration": 9,
    "start_time": "2024-03-07T09:22:53.912Z"
   },
   {
    "duration": 14,
    "start_time": "2024-03-07T09:23:19.685Z"
   },
   {
    "duration": 18,
    "start_time": "2024-03-07T09:23:28.110Z"
   },
   {
    "duration": 19,
    "start_time": "2024-03-07T09:23:44.602Z"
   },
   {
    "duration": 46,
    "start_time": "2024-03-07T09:24:29.297Z"
   },
   {
    "duration": 59,
    "start_time": "2024-03-07T09:24:49.934Z"
   },
   {
    "duration": 14,
    "start_time": "2024-03-07T09:25:35.849Z"
   },
   {
    "duration": 19,
    "start_time": "2024-03-07T09:25:52.670Z"
   },
   {
    "duration": 49,
    "start_time": "2024-03-07T09:26:36.442Z"
   },
   {
    "duration": 54,
    "start_time": "2024-03-07T09:26:54.544Z"
   },
   {
    "duration": 25,
    "start_time": "2024-03-07T09:27:34.538Z"
   },
   {
    "duration": 20,
    "start_time": "2024-03-07T09:27:39.707Z"
   },
   {
    "duration": 26,
    "start_time": "2024-03-07T09:27:53.986Z"
   },
   {
    "duration": 9,
    "start_time": "2024-03-07T09:28:34.967Z"
   },
   {
    "duration": 62,
    "start_time": "2024-03-07T09:28:58.784Z"
   },
   {
    "duration": 73,
    "start_time": "2024-03-07T09:29:39.198Z"
   },
   {
    "duration": 10,
    "start_time": "2024-03-07T09:30:21.557Z"
   },
   {
    "duration": 1559,
    "start_time": "2024-03-07T09:30:28.235Z"
   },
   {
    "duration": 30,
    "start_time": "2024-03-07T09:32:12.977Z"
   },
   {
    "duration": 9,
    "start_time": "2024-03-07T09:32:24.569Z"
   },
   {
    "duration": 48,
    "start_time": "2024-03-07T09:32:25.373Z"
   },
   {
    "duration": 9,
    "start_time": "2024-03-07T09:32:25.859Z"
   },
   {
    "duration": 120,
    "start_time": "2024-03-07T09:32:26.195Z"
   },
   {
    "duration": 17,
    "start_time": "2024-03-07T09:32:26.615Z"
   },
   {
    "duration": 52,
    "start_time": "2024-03-07T09:32:27.129Z"
   },
   {
    "duration": 18,
    "start_time": "2024-03-07T09:32:27.648Z"
   },
   {
    "duration": 49,
    "start_time": "2024-03-07T09:32:28.163Z"
   },
   {
    "duration": 26,
    "start_time": "2024-03-07T09:32:29.098Z"
   },
   {
    "duration": 60,
    "start_time": "2024-03-07T09:32:31.669Z"
   },
   {
    "duration": 66,
    "start_time": "2024-03-07T09:32:32.256Z"
   },
   {
    "duration": 8,
    "start_time": "2024-03-07T09:32:34.807Z"
   },
   {
    "duration": 7,
    "start_time": "2024-03-07T09:32:58.071Z"
   },
   {
    "duration": 59,
    "start_time": "2024-03-07T09:34:32.381Z"
   },
   {
    "duration": 86,
    "start_time": "2024-03-07T09:34:38.121Z"
   },
   {
    "duration": 69,
    "start_time": "2024-03-07T09:35:08.397Z"
   },
   {
    "duration": 9,
    "start_time": "2024-03-07T09:35:20.735Z"
   },
   {
    "duration": 4,
    "start_time": "2024-03-07T09:35:25.734Z"
   },
   {
    "duration": 6,
    "start_time": "2024-03-07T09:35:34.415Z"
   },
   {
    "duration": 6,
    "start_time": "2024-03-07T09:36:00.424Z"
   },
   {
    "duration": 28,
    "start_time": "2024-03-07T09:36:12.074Z"
   },
   {
    "duration": 24,
    "start_time": "2024-03-07T09:37:24.061Z"
   },
   {
    "duration": 24,
    "start_time": "2024-03-07T09:40:17.466Z"
   },
   {
    "duration": 10,
    "start_time": "2024-03-07T09:44:10.422Z"
   },
   {
    "duration": 9,
    "start_time": "2024-03-07T09:44:52.017Z"
   },
   {
    "duration": 9,
    "start_time": "2024-03-07T09:46:28.984Z"
   },
   {
    "duration": 10,
    "start_time": "2024-03-07T09:48:15.323Z"
   },
   {
    "duration": 10,
    "start_time": "2024-03-07T09:49:15.320Z"
   },
   {
    "duration": 10,
    "start_time": "2024-03-07T09:50:00.741Z"
   },
   {
    "duration": 1613,
    "start_time": "2024-03-07T09:54:24.821Z"
   },
   {
    "duration": 1619,
    "start_time": "2024-03-07T09:54:33.853Z"
   },
   {
    "duration": 1562,
    "start_time": "2024-03-07T09:54:37.609Z"
   },
   {
    "duration": 8,
    "start_time": "2024-03-07T09:54:56.519Z"
   },
   {
    "duration": 6,
    "start_time": "2024-03-07T09:57:05.736Z"
   },
   {
    "duration": 8,
    "start_time": "2024-03-07T09:58:00.374Z"
   },
   {
    "duration": 26,
    "start_time": "2024-03-07T09:59:58.495Z"
   },
   {
    "duration": 25,
    "start_time": "2024-03-07T10:00:34.222Z"
   },
   {
    "duration": 24,
    "start_time": "2024-03-07T10:00:39.209Z"
   },
   {
    "duration": 101,
    "start_time": "2024-03-07T10:05:10.747Z"
   },
   {
    "duration": 10,
    "start_time": "2024-03-07T10:07:36.193Z"
   },
   {
    "duration": 5,
    "start_time": "2024-03-07T10:07:43.663Z"
   },
   {
    "duration": 7,
    "start_time": "2024-03-07T10:08:07.012Z"
   },
   {
    "duration": 31,
    "start_time": "2024-03-07T10:09:25.304Z"
   },
   {
    "duration": 12,
    "start_time": "2024-03-07T10:09:39.439Z"
   },
   {
    "duration": 13,
    "start_time": "2024-03-07T10:10:33.059Z"
   },
   {
    "duration": 14,
    "start_time": "2024-03-07T10:11:31.758Z"
   },
   {
    "duration": 6,
    "start_time": "2024-03-07T10:12:33.148Z"
   },
   {
    "duration": 11,
    "start_time": "2024-03-07T10:13:23.109Z"
   },
   {
    "duration": 7,
    "start_time": "2024-03-07T10:13:27.719Z"
   },
   {
    "duration": 6,
    "start_time": "2024-03-07T10:13:44.716Z"
   },
   {
    "duration": 25,
    "start_time": "2024-03-07T10:20:14.256Z"
   },
   {
    "duration": 1559,
    "start_time": "2024-03-07T10:25:18.756Z"
   },
   {
    "duration": 8,
    "start_time": "2024-03-07T10:25:27.585Z"
   },
   {
    "duration": 6,
    "start_time": "2024-03-07T10:25:50.508Z"
   },
   {
    "duration": 6,
    "start_time": "2024-03-07T10:26:14.480Z"
   },
   {
    "duration": 6,
    "start_time": "2024-03-07T10:28:55.947Z"
   },
   {
    "duration": 7,
    "start_time": "2024-03-07T10:29:44.546Z"
   },
   {
    "duration": 25,
    "start_time": "2024-03-07T10:30:15.537Z"
   },
   {
    "duration": 33,
    "start_time": "2024-03-07T10:30:37.763Z"
   },
   {
    "duration": 26,
    "start_time": "2024-03-07T10:30:49.083Z"
   },
   {
    "duration": 25,
    "start_time": "2024-03-07T10:30:53.305Z"
   },
   {
    "duration": 31,
    "start_time": "2024-03-07T10:30:57.684Z"
   },
   {
    "duration": 24,
    "start_time": "2024-03-07T10:31:00.468Z"
   },
   {
    "duration": 34,
    "start_time": "2024-03-07T10:31:02.493Z"
   },
   {
    "duration": 105,
    "start_time": "2024-03-07T10:32:15.717Z"
   },
   {
    "duration": 27,
    "start_time": "2024-03-07T10:33:57.620Z"
   },
   {
    "duration": 25,
    "start_time": "2024-03-07T10:34:14.579Z"
   },
   {
    "duration": 1154,
    "start_time": "2024-03-07T10:35:23.103Z"
   },
   {
    "duration": 321,
    "start_time": "2024-03-07T10:35:24.260Z"
   },
   {
    "duration": 18,
    "start_time": "2024-03-07T10:35:24.583Z"
   },
   {
    "duration": 13,
    "start_time": "2024-03-07T10:35:24.603Z"
   },
   {
    "duration": 20,
    "start_time": "2024-03-07T10:35:24.618Z"
   },
   {
    "duration": 23,
    "start_time": "2024-03-07T10:35:24.869Z"
   },
   {
    "duration": 7,
    "start_time": "2024-03-07T10:35:25.224Z"
   },
   {
    "duration": 29,
    "start_time": "2024-03-07T10:35:25.587Z"
   },
   {
    "duration": 12,
    "start_time": "2024-03-07T10:35:25.946Z"
   },
   {
    "duration": 6,
    "start_time": "2024-03-07T10:35:26.340Z"
   },
   {
    "duration": 4,
    "start_time": "2024-03-07T10:35:26.703Z"
   },
   {
    "duration": 10,
    "start_time": "2024-03-07T10:35:27.080Z"
   },
   {
    "duration": 14,
    "start_time": "2024-03-07T10:35:27.445Z"
   },
   {
    "duration": 11,
    "start_time": "2024-03-07T10:35:27.801Z"
   },
   {
    "duration": 13,
    "start_time": "2024-03-07T10:35:28.841Z"
   },
   {
    "duration": 11,
    "start_time": "2024-03-07T10:35:29.186Z"
   },
   {
    "duration": 10,
    "start_time": "2024-03-07T10:35:30.502Z"
   },
   {
    "duration": 256,
    "start_time": "2024-03-07T10:35:30.514Z"
   },
   {
    "duration": 130,
    "start_time": "2024-03-07T10:35:30.771Z"
   },
   {
    "duration": 16,
    "start_time": "2024-03-07T10:35:31.110Z"
   },
   {
    "duration": 310,
    "start_time": "2024-03-07T10:35:32.199Z"
   },
   {
    "duration": 198,
    "start_time": "2024-03-07T10:35:33.438Z"
   },
   {
    "duration": 289,
    "start_time": "2024-03-07T10:35:33.954Z"
   },
   {
    "duration": 291,
    "start_time": "2024-03-07T10:35:34.636Z"
   },
   {
    "duration": 269,
    "start_time": "2024-03-07T10:35:35.313Z"
   },
   {
    "duration": 116,
    "start_time": "2024-03-07T10:35:36.031Z"
   },
   {
    "duration": 131,
    "start_time": "2024-03-07T10:35:36.203Z"
   },
   {
    "duration": 3,
    "start_time": "2024-03-07T10:35:36.734Z"
   },
   {
    "duration": 120,
    "start_time": "2024-03-07T10:35:37.448Z"
   },
   {
    "duration": 4,
    "start_time": "2024-03-07T10:35:37.953Z"
   },
   {
    "duration": 8,
    "start_time": "2024-03-07T10:35:38.850Z"
   },
   {
    "duration": 47,
    "start_time": "2024-03-07T10:35:39.019Z"
   },
   {
    "duration": 10,
    "start_time": "2024-03-07T10:35:39.178Z"
   },
   {
    "duration": 47,
    "start_time": "2024-03-07T10:35:39.353Z"
   },
   {
    "duration": 17,
    "start_time": "2024-03-07T10:35:39.542Z"
   },
   {
    "duration": 54,
    "start_time": "2024-03-07T10:35:39.723Z"
   },
   {
    "duration": 23,
    "start_time": "2024-03-07T10:35:39.948Z"
   },
   {
    "duration": 50,
    "start_time": "2024-03-07T10:35:40.327Z"
   },
   {
    "duration": 28,
    "start_time": "2024-03-07T10:35:40.795Z"
   },
   {
    "duration": 63,
    "start_time": "2024-03-07T10:35:43.820Z"
   },
   {
    "duration": 83,
    "start_time": "2024-03-07T10:35:44.210Z"
   },
   {
    "duration": 8,
    "start_time": "2024-03-07T10:35:45.062Z"
   },
   {
    "duration": 6,
    "start_time": "2024-03-07T10:35:45.446Z"
   },
   {
    "duration": 66,
    "start_time": "2024-03-07T10:35:47.306Z"
   },
   {
    "duration": 87,
    "start_time": "2024-03-07T10:35:47.958Z"
   },
   {
    "duration": 6,
    "start_time": "2024-03-07T10:35:48.338Z"
   },
   {
    "duration": 26,
    "start_time": "2024-03-07T10:36:07.830Z"
   },
   {
    "duration": 11,
    "start_time": "2024-03-07T10:36:14.957Z"
   },
   {
    "duration": 12,
    "start_time": "2024-03-07T10:36:24.235Z"
   },
   {
    "duration": 11,
    "start_time": "2024-03-07T10:36:27.798Z"
   },
   {
    "duration": 11,
    "start_time": "2024-03-07T10:36:30.684Z"
   },
   {
    "duration": 9,
    "start_time": "2024-03-07T10:39:27.981Z"
   },
   {
    "duration": 9,
    "start_time": "2024-03-07T10:39:47.719Z"
   },
   {
    "duration": 24,
    "start_time": "2024-03-07T10:39:54.010Z"
   },
   {
    "duration": 7,
    "start_time": "2024-03-07T10:40:16.726Z"
   },
   {
    "duration": 7,
    "start_time": "2024-03-07T10:40:30.616Z"
   },
   {
    "duration": 7,
    "start_time": "2024-03-07T10:40:34.413Z"
   },
   {
    "duration": 8,
    "start_time": "2024-03-07T10:40:36.929Z"
   },
   {
    "duration": 7,
    "start_time": "2024-03-07T10:41:38.029Z"
   },
   {
    "duration": 8,
    "start_time": "2024-03-07T10:47:39.093Z"
   },
   {
    "duration": 8,
    "start_time": "2024-03-07T10:50:26.153Z"
   },
   {
    "duration": 108,
    "start_time": "2024-03-07T10:53:06.013Z"
   },
   {
    "duration": 102,
    "start_time": "2024-03-07T10:53:23.272Z"
   },
   {
    "duration": 1111,
    "start_time": "2024-03-07T11:06:33.512Z"
   },
   {
    "duration": 327,
    "start_time": "2024-03-07T11:06:34.625Z"
   },
   {
    "duration": 19,
    "start_time": "2024-03-07T11:06:34.954Z"
   },
   {
    "duration": 14,
    "start_time": "2024-03-07T11:06:34.975Z"
   },
   {
    "duration": 14,
    "start_time": "2024-03-07T11:06:34.990Z"
   },
   {
    "duration": 25,
    "start_time": "2024-03-07T11:06:35.032Z"
   },
   {
    "duration": 7,
    "start_time": "2024-03-07T11:06:35.335Z"
   },
   {
    "duration": 20,
    "start_time": "2024-03-07T11:06:35.620Z"
   },
   {
    "duration": 12,
    "start_time": "2024-03-07T11:06:35.890Z"
   },
   {
    "duration": 8,
    "start_time": "2024-03-07T11:06:36.273Z"
   },
   {
    "duration": 4,
    "start_time": "2024-03-07T11:06:36.600Z"
   },
   {
    "duration": 10,
    "start_time": "2024-03-07T11:06:36.896Z"
   },
   {
    "duration": 16,
    "start_time": "2024-03-07T11:06:37.205Z"
   },
   {
    "duration": 12,
    "start_time": "2024-03-07T11:06:37.512Z"
   },
   {
    "duration": 12,
    "start_time": "2024-03-07T11:06:38.419Z"
   },
   {
    "duration": 12,
    "start_time": "2024-03-07T11:06:38.730Z"
   },
   {
    "duration": 10,
    "start_time": "2024-03-07T11:06:39.509Z"
   },
   {
    "duration": 168,
    "start_time": "2024-03-07T11:06:39.814Z"
   },
   {
    "duration": 122,
    "start_time": "2024-03-07T11:06:40.107Z"
   },
   {
    "duration": 13,
    "start_time": "2024-03-07T11:06:40.390Z"
   },
   {
    "duration": 273,
    "start_time": "2024-03-07T11:06:40.877Z"
   },
   {
    "duration": 192,
    "start_time": "2024-03-07T11:06:41.619Z"
   },
   {
    "duration": 275,
    "start_time": "2024-03-07T11:06:42.091Z"
   },
   {
    "duration": 293,
    "start_time": "2024-03-07T11:06:42.706Z"
   },
   {
    "duration": 277,
    "start_time": "2024-03-07T11:06:43.403Z"
   },
   {
    "duration": 118,
    "start_time": "2024-03-07T11:06:44.299Z"
   },
   {
    "duration": 140,
    "start_time": "2024-03-07T11:06:44.463Z"
   },
   {
    "duration": 5,
    "start_time": "2024-03-07T11:06:44.915Z"
   },
   {
    "duration": 119,
    "start_time": "2024-03-07T11:06:45.482Z"
   },
   {
    "duration": 5,
    "start_time": "2024-03-07T11:06:45.934Z"
   },
   {
    "duration": 8,
    "start_time": "2024-03-07T11:06:46.903Z"
   },
   {
    "duration": 49,
    "start_time": "2024-03-07T11:06:47.024Z"
   },
   {
    "duration": 8,
    "start_time": "2024-03-07T11:06:47.104Z"
   },
   {
    "duration": 47,
    "start_time": "2024-03-07T11:06:47.412Z"
   },
   {
    "duration": 18,
    "start_time": "2024-03-07T11:06:47.596Z"
   },
   {
    "duration": 55,
    "start_time": "2024-03-07T11:06:47.793Z"
   },
   {
    "duration": 18,
    "start_time": "2024-03-07T11:06:47.983Z"
   },
   {
    "duration": 52,
    "start_time": "2024-03-07T11:06:48.157Z"
   },
   {
    "duration": 28,
    "start_time": "2024-03-07T11:06:48.325Z"
   },
   {
    "duration": 64,
    "start_time": "2024-03-07T11:06:48.665Z"
   },
   {
    "duration": 99,
    "start_time": "2024-03-07T11:06:48.834Z"
   },
   {
    "duration": 6,
    "start_time": "2024-03-07T11:06:49.162Z"
   },
   {
    "duration": 6,
    "start_time": "2024-03-07T11:06:49.317Z"
   },
   {
    "duration": 58,
    "start_time": "2024-03-07T11:06:49.825Z"
   },
   {
    "duration": 68,
    "start_time": "2024-03-07T11:06:50.179Z"
   },
   {
    "duration": 8,
    "start_time": "2024-03-07T11:06:50.352Z"
   },
   {
    "duration": 29,
    "start_time": "2024-03-07T11:06:50.868Z"
   },
   {
    "duration": 11,
    "start_time": "2024-03-07T11:06:51.368Z"
   },
   {
    "duration": 9,
    "start_time": "2024-03-07T11:06:51.890Z"
   },
   {
    "duration": 7,
    "start_time": "2024-03-07T11:06:52.440Z"
   },
   {
    "duration": 26,
    "start_time": "2024-03-07T11:06:52.793Z"
   },
   {
    "duration": 7,
    "start_time": "2024-03-07T11:06:53.335Z"
   },
   {
    "duration": 7,
    "start_time": "2024-03-07T11:06:53.707Z"
   },
   {
    "duration": 1170,
    "start_time": "2024-03-08T01:03:15.292Z"
   },
   {
    "duration": 272,
    "start_time": "2024-03-08T01:03:16.464Z"
   },
   {
    "duration": 28,
    "start_time": "2024-03-08T01:03:16.738Z"
   },
   {
    "duration": 16,
    "start_time": "2024-03-08T01:03:16.768Z"
   },
   {
    "duration": 15,
    "start_time": "2024-03-08T01:03:16.786Z"
   },
   {
    "duration": 40,
    "start_time": "2024-03-08T01:03:16.803Z"
   },
   {
    "duration": 11,
    "start_time": "2024-03-08T01:03:16.845Z"
   },
   {
    "duration": 44,
    "start_time": "2024-03-08T01:03:16.858Z"
   },
   {
    "duration": 14,
    "start_time": "2024-03-08T01:03:16.903Z"
   },
   {
    "duration": 17,
    "start_time": "2024-03-08T01:03:16.918Z"
   },
   {
    "duration": 6,
    "start_time": "2024-03-08T01:03:16.936Z"
   },
   {
    "duration": 16,
    "start_time": "2024-03-08T01:03:16.943Z"
   },
   {
    "duration": 31,
    "start_time": "2024-03-08T01:03:16.961Z"
   },
   {
    "duration": 13,
    "start_time": "2024-03-08T01:03:16.997Z"
   },
   {
    "duration": 20,
    "start_time": "2024-03-08T01:03:17.012Z"
   },
   {
    "duration": 13,
    "start_time": "2024-03-08T01:03:17.033Z"
   },
   {
    "duration": 37,
    "start_time": "2024-03-08T01:03:17.048Z"
   },
   {
    "duration": 182,
    "start_time": "2024-03-08T01:03:17.087Z"
   },
   {
    "duration": 133,
    "start_time": "2024-03-08T01:03:17.271Z"
   },
   {
    "duration": 13,
    "start_time": "2024-03-08T01:03:17.406Z"
   },
   {
    "duration": 311,
    "start_time": "2024-03-08T01:03:17.421Z"
   },
   {
    "duration": 223,
    "start_time": "2024-03-08T01:03:17.734Z"
   },
   {
    "duration": 316,
    "start_time": "2024-03-08T01:03:17.959Z"
   },
   {
    "duration": 350,
    "start_time": "2024-03-08T01:03:18.276Z"
   },
   {
    "duration": 280,
    "start_time": "2024-03-08T01:03:18.628Z"
   },
   {
    "duration": 132,
    "start_time": "2024-03-08T01:03:18.910Z"
   },
   {
    "duration": 163,
    "start_time": "2024-03-08T01:03:19.043Z"
   },
   {
    "duration": 3,
    "start_time": "2024-03-08T01:03:19.208Z"
   },
   {
    "duration": 163,
    "start_time": "2024-03-08T01:03:19.213Z"
   },
   {
    "duration": 6,
    "start_time": "2024-03-08T01:03:19.378Z"
   },
   {
    "duration": 17,
    "start_time": "2024-03-08T01:03:19.385Z"
   },
   {
    "duration": 51,
    "start_time": "2024-03-08T01:03:19.403Z"
   },
   {
    "duration": 27,
    "start_time": "2024-03-08T01:03:19.456Z"
   },
   {
    "duration": 51,
    "start_time": "2024-03-08T01:03:19.485Z"
   },
   {
    "duration": 44,
    "start_time": "2024-03-08T01:03:19.537Z"
   },
   {
    "duration": 76,
    "start_time": "2024-03-08T01:03:19.583Z"
   },
   {
    "duration": 30,
    "start_time": "2024-03-08T01:03:19.661Z"
   },
   {
    "duration": 58,
    "start_time": "2024-03-08T01:03:19.693Z"
   },
   {
    "duration": 51,
    "start_time": "2024-03-08T01:03:19.753Z"
   },
   {
    "duration": 84,
    "start_time": "2024-03-08T01:03:19.806Z"
   },
   {
    "duration": 90,
    "start_time": "2024-03-08T01:03:19.894Z"
   },
   {
    "duration": 16,
    "start_time": "2024-03-08T01:03:19.986Z"
   },
   {
    "duration": 12,
    "start_time": "2024-03-08T01:03:20.004Z"
   },
   {
    "duration": 81,
    "start_time": "2024-03-08T01:03:20.017Z"
   },
   {
    "duration": 84,
    "start_time": "2024-03-08T01:03:20.099Z"
   },
   {
    "duration": 6,
    "start_time": "2024-03-08T01:03:20.185Z"
   },
   {
    "duration": 29,
    "start_time": "2024-03-08T01:03:20.192Z"
   },
   {
    "duration": 11,
    "start_time": "2024-03-08T01:03:20.222Z"
   },
   {
    "duration": 9,
    "start_time": "2024-03-08T01:03:20.235Z"
   },
   {
    "duration": 43,
    "start_time": "2024-03-08T01:03:20.245Z"
   },
   {
    "duration": 35,
    "start_time": "2024-03-08T01:03:20.290Z"
   },
   {
    "duration": 7,
    "start_time": "2024-03-08T01:03:20.326Z"
   },
   {
    "duration": 17,
    "start_time": "2024-03-08T01:03:20.334Z"
   },
   {
    "duration": 1168,
    "start_time": "2024-03-08T01:09:55.609Z"
   },
   {
    "duration": 179,
    "start_time": "2024-03-08T01:09:56.779Z"
   },
   {
    "duration": 21,
    "start_time": "2024-03-08T01:09:56.960Z"
   },
   {
    "duration": 21,
    "start_time": "2024-03-08T01:09:56.983Z"
   },
   {
    "duration": 23,
    "start_time": "2024-03-08T01:09:57.007Z"
   },
   {
    "duration": 24,
    "start_time": "2024-03-08T01:09:57.032Z"
   },
   {
    "duration": 8,
    "start_time": "2024-03-08T01:09:57.058Z"
   },
   {
    "duration": 22,
    "start_time": "2024-03-08T01:09:57.082Z"
   },
   {
    "duration": 13,
    "start_time": "2024-03-08T01:09:57.106Z"
   },
   {
    "duration": 7,
    "start_time": "2024-03-08T01:09:57.121Z"
   },
   {
    "duration": 4,
    "start_time": "2024-03-08T01:09:57.130Z"
   },
   {
    "duration": 52,
    "start_time": "2024-03-08T01:09:57.136Z"
   },
   {
    "duration": 15,
    "start_time": "2024-03-08T01:09:57.190Z"
   },
   {
    "duration": 16,
    "start_time": "2024-03-08T01:09:57.210Z"
   },
   {
    "duration": 23,
    "start_time": "2024-03-08T01:09:57.227Z"
   },
   {
    "duration": 12,
    "start_time": "2024-03-08T01:09:57.252Z"
   },
   {
    "duration": 11,
    "start_time": "2024-03-08T01:09:57.282Z"
   },
   {
    "duration": 207,
    "start_time": "2024-03-08T01:09:57.295Z"
   },
   {
    "duration": 148,
    "start_time": "2024-03-08T01:09:57.504Z"
   },
   {
    "duration": 12,
    "start_time": "2024-03-08T01:09:57.654Z"
   },
   {
    "duration": 328,
    "start_time": "2024-03-08T01:09:57.682Z"
   },
   {
    "duration": 216,
    "start_time": "2024-03-08T01:09:58.012Z"
   },
   {
    "duration": 271,
    "start_time": "2024-03-08T01:09:58.229Z"
   },
   {
    "duration": 327,
    "start_time": "2024-03-08T01:09:58.501Z"
   },
   {
    "duration": 299,
    "start_time": "2024-03-08T01:09:58.829Z"
   },
   {
    "duration": 159,
    "start_time": "2024-03-08T01:09:59.130Z"
   },
   {
    "duration": 158,
    "start_time": "2024-03-08T01:09:59.291Z"
   },
   {
    "duration": 4,
    "start_time": "2024-03-08T01:09:59.451Z"
   },
   {
    "duration": 151,
    "start_time": "2024-03-08T01:09:59.457Z"
   },
   {
    "duration": 5,
    "start_time": "2024-03-08T01:09:59.610Z"
   },
   {
    "duration": 15,
    "start_time": "2024-03-08T01:09:59.616Z"
   },
   {
    "duration": 72,
    "start_time": "2024-03-08T01:09:59.633Z"
   },
   {
    "duration": 9,
    "start_time": "2024-03-08T01:09:59.707Z"
   },
   {
    "duration": 68,
    "start_time": "2024-03-08T01:09:59.718Z"
   },
   {
    "duration": 18,
    "start_time": "2024-03-08T01:09:59.788Z"
   },
   {
    "duration": 79,
    "start_time": "2024-03-08T01:09:59.807Z"
   },
   {
    "duration": 22,
    "start_time": "2024-03-08T01:09:59.888Z"
   },
   {
    "duration": 76,
    "start_time": "2024-03-08T01:09:59.912Z"
   },
   {
    "duration": 29,
    "start_time": "2024-03-08T01:09:59.990Z"
   },
   {
    "duration": 85,
    "start_time": "2024-03-08T01:10:00.020Z"
   },
   {
    "duration": 93,
    "start_time": "2024-03-08T01:10:00.109Z"
   },
   {
    "duration": 54,
    "start_time": "2024-03-08T01:10:00.204Z"
   },
   {
    "duration": 61,
    "start_time": "2024-03-08T01:10:00.259Z"
   },
   {
    "duration": 147,
    "start_time": "2024-03-08T01:10:00.322Z"
   },
   {
    "duration": 103,
    "start_time": "2024-03-08T01:10:00.471Z"
   },
   {
    "duration": 6,
    "start_time": "2024-03-08T01:10:00.576Z"
   },
   {
    "duration": 70,
    "start_time": "2024-03-08T01:10:00.583Z"
   },
   {
    "duration": 15,
    "start_time": "2024-03-08T01:10:00.655Z"
   },
   {
    "duration": 57,
    "start_time": "2024-03-08T01:10:00.672Z"
   },
   {
    "duration": 32,
    "start_time": "2024-03-08T01:10:00.731Z"
   },
   {
    "duration": 89,
    "start_time": "2024-03-08T01:10:00.765Z"
   },
   {
    "duration": 33,
    "start_time": "2024-03-08T01:10:00.855Z"
   },
   {
    "duration": 38,
    "start_time": "2024-03-08T01:10:00.890Z"
   }
  ],
  "kernelspec": {
   "display_name": "Python 3 (ipykernel)",
   "language": "python",
   "name": "python3"
  },
  "language_info": {
   "codemirror_mode": {
    "name": "ipython",
    "version": 3
   },
   "file_extension": ".py",
   "mimetype": "text/x-python",
   "name": "python",
   "nbconvert_exporter": "python",
   "pygments_lexer": "ipython3",
   "version": "3.10.13"
  },
  "toc": {
   "base_numbering": 1,
   "nav_menu": {},
   "number_sections": true,
   "sideBar": true,
   "skip_h1_title": true,
   "title_cell": "Table of Contents",
   "title_sidebar": "Contents",
   "toc_cell": false,
   "toc_position": {},
   "toc_section_display": true,
   "toc_window_display": false
  }
 },
 "nbformat": 4,
 "nbformat_minor": 4
}
