{
 "cells": [
  {
   "cell_type": "markdown",
   "metadata": {},
   "source": [
    "# Анализ сервиса для чтения книг по подписке\n",
    "Мы являемся крупной компанией, которая на фоне новых тендеций возникших в мире на волне коронавируса, решила приобрести крупный сервис для чтения книг по подписке. Нам предоставлена база данных, которая содержит информацию о книгах, издательствах, авторах, а также пользовательские обзоры книг\n",
    "\n",
    "##### Цель исследования\n",
    "Целью исследования является анализ данных, который поможет сформулировать ценностное предложение для нового продукта\n",
    "\n",
    "##### Ход исследования\n",
    "1. Подключение к базе данных и изучение информации, которая в ней содержится\n",
    "2. Анализ данных\n",
    "    - Посчитайте, сколько книг вышло после 1 января 2000 года;\n",
    "    - Для каждой книги посчитайте количество обзоров и среднюю оценку;\n",
    "    - Определите издательство, которое выпустило наибольшее число книг толще 50 страниц — так вы исключите из анализа брошюры;\n",
    "    - Определите автора с самой высокой средней оценкой книг — учитывайте только книги с 50 и более оценками;\n",
    "    - Посчитайте среднее количество обзоров от пользователей, которые поставили больше 48 оценок.\n",
    "3. Написание общего вывода"
   ]
  },
  {
   "cell_type": "markdown",
   "metadata": {},
   "source": [
    "##  1. Подключение к базе данных и изучение информации, которая в ней содержится"
   ]
  },
  {
   "cell_type": "markdown",
   "metadata": {},
   "source": [
    "Для начала подключимся к базе данных:"
   ]
  },
  {
   "cell_type": "code",
   "execution_count": 1,
   "metadata": {},
   "outputs": [],
   "source": [
    "# импортируем библиотеки\n",
    "import pandas as pd\n",
    "import sqlalchemy as sa"
   ]
  },
  {
   "cell_type": "code",
   "execution_count": 2,
   "metadata": {},
   "outputs": [],
   "source": [
    "# устанавливаем параметры\n",
    "db_config = {\n",
    "'user': 'praktikum_student', # имя пользователя\n",
    "'pwd': 'Sdf4$2;d-d30pp', # пароль\n",
    "'host': 'rc1b-wcoijxj3yxfsf3fs.mdb.yandexcloud.net',\n",
    "'port': 6432, # порт подключения\n",
    "'db': 'data-analyst-final-project-db' # название базы данных\n",
    "}\n",
    "connection_string = 'postgresql://{user}:{pwd}@{host}:{port}/{db}'.format(**db_config)\n",
    "# сохраняем коннектор\n",
    "engine = sa.create_engine(connection_string, connect_args={'sslmode':'require'})\n",
    "\n",
    "def get_sql_query_data(query):\n",
    "    '''Открываем соединение, получаем данные из sql, закрываем соединение'''\n",
    "    return pd.io.sql.read_sql(query, con = engine)"
   ]
  },
  {
   "cell_type": "markdown",
   "metadata": {},
   "source": [
    "Просмотрим что содержится в таблице book. Выведем первые 5 строк"
   ]
  },
  {
   "cell_type": "code",
   "execution_count": 3,
   "metadata": {},
   "outputs": [
    {
     "data": {
      "text/html": [
       "<div>\n",
       "<style scoped>\n",
       "    .dataframe tbody tr th:only-of-type {\n",
       "        vertical-align: middle;\n",
       "    }\n",
       "\n",
       "    .dataframe tbody tr th {\n",
       "        vertical-align: top;\n",
       "    }\n",
       "\n",
       "    .dataframe thead th {\n",
       "        text-align: right;\n",
       "    }\n",
       "</style>\n",
       "<table border=\"1\" class=\"dataframe\">\n",
       "  <thead>\n",
       "    <tr style=\"text-align: right;\">\n",
       "      <th></th>\n",
       "      <th>book_id</th>\n",
       "      <th>author_id</th>\n",
       "      <th>title</th>\n",
       "      <th>num_pages</th>\n",
       "      <th>publication_date</th>\n",
       "      <th>publisher_id</th>\n",
       "    </tr>\n",
       "  </thead>\n",
       "  <tbody>\n",
       "    <tr>\n",
       "      <th>0</th>\n",
       "      <td>1</td>\n",
       "      <td>546</td>\n",
       "      <td>'Salem's Lot</td>\n",
       "      <td>594</td>\n",
       "      <td>2005-11-01</td>\n",
       "      <td>93</td>\n",
       "    </tr>\n",
       "    <tr>\n",
       "      <th>1</th>\n",
       "      <td>2</td>\n",
       "      <td>465</td>\n",
       "      <td>1 000 Places to See Before You Die</td>\n",
       "      <td>992</td>\n",
       "      <td>2003-05-22</td>\n",
       "      <td>336</td>\n",
       "    </tr>\n",
       "    <tr>\n",
       "      <th>2</th>\n",
       "      <td>3</td>\n",
       "      <td>407</td>\n",
       "      <td>13 Little Blue Envelopes (Little Blue Envelope...</td>\n",
       "      <td>322</td>\n",
       "      <td>2010-12-21</td>\n",
       "      <td>135</td>\n",
       "    </tr>\n",
       "    <tr>\n",
       "      <th>3</th>\n",
       "      <td>4</td>\n",
       "      <td>82</td>\n",
       "      <td>1491: New Revelations of the Americas Before C...</td>\n",
       "      <td>541</td>\n",
       "      <td>2006-10-10</td>\n",
       "      <td>309</td>\n",
       "    </tr>\n",
       "    <tr>\n",
       "      <th>4</th>\n",
       "      <td>5</td>\n",
       "      <td>125</td>\n",
       "      <td>1776</td>\n",
       "      <td>386</td>\n",
       "      <td>2006-07-04</td>\n",
       "      <td>268</td>\n",
       "    </tr>\n",
       "  </tbody>\n",
       "</table>\n",
       "</div>"
      ],
      "text/plain": [
       "   book_id  author_id                                              title  \\\n",
       "0        1        546                                       'Salem's Lot   \n",
       "1        2        465                 1 000 Places to See Before You Die   \n",
       "2        3        407  13 Little Blue Envelopes (Little Blue Envelope...   \n",
       "3        4         82  1491: New Revelations of the Americas Before C...   \n",
       "4        5        125                                               1776   \n",
       "\n",
       "   num_pages publication_date  publisher_id  \n",
       "0        594       2005-11-01            93  \n",
       "1        992       2003-05-22           336  \n",
       "2        322       2010-12-21           135  \n",
       "3        541       2006-10-10           309  \n",
       "4        386       2006-07-04           268  "
      ]
     },
     "execution_count": 3,
     "metadata": {},
     "output_type": "execute_result"
    }
   ],
   "source": [
    "query_book = '''\n",
    "select *\n",
    "from books\n",
    "limit 5\n",
    "'''\n",
    "\n",
    "get_sql_query_data(query_book)"
   ]
  },
  {
   "cell_type": "code",
   "execution_count": 4,
   "metadata": {},
   "outputs": [
    {
     "data": {
      "text/html": [
       "<div>\n",
       "<style scoped>\n",
       "    .dataframe tbody tr th:only-of-type {\n",
       "        vertical-align: middle;\n",
       "    }\n",
       "\n",
       "    .dataframe tbody tr th {\n",
       "        vertical-align: top;\n",
       "    }\n",
       "\n",
       "    .dataframe thead th {\n",
       "        text-align: right;\n",
       "    }\n",
       "</style>\n",
       "<table border=\"1\" class=\"dataframe\">\n",
       "  <thead>\n",
       "    <tr style=\"text-align: right;\">\n",
       "      <th></th>\n",
       "      <th>min_date_publicated</th>\n",
       "      <th>max_date_publicated</th>\n",
       "    </tr>\n",
       "  </thead>\n",
       "  <tbody>\n",
       "    <tr>\n",
       "      <th>0</th>\n",
       "      <td>1952-12-01</td>\n",
       "      <td>2020-03-31</td>\n",
       "    </tr>\n",
       "  </tbody>\n",
       "</table>\n",
       "</div>"
      ],
      "text/plain": [
       "  min_date_publicated max_date_publicated\n",
       "0          1952-12-01          2020-03-31"
      ]
     },
     "execution_count": 4,
     "metadata": {},
     "output_type": "execute_result"
    }
   ],
   "source": [
    "query_dates = '''\n",
    "select \n",
    "    min(publication_date) as min_date_publicated\n",
    "    ,max(publication_date) as max_date_publicated\n",
    "from books\n",
    "'''\n",
    "\n",
    "get_sql_query_data(query_dates)"
   ]
  },
  {
   "cell_type": "markdown",
   "metadata": {},
   "source": [
    "Как можно заметить, подключение к базе данных выше сработало успешно\n",
    "\n",
    "Итак, можно заметить, что таблица book содержит:\n",
    "1. book_id - ID книги\n",
    "2. author_id - ID автора\n",
    "3. title - наименование книги\n",
    "4. num_pages - количество страниц в книге\n",
    "5. publication_date - дата когда книга была опубликована\n",
    "6. publisher_id - ID издателя\n",
    "\n",
    "В базе хранятся информация о книгах выпущенных с 1 декабря 1952 года по 31 марта 2020 года"
   ]
  },
  {
   "cell_type": "markdown",
   "metadata": {},
   "source": [
    "Просмотрим что содержится в таблице authors. Также выведем первые 5 строк:"
   ]
  },
  {
   "cell_type": "code",
   "execution_count": 5,
   "metadata": {},
   "outputs": [
    {
     "data": {
      "text/html": [
       "<div>\n",
       "<style scoped>\n",
       "    .dataframe tbody tr th:only-of-type {\n",
       "        vertical-align: middle;\n",
       "    }\n",
       "\n",
       "    .dataframe tbody tr th {\n",
       "        vertical-align: top;\n",
       "    }\n",
       "\n",
       "    .dataframe thead th {\n",
       "        text-align: right;\n",
       "    }\n",
       "</style>\n",
       "<table border=\"1\" class=\"dataframe\">\n",
       "  <thead>\n",
       "    <tr style=\"text-align: right;\">\n",
       "      <th></th>\n",
       "      <th>author_id</th>\n",
       "      <th>author</th>\n",
       "    </tr>\n",
       "  </thead>\n",
       "  <tbody>\n",
       "    <tr>\n",
       "      <th>0</th>\n",
       "      <td>1</td>\n",
       "      <td>A.S. Byatt</td>\n",
       "    </tr>\n",
       "    <tr>\n",
       "      <th>1</th>\n",
       "      <td>2</td>\n",
       "      <td>Aesop/Laura Harris/Laura Gibbs</td>\n",
       "    </tr>\n",
       "    <tr>\n",
       "      <th>2</th>\n",
       "      <td>3</td>\n",
       "      <td>Agatha Christie</td>\n",
       "    </tr>\n",
       "    <tr>\n",
       "      <th>3</th>\n",
       "      <td>4</td>\n",
       "      <td>Alan Brennert</td>\n",
       "    </tr>\n",
       "    <tr>\n",
       "      <th>4</th>\n",
       "      <td>5</td>\n",
       "      <td>Alan Moore/David   Lloyd</td>\n",
       "    </tr>\n",
       "  </tbody>\n",
       "</table>\n",
       "</div>"
      ],
      "text/plain": [
       "   author_id                          author\n",
       "0          1                      A.S. Byatt\n",
       "1          2  Aesop/Laura Harris/Laura Gibbs\n",
       "2          3                 Agatha Christie\n",
       "3          4                   Alan Brennert\n",
       "4          5        Alan Moore/David   Lloyd"
      ]
     },
     "execution_count": 5,
     "metadata": {},
     "output_type": "execute_result"
    }
   ],
   "source": [
    "query_authors = '''\n",
    "select *\n",
    "from authors\n",
    "limit 5\n",
    "'''\n",
    "get_sql_query_data(query_authors)"
   ]
  },
  {
   "cell_type": "markdown",
   "metadata": {},
   "source": [
    "Как можно заметить, таблица содержит информацию об авторе, а именно: \n",
    "1. author_id - ID автора\n",
    "2. author - Имя автора/авторов"
   ]
  },
  {
   "cell_type": "markdown",
   "metadata": {},
   "source": [
    "Изучим таблицу publishers:"
   ]
  },
  {
   "cell_type": "code",
   "execution_count": 6,
   "metadata": {},
   "outputs": [
    {
     "data": {
      "text/html": [
       "<div>\n",
       "<style scoped>\n",
       "    .dataframe tbody tr th:only-of-type {\n",
       "        vertical-align: middle;\n",
       "    }\n",
       "\n",
       "    .dataframe tbody tr th {\n",
       "        vertical-align: top;\n",
       "    }\n",
       "\n",
       "    .dataframe thead th {\n",
       "        text-align: right;\n",
       "    }\n",
       "</style>\n",
       "<table border=\"1\" class=\"dataframe\">\n",
       "  <thead>\n",
       "    <tr style=\"text-align: right;\">\n",
       "      <th></th>\n",
       "      <th>publisher_id</th>\n",
       "      <th>publisher</th>\n",
       "    </tr>\n",
       "  </thead>\n",
       "  <tbody>\n",
       "    <tr>\n",
       "      <th>0</th>\n",
       "      <td>1</td>\n",
       "      <td>Ace</td>\n",
       "    </tr>\n",
       "    <tr>\n",
       "      <th>1</th>\n",
       "      <td>2</td>\n",
       "      <td>Ace Book</td>\n",
       "    </tr>\n",
       "    <tr>\n",
       "      <th>2</th>\n",
       "      <td>3</td>\n",
       "      <td>Ace Books</td>\n",
       "    </tr>\n",
       "    <tr>\n",
       "      <th>3</th>\n",
       "      <td>4</td>\n",
       "      <td>Ace Hardcover</td>\n",
       "    </tr>\n",
       "    <tr>\n",
       "      <th>4</th>\n",
       "      <td>5</td>\n",
       "      <td>Addison Wesley Publishing Company</td>\n",
       "    </tr>\n",
       "  </tbody>\n",
       "</table>\n",
       "</div>"
      ],
      "text/plain": [
       "   publisher_id                          publisher\n",
       "0             1                                Ace\n",
       "1             2                           Ace Book\n",
       "2             3                          Ace Books\n",
       "3             4                      Ace Hardcover\n",
       "4             5  Addison Wesley Publishing Company"
      ]
     },
     "execution_count": 6,
     "metadata": {},
     "output_type": "execute_result"
    }
   ],
   "source": [
    "query_publishers = '''\n",
    "select *\n",
    "from publishers\n",
    "limit 5\n",
    "'''\n",
    "\n",
    "get_sql_query_data(query_publishers)"
   ]
  },
  {
   "cell_type": "markdown",
   "metadata": {},
   "source": [
    "Как можно заметить, таблица содержит информацию об издательствах, а именно:\n",
    "1. publisher_id - ID издетельства\n",
    "2. publisher - Наименование издательства"
   ]
  },
  {
   "cell_type": "markdown",
   "metadata": {},
   "source": [
    "Изучим таблицу ratings:"
   ]
  },
  {
   "cell_type": "code",
   "execution_count": 7,
   "metadata": {},
   "outputs": [
    {
     "data": {
      "text/html": [
       "<div>\n",
       "<style scoped>\n",
       "    .dataframe tbody tr th:only-of-type {\n",
       "        vertical-align: middle;\n",
       "    }\n",
       "\n",
       "    .dataframe tbody tr th {\n",
       "        vertical-align: top;\n",
       "    }\n",
       "\n",
       "    .dataframe thead th {\n",
       "        text-align: right;\n",
       "    }\n",
       "</style>\n",
       "<table border=\"1\" class=\"dataframe\">\n",
       "  <thead>\n",
       "    <tr style=\"text-align: right;\">\n",
       "      <th></th>\n",
       "      <th>rating_id</th>\n",
       "      <th>book_id</th>\n",
       "      <th>username</th>\n",
       "      <th>rating</th>\n",
       "    </tr>\n",
       "  </thead>\n",
       "  <tbody>\n",
       "    <tr>\n",
       "      <th>0</th>\n",
       "      <td>1</td>\n",
       "      <td>1</td>\n",
       "      <td>ryanfranco</td>\n",
       "      <td>4</td>\n",
       "    </tr>\n",
       "    <tr>\n",
       "      <th>1</th>\n",
       "      <td>2</td>\n",
       "      <td>1</td>\n",
       "      <td>grantpatricia</td>\n",
       "      <td>2</td>\n",
       "    </tr>\n",
       "    <tr>\n",
       "      <th>2</th>\n",
       "      <td>3</td>\n",
       "      <td>1</td>\n",
       "      <td>brandtandrea</td>\n",
       "      <td>5</td>\n",
       "    </tr>\n",
       "    <tr>\n",
       "      <th>3</th>\n",
       "      <td>4</td>\n",
       "      <td>2</td>\n",
       "      <td>lorichen</td>\n",
       "      <td>3</td>\n",
       "    </tr>\n",
       "    <tr>\n",
       "      <th>4</th>\n",
       "      <td>5</td>\n",
       "      <td>2</td>\n",
       "      <td>mariokeller</td>\n",
       "      <td>2</td>\n",
       "    </tr>\n",
       "  </tbody>\n",
       "</table>\n",
       "</div>"
      ],
      "text/plain": [
       "   rating_id  book_id       username  rating\n",
       "0          1        1     ryanfranco       4\n",
       "1          2        1  grantpatricia       2\n",
       "2          3        1   brandtandrea       5\n",
       "3          4        2       lorichen       3\n",
       "4          5        2    mariokeller       2"
      ]
     },
     "execution_count": 7,
     "metadata": {},
     "output_type": "execute_result"
    }
   ],
   "source": [
    "query_ratings = '''\n",
    "select *\n",
    "from ratings\n",
    "limit 5\n",
    "'''\n",
    "\n",
    "get_sql_query_data(query_ratings)"
   ]
  },
  {
   "cell_type": "code",
   "execution_count": 8,
   "metadata": {},
   "outputs": [
    {
     "data": {
      "text/html": [
       "<div>\n",
       "<style scoped>\n",
       "    .dataframe tbody tr th:only-of-type {\n",
       "        vertical-align: middle;\n",
       "    }\n",
       "\n",
       "    .dataframe tbody tr th {\n",
       "        vertical-align: top;\n",
       "    }\n",
       "\n",
       "    .dataframe thead th {\n",
       "        text-align: right;\n",
       "    }\n",
       "</style>\n",
       "<table border=\"1\" class=\"dataframe\">\n",
       "  <thead>\n",
       "    <tr style=\"text-align: right;\">\n",
       "      <th></th>\n",
       "      <th>points</th>\n",
       "    </tr>\n",
       "  </thead>\n",
       "  <tbody>\n",
       "    <tr>\n",
       "      <th>0</th>\n",
       "      <td>1</td>\n",
       "    </tr>\n",
       "    <tr>\n",
       "      <th>1</th>\n",
       "      <td>2</td>\n",
       "    </tr>\n",
       "    <tr>\n",
       "      <th>2</th>\n",
       "      <td>3</td>\n",
       "    </tr>\n",
       "    <tr>\n",
       "      <th>3</th>\n",
       "      <td>4</td>\n",
       "    </tr>\n",
       "    <tr>\n",
       "      <th>4</th>\n",
       "      <td>5</td>\n",
       "    </tr>\n",
       "  </tbody>\n",
       "</table>\n",
       "</div>"
      ],
      "text/plain": [
       "   points\n",
       "0       1\n",
       "1       2\n",
       "2       3\n",
       "3       4\n",
       "4       5"
      ]
     },
     "execution_count": 8,
     "metadata": {},
     "output_type": "execute_result"
    }
   ],
   "source": [
    "query_rat = '''\n",
    "select \n",
    "    distinct(rating) as points\n",
    "from ratings\n",
    "order by points\n",
    "'''\n",
    "\n",
    "get_sql_query_data(query_rat)"
   ]
  },
  {
   "cell_type": "markdown",
   "metadata": {},
   "source": [
    "Как можно увидеть таблица содерижит информацию как пользователь оценил ту или иную книгу. Можно увидеть что таблица содержит колонки:\n",
    "1. rating_id - ID рейтинга\n",
    "2. book_id - ID книги\n",
    "3. username - Имя пользователя\n",
    "4. rating - оценка, которую поставил пользователь (стоит отметить, что пользовательская оценка может варьировать от 1 до 5 баллов, судя по информации, выведенной выше)"
   ]
  },
  {
   "cell_type": "markdown",
   "metadata": {},
   "source": [
    "Изучим последнюю таблицу reviews:"
   ]
  },
  {
   "cell_type": "code",
   "execution_count": 9,
   "metadata": {},
   "outputs": [
    {
     "data": {
      "text/html": [
       "<div>\n",
       "<style scoped>\n",
       "    .dataframe tbody tr th:only-of-type {\n",
       "        vertical-align: middle;\n",
       "    }\n",
       "\n",
       "    .dataframe tbody tr th {\n",
       "        vertical-align: top;\n",
       "    }\n",
       "\n",
       "    .dataframe thead th {\n",
       "        text-align: right;\n",
       "    }\n",
       "</style>\n",
       "<table border=\"1\" class=\"dataframe\">\n",
       "  <thead>\n",
       "    <tr style=\"text-align: right;\">\n",
       "      <th></th>\n",
       "      <th>review_id</th>\n",
       "      <th>book_id</th>\n",
       "      <th>username</th>\n",
       "      <th>text</th>\n",
       "    </tr>\n",
       "  </thead>\n",
       "  <tbody>\n",
       "    <tr>\n",
       "      <th>0</th>\n",
       "      <td>1</td>\n",
       "      <td>1</td>\n",
       "      <td>brandtandrea</td>\n",
       "      <td>Mention society tell send professor analysis. ...</td>\n",
       "    </tr>\n",
       "    <tr>\n",
       "      <th>1</th>\n",
       "      <td>2</td>\n",
       "      <td>1</td>\n",
       "      <td>ryanfranco</td>\n",
       "      <td>Foot glass pretty audience hit themselves. Amo...</td>\n",
       "    </tr>\n",
       "    <tr>\n",
       "      <th>2</th>\n",
       "      <td>3</td>\n",
       "      <td>2</td>\n",
       "      <td>lorichen</td>\n",
       "      <td>Listen treat keep worry. Miss husband tax but ...</td>\n",
       "    </tr>\n",
       "    <tr>\n",
       "      <th>3</th>\n",
       "      <td>4</td>\n",
       "      <td>3</td>\n",
       "      <td>johnsonamanda</td>\n",
       "      <td>Finally month interesting blue could nature cu...</td>\n",
       "    </tr>\n",
       "    <tr>\n",
       "      <th>4</th>\n",
       "      <td>5</td>\n",
       "      <td>3</td>\n",
       "      <td>scotttamara</td>\n",
       "      <td>Nation purpose heavy give wait song will. List...</td>\n",
       "    </tr>\n",
       "  </tbody>\n",
       "</table>\n",
       "</div>"
      ],
      "text/plain": [
       "   review_id  book_id       username  \\\n",
       "0          1        1   brandtandrea   \n",
       "1          2        1     ryanfranco   \n",
       "2          3        2       lorichen   \n",
       "3          4        3  johnsonamanda   \n",
       "4          5        3    scotttamara   \n",
       "\n",
       "                                                text  \n",
       "0  Mention society tell send professor analysis. ...  \n",
       "1  Foot glass pretty audience hit themselves. Amo...  \n",
       "2  Listen treat keep worry. Miss husband tax but ...  \n",
       "3  Finally month interesting blue could nature cu...  \n",
       "4  Nation purpose heavy give wait song will. List...  "
      ]
     },
     "execution_count": 9,
     "metadata": {},
     "output_type": "execute_result"
    }
   ],
   "source": [
    "query_reviews = '''\n",
    "select *\n",
    "from reviews\n",
    "limit 5\n",
    "'''\n",
    "\n",
    "get_sql_query_data(query_reviews)"
   ]
  },
  {
   "cell_type": "markdown",
   "metadata": {},
   "source": [
    "Судя по всему, данная таблица содержит информацию о пользовательских обзорах на книгу. А именно, в таблице содержаться такие колонки как:\n",
    "1. review_id - ID обзора\n",
    "2. book_id - ID книги\n",
    "3. username - Имя пользователя\n",
    "4. text - Текст обзора"
   ]
  },
  {
   "cell_type": "markdown",
   "metadata": {},
   "source": [
    "### Промежуточный вывод по шагу 1:\n",
    "В результате проделанной работы на шаге 1, удалось подключиться к предоставляемой базе и выявить, что:\n",
    "1. База данных, хранит в себе 5 таблиц: books - информация о книге, authors - содержит информацию об авторах, publishers - содержит информацию об издательствах, ratings - содержит информацию об оценке, которую выставил пользователь книге, reviews - содержит информацию о пользовательских обзорах на книги.\n",
    "2. Пользователь может проставить оценку только по 5-бальной системе баллов\n",
    "3. В базе хранится информация по книгам, выпущенным с 1 декабря 1952 года по 31 марта 2020 года"
   ]
  },
  {
   "cell_type": "markdown",
   "metadata": {},
   "source": [
    "## 2. Анализ данных"
   ]
  },
  {
   "cell_type": "markdown",
   "metadata": {},
   "source": [
    "Посчитайте, сколько книг вышло после 1 января 2000 года;"
   ]
  },
  {
   "cell_type": "code",
   "execution_count": 10,
   "metadata": {},
   "outputs": [
    {
     "data": {
      "text/html": [
       "<div>\n",
       "<style scoped>\n",
       "    .dataframe tbody tr th:only-of-type {\n",
       "        vertical-align: middle;\n",
       "    }\n",
       "\n",
       "    .dataframe tbody tr th {\n",
       "        vertical-align: top;\n",
       "    }\n",
       "\n",
       "    .dataframe thead th {\n",
       "        text-align: right;\n",
       "    }\n",
       "</style>\n",
       "<table border=\"1\" class=\"dataframe\">\n",
       "  <thead>\n",
       "    <tr style=\"text-align: right;\">\n",
       "      <th></th>\n",
       "      <th>count_books</th>\n",
       "    </tr>\n",
       "  </thead>\n",
       "  <tbody>\n",
       "    <tr>\n",
       "      <th>0</th>\n",
       "      <td>819</td>\n",
       "    </tr>\n",
       "  </tbody>\n",
       "</table>\n",
       "</div>"
      ],
      "text/plain": [
       "   count_books\n",
       "0          819"
      ]
     },
     "execution_count": 10,
     "metadata": {},
     "output_type": "execute_result"
    }
   ],
   "source": [
    "query_task_1 = '''\n",
    "select \n",
    "    count(distinct(book_id)) as count_books\n",
    "from books\n",
    "where publication_date > '2000-01-01'\n",
    "'''\n",
    "\n",
    "get_sql_query_data(query_task_1)"
   ]
  },
  {
   "cell_type": "markdown",
   "metadata": {},
   "source": [
    "С 1 января 2000 года по 31 марта 2020 года (так как выше было выявлено что это максимальная дата публикации книги) было выпущено порядка 819 книг. Это достаточно малое количество выпущенных книг за 20 лет (можно считать что выпускалось порядка 40 книг в год). Считаю, что нужно увеличить данных показатель для того чтобы привлечь клиентов от конкурентов, которые выпускают современные бестселлеры"
   ]
  },
  {
   "cell_type": "markdown",
   "metadata": {},
   "source": [
    "Для каждой книги посчитайте количество обзоров и среднюю оценку;"
   ]
  },
  {
   "cell_type": "code",
   "execution_count": 11,
   "metadata": {},
   "outputs": [
    {
     "data": {
      "text/html": [
       "<div>\n",
       "<style scoped>\n",
       "    .dataframe tbody tr th:only-of-type {\n",
       "        vertical-align: middle;\n",
       "    }\n",
       "\n",
       "    .dataframe tbody tr th {\n",
       "        vertical-align: top;\n",
       "    }\n",
       "\n",
       "    .dataframe thead th {\n",
       "        text-align: right;\n",
       "    }\n",
       "</style>\n",
       "<table border=\"1\" class=\"dataframe\">\n",
       "  <thead>\n",
       "    <tr style=\"text-align: right;\">\n",
       "      <th></th>\n",
       "      <th>title</th>\n",
       "      <th>count_otz</th>\n",
       "      <th>avg_raitings</th>\n",
       "    </tr>\n",
       "  </thead>\n",
       "  <tbody>\n",
       "    <tr>\n",
       "      <th>0</th>\n",
       "      <td>The Natural Way to Draw</td>\n",
       "      <td>NaN</td>\n",
       "      <td>3.000</td>\n",
       "    </tr>\n",
       "    <tr>\n",
       "      <th>1</th>\n",
       "      <td>Disney's Beauty and the Beast (A Little Golden...</td>\n",
       "      <td>NaN</td>\n",
       "      <td>4.000</td>\n",
       "    </tr>\n",
       "    <tr>\n",
       "      <th>2</th>\n",
       "      <td>Essential Tales and Poems</td>\n",
       "      <td>NaN</td>\n",
       "      <td>4.000</td>\n",
       "    </tr>\n",
       "    <tr>\n",
       "      <th>3</th>\n",
       "      <td>Anne Rice's The Vampire Lestat: A Graphic Novel</td>\n",
       "      <td>NaN</td>\n",
       "      <td>3.667</td>\n",
       "    </tr>\n",
       "    <tr>\n",
       "      <th>4</th>\n",
       "      <td>Leonardo's Notebooks</td>\n",
       "      <td>NaN</td>\n",
       "      <td>4.000</td>\n",
       "    </tr>\n",
       "    <tr>\n",
       "      <th>...</th>\n",
       "      <td>...</td>\n",
       "      <td>...</td>\n",
       "      <td>...</td>\n",
       "    </tr>\n",
       "    <tr>\n",
       "      <th>995</th>\n",
       "      <td>Stone of Farewell (Memory  Sorrow  and Thorn  #2)</td>\n",
       "      <td>1.0</td>\n",
       "      <td>5.000</td>\n",
       "    </tr>\n",
       "    <tr>\n",
       "      <th>996</th>\n",
       "      <td>Debt of Honor (Jack Ryan  #7)</td>\n",
       "      <td>1.0</td>\n",
       "      <td>3.000</td>\n",
       "    </tr>\n",
       "    <tr>\n",
       "      <th>997</th>\n",
       "      <td>Color: A Natural History of the Palette</td>\n",
       "      <td>1.0</td>\n",
       "      <td>4.333</td>\n",
       "    </tr>\n",
       "    <tr>\n",
       "      <th>998</th>\n",
       "      <td>Winter Prey (Lucas Davenport  #5)</td>\n",
       "      <td>1.0</td>\n",
       "      <td>4.500</td>\n",
       "    </tr>\n",
       "    <tr>\n",
       "      <th>999</th>\n",
       "      <td>The Iliad/The Odyssey</td>\n",
       "      <td>1.0</td>\n",
       "      <td>4.000</td>\n",
       "    </tr>\n",
       "  </tbody>\n",
       "</table>\n",
       "<p>1000 rows × 3 columns</p>\n",
       "</div>"
      ],
      "text/plain": [
       "                                                 title  count_otz  \\\n",
       "0                              The Natural Way to Draw        NaN   \n",
       "1    Disney's Beauty and the Beast (A Little Golden...        NaN   \n",
       "2                            Essential Tales and Poems        NaN   \n",
       "3      Anne Rice's The Vampire Lestat: A Graphic Novel        NaN   \n",
       "4                                 Leonardo's Notebooks        NaN   \n",
       "..                                                 ...        ...   \n",
       "995  Stone of Farewell (Memory  Sorrow  and Thorn  #2)        1.0   \n",
       "996                      Debt of Honor (Jack Ryan  #7)        1.0   \n",
       "997            Color: A Natural History of the Palette        1.0   \n",
       "998                  Winter Prey (Lucas Davenport  #5)        1.0   \n",
       "999                              The Iliad/The Odyssey        1.0   \n",
       "\n",
       "     avg_raitings  \n",
       "0           3.000  \n",
       "1           4.000  \n",
       "2           4.000  \n",
       "3           3.667  \n",
       "4           4.000  \n",
       "..            ...  \n",
       "995         5.000  \n",
       "996         3.000  \n",
       "997         4.333  \n",
       "998         4.500  \n",
       "999         4.000  \n",
       "\n",
       "[1000 rows x 3 columns]"
      ]
     },
     "execution_count": 11,
     "metadata": {},
     "output_type": "execute_result"
    }
   ],
   "source": [
    "query_task2 = '''\n",
    "select \n",
    "        bk.title\n",
    "        ,brew.count_otz\n",
    "        ,br.avg_raitings\n",
    "from books as bk\n",
    "left join (select \n",
    "                    book_id\n",
    "                    ,round(avg(rating), 3) as avg_raitings\n",
    "            from ratings\n",
    "            group by book_id\n",
    "            ) as br on br.book_id = bk.book_id\n",
    "left join (select \n",
    "                    book_id\n",
    "                    ,count(text) as count_otz\n",
    "            from reviews\n",
    "            group by book_id\n",
    "            ) brew on brew.book_id = bk.book_id\n",
    "order by brew.count_otz desc\n",
    "'''\n",
    "\n",
    "get_sql_query_data(query_task2)"
   ]
  },
  {
   "cell_type": "markdown",
   "metadata": {},
   "source": [
    "Судя по полученным данным, не все пользователи сопровождают оценку книги отзывов. Однако если рассматривать книги, у которых есть и отзывы и оценки, лидируют по количеству отзывов книга сумерки. Однако большое количество отзывов не гарантируют высокий показатель средней пользовательской оценки. \n",
    "\n",
    "Если судить по жанру, то можно сказать что в топ-20 преобладает фентэзи/фантастика. Судя по всему карантин сказался на предпочтениях пользователей, которые в такой сложный период хотели бы сбежать в новый необычный мир. Считаю, что следует выпускать больше книг таких жанров и впредь. Также могу порекомендовать добавить книги научного жанра, а также книги по саморазвитию (т.к. сейчас период карантина, люди могут захотеть начать саморазвиваться)"
   ]
  },
  {
   "cell_type": "markdown",
   "metadata": {},
   "source": [
    "Определите издательство, которое выпустило наибольшее число книг толще 50 страниц — так вы исключите из анализа брошюры;"
   ]
  },
  {
   "cell_type": "code",
   "execution_count": 12,
   "metadata": {},
   "outputs": [
    {
     "data": {
      "text/html": [
       "<div>\n",
       "<style scoped>\n",
       "    .dataframe tbody tr th:only-of-type {\n",
       "        vertical-align: middle;\n",
       "    }\n",
       "\n",
       "    .dataframe tbody tr th {\n",
       "        vertical-align: top;\n",
       "    }\n",
       "\n",
       "    .dataframe thead th {\n",
       "        text-align: right;\n",
       "    }\n",
       "</style>\n",
       "<table border=\"1\" class=\"dataframe\">\n",
       "  <thead>\n",
       "    <tr style=\"text-align: right;\">\n",
       "      <th></th>\n",
       "      <th>publisher</th>\n",
       "      <th>count_books</th>\n",
       "    </tr>\n",
       "  </thead>\n",
       "  <tbody>\n",
       "    <tr>\n",
       "      <th>0</th>\n",
       "      <td>Penguin Books</td>\n",
       "      <td>42</td>\n",
       "    </tr>\n",
       "  </tbody>\n",
       "</table>\n",
       "</div>"
      ],
      "text/plain": [
       "       publisher  count_books\n",
       "0  Penguin Books           42"
      ]
     },
     "execution_count": 12,
     "metadata": {},
     "output_type": "execute_result"
    }
   ],
   "source": [
    "query_task3 = '''\n",
    "select \n",
    "        p.publisher\n",
    "        ,cb.count_books\n",
    "from publishers as p\n",
    "inner join (select \n",
    "                    publisher_id\n",
    "                    ,count(distinct(book_id)) as count_books\n",
    "            from books\n",
    "            where num_pages >50\n",
    "            group by publisher_id\n",
    "        ) as cb on cb.publisher_id = p.publisher_id\n",
    "order by cb.count_books desc\n",
    "limit 1\n",
    "'''\n",
    "\n",
    "get_sql_query_data(query_task3)"
   ]
  },
  {
   "cell_type": "markdown",
   "metadata": {},
   "source": [
    "Издательство, которое выпустило самое наибольшее количество книг (у которых страниц было больше 50) стало Penguin Books, выпустившее 42 книги"
   ]
  },
  {
   "cell_type": "markdown",
   "metadata": {},
   "source": [
    "Определите автора с самой высокой средней оценкой книг — учитывайте только книги с 50 и более оценками"
   ]
  },
  {
   "cell_type": "code",
   "execution_count": 13,
   "metadata": {},
   "outputs": [
    {
     "data": {
      "text/html": [
       "<div>\n",
       "<style scoped>\n",
       "    .dataframe tbody tr th:only-of-type {\n",
       "        vertical-align: middle;\n",
       "    }\n",
       "\n",
       "    .dataframe tbody tr th {\n",
       "        vertical-align: top;\n",
       "    }\n",
       "\n",
       "    .dataframe thead th {\n",
       "        text-align: right;\n",
       "    }\n",
       "</style>\n",
       "<table border=\"1\" class=\"dataframe\">\n",
       "  <thead>\n",
       "    <tr style=\"text-align: right;\">\n",
       "      <th></th>\n",
       "      <th>author</th>\n",
       "      <th>rating</th>\n",
       "    </tr>\n",
       "  </thead>\n",
       "  <tbody>\n",
       "    <tr>\n",
       "      <th>0</th>\n",
       "      <td>J.K. Rowling/Mary GrandPré</td>\n",
       "      <td>4.28</td>\n",
       "    </tr>\n",
       "  </tbody>\n",
       "</table>\n",
       "</div>"
      ],
      "text/plain": [
       "                       author  rating\n",
       "0  J.K. Rowling/Mary GrandPré    4.28"
      ]
     },
     "execution_count": 13,
     "metadata": {},
     "output_type": "execute_result"
    }
   ],
   "source": [
    "query_task4 = '''\n",
    "select \n",
    "        au.author\n",
    "        ,round(avg(br.avg_rating), 2) as rating\n",
    "from books as bk\n",
    "inner join (select \n",
    "                    book_id\n",
    "                    ,avg(rating) as avg_rating\n",
    "            from ratings\n",
    "            group by book_id\n",
    "            having count(rating)>=50\n",
    "            ) as br on br.book_id = bk.book_id\n",
    "inner join authors as au on au.author_id = bk.author_id\n",
    "group by au.author\n",
    "order by rating desc\n",
    "limit 1\n",
    "'''\n",
    "\n",
    "get_sql_query_data(query_task4)"
   ]
  },
  {
   "cell_type": "markdown",
   "metadata": {},
   "source": [
    "Самый популярный и обсуждаемый автор - Дж.Роулинг, которая написала серию книг о Гарри Поттере. У нее самая высокая средняя оценка равная 4.28. Считаю, что нужно и дальше добавлять книги данного автора, поскольку ее книги также и входят в топ-20 самых оцениваемых книг"
   ]
  },
  {
   "cell_type": "markdown",
   "metadata": {},
   "source": [
    "Посчитайте среднее количество обзоров от пользователей, которые поставили больше 48 оценок."
   ]
  },
  {
   "cell_type": "code",
   "execution_count": 14,
   "metadata": {},
   "outputs": [
    {
     "data": {
      "text/html": [
       "<div>\n",
       "<style scoped>\n",
       "    .dataframe tbody tr th:only-of-type {\n",
       "        vertical-align: middle;\n",
       "    }\n",
       "\n",
       "    .dataframe tbody tr th {\n",
       "        vertical-align: top;\n",
       "    }\n",
       "\n",
       "    .dataframe thead th {\n",
       "        text-align: right;\n",
       "    }\n",
       "</style>\n",
       "<table border=\"1\" class=\"dataframe\">\n",
       "  <thead>\n",
       "    <tr style=\"text-align: right;\">\n",
       "      <th></th>\n",
       "      <th>avg_rev</th>\n",
       "    </tr>\n",
       "  </thead>\n",
       "  <tbody>\n",
       "    <tr>\n",
       "      <th>0</th>\n",
       "      <td>24.0</td>\n",
       "    </tr>\n",
       "  </tbody>\n",
       "</table>\n",
       "</div>"
      ],
      "text/plain": [
       "   avg_rev\n",
       "0     24.0"
      ]
     },
     "execution_count": 14,
     "metadata": {},
     "output_type": "execute_result"
    }
   ],
   "source": [
    "query_task5 = '''\n",
    "with users AS (\n",
    "    select \n",
    "        username\n",
    "        ,count(text) AS count_rev\n",
    "    from \n",
    "        reviews\n",
    "    where \n",
    "        username in (\n",
    "                    select\n",
    "                        username\n",
    "                    from ratings\n",
    "                    group by username\n",
    "                    having count(rating) > 48\n",
    "        )\n",
    "    group by username\n",
    ")\n",
    "\n",
    "select\n",
    "    round(avg(count_rev), 2) AS avg_rev\n",
    "from users;\n",
    "'''\n",
    "\n",
    "get_sql_query_data(query_task5)"
   ]
  },
  {
   "cell_type": "markdown",
   "metadata": {},
   "source": [
    "Среди пользователей, которые поставили более 48 оценок, среднее количество написанных обзоров составляет 24, что является достаточно малым показателем. Считаю, что внедрение системы поощрения за обзоры может стимулировать пользователей к активному обмену рецензиями, что в свою очередь обогатит опыт чтения и поможет другим пользователям выбирать более интересные книги"
   ]
  },
  {
   "cell_type": "markdown",
   "metadata": {},
   "source": [
    "### Промежуточные выводы по шагу 2\n",
    "1. С 1 января 2000 года по 31 марта 2020 года (так как выше было выявлено что это максимальная дата публикации книги) было выпущено порядка 819 книг. Это достаточно малое количество выпущенных книг за 20 лет (можно считать что выпускалось порядка 40 книг в год). Считаю, что нужно увеличить данных показатель для того чтобы привлечь клиентов от конкурентов, которые выпускают современные бестселлеры\n",
    "2. Судя по полученным данным, не все пользователи сопровождают оценку книги отзывов. Однако если рассматривать книги, у которых есть и отзывы и оценки, лидируют по количеству отзывов книга сумерки. Однако большое количество отзывов не гарантируют высокий показатель средней пользовательской оценки.  \n",
    "3. Если судить по жанру, то можно сказать что в топ-20 преобладает фентэзи/фантастика. Судя по всему карантин сказался на предпочтениях пользователей, которые в такой сложный период хотели бы сбежать в новый необычный мир. Считаю, что следует выпускать больше книг таких жанров и впредь. Также могу порекомендовать добавить книги научного жанра, а также книги по саморазвитию (т.к. сейчас период карантина, люди могут захотеть начать саморазвиваться)\n",
    "4. Издательство, которое выпустило самое наибольшее количество книг (у которых страниц было больше 50) стало Penguin Books, выпустившее 42 книги\n",
    "5. Самый популярный и обсуждаемый автор - Дж.Роулинг, которая написала серию книг о Гарри Поттере. У нее самая высокая средняя оценка равная 4.28. Считаю, что нужно и дальше добавлять книги данного автора, поскольку ее книги также и входят в топ-20 самых оцениваемых книг\n",
    "6. Среди пользователей, которые поставили более 48 оценок, среднее количество написанных обзоров составляет 24, что является достаточно малым показателем. Считаю, что внедрение системы поощрения за обзоры может стимулировать пользователей к активному обмену рецензиями, что в свою очередь обогатит опыт чтения и поможет другим пользователям выбирать более интересные книги"
   ]
  },
  {
   "cell_type": "markdown",
   "metadata": {},
   "source": [
    "## Общий вывод:\n",
    "Мы являемся крупной компанией, которая на фоне новых тендеций возникших в мире на волне коронавируса, решила приобрести крупный сервис для чтения книг по подписке. Нам предоставлена база данных, которая содержит информацию о книгах, издательствах, авторах, а также пользовательские обзоры книг. Целью исследования является анализ данных, который поможет сформулировать ценностное предложение для нового продукта\n",
    "\n",
    "В результате проделанной работы на шаге 1, удалось подключиться к предоставляемой базе и выявить, что:\n",
    "1. База данных, хранит в себе 5 таблиц: books - информация о книге, authors - содержит информацию об авторах, publishers - содержит информацию об издательствах, ratings - содержит информацию об оценке, которую выставил пользователь книге, reviews - содержит информацию о пользовательских обзорах на книги.\n",
    "2. Пользователь может проставить оценку только по 5-бальной системе баллов\n",
    "3. В базе хранится информация по книгам, выпущенным с 1 декабря 1952 года по 31 марта 2020 года\n",
    "\n",
    "В ходе анализа данных было выявлено, что:\n",
    "1. С 1 января 2000 года по 31 марта 2020 года (так как выше было выявлено что это максимальная дата публикации книги) было выпущено порядка 819 книг. Это достаточно малое количество выпущенных книг за 20 лет (можно считать что выпускалось порядка 40 книг в год). Считаю, что нужно увеличить данных показатель для того чтобы привлечь клиентов от конкурентов, которые выпускают современные бестселлеры\n",
    "2. Судя по полученным данным, не все пользователи сопровождают оценку книги отзывов. Однако если рассматривать книги, у которых есть и отзывы и оценки, лидируют по количеству отзывов книга сумерки. Однако большое количество отзывов не гарантируют высокий показатель средней пользовательской оценки. \n",
    "3. Если судить по жанру, то можно сказать что в топ-20 преобладает фентэзи/фантастика. Судя по всему карантин сказался на предпочтениях пользователей, которые в такой сложный период хотели бы сбежать в новый необычный мир. Считаю, что следует выпускать больше книг таких жанров и впредь. Также могу порекомендовать добавить книги научного жанра, а также книги по саморазвитию (т.к. сейчас период карантина, люди могут захотеть начать саморазвиваться)\n",
    "4. Издательство, которое выпустило самое наибольшее количество книг (у которых страниц было больше 50) стало Penguin Books, выпустившее 42 книги\n",
    "5. Самый популярный и обсуждаемый автор - Дж.Роулинг, которая написала серию книг о Гарри Поттере. У нее самая высокая средняя оценка равная 4.28. Считаю, что нужно и дальше добавлять книги данного автора, поскольку ее книги также и входят в топ-20 самых оцениваемых книг\n",
    "6. Среди пользователей, которые поставили более 48 оценок, среднее количество написанных обзоров составляет 24, что является достаточно малым показателем. Считаю, что внедрение системы поощрения за обзоры может стимулировать пользователей к активному обмену рецензиями, что в свою очередь обогатит опыт чтения и поможет другим пользователям выбирать более интересные книги"
   ]
  }
 ],
 "metadata": {
  "ExecuteTimeLog": [
   {
    "duration": 7691,
    "start_time": "2024-05-01T15:28:43.312Z"
   },
   {
    "duration": 59,
    "start_time": "2024-05-01T15:29:17.806Z"
   },
   {
    "duration": 11,
    "start_time": "2024-05-01T15:29:33.895Z"
   },
   {
    "duration": 11,
    "start_time": "2024-05-01T15:30:19.780Z"
   },
   {
    "duration": 11,
    "start_time": "2024-05-01T15:30:53.302Z"
   },
   {
    "duration": 10,
    "start_time": "2024-05-01T15:31:28.702Z"
   },
   {
    "duration": 14,
    "start_time": "2024-05-01T15:31:42.247Z"
   },
   {
    "duration": 12,
    "start_time": "2024-05-01T15:32:38.498Z"
   },
   {
    "duration": 70,
    "start_time": "2024-05-01T15:32:48.400Z"
   },
   {
    "duration": 10,
    "start_time": "2024-05-01T15:34:16.524Z"
   },
   {
    "duration": 19,
    "start_time": "2024-05-01T15:35:18.293Z"
   },
   {
    "duration": 12,
    "start_time": "2024-05-01T15:37:50.648Z"
   },
   {
    "duration": 16,
    "start_time": "2024-05-01T15:38:30.423Z"
   },
   {
    "duration": 14,
    "start_time": "2024-05-01T15:39:13.342Z"
   },
   {
    "duration": 8022,
    "start_time": "2024-05-01T15:40:52.239Z"
   },
   {
    "duration": 40,
    "start_time": "2024-05-01T15:41:00.263Z"
   },
   {
    "duration": 34,
    "start_time": "2024-05-01T15:41:00.305Z"
   },
   {
    "duration": 34,
    "start_time": "2024-05-01T15:41:00.340Z"
   },
   {
    "duration": 47,
    "start_time": "2024-05-01T15:41:00.376Z"
   },
   {
    "duration": 32,
    "start_time": "2024-05-01T15:41:00.425Z"
   },
   {
    "duration": 58,
    "start_time": "2024-05-01T15:41:00.459Z"
   },
   {
    "duration": 61,
    "start_time": "2024-05-01T15:41:00.519Z"
   },
   {
    "duration": 59,
    "start_time": "2024-05-01T15:41:00.581Z"
   },
   {
    "duration": 77,
    "start_time": "2024-05-01T15:41:00.642Z"
   },
   {
    "duration": 88,
    "start_time": "2024-05-01T15:41:00.720Z"
   },
   {
    "duration": 72,
    "start_time": "2024-05-01T15:41:00.810Z"
   },
   {
    "duration": 52,
    "start_time": "2024-05-01T15:41:00.883Z"
   },
   {
    "duration": 9794,
    "start_time": "2024-05-02T04:44:43.256Z"
   },
   {
    "duration": 72,
    "start_time": "2024-05-02T04:44:53.052Z"
   },
   {
    "duration": 11,
    "start_time": "2024-05-02T04:44:53.126Z"
   },
   {
    "duration": 14,
    "start_time": "2024-05-02T04:44:53.138Z"
   },
   {
    "duration": 18,
    "start_time": "2024-05-02T04:44:53.154Z"
   },
   {
    "duration": 30,
    "start_time": "2024-05-02T04:44:53.173Z"
   },
   {
    "duration": 12,
    "start_time": "2024-05-02T04:44:53.204Z"
   },
   {
    "duration": 21,
    "start_time": "2024-05-02T04:44:53.218Z"
   },
   {
    "duration": 21,
    "start_time": "2024-05-02T04:44:53.241Z"
   },
   {
    "duration": 52,
    "start_time": "2024-05-02T04:44:53.263Z"
   },
   {
    "duration": 48,
    "start_time": "2024-05-02T04:44:53.317Z"
   },
   {
    "duration": 46,
    "start_time": "2024-05-02T04:44:53.366Z"
   },
   {
    "duration": 34,
    "start_time": "2024-05-02T04:44:53.414Z"
   },
   {
    "duration": 18,
    "start_time": "2024-05-02T04:45:03.571Z"
   },
   {
    "duration": 497,
    "start_time": "2024-05-02T06:33:52.019Z"
   },
   {
    "duration": 5574,
    "start_time": "2024-05-02T06:33:53.793Z"
   },
   {
    "duration": 254,
    "start_time": "2024-05-02T06:33:59.369Z"
   },
   {
    "duration": 70,
    "start_time": "2024-05-02T06:34:02.619Z"
   },
   {
    "duration": 69,
    "start_time": "2024-05-02T06:34:05.199Z"
   },
   {
    "duration": 70,
    "start_time": "2024-05-02T06:34:07.036Z"
   },
   {
    "duration": 69,
    "start_time": "2024-05-02T06:34:08.739Z"
   },
   {
    "duration": 69,
    "start_time": "2024-05-02T06:34:09.895Z"
   },
   {
    "duration": 71,
    "start_time": "2024-05-02T06:34:12.055Z"
   },
   {
    "duration": 72,
    "start_time": "2024-05-02T06:34:23.301Z"
   },
   {
    "duration": 101,
    "start_time": "2024-05-02T06:35:02.973Z"
   },
   {
    "duration": 70,
    "start_time": "2024-05-02T06:35:47.702Z"
   },
   {
    "duration": 72,
    "start_time": "2024-05-02T06:35:51.945Z"
   },
   {
    "duration": 71,
    "start_time": "2024-05-02T06:35:58.564Z"
   },
   {
    "duration": 546,
    "start_time": "2024-05-02T06:38:07.860Z"
   },
   {
    "duration": 5637,
    "start_time": "2024-05-02T06:38:08.408Z"
   },
   {
    "duration": 247,
    "start_time": "2024-05-02T06:38:14.047Z"
   },
   {
    "duration": 70,
    "start_time": "2024-05-02T06:38:14.296Z"
   },
   {
    "duration": 69,
    "start_time": "2024-05-02T06:38:14.368Z"
   },
   {
    "duration": 70,
    "start_time": "2024-05-02T06:38:14.439Z"
   },
   {
    "duration": 71,
    "start_time": "2024-05-02T06:38:14.511Z"
   },
   {
    "duration": 72,
    "start_time": "2024-05-02T06:38:14.583Z"
   },
   {
    "duration": 72,
    "start_time": "2024-05-02T06:38:14.657Z"
   },
   {
    "duration": 69,
    "start_time": "2024-05-02T06:38:14.810Z"
   },
   {
    "duration": 99,
    "start_time": "2024-05-02T06:38:15.991Z"
   },
   {
    "duration": 69,
    "start_time": "2024-05-02T06:38:16.753Z"
   },
   {
    "duration": 71,
    "start_time": "2024-05-02T06:38:17.915Z"
   },
   {
    "duration": 70,
    "start_time": "2024-05-02T06:38:19.183Z"
   },
   {
    "duration": 507,
    "start_time": "2024-05-02T10:20:55.343Z"
   },
   {
    "duration": 7490,
    "start_time": "2024-05-02T10:20:55.852Z"
   },
   {
    "duration": 271,
    "start_time": "2024-05-02T10:21:03.344Z"
   },
   {
    "duration": 76,
    "start_time": "2024-05-02T10:21:03.617Z"
   },
   {
    "duration": 76,
    "start_time": "2024-05-02T10:21:03.695Z"
   },
   {
    "duration": 76,
    "start_time": "2024-05-02T10:21:03.773Z"
   },
   {
    "duration": 76,
    "start_time": "2024-05-02T10:21:03.851Z"
   },
   {
    "duration": 75,
    "start_time": "2024-05-02T10:21:03.929Z"
   },
   {
    "duration": 77,
    "start_time": "2024-05-02T10:21:04.006Z"
   },
   {
    "duration": 75,
    "start_time": "2024-05-02T10:21:04.086Z"
   },
   {
    "duration": 108,
    "start_time": "2024-05-02T10:21:25.000Z"
   },
   {
    "duration": 84,
    "start_time": "2024-05-02T10:22:26.503Z"
   },
   {
    "duration": 37,
    "start_time": "2024-05-02T10:24:43.187Z"
   },
   {
    "duration": 493,
    "start_time": "2024-05-02T10:25:27.647Z"
   },
   {
    "duration": 9975,
    "start_time": "2024-05-02T10:25:28.331Z"
   },
   {
    "duration": 256,
    "start_time": "2024-05-02T10:25:38.308Z"
   },
   {
    "duration": 72,
    "start_time": "2024-05-02T10:25:38.566Z"
   },
   {
    "duration": 74,
    "start_time": "2024-05-02T10:25:38.640Z"
   },
   {
    "duration": 73,
    "start_time": "2024-05-02T10:25:38.716Z"
   },
   {
    "duration": 74,
    "start_time": "2024-05-02T10:25:38.791Z"
   },
   {
    "duration": 74,
    "start_time": "2024-05-02T10:25:38.867Z"
   },
   {
    "duration": 74,
    "start_time": "2024-05-02T10:25:38.943Z"
   },
   {
    "duration": 72,
    "start_time": "2024-05-02T10:25:39.019Z"
   },
   {
    "duration": 80,
    "start_time": "2024-05-02T10:25:39.790Z"
   },
   {
    "duration": 103,
    "start_time": "2024-05-02T10:25:47.529Z"
   },
   {
    "duration": 72,
    "start_time": "2024-05-02T10:25:51.739Z"
   },
   {
    "duration": 75,
    "start_time": "2024-05-02T10:25:52.786Z"
   },
   {
    "duration": 74,
    "start_time": "2024-05-02T10:25:53.529Z"
   },
   {
    "duration": 516,
    "start_time": "2024-05-02T10:26:07.136Z"
   },
   {
    "duration": 10453,
    "start_time": "2024-05-02T10:26:07.654Z"
   },
   {
    "duration": 244,
    "start_time": "2024-05-02T10:26:18.108Z"
   },
   {
    "duration": 72,
    "start_time": "2024-05-02T10:26:18.354Z"
   },
   {
    "duration": 70,
    "start_time": "2024-05-02T10:26:18.428Z"
   },
   {
    "duration": 71,
    "start_time": "2024-05-02T10:26:18.500Z"
   },
   {
    "duration": 71,
    "start_time": "2024-05-02T10:26:18.572Z"
   },
   {
    "duration": 72,
    "start_time": "2024-05-02T10:26:18.645Z"
   },
   {
    "duration": 72,
    "start_time": "2024-05-02T10:26:18.718Z"
   },
   {
    "duration": 70,
    "start_time": "2024-05-02T10:26:18.792Z"
   },
   {
    "duration": 101,
    "start_time": "2024-05-02T10:26:18.863Z"
   },
   {
    "duration": 71,
    "start_time": "2024-05-02T10:26:18.966Z"
   },
   {
    "duration": 74,
    "start_time": "2024-05-02T10:26:19.038Z"
   },
   {
    "duration": 72,
    "start_time": "2024-05-02T10:26:19.114Z"
   }
  ],
  "kernelspec": {
   "display_name": "Python 3 (ipykernel)",
   "language": "python",
   "name": "python3"
  },
  "language_info": {
   "codemirror_mode": {
    "name": "ipython",
    "version": 3
   },
   "file_extension": ".py",
   "mimetype": "text/x-python",
   "name": "python",
   "nbconvert_exporter": "python",
   "pygments_lexer": "ipython3",
   "version": "3.10.13"
  },
  "toc": {
   "base_numbering": 1,
   "nav_menu": {},
   "number_sections": true,
   "sideBar": true,
   "skip_h1_title": true,
   "title_cell": "Table of Contents",
   "title_sidebar": "Contents",
   "toc_cell": false,
   "toc_position": {},
   "toc_section_display": true,
   "toc_window_display": false
  }
 },
 "nbformat": 4,
 "nbformat_minor": 4
}
