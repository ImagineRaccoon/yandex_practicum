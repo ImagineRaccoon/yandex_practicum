{
 "cells": [
  {
   "cell_type": "markdown",
   "id": "4f11de00",
   "metadata": {
    "deletable": false,
    "editable": false,
    "id": "4f11de00"
   },
   "source": [
    "# Исследование надежности заемщиков"
   ]
  },
  {
   "cell_type": "markdown",
   "id": "f09d6878",
   "metadata": {
    "deletable": false,
    "editable": false,
    "id": "f09d6878"
   },
   "source": [
    "Это первая часть проекта, она будет проверена автоматически. Вторую часть проверит ревьюер. "
   ]
  },
  {
   "cell_type": "markdown",
   "id": "516620ee",
   "metadata": {
    "deletable": false,
    "editable": false,
    "id": "516620ee"
   },
   "source": [
    "## Откройте таблицу и изучите общую информацию о данных"
   ]
  },
  {
   "cell_type": "markdown",
   "id": "76a8a9ce",
   "metadata": {
    "deletable": false,
    "editable": false,
    "id": "76a8a9ce",
    "tags": [
     "start_task"
    ]
   },
   "source": [
    "**Задание 1. Импортируйте библиотеку pandas. Считайте данные из csv-файла в датафрейм и сохраните в переменную `data`. Путь к файлу:**\n",
    "\n",
    "`/datasets/data.csv`"
   ]
  },
  {
   "cell_type": "code",
   "execution_count": 1,
   "id": "fab207d0",
   "metadata": {
    "id": "fab207d0"
   },
   "outputs": [],
   "source": [
    "# импортируйте библиотеку pandas\n",
    "import pandas as pd\n",
    "import numpy as np"
   ]
  },
  {
   "cell_type": "code",
   "execution_count": 2,
   "id": "6c82b607",
   "metadata": {
    "id": "6c82b607"
   },
   "outputs": [],
   "source": [
    "# прочитайте csv-файл\n",
    "data = pd.read_csv('data.csv')"
   ]
  },
  {
   "cell_type": "markdown",
   "id": "08bbb5b3",
   "metadata": {
    "deletable": false,
    "editable": false,
    "id": "08bbb5b3",
    "tags": [
     "start_task"
    ]
   },
   "source": [
    "**Задание 2. Выведите первые 20 строчек датафрейма `data` на экран.**"
   ]
  },
  {
   "cell_type": "code",
   "execution_count": 3,
   "id": "4ff33b36",
   "metadata": {
    "id": "4ff33b36"
   },
   "outputs": [
    {
     "name": "stdout",
     "output_type": "stream",
     "text": [
      "    children  days_employed  dob_years            education  education_id  \\\n",
      "0          1   -8437.673028         42               высшее             0   \n",
      "1          1   -4024.803754         36              среднее             1   \n",
      "2          0   -5623.422610         33              Среднее             1   \n",
      "3          3   -4124.747207         32              среднее             1   \n",
      "4          0  340266.072047         53              среднее             1   \n",
      "5          0    -926.185831         27               высшее             0   \n",
      "6          0   -2879.202052         43               высшее             0   \n",
      "7          0    -152.779569         50              СРЕДНЕЕ             1   \n",
      "8          2   -6929.865299         35               ВЫСШЕЕ             0   \n",
      "9          0   -2188.756445         41              среднее             1   \n",
      "10         2   -4171.483647         36               высшее             0   \n",
      "11         0    -792.701887         40              среднее             1   \n",
      "12         0            NaN         65              среднее             1   \n",
      "13         0   -1846.641941         54  неоконченное высшее             2   \n",
      "14         0   -1844.956182         56               высшее             0   \n",
      "15         1    -972.364419         26              среднее             1   \n",
      "16         0   -1719.934226         35              среднее             1   \n",
      "17         0   -2369.999720         33               высшее             0   \n",
      "18         0  400281.136913         53              среднее             1   \n",
      "19         0  -10038.818549         48              СРЕДНЕЕ             1   \n",
      "\n",
      "       family_status  family_status_id gender income_type  debt  \\\n",
      "0    женат / замужем                 0      F   сотрудник     0   \n",
      "1    женат / замужем                 0      F   сотрудник     0   \n",
      "2    женат / замужем                 0      M   сотрудник     0   \n",
      "3    женат / замужем                 0      M   сотрудник     0   \n",
      "4   гражданский брак                 1      F   пенсионер     0   \n",
      "5   гражданский брак                 1      M   компаньон     0   \n",
      "6    женат / замужем                 0      F   компаньон     0   \n",
      "7    женат / замужем                 0      M   сотрудник     0   \n",
      "8   гражданский брак                 1      F   сотрудник     0   \n",
      "9    женат / замужем                 0      M   сотрудник     0   \n",
      "10   женат / замужем                 0      M   компаньон     0   \n",
      "11   женат / замужем                 0      F   сотрудник     0   \n",
      "12  гражданский брак                 1      M   пенсионер     0   \n",
      "13   женат / замужем                 0      F   сотрудник     0   \n",
      "14  гражданский брак                 1      F   компаньон     1   \n",
      "15   женат / замужем                 0      F   сотрудник     0   \n",
      "16   женат / замужем                 0      F   сотрудник     0   \n",
      "17  гражданский брак                 1      M   сотрудник     0   \n",
      "18    вдовец / вдова                 2      F   пенсионер     0   \n",
      "19         в разводе                 3      F   сотрудник     0   \n",
      "\n",
      "     total_income                                 purpose  \n",
      "0   253875.639453                           покупка жилья  \n",
      "1   112080.014102                 приобретение автомобиля  \n",
      "2   145885.952297                           покупка жилья  \n",
      "3   267628.550329              дополнительное образование  \n",
      "4   158616.077870                         сыграть свадьбу  \n",
      "5   255763.565419                           покупка жилья  \n",
      "6   240525.971920                       операции с жильем  \n",
      "7   135823.934197                             образование  \n",
      "8    95856.832424                   на проведение свадьбы  \n",
      "9   144425.938277                 покупка жилья для семьи  \n",
      "10  113943.491460                    покупка недвижимости  \n",
      "11   77069.234271       покупка коммерческой недвижимости  \n",
      "12            NaN                         сыграть свадьбу  \n",
      "13  130458.228857                 приобретение автомобиля  \n",
      "14  165127.911772              покупка жилой недвижимости  \n",
      "15  116820.904450  строительство собственной недвижимости  \n",
      "16  289202.704229                            недвижимость  \n",
      "17   90410.586745              строительство недвижимости  \n",
      "18   56823.777243      на покупку подержанного автомобиля  \n",
      "19  242831.107982            на покупку своего автомобиля  \n"
     ]
    }
   ],
   "source": [
    "# ваш код здесь\n",
    "print(data.head(20))"
   ]
  },
  {
   "cell_type": "markdown",
   "id": "c8f382ae",
   "metadata": {
    "deletable": false,
    "editable": false,
    "id": "c8f382ae",
    "tags": [
     "start_task"
    ]
   },
   "source": [
    "**Задание 3. Выведите основную информацию о датафрейме с помощью метода `info()`.**"
   ]
  },
  {
   "cell_type": "code",
   "execution_count": 4,
   "id": "e1ed9908",
   "metadata": {
    "id": "e1ed9908"
   },
   "outputs": [
    {
     "name": "stdout",
     "output_type": "stream",
     "text": [
      "<class 'pandas.core.frame.DataFrame'>\n",
      "RangeIndex: 21525 entries, 0 to 21524\n",
      "Data columns (total 12 columns):\n",
      " #   Column            Non-Null Count  Dtype  \n",
      "---  ------            --------------  -----  \n",
      " 0   children          21525 non-null  int64  \n",
      " 1   days_employed     19351 non-null  float64\n",
      " 2   dob_years         21525 non-null  int64  \n",
      " 3   education         21525 non-null  object \n",
      " 4   education_id      21525 non-null  int64  \n",
      " 5   family_status     21525 non-null  object \n",
      " 6   family_status_id  21525 non-null  int64  \n",
      " 7   gender            21525 non-null  object \n",
      " 8   income_type       21525 non-null  object \n",
      " 9   debt              21525 non-null  int64  \n",
      " 10  total_income      19351 non-null  float64\n",
      " 11  purpose           21525 non-null  object \n",
      "dtypes: float64(2), int64(5), object(5)\n",
      "memory usage: 2.0+ MB\n",
      "None\n"
     ]
    }
   ],
   "source": [
    "# ваш код здесь\n",
    "print(data.info())"
   ]
  },
  {
   "cell_type": "markdown",
   "id": "f969a1cd",
   "metadata": {
    "deletable": false,
    "editable": false,
    "id": "f969a1cd"
   },
   "source": [
    "## Предобработка данных"
   ]
  },
  {
   "cell_type": "markdown",
   "id": "7283e864",
   "metadata": {
    "deletable": false,
    "editable": false,
    "id": "7283e864"
   },
   "source": [
    "### Удаление пропусков"
   ]
  },
  {
   "cell_type": "markdown",
   "id": "c9a0745e",
   "metadata": {
    "deletable": false,
    "editable": false,
    "id": "c9a0745e",
    "tags": [
     "start_task"
    ]
   },
   "source": [
    "**Задание 4. Выведите количество пропущенных значений для каждого столбца. Используйте комбинацию двух методов.**"
   ]
  },
  {
   "cell_type": "code",
   "execution_count": 5,
   "id": "b7a096e1",
   "metadata": {
    "id": "b7a096e1"
   },
   "outputs": [
    {
     "name": "stdout",
     "output_type": "stream",
     "text": [
      "children               0\n",
      "days_employed       2174\n",
      "dob_years              0\n",
      "education              0\n",
      "education_id           0\n",
      "family_status          0\n",
      "family_status_id       0\n",
      "gender                 0\n",
      "income_type            0\n",
      "debt                   0\n",
      "total_income        2174\n",
      "purpose                0\n",
      "dtype: int64\n"
     ]
    }
   ],
   "source": [
    "# ваш код здесь\n",
    "print(data.isna().sum())"
   ]
  },
  {
   "cell_type": "markdown",
   "id": "c2578616",
   "metadata": {
    "deletable": false,
    "editable": false,
    "id": "c2578616",
    "tags": [
     "start_task"
    ]
   },
   "source": [
    "**Задание 5. В двух столбцах есть пропущенные значения. Один из них — `days_employed`. Пропуски в этом столбце вы обработаете на следующем этапе. Другой столбец с пропущенными значениями — `total_income` — хранит данные о доходах. На сумму дохода сильнее всего влияет тип занятости, поэтому заполнить пропуски в этом столбце нужно медианным значением по каждому типу из столбца `income_type`. Например, у человека с типом занятости `сотрудник` пропуск в столбце `total_income` должен быть заполнен медианным доходом среди всех записей с тем же типом.**"
   ]
  },
  {
   "cell_type": "code",
   "execution_count": 6,
   "id": "e8afc4bc",
   "metadata": {
    "id": "e8afc4bc"
   },
   "outputs": [],
   "source": [
    "# ваш код здесь\n",
    "bla = data.groupby('income_type')['total_income'].median().to_frame()\n",
    "data.loc[data['total_income'].isna(), 'total_income'] =  data.loc[data['total_income'].isna(),'income_type'].apply(lambda x: bla.loc[x,'total_income'] )\n",
    "\n",
    "\n"
   ]
  },
  {
   "cell_type": "markdown",
   "id": "ae986d46",
   "metadata": {
    "deletable": false,
    "editable": false,
    "id": "ae986d46"
   },
   "source": [
    "### Обработка аномальных значений"
   ]
  },
  {
   "cell_type": "markdown",
   "id": "b049cbae",
   "metadata": {
    "deletable": false,
    "editable": false,
    "id": "b049cbae",
    "tags": [
     "start_task"
    ]
   },
   "source": [
    "**Задание 6. В данных могут встречаться артефакты (аномалии) — значения, которые не отражают действительность и появились по какой-то ошибке. Таким артефактом будет отрицательное количество дней трудового стажа в столбце `days_employed`. Для реальных данных это нормально. Обработайте значения в этом столбце: замените все отрицательные значения положительными с помощью метода `abs()`.**"
   ]
  },
  {
   "cell_type": "code",
   "execution_count": 7,
   "id": "187779b0",
   "metadata": {
    "id": "187779b0"
   },
   "outputs": [],
   "source": [
    "# ваш код здесь\n",
    "data['days_employed'] = data['days_employed'].abs()"
   ]
  },
  {
   "cell_type": "markdown",
   "id": "a13054c2",
   "metadata": {
    "deletable": false,
    "editable": false,
    "id": "a13054c2",
    "tags": [
     "start_task"
    ]
   },
   "source": [
    "**Задание 7. Для каждого типа занятости выведите медианное значение трудового стажа `days_employed` в днях.**"
   ]
  },
  {
   "cell_type": "code",
   "execution_count": 8,
   "id": "f3f5810c",
   "metadata": {
    "id": "f3f5810c"
   },
   "outputs": [
    {
     "name": "stdout",
     "output_type": "stream",
     "text": [
      "income_type\n",
      "безработный        366413.652744\n",
      "в декрете            3296.759962\n",
      "госслужащий          2689.368353\n",
      "компаньон            1547.382223\n",
      "пенсионер          365213.306266\n",
      "предприниматель       520.848083\n",
      "сотрудник            1574.202821\n",
      "студент               578.751554\n",
      "Name: days_employed, dtype: float64\n"
     ]
    }
   ],
   "source": [
    "# ваш код здесь\n",
    "print(data.groupby('income_type')['days_employed'].median())"
   ]
  },
  {
   "cell_type": "markdown",
   "id": "dbc3168c",
   "metadata": {
    "deletable": false,
    "editable": false,
    "id": "dbc3168c"
   },
   "source": [
    "У двух типов (безработные и пенсионеры) получатся аномально большие значения. Исправить такие значения сложно, поэтому оставьте их как есть."
   ]
  },
  {
   "cell_type": "markdown",
   "id": "ff4378c2",
   "metadata": {
    "deletable": false,
    "editable": false,
    "id": "ff4378c2",
    "tags": [
     "start_task"
    ]
   },
   "source": [
    "**Задание 8. Выведите перечень уникальных значений столбца `children`.**"
   ]
  },
  {
   "cell_type": "code",
   "execution_count": 9,
   "id": "9bd0c232",
   "metadata": {
    "id": "9bd0c232"
   },
   "outputs": [
    {
     "name": "stdout",
     "output_type": "stream",
     "text": [
      "[ 1  0  3  2 -1  4 20  5]\n"
     ]
    }
   ],
   "source": [
    "# ваш код здесь\n",
    "print(data['children'].unique())"
   ]
  },
  {
   "cell_type": "markdown",
   "id": "8e911990",
   "metadata": {
    "deletable": false,
    "editable": false,
    "id": "8e911990",
    "tags": [
     "start_task"
    ]
   },
   "source": [
    "**Задание 9. В столбце `children` есть два аномальных значения. Удалите строки, в которых встречаются такие аномальные значения из датафрейма `data`.**"
   ]
  },
  {
   "cell_type": "code",
   "execution_count": 10,
   "id": "6d5ba289",
   "metadata": {
    "id": "6d5ba289"
   },
   "outputs": [],
   "source": [
    "# ваш код здесь\n",
    "data = data[(data['children']>=0)&(data['children']<20)]"
   ]
  },
  {
   "cell_type": "markdown",
   "id": "18d77455",
   "metadata": {
    "deletable": false,
    "editable": false,
    "id": "18d77455",
    "tags": [
     "start_task"
    ]
   },
   "source": [
    "**Задание 10. Ещё раз выведите перечень уникальных значений столбца `children`, чтобы убедиться, что артефакты удалены.**"
   ]
  },
  {
   "cell_type": "code",
   "execution_count": 11,
   "id": "2c5fa92c",
   "metadata": {
    "id": "2c5fa92c"
   },
   "outputs": [
    {
     "name": "stdout",
     "output_type": "stream",
     "text": [
      "[1 0 3 2 4 5]\n"
     ]
    }
   ],
   "source": [
    "# ваш код здесь\n",
    "print(data['children'].unique())"
   ]
  },
  {
   "cell_type": "markdown",
   "id": "0ec07dee",
   "metadata": {
    "deletable": false,
    "editable": false,
    "id": "0ec07dee"
   },
   "source": [
    "### Удаление пропусков (продолжение)"
   ]
  },
  {
   "cell_type": "markdown",
   "id": "0fc3ae3f",
   "metadata": {
    "deletable": false,
    "editable": false,
    "id": "0fc3ae3f",
    "tags": [
     "start_task"
    ]
   },
   "source": [
    "**Задание 11. Заполните пропуски в столбце `days_employed` медианными значениями по каждому типу занятости `income_type`.**"
   ]
  },
  {
   "cell_type": "code",
   "execution_count": 12,
   "id": "e2aea7ac",
   "metadata": {
    "id": "e2aea7ac"
   },
   "outputs": [],
   "source": [
    "# ваш код здесь\n",
    "bla = data.groupby('income_type')['days_employed'].median().to_frame()\n",
    "data.loc[data['days_employed'].isna(), 'days_employed'] =  data.loc[data['days_employed'].isna(),'income_type'].apply(lambda x: bla.loc[x,'days_employed'] )\n"
   ]
  },
  {
   "cell_type": "markdown",
   "id": "97b0b795",
   "metadata": {
    "deletable": false,
    "editable": false,
    "id": "97b0b795",
    "tags": [
     "start_task"
    ]
   },
   "source": [
    "**Задание 12. Убедитесь, что все пропуски заполнены. Проверьте себя и ещё раз выведите количество пропущенных значений для каждого столбца с помощью двух методов.**"
   ]
  },
  {
   "cell_type": "code",
   "execution_count": 13,
   "id": "79632a21",
   "metadata": {
    "id": "79632a21"
   },
   "outputs": [
    {
     "name": "stdout",
     "output_type": "stream",
     "text": [
      "children            0\n",
      "days_employed       0\n",
      "dob_years           0\n",
      "education           0\n",
      "education_id        0\n",
      "family_status       0\n",
      "family_status_id    0\n",
      "gender              0\n",
      "income_type         0\n",
      "debt                0\n",
      "total_income        0\n",
      "purpose             0\n",
      "dtype: int64\n"
     ]
    }
   ],
   "source": [
    "# ваш код здесь\n",
    "print(data.isna().sum())"
   ]
  },
  {
   "cell_type": "markdown",
   "id": "bd4aeb20",
   "metadata": {
    "deletable": false,
    "editable": false,
    "id": "bd4aeb20"
   },
   "source": [
    "### Изменение типов данных"
   ]
  },
  {
   "cell_type": "markdown",
   "id": "963bfa58",
   "metadata": {
    "deletable": false,
    "editable": false,
    "id": "963bfa58",
    "tags": [
     "start_task"
    ]
   },
   "source": [
    "**Задание 13. Замените вещественный тип данных в столбце `total_income` на целочисленный с помощью метода `astype()`.**"
   ]
  },
  {
   "cell_type": "code",
   "execution_count": 14,
   "id": "73da6ea0",
   "metadata": {
    "id": "73da6ea0"
   },
   "outputs": [],
   "source": [
    "# ваш код здесь\n",
    "data['total_income'] = data['total_income'].astype('int')"
   ]
  },
  {
   "cell_type": "markdown",
   "id": "d290239e",
   "metadata": {
    "deletable": false,
    "editable": false,
    "id": "d290239e"
   },
   "source": [
    "### Обработка дубликатов"
   ]
  },
  {
   "cell_type": "markdown",
   "id": "1b5844fd",
   "metadata": {
    "deletable": false,
    "editable": false,
    "id": "1b5844fd",
    "tags": [
     "start_task"
    ]
   },
   "source": [
    "**Задание 14. Обработайте неявные дубликаты в столбце `education`. В этом столбце есть одни и те же значения, но записанные по-разному: с использованием заглавных и строчных букв. Приведите их к нижнему регистру.**"
   ]
  },
  {
   "cell_type": "code",
   "execution_count": 15,
   "id": "3f2504b3",
   "metadata": {
    "id": "3f2504b3"
   },
   "outputs": [],
   "source": [
    "# ваш код здесь\n",
    "data['education'] = data['education'].str.lower()"
   ]
  },
  {
   "cell_type": "markdown",
   "id": "4c22acbc",
   "metadata": {
    "deletable": false,
    "editable": false,
    "id": "4c22acbc",
    "tags": [
     "start_task"
    ]
   },
   "source": [
    "**Задание 15. Выведите на экран количество строк-дубликатов в данных. Если такие строки присутствуют, удалите их.**"
   ]
  },
  {
   "cell_type": "code",
   "execution_count": 16,
   "id": "d34a4325",
   "metadata": {
    "id": "d34a4325"
   },
   "outputs": [
    {
     "name": "stdout",
     "output_type": "stream",
     "text": [
      "71\n"
     ]
    }
   ],
   "source": [
    "# посчитайте дубликаты\n",
    "print(data.duplicated().sum())"
   ]
  },
  {
   "cell_type": "code",
   "execution_count": 17,
   "id": "6e1a6499",
   "metadata": {
    "id": "6e1a6499"
   },
   "outputs": [],
   "source": [
    "# удалите дубликаты\n",
    "data = data.drop_duplicates()"
   ]
  },
  {
   "cell_type": "markdown",
   "id": "e5686ccc",
   "metadata": {
    "deletable": false,
    "editable": false,
    "id": "e5686ccc"
   },
   "source": [
    "### Категоризация данных"
   ]
  },
  {
   "cell_type": "markdown",
   "id": "636e9acd",
   "metadata": {
    "deletable": false,
    "editable": false,
    "id": "636e9acd",
    "tags": [
     "start_task"
    ]
   },
   "source": [
    "**Задание 16. На основании диапазонов, указанных ниже, создайте в датафрейме `data` столбец `total_income_category` с категориями:**\n",
    "\n",
    "- 0–30000 — `'E'`;\n",
    "- 30001–50000 — `'D'`;\n",
    "- 50001–200000 — `'C'`;\n",
    "- 200001–1000000 — `'B'`;\n",
    "- 1000001 и выше — `'A'`.\n",
    "\n",
    "\n",
    "**Например, кредитополучателю с доходом 25000 нужно назначить категорию `'E'`, а клиенту, получающему 235000, — `'B'`. Используйте собственную функцию с именем `categorize_income()` и метод `apply()`.**"
   ]
  },
  {
   "cell_type": "code",
   "execution_count": 18,
   "id": "880a77e5",
   "metadata": {
    "id": "880a77e5"
   },
   "outputs": [],
   "source": [
    "# создайте функцию categorize_income()\n",
    "def categorize_income(bla):\n",
    "    if bla <= 30000:\n",
    "        return 'E'\n",
    "    elif (bla>=30001) & (bla<=50000):\n",
    "        return 'D'\n",
    "    elif (bla>=50001) & (bla<= 200000):\n",
    "        return 'C'\n",
    "    elif(bla>=200001) & (bla<=1000000):\n",
    "        return 'B'\n",
    "    else:\n",
    "        return 'A'"
   ]
  },
  {
   "cell_type": "code",
   "execution_count": 19,
   "id": "6f25f161",
   "metadata": {
    "id": "6f25f161"
   },
   "outputs": [],
   "source": [
    "# примените функцию методом apply()\n",
    "data['total_income_category'] = data['total_income'].apply(categorize_income)"
   ]
  },
  {
   "cell_type": "markdown",
   "id": "3363b685",
   "metadata": {
    "deletable": false,
    "editable": false,
    "id": "3363b685",
    "tags": [
     "start_task"
    ]
   },
   "source": [
    "**Задание 17. Выведите на экран перечень уникальных целей взятия кредита из столбца `purpose`.**"
   ]
  },
  {
   "cell_type": "code",
   "execution_count": 20,
   "id": "e59f2c15",
   "metadata": {
    "id": "e59f2c15"
   },
   "outputs": [
    {
     "name": "stdout",
     "output_type": "stream",
     "text": [
      "['покупка жилья' 'приобретение автомобиля' 'дополнительное образование'\n",
      " 'сыграть свадьбу' 'операции с жильем' 'образование'\n",
      " 'на проведение свадьбы' 'покупка жилья для семьи' 'покупка недвижимости'\n",
      " 'покупка коммерческой недвижимости' 'покупка жилой недвижимости'\n",
      " 'строительство собственной недвижимости' 'недвижимость'\n",
      " 'строительство недвижимости' 'на покупку подержанного автомобиля'\n",
      " 'на покупку своего автомобиля' 'операции с коммерческой недвижимостью'\n",
      " 'строительство жилой недвижимости' 'жилье'\n",
      " 'операции со своей недвижимостью' 'автомобили' 'заняться образованием'\n",
      " 'сделка с подержанным автомобилем' 'получение образования' 'автомобиль'\n",
      " 'свадьба' 'получение дополнительного образования' 'покупка своего жилья'\n",
      " 'операции с недвижимостью' 'получение высшего образования'\n",
      " 'свой автомобиль' 'сделка с автомобилем' 'профильное образование'\n",
      " 'высшее образование' 'покупка жилья для сдачи' 'на покупку автомобиля'\n",
      " 'ремонт жилью' 'заняться высшим образованием']\n"
     ]
    }
   ],
   "source": [
    "# ваш код здесь\n",
    "print(data['purpose'].unique())"
   ]
  },
  {
   "cell_type": "markdown",
   "id": "bb33e847",
   "metadata": {
    "deletable": false,
    "editable": false,
    "id": "bb33e847",
    "tags": [
     "start_task"
    ]
   },
   "source": [
    "**Задание 18. Создайте функцию, которая на основании данных из столбца `purpose` сформирует новый столбец `purpose_category`, в который войдут следующие категории:**\n",
    "\n",
    "- `'операции с автомобилем'`,\n",
    "- `'операции с недвижимостью'`,\n",
    "- `'проведение свадьбы'`,\n",
    "- `'получение образования'`.\n",
    "\n",
    "**Например, если в столбце `purpose` находится подстрока `'на покупку автомобиля'`, то в столбце `purpose_category` должна появиться строка `'операции с автомобилем'`.**\n",
    "\n",
    "**Используйте собственную функцию с именем `categorize_purpose()` и метод `apply()`. Изучите данные в столбце `purpose` и определите, какие подстроки помогут вам правильно определить категорию.**"
   ]
  },
  {
   "cell_type": "code",
   "execution_count": 21,
   "id": "63909b83",
   "metadata": {
    "id": "63909b83"
   },
   "outputs": [],
   "source": [
    "# создайте функцию categorize_purpose()\n",
    "def categorize_purpose(bla):\n",
    "    if bla.find('автомобил')>=0:\n",
    "        return 'операции с автомобилем'\n",
    "    elif (bla =='на проведение свадьбы') | (bla =='свадьба') | (bla =='сыграть свадьбу'):\n",
    "        return 'проведение свадьбы'\n",
    "    elif (bla.find('недвижимост')>=0) | (bla.find('жиль')>=0):\n",
    "        return 'операции с недвижимостью'\n",
    "    else:\n",
    "        return 'получение образования'"
   ]
  },
  {
   "cell_type": "code",
   "execution_count": 22,
   "id": "7cb4a81d",
   "metadata": {
    "id": "7cb4a81d"
   },
   "outputs": [],
   "source": [
    "# примените функцию методом apply()\n",
    "data['purpose_category'] = data['purpose'].apply(categorize_purpose)"
   ]
  },
  {
   "cell_type": "markdown",
   "id": "59302049-2282-48bb-9528-0996ce3f895b",
   "metadata": {},
   "source": [
    "## Задание 19. Есть ли зависимость между количеством детей и возвратом кредита в срок?"
   ]
  },
  {
   "cell_type": "code",
   "execution_count": 23,
   "id": "6d31e8f2",
   "metadata": {},
   "outputs": [
    {
     "data": {
      "text/html": [
       "<div>\n",
       "<style scoped>\n",
       "    .dataframe tbody tr th:only-of-type {\n",
       "        vertical-align: middle;\n",
       "    }\n",
       "\n",
       "    .dataframe tbody tr th {\n",
       "        vertical-align: top;\n",
       "    }\n",
       "\n",
       "    .dataframe thead th {\n",
       "        text-align: right;\n",
       "    }\n",
       "</style>\n",
       "<table border=\"1\" class=\"dataframe\">\n",
       "  <thead>\n",
       "    <tr style=\"text-align: right;\">\n",
       "      <th></th>\n",
       "      <th>children</th>\n",
       "      <th>days_employed</th>\n",
       "      <th>dob_years</th>\n",
       "      <th>education</th>\n",
       "      <th>education_id</th>\n",
       "      <th>family_status</th>\n",
       "      <th>family_status_id</th>\n",
       "      <th>gender</th>\n",
       "      <th>income_type</th>\n",
       "      <th>debt</th>\n",
       "      <th>total_income</th>\n",
       "      <th>purpose</th>\n",
       "      <th>total_income_category</th>\n",
       "      <th>purpose_category</th>\n",
       "    </tr>\n",
       "  </thead>\n",
       "  <tbody>\n",
       "    <tr>\n",
       "      <th>0</th>\n",
       "      <td>1</td>\n",
       "      <td>8437.673028</td>\n",
       "      <td>42</td>\n",
       "      <td>высшее</td>\n",
       "      <td>0</td>\n",
       "      <td>женат / замужем</td>\n",
       "      <td>0</td>\n",
       "      <td>F</td>\n",
       "      <td>сотрудник</td>\n",
       "      <td>0</td>\n",
       "      <td>253875</td>\n",
       "      <td>покупка жилья</td>\n",
       "      <td>B</td>\n",
       "      <td>операции с недвижимостью</td>\n",
       "    </tr>\n",
       "    <tr>\n",
       "      <th>1</th>\n",
       "      <td>1</td>\n",
       "      <td>4024.803754</td>\n",
       "      <td>36</td>\n",
       "      <td>среднее</td>\n",
       "      <td>1</td>\n",
       "      <td>женат / замужем</td>\n",
       "      <td>0</td>\n",
       "      <td>F</td>\n",
       "      <td>сотрудник</td>\n",
       "      <td>0</td>\n",
       "      <td>112080</td>\n",
       "      <td>приобретение автомобиля</td>\n",
       "      <td>C</td>\n",
       "      <td>операции с автомобилем</td>\n",
       "    </tr>\n",
       "    <tr>\n",
       "      <th>2</th>\n",
       "      <td>0</td>\n",
       "      <td>5623.422610</td>\n",
       "      <td>33</td>\n",
       "      <td>среднее</td>\n",
       "      <td>1</td>\n",
       "      <td>женат / замужем</td>\n",
       "      <td>0</td>\n",
       "      <td>M</td>\n",
       "      <td>сотрудник</td>\n",
       "      <td>0</td>\n",
       "      <td>145885</td>\n",
       "      <td>покупка жилья</td>\n",
       "      <td>C</td>\n",
       "      <td>операции с недвижимостью</td>\n",
       "    </tr>\n",
       "    <tr>\n",
       "      <th>3</th>\n",
       "      <td>3</td>\n",
       "      <td>4124.747207</td>\n",
       "      <td>32</td>\n",
       "      <td>среднее</td>\n",
       "      <td>1</td>\n",
       "      <td>женат / замужем</td>\n",
       "      <td>0</td>\n",
       "      <td>M</td>\n",
       "      <td>сотрудник</td>\n",
       "      <td>0</td>\n",
       "      <td>267628</td>\n",
       "      <td>дополнительное образование</td>\n",
       "      <td>B</td>\n",
       "      <td>получение образования</td>\n",
       "    </tr>\n",
       "    <tr>\n",
       "      <th>4</th>\n",
       "      <td>0</td>\n",
       "      <td>340266.072047</td>\n",
       "      <td>53</td>\n",
       "      <td>среднее</td>\n",
       "      <td>1</td>\n",
       "      <td>гражданский брак</td>\n",
       "      <td>1</td>\n",
       "      <td>F</td>\n",
       "      <td>пенсионер</td>\n",
       "      <td>0</td>\n",
       "      <td>158616</td>\n",
       "      <td>сыграть свадьбу</td>\n",
       "      <td>C</td>\n",
       "      <td>проведение свадьбы</td>\n",
       "    </tr>\n",
       "  </tbody>\n",
       "</table>\n",
       "</div>"
      ],
      "text/plain": [
       "   children  days_employed  dob_years education  education_id  \\\n",
       "0         1    8437.673028         42    высшее             0   \n",
       "1         1    4024.803754         36   среднее             1   \n",
       "2         0    5623.422610         33   среднее             1   \n",
       "3         3    4124.747207         32   среднее             1   \n",
       "4         0  340266.072047         53   среднее             1   \n",
       "\n",
       "      family_status  family_status_id gender income_type  debt  total_income  \\\n",
       "0   женат / замужем                 0      F   сотрудник     0        253875   \n",
       "1   женат / замужем                 0      F   сотрудник     0        112080   \n",
       "2   женат / замужем                 0      M   сотрудник     0        145885   \n",
       "3   женат / замужем                 0      M   сотрудник     0        267628   \n",
       "4  гражданский брак                 1      F   пенсионер     0        158616   \n",
       "\n",
       "                      purpose total_income_category          purpose_category  \n",
       "0               покупка жилья                     B  операции с недвижимостью  \n",
       "1     приобретение автомобиля                     C    операции с автомобилем  \n",
       "2               покупка жилья                     C  операции с недвижимостью  \n",
       "3  дополнительное образование                     B     получение образования  \n",
       "4             сыграть свадьбу                     C        проведение свадьбы  "
      ]
     },
     "execution_count": 23,
     "metadata": {},
     "output_type": "execute_result"
    }
   ],
   "source": [
    "data.head()"
   ]
  },
  {
   "cell_type": "code",
   "execution_count": 24,
   "id": "b5096470",
   "metadata": {},
   "outputs": [],
   "source": [
    "data_grouped = data.groupby(['debt','children'])['family_status'].count().to_frame().reset_index()"
   ]
  },
  {
   "cell_type": "code",
   "execution_count": 25,
   "id": "86a7a375-9e98-433a-8b81-4570de44988e",
   "metadata": {},
   "outputs": [],
   "source": [
    "dc_table = data_grouped.pivot_table(index = 'children', columns = 'debt', values = 'family_status')\n",
    "dc_table.columns = ['Without_debt','With_debt']"
   ]
  },
  {
   "cell_type": "code",
   "execution_count": 26,
   "id": "40357694-4921-43f5-835d-6cb21a4c761c",
   "metadata": {},
   "outputs": [],
   "source": [
    "pd.set_option('display.float_format', '{:.2f}'.format)\n",
    "dc_table['part_with_debt'] = (dc_table['With_debt']/dc_table['With_debt'].sum())*100\n",
    "dc_table['part_without_debt']= (dc_table['Without_debt']/dc_table['Without_debt'].sum())*100\n",
    "dc_table['different'] = ((dc_table['part_without_debt']- dc_table['part_with_debt'])/dc_table['part_without_debt'])*100\n",
    "dc_table['Доля должников в категории'] = (dc_table['With_debt']/(dc_table['With_debt']+dc_table['Without_debt']))*100"
   ]
  },
  {
   "cell_type": "code",
   "execution_count": 27,
   "id": "d24d7caa-d6fd-44ed-b1fb-312c73784eb6",
   "metadata": {},
   "outputs": [
    {
     "data": {
      "text/html": [
       "<div>\n",
       "<style scoped>\n",
       "    .dataframe tbody tr th:only-of-type {\n",
       "        vertical-align: middle;\n",
       "    }\n",
       "\n",
       "    .dataframe tbody tr th {\n",
       "        vertical-align: top;\n",
       "    }\n",
       "\n",
       "    .dataframe thead th {\n",
       "        text-align: right;\n",
       "    }\n",
       "</style>\n",
       "<table border=\"1\" class=\"dataframe\">\n",
       "  <thead>\n",
       "    <tr style=\"text-align: right;\">\n",
       "      <th></th>\n",
       "      <th>Without_debt</th>\n",
       "      <th>With_debt</th>\n",
       "      <th>part_with_debt</th>\n",
       "      <th>part_without_debt</th>\n",
       "      <th>different</th>\n",
       "      <th>Доля должников в категории</th>\n",
       "    </tr>\n",
       "    <tr>\n",
       "      <th>children</th>\n",
       "      <th></th>\n",
       "      <th></th>\n",
       "      <th></th>\n",
       "      <th></th>\n",
       "      <th></th>\n",
       "      <th></th>\n",
       "    </tr>\n",
       "  </thead>\n",
       "  <tbody>\n",
       "    <tr>\n",
       "      <th>0</th>\n",
       "      <td>13028.00</td>\n",
       "      <td>1063.00</td>\n",
       "      <td>61.37</td>\n",
       "      <td>66.47</td>\n",
       "      <td>7.67</td>\n",
       "      <td>7.54</td>\n",
       "    </tr>\n",
       "    <tr>\n",
       "      <th>1</th>\n",
       "      <td>4364.00</td>\n",
       "      <td>444.00</td>\n",
       "      <td>25.64</td>\n",
       "      <td>22.27</td>\n",
       "      <td>-15.13</td>\n",
       "      <td>9.23</td>\n",
       "    </tr>\n",
       "    <tr>\n",
       "      <th>2</th>\n",
       "      <td>1858.00</td>\n",
       "      <td>194.00</td>\n",
       "      <td>11.20</td>\n",
       "      <td>9.48</td>\n",
       "      <td>-18.15</td>\n",
       "      <td>9.45</td>\n",
       "    </tr>\n",
       "    <tr>\n",
       "      <th>3</th>\n",
       "      <td>303.00</td>\n",
       "      <td>27.00</td>\n",
       "      <td>1.56</td>\n",
       "      <td>1.55</td>\n",
       "      <td>-0.83</td>\n",
       "      <td>8.18</td>\n",
       "    </tr>\n",
       "    <tr>\n",
       "      <th>4</th>\n",
       "      <td>37.00</td>\n",
       "      <td>4.00</td>\n",
       "      <td>0.23</td>\n",
       "      <td>0.19</td>\n",
       "      <td>-22.33</td>\n",
       "      <td>9.76</td>\n",
       "    </tr>\n",
       "    <tr>\n",
       "      <th>5</th>\n",
       "      <td>9.00</td>\n",
       "      <td>NaN</td>\n",
       "      <td>NaN</td>\n",
       "      <td>0.05</td>\n",
       "      <td>NaN</td>\n",
       "      <td>NaN</td>\n",
       "    </tr>\n",
       "  </tbody>\n",
       "</table>\n",
       "</div>"
      ],
      "text/plain": [
       "          Without_debt  With_debt  part_with_debt  part_without_debt  \\\n",
       "children                                                               \n",
       "0             13028.00    1063.00           61.37              66.47   \n",
       "1              4364.00     444.00           25.64              22.27   \n",
       "2              1858.00     194.00           11.20               9.48   \n",
       "3               303.00      27.00            1.56               1.55   \n",
       "4                37.00       4.00            0.23               0.19   \n",
       "5                 9.00        NaN             NaN               0.05   \n",
       "\n",
       "          different  Доля должников в категории  \n",
       "children                                         \n",
       "0              7.67                        7.54  \n",
       "1            -15.13                        9.23  \n",
       "2            -18.15                        9.45  \n",
       "3             -0.83                        8.18  \n",
       "4            -22.33                        9.76  \n",
       "5               NaN                         NaN  "
      ]
     },
     "execution_count": 27,
     "metadata": {},
     "output_type": "execute_result"
    }
   ],
   "source": [
    "dc_table"
   ]
  },
  {
   "cell_type": "markdown",
   "id": "4e31657e-3f6c-4188-9be4-d3bd53285302",
   "metadata": {},
   "source": [
    "1. Наличие детей и наличие задолженности явно имеют зависимость\n",
    "2. Доля людей без детей, среди тех кто имел задолженность, составляет 61,37% от всех людей без задолженностей, что на 7,67% меньше, чем доля людей без детей, но с задолженностями, которые составляют 66,47% от всех людей, которые имеют задолженности"
   ]
  },
  {
   "cell_type": "markdown",
   "id": "07b33300-224c-4ce4-ad3a-803dcc5a2073",
   "metadata": {},
   "source": [
    "## Задание 20. Есть ли зависимость между семейным положением и возвратом кредита в срок?"
   ]
  },
  {
   "cell_type": "code",
   "execution_count": 29,
   "id": "ef5b52c9-a0dc-4f8b-8683-9ec95522b19f",
   "metadata": {},
   "outputs": [
    {
     "data": {
      "text/html": [
       "<div>\n",
       "<style scoped>\n",
       "    .dataframe tbody tr th:only-of-type {\n",
       "        vertical-align: middle;\n",
       "    }\n",
       "\n",
       "    .dataframe tbody tr th {\n",
       "        vertical-align: top;\n",
       "    }\n",
       "\n",
       "    .dataframe thead th {\n",
       "        text-align: right;\n",
       "    }\n",
       "</style>\n",
       "<table border=\"1\" class=\"dataframe\">\n",
       "  <thead>\n",
       "    <tr style=\"text-align: right;\">\n",
       "      <th></th>\n",
       "      <th>children</th>\n",
       "      <th>days_employed</th>\n",
       "      <th>dob_years</th>\n",
       "      <th>education</th>\n",
       "      <th>education_id</th>\n",
       "      <th>family_status</th>\n",
       "      <th>family_status_id</th>\n",
       "      <th>gender</th>\n",
       "      <th>income_type</th>\n",
       "      <th>debt</th>\n",
       "      <th>total_income</th>\n",
       "      <th>purpose</th>\n",
       "      <th>total_income_category</th>\n",
       "      <th>purpose_category</th>\n",
       "    </tr>\n",
       "  </thead>\n",
       "  <tbody>\n",
       "    <tr>\n",
       "      <th>0</th>\n",
       "      <td>1</td>\n",
       "      <td>8437.67</td>\n",
       "      <td>42</td>\n",
       "      <td>высшее</td>\n",
       "      <td>0</td>\n",
       "      <td>женат / замужем</td>\n",
       "      <td>0</td>\n",
       "      <td>F</td>\n",
       "      <td>сотрудник</td>\n",
       "      <td>0</td>\n",
       "      <td>253875</td>\n",
       "      <td>покупка жилья</td>\n",
       "      <td>B</td>\n",
       "      <td>операции с недвижимостью</td>\n",
       "    </tr>\n",
       "    <tr>\n",
       "      <th>1</th>\n",
       "      <td>1</td>\n",
       "      <td>4024.80</td>\n",
       "      <td>36</td>\n",
       "      <td>среднее</td>\n",
       "      <td>1</td>\n",
       "      <td>женат / замужем</td>\n",
       "      <td>0</td>\n",
       "      <td>F</td>\n",
       "      <td>сотрудник</td>\n",
       "      <td>0</td>\n",
       "      <td>112080</td>\n",
       "      <td>приобретение автомобиля</td>\n",
       "      <td>C</td>\n",
       "      <td>операции с автомобилем</td>\n",
       "    </tr>\n",
       "    <tr>\n",
       "      <th>2</th>\n",
       "      <td>0</td>\n",
       "      <td>5623.42</td>\n",
       "      <td>33</td>\n",
       "      <td>среднее</td>\n",
       "      <td>1</td>\n",
       "      <td>женат / замужем</td>\n",
       "      <td>0</td>\n",
       "      <td>M</td>\n",
       "      <td>сотрудник</td>\n",
       "      <td>0</td>\n",
       "      <td>145885</td>\n",
       "      <td>покупка жилья</td>\n",
       "      <td>C</td>\n",
       "      <td>операции с недвижимостью</td>\n",
       "    </tr>\n",
       "    <tr>\n",
       "      <th>3</th>\n",
       "      <td>3</td>\n",
       "      <td>4124.75</td>\n",
       "      <td>32</td>\n",
       "      <td>среднее</td>\n",
       "      <td>1</td>\n",
       "      <td>женат / замужем</td>\n",
       "      <td>0</td>\n",
       "      <td>M</td>\n",
       "      <td>сотрудник</td>\n",
       "      <td>0</td>\n",
       "      <td>267628</td>\n",
       "      <td>дополнительное образование</td>\n",
       "      <td>B</td>\n",
       "      <td>получение образования</td>\n",
       "    </tr>\n",
       "    <tr>\n",
       "      <th>4</th>\n",
       "      <td>0</td>\n",
       "      <td>340266.07</td>\n",
       "      <td>53</td>\n",
       "      <td>среднее</td>\n",
       "      <td>1</td>\n",
       "      <td>гражданский брак</td>\n",
       "      <td>1</td>\n",
       "      <td>F</td>\n",
       "      <td>пенсионер</td>\n",
       "      <td>0</td>\n",
       "      <td>158616</td>\n",
       "      <td>сыграть свадьбу</td>\n",
       "      <td>C</td>\n",
       "      <td>проведение свадьбы</td>\n",
       "    </tr>\n",
       "  </tbody>\n",
       "</table>\n",
       "</div>"
      ],
      "text/plain": [
       "   children  days_employed  dob_years education  education_id  \\\n",
       "0         1        8437.67         42    высшее             0   \n",
       "1         1        4024.80         36   среднее             1   \n",
       "2         0        5623.42         33   среднее             1   \n",
       "3         3        4124.75         32   среднее             1   \n",
       "4         0      340266.07         53   среднее             1   \n",
       "\n",
       "      family_status  family_status_id gender income_type  debt  total_income  \\\n",
       "0   женат / замужем                 0      F   сотрудник     0        253875   \n",
       "1   женат / замужем                 0      F   сотрудник     0        112080   \n",
       "2   женат / замужем                 0      M   сотрудник     0        145885   \n",
       "3   женат / замужем                 0      M   сотрудник     0        267628   \n",
       "4  гражданский брак                 1      F   пенсионер     0        158616   \n",
       "\n",
       "                      purpose total_income_category          purpose_category  \n",
       "0               покупка жилья                     B  операции с недвижимостью  \n",
       "1     приобретение автомобиля                     C    операции с автомобилем  \n",
       "2               покупка жилья                     C  операции с недвижимостью  \n",
       "3  дополнительное образование                     B     получение образования  \n",
       "4             сыграть свадьбу                     C        проведение свадьбы  "
      ]
     },
     "execution_count": 29,
     "metadata": {},
     "output_type": "execute_result"
    }
   ],
   "source": [
    "data.head()"
   ]
  },
  {
   "cell_type": "code",
   "execution_count": 30,
   "id": "27597ae5-27d4-4fde-a5ea-4c8feac0fde0",
   "metadata": {},
   "outputs": [
    {
     "data": {
      "text/html": [
       "<div>\n",
       "<style scoped>\n",
       "    .dataframe tbody tr th:only-of-type {\n",
       "        vertical-align: middle;\n",
       "    }\n",
       "\n",
       "    .dataframe tbody tr th {\n",
       "        vertical-align: top;\n",
       "    }\n",
       "\n",
       "    .dataframe thead th {\n",
       "        text-align: right;\n",
       "    }\n",
       "</style>\n",
       "<table border=\"1\" class=\"dataframe\">\n",
       "  <thead>\n",
       "    <tr style=\"text-align: right;\">\n",
       "      <th></th>\n",
       "      <th>family_status</th>\n",
       "      <th>debt</th>\n",
       "      <th>children</th>\n",
       "    </tr>\n",
       "  </thead>\n",
       "  <tbody>\n",
       "    <tr>\n",
       "      <th>0</th>\n",
       "      <td>Не женат / не замужем</td>\n",
       "      <td>0</td>\n",
       "      <td>2523</td>\n",
       "    </tr>\n",
       "    <tr>\n",
       "      <th>1</th>\n",
       "      <td>Не женат / не замужем</td>\n",
       "      <td>1</td>\n",
       "      <td>273</td>\n",
       "    </tr>\n",
       "    <tr>\n",
       "      <th>2</th>\n",
       "      <td>в разводе</td>\n",
       "      <td>0</td>\n",
       "      <td>1105</td>\n",
       "    </tr>\n",
       "    <tr>\n",
       "      <th>3</th>\n",
       "      <td>в разводе</td>\n",
       "      <td>1</td>\n",
       "      <td>84</td>\n",
       "    </tr>\n",
       "    <tr>\n",
       "      <th>4</th>\n",
       "      <td>вдовец / вдова</td>\n",
       "      <td>0</td>\n",
       "      <td>888</td>\n",
       "    </tr>\n",
       "    <tr>\n",
       "      <th>5</th>\n",
       "      <td>вдовец / вдова</td>\n",
       "      <td>1</td>\n",
       "      <td>63</td>\n",
       "    </tr>\n",
       "    <tr>\n",
       "      <th>6</th>\n",
       "      <td>гражданский брак</td>\n",
       "      <td>0</td>\n",
       "      <td>3749</td>\n",
       "    </tr>\n",
       "    <tr>\n",
       "      <th>7</th>\n",
       "      <td>гражданский брак</td>\n",
       "      <td>1</td>\n",
       "      <td>385</td>\n",
       "    </tr>\n",
       "    <tr>\n",
       "      <th>8</th>\n",
       "      <td>женат / замужем</td>\n",
       "      <td>0</td>\n",
       "      <td>11334</td>\n",
       "    </tr>\n",
       "    <tr>\n",
       "      <th>9</th>\n",
       "      <td>женат / замужем</td>\n",
       "      <td>1</td>\n",
       "      <td>927</td>\n",
       "    </tr>\n",
       "  </tbody>\n",
       "</table>\n",
       "</div>"
      ],
      "text/plain": [
       "           family_status  debt  children\n",
       "0  Не женат / не замужем     0      2523\n",
       "1  Не женат / не замужем     1       273\n",
       "2              в разводе     0      1105\n",
       "3              в разводе     1        84\n",
       "4         вдовец / вдова     0       888\n",
       "5         вдовец / вдова     1        63\n",
       "6       гражданский брак     0      3749\n",
       "7       гражданский брак     1       385\n",
       "8        женат / замужем     0     11334\n",
       "9        женат / замужем     1       927"
      ]
     },
     "execution_count": 30,
     "metadata": {},
     "output_type": "execute_result"
    }
   ],
   "source": [
    "data_grouped = data.groupby(['family_status','debt'])['children'].count().to_frame().reset_index()\n",
    "data_grouped"
   ]
  },
  {
   "cell_type": "code",
   "execution_count": 31,
   "id": "035c4068-4237-4bf8-abb7-4d3ce5bbd1bc",
   "metadata": {},
   "outputs": [],
   "source": [
    "fd_table = data_grouped.pivot(index = 'family_status', columns = 'debt', values = 'children')\n",
    "fd_table.columns = ['Without_debt','With_debt']"
   ]
  },
  {
   "cell_type": "code",
   "execution_count": 32,
   "id": "8b8a17e2-3a0b-4ad0-94c3-4985e7f4421d",
   "metadata": {},
   "outputs": [],
   "source": [
    "fd_table['part_with_debt'] = (fd_table['With_debt']/fd_table['With_debt'].sum())*100\n",
    "fd_table['part_without_debt']=(fd_table['Without_debt']/fd_table['Without_debt'].sum())*100\n",
    "fd_table['different'] = ((fd_table['part_without_debt']- fd_table['part_with_debt'])/fd_table['part_without_debt'])*100\n",
    "fd_table['Доля должников в категории'] = (fd_table['With_debt']/(fd_table['With_debt']+fd_table['Without_debt']))*100"
   ]
  },
  {
   "cell_type": "code",
   "execution_count": 33,
   "id": "b5459025-6e58-4f38-98cc-6815fdc6ef8b",
   "metadata": {},
   "outputs": [
    {
     "data": {
      "text/html": [
       "<div>\n",
       "<style scoped>\n",
       "    .dataframe tbody tr th:only-of-type {\n",
       "        vertical-align: middle;\n",
       "    }\n",
       "\n",
       "    .dataframe tbody tr th {\n",
       "        vertical-align: top;\n",
       "    }\n",
       "\n",
       "    .dataframe thead th {\n",
       "        text-align: right;\n",
       "    }\n",
       "</style>\n",
       "<table border=\"1\" class=\"dataframe\">\n",
       "  <thead>\n",
       "    <tr style=\"text-align: right;\">\n",
       "      <th></th>\n",
       "      <th>Without_debt</th>\n",
       "      <th>With_debt</th>\n",
       "      <th>part_with_debt</th>\n",
       "      <th>part_without_debt</th>\n",
       "      <th>different</th>\n",
       "      <th>Доля должников в категории</th>\n",
       "    </tr>\n",
       "    <tr>\n",
       "      <th>family_status</th>\n",
       "      <th></th>\n",
       "      <th></th>\n",
       "      <th></th>\n",
       "      <th></th>\n",
       "      <th></th>\n",
       "      <th></th>\n",
       "    </tr>\n",
       "  </thead>\n",
       "  <tbody>\n",
       "    <tr>\n",
       "      <th>Не женат / не замужем</th>\n",
       "      <td>2523</td>\n",
       "      <td>273</td>\n",
       "      <td>15.76</td>\n",
       "      <td>12.87</td>\n",
       "      <td>-22.44</td>\n",
       "      <td>9.76</td>\n",
       "    </tr>\n",
       "    <tr>\n",
       "      <th>в разводе</th>\n",
       "      <td>1105</td>\n",
       "      <td>84</td>\n",
       "      <td>4.85</td>\n",
       "      <td>5.64</td>\n",
       "      <td>13.98</td>\n",
       "      <td>7.06</td>\n",
       "    </tr>\n",
       "    <tr>\n",
       "      <th>вдовец / вдова</th>\n",
       "      <td>888</td>\n",
       "      <td>63</td>\n",
       "      <td>3.64</td>\n",
       "      <td>4.53</td>\n",
       "      <td>19.72</td>\n",
       "      <td>6.62</td>\n",
       "    </tr>\n",
       "    <tr>\n",
       "      <th>гражданский брак</th>\n",
       "      <td>3749</td>\n",
       "      <td>385</td>\n",
       "      <td>22.23</td>\n",
       "      <td>19.13</td>\n",
       "      <td>-16.21</td>\n",
       "      <td>9.31</td>\n",
       "    </tr>\n",
       "    <tr>\n",
       "      <th>женат / замужем</th>\n",
       "      <td>11334</td>\n",
       "      <td>927</td>\n",
       "      <td>53.52</td>\n",
       "      <td>57.83</td>\n",
       "      <td>7.45</td>\n",
       "      <td>7.56</td>\n",
       "    </tr>\n",
       "  </tbody>\n",
       "</table>\n",
       "</div>"
      ],
      "text/plain": [
       "                       Without_debt  With_debt  part_with_debt  \\\n",
       "family_status                                                    \n",
       "Не женат / не замужем          2523        273           15.76   \n",
       "в разводе                      1105         84            4.85   \n",
       "вдовец / вдова                  888         63            3.64   \n",
       "гражданский брак               3749        385           22.23   \n",
       "женат / замужем               11334        927           53.52   \n",
       "\n",
       "                       part_without_debt  different  \\\n",
       "family_status                                         \n",
       "Не женат / не замужем              12.87     -22.44   \n",
       "в разводе                           5.64      13.98   \n",
       "вдовец / вдова                      4.53      19.72   \n",
       "гражданский брак                   19.13     -16.21   \n",
       "женат / замужем                    57.83       7.45   \n",
       "\n",
       "                       Доля должников в категории  \n",
       "family_status                                      \n",
       "Не женат / не замужем                        9.76  \n",
       "в разводе                                    7.06  \n",
       "вдовец / вдова                               6.62  \n",
       "гражданский брак                             9.31  \n",
       "женат / замужем                              7.56  "
      ]
     },
     "execution_count": 33,
     "metadata": {},
     "output_type": "execute_result"
    }
   ],
   "source": [
    "fd_table"
   ]
  },
  {
   "cell_type": "markdown",
   "id": "1b6ff461-08fa-4c6c-a839-4d7ab476cd08",
   "metadata": {},
   "source": [
    "1. Зависимость определенно имеется\n",
    "2. Так у категорий женат/замужем, вдовец/вдова/, в разводе вероятность наличия задолженности меньше на 7,45%, 19,72%, 13,98% соответственно\n",
    "3. В то же время вероятность наличия задолженности растет у катерий гражданский брак и не женат/ не замужем на 16,21% и 22,44% соответственно\n",
    "\n",
    "Если посмотреть в разрезе по категориям в целом выводы не меняются"
   ]
  },
  {
   "cell_type": "markdown",
   "id": "9bbb6b25-50df-42ed-9acf-4c0f766ed390",
   "metadata": {},
   "source": [
    "## Задание 21. Есть ли зависимость между уровнем дохода и возвратом кредита в срок?"
   ]
  },
  {
   "cell_type": "code",
   "execution_count": 34,
   "id": "e0e711d0-6248-4f15-9edb-7df7e6002de4",
   "metadata": {},
   "outputs": [
    {
     "data": {
      "text/html": [
       "<div>\n",
       "<style scoped>\n",
       "    .dataframe tbody tr th:only-of-type {\n",
       "        vertical-align: middle;\n",
       "    }\n",
       "\n",
       "    .dataframe tbody tr th {\n",
       "        vertical-align: top;\n",
       "    }\n",
       "\n",
       "    .dataframe thead th {\n",
       "        text-align: right;\n",
       "    }\n",
       "</style>\n",
       "<table border=\"1\" class=\"dataframe\">\n",
       "  <thead>\n",
       "    <tr style=\"text-align: right;\">\n",
       "      <th></th>\n",
       "      <th>children</th>\n",
       "      <th>days_employed</th>\n",
       "      <th>dob_years</th>\n",
       "      <th>education</th>\n",
       "      <th>education_id</th>\n",
       "      <th>family_status</th>\n",
       "      <th>family_status_id</th>\n",
       "      <th>gender</th>\n",
       "      <th>income_type</th>\n",
       "      <th>debt</th>\n",
       "      <th>total_income</th>\n",
       "      <th>purpose</th>\n",
       "      <th>total_income_category</th>\n",
       "      <th>purpose_category</th>\n",
       "    </tr>\n",
       "  </thead>\n",
       "  <tbody>\n",
       "    <tr>\n",
       "      <th>0</th>\n",
       "      <td>1</td>\n",
       "      <td>8437.67</td>\n",
       "      <td>42</td>\n",
       "      <td>высшее</td>\n",
       "      <td>0</td>\n",
       "      <td>женат / замужем</td>\n",
       "      <td>0</td>\n",
       "      <td>F</td>\n",
       "      <td>сотрудник</td>\n",
       "      <td>0</td>\n",
       "      <td>253875</td>\n",
       "      <td>покупка жилья</td>\n",
       "      <td>B</td>\n",
       "      <td>операции с недвижимостью</td>\n",
       "    </tr>\n",
       "    <tr>\n",
       "      <th>1</th>\n",
       "      <td>1</td>\n",
       "      <td>4024.80</td>\n",
       "      <td>36</td>\n",
       "      <td>среднее</td>\n",
       "      <td>1</td>\n",
       "      <td>женат / замужем</td>\n",
       "      <td>0</td>\n",
       "      <td>F</td>\n",
       "      <td>сотрудник</td>\n",
       "      <td>0</td>\n",
       "      <td>112080</td>\n",
       "      <td>приобретение автомобиля</td>\n",
       "      <td>C</td>\n",
       "      <td>операции с автомобилем</td>\n",
       "    </tr>\n",
       "    <tr>\n",
       "      <th>2</th>\n",
       "      <td>0</td>\n",
       "      <td>5623.42</td>\n",
       "      <td>33</td>\n",
       "      <td>среднее</td>\n",
       "      <td>1</td>\n",
       "      <td>женат / замужем</td>\n",
       "      <td>0</td>\n",
       "      <td>M</td>\n",
       "      <td>сотрудник</td>\n",
       "      <td>0</td>\n",
       "      <td>145885</td>\n",
       "      <td>покупка жилья</td>\n",
       "      <td>C</td>\n",
       "      <td>операции с недвижимостью</td>\n",
       "    </tr>\n",
       "    <tr>\n",
       "      <th>3</th>\n",
       "      <td>3</td>\n",
       "      <td>4124.75</td>\n",
       "      <td>32</td>\n",
       "      <td>среднее</td>\n",
       "      <td>1</td>\n",
       "      <td>женат / замужем</td>\n",
       "      <td>0</td>\n",
       "      <td>M</td>\n",
       "      <td>сотрудник</td>\n",
       "      <td>0</td>\n",
       "      <td>267628</td>\n",
       "      <td>дополнительное образование</td>\n",
       "      <td>B</td>\n",
       "      <td>получение образования</td>\n",
       "    </tr>\n",
       "    <tr>\n",
       "      <th>4</th>\n",
       "      <td>0</td>\n",
       "      <td>340266.07</td>\n",
       "      <td>53</td>\n",
       "      <td>среднее</td>\n",
       "      <td>1</td>\n",
       "      <td>гражданский брак</td>\n",
       "      <td>1</td>\n",
       "      <td>F</td>\n",
       "      <td>пенсионер</td>\n",
       "      <td>0</td>\n",
       "      <td>158616</td>\n",
       "      <td>сыграть свадьбу</td>\n",
       "      <td>C</td>\n",
       "      <td>проведение свадьбы</td>\n",
       "    </tr>\n",
       "  </tbody>\n",
       "</table>\n",
       "</div>"
      ],
      "text/plain": [
       "   children  days_employed  dob_years education  education_id  \\\n",
       "0         1        8437.67         42    высшее             0   \n",
       "1         1        4024.80         36   среднее             1   \n",
       "2         0        5623.42         33   среднее             1   \n",
       "3         3        4124.75         32   среднее             1   \n",
       "4         0      340266.07         53   среднее             1   \n",
       "\n",
       "      family_status  family_status_id gender income_type  debt  total_income  \\\n",
       "0   женат / замужем                 0      F   сотрудник     0        253875   \n",
       "1   женат / замужем                 0      F   сотрудник     0        112080   \n",
       "2   женат / замужем                 0      M   сотрудник     0        145885   \n",
       "3   женат / замужем                 0      M   сотрудник     0        267628   \n",
       "4  гражданский брак                 1      F   пенсионер     0        158616   \n",
       "\n",
       "                      purpose total_income_category          purpose_category  \n",
       "0               покупка жилья                     B  операции с недвижимостью  \n",
       "1     приобретение автомобиля                     C    операции с автомобилем  \n",
       "2               покупка жилья                     C  операции с недвижимостью  \n",
       "3  дополнительное образование                     B     получение образования  \n",
       "4             сыграть свадьбу                     C        проведение свадьбы  "
      ]
     },
     "execution_count": 34,
     "metadata": {},
     "output_type": "execute_result"
    }
   ],
   "source": [
    "data.head()"
   ]
  },
  {
   "cell_type": "code",
   "execution_count": 35,
   "id": "adc0f133-b1bf-4a7f-99c1-b1321cbbfa8b",
   "metadata": {},
   "outputs": [
    {
     "data": {
      "text/html": [
       "<div>\n",
       "<style scoped>\n",
       "    .dataframe tbody tr th:only-of-type {\n",
       "        vertical-align: middle;\n",
       "    }\n",
       "\n",
       "    .dataframe tbody tr th {\n",
       "        vertical-align: top;\n",
       "    }\n",
       "\n",
       "    .dataframe thead th {\n",
       "        text-align: right;\n",
       "    }\n",
       "</style>\n",
       "<table border=\"1\" class=\"dataframe\">\n",
       "  <thead>\n",
       "    <tr style=\"text-align: right;\">\n",
       "      <th></th>\n",
       "      <th>total_income_category</th>\n",
       "      <th>debt</th>\n",
       "      <th>children</th>\n",
       "    </tr>\n",
       "  </thead>\n",
       "  <tbody>\n",
       "    <tr>\n",
       "      <th>0</th>\n",
       "      <td>A</td>\n",
       "      <td>0</td>\n",
       "      <td>23</td>\n",
       "    </tr>\n",
       "    <tr>\n",
       "      <th>1</th>\n",
       "      <td>A</td>\n",
       "      <td>1</td>\n",
       "      <td>2</td>\n",
       "    </tr>\n",
       "    <tr>\n",
       "      <th>2</th>\n",
       "      <td>B</td>\n",
       "      <td>0</td>\n",
       "      <td>4660</td>\n",
       "    </tr>\n",
       "    <tr>\n",
       "      <th>3</th>\n",
       "      <td>B</td>\n",
       "      <td>1</td>\n",
       "      <td>354</td>\n",
       "    </tr>\n",
       "    <tr>\n",
       "      <th>4</th>\n",
       "      <td>C</td>\n",
       "      <td>0</td>\n",
       "      <td>14568</td>\n",
       "    </tr>\n",
       "    <tr>\n",
       "      <th>5</th>\n",
       "      <td>C</td>\n",
       "      <td>1</td>\n",
       "      <td>1353</td>\n",
       "    </tr>\n",
       "    <tr>\n",
       "      <th>6</th>\n",
       "      <td>D</td>\n",
       "      <td>0</td>\n",
       "      <td>328</td>\n",
       "    </tr>\n",
       "    <tr>\n",
       "      <th>7</th>\n",
       "      <td>D</td>\n",
       "      <td>1</td>\n",
       "      <td>21</td>\n",
       "    </tr>\n",
       "    <tr>\n",
       "      <th>8</th>\n",
       "      <td>E</td>\n",
       "      <td>0</td>\n",
       "      <td>20</td>\n",
       "    </tr>\n",
       "    <tr>\n",
       "      <th>9</th>\n",
       "      <td>E</td>\n",
       "      <td>1</td>\n",
       "      <td>2</td>\n",
       "    </tr>\n",
       "  </tbody>\n",
       "</table>\n",
       "</div>"
      ],
      "text/plain": [
       "  total_income_category  debt  children\n",
       "0                     A     0        23\n",
       "1                     A     1         2\n",
       "2                     B     0      4660\n",
       "3                     B     1       354\n",
       "4                     C     0     14568\n",
       "5                     C     1      1353\n",
       "6                     D     0       328\n",
       "7                     D     1        21\n",
       "8                     E     0        20\n",
       "9                     E     1         2"
      ]
     },
     "execution_count": 35,
     "metadata": {},
     "output_type": "execute_result"
    }
   ],
   "source": [
    "data_grouped = data.groupby(['total_income_category','debt'])['children'].count().to_frame().reset_index()\n",
    "data_grouped"
   ]
  },
  {
   "cell_type": "code",
   "execution_count": 36,
   "id": "64035756-7e76-4263-aacb-39261047ffc8",
   "metadata": {},
   "outputs": [],
   "source": [
    "ticd_table = data_grouped.pivot(index = 'total_income_category', columns = 'debt', values = 'children')\n",
    "ticd_table.columns = ['Without_debt','With_debt']"
   ]
  },
  {
   "cell_type": "code",
   "execution_count": 37,
   "id": "ec328886-07cf-4787-a629-dba72f38df37",
   "metadata": {},
   "outputs": [],
   "source": [
    "ticd_table['part_with_debt'] = ticd_table['With_debt']/ticd_table['With_debt'].sum()\n",
    "ticd_table['part_without_debt']=ticd_table['Without_debt']/ticd_table['Without_debt'].sum()\n",
    "ticd_table['different'] = (ticd_table['part_without_debt']- ticd_table['part_with_debt'])/ticd_table['part_without_debt']"
   ]
  },
  {
   "cell_type": "code",
   "execution_count": 38,
   "id": "904b152a-ccad-4124-a76f-0660c23f720e",
   "metadata": {},
   "outputs": [
    {
     "data": {
      "text/html": [
       "<div>\n",
       "<style scoped>\n",
       "    .dataframe tbody tr th:only-of-type {\n",
       "        vertical-align: middle;\n",
       "    }\n",
       "\n",
       "    .dataframe tbody tr th {\n",
       "        vertical-align: top;\n",
       "    }\n",
       "\n",
       "    .dataframe thead th {\n",
       "        text-align: right;\n",
       "    }\n",
       "</style>\n",
       "<table border=\"1\" class=\"dataframe\">\n",
       "  <thead>\n",
       "    <tr style=\"text-align: right;\">\n",
       "      <th></th>\n",
       "      <th>Without_debt</th>\n",
       "      <th>With_debt</th>\n",
       "      <th>part_with_debt</th>\n",
       "      <th>part_without_debt</th>\n",
       "      <th>different</th>\n",
       "    </tr>\n",
       "    <tr>\n",
       "      <th>total_income_category</th>\n",
       "      <th></th>\n",
       "      <th></th>\n",
       "      <th></th>\n",
       "      <th></th>\n",
       "      <th></th>\n",
       "    </tr>\n",
       "  </thead>\n",
       "  <tbody>\n",
       "    <tr>\n",
       "      <th>A</th>\n",
       "      <td>23</td>\n",
       "      <td>2</td>\n",
       "      <td>0.00</td>\n",
       "      <td>0.00</td>\n",
       "      <td>0.02</td>\n",
       "    </tr>\n",
       "    <tr>\n",
       "      <th>B</th>\n",
       "      <td>4660</td>\n",
       "      <td>354</td>\n",
       "      <td>0.20</td>\n",
       "      <td>0.24</td>\n",
       "      <td>0.14</td>\n",
       "    </tr>\n",
       "    <tr>\n",
       "      <th>C</th>\n",
       "      <td>14568</td>\n",
       "      <td>1353</td>\n",
       "      <td>0.78</td>\n",
       "      <td>0.74</td>\n",
       "      <td>-0.05</td>\n",
       "    </tr>\n",
       "    <tr>\n",
       "      <th>D</th>\n",
       "      <td>328</td>\n",
       "      <td>21</td>\n",
       "      <td>0.01</td>\n",
       "      <td>0.02</td>\n",
       "      <td>0.28</td>\n",
       "    </tr>\n",
       "    <tr>\n",
       "      <th>E</th>\n",
       "      <td>20</td>\n",
       "      <td>2</td>\n",
       "      <td>0.00</td>\n",
       "      <td>0.00</td>\n",
       "      <td>-0.13</td>\n",
       "    </tr>\n",
       "  </tbody>\n",
       "</table>\n",
       "</div>"
      ],
      "text/plain": [
       "                       Without_debt  With_debt  part_with_debt  \\\n",
       "total_income_category                                            \n",
       "A                                23          2            0.00   \n",
       "B                              4660        354            0.20   \n",
       "C                             14568       1353            0.78   \n",
       "D                               328         21            0.01   \n",
       "E                                20          2            0.00   \n",
       "\n",
       "                       part_without_debt  different  \n",
       "total_income_category                                \n",
       "A                                   0.00       0.02  \n",
       "B                                   0.24       0.14  \n",
       "C                                   0.74      -0.05  \n",
       "D                                   0.02       0.28  \n",
       "E                                   0.00      -0.13  "
      ]
     },
     "execution_count": 38,
     "metadata": {},
     "output_type": "execute_result"
    }
   ],
   "source": [
    "ticd_table"
   ]
  },
  {
   "cell_type": "markdown",
   "id": "caf24175-abf9-40ee-9d5a-cd44ad48f500",
   "metadata": {},
   "source": [
    "По полученным данным невозможно делать какие-либо выводы, поскольку на 2 группы В и С приходятся более 95%  всей выборки. Поэтому сменим подход в определении категории уровня дохода. Возьмем распределение по процентилям:"
   ]
  },
  {
   "cell_type": "code",
   "execution_count": 39,
   "id": "6423947d-654f-4b4b-8fef-08067fd3306a",
   "metadata": {},
   "outputs": [],
   "source": [
    "data['total_income_category'] = np.where(data['total_income']<data['total_income'].quantile(0.10), 'F', \\\n",
    "                                        np.where(data['total_income']<data['total_income'].quantile(0.20), 'E', \\\n",
    "                                        np.where(data['total_income']<data['total_income'].quantile(0.40), 'D', \\\n",
    "                                        np.where(data['total_income']<data['total_income'].quantile(0.60), 'C', \\\n",
    "                                        np.where(data['total_income']<data['total_income'].quantile(0.80), 'B','A')))))"
   ]
  },
  {
   "cell_type": "code",
   "execution_count": 40,
   "id": "2a15e931-69a8-4289-90fa-b4885fd128b3",
   "metadata": {},
   "outputs": [
    {
     "name": "stdout",
     "output_type": "stream",
     "text": [
      "78710.0\n",
      "98514.0\n",
      "132113.0\n",
      "161380.0\n",
      "214604.0\n"
     ]
    }
   ],
   "source": [
    "print(data['total_income'].quantile(0.10))\n",
    "print(data['total_income'].quantile(0.20))\n",
    "print(data['total_income'].quantile(0.40))\n",
    "print(data['total_income'].quantile(0.60))\n",
    "print(data['total_income'].quantile(0.80))"
   ]
  },
  {
   "cell_type": "code",
   "execution_count": 41,
   "id": "b4648d71-8eb0-429c-9438-d8a2778c5052",
   "metadata": {},
   "outputs": [
    {
     "data": {
      "text/html": [
       "<div>\n",
       "<style scoped>\n",
       "    .dataframe tbody tr th:only-of-type {\n",
       "        vertical-align: middle;\n",
       "    }\n",
       "\n",
       "    .dataframe tbody tr th {\n",
       "        vertical-align: top;\n",
       "    }\n",
       "\n",
       "    .dataframe thead th {\n",
       "        text-align: right;\n",
       "    }\n",
       "</style>\n",
       "<table border=\"1\" class=\"dataframe\">\n",
       "  <thead>\n",
       "    <tr style=\"text-align: right;\">\n",
       "      <th></th>\n",
       "      <th>total_income_category</th>\n",
       "      <th>debt</th>\n",
       "      <th>children</th>\n",
       "    </tr>\n",
       "  </thead>\n",
       "  <tbody>\n",
       "    <tr>\n",
       "      <th>0</th>\n",
       "      <td>A</td>\n",
       "      <td>0</td>\n",
       "      <td>3968</td>\n",
       "    </tr>\n",
       "    <tr>\n",
       "      <th>1</th>\n",
       "      <td>A</td>\n",
       "      <td>1</td>\n",
       "      <td>299</td>\n",
       "    </tr>\n",
       "    <tr>\n",
       "      <th>2</th>\n",
       "      <td>B</td>\n",
       "      <td>0</td>\n",
       "      <td>3908</td>\n",
       "    </tr>\n",
       "    <tr>\n",
       "      <th>3</th>\n",
       "      <td>B</td>\n",
       "      <td>1</td>\n",
       "      <td>358</td>\n",
       "    </tr>\n",
       "    <tr>\n",
       "      <th>4</th>\n",
       "      <td>C</td>\n",
       "      <td>0</td>\n",
       "      <td>3892</td>\n",
       "    </tr>\n",
       "    <tr>\n",
       "      <th>5</th>\n",
       "      <td>C</td>\n",
       "      <td>1</td>\n",
       "      <td>375</td>\n",
       "    </tr>\n",
       "    <tr>\n",
       "      <th>6</th>\n",
       "      <td>D</td>\n",
       "      <td>0</td>\n",
       "      <td>3910</td>\n",
       "    </tr>\n",
       "    <tr>\n",
       "      <th>7</th>\n",
       "      <td>D</td>\n",
       "      <td>1</td>\n",
       "      <td>356</td>\n",
       "    </tr>\n",
       "    <tr>\n",
       "      <th>8</th>\n",
       "      <td>E</td>\n",
       "      <td>0</td>\n",
       "      <td>1945</td>\n",
       "    </tr>\n",
       "    <tr>\n",
       "      <th>9</th>\n",
       "      <td>E</td>\n",
       "      <td>1</td>\n",
       "      <td>187</td>\n",
       "    </tr>\n",
       "    <tr>\n",
       "      <th>10</th>\n",
       "      <td>F</td>\n",
       "      <td>0</td>\n",
       "      <td>1976</td>\n",
       "    </tr>\n",
       "    <tr>\n",
       "      <th>11</th>\n",
       "      <td>F</td>\n",
       "      <td>1</td>\n",
       "      <td>157</td>\n",
       "    </tr>\n",
       "  </tbody>\n",
       "</table>\n",
       "</div>"
      ],
      "text/plain": [
       "   total_income_category  debt  children\n",
       "0                      A     0      3968\n",
       "1                      A     1       299\n",
       "2                      B     0      3908\n",
       "3                      B     1       358\n",
       "4                      C     0      3892\n",
       "5                      C     1       375\n",
       "6                      D     0      3910\n",
       "7                      D     1       356\n",
       "8                      E     0      1945\n",
       "9                      E     1       187\n",
       "10                     F     0      1976\n",
       "11                     F     1       157"
      ]
     },
     "execution_count": 41,
     "metadata": {},
     "output_type": "execute_result"
    }
   ],
   "source": [
    "data_grouped = data.groupby(['total_income_category','debt'])['children'].count().to_frame().reset_index()\n",
    "data_grouped"
   ]
  },
  {
   "cell_type": "code",
   "execution_count": 42,
   "id": "abacd41b-a6d3-4982-bba4-82e10e4a7529",
   "metadata": {},
   "outputs": [],
   "source": [
    "ticd_table = data_grouped.pivot(index = 'total_income_category', columns = 'debt', values = 'children')\n",
    "ticd_table.columns = ['Without_debt','With_debt']"
   ]
  },
  {
   "cell_type": "code",
   "execution_count": 43,
   "id": "234c4c6a-4a69-4a50-9ae7-0a3f2433eb78",
   "metadata": {},
   "outputs": [],
   "source": [
    "ticd_table['part_with_debt'] = ticd_table['With_debt']/ticd_table['With_debt'].sum()\n",
    "ticd_table['part_without_debt']=ticd_table['Without_debt']/ticd_table['Without_debt'].sum()\n",
    "ticd_table['different'] = (ticd_table['part_without_debt']- ticd_table['part_with_debt'])/ticd_table['part_without_debt']"
   ]
  },
  {
   "cell_type": "code",
   "execution_count": 44,
   "id": "d24c9b19-2384-45a1-91bd-5700fda1bc42",
   "metadata": {},
   "outputs": [
    {
     "data": {
      "text/html": [
       "<div>\n",
       "<style scoped>\n",
       "    .dataframe tbody tr th:only-of-type {\n",
       "        vertical-align: middle;\n",
       "    }\n",
       "\n",
       "    .dataframe tbody tr th {\n",
       "        vertical-align: top;\n",
       "    }\n",
       "\n",
       "    .dataframe thead th {\n",
       "        text-align: right;\n",
       "    }\n",
       "</style>\n",
       "<table border=\"1\" class=\"dataframe\">\n",
       "  <thead>\n",
       "    <tr style=\"text-align: right;\">\n",
       "      <th></th>\n",
       "      <th>Without_debt</th>\n",
       "      <th>With_debt</th>\n",
       "      <th>part_with_debt</th>\n",
       "      <th>part_without_debt</th>\n",
       "      <th>different</th>\n",
       "    </tr>\n",
       "    <tr>\n",
       "      <th>total_income_category</th>\n",
       "      <th></th>\n",
       "      <th></th>\n",
       "      <th></th>\n",
       "      <th></th>\n",
       "      <th></th>\n",
       "    </tr>\n",
       "  </thead>\n",
       "  <tbody>\n",
       "    <tr>\n",
       "      <th>A</th>\n",
       "      <td>3968</td>\n",
       "      <td>299</td>\n",
       "      <td>0.17</td>\n",
       "      <td>0.20</td>\n",
       "      <td>0.15</td>\n",
       "    </tr>\n",
       "    <tr>\n",
       "      <th>B</th>\n",
       "      <td>3908</td>\n",
       "      <td>358</td>\n",
       "      <td>0.21</td>\n",
       "      <td>0.20</td>\n",
       "      <td>-0.04</td>\n",
       "    </tr>\n",
       "    <tr>\n",
       "      <th>C</th>\n",
       "      <td>3892</td>\n",
       "      <td>375</td>\n",
       "      <td>0.22</td>\n",
       "      <td>0.20</td>\n",
       "      <td>-0.09</td>\n",
       "    </tr>\n",
       "    <tr>\n",
       "      <th>D</th>\n",
       "      <td>3910</td>\n",
       "      <td>356</td>\n",
       "      <td>0.21</td>\n",
       "      <td>0.20</td>\n",
       "      <td>-0.03</td>\n",
       "    </tr>\n",
       "    <tr>\n",
       "      <th>E</th>\n",
       "      <td>1945</td>\n",
       "      <td>187</td>\n",
       "      <td>0.11</td>\n",
       "      <td>0.10</td>\n",
       "      <td>-0.09</td>\n",
       "    </tr>\n",
       "    <tr>\n",
       "      <th>F</th>\n",
       "      <td>1976</td>\n",
       "      <td>157</td>\n",
       "      <td>0.09</td>\n",
       "      <td>0.10</td>\n",
       "      <td>0.10</td>\n",
       "    </tr>\n",
       "  </tbody>\n",
       "</table>\n",
       "</div>"
      ],
      "text/plain": [
       "                       Without_debt  With_debt  part_with_debt  \\\n",
       "total_income_category                                            \n",
       "A                              3968        299            0.17   \n",
       "B                              3908        358            0.21   \n",
       "C                              3892        375            0.22   \n",
       "D                              3910        356            0.21   \n",
       "E                              1945        187            0.11   \n",
       "F                              1976        157            0.09   \n",
       "\n",
       "                       part_without_debt  different  \n",
       "total_income_category                                \n",
       "A                                   0.20       0.15  \n",
       "B                                   0.20      -0.04  \n",
       "C                                   0.20      -0.09  \n",
       "D                                   0.20      -0.03  \n",
       "E                                   0.10      -0.09  \n",
       "F                                   0.10       0.10  "
      ]
     },
     "execution_count": 44,
     "metadata": {},
     "output_type": "execute_result"
    }
   ],
   "source": [
    "ticd_table"
   ]
  },
  {
   "cell_type": "markdown",
   "id": "7240f031-09c3-4192-9a1c-44301f3aaaf4",
   "metadata": {},
   "source": [
    "Взаимосвязь и наличием/отсутствием задолженности нелинейная. Нельзя сказать с уверенностью что есть какая-то четкая зависимость"
   ]
  },
  {
   "cell_type": "markdown",
   "id": "27fb86e7-4949-4abf-816a-59841b8b6b04",
   "metadata": {},
   "source": [
    "## Задание 22. Как разные цели кредита влияют на его возврат в срок?"
   ]
  },
  {
   "cell_type": "code",
   "execution_count": 45,
   "id": "7b2d6575-c658-4123-bc74-e5454377692b",
   "metadata": {},
   "outputs": [
    {
     "data": {
      "text/html": [
       "<div>\n",
       "<style scoped>\n",
       "    .dataframe tbody tr th:only-of-type {\n",
       "        vertical-align: middle;\n",
       "    }\n",
       "\n",
       "    .dataframe tbody tr th {\n",
       "        vertical-align: top;\n",
       "    }\n",
       "\n",
       "    .dataframe thead th {\n",
       "        text-align: right;\n",
       "    }\n",
       "</style>\n",
       "<table border=\"1\" class=\"dataframe\">\n",
       "  <thead>\n",
       "    <tr style=\"text-align: right;\">\n",
       "      <th></th>\n",
       "      <th>children</th>\n",
       "      <th>days_employed</th>\n",
       "      <th>dob_years</th>\n",
       "      <th>education</th>\n",
       "      <th>education_id</th>\n",
       "      <th>family_status</th>\n",
       "      <th>family_status_id</th>\n",
       "      <th>gender</th>\n",
       "      <th>income_type</th>\n",
       "      <th>debt</th>\n",
       "      <th>total_income</th>\n",
       "      <th>purpose</th>\n",
       "      <th>total_income_category</th>\n",
       "      <th>purpose_category</th>\n",
       "    </tr>\n",
       "  </thead>\n",
       "  <tbody>\n",
       "    <tr>\n",
       "      <th>0</th>\n",
       "      <td>1</td>\n",
       "      <td>8437.67</td>\n",
       "      <td>42</td>\n",
       "      <td>высшее</td>\n",
       "      <td>0</td>\n",
       "      <td>женат / замужем</td>\n",
       "      <td>0</td>\n",
       "      <td>F</td>\n",
       "      <td>сотрудник</td>\n",
       "      <td>0</td>\n",
       "      <td>253875</td>\n",
       "      <td>покупка жилья</td>\n",
       "      <td>A</td>\n",
       "      <td>операции с недвижимостью</td>\n",
       "    </tr>\n",
       "    <tr>\n",
       "      <th>1</th>\n",
       "      <td>1</td>\n",
       "      <td>4024.80</td>\n",
       "      <td>36</td>\n",
       "      <td>среднее</td>\n",
       "      <td>1</td>\n",
       "      <td>женат / замужем</td>\n",
       "      <td>0</td>\n",
       "      <td>F</td>\n",
       "      <td>сотрудник</td>\n",
       "      <td>0</td>\n",
       "      <td>112080</td>\n",
       "      <td>приобретение автомобиля</td>\n",
       "      <td>D</td>\n",
       "      <td>операции с автомобилем</td>\n",
       "    </tr>\n",
       "    <tr>\n",
       "      <th>2</th>\n",
       "      <td>0</td>\n",
       "      <td>5623.42</td>\n",
       "      <td>33</td>\n",
       "      <td>среднее</td>\n",
       "      <td>1</td>\n",
       "      <td>женат / замужем</td>\n",
       "      <td>0</td>\n",
       "      <td>M</td>\n",
       "      <td>сотрудник</td>\n",
       "      <td>0</td>\n",
       "      <td>145885</td>\n",
       "      <td>покупка жилья</td>\n",
       "      <td>C</td>\n",
       "      <td>операции с недвижимостью</td>\n",
       "    </tr>\n",
       "    <tr>\n",
       "      <th>3</th>\n",
       "      <td>3</td>\n",
       "      <td>4124.75</td>\n",
       "      <td>32</td>\n",
       "      <td>среднее</td>\n",
       "      <td>1</td>\n",
       "      <td>женат / замужем</td>\n",
       "      <td>0</td>\n",
       "      <td>M</td>\n",
       "      <td>сотрудник</td>\n",
       "      <td>0</td>\n",
       "      <td>267628</td>\n",
       "      <td>дополнительное образование</td>\n",
       "      <td>A</td>\n",
       "      <td>получение образования</td>\n",
       "    </tr>\n",
       "    <tr>\n",
       "      <th>4</th>\n",
       "      <td>0</td>\n",
       "      <td>340266.07</td>\n",
       "      <td>53</td>\n",
       "      <td>среднее</td>\n",
       "      <td>1</td>\n",
       "      <td>гражданский брак</td>\n",
       "      <td>1</td>\n",
       "      <td>F</td>\n",
       "      <td>пенсионер</td>\n",
       "      <td>0</td>\n",
       "      <td>158616</td>\n",
       "      <td>сыграть свадьбу</td>\n",
       "      <td>C</td>\n",
       "      <td>проведение свадьбы</td>\n",
       "    </tr>\n",
       "  </tbody>\n",
       "</table>\n",
       "</div>"
      ],
      "text/plain": [
       "   children  days_employed  dob_years education  education_id  \\\n",
       "0         1        8437.67         42    высшее             0   \n",
       "1         1        4024.80         36   среднее             1   \n",
       "2         0        5623.42         33   среднее             1   \n",
       "3         3        4124.75         32   среднее             1   \n",
       "4         0      340266.07         53   среднее             1   \n",
       "\n",
       "      family_status  family_status_id gender income_type  debt  total_income  \\\n",
       "0   женат / замужем                 0      F   сотрудник     0        253875   \n",
       "1   женат / замужем                 0      F   сотрудник     0        112080   \n",
       "2   женат / замужем                 0      M   сотрудник     0        145885   \n",
       "3   женат / замужем                 0      M   сотрудник     0        267628   \n",
       "4  гражданский брак                 1      F   пенсионер     0        158616   \n",
       "\n",
       "                      purpose total_income_category          purpose_category  \n",
       "0               покупка жилья                     A  операции с недвижимостью  \n",
       "1     приобретение автомобиля                     D    операции с автомобилем  \n",
       "2               покупка жилья                     C  операции с недвижимостью  \n",
       "3  дополнительное образование                     A     получение образования  \n",
       "4             сыграть свадьбу                     C        проведение свадьбы  "
      ]
     },
     "execution_count": 45,
     "metadata": {},
     "output_type": "execute_result"
    }
   ],
   "source": [
    "data.head()"
   ]
  },
  {
   "cell_type": "code",
   "execution_count": 46,
   "id": "b66847ae-f155-421c-a6f8-8677d8efd9fd",
   "metadata": {},
   "outputs": [
    {
     "data": {
      "text/html": [
       "<div>\n",
       "<style scoped>\n",
       "    .dataframe tbody tr th:only-of-type {\n",
       "        vertical-align: middle;\n",
       "    }\n",
       "\n",
       "    .dataframe tbody tr th {\n",
       "        vertical-align: top;\n",
       "    }\n",
       "\n",
       "    .dataframe thead th {\n",
       "        text-align: right;\n",
       "    }\n",
       "</style>\n",
       "<table border=\"1\" class=\"dataframe\">\n",
       "  <thead>\n",
       "    <tr style=\"text-align: right;\">\n",
       "      <th></th>\n",
       "      <th>purpose_category</th>\n",
       "      <th>debt</th>\n",
       "      <th>children</th>\n",
       "    </tr>\n",
       "  </thead>\n",
       "  <tbody>\n",
       "    <tr>\n",
       "      <th>0</th>\n",
       "      <td>операции с автомобилем</td>\n",
       "      <td>0</td>\n",
       "      <td>3879</td>\n",
       "    </tr>\n",
       "    <tr>\n",
       "      <th>1</th>\n",
       "      <td>операции с автомобилем</td>\n",
       "      <td>1</td>\n",
       "      <td>400</td>\n",
       "    </tr>\n",
       "    <tr>\n",
       "      <th>2</th>\n",
       "      <td>операции с недвижимостью</td>\n",
       "      <td>0</td>\n",
       "      <td>9971</td>\n",
       "    </tr>\n",
       "    <tr>\n",
       "      <th>3</th>\n",
       "      <td>операции с недвижимостью</td>\n",
       "      <td>1</td>\n",
       "      <td>780</td>\n",
       "    </tr>\n",
       "    <tr>\n",
       "      <th>4</th>\n",
       "      <td>получение образования</td>\n",
       "      <td>0</td>\n",
       "      <td>3619</td>\n",
       "    </tr>\n",
       "    <tr>\n",
       "      <th>5</th>\n",
       "      <td>получение образования</td>\n",
       "      <td>1</td>\n",
       "      <td>369</td>\n",
       "    </tr>\n",
       "    <tr>\n",
       "      <th>6</th>\n",
       "      <td>проведение свадьбы</td>\n",
       "      <td>0</td>\n",
       "      <td>2130</td>\n",
       "    </tr>\n",
       "    <tr>\n",
       "      <th>7</th>\n",
       "      <td>проведение свадьбы</td>\n",
       "      <td>1</td>\n",
       "      <td>183</td>\n",
       "    </tr>\n",
       "  </tbody>\n",
       "</table>\n",
       "</div>"
      ],
      "text/plain": [
       "           purpose_category  debt  children\n",
       "0    операции с автомобилем     0      3879\n",
       "1    операции с автомобилем     1       400\n",
       "2  операции с недвижимостью     0      9971\n",
       "3  операции с недвижимостью     1       780\n",
       "4     получение образования     0      3619\n",
       "5     получение образования     1       369\n",
       "6        проведение свадьбы     0      2130\n",
       "7        проведение свадьбы     1       183"
      ]
     },
     "execution_count": 46,
     "metadata": {},
     "output_type": "execute_result"
    }
   ],
   "source": [
    "data_grouped = data.groupby(['purpose_category','debt'])['children'].count().to_frame().reset_index()\n",
    "data_grouped"
   ]
  },
  {
   "cell_type": "code",
   "execution_count": 47,
   "id": "a16143ee-6b26-45db-9850-59d0d8a8dd5a",
   "metadata": {},
   "outputs": [],
   "source": [
    "pcd_table = data_grouped.pivot(index = 'purpose_category', columns = 'debt', values = 'children')\n",
    "pcd_table.columns = ['Without_debt','With_debt']"
   ]
  },
  {
   "cell_type": "code",
   "execution_count": 48,
   "id": "84e5fbfb-2ff5-4d0b-bd2f-f51907b60e22",
   "metadata": {},
   "outputs": [],
   "source": [
    "pcd_table['part_with_debt'] = pcd_table['With_debt']/pcd_table['With_debt'].sum()\n",
    "pcd_table['part_without_debt']=pcd_table['Without_debt']/pcd_table['Without_debt'].sum()\n",
    "pcd_table['different'] = (pcd_table['part_without_debt'] - pcd_table['part_with_debt'])/pcd_table['part_without_debt']\n",
    "pcd_table['debt_part'] = pcd_table['With_debt']/(pcd_table['With_debt']+pcd_table['Without_debt'])"
   ]
  },
  {
   "cell_type": "code",
   "execution_count": 49,
   "id": "761f1ade-ee93-4c02-a022-7929adf8a2f5",
   "metadata": {},
   "outputs": [
    {
     "data": {
      "text/html": [
       "<div>\n",
       "<style scoped>\n",
       "    .dataframe tbody tr th:only-of-type {\n",
       "        vertical-align: middle;\n",
       "    }\n",
       "\n",
       "    .dataframe tbody tr th {\n",
       "        vertical-align: top;\n",
       "    }\n",
       "\n",
       "    .dataframe thead th {\n",
       "        text-align: right;\n",
       "    }\n",
       "</style>\n",
       "<table border=\"1\" class=\"dataframe\">\n",
       "  <thead>\n",
       "    <tr style=\"text-align: right;\">\n",
       "      <th></th>\n",
       "      <th>Without_debt</th>\n",
       "      <th>With_debt</th>\n",
       "      <th>part_with_debt</th>\n",
       "      <th>part_without_debt</th>\n",
       "      <th>different</th>\n",
       "      <th>debt_part</th>\n",
       "    </tr>\n",
       "    <tr>\n",
       "      <th>purpose_category</th>\n",
       "      <th></th>\n",
       "      <th></th>\n",
       "      <th></th>\n",
       "      <th></th>\n",
       "      <th></th>\n",
       "      <th></th>\n",
       "    </tr>\n",
       "  </thead>\n",
       "  <tbody>\n",
       "    <tr>\n",
       "      <th>операции с автомобилем</th>\n",
       "      <td>3879</td>\n",
       "      <td>400</td>\n",
       "      <td>0.23</td>\n",
       "      <td>0.20</td>\n",
       "      <td>-0.17</td>\n",
       "      <td>0.09</td>\n",
       "    </tr>\n",
       "    <tr>\n",
       "      <th>операции с недвижимостью</th>\n",
       "      <td>9971</td>\n",
       "      <td>780</td>\n",
       "      <td>0.45</td>\n",
       "      <td>0.51</td>\n",
       "      <td>0.11</td>\n",
       "      <td>0.07</td>\n",
       "    </tr>\n",
       "    <tr>\n",
       "      <th>получение образования</th>\n",
       "      <td>3619</td>\n",
       "      <td>369</td>\n",
       "      <td>0.21</td>\n",
       "      <td>0.18</td>\n",
       "      <td>-0.15</td>\n",
       "      <td>0.09</td>\n",
       "    </tr>\n",
       "    <tr>\n",
       "      <th>проведение свадьбы</th>\n",
       "      <td>2130</td>\n",
       "      <td>183</td>\n",
       "      <td>0.11</td>\n",
       "      <td>0.11</td>\n",
       "      <td>0.03</td>\n",
       "      <td>0.08</td>\n",
       "    </tr>\n",
       "  </tbody>\n",
       "</table>\n",
       "</div>"
      ],
      "text/plain": [
       "                          Without_debt  With_debt  part_with_debt  \\\n",
       "purpose_category                                                    \n",
       "операции с автомобилем            3879        400            0.23   \n",
       "операции с недвижимостью          9971        780            0.45   \n",
       "получение образования             3619        369            0.21   \n",
       "проведение свадьбы                2130        183            0.11   \n",
       "\n",
       "                          part_without_debt  different  debt_part  \n",
       "purpose_category                                                   \n",
       "операции с автомобилем                 0.20      -0.17       0.09  \n",
       "операции с недвижимостью               0.51       0.11       0.07  \n",
       "получение образования                  0.18      -0.15       0.09  \n",
       "проведение свадьбы                     0.11       0.03       0.08  "
      ]
     },
     "execution_count": 49,
     "metadata": {},
     "output_type": "execute_result"
    }
   ],
   "source": [
    "pcd_table"
   ]
  },
  {
   "cell_type": "markdown",
   "id": "0d09b202-4c6f-41f5-90c9-c367ecceac9f",
   "metadata": {},
   "source": [
    "1. В некоторых категориях, а именно в операциях с автомобилями и получением образования вероятность возврата долга на 15%-16% ниже\n",
    "2. В то время как в операциях с недвижимостью вероятность возврата на 11% выше"
   ]
  },
  {
   "cell_type": "markdown",
   "id": "dc8a94a9-0bf9-46a6-a031-8477bf918095",
   "metadata": {},
   "source": [
    "## Задание 23. Приведите возможные причины появления пропусков в исходных данных."
   ]
  },
  {
   "cell_type": "code",
   "execution_count": 50,
   "id": "794bcff7-825f-47cd-b5c6-263a4c5a7444",
   "metadata": {},
   "outputs": [],
   "source": [
    "data = pd.read_csv('data.csv')"
   ]
  },
  {
   "cell_type": "code",
   "execution_count": 51,
   "id": "f304b089-62d0-4b2a-8ebd-6d0d500101e6",
   "metadata": {},
   "outputs": [
    {
     "data": {
      "text/html": [
       "<div>\n",
       "<style scoped>\n",
       "    .dataframe tbody tr th:only-of-type {\n",
       "        vertical-align: middle;\n",
       "    }\n",
       "\n",
       "    .dataframe tbody tr th {\n",
       "        vertical-align: top;\n",
       "    }\n",
       "\n",
       "    .dataframe thead th {\n",
       "        text-align: right;\n",
       "    }\n",
       "</style>\n",
       "<table border=\"1\" class=\"dataframe\">\n",
       "  <thead>\n",
       "    <tr style=\"text-align: right;\">\n",
       "      <th></th>\n",
       "      <th>children</th>\n",
       "      <th>days_employed</th>\n",
       "      <th>dob_years</th>\n",
       "      <th>education</th>\n",
       "      <th>education_id</th>\n",
       "      <th>family_status</th>\n",
       "      <th>family_status_id</th>\n",
       "      <th>gender</th>\n",
       "      <th>income_type</th>\n",
       "      <th>debt</th>\n",
       "      <th>total_income</th>\n",
       "      <th>purpose</th>\n",
       "    </tr>\n",
       "  </thead>\n",
       "  <tbody>\n",
       "    <tr>\n",
       "      <th>0</th>\n",
       "      <td>1</td>\n",
       "      <td>-8437.67</td>\n",
       "      <td>42</td>\n",
       "      <td>высшее</td>\n",
       "      <td>0</td>\n",
       "      <td>женат / замужем</td>\n",
       "      <td>0</td>\n",
       "      <td>F</td>\n",
       "      <td>сотрудник</td>\n",
       "      <td>0</td>\n",
       "      <td>253875.64</td>\n",
       "      <td>покупка жилья</td>\n",
       "    </tr>\n",
       "    <tr>\n",
       "      <th>1</th>\n",
       "      <td>1</td>\n",
       "      <td>-4024.80</td>\n",
       "      <td>36</td>\n",
       "      <td>среднее</td>\n",
       "      <td>1</td>\n",
       "      <td>женат / замужем</td>\n",
       "      <td>0</td>\n",
       "      <td>F</td>\n",
       "      <td>сотрудник</td>\n",
       "      <td>0</td>\n",
       "      <td>112080.01</td>\n",
       "      <td>приобретение автомобиля</td>\n",
       "    </tr>\n",
       "    <tr>\n",
       "      <th>2</th>\n",
       "      <td>0</td>\n",
       "      <td>-5623.42</td>\n",
       "      <td>33</td>\n",
       "      <td>Среднее</td>\n",
       "      <td>1</td>\n",
       "      <td>женат / замужем</td>\n",
       "      <td>0</td>\n",
       "      <td>M</td>\n",
       "      <td>сотрудник</td>\n",
       "      <td>0</td>\n",
       "      <td>145885.95</td>\n",
       "      <td>покупка жилья</td>\n",
       "    </tr>\n",
       "    <tr>\n",
       "      <th>3</th>\n",
       "      <td>3</td>\n",
       "      <td>-4124.75</td>\n",
       "      <td>32</td>\n",
       "      <td>среднее</td>\n",
       "      <td>1</td>\n",
       "      <td>женат / замужем</td>\n",
       "      <td>0</td>\n",
       "      <td>M</td>\n",
       "      <td>сотрудник</td>\n",
       "      <td>0</td>\n",
       "      <td>267628.55</td>\n",
       "      <td>дополнительное образование</td>\n",
       "    </tr>\n",
       "    <tr>\n",
       "      <th>4</th>\n",
       "      <td>0</td>\n",
       "      <td>340266.07</td>\n",
       "      <td>53</td>\n",
       "      <td>среднее</td>\n",
       "      <td>1</td>\n",
       "      <td>гражданский брак</td>\n",
       "      <td>1</td>\n",
       "      <td>F</td>\n",
       "      <td>пенсионер</td>\n",
       "      <td>0</td>\n",
       "      <td>158616.08</td>\n",
       "      <td>сыграть свадьбу</td>\n",
       "    </tr>\n",
       "  </tbody>\n",
       "</table>\n",
       "</div>"
      ],
      "text/plain": [
       "   children  days_employed  dob_years education  education_id  \\\n",
       "0         1       -8437.67         42    высшее             0   \n",
       "1         1       -4024.80         36   среднее             1   \n",
       "2         0       -5623.42         33   Среднее             1   \n",
       "3         3       -4124.75         32   среднее             1   \n",
       "4         0      340266.07         53   среднее             1   \n",
       "\n",
       "      family_status  family_status_id gender income_type  debt  total_income  \\\n",
       "0   женат / замужем                 0      F   сотрудник     0     253875.64   \n",
       "1   женат / замужем                 0      F   сотрудник     0     112080.01   \n",
       "2   женат / замужем                 0      M   сотрудник     0     145885.95   \n",
       "3   женат / замужем                 0      M   сотрудник     0     267628.55   \n",
       "4  гражданский брак                 1      F   пенсионер     0     158616.08   \n",
       "\n",
       "                      purpose  \n",
       "0               покупка жилья  \n",
       "1     приобретение автомобиля  \n",
       "2               покупка жилья  \n",
       "3  дополнительное образование  \n",
       "4             сыграть свадьбу  "
      ]
     },
     "execution_count": 51,
     "metadata": {},
     "output_type": "execute_result"
    }
   ],
   "source": [
    "data.head()"
   ]
  },
  {
   "cell_type": "code",
   "execution_count": 52,
   "id": "e3e3cbe4-2827-40a5-9c69-654015bcc762",
   "metadata": {},
   "outputs": [
    {
     "data": {
      "text/plain": [
       "children               0\n",
       "days_employed       2174\n",
       "dob_years              0\n",
       "education              0\n",
       "education_id           0\n",
       "family_status          0\n",
       "family_status_id       0\n",
       "gender                 0\n",
       "income_type            0\n",
       "debt                   0\n",
       "total_income        2174\n",
       "purpose                0\n",
       "dtype: int64"
      ]
     },
     "execution_count": 52,
     "metadata": {},
     "output_type": "execute_result"
    }
   ],
   "source": [
    "data.isna().sum()"
   ]
  },
  {
   "cell_type": "markdown",
   "id": "451be0bb-5c25-480e-99e1-a972c0e1f2b0",
   "metadata": {},
   "source": [
    "Причины пропусков: \n",
    "1. В случае если заемщик не работал, тогда и не получал зарплату. В связи с этим информация о стаже не записывалась, отсюда и пропуски\n",
    "2. В случае если заемщик работал неофициально, в общий стаж это не было зачтено. Отсюда и пропуски в заработной плате\n",
    "3. В случае если заемщик не принес документы, подтверждающие наличие стажа и заработной платы\n",
    "4. В случае если сотрудник банка не внес информацию о трудовом стаже и заработной плате"
   ]
  },
  {
   "cell_type": "markdown",
   "id": "66c8113d-6468-495b-ba14-0a7a91e53545",
   "metadata": {},
   "source": [
    "## Задание 24. Объясните, почему заполнить пропуски медианным значением — лучшее решение для количественных переменных."
   ]
  },
  {
   "cell_type": "markdown",
   "id": "8afabb11-f3a3-406b-bc53-4af2077fb12b",
   "metadata": {},
   "source": [
    "Поскольку медиана меньше подвержена выбросам, заполнение пропусков медианным значением усредняет выборку не сдвигая ее в сторону выборосов"
   ]
  },
  {
   "cell_type": "markdown",
   "id": "4d63b895-974c-4456-b3dd-56429b17558e",
   "metadata": {},
   "source": [
    "## Вывод:"
   ]
  },
  {
   "cell_type": "markdown",
   "id": "0180ec73-0e1a-47eb-ba02-710e08a2fa0f",
   "metadata": {},
   "source": [
    "Исходя из полученных данных, можно сделать вывод о том что на вероятность появления задолженностей у клиента непосредственно влияют следущие категории, а именно: \n",
    "1. Число детей. Доля людей без детей, среди тех кто имел задолженность, составляет 61,37% от всех людей без задолженностей, что на 7,67% меньше, чем доля людей без детей, но с задолженностями, которые составляют 66,47% от всех людей, которые имеют задолженности\n",
    "2. Семейное положение. Вероятность наличия задолженности растет у катерий гражданский брак и не женат/ не замужем на 16,21% и 22,44% соответственно\n",
    "3. Цель кредита. В некоторых категориях, а именно в операциях с автомобилями и получением образования вероятность возврата долга на 15%-16% ниже"
   ]
  }
 ],
 "metadata": {
  "ExecuteTimeLog": [
   {
    "duration": 54,
    "start_time": "2023-05-02T19:22:21.485Z"
   },
   {
    "duration": 5,
    "start_time": "2023-05-02T19:22:33.106Z"
   },
   {
    "duration": 6,
    "start_time": "2023-05-02T19:22:38.053Z"
   },
   {
    "duration": 352,
    "start_time": "2023-05-02T19:47:18.442Z"
   },
   {
    "duration": 293,
    "start_time": "2023-05-02T19:47:19.226Z"
   },
   {
    "duration": 10,
    "start_time": "2023-05-02T19:47:20.682Z"
   },
   {
    "duration": 17,
    "start_time": "2023-05-02T19:47:26.488Z"
   },
   {
    "duration": 10,
    "start_time": "2023-05-02T19:47:30.208Z"
   },
   {
    "duration": 35,
    "start_time": "2023-05-02T19:47:32.939Z"
   },
   {
    "duration": 3,
    "start_time": "2023-05-02T19:47:42.405Z"
   },
   {
    "duration": 6,
    "start_time": "2023-05-02T19:47:44.374Z"
   },
   {
    "duration": 4,
    "start_time": "2023-05-02T19:47:47.962Z"
   },
   {
    "duration": 4,
    "start_time": "2023-05-02T19:47:53.035Z"
   },
   {
    "duration": 4,
    "start_time": "2023-05-02T19:47:56.919Z"
   },
   {
    "duration": 6,
    "start_time": "2023-05-02T19:53:11.543Z"
   },
   {
    "duration": 5,
    "start_time": "2023-05-02T19:53:13.295Z"
   },
   {
    "duration": 9,
    "start_time": "2023-05-02T19:53:15.971Z"
   },
   {
    "duration": 7,
    "start_time": "2023-05-02T19:53:19.925Z"
   },
   {
    "duration": 4,
    "start_time": "2023-05-02T19:53:37.298Z"
   },
   {
    "duration": 4,
    "start_time": "2023-05-02T19:53:54.114Z"
   },
   {
    "duration": 5,
    "start_time": "2023-05-02T19:54:34.115Z"
   },
   {
    "duration": 6,
    "start_time": "2023-05-02T19:55:38.019Z"
   },
   {
    "duration": 5,
    "start_time": "2023-05-02T19:55:41.003Z"
   },
   {
    "duration": 43,
    "start_time": "2023-05-02T19:55:42.413Z"
   },
   {
    "duration": 5,
    "start_time": "2023-05-02T19:58:40.747Z"
   },
   {
    "duration": 4,
    "start_time": "2023-05-02T19:58:44.635Z"
   },
   {
    "duration": 6,
    "start_time": "2023-05-02T19:59:49.494Z"
   },
   {
    "duration": 5,
    "start_time": "2023-05-02T20:05:42.010Z"
   },
   {
    "duration": 4,
    "start_time": "2023-05-02T20:06:39.368Z"
   },
   {
    "duration": 4,
    "start_time": "2023-05-02T20:10:23.282Z"
   },
   {
    "duration": 7,
    "start_time": "2023-05-02T20:11:40.040Z"
   },
   {
    "duration": 9,
    "start_time": "2023-05-02T20:11:49.148Z"
   },
   {
    "duration": 17,
    "start_time": "2023-05-02T20:11:59.519Z"
   },
   {
    "duration": 4,
    "start_time": "2023-05-02T20:15:39.736Z"
   },
   {
    "duration": 7,
    "start_time": "2023-05-02T20:15:41.092Z"
   },
   {
    "duration": 376,
    "start_time": "2023-05-05T14:58:02.295Z"
   },
   {
    "duration": 183,
    "start_time": "2023-05-05T14:58:02.673Z"
   },
   {
    "duration": 10,
    "start_time": "2023-05-05T14:58:02.858Z"
   },
   {
    "duration": 49,
    "start_time": "2023-05-05T14:58:02.870Z"
   },
   {
    "duration": 22,
    "start_time": "2023-05-05T14:58:02.922Z"
   },
   {
    "duration": 47,
    "start_time": "2023-05-05T14:58:02.946Z"
   },
   {
    "duration": 3,
    "start_time": "2023-05-05T14:58:02.995Z"
   },
   {
    "duration": 32,
    "start_time": "2023-05-05T14:58:03.000Z"
   },
   {
    "duration": 29,
    "start_time": "2023-05-05T14:58:03.034Z"
   },
   {
    "duration": 34,
    "start_time": "2023-05-05T14:58:03.065Z"
   },
   {
    "duration": 18,
    "start_time": "2023-05-05T14:58:03.100Z"
   },
   {
    "duration": 54,
    "start_time": "2023-05-05T14:58:03.119Z"
   },
   {
    "duration": 12,
    "start_time": "2023-05-05T14:58:03.175Z"
   },
   {
    "duration": 19,
    "start_time": "2023-05-05T14:58:03.190Z"
   },
   {
    "duration": 23,
    "start_time": "2023-05-05T14:58:03.211Z"
   },
   {
    "duration": 40,
    "start_time": "2023-05-05T14:58:03.235Z"
   },
   {
    "duration": 18,
    "start_time": "2023-05-05T14:58:03.277Z"
   },
   {
    "duration": 4,
    "start_time": "2023-05-05T14:58:03.297Z"
   },
   {
    "duration": 18,
    "start_time": "2023-05-05T14:58:03.302Z"
   },
   {
    "duration": 13,
    "start_time": "2023-05-05T14:58:03.322Z"
   },
   {
    "duration": 14,
    "start_time": "2023-05-05T14:58:03.336Z"
   },
   {
    "duration": 25,
    "start_time": "2023-05-05T14:58:03.352Z"
   },
   {
    "duration": 26,
    "start_time": "2023-05-05T14:58:03.379Z"
   },
   {
    "duration": 32,
    "start_time": "2023-05-05T14:58:03.407Z"
   },
   {
    "duration": 15,
    "start_time": "2023-05-05T14:58:03.441Z"
   },
   {
    "duration": 12,
    "start_time": "2023-05-05T14:58:03.458Z"
   },
   {
    "duration": 22,
    "start_time": "2023-05-05T14:58:03.471Z"
   },
   {
    "duration": 21,
    "start_time": "2023-05-05T14:58:03.495Z"
   },
   {
    "duration": 24,
    "start_time": "2023-05-05T14:58:03.518Z"
   },
   {
    "duration": 6,
    "start_time": "2023-05-05T14:58:03.544Z"
   },
   {
    "duration": 30,
    "start_time": "2023-05-05T14:58:03.552Z"
   },
   {
    "duration": 40,
    "start_time": "2023-05-05T14:58:03.584Z"
   },
   {
    "duration": 34,
    "start_time": "2023-05-05T14:58:03.626Z"
   },
   {
    "duration": 42,
    "start_time": "2023-05-05T14:58:03.663Z"
   },
   {
    "duration": 9,
    "start_time": "2023-05-05T14:58:03.707Z"
   },
   {
    "duration": 14,
    "start_time": "2023-05-05T14:58:03.718Z"
   },
   {
    "duration": 36,
    "start_time": "2023-05-05T14:58:03.734Z"
   },
   {
    "duration": 21,
    "start_time": "2023-05-05T14:58:03.772Z"
   },
   {
    "duration": 11,
    "start_time": "2023-05-05T14:58:03.794Z"
   },
   {
    "duration": 12,
    "start_time": "2023-05-05T14:58:03.807Z"
   },
   {
    "duration": 6,
    "start_time": "2023-05-05T14:58:03.823Z"
   },
   {
    "duration": 25,
    "start_time": "2023-05-05T14:58:03.831Z"
   },
   {
    "duration": 11,
    "start_time": "2023-05-05T14:58:03.858Z"
   },
   {
    "duration": 25,
    "start_time": "2023-05-05T14:58:03.870Z"
   },
   {
    "duration": 20,
    "start_time": "2023-05-05T14:58:03.897Z"
   },
   {
    "duration": 8,
    "start_time": "2023-05-05T14:58:03.919Z"
   },
   {
    "duration": 30,
    "start_time": "2023-05-05T14:58:03.929Z"
   },
   {
    "duration": 24,
    "start_time": "2023-05-05T14:58:03.962Z"
   },
   {
    "duration": 156,
    "start_time": "2023-05-05T14:58:03.988Z"
   },
   {
    "duration": 13,
    "start_time": "2023-05-05T14:58:04.146Z"
   },
   {
    "duration": 124,
    "start_time": "2023-05-05T14:58:04.161Z"
   },
   {
    "duration": 380,
    "start_time": "2023-05-05T14:58:24.280Z"
   },
   {
    "duration": 120,
    "start_time": "2023-05-05T14:58:24.662Z"
   },
   {
    "duration": 10,
    "start_time": "2023-05-05T14:58:24.784Z"
   },
   {
    "duration": 19,
    "start_time": "2023-05-05T14:58:24.795Z"
   },
   {
    "duration": 8,
    "start_time": "2023-05-05T14:58:24.816Z"
   },
   {
    "duration": 42,
    "start_time": "2023-05-05T14:58:24.825Z"
   },
   {
    "duration": 4,
    "start_time": "2023-05-05T14:58:24.868Z"
   },
   {
    "duration": 28,
    "start_time": "2023-05-05T14:58:24.873Z"
   },
   {
    "duration": 6,
    "start_time": "2023-05-05T14:58:24.902Z"
   },
   {
    "duration": 16,
    "start_time": "2023-05-05T14:58:24.910Z"
   },
   {
    "duration": 13,
    "start_time": "2023-05-05T14:58:24.928Z"
   },
   {
    "duration": 23,
    "start_time": "2023-05-05T14:58:24.943Z"
   },
   {
    "duration": 8,
    "start_time": "2023-05-05T14:58:24.968Z"
   },
   {
    "duration": 19,
    "start_time": "2023-05-05T14:58:24.978Z"
   },
   {
    "duration": 21,
    "start_time": "2023-05-05T14:58:24.998Z"
   },
   {
    "duration": 33,
    "start_time": "2023-05-05T14:58:25.021Z"
   },
   {
    "duration": 18,
    "start_time": "2023-05-05T14:58:25.056Z"
   },
   {
    "duration": 5,
    "start_time": "2023-05-05T14:58:25.076Z"
   },
   {
    "duration": 27,
    "start_time": "2023-05-05T14:58:25.083Z"
   },
   {
    "duration": 29,
    "start_time": "2023-05-05T14:58:25.112Z"
   },
   {
    "duration": 16,
    "start_time": "2023-05-05T14:58:25.143Z"
   },
   {
    "duration": 30,
    "start_time": "2023-05-05T14:58:25.161Z"
   },
   {
    "duration": 30,
    "start_time": "2023-05-05T14:58:25.192Z"
   },
   {
    "duration": 23,
    "start_time": "2023-05-05T14:58:25.223Z"
   },
   {
    "duration": 30,
    "start_time": "2023-05-05T14:58:25.248Z"
   },
   {
    "duration": 36,
    "start_time": "2023-05-05T14:58:25.279Z"
   },
   {
    "duration": 46,
    "start_time": "2023-05-05T14:58:25.317Z"
   },
   {
    "duration": 18,
    "start_time": "2023-05-05T14:58:25.364Z"
   },
   {
    "duration": 28,
    "start_time": "2023-05-05T14:58:25.384Z"
   },
   {
    "duration": 6,
    "start_time": "2023-05-05T14:58:25.414Z"
   },
   {
    "duration": 21,
    "start_time": "2023-05-05T14:58:25.421Z"
   },
   {
    "duration": 18,
    "start_time": "2023-05-05T14:58:25.444Z"
   },
   {
    "duration": 40,
    "start_time": "2023-05-05T14:58:25.463Z"
   },
   {
    "duration": 50,
    "start_time": "2023-05-05T14:58:25.505Z"
   },
   {
    "duration": 26,
    "start_time": "2023-05-05T14:58:25.556Z"
   },
   {
    "duration": 26,
    "start_time": "2023-05-05T14:58:25.584Z"
   },
   {
    "duration": 24,
    "start_time": "2023-05-05T14:58:25.611Z"
   },
   {
    "duration": 35,
    "start_time": "2023-05-05T14:58:25.637Z"
   },
   {
    "duration": 30,
    "start_time": "2023-05-05T14:58:25.674Z"
   },
   {
    "duration": 21,
    "start_time": "2023-05-05T14:58:25.705Z"
   },
   {
    "duration": 6,
    "start_time": "2023-05-05T14:58:25.729Z"
   },
   {
    "duration": 11,
    "start_time": "2023-05-05T14:58:25.736Z"
   },
   {
    "duration": 10,
    "start_time": "2023-05-05T14:58:25.749Z"
   },
   {
    "duration": 13,
    "start_time": "2023-05-05T14:58:25.761Z"
   },
   {
    "duration": 24,
    "start_time": "2023-05-05T14:58:25.776Z"
   },
   {
    "duration": 6,
    "start_time": "2023-05-05T14:58:25.802Z"
   },
   {
    "duration": 19,
    "start_time": "2023-05-05T14:58:25.809Z"
   },
   {
    "duration": 25,
    "start_time": "2023-05-05T14:58:25.830Z"
   },
   {
    "duration": 125,
    "start_time": "2023-05-05T14:58:25.857Z"
   },
   {
    "duration": 12,
    "start_time": "2023-05-05T14:58:25.984Z"
   },
   {
    "duration": 14,
    "start_time": "2023-05-05T14:58:25.998Z"
   },
   {
    "duration": 4,
    "start_time": "2023-05-05T15:04:16.361Z"
   },
   {
    "duration": 3,
    "start_time": "2023-05-05T15:04:41.868Z"
   },
   {
    "duration": 4,
    "start_time": "2023-05-05T15:04:53.779Z"
   },
   {
    "duration": 4,
    "start_time": "2023-05-05T15:05:39.355Z"
   },
   {
    "duration": 4,
    "start_time": "2023-05-05T15:06:07.391Z"
   },
   {
    "duration": 4,
    "start_time": "2023-05-05T15:06:42.432Z"
   },
   {
    "duration": 107,
    "start_time": "2023-05-05T15:07:11.918Z"
   },
   {
    "duration": 67,
    "start_time": "2023-05-06T18:31:49.914Z"
   },
   {
    "duration": 444,
    "start_time": "2023-05-06T18:31:57.613Z"
   },
   {
    "duration": 189,
    "start_time": "2023-05-06T18:31:58.060Z"
   },
   {
    "duration": 12,
    "start_time": "2023-05-06T18:31:58.251Z"
   },
   {
    "duration": 36,
    "start_time": "2023-05-06T18:31:58.265Z"
   },
   {
    "duration": 14,
    "start_time": "2023-05-06T18:31:58.304Z"
   },
   {
    "duration": 26,
    "start_time": "2023-05-06T18:31:58.321Z"
   },
   {
    "duration": 7,
    "start_time": "2023-05-06T18:31:58.349Z"
   },
   {
    "duration": 10,
    "start_time": "2023-05-06T18:31:58.357Z"
   },
   {
    "duration": 29,
    "start_time": "2023-05-06T18:31:58.369Z"
   },
   {
    "duration": 18,
    "start_time": "2023-05-06T18:31:58.401Z"
   },
   {
    "duration": 8,
    "start_time": "2023-05-06T18:31:58.422Z"
   },
   {
    "duration": 41,
    "start_time": "2023-05-06T18:31:58.432Z"
   },
   {
    "duration": 12,
    "start_time": "2023-05-06T18:31:58.475Z"
   },
   {
    "duration": 6,
    "start_time": "2023-05-06T18:31:58.493Z"
   },
   {
    "duration": 24,
    "start_time": "2023-05-06T18:31:58.501Z"
   },
   {
    "duration": 27,
    "start_time": "2023-05-06T18:31:58.532Z"
   },
   {
    "duration": 20,
    "start_time": "2023-05-06T18:31:58.561Z"
   },
   {
    "duration": 8,
    "start_time": "2023-05-06T18:31:58.601Z"
   },
   {
    "duration": 19,
    "start_time": "2023-05-06T18:31:58.611Z"
   },
   {
    "duration": 7,
    "start_time": "2023-05-06T18:31:58.632Z"
   },
   {
    "duration": 8,
    "start_time": "2023-05-06T18:31:58.641Z"
   },
   {
    "duration": 20,
    "start_time": "2023-05-06T18:31:58.651Z"
   },
   {
    "duration": 46,
    "start_time": "2023-05-06T18:31:58.673Z"
   },
   {
    "duration": 10,
    "start_time": "2023-05-06T18:31:58.721Z"
   },
   {
    "duration": 23,
    "start_time": "2023-05-06T18:31:58.733Z"
   },
   {
    "duration": 41,
    "start_time": "2023-05-06T18:31:58.758Z"
   },
   {
    "duration": 12,
    "start_time": "2023-05-06T18:31:58.810Z"
   },
   {
    "duration": 19,
    "start_time": "2023-05-06T18:31:58.825Z"
   },
   {
    "duration": 19,
    "start_time": "2023-05-06T18:31:58.846Z"
   },
   {
    "duration": 24,
    "start_time": "2023-05-06T18:31:58.867Z"
   },
   {
    "duration": 9,
    "start_time": "2023-05-06T18:31:58.892Z"
   },
   {
    "duration": 28,
    "start_time": "2023-05-06T18:31:58.904Z"
   },
   {
    "duration": 22,
    "start_time": "2023-05-06T18:31:58.934Z"
   },
   {
    "duration": 22,
    "start_time": "2023-05-06T18:31:58.957Z"
   },
   {
    "duration": 26,
    "start_time": "2023-05-06T18:31:58.981Z"
   },
   {
    "duration": 10,
    "start_time": "2023-05-06T18:31:59.009Z"
   },
   {
    "duration": 10,
    "start_time": "2023-05-06T18:31:59.020Z"
   },
   {
    "duration": 10,
    "start_time": "2023-05-06T18:31:59.031Z"
   },
   {
    "duration": 15,
    "start_time": "2023-05-06T18:31:59.042Z"
   },
   {
    "duration": 41,
    "start_time": "2023-05-06T18:31:59.059Z"
   },
   {
    "duration": 17,
    "start_time": "2023-05-06T18:31:59.106Z"
   },
   {
    "duration": 11,
    "start_time": "2023-05-06T18:31:59.125Z"
   },
   {
    "duration": 11,
    "start_time": "2023-05-06T18:31:59.138Z"
   },
   {
    "duration": 13,
    "start_time": "2023-05-06T18:31:59.152Z"
   },
   {
    "duration": 54,
    "start_time": "2023-05-06T18:31:59.166Z"
   },
   {
    "duration": 15,
    "start_time": "2023-05-06T18:31:59.223Z"
   },
   {
    "duration": 6,
    "start_time": "2023-05-06T18:31:59.240Z"
   },
   {
    "duration": 8,
    "start_time": "2023-05-06T18:31:59.248Z"
   },
   {
    "duration": 10,
    "start_time": "2023-05-06T18:31:59.258Z"
   },
   {
    "duration": 181,
    "start_time": "2023-05-06T18:31:59.270Z"
   },
   {
    "duration": 13,
    "start_time": "2023-05-06T18:31:59.453Z"
   },
   {
    "duration": 26,
    "start_time": "2023-05-06T18:31:59.472Z"
   },
   {
    "duration": 114,
    "start_time": "2023-05-06T18:39:07.222Z"
   }
  ],
  "colab": {
   "provenance": []
  },
  "kernelspec": {
   "display_name": "Python 3 (ipykernel)",
   "language": "python",
   "name": "python3"
  },
  "language_info": {
   "codemirror_mode": {
    "name": "ipython",
    "version": 3
   },
   "file_extension": ".py",
   "mimetype": "text/x-python",
   "name": "python",
   "nbconvert_exporter": "python",
   "pygments_lexer": "ipython3",
   "version": "3.10.13"
  },
  "toc": {
   "base_numbering": 1,
   "nav_menu": {},
   "number_sections": true,
   "sideBar": true,
   "skip_h1_title": true,
   "title_cell": "Table of Contents",
   "title_sidebar": "Contents",
   "toc_cell": false,
   "toc_position": {},
   "toc_section_display": true,
   "toc_window_display": true
  }
 },
 "nbformat": 4,
 "nbformat_minor": 5
}
