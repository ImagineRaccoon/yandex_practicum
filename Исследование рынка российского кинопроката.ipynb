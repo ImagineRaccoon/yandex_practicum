{
 "cells": [
  {
   "cell_type": "markdown",
   "id": "c22c63a5-b49f-4cda-a30d-74238fd697b4",
   "metadata": {},
   "source": [
    "## Сборный проект. Исследование рынка российского кинопроката\n",
    "Заказчиком данного исследования является Министерство культуры Российской Федерации\n",
    "В нашем распоряжении набор данных, размещенные в открытом доступе на сайте Министерства культуры, содержащие информацию о прокатных удостоверениях, сборах и государственной поддержке фильмов, а также информацию с сайта КиноПоиск. Задачей стоит изучение рынка российского кинопроката и выявление трендов, уделив особое внимание фильмам, получившим государственную поддержку. Полученные выводы из этого исследования помогут выявить насколько такие фильмы интересны зрителю\n",
    "\n",
    "### Цель исследования\n",
    "1. Выявить тренды среди фильмов\n",
    "2. Построить и доказать собственные гипотезы, которые помогут улучшить российский кинопрокат, а также сервис Кинопоиск\n",
    "3. Установить какие параметры влияют на успешность фильма\n",
    "\n",
    "### Ход исследования\n",
    "Данные о прокатных удостоверениях я получу из файла '/datasets/mkrf_movies.csv', а данные о прокате в российских кинотеатрах из файла '/datasets/mkrf_shows.csv'. О качестве данных нет никакой информации. Поэтому прежде чем приступить к анализу, понадобиться обзор данных, чтобы полученные в конечном итоге результаты были достоверны\n",
    "\n",
    "Проверка данных будет на пропуски, дубликаты, соответствие типов данных, а также на наличие аномалий. В дальнейшем будут подобраны возможные пути устранения подобных дефектов для дальнейшего анализа. После обработки данных, я добавлю новые столбцы и приступлю к анализу\n",
    "\n",
    "Поэтому мое исследование будет иметь следующий порядок действий:\n",
    "1. Создание единой базы\n",
    "2. Предобработка данных\n",
    "3. Добавление новых колонок в таблицу\n",
    "4. Изучение динамики проката по годам\n",
    "5. Изучение сборов по годам\n",
    "6. Оценка влияния возрастного ограничения на сборы\n",
    "7. Поиск закономерностей и предложение гипотез для фильмов с государственной поддержкой\n",
    "8. Написание общего вывода"
   ]
  },
  {
   "cell_type": "code",
   "execution_count": 1,
   "id": "0d56a483-55cf-4391-9aee-0889a15bbcf6",
   "metadata": {},
   "outputs": [],
   "source": [
    "import pandas as pd\n",
    "import matplotlib as mtb\n",
    "import seaborn as sns\n",
    "import numpy as np\n",
    "import re\n",
    "import statistics\n",
    "import matplotlib.pyplot as plt\n",
    "pd.options.display.float_format ='{:.2f}'.format\n",
    "pd.set_option('max_colwidth', 9120)\n",
    "pd.set_option('display.width', 9500)"
   ]
  },
  {
   "cell_type": "markdown",
   "id": "6cb8faac-3b5b-473c-b687-9847b2e5049e",
   "metadata": {},
   "source": [
    "## Шаг 1. Откройте файлы с данными и объедините их в один датафрейм"
   ]
  },
  {
   "cell_type": "markdown",
   "id": "6a15e119-09f4-4d4f-a5cf-99003314e41f",
   "metadata": {},
   "source": [
    "Прежде чем создавать единый датафрейм, скачаем csv таким образом, чтобы программа запускалась где угодно без внесения корректировок:"
   ]
  },
  {
   "cell_type": "code",
   "execution_count": 2,
   "id": "bd18f091-a9ba-4578-8ae3-bec915c12347",
   "metadata": {},
   "outputs": [],
   "source": [
    "try:\n",
    "    mkrf_movies_df = pd.read_csv('mkrf_movies.csv')\n",
    "    mkrf_shows_df = pd.read('mkrf_shows.csv')\n",
    "except: \n",
    "    mkrf_movies_df = pd.read_csv('https://code.s3.yandex.net/datasets/mkrf_movies.csv')\n",
    "    mkrf_shows_df = pd.read_csv('https://code.s3.yandex.net/datasets/mkrf_shows.csv')"
   ]
  },
  {
   "cell_type": "markdown",
   "id": "28f792c8-488e-4485-9283-4cd767384e03",
   "metadata": {},
   "source": [
    "Проверим, что файлы считались корректно:"
   ]
  },
  {
   "cell_type": "code",
   "execution_count": 3,
   "id": "bcd5bf56-3000-404c-bf63-81dc76877650",
   "metadata": {},
   "outputs": [
    {
     "data": {
      "text/html": [
       "<div>\n",
       "<style scoped>\n",
       "    .dataframe tbody tr th:only-of-type {\n",
       "        vertical-align: middle;\n",
       "    }\n",
       "\n",
       "    .dataframe tbody tr th {\n",
       "        vertical-align: top;\n",
       "    }\n",
       "\n",
       "    .dataframe thead th {\n",
       "        text-align: right;\n",
       "    }\n",
       "</style>\n",
       "<table border=\"1\" class=\"dataframe\">\n",
       "  <thead>\n",
       "    <tr style=\"text-align: right;\">\n",
       "      <th></th>\n",
       "      <th>title</th>\n",
       "      <th>puNumber</th>\n",
       "      <th>show_start_date</th>\n",
       "      <th>type</th>\n",
       "      <th>film_studio</th>\n",
       "      <th>production_country</th>\n",
       "      <th>director</th>\n",
       "      <th>producer</th>\n",
       "      <th>age_restriction</th>\n",
       "      <th>refundable_support</th>\n",
       "      <th>nonrefundable_support</th>\n",
       "      <th>budget</th>\n",
       "      <th>financing_source</th>\n",
       "      <th>ratings</th>\n",
       "      <th>genres</th>\n",
       "    </tr>\n",
       "  </thead>\n",
       "  <tbody>\n",
       "    <tr>\n",
       "      <th>0</th>\n",
       "      <td>Открытый простор</td>\n",
       "      <td>221048915</td>\n",
       "      <td>2015-11-27T12:00:00.000Z</td>\n",
       "      <td>Художественный</td>\n",
       "      <td>Тачстоун Пикчерз, Кобальт Пикчерз, Бикон Пикчерз, Тиг Продакшнз</td>\n",
       "      <td>США</td>\n",
       "      <td>Кевин Костнер</td>\n",
       "      <td>Дэвид Валдес, Кевин Костнер, Джейк Эбертс</td>\n",
       "      <td>«18+» - запрещено для детей</td>\n",
       "      <td>NaN</td>\n",
       "      <td>NaN</td>\n",
       "      <td>NaN</td>\n",
       "      <td>NaN</td>\n",
       "      <td>7.2</td>\n",
       "      <td>боевик,драма,мелодрама</td>\n",
       "    </tr>\n",
       "    <tr>\n",
       "      <th>1</th>\n",
       "      <td>Особо важное задание</td>\n",
       "      <td>111013716</td>\n",
       "      <td>2016-09-13T12:00:00.000Z</td>\n",
       "      <td>Художественный</td>\n",
       "      <td>Киностудия \"Мосфильм\"</td>\n",
       "      <td>СССР</td>\n",
       "      <td>Е.Матвеев</td>\n",
       "      <td>NaN</td>\n",
       "      <td>«6+» - для детей старше 6 лет</td>\n",
       "      <td>NaN</td>\n",
       "      <td>NaN</td>\n",
       "      <td>NaN</td>\n",
       "      <td>NaN</td>\n",
       "      <td>6.6</td>\n",
       "      <td>драма,военный</td>\n",
       "    </tr>\n",
       "    <tr>\n",
       "      <th>2</th>\n",
       "      <td>Особо опасен</td>\n",
       "      <td>221038416</td>\n",
       "      <td>2016-10-10T12:00:00.000Z</td>\n",
       "      <td>Художественный</td>\n",
       "      <td>Юниверсал Пикчерз, Кикстарт Продакшнз, Марк Платт Продакшнз, Рилейтивити Медиа, Спайгласс Интертейнмент, Стилкин Филмз, Топ Кау Продакшнз</td>\n",
       "      <td>США</td>\n",
       "      <td>Тимур Бекмамбетов</td>\n",
       "      <td>Джим Лемли, Джейсон Нетер, Марк Е.Платт, Яйн Смит</td>\n",
       "      <td>«18+» - запрещено для детей</td>\n",
       "      <td>NaN</td>\n",
       "      <td>NaN</td>\n",
       "      <td>NaN</td>\n",
       "      <td>NaN</td>\n",
       "      <td>6.8</td>\n",
       "      <td>фантастика,боевик,триллер</td>\n",
       "    </tr>\n",
       "    <tr>\n",
       "      <th>3</th>\n",
       "      <td>Особо опасен</td>\n",
       "      <td>221026916</td>\n",
       "      <td>2016-06-10T12:00:00.000Z</td>\n",
       "      <td>Художественный</td>\n",
       "      <td>Юниверсал Пикчерз, Кикстарт Продакшнз, Марк Платт Продакшнз, Рилейтивити Медиа, Спайгласс Интертейнмент, Стилкин Филмз, Топ Кау Продакшнз</td>\n",
       "      <td>США</td>\n",
       "      <td>Тимур Бекмамбетов</td>\n",
       "      <td>Джим Лемли, Джейсон Нетер, Марк Е.Платт, Яйн Смит</td>\n",
       "      <td>«18+» - запрещено для детей</td>\n",
       "      <td>NaN</td>\n",
       "      <td>NaN</td>\n",
       "      <td>NaN</td>\n",
       "      <td>NaN</td>\n",
       "      <td>6.8</td>\n",
       "      <td>фантастика,боевик,триллер</td>\n",
       "    </tr>\n",
       "    <tr>\n",
       "      <th>4</th>\n",
       "      <td>Особо опасен</td>\n",
       "      <td>221030815</td>\n",
       "      <td>2015-07-29T12:00:00.000Z</td>\n",
       "      <td>Художественный</td>\n",
       "      <td>Юниверсал Пикчерз, Кикстарт Продакшнз, Марк Платт Продакшнз, Рилейтивити Медиа, Спайгласс Интертейнмент, Стилкин Филмз, Топ Кау Продакшнз</td>\n",
       "      <td>США</td>\n",
       "      <td>Тимур Бекмамбетов</td>\n",
       "      <td>Джим Лемли, Джейсон Нетер, Марк Е.Платт, Яйн Смит</td>\n",
       "      <td>«18+» - запрещено для детей</td>\n",
       "      <td>NaN</td>\n",
       "      <td>NaN</td>\n",
       "      <td>NaN</td>\n",
       "      <td>NaN</td>\n",
       "      <td>6.8</td>\n",
       "      <td>фантастика,боевик,триллер</td>\n",
       "    </tr>\n",
       "  </tbody>\n",
       "</table>\n",
       "</div>"
      ],
      "text/plain": [
       "                  title   puNumber           show_start_date            type                                                                                                                                film_studio production_country           director                                           producer                age_restriction  refundable_support  nonrefundable_support  budget financing_source ratings                     genres\n",
       "0      Открытый простор  221048915  2015-11-27T12:00:00.000Z  Художественный                                                                            Тачстоун Пикчерз, Кобальт Пикчерз, Бикон Пикчерз, Тиг Продакшнз                США      Кевин Костнер          Дэвид Валдес, Кевин Костнер, Джейк Эбертс    «18+» - запрещено для детей                 NaN                    NaN     NaN              NaN     7.2     боевик,драма,мелодрама\n",
       "1  Особо важное задание  111013716  2016-09-13T12:00:00.000Z  Художественный                                                                                                                      Киностудия \"Мосфильм\"               СССР          Е.Матвеев                                                NaN  «6+» - для детей старше 6 лет                 NaN                    NaN     NaN              NaN     6.6              драма,военный\n",
       "2          Особо опасен  221038416  2016-10-10T12:00:00.000Z  Художественный  Юниверсал Пикчерз, Кикстарт Продакшнз, Марк Платт Продакшнз, Рилейтивити Медиа, Спайгласс Интертейнмент, Стилкин Филмз, Топ Кау Продакшнз                США  Тимур Бекмамбетов  Джим Лемли, Джейсон Нетер, Марк Е.Платт, Яйн Смит    «18+» - запрещено для детей                 NaN                    NaN     NaN              NaN     6.8  фантастика,боевик,триллер\n",
       "3          Особо опасен  221026916  2016-06-10T12:00:00.000Z  Художественный  Юниверсал Пикчерз, Кикстарт Продакшнз, Марк Платт Продакшнз, Рилейтивити Медиа, Спайгласс Интертейнмент, Стилкин Филмз, Топ Кау Продакшнз                США  Тимур Бекмамбетов  Джим Лемли, Джейсон Нетер, Марк Е.Платт, Яйн Смит    «18+» - запрещено для детей                 NaN                    NaN     NaN              NaN     6.8  фантастика,боевик,триллер\n",
       "4          Особо опасен  221030815  2015-07-29T12:00:00.000Z  Художественный  Юниверсал Пикчерз, Кикстарт Продакшнз, Марк Платт Продакшнз, Рилейтивити Медиа, Спайгласс Интертейнмент, Стилкин Филмз, Топ Кау Продакшнз                США  Тимур Бекмамбетов  Джим Лемли, Джейсон Нетер, Марк Е.Платт, Яйн Смит    «18+» - запрещено для детей                 NaN                    NaN     NaN              NaN     6.8  фантастика,боевик,триллер"
      ]
     },
     "execution_count": 3,
     "metadata": {},
     "output_type": "execute_result"
    }
   ],
   "source": [
    "mkrf_movies_df.head()"
   ]
  },
  {
   "cell_type": "code",
   "execution_count": 4,
   "id": "449342fe-91ea-43c4-a320-1600b8702841",
   "metadata": {},
   "outputs": [
    {
     "data": {
      "text/html": [
       "<div>\n",
       "<style scoped>\n",
       "    .dataframe tbody tr th:only-of-type {\n",
       "        vertical-align: middle;\n",
       "    }\n",
       "\n",
       "    .dataframe tbody tr th {\n",
       "        vertical-align: top;\n",
       "    }\n",
       "\n",
       "    .dataframe thead th {\n",
       "        text-align: right;\n",
       "    }\n",
       "</style>\n",
       "<table border=\"1\" class=\"dataframe\">\n",
       "  <thead>\n",
       "    <tr style=\"text-align: right;\">\n",
       "      <th></th>\n",
       "      <th>puNumber</th>\n",
       "      <th>box_office</th>\n",
       "    </tr>\n",
       "  </thead>\n",
       "  <tbody>\n",
       "    <tr>\n",
       "      <th>0</th>\n",
       "      <td>111000113</td>\n",
       "      <td>2450.00</td>\n",
       "    </tr>\n",
       "    <tr>\n",
       "      <th>1</th>\n",
       "      <td>111000115</td>\n",
       "      <td>61040.00</td>\n",
       "    </tr>\n",
       "    <tr>\n",
       "      <th>2</th>\n",
       "      <td>111000116</td>\n",
       "      <td>153030013.40</td>\n",
       "    </tr>\n",
       "    <tr>\n",
       "      <th>3</th>\n",
       "      <td>111000117</td>\n",
       "      <td>12260956.00</td>\n",
       "    </tr>\n",
       "    <tr>\n",
       "      <th>4</th>\n",
       "      <td>111000118</td>\n",
       "      <td>163684057.79</td>\n",
       "    </tr>\n",
       "  </tbody>\n",
       "</table>\n",
       "</div>"
      ],
      "text/plain": [
       "    puNumber   box_office\n",
       "0  111000113      2450.00\n",
       "1  111000115     61040.00\n",
       "2  111000116 153030013.40\n",
       "3  111000117  12260956.00\n",
       "4  111000118 163684057.79"
      ]
     },
     "execution_count": 4,
     "metadata": {},
     "output_type": "execute_result"
    }
   ],
   "source": [
    "mkrf_shows_df.head()"
   ]
  },
  {
   "cell_type": "markdown",
   "id": "3770bd19-8515-4e93-b96f-091d20f424f2",
   "metadata": {},
   "source": [
    "Для того чтобы в будущем объединить эти 2 датафрейма проверим что типы ключевого столбца совпадают"
   ]
  },
  {
   "cell_type": "code",
   "execution_count": 5,
   "id": "a39242f7-17c6-42be-8a20-9007a344d19c",
   "metadata": {},
   "outputs": [
    {
     "name": "stdout",
     "output_type": "stream",
     "text": [
      "<class 'pandas.core.frame.DataFrame'>\n",
      "RangeIndex: 7486 entries, 0 to 7485\n",
      "Data columns (total 15 columns):\n",
      " #   Column                 Non-Null Count  Dtype  \n",
      "---  ------                 --------------  -----  \n",
      " 0   title                  7486 non-null   object \n",
      " 1   puNumber               7486 non-null   object \n",
      " 2   show_start_date        7486 non-null   object \n",
      " 3   type                   7486 non-null   object \n",
      " 4   film_studio            7468 non-null   object \n",
      " 5   production_country     7484 non-null   object \n",
      " 6   director               7477 non-null   object \n",
      " 7   producer               6918 non-null   object \n",
      " 8   age_restriction        7486 non-null   object \n",
      " 9   refundable_support     332 non-null    float64\n",
      " 10  nonrefundable_support  332 non-null    float64\n",
      " 11  budget                 332 non-null    float64\n",
      " 12  financing_source       332 non-null    object \n",
      " 13  ratings                6519 non-null   object \n",
      " 14  genres                 6510 non-null   object \n",
      "dtypes: float64(3), object(12)\n",
      "memory usage: 877.4+ KB\n",
      "<class 'pandas.core.frame.DataFrame'>\n",
      "RangeIndex: 3158 entries, 0 to 3157\n",
      "Data columns (total 2 columns):\n",
      " #   Column      Non-Null Count  Dtype  \n",
      "---  ------      --------------  -----  \n",
      " 0   puNumber    3158 non-null   int64  \n",
      " 1   box_office  3158 non-null   float64\n",
      "dtypes: float64(1), int64(1)\n",
      "memory usage: 49.5 KB\n"
     ]
    }
   ],
   "source": [
    "mkrf_movies_df.info()\n",
    "mkrf_shows_df.info()"
   ]
  },
  {
   "cell_type": "markdown",
   "id": "3a0ccd18-3614-414b-bde5-e215c9e552b4",
   "metadata": {},
   "source": [
    "Как мы видим, типы не совпадают. Поэтому изменим тип столбца puNumber в датафрейме data1 на int64. Однако прежде проверим, что в датафрейме data1 нет значений помимо целочисленных:"
   ]
  },
  {
   "cell_type": "code",
   "execution_count": 6,
   "id": "a80b4fab-5c89-4b7a-be40-1bb39ffaccb7",
   "metadata": {},
   "outputs": [
    {
     "data": {
      "text/html": [
       "<div>\n",
       "<style scoped>\n",
       "    .dataframe tbody tr th:only-of-type {\n",
       "        vertical-align: middle;\n",
       "    }\n",
       "\n",
       "    .dataframe tbody tr th {\n",
       "        vertical-align: top;\n",
       "    }\n",
       "\n",
       "    .dataframe thead th {\n",
       "        text-align: right;\n",
       "    }\n",
       "</style>\n",
       "<table border=\"1\" class=\"dataframe\">\n",
       "  <thead>\n",
       "    <tr style=\"text-align: right;\">\n",
       "      <th></th>\n",
       "      <th>title</th>\n",
       "      <th>puNumber</th>\n",
       "      <th>show_start_date</th>\n",
       "      <th>type</th>\n",
       "      <th>film_studio</th>\n",
       "      <th>production_country</th>\n",
       "      <th>director</th>\n",
       "      <th>producer</th>\n",
       "      <th>age_restriction</th>\n",
       "      <th>refundable_support</th>\n",
       "      <th>nonrefundable_support</th>\n",
       "      <th>budget</th>\n",
       "      <th>financing_source</th>\n",
       "      <th>ratings</th>\n",
       "      <th>genres</th>\n",
       "    </tr>\n",
       "  </thead>\n",
       "  <tbody>\n",
       "    <tr>\n",
       "      <th>804</th>\n",
       "      <td>Паранормальный Якутск</td>\n",
       "      <td>111004112</td>\n",
       "      <td>2012-08-24T12:00:00.000Z</td>\n",
       "      <td>Художественный</td>\n",
       "      <td>ИП Тимофеев К.П.</td>\n",
       "      <td>Россия</td>\n",
       "      <td>К.Тимофеев</td>\n",
       "      <td>NaN</td>\n",
       "      <td>«16+» - для детей старше 16 лет</td>\n",
       "      <td>NaN</td>\n",
       "      <td>NaN</td>\n",
       "      <td>NaN</td>\n",
       "      <td>NaN</td>\n",
       "      <td>NaN</td>\n",
       "      <td>NaN</td>\n",
       "    </tr>\n",
       "    <tr>\n",
       "      <th>1797</th>\n",
       "      <td>Курбан-роман. (История с жертвой)</td>\n",
       "      <td>нет</td>\n",
       "      <td>2014-05-15T12:00:00.000Z</td>\n",
       "      <td>Художественный</td>\n",
       "      <td>ФОНД \"ИННОВАЦИЯ\"</td>\n",
       "      <td>Россия</td>\n",
       "      <td>С.Юзеев</td>\n",
       "      <td>М.Галицкая</td>\n",
       "      <td>«12+» - для детей старше 12 лет</td>\n",
       "      <td>NaN</td>\n",
       "      <td>NaN</td>\n",
       "      <td>NaN</td>\n",
       "      <td>NaN</td>\n",
       "      <td>NaN</td>\n",
       "      <td>NaN</td>\n",
       "    </tr>\n",
       "  </tbody>\n",
       "</table>\n",
       "</div>"
      ],
      "text/plain": [
       "                                  title    puNumber           show_start_date            type       film_studio production_country    director    producer                  age_restriction  refundable_support  nonrefundable_support  budget financing_source ratings genres\n",
       "804               Паранормальный Якутск   111004112  2012-08-24T12:00:00.000Z  Художественный  ИП Тимофеев К.П.             Россия  К.Тимофеев         NaN  «16+» - для детей старше 16 лет                 NaN                    NaN     NaN              NaN     NaN    NaN\n",
       "1797  Курбан-роман. (История с жертвой)         нет  2014-05-15T12:00:00.000Z  Художественный  ФОНД \"ИННОВАЦИЯ\"             Россия     С.Юзеев  М.Галицкая  «12+» - для детей старше 12 лет                 NaN                    NaN     NaN              NaN     NaN    NaN"
      ]
     },
     "execution_count": 6,
     "metadata": {},
     "output_type": "execute_result"
    }
   ],
   "source": [
    "mkrf_movies_df[mkrf_movies_df['puNumber'].str.isdigit() == False]"
   ]
  },
  {
   "cell_type": "markdown",
   "id": "ffa94f97-71a9-485d-8a7d-7aafabcd544b",
   "metadata": {},
   "source": [
    "Как мы видим, в строке 1797 стоит значение \"нет\", заменим его на -1. В строке 804 как мы видим есть целочисленное значение, однако он попал в выборку. Вполне возможно там есть пробел, устраним его"
   ]
  },
  {
   "cell_type": "code",
   "execution_count": 7,
   "id": "8f8425a2-d041-4907-91eb-c9df417776f7",
   "metadata": {},
   "outputs": [],
   "source": [
    "mkrf_movies_df.loc[804, 'puNumber'] = mkrf_movies_df.loc[804, 'puNumber'].strip()\n",
    "mkrf_movies_df.loc[mkrf_movies_df['puNumber'] == 'нет', 'puNumber'] = -1"
   ]
  },
  {
   "cell_type": "markdown",
   "id": "73414217-15a8-4aff-9033-6f1e5b25ada7",
   "metadata": {},
   "source": [
    "Проверим, что изменения применились успешно:"
   ]
  },
  {
   "cell_type": "code",
   "execution_count": 8,
   "id": "76cfd00a-7976-464c-9f99-7afdc2f8f11e",
   "metadata": {},
   "outputs": [
    {
     "data": {
      "text/html": [
       "<div>\n",
       "<style scoped>\n",
       "    .dataframe tbody tr th:only-of-type {\n",
       "        vertical-align: middle;\n",
       "    }\n",
       "\n",
       "    .dataframe tbody tr th {\n",
       "        vertical-align: top;\n",
       "    }\n",
       "\n",
       "    .dataframe thead th {\n",
       "        text-align: right;\n",
       "    }\n",
       "</style>\n",
       "<table border=\"1\" class=\"dataframe\">\n",
       "  <thead>\n",
       "    <tr style=\"text-align: right;\">\n",
       "      <th></th>\n",
       "      <th>title</th>\n",
       "      <th>puNumber</th>\n",
       "      <th>show_start_date</th>\n",
       "      <th>type</th>\n",
       "      <th>film_studio</th>\n",
       "      <th>production_country</th>\n",
       "      <th>director</th>\n",
       "      <th>producer</th>\n",
       "      <th>age_restriction</th>\n",
       "      <th>refundable_support</th>\n",
       "      <th>nonrefundable_support</th>\n",
       "      <th>budget</th>\n",
       "      <th>financing_source</th>\n",
       "      <th>ratings</th>\n",
       "      <th>genres</th>\n",
       "    </tr>\n",
       "  </thead>\n",
       "  <tbody>\n",
       "  </tbody>\n",
       "</table>\n",
       "</div>"
      ],
      "text/plain": [
       "Empty DataFrame\n",
       "Columns: [title, puNumber, show_start_date, type, film_studio, production_country, director, producer, age_restriction, refundable_support, nonrefundable_support, budget, financing_source, ratings, genres]\n",
       "Index: []"
      ]
     },
     "execution_count": 8,
     "metadata": {},
     "output_type": "execute_result"
    }
   ],
   "source": [
    "mkrf_movies_df[mkrf_movies_df['puNumber'].str.isdigit() == False]"
   ]
  },
  {
   "cell_type": "markdown",
   "id": "a9a14c81-b9b3-4118-9839-a891d4789329",
   "metadata": {},
   "source": [
    "Применим astype для изменения типа столбца:"
   ]
  },
  {
   "cell_type": "code",
   "execution_count": 9,
   "id": "00b44cb8-a307-41dd-bff7-61390352a791",
   "metadata": {},
   "outputs": [],
   "source": [
    "mkrf_movies_df['puNumber'] = pd.to_numeric(mkrf_movies_df['puNumber'], errors= 'coerce')"
   ]
  },
  {
   "cell_type": "markdown",
   "id": "6b654794-f8d9-4fce-a5db-75e717b0f4a7",
   "metadata": {},
   "source": [
    "Проверим, что формат изменился успешно:"
   ]
  },
  {
   "cell_type": "code",
   "execution_count": 10,
   "id": "ab72dc97-6316-4c3f-920c-c1ca4e209dcb",
   "metadata": {},
   "outputs": [
    {
     "name": "stdout",
     "output_type": "stream",
     "text": [
      "<class 'pandas.core.frame.DataFrame'>\n",
      "RangeIndex: 7486 entries, 0 to 7485\n",
      "Data columns (total 15 columns):\n",
      " #   Column                 Non-Null Count  Dtype  \n",
      "---  ------                 --------------  -----  \n",
      " 0   title                  7486 non-null   object \n",
      " 1   puNumber               7486 non-null   int64  \n",
      " 2   show_start_date        7486 non-null   object \n",
      " 3   type                   7486 non-null   object \n",
      " 4   film_studio            7468 non-null   object \n",
      " 5   production_country     7484 non-null   object \n",
      " 6   director               7477 non-null   object \n",
      " 7   producer               6918 non-null   object \n",
      " 8   age_restriction        7486 non-null   object \n",
      " 9   refundable_support     332 non-null    float64\n",
      " 10  nonrefundable_support  332 non-null    float64\n",
      " 11  budget                 332 non-null    float64\n",
      " 12  financing_source       332 non-null    object \n",
      " 13  ratings                6519 non-null   object \n",
      " 14  genres                 6510 non-null   object \n",
      "dtypes: float64(3), int64(1), object(11)\n",
      "memory usage: 877.4+ KB\n"
     ]
    }
   ],
   "source": [
    "mkrf_movies_df.info()"
   ]
  },
  {
   "cell_type": "markdown",
   "id": "ee2d2990-89e2-4c1c-b138-472c4ab348c7",
   "metadata": {},
   "source": [
    "Объединим 2 датафрейма в один:"
   ]
  },
  {
   "cell_type": "code",
   "execution_count": 11,
   "id": "43e004f7-f976-43fa-abbd-6fd4bb42532f",
   "metadata": {},
   "outputs": [],
   "source": [
    "data = mkrf_movies_df.merge(mkrf_shows_df, on = 'puNumber', how = 'left')"
   ]
  },
  {
   "cell_type": "code",
   "execution_count": 12,
   "id": "f204d9d4-dcea-45bd-9670-37e3d18f5ba4",
   "metadata": {},
   "outputs": [
    {
     "data": {
      "text/html": [
       "<div>\n",
       "<style scoped>\n",
       "    .dataframe tbody tr th:only-of-type {\n",
       "        vertical-align: middle;\n",
       "    }\n",
       "\n",
       "    .dataframe tbody tr th {\n",
       "        vertical-align: top;\n",
       "    }\n",
       "\n",
       "    .dataframe thead th {\n",
       "        text-align: right;\n",
       "    }\n",
       "</style>\n",
       "<table border=\"1\" class=\"dataframe\">\n",
       "  <thead>\n",
       "    <tr style=\"text-align: right;\">\n",
       "      <th></th>\n",
       "      <th>title</th>\n",
       "      <th>puNumber</th>\n",
       "      <th>show_start_date</th>\n",
       "      <th>type</th>\n",
       "      <th>film_studio</th>\n",
       "      <th>production_country</th>\n",
       "      <th>director</th>\n",
       "      <th>producer</th>\n",
       "      <th>age_restriction</th>\n",
       "      <th>refundable_support</th>\n",
       "      <th>nonrefundable_support</th>\n",
       "      <th>budget</th>\n",
       "      <th>financing_source</th>\n",
       "      <th>ratings</th>\n",
       "      <th>genres</th>\n",
       "      <th>box_office</th>\n",
       "    </tr>\n",
       "  </thead>\n",
       "  <tbody>\n",
       "    <tr>\n",
       "      <th>0</th>\n",
       "      <td>Открытый простор</td>\n",
       "      <td>221048915</td>\n",
       "      <td>2015-11-27T12:00:00.000Z</td>\n",
       "      <td>Художественный</td>\n",
       "      <td>Тачстоун Пикчерз, Кобальт Пикчерз, Бикон Пикчерз, Тиг Продакшнз</td>\n",
       "      <td>США</td>\n",
       "      <td>Кевин Костнер</td>\n",
       "      <td>Дэвид Валдес, Кевин Костнер, Джейк Эбертс</td>\n",
       "      <td>«18+» - запрещено для детей</td>\n",
       "      <td>NaN</td>\n",
       "      <td>NaN</td>\n",
       "      <td>NaN</td>\n",
       "      <td>NaN</td>\n",
       "      <td>7.2</td>\n",
       "      <td>боевик,драма,мелодрама</td>\n",
       "      <td>NaN</td>\n",
       "    </tr>\n",
       "    <tr>\n",
       "      <th>1</th>\n",
       "      <td>Особо важное задание</td>\n",
       "      <td>111013716</td>\n",
       "      <td>2016-09-13T12:00:00.000Z</td>\n",
       "      <td>Художественный</td>\n",
       "      <td>Киностудия \"Мосфильм\"</td>\n",
       "      <td>СССР</td>\n",
       "      <td>Е.Матвеев</td>\n",
       "      <td>NaN</td>\n",
       "      <td>«6+» - для детей старше 6 лет</td>\n",
       "      <td>NaN</td>\n",
       "      <td>NaN</td>\n",
       "      <td>NaN</td>\n",
       "      <td>NaN</td>\n",
       "      <td>6.6</td>\n",
       "      <td>драма,военный</td>\n",
       "      <td>NaN</td>\n",
       "    </tr>\n",
       "    <tr>\n",
       "      <th>2</th>\n",
       "      <td>Особо опасен</td>\n",
       "      <td>221038416</td>\n",
       "      <td>2016-10-10T12:00:00.000Z</td>\n",
       "      <td>Художественный</td>\n",
       "      <td>Юниверсал Пикчерз, Кикстарт Продакшнз, Марк Платт Продакшнз, Рилейтивити Медиа, Спайгласс Интертейнмент, Стилкин Филмз, Топ Кау Продакшнз</td>\n",
       "      <td>США</td>\n",
       "      <td>Тимур Бекмамбетов</td>\n",
       "      <td>Джим Лемли, Джейсон Нетер, Марк Е.Платт, Яйн Смит</td>\n",
       "      <td>«18+» - запрещено для детей</td>\n",
       "      <td>NaN</td>\n",
       "      <td>NaN</td>\n",
       "      <td>NaN</td>\n",
       "      <td>NaN</td>\n",
       "      <td>6.8</td>\n",
       "      <td>фантастика,боевик,триллер</td>\n",
       "      <td>NaN</td>\n",
       "    </tr>\n",
       "    <tr>\n",
       "      <th>3</th>\n",
       "      <td>Особо опасен</td>\n",
       "      <td>221026916</td>\n",
       "      <td>2016-06-10T12:00:00.000Z</td>\n",
       "      <td>Художественный</td>\n",
       "      <td>Юниверсал Пикчерз, Кикстарт Продакшнз, Марк Платт Продакшнз, Рилейтивити Медиа, Спайгласс Интертейнмент, Стилкин Филмз, Топ Кау Продакшнз</td>\n",
       "      <td>США</td>\n",
       "      <td>Тимур Бекмамбетов</td>\n",
       "      <td>Джим Лемли, Джейсон Нетер, Марк Е.Платт, Яйн Смит</td>\n",
       "      <td>«18+» - запрещено для детей</td>\n",
       "      <td>NaN</td>\n",
       "      <td>NaN</td>\n",
       "      <td>NaN</td>\n",
       "      <td>NaN</td>\n",
       "      <td>6.8</td>\n",
       "      <td>фантастика,боевик,триллер</td>\n",
       "      <td>NaN</td>\n",
       "    </tr>\n",
       "    <tr>\n",
       "      <th>4</th>\n",
       "      <td>Особо опасен</td>\n",
       "      <td>221030815</td>\n",
       "      <td>2015-07-29T12:00:00.000Z</td>\n",
       "      <td>Художественный</td>\n",
       "      <td>Юниверсал Пикчерз, Кикстарт Продакшнз, Марк Платт Продакшнз, Рилейтивити Медиа, Спайгласс Интертейнмент, Стилкин Филмз, Топ Кау Продакшнз</td>\n",
       "      <td>США</td>\n",
       "      <td>Тимур Бекмамбетов</td>\n",
       "      <td>Джим Лемли, Джейсон Нетер, Марк Е.Платт, Яйн Смит</td>\n",
       "      <td>«18+» - запрещено для детей</td>\n",
       "      <td>NaN</td>\n",
       "      <td>NaN</td>\n",
       "      <td>NaN</td>\n",
       "      <td>NaN</td>\n",
       "      <td>6.8</td>\n",
       "      <td>фантастика,боевик,триллер</td>\n",
       "      <td>NaN</td>\n",
       "    </tr>\n",
       "  </tbody>\n",
       "</table>\n",
       "</div>"
      ],
      "text/plain": [
       "                  title   puNumber           show_start_date            type                                                                                                                                film_studio production_country           director                                           producer                age_restriction  refundable_support  nonrefundable_support  budget financing_source ratings                     genres  box_office\n",
       "0      Открытый простор  221048915  2015-11-27T12:00:00.000Z  Художественный                                                                            Тачстоун Пикчерз, Кобальт Пикчерз, Бикон Пикчерз, Тиг Продакшнз                США      Кевин Костнер          Дэвид Валдес, Кевин Костнер, Джейк Эбертс    «18+» - запрещено для детей                 NaN                    NaN     NaN              NaN     7.2     боевик,драма,мелодрама         NaN\n",
       "1  Особо важное задание  111013716  2016-09-13T12:00:00.000Z  Художественный                                                                                                                      Киностудия \"Мосфильм\"               СССР          Е.Матвеев                                                NaN  «6+» - для детей старше 6 лет                 NaN                    NaN     NaN              NaN     6.6              драма,военный         NaN\n",
       "2          Особо опасен  221038416  2016-10-10T12:00:00.000Z  Художественный  Юниверсал Пикчерз, Кикстарт Продакшнз, Марк Платт Продакшнз, Рилейтивити Медиа, Спайгласс Интертейнмент, Стилкин Филмз, Топ Кау Продакшнз                США  Тимур Бекмамбетов  Джим Лемли, Джейсон Нетер, Марк Е.Платт, Яйн Смит    «18+» - запрещено для детей                 NaN                    NaN     NaN              NaN     6.8  фантастика,боевик,триллер         NaN\n",
       "3          Особо опасен  221026916  2016-06-10T12:00:00.000Z  Художественный  Юниверсал Пикчерз, Кикстарт Продакшнз, Марк Платт Продакшнз, Рилейтивити Медиа, Спайгласс Интертейнмент, Стилкин Филмз, Топ Кау Продакшнз                США  Тимур Бекмамбетов  Джим Лемли, Джейсон Нетер, Марк Е.Платт, Яйн Смит    «18+» - запрещено для детей                 NaN                    NaN     NaN              NaN     6.8  фантастика,боевик,триллер         NaN\n",
       "4          Особо опасен  221030815  2015-07-29T12:00:00.000Z  Художественный  Юниверсал Пикчерз, Кикстарт Продакшнз, Марк Платт Продакшнз, Рилейтивити Медиа, Спайгласс Интертейнмент, Стилкин Филмз, Топ Кау Продакшнз                США  Тимур Бекмамбетов  Джим Лемли, Джейсон Нетер, Марк Е.Платт, Яйн Смит    «18+» - запрещено для детей                 NaN                    NaN     NaN              NaN     6.8  фантастика,боевик,триллер         NaN"
      ]
     },
     "execution_count": 12,
     "metadata": {},
     "output_type": "execute_result"
    }
   ],
   "source": [
    "data.head()"
   ]
  },
  {
   "cell_type": "markdown",
   "id": "0f20f588-c4be-424f-b254-a61233385121",
   "metadata": {},
   "source": [
    "Объединение прошло успешно"
   ]
  },
  {
   "cell_type": "markdown",
   "id": "b54f1858-ef3e-44d0-b038-8c572f1692e6",
   "metadata": {},
   "source": [
    "## Шаг 2. Предобработка данных\n",
    "- Проверьте типы данных в датафрейме и преобразуйте там, где это необходимо."
   ]
  },
  {
   "cell_type": "code",
   "execution_count": 13,
   "id": "28e3ebf9-cf8a-4c61-b97a-d410b4838db1",
   "metadata": {},
   "outputs": [
    {
     "name": "stdout",
     "output_type": "stream",
     "text": [
      "<class 'pandas.core.frame.DataFrame'>\n",
      "Int64Index: 7486 entries, 0 to 7485\n",
      "Data columns (total 16 columns):\n",
      " #   Column                 Non-Null Count  Dtype  \n",
      "---  ------                 --------------  -----  \n",
      " 0   title                  7486 non-null   object \n",
      " 1   puNumber               7486 non-null   int64  \n",
      " 2   show_start_date        7486 non-null   object \n",
      " 3   type                   7486 non-null   object \n",
      " 4   film_studio            7468 non-null   object \n",
      " 5   production_country     7484 non-null   object \n",
      " 6   director               7477 non-null   object \n",
      " 7   producer               6918 non-null   object \n",
      " 8   age_restriction        7486 non-null   object \n",
      " 9   refundable_support     332 non-null    float64\n",
      " 10  nonrefundable_support  332 non-null    float64\n",
      " 11  budget                 332 non-null    float64\n",
      " 12  financing_source       332 non-null    object \n",
      " 13  ratings                6519 non-null   object \n",
      " 14  genres                 6510 non-null   object \n",
      " 15  box_office             3158 non-null   float64\n",
      "dtypes: float64(4), int64(1), object(11)\n",
      "memory usage: 994.2+ KB\n"
     ]
    }
   ],
   "source": [
    "data.info()"
   ]
  },
  {
   "cell_type": "markdown",
   "id": "f646ad26-c079-4fde-b794-9af8be2e9fa1",
   "metadata": {},
   "source": [
    "show_start_date - дата премьеры фильма. В изначальной версии датафрейма данная колонка имеет тип object, что крайне нелогично поскольку это дата и должна иметь тип datetime. Поэтому было принято решение сменить тип данной колонки, убрав разделитель \"T\" "
   ]
  },
  {
   "cell_type": "code",
   "execution_count": 14,
   "id": "727d818d-0df6-46ac-b4f1-c39b2ee78a39",
   "metadata": {},
   "outputs": [],
   "source": [
    "data['show_start_date'] = pd.to_datetime(data['show_start_date'], format = '%Y-%m-%dT%H:%M:%S.%fZ')"
   ]
  },
  {
   "cell_type": "markdown",
   "id": "8356778d-ea7a-48e6-80f1-ee448298c6c6",
   "metadata": {},
   "source": [
    "ratings - рейтинг фильма на КиноПоиске. Изучив данную колонку было обнаружено что рейтинг здесь обозначен либо как десятичное число, либо как процент. На КиноПоиске все значения рейтингов указаны по десятибальной шкале, поэтому проценты переведем в десятибальное число разделив на 10"
   ]
  },
  {
   "cell_type": "code",
   "execution_count": 15,
   "id": "ca338d87-93b3-4f40-aefe-d6faf726f9f3",
   "metadata": {},
   "outputs": [],
   "source": [
    "data['ratings'] = data['ratings'].astype('str')\n",
    "data['ratings'] = data['ratings'].apply(lambda x: re.sub('%','', x))\n",
    "data['ratings'] = data['ratings'].astype('float64')\n",
    "data['ratings'] = np.where(data['ratings']>10, (data['ratings']/10), data['ratings'])"
   ]
  },
  {
   "cell_type": "markdown",
   "id": "1de068f5-9975-4d32-ae82-2b08b42ad889",
   "metadata": {},
   "source": [
    "Проверим, что все изменения прошли успешно:"
   ]
  },
  {
   "cell_type": "code",
   "execution_count": 16,
   "id": "01b9a662-32f4-4fc5-98cd-51a696ab0068",
   "metadata": {},
   "outputs": [
    {
     "name": "stdout",
     "output_type": "stream",
     "text": [
      "<class 'pandas.core.frame.DataFrame'>\n",
      "Int64Index: 7486 entries, 0 to 7485\n",
      "Data columns (total 16 columns):\n",
      " #   Column                 Non-Null Count  Dtype         \n",
      "---  ------                 --------------  -----         \n",
      " 0   title                  7486 non-null   object        \n",
      " 1   puNumber               7486 non-null   int64         \n",
      " 2   show_start_date        7486 non-null   datetime64[ns]\n",
      " 3   type                   7486 non-null   object        \n",
      " 4   film_studio            7468 non-null   object        \n",
      " 5   production_country     7484 non-null   object        \n",
      " 6   director               7477 non-null   object        \n",
      " 7   producer               6918 non-null   object        \n",
      " 8   age_restriction        7486 non-null   object        \n",
      " 9   refundable_support     332 non-null    float64       \n",
      " 10  nonrefundable_support  332 non-null    float64       \n",
      " 11  budget                 332 non-null    float64       \n",
      " 12  financing_source       332 non-null    object        \n",
      " 13  ratings                6519 non-null   float64       \n",
      " 14  genres                 6510 non-null   object        \n",
      " 15  box_office             3158 non-null   float64       \n",
      "dtypes: datetime64[ns](1), float64(5), int64(1), object(9)\n",
      "memory usage: 994.2+ KB\n"
     ]
    },
    {
     "data": {
      "text/html": [
       "<div>\n",
       "<style scoped>\n",
       "    .dataframe tbody tr th:only-of-type {\n",
       "        vertical-align: middle;\n",
       "    }\n",
       "\n",
       "    .dataframe tbody tr th {\n",
       "        vertical-align: top;\n",
       "    }\n",
       "\n",
       "    .dataframe thead th {\n",
       "        text-align: right;\n",
       "    }\n",
       "</style>\n",
       "<table border=\"1\" class=\"dataframe\">\n",
       "  <thead>\n",
       "    <tr style=\"text-align: right;\">\n",
       "      <th></th>\n",
       "      <th>title</th>\n",
       "      <th>puNumber</th>\n",
       "      <th>show_start_date</th>\n",
       "      <th>type</th>\n",
       "      <th>film_studio</th>\n",
       "      <th>production_country</th>\n",
       "      <th>director</th>\n",
       "      <th>producer</th>\n",
       "      <th>age_restriction</th>\n",
       "      <th>refundable_support</th>\n",
       "      <th>nonrefundable_support</th>\n",
       "      <th>budget</th>\n",
       "      <th>financing_source</th>\n",
       "      <th>ratings</th>\n",
       "      <th>genres</th>\n",
       "      <th>box_office</th>\n",
       "    </tr>\n",
       "  </thead>\n",
       "  <tbody>\n",
       "    <tr>\n",
       "      <th>0</th>\n",
       "      <td>Открытый простор</td>\n",
       "      <td>221048915</td>\n",
       "      <td>2015-11-27 12:00:00</td>\n",
       "      <td>Художественный</td>\n",
       "      <td>Тачстоун Пикчерз, Кобальт Пикчерз, Бикон Пикчерз, Тиг Продакшнз</td>\n",
       "      <td>США</td>\n",
       "      <td>Кевин Костнер</td>\n",
       "      <td>Дэвид Валдес, Кевин Костнер, Джейк Эбертс</td>\n",
       "      <td>«18+» - запрещено для детей</td>\n",
       "      <td>NaN</td>\n",
       "      <td>NaN</td>\n",
       "      <td>NaN</td>\n",
       "      <td>NaN</td>\n",
       "      <td>7.20</td>\n",
       "      <td>боевик,драма,мелодрама</td>\n",
       "      <td>NaN</td>\n",
       "    </tr>\n",
       "    <tr>\n",
       "      <th>1</th>\n",
       "      <td>Особо важное задание</td>\n",
       "      <td>111013716</td>\n",
       "      <td>2016-09-13 12:00:00</td>\n",
       "      <td>Художественный</td>\n",
       "      <td>Киностудия \"Мосфильм\"</td>\n",
       "      <td>СССР</td>\n",
       "      <td>Е.Матвеев</td>\n",
       "      <td>NaN</td>\n",
       "      <td>«6+» - для детей старше 6 лет</td>\n",
       "      <td>NaN</td>\n",
       "      <td>NaN</td>\n",
       "      <td>NaN</td>\n",
       "      <td>NaN</td>\n",
       "      <td>6.60</td>\n",
       "      <td>драма,военный</td>\n",
       "      <td>NaN</td>\n",
       "    </tr>\n",
       "    <tr>\n",
       "      <th>2</th>\n",
       "      <td>Особо опасен</td>\n",
       "      <td>221038416</td>\n",
       "      <td>2016-10-10 12:00:00</td>\n",
       "      <td>Художественный</td>\n",
       "      <td>Юниверсал Пикчерз, Кикстарт Продакшнз, Марк Платт Продакшнз, Рилейтивити Медиа, Спайгласс Интертейнмент, Стилкин Филмз, Топ Кау Продакшнз</td>\n",
       "      <td>США</td>\n",
       "      <td>Тимур Бекмамбетов</td>\n",
       "      <td>Джим Лемли, Джейсон Нетер, Марк Е.Платт, Яйн Смит</td>\n",
       "      <td>«18+» - запрещено для детей</td>\n",
       "      <td>NaN</td>\n",
       "      <td>NaN</td>\n",
       "      <td>NaN</td>\n",
       "      <td>NaN</td>\n",
       "      <td>6.80</td>\n",
       "      <td>фантастика,боевик,триллер</td>\n",
       "      <td>NaN</td>\n",
       "    </tr>\n",
       "    <tr>\n",
       "      <th>3</th>\n",
       "      <td>Особо опасен</td>\n",
       "      <td>221026916</td>\n",
       "      <td>2016-06-10 12:00:00</td>\n",
       "      <td>Художественный</td>\n",
       "      <td>Юниверсал Пикчерз, Кикстарт Продакшнз, Марк Платт Продакшнз, Рилейтивити Медиа, Спайгласс Интертейнмент, Стилкин Филмз, Топ Кау Продакшнз</td>\n",
       "      <td>США</td>\n",
       "      <td>Тимур Бекмамбетов</td>\n",
       "      <td>Джим Лемли, Джейсон Нетер, Марк Е.Платт, Яйн Смит</td>\n",
       "      <td>«18+» - запрещено для детей</td>\n",
       "      <td>NaN</td>\n",
       "      <td>NaN</td>\n",
       "      <td>NaN</td>\n",
       "      <td>NaN</td>\n",
       "      <td>6.80</td>\n",
       "      <td>фантастика,боевик,триллер</td>\n",
       "      <td>NaN</td>\n",
       "    </tr>\n",
       "    <tr>\n",
       "      <th>4</th>\n",
       "      <td>Особо опасен</td>\n",
       "      <td>221030815</td>\n",
       "      <td>2015-07-29 12:00:00</td>\n",
       "      <td>Художественный</td>\n",
       "      <td>Юниверсал Пикчерз, Кикстарт Продакшнз, Марк Платт Продакшнз, Рилейтивити Медиа, Спайгласс Интертейнмент, Стилкин Филмз, Топ Кау Продакшнз</td>\n",
       "      <td>США</td>\n",
       "      <td>Тимур Бекмамбетов</td>\n",
       "      <td>Джим Лемли, Джейсон Нетер, Марк Е.Платт, Яйн Смит</td>\n",
       "      <td>«18+» - запрещено для детей</td>\n",
       "      <td>NaN</td>\n",
       "      <td>NaN</td>\n",
       "      <td>NaN</td>\n",
       "      <td>NaN</td>\n",
       "      <td>6.80</td>\n",
       "      <td>фантастика,боевик,триллер</td>\n",
       "      <td>NaN</td>\n",
       "    </tr>\n",
       "  </tbody>\n",
       "</table>\n",
       "</div>"
      ],
      "text/plain": [
       "                  title   puNumber     show_start_date            type                                                                                                                                film_studio production_country           director                                           producer                age_restriction  refundable_support  nonrefundable_support  budget financing_source  ratings                     genres  box_office\n",
       "0      Открытый простор  221048915 2015-11-27 12:00:00  Художественный                                                                            Тачстоун Пикчерз, Кобальт Пикчерз, Бикон Пикчерз, Тиг Продакшнз                США      Кевин Костнер          Дэвид Валдес, Кевин Костнер, Джейк Эбертс    «18+» - запрещено для детей                 NaN                    NaN     NaN              NaN     7.20     боевик,драма,мелодрама         NaN\n",
       "1  Особо важное задание  111013716 2016-09-13 12:00:00  Художественный                                                                                                                      Киностудия \"Мосфильм\"               СССР          Е.Матвеев                                                NaN  «6+» - для детей старше 6 лет                 NaN                    NaN     NaN              NaN     6.60              драма,военный         NaN\n",
       "2          Особо опасен  221038416 2016-10-10 12:00:00  Художественный  Юниверсал Пикчерз, Кикстарт Продакшнз, Марк Платт Продакшнз, Рилейтивити Медиа, Спайгласс Интертейнмент, Стилкин Филмз, Топ Кау Продакшнз                США  Тимур Бекмамбетов  Джим Лемли, Джейсон Нетер, Марк Е.Платт, Яйн Смит    «18+» - запрещено для детей                 NaN                    NaN     NaN              NaN     6.80  фантастика,боевик,триллер         NaN\n",
       "3          Особо опасен  221026916 2016-06-10 12:00:00  Художественный  Юниверсал Пикчерз, Кикстарт Продакшнз, Марк Платт Продакшнз, Рилейтивити Медиа, Спайгласс Интертейнмент, Стилкин Филмз, Топ Кау Продакшнз                США  Тимур Бекмамбетов  Джим Лемли, Джейсон Нетер, Марк Е.Платт, Яйн Смит    «18+» - запрещено для детей                 NaN                    NaN     NaN              NaN     6.80  фантастика,боевик,триллер         NaN\n",
       "4          Особо опасен  221030815 2015-07-29 12:00:00  Художественный  Юниверсал Пикчерз, Кикстарт Продакшнз, Марк Платт Продакшнз, Рилейтивити Медиа, Спайгласс Интертейнмент, Стилкин Филмз, Топ Кау Продакшнз                США  Тимур Бекмамбетов  Джим Лемли, Джейсон Нетер, Марк Е.Платт, Яйн Смит    «18+» - запрещено для детей                 NaN                    NaN     NaN              NaN     6.80  фантастика,боевик,триллер         NaN"
      ]
     },
     "execution_count": 16,
     "metadata": {},
     "output_type": "execute_result"
    }
   ],
   "source": [
    "data.info()\n",
    "data.head()"
   ]
  },
  {
   "cell_type": "markdown",
   "id": "61c4ce6b-4542-4926-86e5-13972d59d97b",
   "metadata": {},
   "source": [
    "- Изучите пропуски в датафрейме. Объясните, почему заполнили пропуски определённым образом или почему не стали это делать."
   ]
  },
  {
   "cell_type": "markdown",
   "id": "96dd64e7-81ae-4aff-a67b-559d3d7b311d",
   "metadata": {},
   "source": [
    "Проверим в каких столбцах есть пропуски:"
   ]
  },
  {
   "cell_type": "code",
   "execution_count": 17,
   "id": "f949a0c1-7491-4450-826e-8fa1ae8c5800",
   "metadata": {},
   "outputs": [
    {
     "data": {
      "text/html": [
       "<style  type=\"text/css\" >\n",
       "#T_2edd4_row0_col0,#T_2edd4_row1_col0,#T_2edd4_row2_col0,#T_2edd4_row3_col0,#T_2edd4_row4_col0,#T_2edd4_row5_col0,#T_2edd4_row6_col0,#T_2edd4_row7_col0{\n",
       "            background-color:  #3b4cc0;\n",
       "            color:  #f1f1f1;\n",
       "        }#T_2edd4_row8_col0{\n",
       "            background-color:  #5470de;\n",
       "            color:  #000000;\n",
       "        }#T_2edd4_row9_col0,#T_2edd4_row10_col0{\n",
       "            background-color:  #6485ec;\n",
       "            color:  #000000;\n",
       "        }#T_2edd4_row11_col0{\n",
       "            background-color:  #f2cab5;\n",
       "            color:  #000000;\n",
       "        }#T_2edd4_row12_col0,#T_2edd4_row13_col0,#T_2edd4_row14_col0,#T_2edd4_row15_col0{\n",
       "            background-color:  #b40426;\n",
       "            color:  #f1f1f1;\n",
       "        }</style><table id=\"T_2edd4_\" ><thead>    <tr>        <th class=\"blank level0\" ></th>        <th class=\"col_heading level0 col0\" >0</th>    </tr></thead><tbody>\n",
       "                <tr>\n",
       "                        <th id=\"T_2edd4_level0_row0\" class=\"row_heading level0 row0\" >title</th>\n",
       "                        <td id=\"T_2edd4_row0_col0\" class=\"data row0 col0\" >0.000000</td>\n",
       "            </tr>\n",
       "            <tr>\n",
       "                        <th id=\"T_2edd4_level0_row1\" class=\"row_heading level0 row1\" >puNumber</th>\n",
       "                        <td id=\"T_2edd4_row1_col0\" class=\"data row1 col0\" >0.000000</td>\n",
       "            </tr>\n",
       "            <tr>\n",
       "                        <th id=\"T_2edd4_level0_row2\" class=\"row_heading level0 row2\" >show_start_date</th>\n",
       "                        <td id=\"T_2edd4_row2_col0\" class=\"data row2 col0\" >0.000000</td>\n",
       "            </tr>\n",
       "            <tr>\n",
       "                        <th id=\"T_2edd4_level0_row3\" class=\"row_heading level0 row3\" >type</th>\n",
       "                        <td id=\"T_2edd4_row3_col0\" class=\"data row3 col0\" >0.000000</td>\n",
       "            </tr>\n",
       "            <tr>\n",
       "                        <th id=\"T_2edd4_level0_row4\" class=\"row_heading level0 row4\" >film_studio</th>\n",
       "                        <td id=\"T_2edd4_row4_col0\" class=\"data row4 col0\" >0.000000</td>\n",
       "            </tr>\n",
       "            <tr>\n",
       "                        <th id=\"T_2edd4_level0_row5\" class=\"row_heading level0 row5\" >production_country</th>\n",
       "                        <td id=\"T_2edd4_row5_col0\" class=\"data row5 col0\" >0.000000</td>\n",
       "            </tr>\n",
       "            <tr>\n",
       "                        <th id=\"T_2edd4_level0_row6\" class=\"row_heading level0 row6\" >director</th>\n",
       "                        <td id=\"T_2edd4_row6_col0\" class=\"data row6 col0\" >0.000000</td>\n",
       "            </tr>\n",
       "            <tr>\n",
       "                        <th id=\"T_2edd4_level0_row7\" class=\"row_heading level0 row7\" >age_restriction</th>\n",
       "                        <td id=\"T_2edd4_row7_col0\" class=\"data row7 col0\" >0.000000</td>\n",
       "            </tr>\n",
       "            <tr>\n",
       "                        <th id=\"T_2edd4_level0_row8\" class=\"row_heading level0 row8\" >producer</th>\n",
       "                        <td id=\"T_2edd4_row8_col0\" class=\"data row8 col0\" >8.000000</td>\n",
       "            </tr>\n",
       "            <tr>\n",
       "                        <th id=\"T_2edd4_level0_row9\" class=\"row_heading level0 row9\" >ratings</th>\n",
       "                        <td id=\"T_2edd4_row9_col0\" class=\"data row9 col0\" >13.000000</td>\n",
       "            </tr>\n",
       "            <tr>\n",
       "                        <th id=\"T_2edd4_level0_row10\" class=\"row_heading level0 row10\" >genres</th>\n",
       "                        <td id=\"T_2edd4_row10_col0\" class=\"data row10 col0\" >13.000000</td>\n",
       "            </tr>\n",
       "            <tr>\n",
       "                        <th id=\"T_2edd4_level0_row11\" class=\"row_heading level0 row11\" >box_office</th>\n",
       "                        <td id=\"T_2edd4_row11_col0\" class=\"data row11 col0\" >58.000000</td>\n",
       "            </tr>\n",
       "            <tr>\n",
       "                        <th id=\"T_2edd4_level0_row12\" class=\"row_heading level0 row12\" >refundable_support</th>\n",
       "                        <td id=\"T_2edd4_row12_col0\" class=\"data row12 col0\" >96.000000</td>\n",
       "            </tr>\n",
       "            <tr>\n",
       "                        <th id=\"T_2edd4_level0_row13\" class=\"row_heading level0 row13\" >nonrefundable_support</th>\n",
       "                        <td id=\"T_2edd4_row13_col0\" class=\"data row13 col0\" >96.000000</td>\n",
       "            </tr>\n",
       "            <tr>\n",
       "                        <th id=\"T_2edd4_level0_row14\" class=\"row_heading level0 row14\" >budget</th>\n",
       "                        <td id=\"T_2edd4_row14_col0\" class=\"data row14 col0\" >96.000000</td>\n",
       "            </tr>\n",
       "            <tr>\n",
       "                        <th id=\"T_2edd4_level0_row15\" class=\"row_heading level0 row15\" >financing_source</th>\n",
       "                        <td id=\"T_2edd4_row15_col0\" class=\"data row15 col0\" >96.000000</td>\n",
       "            </tr>\n",
       "    </tbody></table>"
      ],
      "text/plain": [
       "<pandas.io.formats.style.Styler at 0x7f89521acc40>"
      ]
     },
     "execution_count": 17,
     "metadata": {},
     "output_type": "execute_result"
    }
   ],
   "source": [
    "pd.DataFrame(round(data.isna().mean()*100,)).sort_values(by = 0).style.background_gradient('coolwarm')"
   ]
  },
  {
   "cell_type": "markdown",
   "id": "0c726573-7cb2-4fcd-beb9-618433119623",
   "metadata": {},
   "source": [
    "production_country -  страна производитель. Пропусков достаточно мало, однако заменим их значением 'Неизвестно'. Аналогично поступим со столбцами director - режиссёр, film_studio - студия-производитель, producer - продюсер, genres - жанр"
   ]
  },
  {
   "cell_type": "code",
   "execution_count": 18,
   "id": "ad1cc9b3-a0ce-4c4f-92aa-29305336cd67",
   "metadata": {},
   "outputs": [],
   "source": [
    "data['production_country'] = data['production_country'].fillna('Неизвестно')\n",
    "data['director'] = data['director'].fillna('Неизвестно')\n",
    "data['film_studio'] = data['film_studio'].fillna('Неизвестно')\n",
    "data['producer'] = data['producer'].fillna('Неизвестно')\n",
    "data['genres'] = data['genres'].fillna('Неизвестно')"
   ]
  },
  {
   "cell_type": "markdown",
   "id": "5073b2c8",
   "metadata": {},
   "source": [
    "<div class=\"alert-success\" style=\"padding: 20px; border-radius: 10px\">\n",
    "<b>Комментарий ревьюера ✔️</b>\n",
    "\n",
    "Всё верно. Здесь можно применить цикл, чтобы не переписывать несколько раз код.</div>"
   ]
  },
  {
   "cell_type": "markdown",
   "id": "a9acb035-28f9-4e67-82bb-10b5ad6ab390",
   "metadata": {},
   "source": [
    "ratings - рейтинги. Так как рейтинги является не параметром фильма, а зависимой от качества фильма величиной, замещать пропуски усредненными значениями не целесообразно. Поскольку таким образом можно искусственно исказить значущую выборку"
   ]
  },
  {
   "cell_type": "markdown",
   "id": "66e7d399-a2e2-421a-84d4-689295b6def5",
   "metadata": {},
   "source": [
    "box_office - сборы в рублях. В виду большого числа пропусков (а именно 58% значений) и того что это аналогично рейтингу значащий параметр, зависимость содержимого которого от других параметров, еще будет исследовано в ходе этого проекта, видится нецелесообразно искусственно заполнять пропуски усредненными значениями."
   ]
  },
  {
   "cell_type": "markdown",
   "id": "de80b27b-d40a-497e-8b67-efc782601b9b",
   "metadata": {},
   "source": [
    "financing_source - источник государственного финансирования. Подавляющее большинство фильмов не получают государственную поддержку. Поэтому логичным кажется заполнить пропуска значением 'Отсутствует'"
   ]
  },
  {
   "cell_type": "code",
   "execution_count": 19,
   "id": "17f37c67-0099-4515-a1d6-b77ccb3f10a7",
   "metadata": {},
   "outputs": [
    {
     "data": {
      "text/plain": [
       "production_country\n",
       "Польша - Франция - Испания - Бразилия - Швеция       1\n",
       "США - Бельгия - Великобритания                       1\n",
       "США - Болгария - Мексика                             1\n",
       "США - Бразилия - Великобритания - Канада             1\n",
       "США - Великобритания - Болгария                      1\n",
       "                                                  ... \n",
       "Великобритания                                     257\n",
       "Франция                                            301\n",
       "СССР                                               347\n",
       "Россия                                            1505\n",
       "США                                               2172\n",
       "Name: production_country, Length: 937, dtype: int64"
      ]
     },
     "execution_count": 19,
     "metadata": {},
     "output_type": "execute_result"
    }
   ],
   "source": [
    "data[data['financing_source'].isna() == True].groupby('production_country')['production_country'].count().sort_values()"
   ]
  },
  {
   "cell_type": "code",
   "execution_count": 20,
   "id": "ae778431-63b9-4e48-841c-fe1bd7d27f73",
   "metadata": {},
   "outputs": [
    {
     "data": {
      "text/plain": [
       "0.0"
      ]
     },
     "execution_count": 20,
     "metadata": {},
     "output_type": "execute_result"
    }
   ],
   "source": [
    "(data[(data['production_country'] == 'Россия')&(data['financing_source']=='Отсутствует')]['production_country'].count()/data[data['production_country'] == 'Россия']['production_country'].count())*100"
   ]
  },
  {
   "cell_type": "code",
   "execution_count": 21,
   "id": "f1510eb3-565d-4e0d-8318-fbaaa2ee04e2",
   "metadata": {},
   "outputs": [],
   "source": [
    "data['financing_source'] = data['financing_source'].fillna('Отсутствует')"
   ]
  },
  {
   "cell_type": "markdown",
   "id": "c16c90f3-82db-4652-878f-eb156e859f57",
   "metadata": {},
   "source": [
    "refundable_support - объём возвратных средств государственной поддержки. В виду того что у многих фильмов нет источника государственного финансирования внутри РФ (поскольку многие фильмы указанные в базе произведены не в РФ), заполним пропуски значением 0"
   ]
  },
  {
   "cell_type": "code",
   "execution_count": 22,
   "id": "988cb081-2f6e-44b2-9174-38bf1035d802",
   "metadata": {},
   "outputs": [],
   "source": [
    "data['refundable_support'] = data['refundable_support'].fillna(0)"
   ]
  },
  {
   "cell_type": "markdown",
   "id": "344d12ae-5135-41dc-9a3d-7045622e7176",
   "metadata": {},
   "source": [
    "nonrefundable_support - объём невозвратных средств государственной поддержки. Здесь ситуация аналогична как и с refundable_support. Также заполним пропуски значением 0"
   ]
  },
  {
   "cell_type": "code",
   "execution_count": 23,
   "id": "a8c26634-4ea2-41f6-ba20-cc6b9a2480ff",
   "metadata": {},
   "outputs": [],
   "source": [
    "data['nonrefundable_support'] = data['nonrefundable_support'].fillna(0)"
   ]
  },
  {
   "cell_type": "markdown",
   "id": "ac658bb6-e59e-4e6a-9da9-144528787b19",
   "metadata": {},
   "source": [
    "budget - общий бюджет фильма. Пропусков подавляющее большинство, тем самым мы не сможем достаточно подробно посчитать среднее. Нулем также заменять нецелесообразно, поскольку не бывает такого, чтобы у фильма не было бы бюджета. Поэтому оставим пропуски пустыми"
   ]
  },
  {
   "cell_type": "markdown",
   "id": "7016a0ac-2697-44e7-ae23-b20316448804",
   "metadata": {},
   "source": [
    "Итого после обработки пропусков, осталось следующее количество пропусков:"
   ]
  },
  {
   "cell_type": "code",
   "execution_count": 24,
   "id": "65197a38-fd8c-4d35-846c-425c09280453",
   "metadata": {},
   "outputs": [
    {
     "data": {
      "text/html": [
       "<style  type=\"text/css\" >\n",
       "#T_6edc6_row0_col0,#T_6edc6_row1_col0,#T_6edc6_row2_col0,#T_6edc6_row3_col0,#T_6edc6_row4_col0,#T_6edc6_row5_col0,#T_6edc6_row6_col0,#T_6edc6_row7_col0,#T_6edc6_row8_col0,#T_6edc6_row9_col0,#T_6edc6_row10_col0,#T_6edc6_row11_col0,#T_6edc6_row12_col0{\n",
       "            background-color:  #3b4cc0;\n",
       "            color:  #f1f1f1;\n",
       "        }#T_6edc6_row13_col0{\n",
       "            background-color:  #6485ec;\n",
       "            color:  #000000;\n",
       "        }#T_6edc6_row14_col0{\n",
       "            background-color:  #f2cab5;\n",
       "            color:  #000000;\n",
       "        }#T_6edc6_row15_col0{\n",
       "            background-color:  #b40426;\n",
       "            color:  #f1f1f1;\n",
       "        }</style><table id=\"T_6edc6_\" ><thead>    <tr>        <th class=\"blank level0\" ></th>        <th class=\"col_heading level0 col0\" >0</th>    </tr></thead><tbody>\n",
       "                <tr>\n",
       "                        <th id=\"T_6edc6_level0_row0\" class=\"row_heading level0 row0\" >title</th>\n",
       "                        <td id=\"T_6edc6_row0_col0\" class=\"data row0 col0\" >0.000000</td>\n",
       "            </tr>\n",
       "            <tr>\n",
       "                        <th id=\"T_6edc6_level0_row1\" class=\"row_heading level0 row1\" >puNumber</th>\n",
       "                        <td id=\"T_6edc6_row1_col0\" class=\"data row1 col0\" >0.000000</td>\n",
       "            </tr>\n",
       "            <tr>\n",
       "                        <th id=\"T_6edc6_level0_row2\" class=\"row_heading level0 row2\" >show_start_date</th>\n",
       "                        <td id=\"T_6edc6_row2_col0\" class=\"data row2 col0\" >0.000000</td>\n",
       "            </tr>\n",
       "            <tr>\n",
       "                        <th id=\"T_6edc6_level0_row3\" class=\"row_heading level0 row3\" >type</th>\n",
       "                        <td id=\"T_6edc6_row3_col0\" class=\"data row3 col0\" >0.000000</td>\n",
       "            </tr>\n",
       "            <tr>\n",
       "                        <th id=\"T_6edc6_level0_row4\" class=\"row_heading level0 row4\" >film_studio</th>\n",
       "                        <td id=\"T_6edc6_row4_col0\" class=\"data row4 col0\" >0.000000</td>\n",
       "            </tr>\n",
       "            <tr>\n",
       "                        <th id=\"T_6edc6_level0_row5\" class=\"row_heading level0 row5\" >production_country</th>\n",
       "                        <td id=\"T_6edc6_row5_col0\" class=\"data row5 col0\" >0.000000</td>\n",
       "            </tr>\n",
       "            <tr>\n",
       "                        <th id=\"T_6edc6_level0_row6\" class=\"row_heading level0 row6\" >director</th>\n",
       "                        <td id=\"T_6edc6_row6_col0\" class=\"data row6 col0\" >0.000000</td>\n",
       "            </tr>\n",
       "            <tr>\n",
       "                        <th id=\"T_6edc6_level0_row7\" class=\"row_heading level0 row7\" >producer</th>\n",
       "                        <td id=\"T_6edc6_row7_col0\" class=\"data row7 col0\" >0.000000</td>\n",
       "            </tr>\n",
       "            <tr>\n",
       "                        <th id=\"T_6edc6_level0_row8\" class=\"row_heading level0 row8\" >age_restriction</th>\n",
       "                        <td id=\"T_6edc6_row8_col0\" class=\"data row8 col0\" >0.000000</td>\n",
       "            </tr>\n",
       "            <tr>\n",
       "                        <th id=\"T_6edc6_level0_row9\" class=\"row_heading level0 row9\" >refundable_support</th>\n",
       "                        <td id=\"T_6edc6_row9_col0\" class=\"data row9 col0\" >0.000000</td>\n",
       "            </tr>\n",
       "            <tr>\n",
       "                        <th id=\"T_6edc6_level0_row10\" class=\"row_heading level0 row10\" >nonrefundable_support</th>\n",
       "                        <td id=\"T_6edc6_row10_col0\" class=\"data row10 col0\" >0.000000</td>\n",
       "            </tr>\n",
       "            <tr>\n",
       "                        <th id=\"T_6edc6_level0_row11\" class=\"row_heading level0 row11\" >financing_source</th>\n",
       "                        <td id=\"T_6edc6_row11_col0\" class=\"data row11 col0\" >0.000000</td>\n",
       "            </tr>\n",
       "            <tr>\n",
       "                        <th id=\"T_6edc6_level0_row12\" class=\"row_heading level0 row12\" >genres</th>\n",
       "                        <td id=\"T_6edc6_row12_col0\" class=\"data row12 col0\" >0.000000</td>\n",
       "            </tr>\n",
       "            <tr>\n",
       "                        <th id=\"T_6edc6_level0_row13\" class=\"row_heading level0 row13\" >ratings</th>\n",
       "                        <td id=\"T_6edc6_row13_col0\" class=\"data row13 col0\" >13.000000</td>\n",
       "            </tr>\n",
       "            <tr>\n",
       "                        <th id=\"T_6edc6_level0_row14\" class=\"row_heading level0 row14\" >box_office</th>\n",
       "                        <td id=\"T_6edc6_row14_col0\" class=\"data row14 col0\" >58.000000</td>\n",
       "            </tr>\n",
       "            <tr>\n",
       "                        <th id=\"T_6edc6_level0_row15\" class=\"row_heading level0 row15\" >budget</th>\n",
       "                        <td id=\"T_6edc6_row15_col0\" class=\"data row15 col0\" >96.000000</td>\n",
       "            </tr>\n",
       "    </tbody></table>"
      ],
      "text/plain": [
       "<pandas.io.formats.style.Styler at 0x7f8951fff730>"
      ]
     },
     "execution_count": 24,
     "metadata": {},
     "output_type": "execute_result"
    }
   ],
   "source": [
    "pd.DataFrame(round(data.isna().mean()*100,)).sort_values(by = 0).style.background_gradient('coolwarm')"
   ]
  },
  {
   "cell_type": "markdown",
   "id": "908bedb1-5c8b-4d45-9a12-7b4ea856d7a5",
   "metadata": {},
   "source": [
    "- Проверьте, есть ли в данных дубликаты. Опишите причины, которые могли повлиять на появление дублей."
   ]
  },
  {
   "cell_type": "markdown",
   "id": "d84d88ac-a07d-4a4c-828b-1e7e19cc7dea",
   "metadata": {},
   "source": [
    "Для начала проверим наличие дублирующихся строк:"
   ]
  },
  {
   "cell_type": "code",
   "execution_count": 25,
   "id": "ccc32813-30b1-4110-9fe0-e6cd3a871952",
   "metadata": {},
   "outputs": [
    {
     "name": "stdout",
     "output_type": "stream",
     "text": [
      "Количество дублирующихся строк: 0\n"
     ]
    }
   ],
   "source": [
    "print('Количество дублирующихся строк:',data.duplicated().sum())"
   ]
  },
  {
   "cell_type": "markdown",
   "id": "0d3cc0b6-dd49-4ca8-bd85-cf30713dec24",
   "metadata": {},
   "source": [
    "Проверим колонки на наличие неявных дубликатов:"
   ]
  },
  {
   "cell_type": "markdown",
   "id": "af91e1ce-e662-4a99-91f3-9103bcfdaa6d",
   "metadata": {},
   "source": [
    "Уберем из колонки title все возможные знаки препинания и понизим регистр букв, чтобы убрать неявные дубликаты\n",
    "Возможно фильмы были записаны по-разному потому что разные прокатчики записывают фильмы по-разному"
   ]
  },
  {
   "cell_type": "code",
   "execution_count": 26,
   "id": "7652a1ad-7e76-4825-b564-afcb7e57e652",
   "metadata": {},
   "outputs": [],
   "source": [
    "data['title'] = data['title'].apply(lambda x: x.lower())\n",
    "data['title'] = data['title'].apply(lambda x: re.sub('(_)|(/)|(\\.)','', x))"
   ]
  },
  {
   "cell_type": "code",
   "execution_count": 27,
   "id": "0470386c-0247-4ced-97c9-f2dbefe0c9e9",
   "metadata": {},
   "outputs": [
    {
     "data": {
      "text/html": [
       "<div>\n",
       "<style scoped>\n",
       "    .dataframe tbody tr th:only-of-type {\n",
       "        vertical-align: middle;\n",
       "    }\n",
       "\n",
       "    .dataframe tbody tr th {\n",
       "        vertical-align: top;\n",
       "    }\n",
       "\n",
       "    .dataframe thead th {\n",
       "        text-align: right;\n",
       "    }\n",
       "</style>\n",
       "<table border=\"1\" class=\"dataframe\">\n",
       "  <thead>\n",
       "    <tr style=\"text-align: right;\">\n",
       "      <th></th>\n",
       "      <th>title</th>\n",
       "      <th>puNumber</th>\n",
       "      <th>show_start_date</th>\n",
       "      <th>type</th>\n",
       "      <th>film_studio</th>\n",
       "      <th>production_country</th>\n",
       "      <th>director</th>\n",
       "      <th>producer</th>\n",
       "      <th>age_restriction</th>\n",
       "      <th>refundable_support</th>\n",
       "      <th>nonrefundable_support</th>\n",
       "      <th>budget</th>\n",
       "      <th>financing_source</th>\n",
       "      <th>ratings</th>\n",
       "      <th>genres</th>\n",
       "      <th>box_office</th>\n",
       "    </tr>\n",
       "  </thead>\n",
       "  <tbody>\n",
       "    <tr>\n",
       "      <th>4638</th>\n",
       "      <td>как жениться и остаться холостым</td>\n",
       "      <td>221154310</td>\n",
       "      <td>2010-12-17 12:00:00</td>\n",
       "      <td>Художественный</td>\n",
       "      <td>Ше Вам, Скрипт Ассосье, Тэ Фэ 1 Фильм Продюксьон, Марс Дистрибусьон, Канал +</td>\n",
       "      <td>Франция</td>\n",
       "      <td>Эрик Лартиго</td>\n",
       "      <td>Амандин Било, Алан Шаба</td>\n",
       "      <td>«16+» - для детей старше 16 лет</td>\n",
       "      <td>0.00</td>\n",
       "      <td>0.00</td>\n",
       "      <td>NaN</td>\n",
       "      <td>Отсутствует</td>\n",
       "      <td>7.00</td>\n",
       "      <td>мелодрама,комедия</td>\n",
       "      <td>NaN</td>\n",
       "    </tr>\n",
       "    <tr>\n",
       "      <th>4639</th>\n",
       "      <td>иоанна - женщина на папском престоле по роману донны вулфольк кросс</td>\n",
       "      <td>221154310</td>\n",
       "      <td>2010-12-17 12:00:00</td>\n",
       "      <td>Художественный</td>\n",
       "      <td>Константин Фильм, А Эр Ди Дегето Фильм, Дюне Филис, Икури Филмз, Медуза Фильм, У Эф А Интернэшнл Филм энд Ти Ви Продуцион, Юниверсум Филм</td>\n",
       "      <td>Германия - Великобритания - Италия - Испания</td>\n",
       "      <td>Зенке Вортманн</td>\n",
       "      <td>Оливер Бербен, Дорис Д.Хайнце, Фарук Элтан</td>\n",
       "      <td>«16+» - для детей старше 16 лет</td>\n",
       "      <td>0.00</td>\n",
       "      <td>0.00</td>\n",
       "      <td>NaN</td>\n",
       "      <td>Отсутствует</td>\n",
       "      <td>7.60</td>\n",
       "      <td>драма,мелодрама,история</td>\n",
       "      <td>NaN</td>\n",
       "    </tr>\n",
       "    <tr>\n",
       "      <th>5067</th>\n",
       "      <td>анализируй это!</td>\n",
       "      <td>221054410</td>\n",
       "      <td>2010-05-25 12:00:00</td>\n",
       "      <td>Художественный</td>\n",
       "      <td>Уорнер Бразерс, Вилладж Роудшоу Филмз ЛТД</td>\n",
       "      <td>США-Австралия</td>\n",
       "      <td>ХЭрольд Рэмис</td>\n",
       "      <td>Джейн Розенталь, Пола Уейнстейн</td>\n",
       "      <td>«16+» - для детей старше 16 лет</td>\n",
       "      <td>0.00</td>\n",
       "      <td>0.00</td>\n",
       "      <td>NaN</td>\n",
       "      <td>Отсутствует</td>\n",
       "      <td>7.40</td>\n",
       "      <td>комедия,криминал</td>\n",
       "      <td>NaN</td>\n",
       "    </tr>\n",
       "    <tr>\n",
       "      <th>5068</th>\n",
       "      <td>анализируй то!</td>\n",
       "      <td>221054410</td>\n",
       "      <td>2010-05-25 12:00:00</td>\n",
       "      <td>Художественный</td>\n",
       "      <td>Уорнер Бразерс, Виллидж Роадшоу Пикчерз, Эн-Пи-Пи Интертейнмент, Баалтимор Спринг Крик Пикчерз Фейс, Трайбека</td>\n",
       "      <td>США</td>\n",
       "      <td>Гарольд Реймис</td>\n",
       "      <td>Джейн Розенталь, Паул Уэйнстейн</td>\n",
       "      <td>«12+» - для детей старше 12 лет</td>\n",
       "      <td>0.00</td>\n",
       "      <td>0.00</td>\n",
       "      <td>NaN</td>\n",
       "      <td>Отсутствует</td>\n",
       "      <td>6.80</td>\n",
       "      <td>комедия,криминал</td>\n",
       "      <td>NaN</td>\n",
       "    </tr>\n",
       "  </tbody>\n",
       "</table>\n",
       "</div>"
      ],
      "text/plain": [
       "                                                                    title   puNumber     show_start_date            type                                                                                                                                  film_studio                            production_country        director                                    producer                  age_restriction  refundable_support  nonrefundable_support  budget financing_source  ratings                   genres  box_office\n",
       "4638                                     как жениться и остаться холостым  221154310 2010-12-17 12:00:00  Художественный                                                                 Ше Вам, Скрипт Ассосье, Тэ Фэ 1 Фильм Продюксьон, Марс Дистрибусьон, Канал +                                       Франция    Эрик Лартиго                     Амандин Било, Алан Шаба  «16+» - для детей старше 16 лет                0.00                   0.00     NaN      Отсутствует     7.00        мелодрама,комедия         NaN\n",
       "4639  иоанна - женщина на папском престоле по роману донны вулфольк кросс  221154310 2010-12-17 12:00:00  Художественный   Константин Фильм, А Эр Ди Дегето Фильм, Дюне Филис, Икури Филмз, Медуза Фильм, У Эф А Интернэшнл Филм энд Ти Ви Продуцион, Юниверсум Филм   Германия - Великобритания - Италия - Испания  Зенке Вортманн  Оливер Бербен, Дорис Д.Хайнце, Фарук Элтан  «16+» - для детей старше 16 лет                0.00                   0.00     NaN      Отсутствует     7.60  драма,мелодрама,история         NaN\n",
       "5067                                                      анализируй это!  221054410 2010-05-25 12:00:00  Художественный                                                                                                    Уорнер Бразерс, Вилладж Роудшоу Филмз ЛТД                                 США-Австралия   ХЭрольд Рэмис             Джейн Розенталь, Пола Уейнстейн  «16+» - для детей старше 16 лет                0.00                   0.00     NaN      Отсутствует     7.40         комедия,криминал         NaN\n",
       "5068                                                       анализируй то!  221054410 2010-05-25 12:00:00  Художественный                                Уорнер Бразерс, Виллидж Роадшоу Пикчерз, Эн-Пи-Пи Интертейнмент, Баалтимор Спринг Крик Пикчерз Фейс, Трайбека                                           США  Гарольд Реймис             Джейн Розенталь, Паул Уэйнстейн  «12+» - для детей старше 12 лет                0.00                   0.00     NaN      Отсутствует     6.80         комедия,криминал         NaN"
      ]
     },
     "execution_count": 27,
     "metadata": {},
     "output_type": "execute_result"
    }
   ],
   "source": [
    "data.loc[data['puNumber'].duplicated(keep=False)]"
   ]
  },
  {
   "cell_type": "markdown",
   "id": "e7824bb1-039a-434f-ac25-7b110a403b5e",
   "metadata": {},
   "source": [
    "Обнаружились дубликаты в колонке с номером прокатного удостоверения, т.е. под одним номером существует не один фильм. Но таких дубликатов всего 4 штуки, устранять их не имеет смысла. Возможно просто кто-то ошибся, когда вводил информацию в базу"
   ]
  },
  {
   "cell_type": "markdown",
   "id": "257f8261-77bd-414e-b347-4334b4a0c41c",
   "metadata": {},
   "source": [
    "show_start_date не имеет смысла проверять, поскольку здесь исключены любые варианты неявных дубликатов. Да и в один день могут быть показаны разные фильмы"
   ]
  },
  {
   "cell_type": "markdown",
   "id": "a58ad4cc-9cf1-49d6-a84e-00c64182f92a",
   "metadata": {},
   "source": [
    "В колонке type обнаружились неявные дубликаты только по причине наличия лишнего пробела. Возможно также это возникло из-за человеческого фактора. Исправим эту ошибку"
   ]
  },
  {
   "cell_type": "code",
   "execution_count": 28,
   "id": "1e36ce01-e0bd-4b71-9af1-868d43f7d828",
   "metadata": {},
   "outputs": [
    {
     "data": {
      "text/plain": [
       "array(['Художественный', 'Анимационный', 'Прочие', 'Документальный',\n",
       "       'Научно-популярный', ' Художественный', ' Анимационный',\n",
       "       'Музыкально-развлекательный'], dtype=object)"
      ]
     },
     "execution_count": 28,
     "metadata": {},
     "output_type": "execute_result"
    }
   ],
   "source": [
    "data['type'].unique()"
   ]
  },
  {
   "cell_type": "code",
   "execution_count": 29,
   "id": "3425943c-f829-48c7-8dc0-70d595d40874",
   "metadata": {},
   "outputs": [],
   "source": [
    "data['type']= data['type'].str.strip()"
   ]
  },
  {
   "cell_type": "markdown",
   "id": "1ed5f3d7-082e-49dc-8f88-7f1181ab5893",
   "metadata": {},
   "source": [
    "Проверим, что неявных дубликатов больше нет:"
   ]
  },
  {
   "cell_type": "code",
   "execution_count": 30,
   "id": "942fd459-c227-4ddf-bdfb-a29d219597cb",
   "metadata": {},
   "outputs": [
    {
     "data": {
      "text/plain": [
       "array(['Художественный', 'Анимационный', 'Прочие', 'Документальный',\n",
       "       'Научно-популярный', 'Музыкально-развлекательный'], dtype=object)"
      ]
     },
     "execution_count": 30,
     "metadata": {},
     "output_type": "execute_result"
    }
   ],
   "source": [
    "data['type'].unique()"
   ]
  },
  {
   "cell_type": "markdown",
   "id": "aad03727-8636-4d14-916d-e974c00e6f21",
   "metadata": {},
   "source": [
    "Далее дубликаты обнаружились в колонке film_studio. Как например с ооо \"мульт в кино\". На первый взгляд возможно не видны различия, однако можно предположить, что после названия стоит лишний пробел. Попробуем устранить "
   ]
  },
  {
   "cell_type": "code",
   "execution_count": 31,
   "id": "3bab3e34-5624-4794-ac15-2dfdcb882a10",
   "metadata": {},
   "outputs": [
    {
     "data": {
      "text/plain": [
       "киностудия \"мосфильм\"                                                               341\n",
       "ооо \"мульт в кино\"                                                                   57\n",
       "анимаккорд лтд                                                                       23\n",
       "неизвестно                                                                           18\n",
       "ооо \"мульт в кино\"                                                                   18\n",
       "фгуп \"тпо \"киностудия \"союзмультфильм\"                                               16\n",
       "ооо \"таббак\"                                                                         15\n",
       "р а и синема                                                                         14\n",
       "ооо \"студия анимационного кино \"мельница\"                                            14\n",
       "опус арте                                                                            14\n",
       "ооо \"кинокомпания \"ств\"                                                              13\n",
       "пиксар анимейшн студиос, уолт дисней пикчерз                                         13\n",
       "зао \"аэроплан\"                                                                       12\n",
       "дримуоркс анимейшн                                                                   11\n",
       "уолт дисней пикчерз                                                                  11\n",
       "ооо \"продюсерский центр ералаш\"                                                      10\n",
       "ооо \"киностудия \"вертикаль\"                                                          10\n",
       "ооо \"стар медиа дистрибьюшн\"                                                         10\n",
       "ооо \"энджой мувиз\"                                                                   10\n",
       "свердловская киностудия                                                              10\n",
       "оао \"тпо \"санкт-петербургская студия документальных фильмов\"                         10\n",
       "уорнер бразерс                                                                       10\n",
       "ооо \"мармот-фильм\"                                                                    9\n",
       "синема лайв                                                                           9\n",
       "уолт дисней анимейшн студиос, уолт дисней пикчерз                                     9\n",
       "парамаунт пикчерз                                                                     9\n",
       "эр а и синема                                                                         9\n",
       "ооо \"продюсерский центр \"ленфильм\"                                                    8\n",
       "опус арт                                                                              8\n",
       "ооо \"ем продакшн\"                                                                     8\n",
       "ано школа-студия анимационного кино \"шар\"                                             8\n",
       "ооо \"тпо \"рок\"                                                                        8\n",
       "артс альянс дистрибьюшн                                                               8\n",
       "уорнер бразерс, хэйдэй филмз                                                          8\n",
       "ооо \"артлайт\"                                                                         7\n",
       "ооо \"студия \"слон\"                                                                    7\n",
       "афтер дарк филмз                                                                      7\n",
       "марвел студиос                                                                        7\n",
       "ооо \"смешарики\"                                                                       7\n",
       "севенс арт продакшнс                                                                  7\n",
       "юниверсал пикчерз                                                                     7\n",
       "ооо студия \"анимаккорд\" - animaccord ltd.                                             7\n",
       "ооо \"нон-стоп продакшн\"                                                               6\n",
       "хх век фокс                                                                           6\n",
       "юниверсал пикчерз, имэджин интертейнмент, рилейтивити медиа, скотт фри продакшнз      6\n",
       "иллюминейшн интертейнмент, юниверсал пикчерз                                          6\n",
       "райзинг алтернатив                                                                    6\n",
       "ооо \"продюсерская фирма игоря толстунова\"                                             6\n",
       "феномен ю кей лтд                                                                     6\n",
       "ооо \"студия н+н\"                                                                      6\n",
       "рэйнбоу                                                                               6\n",
       "ооо \"голд медиум\"                                                                     6\n",
       "3d продуциони, нексо диджитал                                                         6\n",
       "артс альянс медиа                                                                     6\n",
       "ооо \"ералаш\"                                                                          6\n",
       "Name: film_studio, dtype: int64"
      ]
     },
     "execution_count": 31,
     "metadata": {},
     "output_type": "execute_result"
    }
   ],
   "source": [
    "data['film_studio'] = data['film_studio'].apply(lambda x: x.lower())\n",
    "data['film_studio'].value_counts().head(55)"
   ]
  },
  {
   "cell_type": "code",
   "execution_count": 32,
   "id": "b458fad0-540e-4122-aaa1-f0b30f31e751",
   "metadata": {},
   "outputs": [
    {
     "data": {
      "text/plain": [
       "киностудия \"мосфильм\"                                                               345\n",
       "ооо \"мульт в кино\"                                                                   75\n",
       "анимаккорд лтд                                                                       23\n",
       "ооо \"таббак\"                                                                         18\n",
       "неизвестно                                                                           18\n",
       "фгуп \"тпо \"киностудия \"союзмультфильм\"                                               16\n",
       "ооо \"студия анимационного кино \"мельница\"                                            14\n",
       "р а и синема                                                                         14\n",
       "опус арте                                                                            14\n",
       "ооо \"кинокомпания \"ств\"                                                              13\n",
       "пиксар анимейшн студиос, уолт дисней пикчерз                                         13\n",
       "зао \"аэроплан\"                                                                       12\n",
       "дримуоркс анимейшн                                                                   11\n",
       "уолт дисней пикчерз                                                                  11\n",
       "ооо \"энджой мувиз\"                                                                   11\n",
       "ооо \"киностудия \"вертикаль\"                                                          10\n",
       "уорнер бразерс                                                                       10\n",
       "ооо \"продюсерский центр ералаш\"                                                      10\n",
       "уорнер бразерс, хэйдэй филмз                                                         10\n",
       "ооо \"стар медиа дистрибьюшн\"                                                         10\n",
       "свердловская киностудия                                                              10\n",
       "оао \"тпо \"санкт-петербургская студия документальных фильмов\"                         10\n",
       "эр а и синема                                                                        10\n",
       "парамаунт пикчерз                                                                     9\n",
       "ооо \"мармот-фильм\"                                                                    9\n",
       "синема лайв                                                                           9\n",
       "уолт дисней анимейшн студиос, уолт дисней пикчерз                                     9\n",
       "ооо \"продюсерский центр \"ленфильм\"                                                    8\n",
       "артс альянс дистрибьюшн                                                               8\n",
       "ано школа-студия анимационного кино \"шар\"                                             8\n",
       "ооо \"ем продакшн\"                                                                     8\n",
       "ооо \"тпо \"рок\"                                                                        8\n",
       "ооо \"нон-стоп продакшн\"                                                               8\n",
       "опус арт                                                                              8\n",
       "юниверсал пикчерз                                                                     8\n",
       "афтер дарк филмз                                                                      7\n",
       "севенс арт продакшнс                                                                  7\n",
       "ооо \"продюсерская фирма игоря толстунова\"                                             7\n",
       "райзинг алтернатив                                                                    7\n",
       "ооо студия \"анимаккорд\" - animaccord ltd.                                             7\n",
       "марвел студиос                                                                        7\n",
       "ооо \"смешарики\"                                                                       7\n",
       "ооо \"артлайт\"                                                                         7\n",
       "ооо \"студия \"слон\"                                                                    7\n",
       "ооо \"визарт фильм\"                                                                    6\n",
       "артс альянс медиа                                                                     6\n",
       "3d продуциони, нексо диджитал                                                         6\n",
       "юниверсал пикчерз, рот филмз                                                          6\n",
       "рэйнбоу                                                                               6\n",
       "феномен ю кей лтд                                                                     6\n",
       "ооо \"компания \"атк-студио\"                                                            6\n",
       "ооо \"кинофирма\"                                                                       6\n",
       "ооо \"голд медиум\"                                                                     6\n",
       "юниверсал пикчерз, имэджин интертейнмент, рилейтивити медиа, скотт фри продакшнз      6\n",
       "ооо \"ералаш\"                                                                          6\n",
       "Name: film_studio, dtype: int64"
      ]
     },
     "execution_count": 32,
     "metadata": {},
     "output_type": "execute_result"
    }
   ],
   "source": [
    "data['film_studio'] = data['film_studio'].str.strip()\n",
    "data['film_studio'].value_counts().head(55)"
   ]
  },
  {
   "cell_type": "markdown",
   "id": "07cf837c-8820-4f0c-8385-350d9104ae15",
   "metadata": {},
   "source": [
    "Как видно, данный вариант сработал. Возможно здесь также кто-то ошибся при внесении информации (легко всегда поставить лишний пробел, все с этим сталкивались)"
   ]
  },
  {
   "cell_type": "markdown",
   "id": "4ee8d5d8-b372-439a-8a0f-df1f555a461e",
   "metadata": {},
   "source": [
    "production_country - страна производитель. Как можно заметить, здесь при комбинации стран производителей список написан либо через тире, либо через запятую. Также были замечены лишние пробелы. В данном случае удалим лишние пробелы и заменим все тире на запятые\n",
    "Возможно причина подобных дубликатов в том, что заполнять могли разные люди и каждый привык записывать по-своему"
   ]
  },
  {
   "cell_type": "code",
   "execution_count": 33,
   "id": "358748ec-31a0-4e61-95c5-256118c00371",
   "metadata": {},
   "outputs": [
    {
     "data": {
      "text/plain": [
       "array(['США', 'СССР', 'Франция', 'СССР, Венгрия',\n",
       "       'Германия-Великобритания', 'Великобритания - Италия',\n",
       "       'Чехословакия', 'США - Франция - Турция', 'Новая Зеландия',\n",
       "       'Канада - Франция - Испания', 'США-Германия',\n",
       "       'США - Великобритания', 'Великобритания', 'США - Германия',\n",
       "       'Франция - Мексика - США', 'Россия, Казахстан, США',\n",
       "       'СССР, Швеция', 'СССР, Франция, Англия, Куба, ГДР', 'Германия',\n",
       "       'Великобритания-США-Германия-КНР',\n",
       "       'СССР, ЧССР, Западный Берлин, ПНР', 'СССР, Италия', 'Гонконг, КНР',\n",
       "       'США - Франция', 'США - Япония - Франция - Великобритания',\n",
       "       'Гонконг - Сингапур - Таиланд - Великобритания', 'США-Канада',\n",
       "       'Франция - Италия - Великобритания - США', 'Франция - США',\n",
       "       'Ирландия-Великобритания-Германия', 'Чехия', 'США-Австралия',\n",
       "       'СССР, Финляндия', 'США-Франция-Великобритания-Австрия',\n",
       "       'США - Бельгия', 'США - Ирландия - Великобритания',\n",
       "       'Великобритания - США',\n",
       "       'Люксембург - Нидерланды - Испания - Великобритания - США - Италия',\n",
       "       'Великобритания - Франция - США', 'Новая Зеландия - США',\n",
       "       'США - Великобритания - Чехия',\n",
       "       'Канада - Франция - Великобритания', 'Ирландия',\n",
       "       'Великобритания - Германия - США',\n",
       "       'США - Франция - Великобритания', 'Япония', 'СССР, Польша',\n",
       "       'Франция - Испания', 'Канада-Франция', 'Германия - Италия - США',\n",
       "       'Аргентина - Бразилия', 'Дания - Швейцария - Бельгия - Франция',\n",
       "       'США - Испания', 'Германия - США',\n",
       "       'Франция - Австрия - Германия - Италия - США', 'Австрия',\n",
       "       'США - Канада - Германия', 'США - Канада',\n",
       "       'СССР - Швейцария - Франция', 'Россия - Казахстан', 'Гонконг',\n",
       "       'Италия', 'США - ОАЭ', 'Россия',\n",
       "       'США - Франция - Испания - Великобритания',\n",
       "       'Великобритания - Франция', 'США-Италия-Испания-Аргентина',\n",
       "       'Франция-Великобритания', 'КНР - Гонконг',\n",
       "       'Франция - Италия - Швейцария', 'США - Новая Зеландия',\n",
       "       'Франция - Бельгия', 'КНР', 'Германия - Великобритания - Австрия',\n",
       "       'Великобритания - Израиль - Франция - Япония - США', 'Швеция',\n",
       "       'Испания', 'Дания', 'Франция - Бельгия - Люксембург',\n",
       "       'США - Индия - ОАЭ',\n",
       "       'Германия-Канада-Великобритания-Швейцария-Франция',\n",
       "       'Мексика - Чили', 'Аргентина', 'Бразилия', 'Чили', 'Австралия',\n",
       "       'Португалия - Франция', 'США - ЮАР', 'Исландия-Ирландия-Германия',\n",
       "       'США-Индонезия', 'Южная Корея', 'Мексика - Испания - Дания - США',\n",
       "       'Великобритания-США', 'Франция - Италия', 'США-Франция',\n",
       "       'США - Венгрия - Великобритания', 'Бельгия-Франция-Италия',\n",
       "       'Чехия - Германия', 'Германия - Франция', 'США-Нидерланды',\n",
       "       'Украина', 'Великобритания - Германия', 'Франция-Бельгия',\n",
       "       'США-Франция-Испания', 'Италия - Франция', 'Канада',\n",
       "       'Швеция-Франция-Дания', 'Германия-Франция-Польша',\n",
       "       'Франция-Великобритания - Германия',\n",
       "       'США - Бразилия - Франция - Австралия - Великобритания - Германия',\n",
       "       'Германия-Австрия', 'Германия-Италия- Шри-Ланка',\n",
       "       'Великобритания - Испания',\n",
       "       'США - Великобритания - Канада - Швеция',\n",
       "       'Босния и Герцеговина - Франция - Великобритания - Германия - Словения - Бельгия - Сербия',\n",
       "       'Великобритания - Франция - Италия - США', 'США-ОАЭ',\n",
       "       'Испания - Франция', 'США-Великобритания', 'США-ЮАР',\n",
       "       'Великобритания-Австралия - США',\n",
       "       'Норвегия - Швеция - Дания - Германия', 'Норвегия', 'Швейцария',\n",
       "       'Греция - Германия - Франция', 'Норвения', 'Южная Корея - США',\n",
       "       'Чили - Франция - США', 'Австрия - Германия - Франция',\n",
       "       'Швеция - Дания', 'Великобритания - Франция - Бельгия - Италия',\n",
       "       'Франция - Германия', 'Грузия - Франция - Люксембург',\n",
       "       'США - Франция - Великобритания - Бразилия ', 'США - КНР',\n",
       "       'Мексика - Франция', 'США - Германия - Гонконг - Сингапур',\n",
       "       'Финляндия - Австрия - Россия', 'Испания - Куба',\n",
       "       'Великобритания - ЮАР', 'Великобритания - Ирландия', 'Израиль',\n",
       "       'Бразилия - Германия - Порртугалия - Франция ',\n",
       "       'Франция - Канада - Бельгия', 'Франция-Испания',\n",
       "       'Испания - Канада - Япония', 'Иран', 'Швеция-Куба',\n",
       "       'США-Великобритания-Ирландия', 'Гонконг - КНР', 'Нидерланды',\n",
       "       'Испания - Канада', 'Япония-Великобритания',\n",
       "       'Великобритания - Норвегия - Дания - Германия',\n",
       "       'Финляндия - Франция - Германия',\n",
       "       'Мексика - Франция - Нидерланды - Германия', 'США - Индия',\n",
       "       'США-Великобритания-Индия', 'США-Канада-Бельгия',\n",
       "       'Республика Узбекистан', 'Италия ', 'Турция',\n",
       "       'Сербия - Словения - Хорватия - Черногория - Македония',\n",
       "       'Киргизия', 'Германия - Нидерланды - Беларусь - Россия - Латвия',\n",
       "       'Индия', 'Нидерланды - Россия - Германия',\n",
       "       'Великобритания - Нидерланды - Франция - Хорватия',\n",
       "       'Канада - Южная Корея',\n",
       "       'Великобритания - Польша - КНР - Индия - Норвегия',\n",
       "       'Япония - Франция - США - Южная Корея - Турция',\n",
       "       'Мексика - Аргентина - Великобритания', 'Израиль - Франция',\n",
       "       'Польша - Португалия - Франция - Великобритания',\n",
       "       'Австралия - США', 'США - Великобритания ',\n",
       "       'Франция - Люксембург - Бельгия', 'Армения',\n",
       "       'Бельгия - Люксембург - Франция - Швейцария',\n",
       "       'США - Великобритания - Канада', 'Норвегия - Швеция',\n",
       "       'Канада - Франция', 'КНР - Гонконг - США',\n",
       "       'США - Сингапур - Малайзия - Индонезия', 'Германия - Россия',\n",
       "       'Япония - Канада', 'Финляндия - Дания - Германия - Ирландия',\n",
       "       'Франция - Люксембург - Германия - Бельгия - Швейцария - Великобритания ',\n",
       "       'Канада - США', 'США-Италия-Испания', 'США-Испания',\n",
       "       'США - Швейцария - Франция', 'Испания - США - Колумбия',\n",
       "       'Канада-ЮАР', 'Франция - Россия',\n",
       "       'Германия - Финляндия - Австралия', 'Дания - Швеция', 'Бельгия',\n",
       "       'Германия - Франция - Австрия', 'Франция-Индия', 'ЮАР',\n",
       "       'Франция-Перу', 'Франция - Канада', 'Республика Беларусь',\n",
       "       'Великобритания - Австрия - Франция - США',\n",
       "       'Австрия-Германия-Франция', 'США-Россия', 'Германия-США',\n",
       "       'США - Южная Корея', 'Канада - КНР',\n",
       "       'Дания - Швеция - Италия - Франция - Германия',\n",
       "       'Франция-Италия-Испания-Венгрия', 'Франция - Германия - Бельгия',\n",
       "       'Франция-Великобритания-Чехия', 'Румыния - Франция - Бельгия',\n",
       "       'Болгария - Франция - Изриль',\n",
       "       'Израиль - Германия - Польша - Бельгия - Франция - Люксембург',\n",
       "       'Россия, Германия, Франция, Бельгия', 'Индонезия',\n",
       "       'Франция - Португалия', 'Великобритания - Пуэрто-Рико',\n",
       "       'СССР, ФРГ, Западный Берлин', 'Россия, Республика Беларусь',\n",
       "       'США, Великобритания', 'Франция - Австрия', 'Бельгия-Нидерланды',\n",
       "       'Великобритания - США - Индия', 'США - Великобритания - Австралия',\n",
       "       'Канада - Франция - США - ОАЭ - Великобритания',\n",
       "       'США - Австралия - Франция',\n",
       "       'Дания-Франция-Бельгия-Германия-Великобритания',\n",
       "       'Испания - Аргентина', 'Исландия - Финляндия',\n",
       "       'Россия-Польша-Голландия-Словакия', 'Дания - Германия - Швеция',\n",
       "       'Южная Корея - США - Канада', 'Таиланд', 'США-Мальта',\n",
       "       'США -Германия',\n",
       "       'Великобритания - Германия - Франция - Кипр - США', 'Мексика',\n",
       "       'США - Великобритания - Ирландия', 'США - Украина',\n",
       "       'США - Финляндия - Испания - Великобритания - Франция',\n",
       "       'Австралия-Великобритания',\n",
       "       'США - Канада - Афганистан - Бельгия - Франция',\n",
       "       'США - Великобритания - Германия - Новая Зеландия - Бельгия - Франция',\n",
       "       'Франция-Канада',\n",
       "       'Ирландия - Финляндия - Бельгия - Великобритания - США - Швейцария',\n",
       "       'Малайзия - США', 'Германия - Италия',\n",
       "       'США - Франция - Бельгия - Италия', 'Франция - Ирландия - Швеция',\n",
       "       'Азербайджан-Россия', 'Великобритания - Италия - Швейцария',\n",
       "       'США - Германия - Великобритания',\n",
       "       'Германия - Бельгия - США -Франция', 'США-Китай', 'Чили - Испания',\n",
       "       'Франция - Швейцария', 'Канада - Испания',\n",
       "       'США - Румыния - Великобритания', 'США - Япония',\n",
       "       'США - Россия - Франция', 'Франция-США', 'Парагвай',\n",
       "       'Германия - Канада', 'США - Канада - Великобритания',\n",
       "       'Финляндия - Канада', 'Уругвай-Мексика-Германия ', 'США - Чили',\n",
       "       'Германия - Аргентина - Нидерланды - Чили',\n",
       "       'США - Канада - Индонезия', 'Армения - Казахстан', 'Финляндия',\n",
       "       'Испания - Италия - Франция',\n",
       "       'Бельгия - Испания - Канада - Нидерланды',\n",
       "       'Великобритания - Франция - Швеция - Бельгия',\n",
       "       'Мексика - Эквадор - Канада - США - Франция - Малайзия - Италия - Аргентина - Германия - Индия  ',\n",
       "       'Франция - Бенльгия', 'Индия - Великобритания',\n",
       "       'Япония - Великобритания - Франция',\n",
       "       'Испания - Уругвай - Аргентина',\n",
       "       'Франция - Италия - Бельгия - Люксембург',\n",
       "       'Франция - Украина - Грузия - Армения',\n",
       "       'Сербия - Германия - Венгрия', 'Франция-Польша', 'Франция ',\n",
       "       'Румыния-США', 'Россия-Азербайджан',\n",
       "       'США - Нидерланды - Бельгия - Венгрия - Греция - Канада',\n",
       "       'Германия - Франция - Люксембург', 'США - Россия',\n",
       "       'Великобритания - США - Франция', 'США - Австралия - Дания',\n",
       "       'Бельгия-Франция', 'США-Мексика',\n",
       "       'Норвегия - Азербайджан - Россия - Колумбия - Великобритания - Венгрия - Румыния - Франция - Грузия',\n",
       "       'СЩА', 'Бразилия - Испания', 'Россия, Франция, Латвия',\n",
       "       'Нидерланды - США - Германия - Канада - Франция - Ирландия - Великобритания',\n",
       "       'Уругвай - Колумбия', 'США - Испания - Болгария',\n",
       "       'Армения - Германия', 'США - Великобритания- Франция - Швеция',\n",
       "       'США - Мексика', 'Австралия-Турция-США', 'Швеция - Германия',\n",
       "       'Польша - Италия - Россия', 'Франция - Бразилия',\n",
       "       'США - Канада - КНР', 'СССР, Венгрия, ЧССР, ГДР',\n",
       "       'Бельгия - Германия - Люксембург', 'СССР  ', 'СССР ', ' СССР ',\n",
       "       'США - Австралия', 'Бразилия - США',\n",
       "       'США - Великобритания - Канада - КНР', 'Франция - Чили',\n",
       "       'Франция - США - Великобритания - Колумбия - Бельгия - Россия',\n",
       "       'Дания - Великобритания - ЮАР', 'СССР   ',\n",
       "       'Россия-США-Канада-Люксембург', 'Россия - Республика Кипр',\n",
       "       'Германия - США - Швеция - Франция',\n",
       "       'Великобритания-Германия-Канада-ЮАР', ' СССР   ', 'СССР     ',\n",
       "       'Ирландия, Канада',\n",
       "       'Япония - Великобритания - Швейцария - Ирландия - Дания - Франция - Польша - Австралия - Канада  ',\n",
       "       'Великобритания, Канада', 'Бельгия - США',\n",
       "       'Великобритания - США - Россия', 'Россия-Украина',\n",
       "       'Германия - США - Великобритания - Израиль', 'Канада - Германия',\n",
       "       'США- Ю.Корея', 'Индия - Мексика',\n",
       "       'Великобритания - Франция - Республика Кипр - Швейцария - США - Сербия',\n",
       "       'Испания - Аргентина - Индия - США',\n",
       "       'Норвегия - Исландия - США - Великобритания ',\n",
       "       'Турция - Германя - Франция', 'Германия - Великобритания',\n",
       "       'Австралия - Германия', 'Мексика - Испания',\n",
       "       'Великобритания - США - Германия - Бельгия',\n",
       "       'США - Чехия - Франция', 'Россия - Италия', 'Франция-Россия',\n",
       "       'Норвегия - Дания - Швеция', 'Франция - Швейцария - Германия',\n",
       "       'Грузия - Украина', 'Россия - Эстония - Финляндия - Беларусь',\n",
       "       'США - Франция - ЮАР', 'Великобритания - США - Швейцария',\n",
       "       'Канада-США', 'Мексика - Нидерланды - Германия - Франция',\n",
       "       'США - Испания - Франция', 'США - Великобритания - КНР',\n",
       "       'США-Франция-Канада',\n",
       "       'Япония, Великобритания, Австрия, Германия, Ю.Корея',\n",
       "       'Великобритания - Ирландия - США', 'Бельгия - Италия - Франция ',\n",
       "       'Швейцария-Германия-ЮАР', 'Великобритания - США - Германия',\n",
       "       'Германия - Исландия', 'Испания - США', 'СССР    ', 'Хорватия',\n",
       "       'Финляндия - Исландия - Швеция',\n",
       "       'Канада - США - Германия - Франция',\n",
       "       'США - Великобритания - Испания', 'Ирландия-Великобритания',\n",
       "       'Аргентина - Испания', 'Австрия - Германия', ' СССР',\n",
       "       'Германия - Швейцария - Франция - Южная Корея - США',\n",
       "       'Украина - Нидерланды', 'Венгрия - Германия - Швеция',\n",
       "       'Германия - Франция -  Польша - Турция - Канада - Италия - Россия ',\n",
       "       'СССР, Афганистан', 'СССР, Монголия', 'Россия-Кипр',\n",
       "       'Россия, Грузия, Испания',\n",
       "       'Великобритания - Нидерланды - Германия - Франция - Бельгия - Австрия ',\n",
       "       'Испания - Великобритания - Франция',\n",
       "       'Дания - Норвегия - Великобритания',\n",
       "       'Бельгия - Франция - Люксембург',\n",
       "       'Италия - Франция - Швейцария - Великобритания',\n",
       "       'Франция - Бельгия - Великобритания - Испания - Германия - США',\n",
       "       'Швейцария - Израиль - Франция - Великобритания',\n",
       "       'Великобритания - США - Канада - Нидерланды - Франция',\n",
       "       'Россия, Италия', 'СССР, Албания',\n",
       "       'Россия, Украина, Республика Беларусь, Литва',\n",
       "       'Финляндия - Великобритания - Германия', 'Россия, Украина, Польша',\n",
       "       'Франция - Италия - Бельгия - КНР',\n",
       "       'Германия - Бельгия - Люксембург - Ирландия', 'КНР - Сингапур',\n",
       "       'Франция - Бельгия - Великобритания - США - Нидерланды - Канада',\n",
       "       'США - Россия - Польша - Германия - Пуэрто Рико',\n",
       "       'Франция - Бельгия - Канада', 'США ', 'Мексика - США',\n",
       "       'США - Гонконг - КНР ', 'Греция - Россия',\n",
       "       'Ирландия - Дания - Бельгия - Люксембург - Франция',\n",
       "       'Эстония - Россия',\n",
       "       'Великобритания - Исландия - Испания - Швейцария - США',\n",
       "       'Австралия - Великобритания - Бельгия - Индия',\n",
       "       'Швеция - Германия - Франция - Норвегия',\n",
       "       'Нидерланды - Бельгия - Германия - Ирландия',\n",
       "       'Нидерланды - Великобритания - Бельгия',\n",
       "       'США - Колумбия - Испания', 'Франция-Испания-Бельгия-Панама',\n",
       "       'США-Великобритания-Чехия-Румыния',\n",
       "       'Аргентина - Уругвай - Россия - Германия - Франция - Нидерланды',\n",
       "       'Швеция - Франция - Норвегия - Дания',\n",
       "       'Италия-Франция-Великобритания', 'Великобритания, Франция',\n",
       "       'Австралия, США', 'Венесуэла',\n",
       "       'Великобритания - США - Австралия - Ирландия - Германия - Куба - Канада',\n",
       "       'Южная Корея - КНР',\n",
       "       'Аргентина - Мексика - Бразилия - Франция - США', 'Швеция - США',\n",
       "       'Франция - Германия - Турция - Катар', 'Франция-Китай',\n",
       "       'Россия, Германия, Великобритания',\n",
       "       'Великобритания - Италия - Испания', 'Италия - Россия',\n",
       "       'Япония - КНР - Южная Корея', 'Россия, Германия',\n",
       "       'Россия-Ирландия', 'Македония - Франция - Великобритания',\n",
       "       'Франция - Бразилия - Италия', 'Россия-США', 'Армения-Россия',\n",
       "       'Россия, Румыния', 'Франция -  Бельгия', 'Грузия-Франция',\n",
       "       'ЮАР - США', 'Великобритания-США-Франция',\n",
       "       'Великобритания - США - Германия - Канада - Австралия',\n",
       "       'США-Ирландия', 'Россия, Республика Кипр',\n",
       "       'Германия - Люксембург - Франция', 'Россия-Франция',\n",
       "       'США - Нидерланды - Финляндия - Великобритания - Италия',\n",
       "       'Республика Кипр', 'Венгрия', 'Франция - США - Норвегия - Дания',\n",
       "       'Германия - Австрия - Ирландия', 'США - Финляндия',\n",
       "       'Италия-Великобритания', 'Россия, Испания',\n",
       "       'США - Великобритания - Болгария', 'Великобритания - Люксембург',\n",
       "       'Индия - США', 'США - Канада - Россия - Франция - Чили - Ирландия',\n",
       "       'Грузия-Россия',\n",
       "       'Дания - Австрия - Ирландия - Финляндия - Норвегия - Швеция - Нидерланды',\n",
       "       'США-КНР', 'Грузия', 'Австралия - Ирландия',\n",
       "       'Великобритания - Канада', 'Италия - Аргентина - Словения ',\n",
       "       'Испания - Франция - Нидерланды - Германия - Бельгия - Великобритания - Канада',\n",
       "       'Франция - Чехия - Бельгия',\n",
       "       'Великобритания - Франция - Германия - США',\n",
       "       'Ирландия - Великобритания - Франция - США - Германия - Нидерланды',\n",
       "       'США - Канада - Япония - КНР', 'Италия-Франция',\n",
       "       'США - Великобритания - Исландия', 'Великобритания-Франция',\n",
       "       'Франция - Германия - Нидерланды', 'Иран ',\n",
       "       'Франция - Германия - Швеция - США - Чехия - Словакия - Великобритания - Нидерланды',\n",
       "       'Франция - Канада - Н.Зеландия - США - Нидерланды - Германия - Швеция - Россия',\n",
       "       'Турция - США',\n",
       "       'Великобритания - США - Канада - Бельгия - Нидерланды - Австрия - Германия',\n",
       "       'Израиль - Франция - Германия - Палестина - США - Австрия - Великобритания',\n",
       "       'Аргентина - Франция - Испания', 'СССР, Россия',\n",
       "       'Великобритания - Франция - Италия - Индия - Дания - КНР - Бангладеш - Камбоджа - Гаити - Уганда',\n",
       "       'Италия - Франция - Швейцария',\n",
       "       'Ирландия - Великобритания - Канада', 'Перу', 'США - Норвегия',\n",
       "       'Испания-Канада', 'Китай-Гонконг', 'США - Германия - КНР',\n",
       "       'Великобритания - Новая Зеландия',\n",
       "       'Франция - Дания - Швеция - КНР',\n",
       "       'США - Великобритания - Германия - Бельгия - Дания',\n",
       "       'США - Франция - Канада - Германия - Австралия - Индия',\n",
       "       'Неизвестно', 'СССР, Румыния, Франция', 'СССР, ГДР',\n",
       "       'Австралия-Ирландия', 'США - Китай',\n",
       "       'Великобритания - Франция - Австрия - Швеция',\n",
       "       'Россия, Таджикистан', 'Нидерланды - Бельгия - Болгария',\n",
       "       'Великобритания - Канада - США', 'Франция - Бельгия - Испания',\n",
       "       'Китай-Гонконг-США', 'Франция - Великобритания', 'США - Вьетнам',\n",
       "       'США - Германия - Франция', 'Германия - Франция - Бельгия',\n",
       "       'США - Италия',\n",
       "       'Германия - Дания - Испания - Швеция - Канада - Эстония - Франция',\n",
       "       'Княжество Андорра - Украина', 'Германия - Люксембург - Бельгия',\n",
       "       'Великобритания - Россия - Украина - США',\n",
       "       'Германия - Бельгия - Люксембург - Норвегия',\n",
       "       'США - Австралия - Новая Зеландия - Великобритания',\n",
       "       'США - Франция - Канада - Великобритания', 'Испания-Колумбия',\n",
       "       'Великобритания - Чехия - Франция', 'Россия, Украина', 'Исландия',\n",
       "       'Великобритания - Франция - Венгрия',\n",
       "       'Россия, Франция, Германия, Бельгия', 'Франция - Македония',\n",
       "       'Нидерланды - Франция - Германия - Бельгия - Швеция - Великобритания',\n",
       "       'Испания - США - Великобритания - Канада', 'Германия - Австрия',\n",
       "       'Республика Казахстан',\n",
       "       'Франция - Испания - Дания - Венгрия - Швейцария', 'Франция-КНР',\n",
       "       'США - Пуэрто-Рико - Франция ', 'Мексика - Тайвань - США',\n",
       "       'Великобритания - Испания - Непал - Индия - Венгрия - Гонконг - Германия - Дания - Бахрейн',\n",
       "       'Великобритания - Аргентина - США - Франция - Россия - Испания',\n",
       "       'КНР - США', 'Италия - США', 'Финляндия - Швеция - Германия',\n",
       "       'Канада- Испания', 'Франция - Бельгия - Чехия',\n",
       "       'Франция-Бельгия-Канада', 'Франция - Германия - США',\n",
       "       'США - Дания', 'Индия - КНР', 'Чехия-Великобритания-США',\n",
       "       'США-ФРГ-Россия', 'Ирландия-Нидерланды-Франция-США-Великобритания',\n",
       "       'Россия, Грузия, Хорватия, Испания',\n",
       "       'Финляндия - Швеция - Норвегия', 'Сербия - Великобритания - США',\n",
       "       'США - Великобритания - Франция - Гонконг', 'Швейцария - Франция',\n",
       "       'Швейцария - Великобритания', 'ОАЭ - США',\n",
       "       'США - Франция - Германия - Канада - Австралия ',\n",
       "       'Германия - Австралия', 'Иран, Франция',\n",
       "       'США - Великобритания - Новая Зеландия', 'США-Колумбия',\n",
       "       'США-Франция-Ирландия', 'Великобритания - Франция - Бельгия',\n",
       "       'США - Великобритания - Япония', 'США - Франция - Германия',\n",
       "       'Польша - Ирландия', 'Ирландия - Великобритания - Франция - США',\n",
       "       'США - Бельгия - Великобритания', 'СССР, ВНР',\n",
       "       'Испания - Франция - США - Великобритания - Бельгия',\n",
       "       'Франция - Дания - США', 'США - Гонконг', 'Бразилия - К;анада',\n",
       "       'Франция-Германия', 'США - Колумбия',\n",
       "       'США - Ирландия - Великобритания - Франция',\n",
       "       'Великобритания - США - Канада', 'Польша - Франция',\n",
       "       'Канада - США - Нидерланды - Великобритания - Аргентина',\n",
       "       'Великобритания - Дания', 'Франция - Бельгия - Япония',\n",
       "       'Россия,  Испания', 'Франция -Бельгия',\n",
       "       'США - Канада - Германия - Франция', 'США-Канада-Франция',\n",
       "       'Россия - Германия', 'Россия-Италия', 'Китай - Гонконг',\n",
       "       'Германия-Австрия-Франция-Италия', 'США-Япония',\n",
       "       'США - Германия - Канада', 'Испания-Мексика',\n",
       "       'США - Япония - Канада - Великобритания - Германия - Франция',\n",
       "       'США -Великобритания - Австралия', 'Россия-Украина-Германия',\n",
       "       'Израиль - Франция - Великобритания - Германия', 'Корея',\n",
       "       'Россия - Болгария', 'США-Индия',\n",
       "       'Германия-Канада-Франция-Бельгия', 'Германия-Кения',\n",
       "       'Франция - Монако', 'Франция-Испания-Швейцария',\n",
       "       'Австрия-Франция-Германия', 'Румыния',\n",
       "       'США-Великобритания-Франция', 'Канада-Великобритания',\n",
       "       'Канада-Бразилия-Япония', 'Германия - Дания - Норвегия',\n",
       "       'Дания - Германия', 'СССР - Италия',\n",
       "       'СССР - ГДР - Польша - Италия',\n",
       "       'США - Испания - Франция - Великобритания', 'Китай',\n",
       "       'Мексика-Аргентина',\n",
       "       'Германия - Великобритания - Италия - Испания',\n",
       "       'Франция-Германия-Великобритания', 'Россия - Германия - Швейцария',\n",
       "       'Франция-Австралия', 'Голландия', 'Швейцария-Франция',\n",
       "       'Россия-Белоруссия', 'Франция - Испания - Тайвань',\n",
       "       'США-Южная Корея-Новая Зеландия', 'Великобритания-Венгрия',\n",
       "       'Россия-Германия', 'Великобритания-Франция-Германия',\n",
       "       'Франция-Германия-Италия', 'Швеция-Финляндия-Франция-Норвегия',\n",
       "       'Франция-Италия', 'Германия-Израиль',\n",
       "       'Швеция - Германия - Дания - Норвегия', 'США-Бельгия',\n",
       "       'Франция-Гонконг-Ирландия', 'Эстония', 'Литва-Россия-Украина',\n",
       "       'Германия - Италия - Франция',\n",
       "       'Великобритания - Австрия - Германия', 'Бельгия - Франция',\n",
       "       'Россия-Казахстан', 'Испания - Мальта',\n",
       "       'Франция-Россия-Румыния-Италия-Бельгия', 'Россия - Польша',\n",
       "       'Испания - Мексика', 'США-Аргентина', 'Великобритания ',\n",
       "       'Израиль-США-Франция', 'США - Новая Зеландия - Япония',\n",
       "       'Франция - Чехия - Великобритания', 'Россия-Польша',\n",
       "       'Германия-Франция-Великобритания', 'США-Германия-Канада',\n",
       "       'США-Гонконг-Китай', 'США - Великобритания - Германия',\n",
       "       'США-Канада-Австралия', 'Япония-США-Франция',\n",
       "       'Франция-Испания-Германия', 'США - Хорватия - Босния-Герцеговина',\n",
       "       'Великобритания - Чехия - Франция - Италия',\n",
       "       'США - Германия - Нидерланды', 'Германия - Франция - Канада',\n",
       "       'Франция-Грузия-Германия-Россия-Украина-Бельгия',\n",
       "       'Великобритания - Франция - Италия', 'Россия - США',\n",
       "       'Франция - Италия - Иран', 'Россия - Азербайджан', 'Греция',\n",
       "       'Дания - США', 'США-Великобритания-Новая Зеландия',\n",
       "       'США-Германия-Австралия', 'США-Канада-Италия',\n",
       "       'США - Япония - Германия', 'Австралия-США',\n",
       "       'Франция - Великобритания - Багамские острова - США',\n",
       "       'Швейцария - Люксембург', 'Швейцария - Австрия',\n",
       "       'Германия - Швейцария', 'Дания-Швеция-Франция-Германия', 'Польша',\n",
       "       'Швейцария-Австрия', 'Бразилия - Канада - США',\n",
       "       'Нидерланды - Россия', 'Португалия', 'Франция-Аргентина',\n",
       "       'Швеция-Франция', 'Франция-Украина', 'Германия-Украина-Нидерланды',\n",
       "       'Италия-Швейцария', 'США-Германия-Великобритания',\n",
       "       'Латвия - Россия', 'Германия-Франция-Великобритания-США',\n",
       "       'Канада - Италия', 'США - Объединенные Арабские Эмираты',\n",
       "       'США-Венгрия', 'Малайзия', 'Россия - Германия - Украина',\n",
       "       'США - Австралия - Мексика', 'Литва - Венгрия', 'Германия - Китай',\n",
       "       'Казахстан', 'Республика Корея',\n",
       "       'США - Германия - Франция - Великобритания - Канада ',\n",
       "       'Бельгия - Германия - Люксембург - Франция', 'Франция - Греция',\n",
       "       'Италия - Канада', 'США - Великобритания - Франция',\n",
       "       'США-Италия-Греция', 'Германия - США - Великобритания - Ирландия',\n",
       "       'Великобритания - Франция - Германия',\n",
       "       'Германия - Нидерланды - ЮАР',\n",
       "       'США-Япония-Германия-Великобритания-Нидерланды',\n",
       "       'США-Япония-Германия-Великобритания',\n",
       "       'Германия - Франция - Польша',\n",
       "       'Таиланд-Великобритания-Франция-Германия-Испания-Нидерланды',\n",
       "       'Германия-Италия-Швейцария',\n",
       "       'Дания - Швеция - Великобритания - Франция - Германия - Нидерланды - Норвегия - Финляндия',\n",
       "       'Франция - Великобритания - Нидерланды - Люксембург',\n",
       "       'Нидерланды-Великобритания-Франция-Италия-Япония',\n",
       "       'Финляндия-Дания-Германия-Ирландия', 'Испания-Аргентина',\n",
       "       'Великобритания - Нидерланды - Франция - США', 'Канада - Мексика',\n",
       "       'США, Франция', 'Канада-Южная Корея-США',\n",
       "       'Великобритания - Франция - Бельгия - США', 'КНР - Канада - США',\n",
       "       'Италия - Франция - Германия',\n",
       "       'Швеция - Германия - Франция - Дания', 'Франция - США - Бельгия',\n",
       "       'Украина - Германия - Латвия - Эстония', 'Австрия - Люксембург',\n",
       "       'Великобритания - КНР', 'Монголия', 'Франция - Дания',\n",
       "       'Швеция - Дания - Финляндия',\n",
       "       'Сингапур - Великобритания - Индонезия - Канада - США',\n",
       "       'США - Германия - Япония', 'Таиланд - США', 'Франция - Нидерланды',\n",
       "       'Великобритания - Румыния', 'США - Мальта',\n",
       "       'Великобритания - Германия - Нидерланды - Дания',\n",
       "       'Франция - Германия - Литва - Нидерланды - Россия',\n",
       "       'США - ЮАР - Гонконг', 'Австралия - Колумбия',\n",
       "       'Великобритания - Польша', 'США - Великобритания - Швеция',\n",
       "       'Франция - Швеция - Дания - Норвегия', 'Болгария - США',\n",
       "       'СССР, ФРГ', 'Бельгия - Нидерланды - Франция',\n",
       "       'Финляндия - Германия', 'Болгария',\n",
       "       'Грузия - Россия - Украина - Хорватия - Германия',\n",
       "       'Франция - Люксембург', 'Франция - Германия - Австрия',\n",
       "       'Норвегия - США', 'Германия-Швеция', 'Франция - Германия - Италия',\n",
       "       'Франция-Германия-Австрия', 'КНР-США',\n",
       "       'Великобритания - Ирландия - США ',\n",
       "       'Дания - Латвия - Россия - США', 'Финляндия - Польша',\n",
       "       'Германия - Бельгия', 'Германия - США - Франция - Испания',\n",
       "       'Бельгия-Германия-Канада-Франция-США-Великобритания',\n",
       "       'Нидерланды - Бельгия - Люксембург', 'Канада-Германия',\n",
       "       'Люксембург - Бельгия - Франция', 'США-Великобритания-Австралия',\n",
       "       'Великобритания, Новая Зеландия', 'Бельгия, Великобритания, США',\n",
       "       'Великобритания, Австралия', 'Исландия, Бельгия',\n",
       "       'Испания - Швейцария - Великобритания - Германия - Новая Зеландия - Нидерланды - Канада',\n",
       "       'Франция, Бельгия', 'Великобритания, США', 'Киргизия-Россия',\n",
       "       'Германия, США', 'Великобритания, США, Испания',\n",
       "       'Италия - Швейцария - Германия', 'Россия, Армения',\n",
       "       'Франция, Германия', 'Китай, Канада, США', 'Германия, Австралия',\n",
       "       'КНР, США', 'США, Великобритания, Люксембург',\n",
       "       'Испания, Ирландия, Бельгия, Франция',\n",
       "       'Великобритания - Гонконг - Венгрия - США - Ирландия',\n",
       "       'США - Пуэрто Рико', 'Аргентина - Испания - Уругвай',\n",
       "       'Израиль - Германия - Франция - Швейцария',\n",
       "       'Великобритания - Мексика - США', 'Испания - Болгария - США',\n",
       "       'Россия-Словакия-Чехия',\n",
       "       'Швейцария - КНР - США - Россия - Республика Корея - Великобритания',\n",
       "       'Россия, Нидерланды, Финляндия',\n",
       "       'Испания - Бельгия - Франция - Португалия - Великобритания',\n",
       "       'Бразилия - Португалия - Франция', 'Швеция - Норвегия',\n",
       "       'Франция - Польша - Бельгия', 'CША', 'Китай, США',\n",
       "       'Италия, Франция, Германия', 'Германия - Австрия - Франция',\n",
       "       'Чехия - Словакия - Хорватия', 'Россия, Польша, Финляндия',\n",
       "       'Россия, Латвия, Чешская Республика',\n",
       "       'Франция - Великобритания - Камбоджа - США - КНР',\n",
       "       'Чехия - Испания - США', 'Германия - Люксембург - Дания',\n",
       "       'Великобритания - Испания - Германия', 'Дания - Исландия',\n",
       "       'Германия, Франция, Великобритания',\n",
       "       'Великобритания - Испания - Италия - Латвия - Франция - Эстония',\n",
       "       'Дания, Швеция, Великобритания, Франция, Германия, Норвегия, Финляндия, Нидерланды, Италия',\n",
       "       'Польша - Франция - Великобритания',\n",
       "       'Дания, Норвегия, Венгрия, Чехия',\n",
       "       'Дания - Франция - Германия - Швеция',\n",
       "       'Великобритания, Швеция, США',\n",
       "       'Канада, Франция, Италия, Швейцария, США', 'США, Индия',\n",
       "       'США - Великобритания - Германия - - Швеция - Канада',\n",
       "       'Италия, Франция', 'Республика Беларусь, Германия, США, Россия',\n",
       "       'Италия-Швейцария-Франция-Германия ',\n",
       "       'Россия - Франция - Великобритания - Латвия', 'Россия-Беларусь',\n",
       "       'Франция - Испания - Румыния - США - Бельгия', 'Италия-США',\n",
       "       'Россия, Австрия', 'Ирландия - Великобритания - США',\n",
       "       'Швейцария, Великобритания, Франция, США, Ирландия',\n",
       "       'Мексика, Франция, Германия, Дания, Швеция', 'Нидерланды, Бельгия',\n",
       "       'Швеция, Норвегия, Финляндия, Франция', 'Испания, Франция, Италия',\n",
       "       'Испания-Франция-Греция-Индия-США-Россия-Великобритания',\n",
       "       'Великобритания - Япония - США',\n",
       "       'Дания, Канада, Норвегия, Австралия, США', 'Аргентина, Испания',\n",
       "       'Россия, Германия, Казахстан, Польша, Китай',\n",
       "       'Португалия, Франция, Польша, США', 'США - Канада - Аргентина',\n",
       "       'Ливан-США', 'Япония - США', 'США, Гонконг ',\n",
       "       'Франция - Россия - Швейцария - Румыния - Венгрия',\n",
       "       'Аргентина-Испания', 'Россия, Сербия', 'США - Болгария - Мексика',\n",
       "       'США - Великобритания - Швейцария - Франция',\n",
       "       'Таиланд - КНР - США',\n",
       "       'Великобритания, Нидерланды, Польша, Швейцария, Франция',\n",
       "       'Ирландия - США',\n",
       "       'Германия - Франция - Великобритания - Польша - США',\n",
       "       'Великобритания-Франция-Италия', 'США - Австралия - Индия',\n",
       "       'Франция - КНР', 'Великобритания - Израиль',\n",
       "       'Великобритания - Норвегия - Кения - Хорватия',\n",
       "       'США - Бразилия - Великобритания - Канада', 'Германия, Бельгия',\n",
       "       'Австралия, Канада', 'США, Великобритания, Франция',\n",
       "       'Кения, Германия', 'Нидерланды, Бельгия, Люксембург', 'Колумбия',\n",
       "       'Латвия - Франция', 'Ирландия, Великобритания',\n",
       "       'Франция - Израиль - Германия', 'Швеция, Франция, Великобритания',\n",
       "       'Бельгия - Люксембург', 'Германия - Бельгия - Великобритания',\n",
       "       'Испания, Франция, Великобритания, Дания, Бельгия, Германия',\n",
       "       'Румыния, ЮАР, Иран, Франция, Канада, Великобритания',\n",
       "       'Германия, Франция', 'США, Япония',\n",
       "       'США, Великобритания, Ирландия, Люксембург', 'Республика Армения',\n",
       "       'США, Франция, Япония', 'Япония, США', 'Канада, США',\n",
       "       'Республика Кипр - Россия',\n",
       "       'Дания - Франция - Италия - Бельгия - Нидерланды',\n",
       "       'Россия - Грузия', 'Италия, Германия', 'Норвегия, Швеция, Дания',\n",
       "       'Республика Кипр, Россия', 'КНР, Индия, Гонконг, США',\n",
       "       'Израиль, Украина', 'США, Россия', 'США - КНР - Индия - Ю.Корея',\n",
       "       'США - Швеция', 'Франция, Канада', 'Россия-Китай',\n",
       "       'Канада, Великобритания', 'США, Германия',\n",
       "       'Канада, США, Каймановы острова',\n",
       "       'Бразилия, Уругвай, Дания, Норвегия, Чили, Швеция',\n",
       "       'Пуэрто-Рико, Великобритания, США',\n",
       "       'Уругвай - Аргентина - Испания',\n",
       "       'США - Великобритания - Италия - Израиль - Сербия - Индия',\n",
       "       'США - Канада - Франция - Индия', 'Великобритания - Россия - КНР',\n",
       "       'Франция, Новая Зеландия', 'Франция, Люксембург, Бельгия',\n",
       "       'Канада, США, Норвегия', 'Италия, Испания',\n",
       "       'Испания - Германия - Нидерланды', 'Бразилия - США - КНР ',\n",
       "       'Великобритания, Германия, Дания, США', '2019',\n",
       "       'Италия - Фрация - Бразилия - Германия',\n",
       "       'Норвегия - Швеция - Россия', 'Великобритания, Япония, США',\n",
       "       'Сша, Канада', 'Бельгия, Канада',\n",
       "       'Великобритания - Австралия - США', 'США, Канада', 'КНР - США ',\n",
       "       'Франция - Финляндия', 'Колумбия - США',\n",
       "       'Великобритания, Франция, Бельгия', 'Норвегия - Нидерланды',\n",
       "       'Великобритания, Канада, США', 'Япония, Великобритания',\n",
       "       'Италия - Бельгия - Франция', 'Россия, Бельгия, Финляндия',\n",
       "       'США, Украина', 'Франция, Норвегия',\n",
       "       'Великобритания, Южная Корея, Канада, США, Индия, Китай, Япония',\n",
       "       'Канада - Норвегия', 'Республика Кипр-Россия', 'Германия, Россия',\n",
       "       'Польша - Франция - Испания - Бразилия - Швеция',\n",
       "       'Австрия, Великобритания, Германия', 'Франция - Сенегал - Бельгия',\n",
       "       'Франция, Бельгия, Люксембург', 'Финляндия, Латвия', 'Пакистан',\n",
       "       'Германия, Франция, США', 'Германия - Великобритания - США',\n",
       "       'КНР - Франция', 'Дания, Норвегия, Швеция, Исландия',\n",
       "       'Республика Кипр, США, Россия', 'Новая Зеландия - КНР',\n",
       "       'Дания - Канада - Швеция - Франция - Германия - Великобритания - США'],\n",
       "      dtype=object)"
      ]
     },
     "execution_count": 33,
     "metadata": {},
     "output_type": "execute_result"
    }
   ],
   "source": [
    "data['production_country'].unique()"
   ]
  },
  {
   "cell_type": "code",
   "execution_count": 34,
   "id": "842565f4-9f2a-49bb-ab50-e5a36a77858b",
   "metadata": {},
   "outputs": [],
   "source": [
    "data['production_country'] = data['production_country'].str.strip()\n",
    "data['production_country'] = data['production_country'].apply(lambda x: re.sub('-',', ', x))\n",
    "data['production_country'] = data['production_country'].apply(lambda x: re.sub(' ,',',', x))\n",
    "data['production_country'] = data['production_country'].apply(lambda x: re.sub('  ',' ', x))"
   ]
  },
  {
   "cell_type": "code",
   "execution_count": 35,
   "id": "10bddfa6-1847-44d9-ba4a-6ea657d4d657",
   "metadata": {},
   "outputs": [
    {
     "data": {
      "text/plain": [
       "США                             2175\n",
       "Россия                          1821\n",
       "СССР                             377\n",
       "Франция                          302\n",
       "Великобритания                   259\n",
       "Италия                           131\n",
       "Германия                         110\n",
       "США, Великобритания              106\n",
       "Япония                            77\n",
       "Испания                           74\n",
       "Франция, Бельгия                  70\n",
       "Великобритания, США               55\n",
       "США, Канада                       53\n",
       "Канада                            52\n",
       "США, Австралия                    51\n",
       "Австралия                         50\n",
       "США, Германия                     50\n",
       "США, Франция                      41\n",
       "КНР                               33\n",
       "Республика Кипр                   31\n",
       "Южная Корея                       25\n",
       "Индия                             22\n",
       "Италия, Франция                   21\n",
       "Норвегия                          19\n",
       "Россия, Республика Кипр           19\n",
       "Канада, США                       18\n",
       "Дания                             18\n",
       "Франция, США                      16\n",
       "Швеция                            15\n",
       "Ирландия                          14\n",
       "Украина                           14\n",
       "США, КНР                          13\n",
       "США, Новая Зеландия               12\n",
       "Россия, Кипр                      12\n",
       "Франция, Германия                 11\n",
       "Мексика                           11\n",
       "Великобритания, Франция           11\n",
       "Иран                              11\n",
       "Франция, Великобритания           10\n",
       "КНР, США                          10\n",
       "Испания, Франция                  10\n",
       "США, Россия                       10\n",
       "Великобритания, Франция, США       9\n",
       "Нидерланды                         9\n",
       "Армения                            9\n",
       "США, Индия                         9\n",
       "Австралия, США                     9\n",
       "Аргентина, Испания                 8\n",
       "Германия, США                      8\n",
       "Республика Кипр, Россия            8\n",
       "Франция, Италия                    8\n",
       "Бельгия                            8\n",
       "США, Испания                       8\n",
       "Канада, Франция                    7\n",
       "США, ОАЭ                           7\n",
       "Гонконг                            7\n",
       "Франция, Канада                    7\n",
       "Дания, Швеция                      7\n",
       "Китай                              7\n",
       "Австрия                            7\n",
       "Name: production_country, dtype: int64"
      ]
     },
     "execution_count": 35,
     "metadata": {},
     "output_type": "execute_result"
    }
   ],
   "source": [
    "data['production_country'].value_counts().head(60)"
   ]
  },
  {
   "cell_type": "markdown",
   "id": "170bd40e-829f-45bb-b524-6799599af22e",
   "metadata": {},
   "source": [
    "director - режиссёер. Здесь проблем кроме как лишних пробелов обнаружено не было (как в случае с \"О.Семёнова\", что продемонстрировано ниже). Было предположение что замена буквы ё на е поможет, но изменений обнаружено не было. Поэтому устраним только лишние пробелы. Возможная причина дубликатов - человеческий фактор"
   ]
  },
  {
   "cell_type": "code",
   "execution_count": 36,
   "id": "c512111e-0f32-497b-a944-3a7eed8498e5",
   "metadata": {},
   "outputs": [
    {
     "data": {
      "text/plain": [
       "О.Семёнова          47\n",
       "Стивен Содерберг    17\n",
       "Д.Червяцов          17\n",
       "Ридли Скотт         16\n",
       "Тиль Швайгер        14\n",
       "                    ..\n",
       "Шрирам Рагхаван      1\n",
       "Айван Райтман        1\n",
       "И.Триф               1\n",
       "Юлиан Радльмайер     1\n",
       "В.Федоров            1\n",
       "Name: director, Length: 4812, dtype: int64"
      ]
     },
     "execution_count": 36,
     "metadata": {},
     "output_type": "execute_result"
    }
   ],
   "source": [
    "data['director'].value_counts()"
   ]
  },
  {
   "cell_type": "code",
   "execution_count": 37,
   "id": "20855c98-409c-47e0-aaab-f650727e849e",
   "metadata": {},
   "outputs": [],
   "source": [
    "data['director'] = data['director'].str.strip()"
   ]
  },
  {
   "cell_type": "markdown",
   "id": "9a5878de-da09-4980-a78f-1cbd56d8a920",
   "metadata": {},
   "source": [
    "Проверка на корректное срабатывание изменений:"
   ]
  },
  {
   "cell_type": "code",
   "execution_count": 38,
   "id": "7721c9d6-fd30-4a9e-8462-41f0e49c1c19",
   "metadata": {},
   "outputs": [
    {
     "data": {
      "text/plain": [
       "О.Семёнова               60\n",
       "Стивен Содерберг         17\n",
       "Д.Червяцов               17\n",
       "Ридли Скотт              16\n",
       "Тиль Швайгер             14\n",
       "Питер Джексон            13\n",
       "Клинт Иствуд             13\n",
       "Вуди Аллен               13\n",
       "Кевин Смит               12\n",
       "Люк Бессон               12\n",
       "Дэвид Финчер             12\n",
       "Стивен Спилберг          12\n",
       "Гай Ричи                 11\n",
       "П.Смирнов                11\n",
       "Кристофер Нолан          11\n",
       "Саймон Уэст              11\n",
       "С.Андреасян              10\n",
       "Тьерри Гиллиам           10\n",
       "Л.Гайдай                 10\n",
       "Николас Столлер          10\n",
       "Роберт Земекис           10\n",
       "Джеймс Ван               10\n",
       "Роберт Швентке           10\n",
       "Тодд Филлипс              9\n",
       "Франсуа Озон              9\n",
       "Неизвестно                9\n",
       "Дэвид Йейтс               9\n",
       "Питер Берг                9\n",
       "Брэд Пейтон               8\n",
       "Мартин Скорсезе           8\n",
       "Роберт Родригес           8\n",
       "Зак Снайдер               8\n",
       "Эндрю Никкол              8\n",
       "Пол Гринграсс             8\n",
       "Гильермо дель Торо        8\n",
       "Георгий Орлов             8\n",
       "Дэвид Гордон Грин         8\n",
       "Н.Михалков                8\n",
       "Джонатан Либесман         8\n",
       "Джон Фавро                8\n",
       "Джастин Лин               8\n",
       "Пол Вайц                  8\n",
       "Д.Дьяченко                8\n",
       "Квентин Тарантино         8\n",
       "Дэнни Бойл                8\n",
       "Роб Райнер                8\n",
       "Тони Майерс               8\n",
       "Том Хупер                 8\n",
       "Владислав Байрамгулов     7\n",
       "А.Аксененко               7\n",
       "Name: director, dtype: int64"
      ]
     },
     "execution_count": 38,
     "metadata": {},
     "output_type": "execute_result"
    }
   ],
   "source": [
    "data['director'].value_counts().head(50)"
   ]
  },
  {
   "cell_type": "markdown",
   "id": "ee86cf4a-5967-4224-bdc7-1c8e728538a1",
   "metadata": {},
   "source": [
    "В колонке producer ситуация аналогичная как и director. Поэтому просто уберем лишние пробелы"
   ]
  },
  {
   "cell_type": "code",
   "execution_count": 39,
   "id": "dc66d9ac-097d-415e-a366-f0acf8468fa2",
   "metadata": {},
   "outputs": [],
   "source": [
    "data['producer'] = data['producer'].str.strip()"
   ]
  },
  {
   "cell_type": "markdown",
   "id": "37e71842-5ac4-4fa5-8de1-a7b865120b5a",
   "metadata": {},
   "source": [
    "В age_restriction, financing_source, так и в genres неявных дубликатов обнаружено не было"
   ]
  },
  {
   "cell_type": "code",
   "execution_count": 40,
   "id": "586a2dc0-b9ef-4621-b569-562ffc88c613",
   "metadata": {},
   "outputs": [
    {
     "data": {
      "text/plain": [
       "array(['«18+» - запрещено для детей', '«6+» - для детей старше 6 лет',\n",
       "       '«12+» - для детей старше 12 лет',\n",
       "       '«16+» - для детей старше 16 лет',\n",
       "       '«0+» - для любой зрительской аудитории'], dtype=object)"
      ]
     },
     "execution_count": 40,
     "metadata": {},
     "output_type": "execute_result"
    }
   ],
   "source": [
    "data['age_restriction'].unique()"
   ]
  },
  {
   "cell_type": "code",
   "execution_count": 41,
   "id": "e2fbfa7d-d72d-44a3-863a-a7c20ed85490",
   "metadata": {},
   "outputs": [
    {
     "data": {
      "text/plain": [
       "array(['Отсутствует', 'Министерство культуры', 'Фонд кино',\n",
       "       'Министерство культуры, Фонд кино'], dtype=object)"
      ]
     },
     "execution_count": 41,
     "metadata": {},
     "output_type": "execute_result"
    }
   ],
   "source": [
    "data['financing_source'].unique()"
   ]
  },
  {
   "cell_type": "code",
   "execution_count": 42,
   "id": "8435da38-8a76-409d-9dc2-49335a248263",
   "metadata": {},
   "outputs": [
    {
     "data": {
      "text/plain": [
       "array(['боевик,драма,мелодрама', 'драма,военный',\n",
       "       'фантастика,боевик,триллер', 'драма', 'мелодрама,комедия',\n",
       "       'мюзикл,мелодрама,комедия', 'комедия,криминал',\n",
       "       'боевик,триллер,детектив', 'боевик,драма,приключения',\n",
       "       'драма,спорт', 'триллер,драма,мелодрама', 'комедия,мелодрама',\n",
       "       'драма,мелодрама,комедия', 'драма,мелодрама', 'драма,история',\n",
       "       'драма,мелодрама,семейный', 'комедия,мелодрама,криминал',\n",
       "       'комедия', 'боевик,драма,криминал', 'драма,комедия',\n",
       "       'ужасы,фантастика,комедия', 'мультфильм,короткометражка,мелодрама',\n",
       "       'драма,криминал', 'мультфильм,фантастика,фэнтези',\n",
       "       'триллер,драма,криминал', 'драма,мелодрама,биография',\n",
       "       'драма,комедия,военный', 'фантастика,драма,детектив',\n",
       "       'мюзикл,семейный', 'Неизвестно', 'военный,приключения,драма',\n",
       "       'документальный,драма', 'драма,биография,история',\n",
       "       'боевик,триллер,драма', 'фэнтези,боевик',\n",
       "       'боевик,комедия,криминал', 'мюзикл,комедия,детский',\n",
       "       'комедия,мелодрама,драма', 'мультфильм,фэнтези,комедия',\n",
       "       'комедия,история', 'мелодрама', 'драма,биография,музыка',\n",
       "       'фэнтези,драма,мелодрама', 'триллер,военный',\n",
       "       'драма,мелодрама,военный', 'мюзикл,драма,мелодрама',\n",
       "       'мюзикл,комедия', 'мультфильм,приключения,семейный',\n",
       "       'ужасы,триллер', 'боевик,драма,военный', 'драма,боевик',\n",
       "       'мультфильм,драма,комедия', 'триллер,криминал',\n",
       "       'военный,биография,драма', 'комедия,семейный', 'военный',\n",
       "       'драма,семейный,биография', 'фэнтези,приключения,семейный',\n",
       "       'драма,криминал,биография', 'ужасы,триллер,детектив',\n",
       "       'боевик,история,драма', 'ужасы,триллер,драма',\n",
       "       'драма,криминал,спорт', 'документальный,короткометражка',\n",
       "       'триллер,драма', 'криминал,детектив,приключения',\n",
       "       'драма,комедия,криминал', 'драма,комедия,вестерн',\n",
       "       'драма,мелодрама,детектив', 'мелодрама,биография',\n",
       "       'фэнтези,мелодрама,драма', 'драма,мелодрама,история',\n",
       "       'комедия,приключения,история', 'приключения', 'драма,семейный',\n",
       "       'криминал,детектив', 'мультфильм,короткометражка,ужасы',\n",
       "       'фантастика,триллер,драма', 'фэнтези,мелодрама,комедия',\n",
       "       'драма,биография', 'комедия,криминал,история',\n",
       "       'триллер,драма,детектив', 'фантастика,комедия,приключения',\n",
       "       'фэнтези,семейный', 'ужасы,фантастика,боевик',\n",
       "       'мелодрама,криминал', 'комедия,приключения,мелодрама',\n",
       "       'боевик,триллер,приключения', 'боевик,приключения',\n",
       "       'боевик,триллер,криминал', 'документальный,военный,история',\n",
       "       'драма,музыка', 'боевик,драма', 'приключения,боевик',\n",
       "       'драма,военный,биография', 'триллер,драма,приключения',\n",
       "       'аниме,мультфильм,фэнтези', 'триллер,детектив,драма',\n",
       "       'боевик,триллер,мелодрама', 'боевик,история',\n",
       "       'приключения,история', 'драма,комедия,приключения',\n",
       "       'фэнтези,комедия,приключения', 'драма,вестерн',\n",
       "       'документальный,музыка', 'мелодрама,драма',\n",
       "       'триллер,криминал,детектив', 'ужасы', 'боевик,комедия,приключения',\n",
       "       'мультфильм,фэнтези,боевик', 'боевик,фэнтези,драма',\n",
       "       'фэнтези,драма', 'фэнтези,боевик,комедия',\n",
       "       'приключения,детский,комедия', 'документальный',\n",
       "       'боевик,триллер,комедия', 'мелодрама,комедия,криминал',\n",
       "       'драма,детектив', 'мюзикл,ужасы,триллер', 'детектив,триллер,ужасы',\n",
       "       'ужасы,фэнтези', 'ужасы,фэнтези,триллер', 'мультфильм,драма',\n",
       "       'ужасы,боевик,фантастика', 'боевик', 'фантастика,боевик',\n",
       "       'мелодрама,комедия,приключения', 'триллер,детектив',\n",
       "       'мюзикл,мелодрама,фэнтези', 'криминал', 'триллер,комедия,криминал',\n",
       "       'боевик,приключения,триллер', 'триллер,драма,военный',\n",
       "       'комедия,семейный,музыка', 'комедия,фантастика,мелодрама',\n",
       "       'фантастика,триллер,криминал', 'комедия,драма', 'боевик,военный',\n",
       "       'ужасы,фантастика,триллер', 'фантастика,драма,мелодрама',\n",
       "       'фэнтези,драма,детектив', 'боевик,триллер', 'боевик,драма,история',\n",
       "       'мультфильм,мюзикл,фэнтези', 'для взрослых,драма,мелодрама',\n",
       "       'мультфильм,боевик,детектив', 'фантастика,мелодрама,боевик',\n",
       "       'ужасы,фантастика,детектив', 'фантастика,боевик,приключения',\n",
       "       'мелодрама,комедия,спорт', 'комедия,боевик,приключения',\n",
       "       'документальный,приключения', 'мультфильм,короткометражка,детский',\n",
       "       'комедия,приключения', 'ужасы,драма', 'ужасы,фэнтези,боевик',\n",
       "       'мультфильм,фэнтези,детский', 'мюзикл,боевик,драма',\n",
       "       'семейный,комедия,драма', 'концерт,музыка', 'фэнтези,боевик,драма',\n",
       "       'драма,комедия,музыка', 'фантастика,фэнтези,боевик',\n",
       "       'фэнтези,комедия,семейный', 'фэнтези,драма,комедия',\n",
       "       'мультфильм,мюзикл,драма', 'триллер', 'боевик,криминал,триллер',\n",
       "       'мультфильм,приключения,драма', 'мелодрама,музыка',\n",
       "       'документальный,музыка,концерт', 'мультфильм,семейный',\n",
       "       'мультфильм,комедия,приключения', 'мультфильм,комедия,семейный',\n",
       "       'фантастика,драма', 'фэнтези,боевик,приключения',\n",
       "       'мультфильм,приключения', 'драма,военный,история', 'история',\n",
       "       'драма,приключения,военный',\n",
       "       'документальный,короткометражка,семейный',\n",
       "       'мелодрама,история,триллер', 'ужасы,детектив',\n",
       "       'мюзикл,комедия,приключения', 'драма,спорт,биография',\n",
       "       'фантастика,боевик,комедия', 'фантастика,приключения,детектив',\n",
       "       'короткометражка,драма,военный', 'драма,мультфильм',\n",
       "       'приключения,семейный', 'детектив', 'триллер,приключения',\n",
       "       'аниме,мультфильм,боевик', 'драма,комедия,биография',\n",
       "       'драма,комедия,спорт', 'боевик,мелодрама,комедия',\n",
       "       'семейный,комедия', 'фэнтези,боевик,триллер',\n",
       "       'документальный,фэнтези,семейный', 'фантастика,фэнтези,драма',\n",
       "       'ужасы,комедия,фэнтези', 'документальный,биография,музыка',\n",
       "       'фантастика,боевик,фэнтези', 'ужасы,боевик,триллер',\n",
       "       'комедия,криминал,семейный', 'приключения,драма',\n",
       "       'криминал,драма,триллер', 'драма,детектив,криминал',\n",
       "       'фэнтези,приключения,комедия', 'комедия,спорт',\n",
       "       'мюзикл,фэнтези,мелодрама', 'мультфильм,фэнтези,приключения',\n",
       "       'фантастика,фэнтези,приключения', 'фэнтези',\n",
       "       'фэнтези,приключения,боевик', 'фантастика,боевик,драма',\n",
       "       'криминал,драма', 'криминал,триллер,драма',\n",
       "       'драма,мелодрама,приключения', 'детский,комедия',\n",
       "       'фантастика,драма,боевик', 'мультфильм,семейный,фэнтези',\n",
       "       'концерт,музыка,документальный', 'ужасы,комедия,приключения',\n",
       "       'драма,мелодрама,криминал', 'ужасы,фантастика,фэнтези',\n",
       "       'боевик,комедия', 'мультфильм,фантастика,комедия', 'триллер,ужасы',\n",
       "       'мультфильм,мюзикл,комедия', 'мелодрама,фэнтези,триллер',\n",
       "       'детский,приключения,комедия', 'комедия,детектив',\n",
       "       'аниме,мультфильм,мелодрама', 'документальный,драма,семейный',\n",
       "       'документальный,биография,история', 'военный,боевик,драма',\n",
       "       'ужасы,комедия', 'комедия,приключения,семейный',\n",
       "       'приключения,биография,история', 'детский,приключения,семейный',\n",
       "       'спорт,драма,биография', 'аниме,мультфильм,ужасы',\n",
       "       'фантастика,боевик,криминал', 'мюзикл,драма',\n",
       "       'драма,криминал,детектив', 'аниме,мультфильм,драма',\n",
       "       'драма,триллер,приключения', 'триллер,криминал,драма',\n",
       "       'фэнтези,комедия,драма', 'мультфильм,комедия',\n",
       "       'драма,комедия,история', 'комедия,биография,история',\n",
       "       'мультфильм,фантастика,приключения', 'аниме,мультфильм,фантастика',\n",
       "       'мультфильм,фэнтези,семейный', 'мультфильм,боевик,комедия',\n",
       "       'комедия,криминал,спорт', 'документальный,мюзикл',\n",
       "       'мелодрама,комедия,музыка', 'биография',\n",
       "       'триллер,криминал,комедия', 'фантастика,драма,комедия',\n",
       "       'комедия,драма,мелодрама', 'фантастика,приключения,боевик',\n",
       "       'мультфильм,фэнтези,драма', 'триллер,комедия',\n",
       "       'драма,приключения,биография', 'фантастика,комедия',\n",
       "       'мелодрама,драма,комедия', 'боевик,криминал',\n",
       "       'драма,криминал,боевик', 'мультфильм,мюзикл,детский',\n",
       "       'драма,фэнтези', 'документальный,семейный',\n",
       "       'фэнтези,драма,приключения', 'ужасы,комедия,фантастика',\n",
       "       'драма,мелодрама,музыка', 'фэнтези,драма,семейный',\n",
       "       'триллер,мелодрама,драма', 'вестерн,боевик,драма',\n",
       "       'мультфильм,короткометражка,комедия', 'триллер,драма,история',\n",
       "       'ужасы,фантастика', 'ужасы,мелодрама,комедия',\n",
       "       'фэнтези,приключения', 'фантастика,триллер',\n",
       "       'ужасы,боевик,фэнтези', 'мультфильм,комедия,детский',\n",
       "       'триллер,драма,биография', 'мультфильм,ужасы,фэнтези',\n",
       "       'мультфильм,ужасы,фантастика', 'ужасы,боевик,комедия',\n",
       "       'драма,биография,спорт', 'мультфильм', 'мелодрама,комедия,драма',\n",
       "       'приключения,фантастика,семейный', 'комедия,криминал,детектив',\n",
       "       'ужасы,триллер,комедия', 'криминал,комедия,триллер',\n",
       "       'семейный,приключения,комедия', 'мультфильм,драма,приключения',\n",
       "       'ужасы,драма,детектив', 'драма,приключения,фэнтези',\n",
       "       'фантастика,мультфильм,драма', 'драма,триллер,детектив',\n",
       "       'драма,история,музыка', 'детский', 'триллер,боевик,криминал',\n",
       "       'драма,фантастика', 'комедия,драма,семейный',\n",
       "       'боевик,драма,комедия', 'комедия,ужасы',\n",
       "       'драма,фантастика,триллер', 'фантастика,драма,триллер',\n",
       "       'история,спорт,драма', 'документальный,биография',\n",
       "       'биография,история', 'спорт,драма', 'боевик,фэнтези',\n",
       "       'мультфильм,фэнтези', 'документальный,комедия,история',\n",
       "       'криминал,комедия,боевик', 'фэнтези,приключения,драма',\n",
       "       'музыка,концерт', 'триллер,драма,боевик',\n",
       "       'комедия,криминал,боевик', 'комедия,фантастика,боевик',\n",
       "       'вестерн,приключения,боевик', 'аниме,мультфильм,комедия',\n",
       "       'детектив,криминал,триллер', 'мультфильм,комедия,криминал',\n",
       "       'комедия,приключения,детектив', 'мелодрама,фантастика,драма',\n",
       "       'драма,комедия,семейный', 'приключения,фантастика',\n",
       "       'триллер,детектив,ужасы', 'комедия,приключения,фэнтези',\n",
       "       'фэнтези,триллер,драма', 'мелодрама,приключения,боевик',\n",
       "       'детектив,триллер,криминал', 'фэнтези,семейный,мелодрама',\n",
       "       'военный,драма', 'документальный,приключения,семейный',\n",
       "       'криминал,комедия,драма', 'комедия,фантастика',\n",
       "       'история,биография,драма', 'мелодрама,драма,музыка',\n",
       "       'боевик,мелодрама', 'комедия,криминал,триллер',\n",
       "       'детектив,триллер,боевик', 'комедия,боевик,криминал',\n",
       "       'комедия,вестерн', 'детский,мелодрама,семейный',\n",
       "       'короткометражка,мультфильм', 'комедия,фэнтези',\n",
       "       'фантастика,драма,ужасы', 'триллер,драма,ужасы',\n",
       "       'драма,фэнтези,история', 'комедия,драма,короткометражка',\n",
       "       'фэнтези,триллер,приключения', 'семейный',\n",
       "       'комедия,криминал,драма', 'комедия,фэнтези,ужасы',\n",
       "       'короткометражка,комедия,криминал', 'фантастика',\n",
       "       'триллер,ужасы,драма', 'мелодрама,драма,фэнтези',\n",
       "       'фантастика,приключения,драма', 'боевик,детектив',\n",
       "       'военный,драма,боевик', 'комедия,мелодрама,фэнтези',\n",
       "       'вестерн,криминал,триллер', 'драма,история,триллер',\n",
       "       'мультфильм,фантастика,боевик', 'детектив,драма,криминал',\n",
       "       'приключения,история,драма', 'мультфильм,семейный,детский',\n",
       "       'биография,драма,история', 'триллер,криминал,боевик',\n",
       "       'история,мелодрама', 'приключения,детский',\n",
       "       'музыка,приключения,концерт', 'военный,драма,комедия',\n",
       "       'фэнтези,боевик,военный', 'фантастика,детектив,боевик',\n",
       "       'мультфильм,фэнтези,история', 'биография,мелодрама,драма',\n",
       "       'документальный,биография,спорт', 'фантастика,комедия,детектив',\n",
       "       'музыка,концерт,документальный', 'триллер,боевик,приключения',\n",
       "       'триллер,драма,комедия', 'детектив,криминал',\n",
       "       'мультфильм,приключения,фэнтези', 'мелодрама,приключения',\n",
       "       'комедия,музыка', 'мелодрама,комедия,ужасы',\n",
       "       'драма,криминал,приключения', 'приключения,детектив,мелодрама',\n",
       "       'драма,криминал,фантастика', 'фэнтези,драма,биография',\n",
       "       'детектив,фантастика,криминал', 'триллер,драма,фантастика',\n",
       "       'ужасы,комедия,боевик', 'мелодрама,история', 'триллер,боевик',\n",
       "       'фильм-нуар,триллер,детектив', 'комедия,криминал,приключения',\n",
       "       'ужасы,триллер,мелодрама', 'военный,драма,история',\n",
       "       'драма,спорт,история', 'документальный,драма,история',\n",
       "       'триллер,мелодрама,детектив', 'детский,семейный',\n",
       "       'мюзикл,семейный,драма', 'биография,военный,драма',\n",
       "       'мультфильм,детский', 'боевик,криминал,драма',\n",
       "       'детектив,фэнтези,триллер', 'драма,боевик,приключения',\n",
       "       'драма,мелодрама,фэнтези', 'детектив,история,драма',\n",
       "       'фэнтези,боевик,ужасы', 'ужасы,фэнтези,мелодрама',\n",
       "       'ужасы,приключения', 'боевик,фантастика',\n",
       "       'ужасы,мелодрама,детектив', 'фантастика,триллер,приключения',\n",
       "       'боевик,приключения,история', 'приключения,боевик,триллер',\n",
       "       'детектив,ужасы,криминал', 'семейный,фэнтези', 'мюзикл,мелодрама',\n",
       "       'драма,военный,приключения', 'фантастика,драма,приключения',\n",
       "       'приключения,семейный,драма', 'история,драма,боевик',\n",
       "       'мультфильм,приключения,комедия', 'криминал,драма,комедия',\n",
       "       'ужасы,комедия,драма', 'комедия,семейный,приключения',\n",
       "       'мюзикл,фэнтези,драма', 'драма,вестерн,боевик',\n",
       "       'фантастика,триллер,детектив', 'драма,история,детектив',\n",
       "       'короткометражка,биография', 'мультфильм,приключения,фантастика',\n",
       "       'комедия,триллер', 'мультфильм,приключения,детектив',\n",
       "       'драма,триллер', 'ужасы,триллер,криминал',\n",
       "       'документальный,криминал,военный', 'ужасы,фэнтези,драма',\n",
       "       'фэнтези,комедия', 'ужасы,фэнтези,комедия', 'комедия,музыка,драма',\n",
       "       'мультфильм,приключения,военный', 'мюзикл,фэнтези,комедия',\n",
       "       'боевик,фантастика,приключения', 'триллер,ужасы,криминал',\n",
       "       'ужасы,фантастика,драма', 'фантастика,приключения,семейный',\n",
       "       'короткометражка,музыка', 'мелодрама,детектив,комедия',\n",
       "       'документальный,триллер,биография', 'боевик,фантастика,триллер',\n",
       "       'спорт,драма,комедия', 'фэнтези,мелодрама,приключения',\n",
       "       'триллер,детектив,криминал', 'короткометражка,мелодрама',\n",
       "       'мультфильм,семейный,спорт', 'комедия,фэнтези,мелодрама',\n",
       "       'драма,спорт,комедия', 'история,драма,мелодрама',\n",
       "       'драма,боевик,криминал', 'драма,комедия,триллер',\n",
       "       'аниме,мультфильм', 'документальный,ужасы',\n",
       "       'мультфильм,короткометражка', 'драма,история,военный',\n",
       "       'мультфильм,короткометражка,фэнтези', 'комедия,военный,музыка',\n",
       "       'биография,история,драма', 'ужасы,драма,мелодрама',\n",
       "       'драма,комедия,детектив', 'комедия,семейный,фантастика',\n",
       "       'мультфильм,семейный,комедия', 'история,детектив',\n",
       "       'приключения,мелодрама,детектив', 'мюзикл,комедия,мелодрама',\n",
       "       'драма,фантастика,ужасы', 'мультфильм,ужасы,комедия',\n",
       "       'для взрослых,драма,комедия', 'ужасы,комедия,музыка',\n",
       "       'комедия,история,драма', 'семейный,детектив,детский',\n",
       "       'короткометражка,драма', 'документальный,новости,драма',\n",
       "       'триллер,мелодрама', 'ужасы,драма,вестерн',\n",
       "       'мюзикл,фэнтези,семейный', 'вестерн,драма,триллер',\n",
       "       'приключения,вестерн,боевик', 'семейный,комедия,музыка',\n",
       "       'боевик,драма,вестерн', 'ужасы,драма,триллер',\n",
       "       'фантастика,мелодрама', 'комедия,криминал,биография',\n",
       "       'семейный,мультфильм,комедия', 'комедия,драма,криминал',\n",
       "       'фантастика,боевик,военный', 'приключения,биография,драма',\n",
       "       'приключения,триллер,биография', 'криминал,боевик,триллер',\n",
       "       'боевик,вестерн,приключения', 'история,драма',\n",
       "       'фантастика,фэнтези,комедия', 'мультфильм,детский,комедия',\n",
       "       'мелодрама,комедия,триллер', 'документальный,боевик,приключения',\n",
       "       'драма,приключения', 'мелодрама,военный,драма', 'триллер,фэнтези',\n",
       "       'драма,триллер,биография', 'фэнтези,боевик,семейный',\n",
       "       'фантастика,триллер,комедия', 'документальный,фэнтези',\n",
       "       'комедия,мультфильм,фантастика', 'криминал,биография,комедия',\n",
       "       'биография,спорт,драма', 'приключения,военный',\n",
       "       'мультфильм,семейный,драма', 'документальный,фэнтези,драма',\n",
       "       'комедия,боевик,фантастика', 'семейный,приключения,военный',\n",
       "       'триллер,ужасы,детектив', 'короткометражка',\n",
       "       'мелодрама,триллер,история', 'документальный,история',\n",
       "       'мультфильм,приключения,детский', 'драма,комедия,мультфильм',\n",
       "       'военный,детектив', 'семейный,приключения,документальный',\n",
       "       'детский,фэнтези', 'документальный,комедия', 'комедия,биография',\n",
       "       'криминал,комедия', 'спорт,мелодрама,криминал',\n",
       "       'фантастика,комедия,боевик', 'боевик,приключения,детектив',\n",
       "       'детектив,триллер,драма', 'документальный,фантастика',\n",
       "       'мелодрама,комедия,семейный', 'мультфильм,мелодрама,комедия',\n",
       "       'драма,спорт,семейный', 'фантастика,мелодрама,фэнтези',\n",
       "       'мюзикл,комедия,музыка', 'фантастика,триллер,мелодрама',\n",
       "       'приключения,комедия,фэнтези', 'фэнтези,боевик,детектив',\n",
       "       'фэнтези,боевик,мелодрама', 'комедия,военный',\n",
       "       'драма,спорт,боевик', 'мультфильм,боевик,триллер',\n",
       "       'мелодрама,семейный', 'фантастика,боевик,детектив',\n",
       "       'драма,приключения,история', 'документальный,драма,музыка',\n",
       "       'фантастика,триллер,боевик', 'фэнтези,боевик,вестерн',\n",
       "       'драма,комедия,мелодрама', 'ужасы,фэнтези,приключения',\n",
       "       'триллер,фэнтези,драма', 'мультфильм,мюзикл,мелодрама',\n",
       "       'ужасы,триллер,фантастика', 'триллер,мелодрама,комедия',\n",
       "       'ужасы,комедия,семейный', 'комедия,приключения,музыка',\n",
       "       'документальный,комедия,криминал', 'мелодрама,детектив',\n",
       "       'детский,приключения,фантастика', 'короткометражка,боевик,драма',\n",
       "       'боевик,комедия,семейный', 'фантастика,боевик,мелодрама',\n",
       "       'фэнтези,триллер,мелодрама', 'драма,детектив,история',\n",
       "       'боевик,криминал,детектив', 'мультфильм,фэнтези,мелодрама',\n",
       "       'мелодрама,драма,боевик', 'драма,вестерн,приключения',\n",
       "       'драма,приключения,мелодрама', 'фэнтези,боевик,криминал',\n",
       "       'фантастика,комедия,семейный', 'детский,фэнтези,приключения',\n",
       "       'ужасы,боевик', 'фантастика,мелодрама,комедия',\n",
       "       'семейный,спорт,боевик', 'триллер,биография,драма',\n",
       "       'ужасы,драма,комедия', 'мультфильм,фэнтези,триллер', 'мюзикл',\n",
       "       'боевик,спорт,драма', 'комедия,приключения,вестерн',\n",
       "       'документальный,ужасы,боевик', 'фантастика,боевик,семейный',\n",
       "       'военный,история', 'ужасы,боевик,криминал', 'детектив,триллер',\n",
       "       'драма,семейный,комедия', 'драма,детектив,приключения',\n",
       "       'драма,криминал,история', 'приключения,триллер',\n",
       "       'боевик,драма,биография', 'драма,приключения,триллер',\n",
       "       'комедия,фэнтези,приключения', 'фантастика,боевик,ужасы',\n",
       "       'драма,комедия,фантастика', 'детектив,криминал,драма',\n",
       "       'боевик,триллер,фэнтези', 'приключения,детектив,семейный',\n",
       "       'ужасы,комедия,криминал', 'мультфильм,биография,драма',\n",
       "       'история,боевик,фэнтези', 'детектив,криминал,боевик',\n",
       "       'приключения,фэнтези', 'комедия,приключения,спорт',\n",
       "       'драма,биография,мюзикл', 'комедия,семейный,фэнтези',\n",
       "       'детектив,драма,триллер', 'боевик,приключения,семейный',\n",
       "       'биография,спорт,комедия', 'фантастика,приключения,военный',\n",
       "       'документальный,драма,биография', 'детектив,приключения,драма',\n",
       "       'аниме,мультфильм,приключения', 'семейный,приключения',\n",
       "       'ужасы,фэнтези,детектив', 'семейный,документальный',\n",
       "       'драма,приключения,семейный', 'приключения,история,военный',\n",
       "       'фэнтези,мелодрама', 'фэнтези,триллер,детектив',\n",
       "       'документальный,спорт,биография', 'комедия,триллер,драма',\n",
       "       'драма,ужасы', 'биография,музыка,драма', 'фэнтези,ужасы',\n",
       "       'детектив,мелодрама,фэнтези', 'боевик,военный,история',\n",
       "       'биография,драма,криминал', 'триллер,мелодрама,криминал',\n",
       "       'семейный,мелодрама', 'биография,драма', 'военный,история,драма',\n",
       "       'фантастика,детектив,фэнтези', 'детектив,приключения,триллер',\n",
       "       'фантастика,приключения', 'мультфильм,короткометражка,мюзикл',\n",
       "       'мультфильм,детский,семейный', 'документальный,драма,комедия',\n",
       "       'комедия,приключения,криминал', 'документальный,семейный,музыка',\n",
       "       'мелодрама,музыка,драма', 'детектив,фантастика,триллер',\n",
       "       'драма,мелодрама,триллер', 'биография,драма,военный',\n",
       "       'приключения,фантастика,драма', 'детектив,фильм-нуар,комедия',\n",
       "       'документальный,спорт', 'триллер,фантастика,драма',\n",
       "       'биография,документальный', 'ужасы,фантастика,мелодрама',\n",
       "       'детектив,комедия', 'история,биография,военный',\n",
       "       'криминал,мелодрама', 'драма,криминал,вестерн',\n",
       "       'мелодрама,семейный,приключения', 'триллер,ужасы,мелодрама',\n",
       "       'фэнтези,драма,фильм-нуар', 'детектив,мелодрама',\n",
       "       'комедия,драма,биография', 'драма,военный,боевик',\n",
       "       'драма,комедия,ужасы', 'фантастика,драма,криминал',\n",
       "       'документальный,музыка,биография', 'мультфильм,боевик,приключения',\n",
       "       'короткометражка,фантастика', 'мультфильм,мелодрама,драма',\n",
       "       'боевик,военный,драма', 'фэнтези,семейный,приключения',\n",
       "       'детский,мультфильм,приключения', 'семейный,фэнтези,комедия',\n",
       "       'фэнтези,ужасы,триллер', 'ужасы,триллер,приключения',\n",
       "       'драма,боевик,история', 'фэнтези,комедия,детектив',\n",
       "       'история,приключения', 'аниме,мультфильм,короткометражка',\n",
       "       'драма,военный,триллер', 'биография,криминал,триллер',\n",
       "       'фантастика,фэнтези,детектив', 'вестерн,биография,драма',\n",
       "       'биография,музыка,мюзикл', 'драма,история,биография',\n",
       "       'приключения,драма,фантастика', 'комедия,фэнтези,криминал',\n",
       "       'биография,спорт,история', 'драма,криминал,семейный',\n",
       "       'детектив,боевик,история', 'ужасы,комедия,детектив',\n",
       "       'триллер,приключения,драма', 'фэнтези,комедия,криминал',\n",
       "       'триллер,криминал,приключения', 'комедия,детектив,приключения',\n",
       "       'фэнтези,драма,ужасы', 'ужасы,драма,военный', 'реальное ТВ',\n",
       "       'аниме,мультфильм,детектив', 'приключения,фэнтези,семейный',\n",
       "       'драма,биография,комедия', 'триллер,комедия,ужасы',\n",
       "       'музыка,мелодрама,фэнтези', 'мультфильм,история',\n",
       "       'мультфильм,комедия,фантастика', 'биография,криминал,драма',\n",
       "       'комедия,мелодрама,фантастика', 'криминал,боевик,комедия',\n",
       "       'история,криминал', 'детектив,комедия,драма',\n",
       "       'триллер,фантастика,боевик', 'криминал,боевик',\n",
       "       'комедия,драма,военный', 'драма,триллер,криминал',\n",
       "       'мультфильм,мелодрама,приключения', 'фантастика,фэнтези,триллер',\n",
       "       'короткометражка,драма,триллер', 'военный,боевик,история',\n",
       "       'боевик,драма,триллер', 'документальный,военный,драма',\n",
       "       'драма,криминал,фильм-нуар', 'мультфильм,детский,приключения',\n",
       "       'мелодрама,история,драма'], dtype=object)"
      ]
     },
     "execution_count": 42,
     "metadata": {},
     "output_type": "execute_result"
    }
   ],
   "source": [
    "data['genres'].unique()"
   ]
  },
  {
   "cell_type": "markdown",
   "id": "927da0b6-b67a-49ad-a94d-019ad92aa02f",
   "metadata": {},
   "source": [
    "После проверки всех возможных столбцов на неявные дубликаты, проверим финально датафрейм на наличие дублирующихся строк:"
   ]
  },
  {
   "cell_type": "code",
   "execution_count": 43,
   "id": "fca7d98e-bb2f-4d74-a47d-43ad941fe16f",
   "metadata": {},
   "outputs": [
    {
     "name": "stdout",
     "output_type": "stream",
     "text": [
      "Количество дублирующихся строк: 0\n"
     ]
    }
   ],
   "source": [
    "print('Количество дублирующихся строк:',data.duplicated().sum())"
   ]
  },
  {
   "cell_type": "markdown",
   "id": "0f5c7cbf-7d9b-4aae-a3f1-f67ff3acb767",
   "metadata": {},
   "source": [
    "- Изучите столбцы, которые содержат категориальные значения:\n",
    "  - Посмотрите, какая общая проблема встречается почти во всех категориальных столбцах;\n",
    "  - Исправьте проблемные значения в поле type."
   ]
  },
  {
   "cell_type": "markdown",
   "id": "5b2dcfb5-b7fb-4cae-a270-66c3eb8bc197",
   "metadata": {},
   "source": [
    "### Уже сделано выше"
   ]
  },
  {
   "cell_type": "markdown",
   "id": "01a0b48d-d639-41e9-969c-bb3a6525f2e3",
   "metadata": {},
   "source": [
    "- Изучите столбцы, которые хранят количественные значения. Проверьте, обнаружились ли в таких столбцах подозрительные данные. Как с такими данными лучше поступить?"
   ]
  },
  {
   "cell_type": "markdown",
   "id": "34e6806c-8ec8-490a-969c-c78cbce863dd",
   "metadata": {},
   "source": [
    "В процессе обработки данных была замечена следующая аномалия. При государственной поддержке, есть объем возвратных и невозвратных средств, при всем при этом бюджет фильма равен 0. Такое не может быть\n",
    "\n",
    "Также было обнаружено что это единственные строки датафрейма, где бюджет равен 0"
   ]
  },
  {
   "cell_type": "code",
   "execution_count": 44,
   "id": "9d52d98e-fc90-46a4-a341-38f0c41a8bb0",
   "metadata": {},
   "outputs": [
    {
     "data": {
      "text/html": [
       "<div>\n",
       "<style scoped>\n",
       "    .dataframe tbody tr th:only-of-type {\n",
       "        vertical-align: middle;\n",
       "    }\n",
       "\n",
       "    .dataframe tbody tr th {\n",
       "        vertical-align: top;\n",
       "    }\n",
       "\n",
       "    .dataframe thead th {\n",
       "        text-align: right;\n",
       "    }\n",
       "</style>\n",
       "<table border=\"1\" class=\"dataframe\">\n",
       "  <thead>\n",
       "    <tr style=\"text-align: right;\">\n",
       "      <th></th>\n",
       "      <th>title</th>\n",
       "      <th>puNumber</th>\n",
       "      <th>show_start_date</th>\n",
       "      <th>type</th>\n",
       "      <th>film_studio</th>\n",
       "      <th>production_country</th>\n",
       "      <th>director</th>\n",
       "      <th>producer</th>\n",
       "      <th>age_restriction</th>\n",
       "      <th>refundable_support</th>\n",
       "      <th>nonrefundable_support</th>\n",
       "      <th>budget</th>\n",
       "      <th>financing_source</th>\n",
       "      <th>ratings</th>\n",
       "      <th>genres</th>\n",
       "      <th>box_office</th>\n",
       "    </tr>\n",
       "  </thead>\n",
       "  <tbody>\n",
       "    <tr>\n",
       "      <th>2053</th>\n",
       "      <td>14+</td>\n",
       "      <td>111023614</td>\n",
       "      <td>2014-12-19 12:00:00</td>\n",
       "      <td>Художественный</td>\n",
       "      <td>ооо киностудия  \"сентябрь\"</td>\n",
       "      <td>Россия</td>\n",
       "      <td>А.Зайцев</td>\n",
       "      <td>О.Гранина, А.Зайцев</td>\n",
       "      <td>«16+» - для детей старше 16 лет</td>\n",
       "      <td>0.00</td>\n",
       "      <td>23000000.00</td>\n",
       "      <td>0.00</td>\n",
       "      <td>Министерство культуры, Фонд кино</td>\n",
       "      <td>6.60</td>\n",
       "      <td>мелодрама</td>\n",
       "      <td>10234016.10</td>\n",
       "    </tr>\n",
       "    <tr>\n",
       "      <th>2058</th>\n",
       "      <td>дуxless 2</td>\n",
       "      <td>111000415</td>\n",
       "      <td>2015-01-26 12:00:00</td>\n",
       "      <td>Художественный</td>\n",
       "      <td>ооо \"киностудия \"слово\", ооо \"арт пикчерс студия\"</td>\n",
       "      <td>Россия</td>\n",
       "      <td>Р.Прыгунов</td>\n",
       "      <td>П.Ануров, Ф.Бондарчук, Д.Рудовский</td>\n",
       "      <td>«16+» - для детей старше 16 лет</td>\n",
       "      <td>0.00</td>\n",
       "      <td>75000000.00</td>\n",
       "      <td>0.00</td>\n",
       "      <td>Фонд кино</td>\n",
       "      <td>6.60</td>\n",
       "      <td>драма</td>\n",
       "      <td>446163511.00</td>\n",
       "    </tr>\n",
       "    <tr>\n",
       "      <th>2472</th>\n",
       "      <td>воин (2015)</td>\n",
       "      <td>111017315</td>\n",
       "      <td>2015-09-28 12:00:00</td>\n",
       "      <td>Художественный</td>\n",
       "      <td>ооо \"форпост продакшн\", ооо \"арт пикчерс студия\"</td>\n",
       "      <td>Россия</td>\n",
       "      <td>А.Андрианов</td>\n",
       "      <td>ООО \"Арт Пикчерс Студия\"</td>\n",
       "      <td>«12+» - для детей старше 12 лет</td>\n",
       "      <td>10000000.00</td>\n",
       "      <td>70000000.00</td>\n",
       "      <td>0.00</td>\n",
       "      <td>Фонд кино</td>\n",
       "      <td>7.80</td>\n",
       "      <td>боевик,драма,криминал</td>\n",
       "      <td>196572438.40</td>\n",
       "    </tr>\n",
       "    <tr>\n",
       "      <th>2532</th>\n",
       "      <td>бармен</td>\n",
       "      <td>111009615</td>\n",
       "      <td>2015-05-26 12:00:00</td>\n",
       "      <td>Художественный</td>\n",
       "      <td>ао \"вайт медиа\", ооо \"арт пикчерс студия\"</td>\n",
       "      <td>Россия</td>\n",
       "      <td>Д.Штурманова</td>\n",
       "      <td>Т.Вайнштейн</td>\n",
       "      <td>«16+» - для детей старше 16 лет</td>\n",
       "      <td>20000000.00</td>\n",
       "      <td>0.00</td>\n",
       "      <td>0.00</td>\n",
       "      <td>Фонд кино</td>\n",
       "      <td>6.20</td>\n",
       "      <td>комедия,фэнтези</td>\n",
       "      <td>67418974.80</td>\n",
       "    </tr>\n",
       "    <tr>\n",
       "      <th>2615</th>\n",
       "      <td>савва сердце воина</td>\n",
       "      <td>114001715</td>\n",
       "      <td>2015-07-21 12:00:00</td>\n",
       "      <td>Анимационный</td>\n",
       "      <td>ооо \"глюкоза продакшн\", ооо \"арт пикчерс студия\"</td>\n",
       "      <td>Россия</td>\n",
       "      <td>М.Фадеев</td>\n",
       "      <td>А.Чистяков</td>\n",
       "      <td>«6+» - для детей старше 6 лет</td>\n",
       "      <td>60000000.00</td>\n",
       "      <td>100000000.00</td>\n",
       "      <td>0.00</td>\n",
       "      <td>Фонд кино</td>\n",
       "      <td>4.60</td>\n",
       "      <td>мультфильм,приключения,фэнтези</td>\n",
       "      <td>184487551.40</td>\n",
       "    </tr>\n",
       "    <tr>\n",
       "      <th>2684</th>\n",
       "      <td>тряпичный союз</td>\n",
       "      <td>111010215</td>\n",
       "      <td>2015-06-08 12:00:00</td>\n",
       "      <td>Художественный</td>\n",
       "      <td>ооо \"кинокомпания \"коктебель\"</td>\n",
       "      <td>Россия</td>\n",
       "      <td>М.Местецкий</td>\n",
       "      <td>Р.Борисевич, А.Кушаев</td>\n",
       "      <td>«18+» - запрещено для детей</td>\n",
       "      <td>0.00</td>\n",
       "      <td>59000000.00</td>\n",
       "      <td>0.00</td>\n",
       "      <td>Фонд кино</td>\n",
       "      <td>6.30</td>\n",
       "      <td>комедия,драма</td>\n",
       "      <td>1957738.51</td>\n",
       "    </tr>\n",
       "    <tr>\n",
       "      <th>2788</th>\n",
       "      <td>срочно выйду замуж</td>\n",
       "      <td>111017115</td>\n",
       "      <td>2015-09-30 12:00:00</td>\n",
       "      <td>Художественный</td>\n",
       "      <td>ао \"вайт медиа\", ооо \"арт пикчерс студия\"</td>\n",
       "      <td>Россия</td>\n",
       "      <td>С Чекалов</td>\n",
       "      <td>Ф.Бондарчук, Т.Вайнштейн, Д.Рудовский</td>\n",
       "      <td>«16+» - для детей старше 16 лет</td>\n",
       "      <td>0.00</td>\n",
       "      <td>35000000.00</td>\n",
       "      <td>0.00</td>\n",
       "      <td>Фонд кино</td>\n",
       "      <td>5.10</td>\n",
       "      <td>комедия,мелодрама</td>\n",
       "      <td>72937783.20</td>\n",
       "    </tr>\n",
       "    <tr>\n",
       "      <th>2874</th>\n",
       "      <td>помню - не помню!</td>\n",
       "      <td>111004916</td>\n",
       "      <td>2016-03-01 12:00:00</td>\n",
       "      <td>Художественный</td>\n",
       "      <td>ооо \"кинофирма\"</td>\n",
       "      <td>Россия</td>\n",
       "      <td>В.Ровенский</td>\n",
       "      <td>ООО \"КиноФирма\"</td>\n",
       "      <td>«12+» - для детей старше 12 лет</td>\n",
       "      <td>0.00</td>\n",
       "      <td>6000000.00</td>\n",
       "      <td>0.00</td>\n",
       "      <td>Министерство культуры</td>\n",
       "      <td>4.30</td>\n",
       "      <td>комедия</td>\n",
       "      <td>15362931.43</td>\n",
       "    </tr>\n",
       "    <tr>\n",
       "      <th>3047</th>\n",
       "      <td>любовь с ограничениями</td>\n",
       "      <td>111008216</td>\n",
       "      <td>2016-04-29 12:00:00</td>\n",
       "      <td>Художественный</td>\n",
       "      <td>ао \"вайт медиа\", ооо \"арт пикчерс студия\"</td>\n",
       "      <td>Россия</td>\n",
       "      <td>Д.Тюрин</td>\n",
       "      <td>Ф.Бондарчук, Т.Вайнштейн, Д.Рудовский</td>\n",
       "      <td>«16+» - для детей старше 16 лет</td>\n",
       "      <td>19000000.00</td>\n",
       "      <td>51000000.00</td>\n",
       "      <td>0.00</td>\n",
       "      <td>Фонд кино</td>\n",
       "      <td>6.30</td>\n",
       "      <td>комедия,мелодрама</td>\n",
       "      <td>70299052.00</td>\n",
       "    </tr>\n",
       "    <tr>\n",
       "      <th>3565</th>\n",
       "      <td>притяжение (2016)</td>\n",
       "      <td>111018116</td>\n",
       "      <td>2016-12-16 12:00:00</td>\n",
       "      <td>Художественный</td>\n",
       "      <td>ооо \"водород 2011\",  ооо \"арт пикчерс студия\"</td>\n",
       "      <td>Россия</td>\n",
       "      <td>Ф.Бондарчук</td>\n",
       "      <td>ООО \"Арт Пикчерс Студия\"</td>\n",
       "      <td>«12+» - для детей старше 12 лет</td>\n",
       "      <td>0.00</td>\n",
       "      <td>250000000.00</td>\n",
       "      <td>0.00</td>\n",
       "      <td>Фонд кино</td>\n",
       "      <td>5.60</td>\n",
       "      <td>фантастика</td>\n",
       "      <td>1038321489.00</td>\n",
       "    </tr>\n",
       "    <tr>\n",
       "      <th>3675</th>\n",
       "      <td>чудо-юдо</td>\n",
       "      <td>114001817</td>\n",
       "      <td>2017-06-27 12:00:00</td>\n",
       "      <td>Анимационный</td>\n",
       "      <td>ооо \"кинофирма\"</td>\n",
       "      <td>Россия</td>\n",
       "      <td>А.Лукичев</td>\n",
       "      <td>ООО \"КиноФирма\"</td>\n",
       "      <td>«6+» - для детей старше 6 лет</td>\n",
       "      <td>20000000.00</td>\n",
       "      <td>20000000.00</td>\n",
       "      <td>0.00</td>\n",
       "      <td>Фонд кино</td>\n",
       "      <td>5.20</td>\n",
       "      <td>мультфильм,фэнтези,семейный</td>\n",
       "      <td>55108014.76</td>\n",
       "    </tr>\n",
       "    <tr>\n",
       "      <th>3739</th>\n",
       "      <td>мифы</td>\n",
       "      <td>111004317</td>\n",
       "      <td>2017-06-07 12:00:00</td>\n",
       "      <td>Художественный</td>\n",
       "      <td>ооо \"хайпфилм\", ооо \"арт пикчерс студия\"</td>\n",
       "      <td>Россия</td>\n",
       "      <td>А.Молочников</td>\n",
       "      <td>Ф.Бондарчук, Д.Рудовский, И.Стюарт, М.Османн, Ю.Козырев</td>\n",
       "      <td>«16+» - для детей старше 16 лет</td>\n",
       "      <td>25000000.00</td>\n",
       "      <td>20000000.00</td>\n",
       "      <td>0.00</td>\n",
       "      <td>Фонд кино</td>\n",
       "      <td>4.80</td>\n",
       "      <td>комедия</td>\n",
       "      <td>50451949.00</td>\n",
       "    </tr>\n",
       "    <tr>\n",
       "      <th>5673</th>\n",
       "      <td>селфи</td>\n",
       "      <td>111012117</td>\n",
       "      <td>2018-02-01 12:00:00</td>\n",
       "      <td>Художественный</td>\n",
       "      <td>ооо \"киностудия \"слово\", ооо \"арт пикчерс студия\"</td>\n",
       "      <td>Россия</td>\n",
       "      <td>Н.Хомерики</td>\n",
       "      <td>П.Ануров, Ф.Бондарчук, Д.Рудовский</td>\n",
       "      <td>«16+» - для детей старше 16 лет</td>\n",
       "      <td>20000000.00</td>\n",
       "      <td>40000000.00</td>\n",
       "      <td>0.00</td>\n",
       "      <td>Фонд кино</td>\n",
       "      <td>5.80</td>\n",
       "      <td>триллер,драма</td>\n",
       "      <td>225196400.03</td>\n",
       "    </tr>\n",
       "    <tr>\n",
       "      <th>5806</th>\n",
       "      <td>два хвоста</td>\n",
       "      <td>114001018</td>\n",
       "      <td>2018-05-31 12:00:00</td>\n",
       "      <td>Анимационный</td>\n",
       "      <td>ооо \"лицензионные бренды\"</td>\n",
       "      <td>Россия</td>\n",
       "      <td>В.Ровенский, Н.Лопато, В.Азеев</td>\n",
       "      <td>ООО \"ЛИЦЕНЗИОННЫЕ БРЕНДЫ\"</td>\n",
       "      <td>«6+» - для детей старше 6 лет</td>\n",
       "      <td>10000000.00</td>\n",
       "      <td>60000000.00</td>\n",
       "      <td>0.00</td>\n",
       "      <td>Фонд кино</td>\n",
       "      <td>5.00</td>\n",
       "      <td>мультфильм,детский</td>\n",
       "      <td>106514301.03</td>\n",
       "    </tr>\n",
       "    <tr>\n",
       "      <th>6008</th>\n",
       "      <td>принцесса и дракон</td>\n",
       "      <td>114003018</td>\n",
       "      <td>2018-08-23 12:00:00</td>\n",
       "      <td>Анимационный</td>\n",
       "      <td>ооо \"лицензионные бренды\"</td>\n",
       "      <td>Россия</td>\n",
       "      <td>М.Нефедова</td>\n",
       "      <td>ООО \"ЛИЦЕНЗИОННЫЕ БРЕНДЫ\"</td>\n",
       "      <td>«6+» - для детей старше 6 лет</td>\n",
       "      <td>40000000.00</td>\n",
       "      <td>40000000.00</td>\n",
       "      <td>0.00</td>\n",
       "      <td>Фонд кино</td>\n",
       "      <td>5.20</td>\n",
       "      <td>мультфильм,фэнтези,детский</td>\n",
       "      <td>83366328.66</td>\n",
       "    </tr>\n",
       "    <tr>\n",
       "      <th>6323</th>\n",
       "      <td>баба яга</td>\n",
       "      <td>114006518</td>\n",
       "      <td>2018-11-08 12:00:00</td>\n",
       "      <td>Анимационный</td>\n",
       "      <td>ооо \"арт пикчерс студия\"</td>\n",
       "      <td>Россия</td>\n",
       "      <td>В.Саков</td>\n",
       "      <td>ООО \"Арт Пикчерс Студия\", ООО \"КРИЭЙТИВ АНИМЭЙШН\", ООО \"Система-А\"</td>\n",
       "      <td>«6+» - для детей старше 6 лет</td>\n",
       "      <td>0.00</td>\n",
       "      <td>138969465.00</td>\n",
       "      <td>0.00</td>\n",
       "      <td>Фонд кино</td>\n",
       "      <td>NaN</td>\n",
       "      <td>Неизвестно</td>\n",
       "      <td>1334699.40</td>\n",
       "    </tr>\n",
       "    <tr>\n",
       "      <th>6823</th>\n",
       "      <td>большое путешествие</td>\n",
       "      <td>114002419</td>\n",
       "      <td>2019-04-20 12:00:00</td>\n",
       "      <td>Анимационный</td>\n",
       "      <td>ооо \"лицензионные бренды\"</td>\n",
       "      <td>Россия</td>\n",
       "      <td>Н.Лопато, В.Ровенский</td>\n",
       "      <td>ООО \"ЛИЦЕНЗИОННЫЕ БРЕНДЫ\"</td>\n",
       "      <td>«6+» - для детей старше 6 лет</td>\n",
       "      <td>60000000.00</td>\n",
       "      <td>120000000.00</td>\n",
       "      <td>0.00</td>\n",
       "      <td>Фонд кино</td>\n",
       "      <td>6.20</td>\n",
       "      <td>мультфильм,комедия,приключения</td>\n",
       "      <td>147606826.51</td>\n",
       "    </tr>\n",
       "  </tbody>\n",
       "</table>\n",
       "</div>"
      ],
      "text/plain": [
       "                       title   puNumber     show_start_date            type                                        film_studio production_country                        director                                                            producer                  age_restriction  refundable_support  nonrefundable_support  budget                  financing_source  ratings                          genres    box_office\n",
       "2053                     14+  111023614 2014-12-19 12:00:00  Художественный                         ооо киностудия  \"сентябрь\"             Россия                        А.Зайцев                                                 О.Гранина, А.Зайцев  «16+» - для детей старше 16 лет                0.00            23000000.00    0.00  Министерство культуры, Фонд кино     6.60                       мелодрама   10234016.10\n",
       "2058               дуxless 2  111000415 2015-01-26 12:00:00  Художественный  ооо \"киностудия \"слово\", ооо \"арт пикчерс студия\"             Россия                      Р.Прыгунов                                  П.Ануров, Ф.Бондарчук, Д.Рудовский  «16+» - для детей старше 16 лет                0.00            75000000.00    0.00                         Фонд кино     6.60                           драма  446163511.00\n",
       "2472             воин (2015)  111017315 2015-09-28 12:00:00  Художественный   ооо \"форпост продакшн\", ооо \"арт пикчерс студия\"             Россия                     А.Андрианов                                            ООО \"Арт Пикчерс Студия\"  «12+» - для детей старше 12 лет         10000000.00            70000000.00    0.00                         Фонд кино     7.80           боевик,драма,криминал  196572438.40\n",
       "2532                  бармен  111009615 2015-05-26 12:00:00  Художественный          ао \"вайт медиа\", ооо \"арт пикчерс студия\"             Россия                    Д.Штурманова                                                         Т.Вайнштейн  «16+» - для детей старше 16 лет         20000000.00                   0.00    0.00                         Фонд кино     6.20                 комедия,фэнтези   67418974.80\n",
       "2615      савва сердце воина  114001715 2015-07-21 12:00:00    Анимационный   ооо \"глюкоза продакшн\", ооо \"арт пикчерс студия\"             Россия                        М.Фадеев                                                          А.Чистяков    «6+» - для детей старше 6 лет         60000000.00           100000000.00    0.00                         Фонд кино     4.60  мультфильм,приключения,фэнтези  184487551.40\n",
       "2684          тряпичный союз  111010215 2015-06-08 12:00:00  Художественный                      ооо \"кинокомпания \"коктебель\"             Россия                     М.Местецкий                                               Р.Борисевич, А.Кушаев      «18+» - запрещено для детей                0.00            59000000.00    0.00                         Фонд кино     6.30                   комедия,драма    1957738.51\n",
       "2788      срочно выйду замуж  111017115 2015-09-30 12:00:00  Художественный          ао \"вайт медиа\", ооо \"арт пикчерс студия\"             Россия                       С Чекалов                               Ф.Бондарчук, Т.Вайнштейн, Д.Рудовский  «16+» - для детей старше 16 лет                0.00            35000000.00    0.00                         Фонд кино     5.10               комедия,мелодрама   72937783.20\n",
       "2874       помню - не помню!  111004916 2016-03-01 12:00:00  Художественный                                    ооо \"кинофирма\"             Россия                     В.Ровенский                                                     ООО \"КиноФирма\"  «12+» - для детей старше 12 лет                0.00             6000000.00    0.00             Министерство культуры     4.30                         комедия   15362931.43\n",
       "3047  любовь с ограничениями  111008216 2016-04-29 12:00:00  Художественный          ао \"вайт медиа\", ооо \"арт пикчерс студия\"             Россия                         Д.Тюрин                               Ф.Бондарчук, Т.Вайнштейн, Д.Рудовский  «16+» - для детей старше 16 лет         19000000.00            51000000.00    0.00                         Фонд кино     6.30               комедия,мелодрама   70299052.00\n",
       "3565       притяжение (2016)  111018116 2016-12-16 12:00:00  Художественный      ооо \"водород 2011\",  ооо \"арт пикчерс студия\"             Россия                     Ф.Бондарчук                                            ООО \"Арт Пикчерс Студия\"  «12+» - для детей старше 12 лет                0.00           250000000.00    0.00                         Фонд кино     5.60                      фантастика 1038321489.00\n",
       "3675                чудо-юдо  114001817 2017-06-27 12:00:00    Анимационный                                    ооо \"кинофирма\"             Россия                       А.Лукичев                                                     ООО \"КиноФирма\"    «6+» - для детей старше 6 лет         20000000.00            20000000.00    0.00                         Фонд кино     5.20     мультфильм,фэнтези,семейный   55108014.76\n",
       "3739                    мифы  111004317 2017-06-07 12:00:00  Художественный           ооо \"хайпфилм\", ооо \"арт пикчерс студия\"             Россия                    А.Молочников             Ф.Бондарчук, Д.Рудовский, И.Стюарт, М.Османн, Ю.Козырев  «16+» - для детей старше 16 лет         25000000.00            20000000.00    0.00                         Фонд кино     4.80                         комедия   50451949.00\n",
       "5673                   селфи  111012117 2018-02-01 12:00:00  Художественный  ооо \"киностудия \"слово\", ооо \"арт пикчерс студия\"             Россия                      Н.Хомерики                                  П.Ануров, Ф.Бондарчук, Д.Рудовский  «16+» - для детей старше 16 лет         20000000.00            40000000.00    0.00                         Фонд кино     5.80                   триллер,драма  225196400.03\n",
       "5806              два хвоста  114001018 2018-05-31 12:00:00    Анимационный                          ооо \"лицензионные бренды\"             Россия  В.Ровенский, Н.Лопато, В.Азеев                                           ООО \"ЛИЦЕНЗИОННЫЕ БРЕНДЫ\"    «6+» - для детей старше 6 лет         10000000.00            60000000.00    0.00                         Фонд кино     5.00              мультфильм,детский  106514301.03\n",
       "6008      принцесса и дракон  114003018 2018-08-23 12:00:00    Анимационный                          ооо \"лицензионные бренды\"             Россия                      М.Нефедова                                           ООО \"ЛИЦЕНЗИОННЫЕ БРЕНДЫ\"    «6+» - для детей старше 6 лет         40000000.00            40000000.00    0.00                         Фонд кино     5.20      мультфильм,фэнтези,детский   83366328.66\n",
       "6323                баба яга  114006518 2018-11-08 12:00:00    Анимационный                           ооо \"арт пикчерс студия\"             Россия                         В.Саков  ООО \"Арт Пикчерс Студия\", ООО \"КРИЭЙТИВ АНИМЭЙШН\", ООО \"Система-А\"    «6+» - для детей старше 6 лет                0.00           138969465.00    0.00                         Фонд кино      NaN                      Неизвестно    1334699.40\n",
       "6823     большое путешествие  114002419 2019-04-20 12:00:00    Анимационный                          ооо \"лицензионные бренды\"             Россия           Н.Лопато, В.Ровенский                                           ООО \"ЛИЦЕНЗИОННЫЕ БРЕНДЫ\"    «6+» - для детей старше 6 лет         60000000.00           120000000.00    0.00                         Фонд кино     6.20  мультфильм,комедия,приключения  147606826.51"
      ]
     },
     "execution_count": 44,
     "metadata": {},
     "output_type": "execute_result"
    }
   ],
   "source": [
    "data[data['budget'] < (data['refundable_support'] + data['nonrefundable_support'])]"
   ]
  },
  {
   "cell_type": "markdown",
   "id": "7b64fa61-66f4-44d8-9c25-93448597dc19",
   "metadata": {},
   "source": [
    "Заменим в данном случае нули в бюджете следующим образом. Вычислим в каком объеме обычно выдавалась в поддержка, выявим медиану (чтобы фильмы без господдержки не занизили результат) и расчитаем бюджет для аномалии, описанной выше"
   ]
  },
  {
   "cell_type": "code",
   "execution_count": 45,
   "id": "1b86ed73-30df-40d1-a43a-db72e4908d2f",
   "metadata": {},
   "outputs": [],
   "source": [
    "median_gos_support = ((data['refundable_support'] + data['nonrefundable_support']) / data['budget']).median()\n",
    "data.loc[data['budget']==0, 'budget'] = (data.loc[data['budget']==0, 'refundable_support'] + data.loc[data['budget']==0, 'nonrefundable_support'])/median_gos_support"
   ]
  },
  {
   "cell_type": "markdown",
   "id": "81f92a10-f136-42e1-b4e6-5a82f0671d87",
   "metadata": {},
   "source": [
    "Проверим, что такой аномалии больше не существует:"
   ]
  },
  {
   "cell_type": "code",
   "execution_count": 46,
   "id": "1608ff9e-40b3-4ef5-8391-7455d051ecb6",
   "metadata": {},
   "outputs": [
    {
     "data": {
      "text/html": [
       "<div>\n",
       "<style scoped>\n",
       "    .dataframe tbody tr th:only-of-type {\n",
       "        vertical-align: middle;\n",
       "    }\n",
       "\n",
       "    .dataframe tbody tr th {\n",
       "        vertical-align: top;\n",
       "    }\n",
       "\n",
       "    .dataframe thead th {\n",
       "        text-align: right;\n",
       "    }\n",
       "</style>\n",
       "<table border=\"1\" class=\"dataframe\">\n",
       "  <thead>\n",
       "    <tr style=\"text-align: right;\">\n",
       "      <th></th>\n",
       "      <th>title</th>\n",
       "      <th>puNumber</th>\n",
       "      <th>show_start_date</th>\n",
       "      <th>type</th>\n",
       "      <th>film_studio</th>\n",
       "      <th>production_country</th>\n",
       "      <th>director</th>\n",
       "      <th>producer</th>\n",
       "      <th>age_restriction</th>\n",
       "      <th>refundable_support</th>\n",
       "      <th>nonrefundable_support</th>\n",
       "      <th>budget</th>\n",
       "      <th>financing_source</th>\n",
       "      <th>ratings</th>\n",
       "      <th>genres</th>\n",
       "      <th>box_office</th>\n",
       "    </tr>\n",
       "  </thead>\n",
       "  <tbody>\n",
       "  </tbody>\n",
       "</table>\n",
       "</div>"
      ],
      "text/plain": [
       "Empty DataFrame\n",
       "Columns: [title, puNumber, show_start_date, type, film_studio, production_country, director, producer, age_restriction, refundable_support, nonrefundable_support, budget, financing_source, ratings, genres, box_office]\n",
       "Index: []"
      ]
     },
     "execution_count": 46,
     "metadata": {},
     "output_type": "execute_result"
    }
   ],
   "source": [
    "data[data['budget'] < (data['refundable_support'] + data['nonrefundable_support'])]"
   ]
  },
  {
   "cell_type": "code",
   "execution_count": 47,
   "id": "e6a12cd9-ca75-4ecf-9765-ebd4bc4fac94",
   "metadata": {},
   "outputs": [
    {
     "data": {
      "text/html": [
       "<div>\n",
       "<style scoped>\n",
       "    .dataframe tbody tr th:only-of-type {\n",
       "        vertical-align: middle;\n",
       "    }\n",
       "\n",
       "    .dataframe tbody tr th {\n",
       "        vertical-align: top;\n",
       "    }\n",
       "\n",
       "    .dataframe thead th {\n",
       "        text-align: right;\n",
       "    }\n",
       "</style>\n",
       "<table border=\"1\" class=\"dataframe\">\n",
       "  <thead>\n",
       "    <tr style=\"text-align: right;\">\n",
       "      <th></th>\n",
       "      <th>title</th>\n",
       "      <th>puNumber</th>\n",
       "      <th>show_start_date</th>\n",
       "      <th>type</th>\n",
       "      <th>film_studio</th>\n",
       "      <th>production_country</th>\n",
       "      <th>director</th>\n",
       "      <th>producer</th>\n",
       "      <th>age_restriction</th>\n",
       "      <th>refundable_support</th>\n",
       "      <th>nonrefundable_support</th>\n",
       "      <th>budget</th>\n",
       "      <th>financing_source</th>\n",
       "      <th>ratings</th>\n",
       "      <th>genres</th>\n",
       "      <th>box_office</th>\n",
       "    </tr>\n",
       "  </thead>\n",
       "  <tbody>\n",
       "  </tbody>\n",
       "</table>\n",
       "</div>"
      ],
      "text/plain": [
       "Empty DataFrame\n",
       "Columns: [title, puNumber, show_start_date, type, film_studio, production_country, director, producer, age_restriction, refundable_support, nonrefundable_support, budget, financing_source, ratings, genres, box_office]\n",
       "Index: []"
      ]
     },
     "execution_count": 47,
     "metadata": {},
     "output_type": "execute_result"
    }
   ],
   "source": [
    "data[data['budget']==0]"
   ]
  },
  {
   "cell_type": "code",
   "execution_count": 48,
   "id": "0dd6d290-418a-4eff-b975-0c904c332974",
   "metadata": {},
   "outputs": [
    {
     "data": {
      "text/html": [
       "<div>\n",
       "<style scoped>\n",
       "    .dataframe tbody tr th:only-of-type {\n",
       "        vertical-align: middle;\n",
       "    }\n",
       "\n",
       "    .dataframe tbody tr th {\n",
       "        vertical-align: top;\n",
       "    }\n",
       "\n",
       "    .dataframe thead th {\n",
       "        text-align: right;\n",
       "    }\n",
       "</style>\n",
       "<table border=\"1\" class=\"dataframe\">\n",
       "  <thead>\n",
       "    <tr style=\"text-align: right;\">\n",
       "      <th></th>\n",
       "      <th>puNumber</th>\n",
       "      <th>refundable_support</th>\n",
       "      <th>nonrefundable_support</th>\n",
       "      <th>budget</th>\n",
       "      <th>ratings</th>\n",
       "      <th>box_office</th>\n",
       "    </tr>\n",
       "  </thead>\n",
       "  <tbody>\n",
       "    <tr>\n",
       "      <th>count</th>\n",
       "      <td>7486.00</td>\n",
       "      <td>7486.00</td>\n",
       "      <td>7486.00</td>\n",
       "      <td>332.00</td>\n",
       "      <td>6519.00</td>\n",
       "      <td>3158.00</td>\n",
       "    </tr>\n",
       "    <tr>\n",
       "      <th>mean</th>\n",
       "      <td>135178527.64</td>\n",
       "      <td>526182.21</td>\n",
       "      <td>2172280.03</td>\n",
       "      <td>134057765.84</td>\n",
       "      <td>6.49</td>\n",
       "      <td>76478696.16</td>\n",
       "    </tr>\n",
       "    <tr>\n",
       "      <th>std</th>\n",
       "      <td>38382177.41</td>\n",
       "      <td>5781108.09</td>\n",
       "      <td>16148935.45</td>\n",
       "      <td>187685540.48</td>\n",
       "      <td>1.11</td>\n",
       "      <td>240353122.82</td>\n",
       "    </tr>\n",
       "    <tr>\n",
       "      <th>min</th>\n",
       "      <td>-1.00</td>\n",
       "      <td>0.00</td>\n",
       "      <td>0.00</td>\n",
       "      <td>9771388.14</td>\n",
       "      <td>1.00</td>\n",
       "      <td>0.00</td>\n",
       "    </tr>\n",
       "    <tr>\n",
       "      <th>25%</th>\n",
       "      <td>112025043.00</td>\n",
       "      <td>0.00</td>\n",
       "      <td>0.00</td>\n",
       "      <td>46153971.75</td>\n",
       "      <td>5.90</td>\n",
       "      <td>86239.00</td>\n",
       "    </tr>\n",
       "    <tr>\n",
       "      <th>50%</th>\n",
       "      <td>121015464.50</td>\n",
       "      <td>0.00</td>\n",
       "      <td>0.00</td>\n",
       "      <td>74592550.00</td>\n",
       "      <td>6.60</td>\n",
       "      <td>2327987.55</td>\n",
       "    </tr>\n",
       "    <tr>\n",
       "      <th>75%</th>\n",
       "      <td>124003313.75</td>\n",
       "      <td>0.00</td>\n",
       "      <td>0.00</td>\n",
       "      <td>150002143.25</td>\n",
       "      <td>7.20</td>\n",
       "      <td>23979671.02</td>\n",
       "    </tr>\n",
       "    <tr>\n",
       "      <th>max</th>\n",
       "      <td>231001111.00</td>\n",
       "      <td>180000000.00</td>\n",
       "      <td>400000000.00</td>\n",
       "      <td>2305074303.00</td>\n",
       "      <td>9.90</td>\n",
       "      <td>3073568690.79</td>\n",
       "    </tr>\n",
       "  </tbody>\n",
       "</table>\n",
       "</div>"
      ],
      "text/plain": [
       "          puNumber  refundable_support  nonrefundable_support        budget  ratings    box_office\n",
       "count      7486.00             7486.00                7486.00        332.00  6519.00       3158.00\n",
       "mean  135178527.64           526182.21             2172280.03  134057765.84     6.49   76478696.16\n",
       "std    38382177.41          5781108.09            16148935.45  187685540.48     1.11  240353122.82\n",
       "min          -1.00                0.00                   0.00    9771388.14     1.00          0.00\n",
       "25%   112025043.00                0.00                   0.00   46153971.75     5.90      86239.00\n",
       "50%   121015464.50                0.00                   0.00   74592550.00     6.60    2327987.55\n",
       "75%   124003313.75                0.00                   0.00  150002143.25     7.20   23979671.02\n",
       "max   231001111.00        180000000.00           400000000.00 2305074303.00     9.90 3073568690.79"
      ]
     },
     "execution_count": 48,
     "metadata": {},
     "output_type": "execute_result"
    }
   ],
   "source": [
    "data.describe()"
   ]
  },
  {
   "cell_type": "markdown",
   "id": "cbf07eb3-3f6c-426f-9bef-364fbc710554",
   "metadata": {},
   "source": [
    "В столбцах, где сборы в рублях равны 0, нет никакой информации ни о бюджете, ни о государственной поддержке. Найти замену не представляется возможным. С учетом, того что таких строк крайне мало, ничего делать с ними не будем"
   ]
  },
  {
   "cell_type": "code",
   "execution_count": 49,
   "id": "306c84fb-340d-4694-aff5-5cdd6455f6e7",
   "metadata": {},
   "outputs": [
    {
     "data": {
      "text/html": [
       "<div>\n",
       "<style scoped>\n",
       "    .dataframe tbody tr th:only-of-type {\n",
       "        vertical-align: middle;\n",
       "    }\n",
       "\n",
       "    .dataframe tbody tr th {\n",
       "        vertical-align: top;\n",
       "    }\n",
       "\n",
       "    .dataframe thead th {\n",
       "        text-align: right;\n",
       "    }\n",
       "</style>\n",
       "<table border=\"1\" class=\"dataframe\">\n",
       "  <thead>\n",
       "    <tr style=\"text-align: right;\">\n",
       "      <th></th>\n",
       "      <th>title</th>\n",
       "      <th>puNumber</th>\n",
       "      <th>show_start_date</th>\n",
       "      <th>type</th>\n",
       "      <th>film_studio</th>\n",
       "      <th>production_country</th>\n",
       "      <th>director</th>\n",
       "      <th>producer</th>\n",
       "      <th>age_restriction</th>\n",
       "      <th>refundable_support</th>\n",
       "      <th>nonrefundable_support</th>\n",
       "      <th>budget</th>\n",
       "      <th>financing_source</th>\n",
       "      <th>ratings</th>\n",
       "      <th>genres</th>\n",
       "      <th>box_office</th>\n",
       "    </tr>\n",
       "  </thead>\n",
       "  <tbody>\n",
       "    <tr>\n",
       "      <th>66</th>\n",
       "      <td>анна павлова</td>\n",
       "      <td>111011013</td>\n",
       "      <td>2013-12-19 12:00:00</td>\n",
       "      <td>Художественный</td>\n",
       "      <td>совместное производство киностудия \"мосфильм\", \"космос-филм\" (франция), \"посейдон продакшинз лимитед\" (англия), \"икаик\" (куба), дефа (гдр)</td>\n",
       "      <td>СССР, Франция, Англия, Куба, ГДР</td>\n",
       "      <td>Эмиль Лотяну</td>\n",
       "      <td>Неизвестно</td>\n",
       "      <td>«6+» - для детей старше 6 лет</td>\n",
       "      <td>0.00</td>\n",
       "      <td>0.00</td>\n",
       "      <td>NaN</td>\n",
       "      <td>Отсутствует</td>\n",
       "      <td>7.70</td>\n",
       "      <td>драма,биография,музыка</td>\n",
       "      <td>0.00</td>\n",
       "    </tr>\n",
       "    <tr>\n",
       "      <th>237</th>\n",
       "      <td>подранки</td>\n",
       "      <td>111007613</td>\n",
       "      <td>2013-10-18 12:00:00</td>\n",
       "      <td>Художественный</td>\n",
       "      <td>киностудия \"мосфильм\"</td>\n",
       "      <td>СССР</td>\n",
       "      <td>Н.Губенко</td>\n",
       "      <td>Неизвестно</td>\n",
       "      <td>«12+» - для детей старше 12 лет</td>\n",
       "      <td>0.00</td>\n",
       "      <td>0.00</td>\n",
       "      <td>NaN</td>\n",
       "      <td>Отсутствует</td>\n",
       "      <td>8.20</td>\n",
       "      <td>драма</td>\n",
       "      <td>0.00</td>\n",
       "    </tr>\n",
       "    <tr>\n",
       "      <th>596</th>\n",
       "      <td>запах вереска</td>\n",
       "      <td>111003012</td>\n",
       "      <td>2012-05-23 12:00:00</td>\n",
       "      <td>Художественный</td>\n",
       "      <td>ооо \"студия рим\"</td>\n",
       "      <td>Россия</td>\n",
       "      <td>А.Магомедов</td>\n",
       "      <td>М.Балашова, Е.Миронов</td>\n",
       "      <td>«16+» - для детей старше 16 лет</td>\n",
       "      <td>0.00</td>\n",
       "      <td>0.00</td>\n",
       "      <td>NaN</td>\n",
       "      <td>Отсутствует</td>\n",
       "      <td>6.30</td>\n",
       "      <td>комедия</td>\n",
       "      <td>0.00</td>\n",
       "    </tr>\n",
       "    <tr>\n",
       "      <th>914</th>\n",
       "      <td>в тумане по одноименной повести василя быкова</td>\n",
       "      <td>121027712</td>\n",
       "      <td>2012-11-07 12:00:00</td>\n",
       "      <td>Художественный</td>\n",
       "      <td>ма йа де фикшн, лемминг филм, беларусьфильм, джи пи синема кинокомпани, рийа филмз</td>\n",
       "      <td>Германия, Нидерланды, Беларусь, Россия, Латвия</td>\n",
       "      <td>Сергей Лозница</td>\n",
       "      <td>Хайно Декерт</td>\n",
       "      <td>«12+» - для детей старше 12 лет</td>\n",
       "      <td>0.00</td>\n",
       "      <td>0.00</td>\n",
       "      <td>NaN</td>\n",
       "      <td>Отсутствует</td>\n",
       "      <td>6.50</td>\n",
       "      <td>драма,военный,история</td>\n",
       "      <td>0.00</td>\n",
       "    </tr>\n",
       "    <tr>\n",
       "      <th>932</th>\n",
       "      <td>письмо для момо</td>\n",
       "      <td>124002912</td>\n",
       "      <td>2012-10-25 12:00:00</td>\n",
       "      <td>Анимационный</td>\n",
       "      <td>кадокава пикчерз, продакшнз и джи, токио броадкастинг систем</td>\n",
       "      <td>Япония</td>\n",
       "      <td>Окиура Хироюки</td>\n",
       "      <td>Хироюки Икеда, Митсухиса Ишикава, Кацзуя Хамана</td>\n",
       "      <td>«12+» - для детей старше 12 лет</td>\n",
       "      <td>0.00</td>\n",
       "      <td>0.00</td>\n",
       "      <td>NaN</td>\n",
       "      <td>Отсутствует</td>\n",
       "      <td>7.40</td>\n",
       "      <td>аниме,мультфильм,драма</td>\n",
       "      <td>0.00</td>\n",
       "    </tr>\n",
       "    <tr>\n",
       "      <th>933</th>\n",
       "      <td>летние войны</td>\n",
       "      <td>124002812</td>\n",
       "      <td>2012-10-25 12:00:00</td>\n",
       "      <td>Анимационный</td>\n",
       "      <td>медхауз, ниппон телевижн нетуорк корпорейшн, кадокава шотен паблишинг компани, ди эн дрим партнерс, уорнер бразерс, юмиори телевижн, видео аудио прожект, фанимоушн интертейнмент</td>\n",
       "      <td>Япония</td>\n",
       "      <td>Мамору Хосода</td>\n",
       "      <td>Такафуми Ватанабэ, Такуя Ито, Сэйдзи Окуда, Юитиро Сайто, Нодзому Такахаси</td>\n",
       "      <td>«12+» - для детей старше 12 лет</td>\n",
       "      <td>0.00</td>\n",
       "      <td>0.00</td>\n",
       "      <td>NaN</td>\n",
       "      <td>Отсутствует</td>\n",
       "      <td>7.70</td>\n",
       "      <td>аниме,мультфильм,фантастика</td>\n",
       "      <td>0.00</td>\n",
       "    </tr>\n",
       "    <tr>\n",
       "      <th>976</th>\n",
       "      <td>гарегин нжде</td>\n",
       "      <td>131000213</td>\n",
       "      <td>2013-04-23 12:00:00</td>\n",
       "      <td>Художественный</td>\n",
       "      <td>эй джи кей продакшнз, пан армениан медиа групп</td>\n",
       "      <td>Армения</td>\n",
       "      <td>Грач Кешишян</td>\n",
       "      <td>Грач Кешишян</td>\n",
       "      <td>«12+» - для детей старше 12 лет</td>\n",
       "      <td>0.00</td>\n",
       "      <td>0.00</td>\n",
       "      <td>NaN</td>\n",
       "      <td>Отсутствует</td>\n",
       "      <td>7.90</td>\n",
       "      <td>биография</td>\n",
       "      <td>0.00</td>\n",
       "    </tr>\n",
       "    <tr>\n",
       "      <th>1126</th>\n",
       "      <td>марафон</td>\n",
       "      <td>111006712</td>\n",
       "      <td>2012-12-18 12:00:00</td>\n",
       "      <td>Художественный</td>\n",
       "      <td>ооо \"синема арт студио\"</td>\n",
       "      <td>Россия</td>\n",
       "      <td>К.Оганесян</td>\n",
       "      <td>К.Оганесян</td>\n",
       "      <td>«16+» - для детей старше 16 лет</td>\n",
       "      <td>0.00</td>\n",
       "      <td>0.00</td>\n",
       "      <td>NaN</td>\n",
       "      <td>Отсутствует</td>\n",
       "      <td>5.50</td>\n",
       "      <td>комедия,мелодрама</td>\n",
       "      <td>0.00</td>\n",
       "    </tr>\n",
       "    <tr>\n",
       "      <th>1387</th>\n",
       "      <td>экзамен для двоих по роману джин ханфф корелитц</td>\n",
       "      <td>121014613</td>\n",
       "      <td>2013-06-11 12:00:00</td>\n",
       "      <td>Художественный</td>\n",
       "      <td>депф оф филд</td>\n",
       "      <td>США</td>\n",
       "      <td>Пол Вайц</td>\n",
       "      <td>Пол Вайц, Керри Кохански, Эндрю Миано</td>\n",
       "      <td>«12+» - для детей старше 12 лет</td>\n",
       "      <td>0.00</td>\n",
       "      <td>0.00</td>\n",
       "      <td>NaN</td>\n",
       "      <td>Отсутствует</td>\n",
       "      <td>5.80</td>\n",
       "      <td>мелодрама,комедия,драма</td>\n",
       "      <td>0.00</td>\n",
       "    </tr>\n",
       "    <tr>\n",
       "      <th>1559</th>\n",
       "      <td>последняя любовь мистера моргана по роману франсуазы дорнер \"нежность убивает\"</td>\n",
       "      <td>121002614</td>\n",
       "      <td>2014-02-11 12:00:00</td>\n",
       "      <td>Художественный</td>\n",
       "      <td>камински штим фильм, бавариа пикчерз, сенатор фильм, скоуп пикчерз, сидни киммел, элзевир филм                                                                                                                                                         киммел</td>\n",
       "      <td>Германия, Бельгия, США, Франция</td>\n",
       "      <td>Сандра Неттельбек</td>\n",
       "      <td>Франк Камински, Астрид Камке, Филипп Кройцер, Ульрих Штим</td>\n",
       "      <td>«16+» - для детей старше 16 лет</td>\n",
       "      <td>0.00</td>\n",
       "      <td>0.00</td>\n",
       "      <td>NaN</td>\n",
       "      <td>Отсутствует</td>\n",
       "      <td>6.90</td>\n",
       "      <td>драма</td>\n",
       "      <td>0.00</td>\n",
       "    </tr>\n",
       "    <tr>\n",
       "      <th>1772</th>\n",
       "      <td>весёлые ребята ;)</td>\n",
       "      <td>111002414</td>\n",
       "      <td>2014-02-27 12:00:00</td>\n",
       "      <td>Художественный</td>\n",
       "      <td>зао \"продюсерская компания валерия тодоровского\"</td>\n",
       "      <td>Россия</td>\n",
       "      <td>А.Бобров</td>\n",
       "      <td>В.Тодоровский</td>\n",
       "      <td>«6+» - для детей старше 6 лет</td>\n",
       "      <td>0.00</td>\n",
       "      <td>0.00</td>\n",
       "      <td>NaN</td>\n",
       "      <td>Отсутствует</td>\n",
       "      <td>NaN</td>\n",
       "      <td>Неизвестно</td>\n",
       "      <td>0.00</td>\n",
       "    </tr>\n",
       "    <tr>\n",
       "      <th>1782</th>\n",
       "      <td>анжелика, маркиза ангелов</td>\n",
       "      <td>121031913</td>\n",
       "      <td>2013-12-12 12:00:00</td>\n",
       "      <td>Художественный</td>\n",
       "      <td>европа корп., монафилм, вилмафилм</td>\n",
       "      <td>Франция</td>\n",
       "      <td>Ариэль Зейтун</td>\n",
       "      <td>Эммануэль Жаклин, Павел Солк, Филипп Херинг</td>\n",
       "      <td>«16+» - для детей старше 16 лет</td>\n",
       "      <td>0.00</td>\n",
       "      <td>0.00</td>\n",
       "      <td>NaN</td>\n",
       "      <td>Отсутствует</td>\n",
       "      <td>8.00</td>\n",
       "      <td>драма,мелодрама,приключения</td>\n",
       "      <td>0.00</td>\n",
       "    </tr>\n",
       "    <tr>\n",
       "      <th>1978</th>\n",
       "      <td>люблю твою жену</td>\n",
       "      <td>121013014</td>\n",
       "      <td>2014-06-23 12:00:00</td>\n",
       "      <td>Художественный</td>\n",
       "      <td>серендипити пойнт фильм, номадик пикчерз</td>\n",
       "      <td>Канада</td>\n",
       "      <td>Джеримайя С.Чечик</td>\n",
       "      <td>Стефен Аликс, Эри Лантос, Роберт Лантош</td>\n",
       "      <td>«16+» - для детей старше 16 лет</td>\n",
       "      <td>0.00</td>\n",
       "      <td>0.00</td>\n",
       "      <td>NaN</td>\n",
       "      <td>Отсутствует</td>\n",
       "      <td>6.00</td>\n",
       "      <td>мелодрама,комедия</td>\n",
       "      <td>0.00</td>\n",
       "    </tr>\n",
       "    <tr>\n",
       "      <th>2037</th>\n",
       "      <td>кино про алексеева</td>\n",
       "      <td>111007114</td>\n",
       "      <td>2014-07-18 12:00:00</td>\n",
       "      <td>Художественный</td>\n",
       "      <td>ооо \"кинокомпания \"новые люди\"</td>\n",
       "      <td>Россия</td>\n",
       "      <td>М.Сегал</td>\n",
       "      <td>Н.Мокрицкая</td>\n",
       "      <td>«12+» - для детей старше 12 лет</td>\n",
       "      <td>0.00</td>\n",
       "      <td>0.00</td>\n",
       "      <td>NaN</td>\n",
       "      <td>Отсутствует</td>\n",
       "      <td>6.90</td>\n",
       "      <td>драма</td>\n",
       "      <td>0.00</td>\n",
       "    </tr>\n",
       "    <tr>\n",
       "      <th>2078</th>\n",
       "      <td>курбан-роман (история с жертвой)</td>\n",
       "      <td>111009614</td>\n",
       "      <td>2014-09-02 12:00:00</td>\n",
       "      <td>Художественный</td>\n",
       "      <td>фонд \"инновация\"</td>\n",
       "      <td>Россия</td>\n",
       "      <td>С.Юзеев</td>\n",
       "      <td>М.Галицкая</td>\n",
       "      <td>«12+» - для детей старше 12 лет</td>\n",
       "      <td>0.00</td>\n",
       "      <td>0.00</td>\n",
       "      <td>NaN</td>\n",
       "      <td>Отсутствует</td>\n",
       "      <td>NaN</td>\n",
       "      <td>Неизвестно</td>\n",
       "      <td>0.00</td>\n",
       "    </tr>\n",
       "    <tr>\n",
       "      <th>2126</th>\n",
       "      <td>поездка к матери</td>\n",
       "      <td>111002015</td>\n",
       "      <td>2015-03-02 12:00:00</td>\n",
       "      <td>Художественный</td>\n",
       "      <td>зао \"киностудия \"м\"-фильм\"</td>\n",
       "      <td>Россия</td>\n",
       "      <td>М.Косырев-Нестеров</td>\n",
       "      <td>М.Косырев-Нестеров</td>\n",
       "      <td>«16+» - для детей старше 16 лет</td>\n",
       "      <td>0.00</td>\n",
       "      <td>0.00</td>\n",
       "      <td>NaN</td>\n",
       "      <td>Отсутствует</td>\n",
       "      <td>9.10</td>\n",
       "      <td>драма,семейный</td>\n",
       "      <td>0.00</td>\n",
       "    </tr>\n",
       "    <tr>\n",
       "      <th>2219</th>\n",
       "      <td>прогулка по солнечному свету</td>\n",
       "      <td>121011614</td>\n",
       "      <td>2014-06-11 12:00:00</td>\n",
       "      <td>Художественный</td>\n",
       "      <td>вертиго филмз, айэм глобал</td>\n",
       "      <td>Великобритания</td>\n",
       "      <td>Макс Джива, Дания Пасквини</td>\n",
       "      <td>Кэролайн Леви, Эллан Нибло, Джеймс Ричардсон</td>\n",
       "      <td>«12+» - для детей старше 12 лет</td>\n",
       "      <td>0.00</td>\n",
       "      <td>0.00</td>\n",
       "      <td>NaN</td>\n",
       "      <td>Отсутствует</td>\n",
       "      <td>6.10</td>\n",
       "      <td>мюзикл,драма,мелодрама</td>\n",
       "      <td>0.00</td>\n",
       "    </tr>\n",
       "    <tr>\n",
       "      <th>2442</th>\n",
       "      <td>звездный мальчик</td>\n",
       "      <td>111013915</td>\n",
       "      <td>2015-08-25 12:00:00</td>\n",
       "      <td>Художественный</td>\n",
       "      <td>киностудия \"мосфильм\"</td>\n",
       "      <td>СССР</td>\n",
       "      <td>Е.Зильберштейн, А.Дудоров</td>\n",
       "      <td>Неизвестно</td>\n",
       "      <td>«0+» - для любой зрительской аудитории</td>\n",
       "      <td>0.00</td>\n",
       "      <td>0.00</td>\n",
       "      <td>NaN</td>\n",
       "      <td>Отсутствует</td>\n",
       "      <td>7.50</td>\n",
       "      <td>драма</td>\n",
       "      <td>0.00</td>\n",
       "    </tr>\n",
       "    <tr>\n",
       "      <th>2685</th>\n",
       "      <td>пусть так будет</td>\n",
       "      <td>111009815</td>\n",
       "      <td>2015-06-01 12:00:00</td>\n",
       "      <td>Художественный</td>\n",
       "      <td>ооо продюсерская компания \"держава\"</td>\n",
       "      <td>Россия</td>\n",
       "      <td>О.Смольников</td>\n",
       "      <td>К.Лавров, Ю.Потапова, В.Бутер, С.Прудников, С.Маликов</td>\n",
       "      <td>«12+» - для детей старше 12 лет</td>\n",
       "      <td>0.00</td>\n",
       "      <td>0.00</td>\n",
       "      <td>NaN</td>\n",
       "      <td>Отсутствует</td>\n",
       "      <td>NaN</td>\n",
       "      <td>Неизвестно</td>\n",
       "      <td>0.00</td>\n",
       "    </tr>\n",
       "    <tr>\n",
       "      <th>3595</th>\n",
       "      <td>ананас</td>\n",
       "      <td>111017116</td>\n",
       "      <td>2016-11-10 12:00:00</td>\n",
       "      <td>Художественный</td>\n",
       "      <td>рудак владимир иванович</td>\n",
       "      <td>Россия</td>\n",
       "      <td>В.Рудак</td>\n",
       "      <td>В.Рудак, А.Бабенко</td>\n",
       "      <td>«16+» - для детей старше 16 лет</td>\n",
       "      <td>0.00</td>\n",
       "      <td>0.00</td>\n",
       "      <td>NaN</td>\n",
       "      <td>Отсутствует</td>\n",
       "      <td>6.70</td>\n",
       "      <td>боевик,комедия,криминал</td>\n",
       "      <td>0.00</td>\n",
       "    </tr>\n",
       "    <tr>\n",
       "      <th>3827</th>\n",
       "      <td>москва, я люблю тебя</td>\n",
       "      <td>111001610</td>\n",
       "      <td>2010-02-09 12:00:00</td>\n",
       "      <td>Художественный</td>\n",
       "      <td>ооо \"бфг-медиа-продакшн\", ооо \"продюсерская компания юрия гинзбурга\"</td>\n",
       "      <td>Россия</td>\n",
       "      <td>Г.Михалков, Г.Натансон, В.Сторожева, А.Касаткин, А.Михалков, А.Разенков, Э.Суни и др.</td>\n",
       "      <td>Ю.Глоцер, Ю.Гинзбург</td>\n",
       "      <td>«16+» - для детей старше 16 лет</td>\n",
       "      <td>0.00</td>\n",
       "      <td>0.00</td>\n",
       "      <td>NaN</td>\n",
       "      <td>Отсутствует</td>\n",
       "      <td>4.50</td>\n",
       "      <td>мелодрама,комедия</td>\n",
       "      <td>0.00</td>\n",
       "    </tr>\n",
       "    <tr>\n",
       "      <th>3994</th>\n",
       "      <td>стать джоном ленноном</td>\n",
       "      <td>121008610</td>\n",
       "      <td>2010-05-05 12:00:00</td>\n",
       "      <td>Художественный</td>\n",
       "      <td>авер медиа, экосси филмз, филм 4, норс вест вижин, юкей филм каунсил</td>\n",
       "      <td>Канада, Великобритания</td>\n",
       "      <td>Сэм Тейлор Вуд</td>\n",
       "      <td>Роберт Бернштейн, Кевин Лоудер, Дуглас Рэй</td>\n",
       "      <td>«16+» - для детей старше 16 лет</td>\n",
       "      <td>0.00</td>\n",
       "      <td>0.00</td>\n",
       "      <td>NaN</td>\n",
       "      <td>Отсутствует</td>\n",
       "      <td>7.50</td>\n",
       "      <td>драма,мелодрама,биография</td>\n",
       "      <td>0.00</td>\n",
       "    </tr>\n",
       "    <tr>\n",
       "      <th>4066</th>\n",
       "      <td>дерево</td>\n",
       "      <td>121020210</td>\n",
       "      <td>2010-11-03 12:00:00</td>\n",
       "      <td>Художественный</td>\n",
       "      <td>ле фильм дю позьон, тэйлор медиа, скрин ауастралия</td>\n",
       "      <td>Франция, Австралия</td>\n",
       "      <td>Жюли Бертучелли</td>\n",
       "      <td>Неизвестно</td>\n",
       "      <td>«16+» - для детей старше 16 лет</td>\n",
       "      <td>0.00</td>\n",
       "      <td>0.00</td>\n",
       "      <td>NaN</td>\n",
       "      <td>Отсутствует</td>\n",
       "      <td>NaN</td>\n",
       "      <td>Неизвестно</td>\n",
       "      <td>0.00</td>\n",
       "    </tr>\n",
       "    <tr>\n",
       "      <th>4790</th>\n",
       "      <td>красный лед сага о хантах югры</td>\n",
       "      <td>111005910</td>\n",
       "      <td>2010-06-04 12:00:00</td>\n",
       "      <td>Художественный</td>\n",
       "      <td>департамент культуры и искусства хмао-югры, ооо \"кинокомпания \"югра-фильм\", ау отрк \"югра\", ооо \"кинокомпания \"соливс\"</td>\n",
       "      <td>Россия</td>\n",
       "      <td>О.Фесенко</td>\n",
       "      <td>О.Урушев</td>\n",
       "      <td>«16+» - для детей старше 16 лет</td>\n",
       "      <td>0.00</td>\n",
       "      <td>0.00</td>\n",
       "      <td>NaN</td>\n",
       "      <td>Отсутствует</td>\n",
       "      <td>4.50</td>\n",
       "      <td>драма,история</td>\n",
       "      <td>0.00</td>\n",
       "    </tr>\n",
       "  </tbody>\n",
       "</table>\n",
       "</div>"
      ],
      "text/plain": [
       "                                                                               title   puNumber     show_start_date            type                                                                                                                                                                                                                                                    film_studio                              production_country                                                                               director                                                                    producer                         age_restriction  refundable_support  nonrefundable_support  budget financing_source  ratings                       genres  box_office\n",
       "66                                                                      анна павлова  111011013 2013-12-19 12:00:00  Художественный                                                                                                                     совместное производство киностудия \"мосфильм\", \"космос-филм\" (франция), \"посейдон продакшинз лимитед\" (англия), \"икаик\" (куба), дефа (гдр)                СССР, Франция, Англия, Куба, ГДР                                                                           Эмиль Лотяну                                                                  Неизвестно           «6+» - для детей старше 6 лет                0.00                   0.00     NaN      Отсутствует     7.70       драма,биография,музыка        0.00\n",
       "237                                                                         подранки  111007613 2013-10-18 12:00:00  Художественный                                                                                                                                                                                                                                          киностудия \"мосфильм\"                                            СССР                                                                              Н.Губенко                                                                  Неизвестно         «12+» - для детей старше 12 лет                0.00                   0.00     NaN      Отсутствует     8.20                        драма        0.00\n",
       "596                                                                    запах вереска  111003012 2012-05-23 12:00:00  Художественный                                                                                                                                                                                                                                               ооо \"студия рим\"                                          Россия                                                                            А.Магомедов                                                       М.Балашова, Е.Миронов         «16+» - для детей старше 16 лет                0.00                   0.00     NaN      Отсутствует     6.30                      комедия        0.00\n",
       "914                                    в тумане по одноименной повести василя быкова  121027712 2012-11-07 12:00:00  Художественный                                                                                                                                                                             ма йа де фикшн, лемминг филм, беларусьфильм, джи пи синема кинокомпани, рийа филмз  Германия, Нидерланды, Беларусь, Россия, Латвия                                                                         Сергей Лозница                                                                Хайно Декерт         «12+» - для детей старше 12 лет                0.00                   0.00     NaN      Отсутствует     6.50        драма,военный,история        0.00\n",
       "932                                                                  письмо для момо  124002912 2012-10-25 12:00:00    Анимационный                                                                                                                                                                                                   кадокава пикчерз, продакшнз и джи, токио броадкастинг систем                                          Япония                                                                         Окиура Хироюки                             Хироюки Икеда, Митсухиса Ишикава, Кацзуя Хамана         «12+» - для детей старше 12 лет                0.00                   0.00     NaN      Отсутствует     7.40       аниме,мультфильм,драма        0.00\n",
       "933                                                                     летние войны  124002812 2012-10-25 12:00:00    Анимационный                                                                              медхауз, ниппон телевижн нетуорк корпорейшн, кадокава шотен паблишинг компани, ди эн дрим партнерс, уорнер бразерс, юмиори телевижн, видео аудио прожект, фанимоушн интертейнмент                                          Япония                                                                          Мамору Хосода  Такафуми Ватанабэ, Такуя Ито, Сэйдзи Окуда, Юитиро Сайто, Нодзому Такахаси         «12+» - для детей старше 12 лет                0.00                   0.00     NaN      Отсутствует     7.70  аниме,мультфильм,фантастика        0.00\n",
       "976                                                                     гарегин нжде  131000213 2013-04-23 12:00:00  Художественный                                                                                                                                                                                                                 эй джи кей продакшнз, пан армениан медиа групп                                         Армения                                                                           Грач Кешишян                                                                Грач Кешишян         «12+» - для детей старше 12 лет                0.00                   0.00     NaN      Отсутствует     7.90                    биография        0.00\n",
       "1126                                                                         марафон  111006712 2012-12-18 12:00:00  Художественный                                                                                                                                                                                                                                        ооо \"синема арт студио\"                                          Россия                                                                             К.Оганесян                                                                  К.Оганесян         «16+» - для детей старше 16 лет                0.00                   0.00     NaN      Отсутствует     5.50            комедия,мелодрама        0.00\n",
       "1387                                 экзамен для двоих по роману джин ханфф корелитц  121014613 2013-06-11 12:00:00  Художественный                                                                                                                                                                                                                                                   депф оф филд                                             США                                                                               Пол Вайц                                       Пол Вайц, Керри Кохански, Эндрю Миано         «12+» - для детей старше 12 лет                0.00                   0.00     NaN      Отсутствует     5.80      мелодрама,комедия,драма        0.00\n",
       "1559  последняя любовь мистера моргана по роману франсуазы дорнер \"нежность убивает\"  121002614 2014-02-11 12:00:00  Художественный  камински штим фильм, бавариа пикчерз, сенатор фильм, скоуп пикчерз, сидни киммел, элзевир филм                                                                                                                                                         киммел                 Германия, Бельгия, США, Франция                                                                      Сандра Неттельбек                   Франк Камински, Астрид Камке, Филипп Кройцер, Ульрих Штим         «16+» - для детей старше 16 лет                0.00                   0.00     NaN      Отсутствует     6.90                        драма        0.00\n",
       "1772                                                               весёлые ребята ;)  111002414 2014-02-27 12:00:00  Художественный                                                                                                                                                                                                               зао \"продюсерская компания валерия тодоровского\"                                          Россия                                                                               А.Бобров                                                               В.Тодоровский           «6+» - для детей старше 6 лет                0.00                   0.00     NaN      Отсутствует      NaN                   Неизвестно        0.00\n",
       "1782                                                       анжелика, маркиза ангелов  121031913 2013-12-12 12:00:00  Художественный                                                                                                                                                                                                                              европа корп., монафилм, вилмафилм                                         Франция                                                                          Ариэль Зейтун                                 Эммануэль Жаклин, Павел Солк, Филипп Херинг         «16+» - для детей старше 16 лет                0.00                   0.00     NaN      Отсутствует     8.00  драма,мелодрама,приключения        0.00\n",
       "1978                                                                 люблю твою жену  121013014 2014-06-23 12:00:00  Художественный                                                                                                                                                                                                                       серендипити пойнт фильм, номадик пикчерз                                          Канада                                                                      Джеримайя С.Чечик                                     Стефен Аликс, Эри Лантос, Роберт Лантош         «16+» - для детей старше 16 лет                0.00                   0.00     NaN      Отсутствует     6.00            мелодрама,комедия        0.00\n",
       "2037                                                              кино про алексеева  111007114 2014-07-18 12:00:00  Художественный                                                                                                                                                                                                                                 ооо \"кинокомпания \"новые люди\"                                          Россия                                                                                М.Сегал                                                                 Н.Мокрицкая         «12+» - для детей старше 12 лет                0.00                   0.00     NaN      Отсутствует     6.90                        драма        0.00\n",
       "2078                                                курбан-роман (история с жертвой)  111009614 2014-09-02 12:00:00  Художественный                                                                                                                                                                                                                                               фонд \"инновация\"                                          Россия                                                                                С.Юзеев                                                                  М.Галицкая         «12+» - для детей старше 12 лет                0.00                   0.00     NaN      Отсутствует      NaN                   Неизвестно        0.00\n",
       "2126                                                                поездка к матери  111002015 2015-03-02 12:00:00  Художественный                                                                                                                                                                                                                                     зао \"киностудия \"м\"-фильм\"                                          Россия                                                                     М.Косырев-Нестеров                                                          М.Косырев-Нестеров         «16+» - для детей старше 16 лет                0.00                   0.00     NaN      Отсутствует     9.10               драма,семейный        0.00\n",
       "2219                                                    прогулка по солнечному свету  121011614 2014-06-11 12:00:00  Художественный                                                                                                                                                                                                                                     вертиго филмз, айэм глобал                                  Великобритания                                                             Макс Джива, Дания Пасквини                                Кэролайн Леви, Эллан Нибло, Джеймс Ричардсон         «12+» - для детей старше 12 лет                0.00                   0.00     NaN      Отсутствует     6.10       мюзикл,драма,мелодрама        0.00\n",
       "2442                                                                звездный мальчик  111013915 2015-08-25 12:00:00  Художественный                                                                                                                                                                                                                                          киностудия \"мосфильм\"                                            СССР                                                              Е.Зильберштейн, А.Дудоров                                                                  Неизвестно  «0+» - для любой зрительской аудитории                0.00                   0.00     NaN      Отсутствует     7.50                        драма        0.00\n",
       "2685                                                                 пусть так будет  111009815 2015-06-01 12:00:00  Художественный                                                                                                                                                                                                                            ооо продюсерская компания \"держава\"                                          Россия                                                                           О.Смольников                       К.Лавров, Ю.Потапова, В.Бутер, С.Прудников, С.Маликов         «12+» - для детей старше 12 лет                0.00                   0.00     NaN      Отсутствует      NaN                   Неизвестно        0.00\n",
       "3595                                                                          ананас  111017116 2016-11-10 12:00:00  Художественный                                                                                                                                                                                                                                        рудак владимир иванович                                          Россия                                                                                В.Рудак                                                          В.Рудак, А.Бабенко         «16+» - для детей старше 16 лет                0.00                   0.00     NaN      Отсутствует     6.70      боевик,комедия,криминал        0.00\n",
       "3827                                                            москва, я люблю тебя  111001610 2010-02-09 12:00:00  Художественный                                                                                                                                                                                           ооо \"бфг-медиа-продакшн\", ооо \"продюсерская компания юрия гинзбурга\"                                          Россия  Г.Михалков, Г.Натансон, В.Сторожева, А.Касаткин, А.Михалков, А.Разенков, Э.Суни и др.                                                        Ю.Глоцер, Ю.Гинзбург         «16+» - для детей старше 16 лет                0.00                   0.00     NaN      Отсутствует     4.50            мелодрама,комедия        0.00\n",
       "3994                                                           стать джоном ленноном  121008610 2010-05-05 12:00:00  Художественный                                                                                                                                                                                           авер медиа, экосси филмз, филм 4, норс вест вижин, юкей филм каунсил                          Канада, Великобритания                                                                         Сэм Тейлор Вуд                                  Роберт Бернштейн, Кевин Лоудер, Дуглас Рэй         «16+» - для детей старше 16 лет                0.00                   0.00     NaN      Отсутствует     7.50    драма,мелодрама,биография        0.00\n",
       "4066                                                                          дерево  121020210 2010-11-03 12:00:00  Художественный                                                                                                                                                                                                             ле фильм дю позьон, тэйлор медиа, скрин ауастралия                              Франция, Австралия                                                                        Жюли Бертучелли                                                                  Неизвестно         «16+» - для детей старше 16 лет                0.00                   0.00     NaN      Отсутствует      NaN                   Неизвестно        0.00\n",
       "4790                                                  красный лед сага о хантах югры  111005910 2010-06-04 12:00:00  Художественный                                                                                                                                         департамент культуры и искусства хмао-югры, ооо \"кинокомпания \"югра-фильм\", ау отрк \"югра\", ооо \"кинокомпания \"соливс\"                                          Россия                                                                              О.Фесенко                                                                    О.Урушев         «16+» - для детей старше 16 лет                0.00                   0.00     NaN      Отсутствует     4.50                драма,история        0.00"
      ]
     },
     "execution_count": 49,
     "metadata": {},
     "output_type": "execute_result"
    }
   ],
   "source": [
    "data[data['box_office']==0]"
   ]
  },
  {
   "cell_type": "markdown",
   "id": "3ae7044f-ff15-4213-b999-ca8cd6cf0107",
   "metadata": {},
   "source": [
    "Более аномалий в количественных данных не было выявлено"
   ]
  },
  {
   "cell_type": "markdown",
   "id": "ecb0e6af-d6b6-460c-990a-aa792b061a48",
   "metadata": {},
   "source": [
    "- Добавьте новые столбцы:\n",
    "  - Создайте столбец с информацией о годе проката. Выделите год из даты премьеры фильма;"
   ]
  },
  {
   "cell_type": "code",
   "execution_count": 50,
   "id": "fdcd3eb6-dca4-4529-983c-2d603aab5488",
   "metadata": {},
   "outputs": [],
   "source": [
    "data['year_premier'] = data['show_start_date'].dt.year"
   ]
  },
  {
   "cell_type": "markdown",
   "id": "cf76b79c-0f99-40db-8509-c2366934bbe9",
   "metadata": {},
   "source": [
    "- Создайте два столбца: с именем и фамилией главного режиссёра и основным жанром фильма. В столбцы войдут первые значения из списка режиссёров и жанров соответственно;"
   ]
  },
  {
   "cell_type": "code",
   "execution_count": 51,
   "id": "cd2a6f2c-4d5b-4e0f-a661-3d65f672f755",
   "metadata": {},
   "outputs": [],
   "source": [
    "data['main_director'] = data['director'].apply(lambda x: x.split(', ')[0])\n",
    "data['main_genre'] = data['genres'].apply(lambda x: x.split(',')[0])"
   ]
  },
  {
   "cell_type": "code",
   "execution_count": 52,
   "id": "abca0380",
   "metadata": {},
   "outputs": [
    {
     "data": {
      "text/html": [
       "<div>\n",
       "<style scoped>\n",
       "    .dataframe tbody tr th:only-of-type {\n",
       "        vertical-align: middle;\n",
       "    }\n",
       "\n",
       "    .dataframe tbody tr th {\n",
       "        vertical-align: top;\n",
       "    }\n",
       "\n",
       "    .dataframe thead th {\n",
       "        text-align: right;\n",
       "    }\n",
       "</style>\n",
       "<table border=\"1\" class=\"dataframe\">\n",
       "  <thead>\n",
       "    <tr style=\"text-align: right;\">\n",
       "      <th></th>\n",
       "      <th>director</th>\n",
       "      <th>main_director</th>\n",
       "      <th>genres</th>\n",
       "    </tr>\n",
       "  </thead>\n",
       "  <tbody>\n",
       "    <tr>\n",
       "      <th>0</th>\n",
       "      <td>Кевин Костнер</td>\n",
       "      <td>Кевин Костнер</td>\n",
       "      <td>боевик,драма,мелодрама</td>\n",
       "    </tr>\n",
       "    <tr>\n",
       "      <th>1</th>\n",
       "      <td>Е.Матвеев</td>\n",
       "      <td>Е.Матвеев</td>\n",
       "      <td>драма,военный</td>\n",
       "    </tr>\n",
       "    <tr>\n",
       "      <th>2</th>\n",
       "      <td>Тимур Бекмамбетов</td>\n",
       "      <td>Тимур Бекмамбетов</td>\n",
       "      <td>фантастика,боевик,триллер</td>\n",
       "    </tr>\n",
       "    <tr>\n",
       "      <th>3</th>\n",
       "      <td>Тимур Бекмамбетов</td>\n",
       "      <td>Тимур Бекмамбетов</td>\n",
       "      <td>фантастика,боевик,триллер</td>\n",
       "    </tr>\n",
       "    <tr>\n",
       "      <th>4</th>\n",
       "      <td>Тимур Бекмамбетов</td>\n",
       "      <td>Тимур Бекмамбетов</td>\n",
       "      <td>фантастика,боевик,триллер</td>\n",
       "    </tr>\n",
       "    <tr>\n",
       "      <th>...</th>\n",
       "      <td>...</td>\n",
       "      <td>...</td>\n",
       "      <td>...</td>\n",
       "    </tr>\n",
       "    <tr>\n",
       "      <th>7481</th>\n",
       "      <td>Фил Грабски</td>\n",
       "      <td>Фил Грабски</td>\n",
       "      <td>Неизвестно</td>\n",
       "    </tr>\n",
       "    <tr>\n",
       "      <th>7482</th>\n",
       "      <td>Ник Пауэлл</td>\n",
       "      <td>Ник Пауэлл</td>\n",
       "      <td>боевик,триллер</td>\n",
       "    </tr>\n",
       "    <tr>\n",
       "      <th>7483</th>\n",
       "      <td>Чарльз Е.Бастьен</td>\n",
       "      <td>Чарльз Е.Бастьен</td>\n",
       "      <td>Неизвестно</td>\n",
       "    </tr>\n",
       "    <tr>\n",
       "      <th>7484</th>\n",
       "      <td>А.Беляев</td>\n",
       "      <td>А.Беляев</td>\n",
       "      <td>Неизвестно</td>\n",
       "    </tr>\n",
       "    <tr>\n",
       "      <th>7485</th>\n",
       "      <td>И.Трусов</td>\n",
       "      <td>И.Трусов</td>\n",
       "      <td>комедия,вестерн</td>\n",
       "    </tr>\n",
       "  </tbody>\n",
       "</table>\n",
       "<p>7486 rows × 3 columns</p>\n",
       "</div>"
      ],
      "text/plain": [
       "               director      main_director                     genres\n",
       "0         Кевин Костнер      Кевин Костнер     боевик,драма,мелодрама\n",
       "1             Е.Матвеев          Е.Матвеев              драма,военный\n",
       "2     Тимур Бекмамбетов  Тимур Бекмамбетов  фантастика,боевик,триллер\n",
       "3     Тимур Бекмамбетов  Тимур Бекмамбетов  фантастика,боевик,триллер\n",
       "4     Тимур Бекмамбетов  Тимур Бекмамбетов  фантастика,боевик,триллер\n",
       "...                 ...                ...                        ...\n",
       "7481        Фил Грабски        Фил Грабски                 Неизвестно\n",
       "7482         Ник Пауэлл         Ник Пауэлл             боевик,триллер\n",
       "7483   Чарльз Е.Бастьен   Чарльз Е.Бастьен                 Неизвестно\n",
       "7484           А.Беляев           А.Беляев                 Неизвестно\n",
       "7485           И.Трусов           И.Трусов            комедия,вестерн\n",
       "\n",
       "[7486 rows x 3 columns]"
      ]
     },
     "execution_count": 52,
     "metadata": {},
     "output_type": "execute_result"
    }
   ],
   "source": [
    "# Код ревьюера\n",
    "data[['director','main_director', 'genres']]"
   ]
  },
  {
   "cell_type": "markdown",
   "id": "8bc58934-112a-48f6-972e-5d39bb6f2da6",
   "metadata": {},
   "source": [
    "- Посчитайте, какую долю от общего бюджета фильма составляет государственная поддержка."
   ]
  },
  {
   "cell_type": "code",
   "execution_count": 53,
   "id": "f51c33cd-e631-4f8b-966a-4061b6b911f8",
   "metadata": {},
   "outputs": [],
   "source": [
    "data['part_support'] = ((data['refundable_support']+data['nonrefundable_support'])/data['budget'])*100"
   ]
  },
  {
   "cell_type": "markdown",
   "id": "7e8025e3-1399-4844-a660-30b1ef2c86b2",
   "metadata": {},
   "source": [
    "##### Посчитано выше!"
   ]
  },
  {
   "cell_type": "markdown",
   "id": "958c29a1-d08d-4a84-8388-b9d4fca2ce50",
   "metadata": {},
   "source": [
    "Проверим, что новые колонки добавились успешно:"
   ]
  },
  {
   "cell_type": "code",
   "execution_count": 54,
   "id": "c9fe5d02-9505-460d-89b1-a98e53c32639",
   "metadata": {},
   "outputs": [
    {
     "data": {
      "text/html": [
       "<div>\n",
       "<style scoped>\n",
       "    .dataframe tbody tr th:only-of-type {\n",
       "        vertical-align: middle;\n",
       "    }\n",
       "\n",
       "    .dataframe tbody tr th {\n",
       "        vertical-align: top;\n",
       "    }\n",
       "\n",
       "    .dataframe thead th {\n",
       "        text-align: right;\n",
       "    }\n",
       "</style>\n",
       "<table border=\"1\" class=\"dataframe\">\n",
       "  <thead>\n",
       "    <tr style=\"text-align: right;\">\n",
       "      <th></th>\n",
       "      <th>title</th>\n",
       "      <th>puNumber</th>\n",
       "      <th>show_start_date</th>\n",
       "      <th>type</th>\n",
       "      <th>film_studio</th>\n",
       "      <th>production_country</th>\n",
       "      <th>director</th>\n",
       "      <th>producer</th>\n",
       "      <th>age_restriction</th>\n",
       "      <th>refundable_support</th>\n",
       "      <th>nonrefundable_support</th>\n",
       "      <th>budget</th>\n",
       "      <th>financing_source</th>\n",
       "      <th>ratings</th>\n",
       "      <th>genres</th>\n",
       "      <th>box_office</th>\n",
       "      <th>year_premier</th>\n",
       "      <th>main_director</th>\n",
       "      <th>main_genre</th>\n",
       "      <th>part_support</th>\n",
       "    </tr>\n",
       "  </thead>\n",
       "  <tbody>\n",
       "    <tr>\n",
       "      <th>0</th>\n",
       "      <td>открытый простор</td>\n",
       "      <td>221048915</td>\n",
       "      <td>2015-11-27 12:00:00</td>\n",
       "      <td>Художественный</td>\n",
       "      <td>тачстоун пикчерз, кобальт пикчерз, бикон пикчерз, тиг продакшнз</td>\n",
       "      <td>США</td>\n",
       "      <td>Кевин Костнер</td>\n",
       "      <td>Дэвид Валдес, Кевин Костнер, Джейк Эбертс</td>\n",
       "      <td>«18+» - запрещено для детей</td>\n",
       "      <td>0.00</td>\n",
       "      <td>0.00</td>\n",
       "      <td>NaN</td>\n",
       "      <td>Отсутствует</td>\n",
       "      <td>7.20</td>\n",
       "      <td>боевик,драма,мелодрама</td>\n",
       "      <td>NaN</td>\n",
       "      <td>2015</td>\n",
       "      <td>Кевин Костнер</td>\n",
       "      <td>боевик</td>\n",
       "      <td>NaN</td>\n",
       "    </tr>\n",
       "    <tr>\n",
       "      <th>1</th>\n",
       "      <td>особо важное задание</td>\n",
       "      <td>111013716</td>\n",
       "      <td>2016-09-13 12:00:00</td>\n",
       "      <td>Художественный</td>\n",
       "      <td>киностудия \"мосфильм\"</td>\n",
       "      <td>СССР</td>\n",
       "      <td>Е.Матвеев</td>\n",
       "      <td>Неизвестно</td>\n",
       "      <td>«6+» - для детей старше 6 лет</td>\n",
       "      <td>0.00</td>\n",
       "      <td>0.00</td>\n",
       "      <td>NaN</td>\n",
       "      <td>Отсутствует</td>\n",
       "      <td>6.60</td>\n",
       "      <td>драма,военный</td>\n",
       "      <td>NaN</td>\n",
       "      <td>2016</td>\n",
       "      <td>Е.Матвеев</td>\n",
       "      <td>драма</td>\n",
       "      <td>NaN</td>\n",
       "    </tr>\n",
       "    <tr>\n",
       "      <th>2</th>\n",
       "      <td>особо опасен</td>\n",
       "      <td>221038416</td>\n",
       "      <td>2016-10-10 12:00:00</td>\n",
       "      <td>Художественный</td>\n",
       "      <td>юниверсал пикчерз, кикстарт продакшнз, марк платт продакшнз, рилейтивити медиа, спайгласс интертейнмент, стилкин филмз, топ кау продакшнз</td>\n",
       "      <td>США</td>\n",
       "      <td>Тимур Бекмамбетов</td>\n",
       "      <td>Джим Лемли, Джейсон Нетер, Марк Е.Платт, Яйн Смит</td>\n",
       "      <td>«18+» - запрещено для детей</td>\n",
       "      <td>0.00</td>\n",
       "      <td>0.00</td>\n",
       "      <td>NaN</td>\n",
       "      <td>Отсутствует</td>\n",
       "      <td>6.80</td>\n",
       "      <td>фантастика,боевик,триллер</td>\n",
       "      <td>NaN</td>\n",
       "      <td>2016</td>\n",
       "      <td>Тимур Бекмамбетов</td>\n",
       "      <td>фантастика</td>\n",
       "      <td>NaN</td>\n",
       "    </tr>\n",
       "    <tr>\n",
       "      <th>3</th>\n",
       "      <td>особо опасен</td>\n",
       "      <td>221026916</td>\n",
       "      <td>2016-06-10 12:00:00</td>\n",
       "      <td>Художественный</td>\n",
       "      <td>юниверсал пикчерз, кикстарт продакшнз, марк платт продакшнз, рилейтивити медиа, спайгласс интертейнмент, стилкин филмз, топ кау продакшнз</td>\n",
       "      <td>США</td>\n",
       "      <td>Тимур Бекмамбетов</td>\n",
       "      <td>Джим Лемли, Джейсон Нетер, Марк Е.Платт, Яйн Смит</td>\n",
       "      <td>«18+» - запрещено для детей</td>\n",
       "      <td>0.00</td>\n",
       "      <td>0.00</td>\n",
       "      <td>NaN</td>\n",
       "      <td>Отсутствует</td>\n",
       "      <td>6.80</td>\n",
       "      <td>фантастика,боевик,триллер</td>\n",
       "      <td>NaN</td>\n",
       "      <td>2016</td>\n",
       "      <td>Тимур Бекмамбетов</td>\n",
       "      <td>фантастика</td>\n",
       "      <td>NaN</td>\n",
       "    </tr>\n",
       "    <tr>\n",
       "      <th>4</th>\n",
       "      <td>особо опасен</td>\n",
       "      <td>221030815</td>\n",
       "      <td>2015-07-29 12:00:00</td>\n",
       "      <td>Художественный</td>\n",
       "      <td>юниверсал пикчерз, кикстарт продакшнз, марк платт продакшнз, рилейтивити медиа, спайгласс интертейнмент, стилкин филмз, топ кау продакшнз</td>\n",
       "      <td>США</td>\n",
       "      <td>Тимур Бекмамбетов</td>\n",
       "      <td>Джим Лемли, Джейсон Нетер, Марк Е.Платт, Яйн Смит</td>\n",
       "      <td>«18+» - запрещено для детей</td>\n",
       "      <td>0.00</td>\n",
       "      <td>0.00</td>\n",
       "      <td>NaN</td>\n",
       "      <td>Отсутствует</td>\n",
       "      <td>6.80</td>\n",
       "      <td>фантастика,боевик,триллер</td>\n",
       "      <td>NaN</td>\n",
       "      <td>2015</td>\n",
       "      <td>Тимур Бекмамбетов</td>\n",
       "      <td>фантастика</td>\n",
       "      <td>NaN</td>\n",
       "    </tr>\n",
       "  </tbody>\n",
       "</table>\n",
       "</div>"
      ],
      "text/plain": [
       "                  title   puNumber     show_start_date            type                                                                                                                                film_studio production_country           director                                           producer                age_restriction  refundable_support  nonrefundable_support  budget financing_source  ratings                     genres  box_office  year_premier      main_director  main_genre  part_support\n",
       "0      открытый простор  221048915 2015-11-27 12:00:00  Художественный                                                                            тачстоун пикчерз, кобальт пикчерз, бикон пикчерз, тиг продакшнз                США      Кевин Костнер          Дэвид Валдес, Кевин Костнер, Джейк Эбертс    «18+» - запрещено для детей                0.00                   0.00     NaN      Отсутствует     7.20     боевик,драма,мелодрама         NaN          2015      Кевин Костнер      боевик           NaN\n",
       "1  особо важное задание  111013716 2016-09-13 12:00:00  Художественный                                                                                                                      киностудия \"мосфильм\"               СССР          Е.Матвеев                                         Неизвестно  «6+» - для детей старше 6 лет                0.00                   0.00     NaN      Отсутствует     6.60              драма,военный         NaN          2016          Е.Матвеев       драма           NaN\n",
       "2          особо опасен  221038416 2016-10-10 12:00:00  Художественный  юниверсал пикчерз, кикстарт продакшнз, марк платт продакшнз, рилейтивити медиа, спайгласс интертейнмент, стилкин филмз, топ кау продакшнз                США  Тимур Бекмамбетов  Джим Лемли, Джейсон Нетер, Марк Е.Платт, Яйн Смит    «18+» - запрещено для детей                0.00                   0.00     NaN      Отсутствует     6.80  фантастика,боевик,триллер         NaN          2016  Тимур Бекмамбетов  фантастика           NaN\n",
       "3          особо опасен  221026916 2016-06-10 12:00:00  Художественный  юниверсал пикчерз, кикстарт продакшнз, марк платт продакшнз, рилейтивити медиа, спайгласс интертейнмент, стилкин филмз, топ кау продакшнз                США  Тимур Бекмамбетов  Джим Лемли, Джейсон Нетер, Марк Е.Платт, Яйн Смит    «18+» - запрещено для детей                0.00                   0.00     NaN      Отсутствует     6.80  фантастика,боевик,триллер         NaN          2016  Тимур Бекмамбетов  фантастика           NaN\n",
       "4          особо опасен  221030815 2015-07-29 12:00:00  Художественный  юниверсал пикчерз, кикстарт продакшнз, марк платт продакшнз, рилейтивити медиа, спайгласс интертейнмент, стилкин филмз, топ кау продакшнз                США  Тимур Бекмамбетов  Джим Лемли, Джейсон Нетер, Марк Е.Платт, Яйн Смит    «18+» - запрещено для детей                0.00                   0.00     NaN      Отсутствует     6.80  фантастика,боевик,триллер         NaN          2015  Тимур Бекмамбетов  фантастика           NaN"
      ]
     },
     "execution_count": 54,
     "metadata": {},
     "output_type": "execute_result"
    }
   ],
   "source": [
    "data.head()"
   ]
  },
  {
   "cell_type": "markdown",
   "id": "bf13608e-95bc-4966-8624-2a92116bdff5",
   "metadata": {},
   "source": [
    "## Шаг 3. Проведите исследовательский анализ данных\n",
    "- Посмотрите, сколько фильмов выходило в прокат каждый год. Обратите внимание, что данные о прокате в кинотеатрах известны не для всех фильмов. Посчитайте, какую долю составляют фильмы с указанной информацией о прокате в кинотеатрах. Проанализируйте, как эта доля менялась по годам. Сделайте вывод о том, какой период полнее всего представлен в данных."
   ]
  },
  {
   "cell_type": "code",
   "execution_count": 55,
   "id": "d130c408-3d58-4aa5-ad9f-ea3aeb610a9e",
   "metadata": {},
   "outputs": [
    {
     "data": {
      "text/html": [
       "<div>\n",
       "<style scoped>\n",
       "    .dataframe tbody tr th:only-of-type {\n",
       "        vertical-align: middle;\n",
       "    }\n",
       "\n",
       "    .dataframe tbody tr th {\n",
       "        vertical-align: top;\n",
       "    }\n",
       "\n",
       "    .dataframe thead th {\n",
       "        text-align: right;\n",
       "    }\n",
       "</style>\n",
       "<table border=\"1\" class=\"dataframe\">\n",
       "  <thead>\n",
       "    <tr style=\"text-align: right;\">\n",
       "      <th></th>\n",
       "      <th>count</th>\n",
       "      <th>sum</th>\n",
       "      <th>mean</th>\n",
       "      <th>median</th>\n",
       "      <th>part_info</th>\n",
       "    </tr>\n",
       "    <tr>\n",
       "      <th>year_premier</th>\n",
       "      <th></th>\n",
       "      <th></th>\n",
       "      <th></th>\n",
       "      <th></th>\n",
       "      <th></th>\n",
       "    </tr>\n",
       "  </thead>\n",
       "  <tbody>\n",
       "    <tr>\n",
       "      <th>2010</th>\n",
       "      <td>105</td>\n",
       "      <td>2428654.00</td>\n",
       "      <td>23130.04</td>\n",
       "      <td>1700.00</td>\n",
       "      <td>10.66</td>\n",
       "    </tr>\n",
       "    <tr>\n",
       "      <th>2011</th>\n",
       "      <td>109</td>\n",
       "      <td>14102765.00</td>\n",
       "      <td>129383.17</td>\n",
       "      <td>3000.00</td>\n",
       "      <td>17.52</td>\n",
       "    </tr>\n",
       "    <tr>\n",
       "      <th>2012</th>\n",
       "      <td>128</td>\n",
       "      <td>6955423.00</td>\n",
       "      <td>54339.24</td>\n",
       "      <td>5660.00</td>\n",
       "      <td>21.59</td>\n",
       "    </tr>\n",
       "    <tr>\n",
       "      <th>2013</th>\n",
       "      <td>184</td>\n",
       "      <td>29799706.20</td>\n",
       "      <td>161954.92</td>\n",
       "      <td>3522.50</td>\n",
       "      <td>29.21</td>\n",
       "    </tr>\n",
       "    <tr>\n",
       "      <th>2014</th>\n",
       "      <td>279</td>\n",
       "      <td>7444951859.20</td>\n",
       "      <td>26684415.27</td>\n",
       "      <td>18160.00</td>\n",
       "      <td>34.57</td>\n",
       "    </tr>\n",
       "    <tr>\n",
       "      <th>2015</th>\n",
       "      <td>465</td>\n",
       "      <td>39497365196.40</td>\n",
       "      <td>84940570.31</td>\n",
       "      <td>4920933.00</td>\n",
       "      <td>65.96</td>\n",
       "    </tr>\n",
       "    <tr>\n",
       "      <th>2016</th>\n",
       "      <td>526</td>\n",
       "      <td>47866299741.91</td>\n",
       "      <td>91000569.85</td>\n",
       "      <td>3846679.41</td>\n",
       "      <td>64.30</td>\n",
       "    </tr>\n",
       "    <tr>\n",
       "      <th>2017</th>\n",
       "      <td>357</td>\n",
       "      <td>48563707217.51</td>\n",
       "      <td>136032793.33</td>\n",
       "      <td>9968340.00</td>\n",
       "      <td>70.69</td>\n",
       "    </tr>\n",
       "    <tr>\n",
       "      <th>2018</th>\n",
       "      <td>475</td>\n",
       "      <td>49668403134.32</td>\n",
       "      <td>104565059.23</td>\n",
       "      <td>8891102.21</td>\n",
       "      <td>53.31</td>\n",
       "    </tr>\n",
       "    <tr>\n",
       "      <th>2019</th>\n",
       "      <td>530</td>\n",
       "      <td>48425708779.59</td>\n",
       "      <td>91369261.85</td>\n",
       "      <td>4627798.34</td>\n",
       "      <td>56.99</td>\n",
       "    </tr>\n",
       "  </tbody>\n",
       "</table>\n",
       "</div>"
      ],
      "text/plain": [
       "              count            sum         mean     median  part_info\n",
       "year_premier                                                         \n",
       "2010            105     2428654.00     23130.04    1700.00      10.66\n",
       "2011            109    14102765.00    129383.17    3000.00      17.52\n",
       "2012            128     6955423.00     54339.24    5660.00      21.59\n",
       "2013            184    29799706.20    161954.92    3522.50      29.21\n",
       "2014            279  7444951859.20  26684415.27   18160.00      34.57\n",
       "2015            465 39497365196.40  84940570.31 4920933.00      65.96\n",
       "2016            526 47866299741.91  91000569.85 3846679.41      64.30\n",
       "2017            357 48563707217.51 136032793.33 9968340.00      70.69\n",
       "2018            475 49668403134.32 104565059.23 8891102.21      53.31\n",
       "2019            530 48425708779.59  91369261.85 4627798.34      56.99"
      ]
     },
     "execution_count": 55,
     "metadata": {},
     "output_type": "execute_result"
    }
   ],
   "source": [
    "info_films_df = data.loc[data['box_office'].notna(), ['year_premier', 'box_office']] \\\n",
    "                .groupby('year_premier') \\\n",
    "                .agg(['count', 'sum', 'mean', 'median'])\n",
    "info_films_df.columns = info_films_df.columns.get_level_values(1)\n",
    "all_films = data.groupby('year_premier')['title'].count().to_frame()\n",
    "info_films_df['part_info'] = ((info_films_df['count'])/(all_films['title']))*100\n",
    "info_films_df"
   ]
  },
  {
   "cell_type": "code",
   "execution_count": 56,
   "id": "06533172-ef93-400c-a299-724ecc2cac87",
   "metadata": {},
   "outputs": [
    {
     "name": "stdout",
     "output_type": "stream",
     "text": [
      "Доля фильмов с указанной информацией о прокате в кинотеатрах: 42.185412770504946\n"
     ]
    }
   ],
   "source": [
    "print('Доля фильмов с указанной информацией о прокате в кинотеатрах:',((data[data['box_office'].isna()==False]['box_office'].count())/(len(data)))*100)"
   ]
  },
  {
   "cell_type": "code",
   "execution_count": 57,
   "id": "583667e4-11b3-4304-9562-2d2b97012c01",
   "metadata": {},
   "outputs": [
    {
     "data": {
      "image/png": "[encoded data removed]",
      "text/plain": [
       "<Figure size 1080x360 with 1 Axes>"
      ]
     },
     "metadata": {
      "needs_background": "light"
     },
     "output_type": "display_data"
    }
   ],
   "source": [
    "info_films_df.plot(title = 'Количество фильмов, вышедших в год', kind = 'bar', y = 'count', figsize = (15,5));"
   ]
  },
  {
   "cell_type": "code",
   "execution_count": 58,
   "id": "e3c45f79-336d-4340-81e1-3629531a011f",
   "metadata": {},
   "outputs": [
    {
     "data": {
      "image/png": "[encoded data removed]",
      "text/plain": [
       "<Figure size 1080x360 with 1 Axes>"
      ]
     },
     "metadata": {
      "needs_background": "light"
     },
     "output_type": "display_data"
    }
   ],
   "source": [
    "info_films_df.plot(title = 'Доля заполненности информацией о прокате в кинотеатрах по годам:', kind = 'bar', y = 'part_info', figsize = (15,5));"
   ]
  },
  {
   "cell_type": "markdown",
   "id": "aa3d92df-cee1-4f61-a0e8-f052cfad2e89",
   "metadata": {},
   "source": [
    "Наиболее полно представлены года с 2015 по 2017, в них доля фильмов, по которым представлены данные равны 65.96%, 64.30% и 70.69% соответственно"
   ]
  },
  {
   "cell_type": "markdown",
   "id": "2d9f8f34-4632-48e9-b270-6f4bce331f6c",
   "metadata": {},
   "source": [
    "- Изучите, как менялась динамика проката по годам. В каком году сумма сборов была минимальной? А максимальной?"
   ]
  },
  {
   "cell_type": "code",
   "execution_count": 59,
   "id": "53e646a2-17c1-4163-b15e-778afa5a5608",
   "metadata": {},
   "outputs": [
    {
     "data": {
      "image/png": "[encoded data removed]",
      "text/plain": [
       "<Figure size 1080x360 with 1 Axes>"
      ]
     },
     "metadata": {
      "needs_background": "light"
     },
     "output_type": "display_data"
    }
   ],
   "source": [
    "info_films_df.plot(title = 'Динамика проката по годам', y = 'sum', figsize = (15,5), style = 'o-');"
   ]
  },
  {
   "cell_type": "code",
   "execution_count": 60,
   "id": "9f29d368-d0db-498d-b5d5-225af74f0931",
   "metadata": {},
   "outputs": [
    {
     "name": "stdout",
     "output_type": "stream",
     "text": [
      "В 2010 году суммы сборов были минимальны, а в 2018 максимальны\n"
     ]
    }
   ],
   "source": [
    "print(f\"В {info_films_df['sum'].idxmin()} году суммы сборов были минимальны, а в {info_films_df['sum'].idxmax()} максимальны\")"
   ]
  },
  {
   "cell_type": "markdown",
   "id": "758d581e-45da-45f6-b91e-18d3e3023f47",
   "metadata": {},
   "source": [
    "- С помощью сводной таблицы посчитайте среднюю и медианную сумму сборов для каждого года. Сравните значения и сделайте выводы."
   ]
  },
  {
   "cell_type": "code",
   "execution_count": 61,
   "id": "913e7352-b38c-42ef-9bea-04ab9efa0489",
   "metadata": {},
   "outputs": [
    {
     "data": {
      "image/png": "[encoded data removed]",
      "text/plain": [
       "<Figure size 1080x360 with 1 Axes>"
      ]
     },
     "metadata": {
      "needs_background": "light"
     },
     "output_type": "display_data"
    }
   ],
   "source": [
    "info_films_df.plot(title='Медиана и средняя суммы сборов в зависимости от года', kind='line', y=['median', 'mean'], figsize = (15,5), style = 'o-');"
   ]
  },
  {
   "cell_type": "markdown",
   "id": "01f3e03d-90b4-4ac6-8bb6-fb9b9e88b5ba",
   "metadata": {},
   "source": [
    "С 2013 года наблюдается резкий рост сборов по среднему на фильм. В то время как медиана соизмеримого роста не показывает"
   ]
  },
  {
   "cell_type": "markdown",
   "id": "d0fc025c-d5ff-4859-9ac0-7c08a5b2645b",
   "metadata": {},
   "source": [
    "- Определите, влияет ли возрастное ограничение аудитории («6+», «12+», «16+», «18+» и т. д.) на сборы фильма в прокате в период с 2015 по 2019 год? Фильмы с каким возрастным ограничением собрали больше всего денег в прокате? Меняется ли картина в зависимости от года? Если да, предположите, с чем это может быть связано."
   ]
  },
  {
   "cell_type": "code",
   "execution_count": 62,
   "id": "825e551d-3099-4978-b6ae-104afe4738cc",
   "metadata": {},
   "outputs": [],
   "source": [
    "age_table = data[data['box_office'].notna()] \\\n",
    "                .pivot_table(index='year_premier',\n",
    "                            columns='age_restriction',\n",
    "                            values='box_office',\n",
    "                            aggfunc='sum')"
   ]
  },
  {
   "cell_type": "code",
   "execution_count": 63,
   "id": "adcce207-a2e3-45dd-ba9c-7e0d89af3c77",
   "metadata": {},
   "outputs": [
    {
     "data": {
      "text/html": [
       "<div>\n",
       "<style scoped>\n",
       "    .dataframe tbody tr th:only-of-type {\n",
       "        vertical-align: middle;\n",
       "    }\n",
       "\n",
       "    .dataframe tbody tr th {\n",
       "        vertical-align: top;\n",
       "    }\n",
       "\n",
       "    .dataframe thead th {\n",
       "        text-align: right;\n",
       "    }\n",
       "</style>\n",
       "<table border=\"1\" class=\"dataframe\">\n",
       "  <thead>\n",
       "    <tr style=\"text-align: right;\">\n",
       "      <th>age_restriction</th>\n",
       "      <th>«0+» - для любой зрительской аудитории</th>\n",
       "      <th>«12+» - для детей старше 12 лет</th>\n",
       "      <th>«16+» - для детей старше 16 лет</th>\n",
       "      <th>«18+» - запрещено для детей</th>\n",
       "      <th>«6+» - для детей старше 6 лет</th>\n",
       "    </tr>\n",
       "    <tr>\n",
       "      <th>year_premier</th>\n",
       "      <th></th>\n",
       "      <th></th>\n",
       "      <th></th>\n",
       "      <th></th>\n",
       "      <th></th>\n",
       "    </tr>\n",
       "  </thead>\n",
       "  <tbody>\n",
       "    <tr>\n",
       "      <th>2010</th>\n",
       "      <td>1887611.00</td>\n",
       "      <td>120146.00</td>\n",
       "      <td>366512.00</td>\n",
       "      <td>54385.00</td>\n",
       "      <td>NaN</td>\n",
       "    </tr>\n",
       "    <tr>\n",
       "      <th>2011</th>\n",
       "      <td>13499871.00</td>\n",
       "      <td>219891.00</td>\n",
       "      <td>381513.00</td>\n",
       "      <td>1040.00</td>\n",
       "      <td>450.00</td>\n",
       "    </tr>\n",
       "    <tr>\n",
       "      <th>2012</th>\n",
       "      <td>2266483.00</td>\n",
       "      <td>108734.00</td>\n",
       "      <td>3254216.00</td>\n",
       "      <td>182580.00</td>\n",
       "      <td>1143410.00</td>\n",
       "    </tr>\n",
       "    <tr>\n",
       "      <th>2013</th>\n",
       "      <td>2710302.50</td>\n",
       "      <td>20910336.50</td>\n",
       "      <td>658069.60</td>\n",
       "      <td>5161245.60</td>\n",
       "      <td>359752.00</td>\n",
       "    </tr>\n",
       "    <tr>\n",
       "      <th>2014</th>\n",
       "      <td>375562258.20</td>\n",
       "      <td>2584782324.00</td>\n",
       "      <td>544280086.70</td>\n",
       "      <td>2209712746.90</td>\n",
       "      <td>1730614443.40</td>\n",
       "    </tr>\n",
       "    <tr>\n",
       "      <th>2015</th>\n",
       "      <td>379054578.37</td>\n",
       "      <td>13616082008.91</td>\n",
       "      <td>11368120870.27</td>\n",
       "      <td>5432308367.44</td>\n",
       "      <td>8701799371.41</td>\n",
       "    </tr>\n",
       "    <tr>\n",
       "      <th>2016</th>\n",
       "      <td>150228848.67</td>\n",
       "      <td>12204446524.39</td>\n",
       "      <td>16664548541.74</td>\n",
       "      <td>6793929818.87</td>\n",
       "      <td>12053146008.24</td>\n",
       "    </tr>\n",
       "    <tr>\n",
       "      <th>2017</th>\n",
       "      <td>229598930.00</td>\n",
       "      <td>7851427660.67</td>\n",
       "      <td>18745042900.06</td>\n",
       "      <td>9651495581.02</td>\n",
       "      <td>12086142145.76</td>\n",
       "    </tr>\n",
       "    <tr>\n",
       "      <th>2018</th>\n",
       "      <td>32449002.11</td>\n",
       "      <td>14267291660.69</td>\n",
       "      <td>16503602346.96</td>\n",
       "      <td>8760085501.15</td>\n",
       "      <td>10104974623.41</td>\n",
       "    </tr>\n",
       "    <tr>\n",
       "      <th>2019</th>\n",
       "      <td>17746066.82</td>\n",
       "      <td>12680198773.67</td>\n",
       "      <td>12753418984.60</td>\n",
       "      <td>10121796303.64</td>\n",
       "      <td>12852548650.86</td>\n",
       "    </tr>\n",
       "  </tbody>\n",
       "</table>\n",
       "</div>"
      ],
      "text/plain": [
       "age_restriction  «0+» - для любой зрительской аудитории  «12+» - для детей старше 12 лет  «16+» - для детей старше 16 лет  «18+» - запрещено для детей  «6+» - для детей старше 6 лет\n",
       "year_premier                                                                                                                                                                         \n",
       "2010                                         1887611.00                        120146.00                        366512.00                     54385.00                            NaN\n",
       "2011                                        13499871.00                        219891.00                        381513.00                      1040.00                         450.00\n",
       "2012                                         2266483.00                        108734.00                       3254216.00                    182580.00                     1143410.00\n",
       "2013                                         2710302.50                      20910336.50                        658069.60                   5161245.60                      359752.00\n",
       "2014                                       375562258.20                    2584782324.00                     544280086.70                2209712746.90                  1730614443.40\n",
       "2015                                       379054578.37                   13616082008.91                   11368120870.27                5432308367.44                  8701799371.41\n",
       "2016                                       150228848.67                   12204446524.39                   16664548541.74                6793929818.87                 12053146008.24\n",
       "2017                                       229598930.00                    7851427660.67                   18745042900.06                9651495581.02                 12086142145.76\n",
       "2018                                        32449002.11                   14267291660.69                   16503602346.96                8760085501.15                 10104974623.41\n",
       "2019                                        17746066.82                   12680198773.67                   12753418984.60               10121796303.64                 12852548650.86"
      ]
     },
     "execution_count": 63,
     "metadata": {},
     "output_type": "execute_result"
    }
   ],
   "source": [
    "age_table"
   ]
  },
  {
   "cell_type": "code",
   "execution_count": 64,
   "id": "9a07eea4-1a1f-45f8-968f-815d0702b473",
   "metadata": {},
   "outputs": [
    {
     "data": {
      "image/png": "[encoded data removed]",
      "text/plain": [
       "<Figure size 1080x360 with 1 Axes>"
      ]
     },
     "metadata": {
      "needs_background": "light"
     },
     "output_type": "display_data"
    }
   ],
   "source": [
    "age_table.plot(title='Сборы в зависимости от возрастных ограничений по годам', kind='line', xlim=[2015, 2019], figsize = (15,5), style = 'o-');"
   ]
  },
  {
   "cell_type": "code",
   "execution_count": 65,
   "id": "45d7becf-8ea6-4185-9261-5ec905d047ef",
   "metadata": {},
   "outputs": [
    {
     "data": {
      "text/html": [
       "<div>\n",
       "<style scoped>\n",
       "    .dataframe tbody tr th:only-of-type {\n",
       "        vertical-align: middle;\n",
       "    }\n",
       "\n",
       "    .dataframe tbody tr th {\n",
       "        vertical-align: top;\n",
       "    }\n",
       "\n",
       "    .dataframe thead th {\n",
       "        text-align: right;\n",
       "    }\n",
       "</style>\n",
       "<table border=\"1\" class=\"dataframe\">\n",
       "  <thead>\n",
       "    <tr style=\"text-align: right;\">\n",
       "      <th></th>\n",
       "      <th>box_office</th>\n",
       "    </tr>\n",
       "    <tr>\n",
       "      <th>age_restriction</th>\n",
       "      <th></th>\n",
       "    </tr>\n",
       "  </thead>\n",
       "  <tbody>\n",
       "    <tr>\n",
       "      <th>«0+» - для любой зрительской аудитории</th>\n",
       "      <td>809077425.97</td>\n",
       "    </tr>\n",
       "    <tr>\n",
       "      <th>«12+» - для детей старше 12 лет</th>\n",
       "      <td>60619446628.33</td>\n",
       "    </tr>\n",
       "    <tr>\n",
       "      <th>«16+» - для детей старше 16 лет</th>\n",
       "      <td>76034733643.63</td>\n",
       "    </tr>\n",
       "    <tr>\n",
       "      <th>«18+» - запрещено для детей</th>\n",
       "      <td>40759615572.12</td>\n",
       "    </tr>\n",
       "    <tr>\n",
       "      <th>«6+» - для детей старше 6 лет</th>\n",
       "      <td>55798610799.68</td>\n",
       "    </tr>\n",
       "  </tbody>\n",
       "</table>\n",
       "</div>"
      ],
      "text/plain": [
       "                                           box_office\n",
       "age_restriction                                      \n",
       "«0+» - для любой зрительской аудитории   809077425.97\n",
       "«12+» - для детей старше 12 лет        60619446628.33\n",
       "«16+» - для детей старше 16 лет        76034733643.63\n",
       "«18+» - запрещено для детей            40759615572.12\n",
       "«6+» - для детей старше 6 лет          55798610799.68"
      ]
     },
     "execution_count": 65,
     "metadata": {},
     "output_type": "execute_result"
    }
   ],
   "source": [
    "sum_age = data[(data['year_premier']>=2015) & (data['year_premier']<=2019)].groupby('age_restriction')['box_office'].sum().to_frame()\n",
    "sum_age"
   ]
  },
  {
   "cell_type": "code",
   "execution_count": 66,
   "id": "b34cd7dd-3b25-454b-a58d-6d76c142808a",
   "metadata": {},
   "outputs": [
    {
     "data": {
      "image/png": "[encoded data removed]",
      "text/plain": [
       "<Figure size 1080x360 with 1 Axes>"
      ]
     },
     "metadata": {
      "needs_background": "light"
     },
     "output_type": "display_data"
    }
   ],
   "source": [
    "sum_age.plot(title = 'Общие сборы для каждой возрастной категории в период с 2015 по 2019 год', kind = 'bar', figsize = (15,5));"
   ]
  },
  {
   "cell_type": "markdown",
   "id": "52342cc3-d892-4cf9-871e-5b6056ae47f2",
   "metadata": {},
   "source": [
    "Можно заметить, что:\n",
    "1. В период с 2016 по 2018 год фильмы для детей старше 16 лет собирали больше всего, в то время как фильмы с пометкой 0+ собирали в меньше всего\n",
    "2. Заметен рост сборов для аудитории 18+\n",
    "3. Присутствует обратная корреляция доходов между аудиториями 12+ и 16+. Предположу, что это связано с тем, что фильмы с 12+ получили более ужесточенные требования к рейтингу. И фильмы, которые могли быть записаны в 12 стали записываться как 16+\n",
    "4. Можно сказать что возрастное ограничение влияет на количество сборов. Возможно это зависит в целом от предпочтений человека в зависимости от возраста и загрузки жизни. Людям от 18 практически некогда ходить в кино, как и детям младше 12, которые без людей старше 18 ходить в кино не могут. Поэтому и получается, что больше всего собирают такие возрастные группы как подростки "
   ]
  },
  {
   "cell_type": "markdown",
   "id": "f0ca2aff-8e3b-4232-9ba1-8d91de0bff7c",
   "metadata": {},
   "source": [
    "## Шаг 4. Исследуйте фильмы, которые получили государственную поддержку\n",
    "На этом этапе нет конкретных инструкций и заданий — поищите интересные закономерности в данных. Посмотрите, сколько выделяют средств на поддержку кино. Проверьте, хорошо ли окупаются такие фильмы, какой у них рейтинг. "
   ]
  },
  {
   "cell_type": "markdown",
   "id": "c6fbc16e-c510-479d-8c4b-1bfb6b27a3f1",
   "metadata": {},
   "source": [
    "В данном задании я проверю:\n",
    "- каким режиссерам чаще всего оказывают государственную поддержку при съемке кино;\n",
    "- исследую долю возвратности государственных средств;\n",
    "- оценю каким жанрам отдают предпочтение при государственной поддержке;\n",
    "- какие жанры чаще всего окупаются;"
   ]
  },
  {
   "cell_type": "markdown",
   "id": "433afaa6-7752-4a9e-b55c-8a9f1986c425",
   "metadata": {},
   "source": [
    "Для начала выделим в отдельный датафрейм фильмы, которые получили государственную поддержку. А также создадим колонки, в которох будет содержаться;\n",
    "- полная сумма, выделенной поддержки\n",
    "- коэффициент возврата поддержки"
   ]
  },
  {
   "cell_type": "code",
   "execution_count": 67,
   "id": "85cba584-22d0-4e37-ae10-b87bbfe6a215",
   "metadata": {},
   "outputs": [],
   "source": [
    "data_gos_support = data.query('((refundable_support >= 0) | (nonrefundable_support>=0)) & (financing_source != \"Отсутствует\")').reset_index()\n",
    "data_gos_support['all_support'] = data_gos_support['refundable_support']+data_gos_support['nonrefundable_support']\n",
    "data_gos_support['payback_gos_support'] = ((data_gos_support['box_office']-data_gos_support['all_support'])/data_gos_support['all_support'])*100"
   ]
  },
  {
   "cell_type": "code",
   "execution_count": 68,
   "id": "206fcb32-88a8-4915-8b06-d54d0a5177b7",
   "metadata": {},
   "outputs": [
    {
     "data": {
      "text/html": [
       "<div>\n",
       "<style scoped>\n",
       "    .dataframe tbody tr th:only-of-type {\n",
       "        vertical-align: middle;\n",
       "    }\n",
       "\n",
       "    .dataframe tbody tr th {\n",
       "        vertical-align: top;\n",
       "    }\n",
       "\n",
       "    .dataframe thead th {\n",
       "        text-align: right;\n",
       "    }\n",
       "</style>\n",
       "<table border=\"1\" class=\"dataframe\">\n",
       "  <thead>\n",
       "    <tr style=\"text-align: right;\">\n",
       "      <th></th>\n",
       "      <th>index</th>\n",
       "      <th>title</th>\n",
       "      <th>puNumber</th>\n",
       "      <th>show_start_date</th>\n",
       "      <th>type</th>\n",
       "      <th>film_studio</th>\n",
       "      <th>production_country</th>\n",
       "      <th>director</th>\n",
       "      <th>producer</th>\n",
       "      <th>age_restriction</th>\n",
       "      <th>...</th>\n",
       "      <th>financing_source</th>\n",
       "      <th>ratings</th>\n",
       "      <th>genres</th>\n",
       "      <th>box_office</th>\n",
       "      <th>year_premier</th>\n",
       "      <th>main_director</th>\n",
       "      <th>main_genre</th>\n",
       "      <th>part_support</th>\n",
       "      <th>all_support</th>\n",
       "      <th>payback_gos_support</th>\n",
       "    </tr>\n",
       "  </thead>\n",
       "  <tbody>\n",
       "    <tr>\n",
       "      <th>0</th>\n",
       "      <td>1281</td>\n",
       "      <td>пока еще жива</td>\n",
       "      <td>111005313</td>\n",
       "      <td>2013-10-11 12:00:00</td>\n",
       "      <td>Художественный</td>\n",
       "      <td>ано содействия развитию кинематографии \"ангел-фильм\", ооо \"кинокомпания отражение\"</td>\n",
       "      <td>Россия</td>\n",
       "      <td>А.Атанесян</td>\n",
       "      <td>А.Атанесян, М.Бабаханов, Р.Бутко</td>\n",
       "      <td>«16+» - для детей старше 16 лет</td>\n",
       "      <td>...</td>\n",
       "      <td>Министерство культуры</td>\n",
       "      <td>8.10</td>\n",
       "      <td>драма,мелодрама</td>\n",
       "      <td>365353.60</td>\n",
       "      <td>2013</td>\n",
       "      <td>А.Атанесян</td>\n",
       "      <td>драма</td>\n",
       "      <td>33.37</td>\n",
       "      <td>26500000.00</td>\n",
       "      <td>-98.62</td>\n",
       "    </tr>\n",
       "    <tr>\n",
       "      <th>1</th>\n",
       "      <td>1448</td>\n",
       "      <td>бесславные придурки</td>\n",
       "      <td>111003314</td>\n",
       "      <td>2014-03-28 12:00:00</td>\n",
       "      <td>Художественный</td>\n",
       "      <td>ооо \"компания \"атк-студио\"</td>\n",
       "      <td>Россия</td>\n",
       "      <td>А.Якимчук</td>\n",
       "      <td>А.Тютрюмов</td>\n",
       "      <td>«12+» - для детей старше 12 лет</td>\n",
       "      <td>...</td>\n",
       "      <td>Министерство культуры</td>\n",
       "      <td>NaN</td>\n",
       "      <td>Неизвестно</td>\n",
       "      <td>28140.00</td>\n",
       "      <td>2014</td>\n",
       "      <td>А.Якимчук</td>\n",
       "      <td>Неизвестно</td>\n",
       "      <td>70.00</td>\n",
       "      <td>26000000.00</td>\n",
       "      <td>-99.89</td>\n",
       "    </tr>\n",
       "    <tr>\n",
       "      <th>2</th>\n",
       "      <td>1498</td>\n",
       "      <td>невидимки</td>\n",
       "      <td>111004213</td>\n",
       "      <td>2013-09-10 12:00:00</td>\n",
       "      <td>Художественный</td>\n",
       "      <td>ооо \"компания \"реал-дакота\"</td>\n",
       "      <td>Россия</td>\n",
       "      <td>Р.Давлетьяров, С.Комаров</td>\n",
       "      <td>Р.Давлетьяров, А.Котелевский, А.Олейников</td>\n",
       "      <td>«12+» - для детей старше 12 лет</td>\n",
       "      <td>...</td>\n",
       "      <td>Фонд кино</td>\n",
       "      <td>5.30</td>\n",
       "      <td>комедия,фантастика</td>\n",
       "      <td>19957031.50</td>\n",
       "      <td>2013</td>\n",
       "      <td>Р.Давлетьяров</td>\n",
       "      <td>комедия</td>\n",
       "      <td>61.27</td>\n",
       "      <td>107847945.00</td>\n",
       "      <td>-81.50</td>\n",
       "    </tr>\n",
       "    <tr>\n",
       "      <th>3</th>\n",
       "      <td>1524</td>\n",
       "      <td>берцы</td>\n",
       "      <td>111004314</td>\n",
       "      <td>2014-05-05 12:00:00</td>\n",
       "      <td>Художественный</td>\n",
       "      <td>ооо \"студия \"пассажир\"</td>\n",
       "      <td>Россия</td>\n",
       "      <td>Е.Миндадзе (псевдоним Катя Шагалова)</td>\n",
       "      <td>Л.Антонова</td>\n",
       "      <td>«16+» - для детей старше 16 лет</td>\n",
       "      <td>...</td>\n",
       "      <td>Министерство культуры</td>\n",
       "      <td>4.20</td>\n",
       "      <td>драма</td>\n",
       "      <td>55917.50</td>\n",
       "      <td>2014</td>\n",
       "      <td>Е.Миндадзе (псевдоним Катя Шагалова)</td>\n",
       "      <td>драма</td>\n",
       "      <td>69.01</td>\n",
       "      <td>28000000.00</td>\n",
       "      <td>-99.80</td>\n",
       "    </tr>\n",
       "    <tr>\n",
       "      <th>4</th>\n",
       "      <td>1792</td>\n",
       "      <td>братья ч</td>\n",
       "      <td>111004414</td>\n",
       "      <td>2014-04-23 12:00:00</td>\n",
       "      <td>Художественный</td>\n",
       "      <td>ооо \"студия \"пассажир\"</td>\n",
       "      <td>Россия</td>\n",
       "      <td>М.Угаров</td>\n",
       "      <td>А.Миндадзе, Л.Антонова</td>\n",
       "      <td>«16+» - для детей старше 16 лет</td>\n",
       "      <td>...</td>\n",
       "      <td>Министерство культуры</td>\n",
       "      <td>6.40</td>\n",
       "      <td>драма</td>\n",
       "      <td>232100.00</td>\n",
       "      <td>2014</td>\n",
       "      <td>М.Угаров</td>\n",
       "      <td>драма</td>\n",
       "      <td>62.48</td>\n",
       "      <td>25000000.00</td>\n",
       "      <td>-99.07</td>\n",
       "    </tr>\n",
       "    <tr>\n",
       "      <th>...</th>\n",
       "      <td>...</td>\n",
       "      <td>...</td>\n",
       "      <td>...</td>\n",
       "      <td>...</td>\n",
       "      <td>...</td>\n",
       "      <td>...</td>\n",
       "      <td>...</td>\n",
       "      <td>...</td>\n",
       "      <td>...</td>\n",
       "      <td>...</td>\n",
       "      <td>...</td>\n",
       "      <td>...</td>\n",
       "      <td>...</td>\n",
       "      <td>...</td>\n",
       "      <td>...</td>\n",
       "      <td>...</td>\n",
       "      <td>...</td>\n",
       "      <td>...</td>\n",
       "      <td>...</td>\n",
       "      <td>...</td>\n",
       "      <td>...</td>\n",
       "    </tr>\n",
       "    <tr>\n",
       "      <th>327</th>\n",
       "      <td>7464</td>\n",
       "      <td>союз спасения</td>\n",
       "      <td>111022019</td>\n",
       "      <td>2019-12-26 12:00:00</td>\n",
       "      <td>Художественный</td>\n",
       "      <td>зао \"дирекция кино\"</td>\n",
       "      <td>Россия</td>\n",
       "      <td>А.Кравчук</td>\n",
       "      <td>А.Максимов, К.Эрнст</td>\n",
       "      <td>«12+» - для детей старше 12 лет</td>\n",
       "      <td>...</td>\n",
       "      <td>Фонд кино</td>\n",
       "      <td>6.00</td>\n",
       "      <td>история,биография,драма</td>\n",
       "      <td>717703185.53</td>\n",
       "      <td>2019</td>\n",
       "      <td>А.Кравчук</td>\n",
       "      <td>история</td>\n",
       "      <td>51.02</td>\n",
       "      <td>500000000.00</td>\n",
       "      <td>43.54</td>\n",
       "    </tr>\n",
       "    <tr>\n",
       "      <th>328</th>\n",
       "      <td>7466</td>\n",
       "      <td>иван царевич и серый волк 4</td>\n",
       "      <td>114005019</td>\n",
       "      <td>2019-12-20 12:00:00</td>\n",
       "      <td>Анимационный</td>\n",
       "      <td>ооо \"студия анимационного кино \"мельница\"</td>\n",
       "      <td>Россия</td>\n",
       "      <td>Д.Шмидт, К.Феоктистов</td>\n",
       "      <td>С.Сельянов, А.Боярский</td>\n",
       "      <td>«6+» - для детей старше 6 лет</td>\n",
       "      <td>...</td>\n",
       "      <td>Фонд кино</td>\n",
       "      <td>6.70</td>\n",
       "      <td>мультфильм,приключения,семейный</td>\n",
       "      <td>501069235.00</td>\n",
       "      <td>2019</td>\n",
       "      <td>Д.Шмидт</td>\n",
       "      <td>мультфильм</td>\n",
       "      <td>52.63</td>\n",
       "      <td>100000000.00</td>\n",
       "      <td>401.07</td>\n",
       "    </tr>\n",
       "    <tr>\n",
       "      <th>329</th>\n",
       "      <td>7474</td>\n",
       "      <td>вторжение</td>\n",
       "      <td>111022519</td>\n",
       "      <td>2019-12-23 12:00:00</td>\n",
       "      <td>Художественный</td>\n",
       "      <td>ооо \"арт пикчерс студия\", ооо \"водород 2011\"</td>\n",
       "      <td>Россия</td>\n",
       "      <td>Ф.Бондарчук</td>\n",
       "      <td>Ф.Бондарчук, М.Врубель, А.Андрющенко, Д.Рудовский</td>\n",
       "      <td>«12+» - для детей старше 12 лет</td>\n",
       "      <td>...</td>\n",
       "      <td>Фонд кино</td>\n",
       "      <td>5.70</td>\n",
       "      <td>фантастика,боевик</td>\n",
       "      <td>NaN</td>\n",
       "      <td>2019</td>\n",
       "      <td>Ф.Бондарчук</td>\n",
       "      <td>фантастика</td>\n",
       "      <td>52.97</td>\n",
       "      <td>500000000.00</td>\n",
       "      <td>NaN</td>\n",
       "    </tr>\n",
       "    <tr>\n",
       "      <th>330</th>\n",
       "      <td>7476</td>\n",
       "      <td>я свободен</td>\n",
       "      <td>111023019</td>\n",
       "      <td>2019-12-26 12:00:00</td>\n",
       "      <td>Художественный</td>\n",
       "      <td>ао \"тпо \"киностудия им. м.горького\"</td>\n",
       "      <td>Россия</td>\n",
       "      <td>И.Северов</td>\n",
       "      <td>С.Зернов</td>\n",
       "      <td>«12+» - для детей старше 12 лет</td>\n",
       "      <td>...</td>\n",
       "      <td>Министерство культуры</td>\n",
       "      <td>5.90</td>\n",
       "      <td>драма</td>\n",
       "      <td>NaN</td>\n",
       "      <td>2019</td>\n",
       "      <td>И.Северов</td>\n",
       "      <td>драма</td>\n",
       "      <td>65.00</td>\n",
       "      <td>30000000.00</td>\n",
       "      <td>NaN</td>\n",
       "    </tr>\n",
       "    <tr>\n",
       "      <th>331</th>\n",
       "      <td>7478</td>\n",
       "      <td>(не)идеальный мужчина</td>\n",
       "      <td>111023119</td>\n",
       "      <td>2019-12-24 12:00:00</td>\n",
       "      <td>Художественный</td>\n",
       "      <td>ооо \"нон-стоп продакшн\"</td>\n",
       "      <td>Россия</td>\n",
       "      <td>М.Бальчюнас (псевдоним М.Вайсберг)</td>\n",
       "      <td>С.Мелькумов, А.Роднянский, М.Вайсберг, Р.Минасбекян</td>\n",
       "      <td>«12+» - для детей старше 12 лет</td>\n",
       "      <td>...</td>\n",
       "      <td>Фонд кино</td>\n",
       "      <td>4.50</td>\n",
       "      <td>комедия,фантастика,мелодрама</td>\n",
       "      <td>NaN</td>\n",
       "      <td>2019</td>\n",
       "      <td>М.Бальчюнас (псевдоним М.Вайсберг)</td>\n",
       "      <td>комедия</td>\n",
       "      <td>66.60</td>\n",
       "      <td>100000000.00</td>\n",
       "      <td>NaN</td>\n",
       "    </tr>\n",
       "  </tbody>\n",
       "</table>\n",
       "<p>332 rows × 23 columns</p>\n",
       "</div>"
      ],
      "text/plain": [
       "     index                        title   puNumber     show_start_date            type                                                                         film_studio production_country                              director                                             producer                  age_restriction  ...       financing_source  ratings                           genres   box_office  year_premier                         main_director  main_genre  part_support  all_support payback_gos_support\n",
       "0     1281                пока еще жива  111005313 2013-10-11 12:00:00  Художественный  ано содействия развитию кинематографии \"ангел-фильм\", ооо \"кинокомпания отражение\"             Россия                            А.Атанесян                     А.Атанесян, М.Бабаханов, Р.Бутко  «16+» - для детей старше 16 лет  ...  Министерство культуры     8.10                  драма,мелодрама    365353.60          2013                            А.Атанесян       драма         33.37  26500000.00              -98.62\n",
       "1     1448          бесславные придурки  111003314 2014-03-28 12:00:00  Художественный                                                          ооо \"компания \"атк-студио\"             Россия                             А.Якимчук                                           А.Тютрюмов  «12+» - для детей старше 12 лет  ...  Министерство культуры      NaN                       Неизвестно     28140.00          2014                             А.Якимчук  Неизвестно         70.00  26000000.00              -99.89\n",
       "2     1498                    невидимки  111004213 2013-09-10 12:00:00  Художественный                                                         ооо \"компания \"реал-дакота\"             Россия              Р.Давлетьяров, С.Комаров            Р.Давлетьяров, А.Котелевский, А.Олейников  «12+» - для детей старше 12 лет  ...              Фонд кино     5.30               комедия,фантастика  19957031.50          2013                         Р.Давлетьяров     комедия         61.27 107847945.00              -81.50\n",
       "3     1524                        берцы  111004314 2014-05-05 12:00:00  Художественный                                                              ооо \"студия \"пассажир\"             Россия  Е.Миндадзе (псевдоним Катя Шагалова)                                           Л.Антонова  «16+» - для детей старше 16 лет  ...  Министерство культуры     4.20                            драма     55917.50          2014  Е.Миндадзе (псевдоним Катя Шагалова)       драма         69.01  28000000.00              -99.80\n",
       "4     1792                     братья ч  111004414 2014-04-23 12:00:00  Художественный                                                              ооо \"студия \"пассажир\"             Россия                              М.Угаров                               А.Миндадзе, Л.Антонова  «16+» - для детей старше 16 лет  ...  Министерство культуры     6.40                            драма    232100.00          2014                              М.Угаров       драма         62.48  25000000.00              -99.07\n",
       "..     ...                          ...        ...                 ...             ...                                                                                 ...                ...                                   ...                                                  ...                              ...  ...                    ...      ...                              ...          ...           ...                                   ...         ...           ...          ...                 ...\n",
       "327   7464                союз спасения  111022019 2019-12-26 12:00:00  Художественный                                                                 зао \"дирекция кино\"             Россия                             А.Кравчук                                  А.Максимов, К.Эрнст  «12+» - для детей старше 12 лет  ...              Фонд кино     6.00          история,биография,драма 717703185.53          2019                             А.Кравчук     история         51.02 500000000.00               43.54\n",
       "328   7466  иван царевич и серый волк 4  114005019 2019-12-20 12:00:00    Анимационный                                           ооо \"студия анимационного кино \"мельница\"             Россия                 Д.Шмидт, К.Феоктистов                               С.Сельянов, А.Боярский    «6+» - для детей старше 6 лет  ...              Фонд кино     6.70  мультфильм,приключения,семейный 501069235.00          2019                               Д.Шмидт  мультфильм         52.63 100000000.00              401.07\n",
       "329   7474                    вторжение  111022519 2019-12-23 12:00:00  Художественный                                        ооо \"арт пикчерс студия\", ооо \"водород 2011\"             Россия                           Ф.Бондарчук    Ф.Бондарчук, М.Врубель, А.Андрющенко, Д.Рудовский  «12+» - для детей старше 12 лет  ...              Фонд кино     5.70                фантастика,боевик          NaN          2019                           Ф.Бондарчук  фантастика         52.97 500000000.00                 NaN\n",
       "330   7476                   я свободен  111023019 2019-12-26 12:00:00  Художественный                                                 ао \"тпо \"киностудия им. м.горького\"             Россия                             И.Северов                                             С.Зернов  «12+» - для детей старше 12 лет  ...  Министерство культуры     5.90                            драма          NaN          2019                             И.Северов       драма         65.00  30000000.00                 NaN\n",
       "331   7478        (не)идеальный мужчина  111023119 2019-12-24 12:00:00  Художественный                                                             ооо \"нон-стоп продакшн\"             Россия    М.Бальчюнас (псевдоним М.Вайсберг)  С.Мелькумов, А.Роднянский, М.Вайсберг, Р.Минасбекян  «12+» - для детей старше 12 лет  ...              Фонд кино     4.50     комедия,фантастика,мелодрама          NaN          2019    М.Бальчюнас (псевдоним М.Вайсберг)     комедия         66.60 100000000.00                 NaN\n",
       "\n",
       "[332 rows x 23 columns]"
      ]
     },
     "execution_count": 68,
     "metadata": {},
     "output_type": "execute_result"
    }
   ],
   "source": [
    "data_gos_support"
   ]
  },
  {
   "cell_type": "markdown",
   "id": "4c334e65-10ee-4c5a-948e-518d5eaa060e",
   "metadata": {},
   "source": [
    "Оценим для начала сколько выделяют средств на поддержку кино:"
   ]
  },
  {
   "cell_type": "code",
   "execution_count": 69,
   "id": "927207b9-50ac-4ec3-8815-5f6b835a5155",
   "metadata": {},
   "outputs": [],
   "source": [
    "sns.set(rc={\"figure.figsize\":( 10 , 6 )})"
   ]
  },
  {
   "cell_type": "code",
   "execution_count": 70,
   "id": "392d93ea-35bf-4dce-93a1-9ea1851f6afd",
   "metadata": {},
   "outputs": [
    {
     "data": {
      "image/png": "[encoded data removed]",
      "text/plain": [
       "<Figure size 720x432 with 1 Axes>"
      ]
     },
     "metadata": {},
     "output_type": "display_data"
    }
   ],
   "source": [
    "sns.histplot(data=data_gos_support, x= 'all_support').set(title = 'Распределение суммы гос.поддержки фильмов');"
   ]
  },
  {
   "cell_type": "code",
   "execution_count": 71,
   "id": "193889dd-fc6f-4426-9477-702036a36bcd",
   "metadata": {},
   "outputs": [
    {
     "data": {
      "image/png": "[encoded data removed]",
      "text/plain": [
       "<Figure size 720x432 with 1 Axes>"
      ]
     },
     "metadata": {},
     "output_type": "display_data"
    }
   ],
   "source": [
    "sns.ecdfplot(data=data_gos_support, x= 'all_support', hue = 'year_premier', palette = 'deep').set(title = 'Распределение суммы гос.поддержки фильмов по годам');"
   ]
  },
  {
   "cell_type": "code",
   "execution_count": 72,
   "id": "8d7c9f34-9979-46e4-a852-2329df3c22dc",
   "metadata": {},
   "outputs": [
    {
     "data": {
      "text/html": [
       "<style  type=\"text/css\" >\n",
       "#T_7954c_row0_col0,#T_7954c_row2_col2,#T_7954c_row4_col1,#T_7954c_row6_col3{\n",
       "            background-color:  #006837;\n",
       "            color:  #f1f1f1;\n",
       "        }#T_7954c_row0_col1{\n",
       "            background-color:  #87cb67;\n",
       "            color:  #000000;\n",
       "        }#T_7954c_row0_col2,#T_7954c_row0_col3,#T_7954c_row1_col0,#T_7954c_row1_col1{\n",
       "            background-color:  #a50026;\n",
       "            color:  #f1f1f1;\n",
       "        }#T_7954c_row1_col2{\n",
       "            background-color:  #ea5739;\n",
       "            color:  #000000;\n",
       "        }#T_7954c_row1_col3{\n",
       "            background-color:  #d22b27;\n",
       "            color:  #f1f1f1;\n",
       "        }#T_7954c_row2_col0{\n",
       "            background-color:  #c41e27;\n",
       "            color:  #f1f1f1;\n",
       "        }#T_7954c_row2_col1{\n",
       "            background-color:  #e95538;\n",
       "            color:  #000000;\n",
       "        }#T_7954c_row2_col3{\n",
       "            background-color:  #8ccd67;\n",
       "            color:  #000000;\n",
       "        }#T_7954c_row3_col0{\n",
       "            background-color:  #f16640;\n",
       "            color:  #000000;\n",
       "        }#T_7954c_row3_col1{\n",
       "            background-color:  #4eb15d;\n",
       "            color:  #000000;\n",
       "        }#T_7954c_row3_col2{\n",
       "            background-color:  #a5d86a;\n",
       "            color:  #000000;\n",
       "        }#T_7954c_row3_col3{\n",
       "            background-color:  #2da155;\n",
       "            color:  #000000;\n",
       "        }#T_7954c_row4_col0,#T_7954c_row6_col0{\n",
       "            background-color:  #fdb567;\n",
       "            color:  #000000;\n",
       "        }#T_7954c_row4_col2{\n",
       "            background-color:  #fff3ac;\n",
       "            color:  #000000;\n",
       "        }#T_7954c_row4_col3{\n",
       "            background-color:  #c5e67e;\n",
       "            color:  #000000;\n",
       "        }#T_7954c_row5_col0{\n",
       "            background-color:  #feec9f;\n",
       "            color:  #000000;\n",
       "        }#T_7954c_row5_col1{\n",
       "            background-color:  #d1ec86;\n",
       "            color:  #000000;\n",
       "        }#T_7954c_row5_col2{\n",
       "            background-color:  #c3e67d;\n",
       "            color:  #000000;\n",
       "        }#T_7954c_row5_col3{\n",
       "            background-color:  #a9da6c;\n",
       "            color:  #000000;\n",
       "        }#T_7954c_row6_col1{\n",
       "            background-color:  #57b65f;\n",
       "            color:  #000000;\n",
       "        }#T_7954c_row6_col2{\n",
       "            background-color:  #5db961;\n",
       "            color:  #000000;\n",
       "        }</style><table id=\"T_7954c_\" ><thead>    <tr>        <th class=\"blank level0\" ></th>        <th class=\"col_heading level0 col0\" >median</th>        <th class=\"col_heading level0 col1\" >mean</th>        <th class=\"col_heading level0 col2\" >count</th>        <th class=\"col_heading level0 col3\" >sum</th>    </tr>    <tr>        <th class=\"index_name level0\" >year_premier</th>        <th class=\"blank\" ></th>        <th class=\"blank\" ></th>        <th class=\"blank\" ></th>        <th class=\"blank\" ></th>    </tr></thead><tbody>\n",
       "                <tr>\n",
       "                        <th id=\"T_7954c_level0_row0\" class=\"row_heading level0 row0\" >2013</th>\n",
       "                        <td id=\"T_7954c_row0_col0\" class=\"data row0 col0\" >67173972.500000</td>\n",
       "                        <td id=\"T_7954c_row0_col1\" class=\"data row0 col1\" >67173972.500000</td>\n",
       "                        <td id=\"T_7954c_row0_col2\" class=\"data row0 col2\" >2</td>\n",
       "                        <td id=\"T_7954c_row0_col3\" class=\"data row0 col3\" >134347945.000000</td>\n",
       "            </tr>\n",
       "            <tr>\n",
       "                        <th id=\"T_7954c_level0_row1\" class=\"row_heading level0 row1\" >2014</th>\n",
       "                        <td id=\"T_7954c_row1_col0\" class=\"data row1 col0\" >27500000.000000</td>\n",
       "                        <td id=\"T_7954c_row1_col1\" class=\"data row1 col1\" >35750143.687500</td>\n",
       "                        <td id=\"T_7954c_row1_col2\" class=\"data row1 col2\" >16</td>\n",
       "                        <td id=\"T_7954c_row1_col3\" class=\"data row1 col3\" >572002299.000000</td>\n",
       "            </tr>\n",
       "            <tr>\n",
       "                        <th id=\"T_7954c_level0_row2\" class=\"row_heading level0 row2\" >2015</th>\n",
       "                        <td id=\"T_7954c_row2_col0\" class=\"data row2 col0\" >30000000.000000</td>\n",
       "                        <td id=\"T_7954c_row2_col1\" class=\"data row2 col1\" >42514435.569767</td>\n",
       "                        <td id=\"T_7954c_row2_col2\" class=\"data row2 col2\" >86</td>\n",
       "                        <td id=\"T_7954c_row2_col3\" class=\"data row2 col3\" >3656241459.000000</td>\n",
       "            </tr>\n",
       "            <tr>\n",
       "                        <th id=\"T_7954c_level0_row3\" class=\"row_heading level0 row3\" >2016</th>\n",
       "                        <td id=\"T_7954c_row3_col0\" class=\"data row3 col0\" >35000000.000000</td>\n",
       "                        <td id=\"T_7954c_row3_col1\" class=\"data row3 col1\" >70543532.491803</td>\n",
       "                        <td id=\"T_7954c_row3_col2\" class=\"data row3 col2\" >61</td>\n",
       "                        <td id=\"T_7954c_row3_col3\" class=\"data row3 col3\" >4303155482.000000</td>\n",
       "            </tr>\n",
       "            <tr>\n",
       "                        <th id=\"T_7954c_level0_row4\" class=\"row_heading level0 row4\" >2017</th>\n",
       "                        <td id=\"T_7954c_row4_col0\" class=\"data row4 col0\" >40000000.000000</td>\n",
       "                        <td id=\"T_7954c_row4_col1\" class=\"data row4 col1\" >77657845.414634</td>\n",
       "                        <td id=\"T_7954c_row4_col2\" class=\"data row4 col2\" >41</td>\n",
       "                        <td id=\"T_7954c_row4_col3\" class=\"data row4 col3\" >3183971662.000000</td>\n",
       "            </tr>\n",
       "            <tr>\n",
       "                        <th id=\"T_7954c_level0_row5\" class=\"row_heading level0 row5\" >2018</th>\n",
       "                        <td id=\"T_7954c_row5_col0\" class=\"data row5 col0\" >45000000.000000</td>\n",
       "                        <td id=\"T_7954c_row5_col1\" class=\"data row5 col1\" >61553026.160714</td>\n",
       "                        <td id=\"T_7954c_row5_col2\" class=\"data row5 col2\" >56</td>\n",
       "                        <td id=\"T_7954c_row5_col3\" class=\"data row5 col3\" >3446969465.000000</td>\n",
       "            </tr>\n",
       "            <tr>\n",
       "                        <th id=\"T_7954c_level0_row6\" class=\"row_heading level0 row6\" >2019</th>\n",
       "                        <td id=\"T_7954c_row6_col0\" class=\"data row6 col0\" >40000000.000000</td>\n",
       "                        <td id=\"T_7954c_row6_col1\" class=\"data row6 col1\" >70057142.857143</td>\n",
       "                        <td id=\"T_7954c_row6_col2\" class=\"data row6 col2\" >70</td>\n",
       "                        <td id=\"T_7954c_row6_col3\" class=\"data row6 col3\" >4904000000.000000</td>\n",
       "            </tr>\n",
       "    </tbody></table>"
      ],
      "text/plain": [
       "<pandas.io.formats.style.Styler at 0x7f894907cee0>"
      ]
     },
     "execution_count": 72,
     "metadata": {},
     "output_type": "execute_result"
    }
   ],
   "source": [
    "data_gos_support.groupby('year_premier')['all_support'].agg(['median', 'mean', 'count', 'sum']).style.background_gradient(cmap='RdYlGn')"
   ]
  },
  {
   "cell_type": "markdown",
   "id": "a1f44e64-61ac-4c4a-95aa-159e804661a9",
   "metadata": {},
   "source": [
    "Можно заметить, что:\n",
    "1. Пиковые годы в которые среднем выделялось больше всего средств - это 2016, 2017 год. \n",
    "2. Количество фильмов с государственной поддержкой резко выресло с 2013 до 2015 с 2 до 86 соответственно, а затем начало снижаться и выпускалось от 40 до 70 фильмов в год\n",
    "3. Судя по распределниям, 80% фильмов получали не более 100млн поддержки. 50% не более 35млн\n",
    "4. Наибольший объем поддержки по высокобюджетным фильмам пришелся на 2016, 2017, 2019 года\n",
    "5. Суммарный объем инвестиций в поддержку кино стремительно рос с 2013 до 2016 с 134млн до 4,3млрд, затем можно увидеть спад к 2017 году до 3,1млрд, но к 2019 поддержка государством кино достигла пикового максимума в 4,9млрд"
   ]
  },
  {
   "cell_type": "markdown",
   "id": "d06fd780-b0d6-441f-9dfa-50e2a1c26fca",
   "metadata": {},
   "source": [
    "Оценим окупаемость государственной поддержки фильмов:"
   ]
  },
  {
   "cell_type": "code",
   "execution_count": 73,
   "id": "9f83957f-8fad-479b-9b3c-63fb3e75718b",
   "metadata": {},
   "outputs": [
    {
     "data": {
      "image/png": "[encoded data removed]",
      "text/plain": [
       "<Figure size 720x432 with 1 Axes>"
      ]
     },
     "metadata": {},
     "output_type": "display_data"
    }
   ],
   "source": [
    "sns.ecdfplot(data=data_gos_support, x= 'payback_gos_support', hue = 'year_premier', palette = 'deep').set(title = 'Распределение окупаемости по годам фильмов с гос. поддержкой');"
   ]
  },
  {
   "cell_type": "code",
   "execution_count": 74,
   "id": "d14ada0a-4ba2-4b78-b1f7-6edfbf641e44",
   "metadata": {},
   "outputs": [
    {
     "data": {
      "text/html": [
       "<style  type=\"text/css\" >\n",
       "#T_6b472_row0_col0,#T_6b472_row0_col1,#T_6b472_row0_col3,#T_6b472_row2_col2{\n",
       "            background-color:  #a50026;\n",
       "            color:  #f1f1f1;\n",
       "        }#T_6b472_row0_col2,#T_6b472_row4_col0,#T_6b472_row4_col1,#T_6b472_row6_col3{\n",
       "            background-color:  #006837;\n",
       "            color:  #f1f1f1;\n",
       "        }#T_6b472_row1_col0{\n",
       "            background-color:  #be1827;\n",
       "            color:  #f1f1f1;\n",
       "        }#T_6b472_row1_col1{\n",
       "            background-color:  #fffdbc;\n",
       "            color:  #000000;\n",
       "        }#T_6b472_row1_col2{\n",
       "            background-color:  #ca2427;\n",
       "            color:  #f1f1f1;\n",
       "        }#T_6b472_row1_col3{\n",
       "            background-color:  #f98e52;\n",
       "            color:  #000000;\n",
       "        }#T_6b472_row2_col0{\n",
       "            background-color:  #c62027;\n",
       "            color:  #f1f1f1;\n",
       "        }#T_6b472_row2_col1{\n",
       "            background-color:  #fee797;\n",
       "            color:  #000000;\n",
       "        }#T_6b472_row2_col3{\n",
       "            background-color:  #fdc372;\n",
       "            color:  #000000;\n",
       "        }#T_6b472_row3_col0{\n",
       "            background-color:  #ef633f;\n",
       "            color:  #000000;\n",
       "        }#T_6b472_row3_col1{\n",
       "            background-color:  #fede89;\n",
       "            color:  #000000;\n",
       "        }#T_6b472_row3_col2{\n",
       "            background-color:  #a90426;\n",
       "            color:  #f1f1f1;\n",
       "        }#T_6b472_row3_col3{\n",
       "            background-color:  #f7814c;\n",
       "            color:  #000000;\n",
       "        }#T_6b472_row4_col2{\n",
       "            background-color:  #fffbb8;\n",
       "            color:  #000000;\n",
       "        }#T_6b472_row4_col3,#T_6b472_row5_col3{\n",
       "            background-color:  #fee28f;\n",
       "            color:  #000000;\n",
       "        }#T_6b472_row5_col0{\n",
       "            background-color:  #e6f59d;\n",
       "            color:  #000000;\n",
       "        }#T_6b472_row5_col1{\n",
       "            background-color:  #7ac665;\n",
       "            color:  #000000;\n",
       "        }#T_6b472_row5_col2{\n",
       "            background-color:  #e0422f;\n",
       "            color:  #f1f1f1;\n",
       "        }#T_6b472_row6_col0{\n",
       "            background-color:  #fdb163;\n",
       "            color:  #000000;\n",
       "        }#T_6b472_row6_col1{\n",
       "            background-color:  #addc6f;\n",
       "            color:  #000000;\n",
       "        }#T_6b472_row6_col2{\n",
       "            background-color:  #ee613e;\n",
       "            color:  #000000;\n",
       "        }</style><table id=\"T_6b472_\" ><thead>    <tr>        <th class=\"blank level0\" ></th>        <th class=\"col_heading level0 col0\" >median</th>        <th class=\"col_heading level0 col1\" >mean</th>        <th class=\"col_heading level0 col2\" >min</th>        <th class=\"col_heading level0 col3\" >max</th>    </tr>    <tr>        <th class=\"index_name level0\" >year_premier</th>        <th class=\"blank\" ></th>        <th class=\"blank\" ></th>        <th class=\"blank\" ></th>        <th class=\"blank\" ></th>    </tr></thead><tbody>\n",
       "                <tr>\n",
       "                        <th id=\"T_6b472_level0_row0\" class=\"row_heading level0 row0\" >2013</th>\n",
       "                        <td id=\"T_6b472_row0_col0\" class=\"data row0 col0\" >-90.058261</td>\n",
       "                        <td id=\"T_6b472_row0_col1\" class=\"data row0 col1\" >-90.058261</td>\n",
       "                        <td id=\"T_6b472_row0_col2\" class=\"data row0 col2\" >-98.621307</td>\n",
       "                        <td id=\"T_6b472_row0_col3\" class=\"data row0 col3\" >-81.495214</td>\n",
       "            </tr>\n",
       "            <tr>\n",
       "                        <th id=\"T_6b472_level0_row1\" class=\"row_heading level0 row1\" >2014</th>\n",
       "                        <td id=\"T_6b472_row1_col0\" class=\"data row1 col0\" >-83.702547</td>\n",
       "                        <td id=\"T_6b472_row1_col1\" class=\"data row1 col1\" >56.370872</td>\n",
       "                        <td id=\"T_6b472_row1_col2\" class=\"data row1 col2\" >-99.891769</td>\n",
       "                        <td id=\"T_6b472_row1_col3\" class=\"data row1 col3\" >1211.148754</td>\n",
       "            </tr>\n",
       "            <tr>\n",
       "                        <th id=\"T_6b472_level0_row2\" class=\"row_heading level0 row2\" >2015</th>\n",
       "                        <td id=\"T_6b472_row2_col0\" class=\"data row2 col0\" >-81.651666</td>\n",
       "                        <td id=\"T_6b472_row2_col1\" class=\"data row2 col1\" >35.405988</td>\n",
       "                        <td id=\"T_6b472_row2_col2\" class=\"data row2 col2\" >-99.995571</td>\n",
       "                        <td id=\"T_6b472_row2_col3\" class=\"data row2 col3\" >1662.320540</td>\n",
       "            </tr>\n",
       "            <tr>\n",
       "                        <th id=\"T_6b472_level0_row3\" class=\"row_heading level0 row3\" >2016</th>\n",
       "                        <td id=\"T_6b472_row3_col0\" class=\"data row3 col0\" >-67.575556</td>\n",
       "                        <td id=\"T_6b472_row3_col1\" class=\"data row3 col1\" >27.879903</td>\n",
       "                        <td id=\"T_6b472_row3_col2\" class=\"data row3 col2\" >-99.982000</td>\n",
       "                        <td id=\"T_6b472_row3_col3\" class=\"data row3 col3\" >1112.076016</td>\n",
       "            </tr>\n",
       "            <tr>\n",
       "                        <th id=\"T_6b472_level0_row4\" class=\"row_heading level0 row4\" >2017</th>\n",
       "                        <td id=\"T_6b472_row4_col0\" class=\"data row4 col0\" >31.020127</td>\n",
       "                        <td id=\"T_6b472_row4_col1\" class=\"data row4 col1\" >206.253082</td>\n",
       "                        <td id=\"T_6b472_row4_col2\" class=\"data row4 col2\" >-99.325952</td>\n",
       "                        <td id=\"T_6b472_row4_col3\" class=\"data row4 col3\" >2011.890836</td>\n",
       "            </tr>\n",
       "            <tr>\n",
       "                        <th id=\"T_6b472_level0_row5\" class=\"row_heading level0 row5\" >2018</th>\n",
       "                        <td id=\"T_6b472_row5_col0\" class=\"data row5 col0\" >-21.555969</td>\n",
       "                        <td id=\"T_6b472_row5_col1\" class=\"data row5 col1\" >137.055949</td>\n",
       "                        <td id=\"T_6b472_row5_col2\" class=\"data row5 col2\" >-99.814383</td>\n",
       "                        <td id=\"T_6b472_row5_col3\" class=\"data row5 col3\" >2011.540889</td>\n",
       "            </tr>\n",
       "            <tr>\n",
       "                        <th id=\"T_6b472_level0_row6\" class=\"row_heading level0 row6\" >2019</th>\n",
       "                        <td id=\"T_6b472_row6_col0\" class=\"data row6 col0\" >-53.130478</td>\n",
       "                        <td id=\"T_6b472_row6_col1\" class=\"data row6 col1\" >113.076477</td>\n",
       "                        <td id=\"T_6b472_row6_col2\" class=\"data row6 col2\" >-99.747167</td>\n",
       "                        <td id=\"T_6b472_row6_col3\" class=\"data row6 col3\" >5022.614485</td>\n",
       "            </tr>\n",
       "    </tbody></table>"
      ],
      "text/plain": [
       "<pandas.io.formats.style.Styler at 0x7f8949159790>"
      ]
     },
     "execution_count": 74,
     "metadata": {},
     "output_type": "execute_result"
    }
   ],
   "source": [
    "data_gos_support.groupby('year_premier')['payback_gos_support'].agg(['median', 'mean', 'min', 'max']).style.background_gradient(cmap='RdYlGn')"
   ]
  },
  {
   "cell_type": "markdown",
   "id": "2df0b90d-8092-491b-905b-2f3f6dd20791",
   "metadata": {},
   "source": [
    "Можно заметить, что;\n",
    "1. 60% фильмов, не выходят в 0. В некоторых годах, не выходят в 0 даже 70%  фильмов\n",
    "2. Самым успешным можно считать 2017 год, у которого окупились больше 50% фильмов\n",
    "3. Однако самым успешным можно назвать кино, которое вышло в 2019 году. А именно фильм \"Холоп\""
   ]
  },
  {
   "cell_type": "markdown",
   "id": "591cda5b-8ee1-4b9d-8201-ab889a504225",
   "metadata": {},
   "source": [
    "Оценим, какой рейтинг имеют фильмы с каким процентом окупаемости:"
   ]
  },
  {
   "cell_type": "code",
   "execution_count": 75,
   "id": "82f1ffc2-7dc8-4ede-b165-95312aacd2f3",
   "metadata": {},
   "outputs": [
    {
     "name": "stderr",
     "output_type": "stream",
     "text": [
      "/opt/conda/lib/python3.9/site-packages/pandas/core/arraylike.py:358: RuntimeWarning: invalid value encountered in log\n",
      "  result = getattr(ufunc, method)(*inputs, **kwargs)\n"
     ]
    }
   ],
   "source": [
    "data_gos_support['payback_gos_support_log'] = np.log(data_gos_support['payback_gos_support'])"
   ]
  },
  {
   "cell_type": "code",
   "execution_count": 76,
   "id": "f4a62d75-dfc7-4c5f-a07e-51b08658b5bd",
   "metadata": {},
   "outputs": [
    {
     "name": "stderr",
     "output_type": "stream",
     "text": [
      "*c* argument looks like a single numeric RGB or RGBA sequence, which should be avoided as value-mapping will have precedence in case its length matches with *x* & *y*.  Please use the *color* keyword-argument or provide a 2-D array with a single row if you intend to specify the same RGB or RGBA value for all points.\n"
     ]
    },
    {
     "data": {
      "image/png": "[encoded data removed]",
      "text/plain": [
       "<Figure size 360x360 with 1 Axes>"
      ]
     },
     "metadata": {},
     "output_type": "display_data"
    }
   ],
   "source": [
    "data_gos_support.plot(x='payback_gos_support_log', y='ratings', kind = 'scatter', figsize = (5,5), edgecolor='black', title = 'Корреляция рейтинга и окупаемости');"
   ]
  },
  {
   "cell_type": "code",
   "execution_count": 77,
   "id": "d267b8f1-0086-47c9-981f-872afad0bb4c",
   "metadata": {},
   "outputs": [
    {
     "data": {
      "text/html": [
       "<div>\n",
       "<style scoped>\n",
       "    .dataframe tbody tr th:only-of-type {\n",
       "        vertical-align: middle;\n",
       "    }\n",
       "\n",
       "    .dataframe tbody tr th {\n",
       "        vertical-align: top;\n",
       "    }\n",
       "\n",
       "    .dataframe thead th {\n",
       "        text-align: right;\n",
       "    }\n",
       "</style>\n",
       "<table border=\"1\" class=\"dataframe\">\n",
       "  <thead>\n",
       "    <tr style=\"text-align: right;\">\n",
       "      <th></th>\n",
       "      <th>payback_gos_support</th>\n",
       "      <th>ratings</th>\n",
       "    </tr>\n",
       "  </thead>\n",
       "  <tbody>\n",
       "    <tr>\n",
       "      <th>payback_gos_support</th>\n",
       "      <td>1.00</td>\n",
       "      <td>0.06</td>\n",
       "    </tr>\n",
       "    <tr>\n",
       "      <th>ratings</th>\n",
       "      <td>0.06</td>\n",
       "      <td>1.00</td>\n",
       "    </tr>\n",
       "  </tbody>\n",
       "</table>\n",
       "</div>"
      ],
      "text/plain": [
       "                     payback_gos_support  ratings\n",
       "payback_gos_support                 1.00     0.06\n",
       "ratings                             0.06     1.00"
      ]
     },
     "execution_count": 77,
     "metadata": {},
     "output_type": "execute_result"
    }
   ],
   "source": [
    "data_gos_support[['payback_gos_support','ratings']].corr()"
   ]
  },
  {
   "cell_type": "markdown",
   "id": "80c03abb-2a51-4f2a-9686-0571bcbbc8e9",
   "metadata": {},
   "source": [
    "Исходя из этого графика и таблицы, можно сделать вывод, что рейтинги фильма никак не влияют на окупаемость"
   ]
  },
  {
   "cell_type": "code",
   "execution_count": 78,
   "id": "a5c98ca8-f30d-4f6a-9000-0d14524a3865",
   "metadata": {},
   "outputs": [
    {
     "data": {
      "image/png": "[encoded data removed]",
      "text/plain": [
       "<Figure size 720x432 with 1 Axes>"
      ]
     },
     "metadata": {},
     "output_type": "display_data"
    }
   ],
   "source": [
    "sns.ecdfplot(data=data_gos_support[data_gos_support['payback_gos_support']>=0], x= 'ratings', hue = 'year_premier', palette = 'deep').set(title='Распределение рейтингов по годам у окупаемых фильмов с гос.поддержкой');"
   ]
  },
  {
   "cell_type": "code",
   "execution_count": 79,
   "id": "28dacc14-0ce6-4c91-9b19-0e53c3cd34ce",
   "metadata": {},
   "outputs": [
    {
     "data": {
      "text/html": [
       "<style  type=\"text/css\" >\n",
       "#T_3248b_row0_col0{\n",
       "            background-color:  #f46d43;\n",
       "            color:  #000000;\n",
       "        }#T_3248b_row0_col1,#T_3248b_row0_col3,#T_3248b_row0_col4,#T_3248b_row1_col2,#T_3248b_row3_col0{\n",
       "            background-color:  #a50026;\n",
       "            color:  #f1f1f1;\n",
       "        }#T_3248b_row0_col2{\n",
       "            background-color:  #feeb9d;\n",
       "            color:  #000000;\n",
       "        }#T_3248b_row1_col0,#T_3248b_row1_col1{\n",
       "            background-color:  #a5d86a;\n",
       "            color:  #000000;\n",
       "        }#T_3248b_row1_col3,#T_3248b_row2_col3,#T_3248b_row4_col4,#T_3248b_row5_col0,#T_3248b_row5_col1,#T_3248b_row5_col2{\n",
       "            background-color:  #006837;\n",
       "            color:  #f1f1f1;\n",
       "        }#T_3248b_row1_col4{\n",
       "            background-color:  #0c7f43;\n",
       "            color:  #f1f1f1;\n",
       "        }#T_3248b_row2_col0,#T_3248b_row5_col4{\n",
       "            background-color:  #66bd63;\n",
       "            color:  #000000;\n",
       "        }#T_3248b_row2_col1{\n",
       "            background-color:  #fed27f;\n",
       "            color:  #000000;\n",
       "        }#T_3248b_row2_col2{\n",
       "            background-color:  #e0422f;\n",
       "            color:  #f1f1f1;\n",
       "        }#T_3248b_row2_col4{\n",
       "            background-color:  #84ca66;\n",
       "            color:  #000000;\n",
       "        }#T_3248b_row3_col1{\n",
       "            background-color:  #fec877;\n",
       "            color:  #000000;\n",
       "        }#T_3248b_row3_col2{\n",
       "            background-color:  #bb1526;\n",
       "            color:  #f1f1f1;\n",
       "        }#T_3248b_row3_col3{\n",
       "            background-color:  #e0f295;\n",
       "            color:  #000000;\n",
       "        }#T_3248b_row3_col4{\n",
       "            background-color:  #3faa59;\n",
       "            color:  #000000;\n",
       "        }#T_3248b_row4_col0{\n",
       "            background-color:  #fee08b;\n",
       "            color:  #000000;\n",
       "        }#T_3248b_row4_col1{\n",
       "            background-color:  #fdc372;\n",
       "            color:  #000000;\n",
       "        }#T_3248b_row4_col2{\n",
       "            background-color:  #fff8b4;\n",
       "            color:  #000000;\n",
       "        }#T_3248b_row4_col3{\n",
       "            background-color:  #e75337;\n",
       "            color:  #000000;\n",
       "        }#T_3248b_row5_col3{\n",
       "            background-color:  #45ad5b;\n",
       "            color:  #000000;\n",
       "        }</style><table id=\"T_3248b_\" ><thead>    <tr>        <th class=\"blank level0\" ></th>        <th class=\"col_heading level0 col0\" >median</th>        <th class=\"col_heading level0 col1\" >mean</th>        <th class=\"col_heading level0 col2\" >min</th>        <th class=\"col_heading level0 col3\" >max</th>        <th class=\"col_heading level0 col4\" >count</th>    </tr>    <tr>        <th class=\"index_name level0\" >year_premier</th>        <th class=\"blank\" ></th>        <th class=\"blank\" ></th>        <th class=\"blank\" ></th>        <th class=\"blank\" ></th>        <th class=\"blank\" ></th>    </tr></thead><tbody>\n",
       "                <tr>\n",
       "                        <th id=\"T_3248b_level0_row0\" class=\"row_heading level0 row0\" >2014</th>\n",
       "                        <td id=\"T_3248b_row0_col0\" class=\"data row0 col0\" >6.000000</td>\n",
       "                        <td id=\"T_3248b_row0_col1\" class=\"data row0 col1\" >5.580000</td>\n",
       "                        <td id=\"T_3248b_row0_col2\" class=\"data row0 col2\" >3.800000</td>\n",
       "                        <td id=\"T_3248b_row0_col3\" class=\"data row0 col3\" >6.600000</td>\n",
       "                        <td id=\"T_3248b_row0_col4\" class=\"data row0 col4\" >5</td>\n",
       "            </tr>\n",
       "            <tr>\n",
       "                        <th id=\"T_3248b_level0_row1\" class=\"row_heading level0 row1\" >2015</th>\n",
       "                        <td id=\"T_3248b_row1_col0\" class=\"data row1 col0\" >6.250000</td>\n",
       "                        <td id=\"T_3248b_row1_col1\" class=\"data row1 col1\" >6.200000</td>\n",
       "                        <td id=\"T_3248b_row1_col2\" class=\"data row1 col2\" >2.800000</td>\n",
       "                        <td id=\"T_3248b_row1_col3\" class=\"data row1 col3\" >8.500000</td>\n",
       "                        <td id=\"T_3248b_row1_col4\" class=\"data row1 col4\" >24</td>\n",
       "            </tr>\n",
       "            <tr>\n",
       "                        <th id=\"T_3248b_level0_row2\" class=\"row_heading level0 row2\" >2016</th>\n",
       "                        <td id=\"T_3248b_row2_col0\" class=\"data row2 col0\" >6.300000</td>\n",
       "                        <td id=\"T_3248b_row2_col1\" class=\"data row2 col1\" >5.910000</td>\n",
       "                        <td id=\"T_3248b_row2_col2\" class=\"data row2 col2\" >3.100000</td>\n",
       "                        <td id=\"T_3248b_row2_col3\" class=\"data row2 col3\" >8.500000</td>\n",
       "                        <td id=\"T_3248b_row2_col4\" class=\"data row2 col4\" >20</td>\n",
       "            </tr>\n",
       "            <tr>\n",
       "                        <th id=\"T_3248b_level0_row3\" class=\"row_heading level0 row3\" >2017</th>\n",
       "                        <td id=\"T_3248b_row3_col0\" class=\"data row3 col0\" >5.900000</td>\n",
       "                        <td id=\"T_3248b_row3_col1\" class=\"data row3 col1\" >5.890909</td>\n",
       "                        <td id=\"T_3248b_row3_col2\" class=\"data row3 col2\" >2.900000</td>\n",
       "                        <td id=\"T_3248b_row3_col3\" class=\"data row3 col3\" >7.700000</td>\n",
       "                        <td id=\"T_3248b_row3_col4\" class=\"data row3 col4\" >22</td>\n",
       "            </tr>\n",
       "            <tr>\n",
       "                        <th id=\"T_3248b_level0_row4\" class=\"row_heading level0 row4\" >2018</th>\n",
       "                        <td id=\"T_3248b_row4_col0\" class=\"data row4 col0\" >6.100000</td>\n",
       "                        <td id=\"T_3248b_row4_col1\" class=\"data row4 col1\" >5.880000</td>\n",
       "                        <td id=\"T_3248b_row4_col2\" class=\"data row4 col2\" >3.900000</td>\n",
       "                        <td id=\"T_3248b_row4_col3\" class=\"data row4 col3\" >6.900000</td>\n",
       "                        <td id=\"T_3248b_row4_col4\" class=\"data row4 col4\" >25</td>\n",
       "            </tr>\n",
       "            <tr>\n",
       "                        <th id=\"T_3248b_level0_row5\" class=\"row_heading level0 row5\" >2019</th>\n",
       "                        <td id=\"T_3248b_row5_col0\" class=\"data row5 col0\" >6.400000</td>\n",
       "                        <td id=\"T_3248b_row5_col1\" class=\"data row5 col1\" >6.461905</td>\n",
       "                        <td id=\"T_3248b_row5_col2\" class=\"data row5 col2\" >5.100000</td>\n",
       "                        <td id=\"T_3248b_row5_col3\" class=\"data row5 col3\" >8.200000</td>\n",
       "                        <td id=\"T_3248b_row5_col4\" class=\"data row5 col4\" >21</td>\n",
       "            </tr>\n",
       "    </tbody></table>"
      ],
      "text/plain": [
       "<pandas.io.formats.style.Styler at 0x7f8949122850>"
      ]
     },
     "execution_count": 79,
     "metadata": {},
     "output_type": "execute_result"
    }
   ],
   "source": [
    "data_gos_support[data_gos_support['payback_gos_support']>=0].groupby('year_premier')['ratings'].agg(['median', 'mean', 'min', 'max','count']).style.background_gradient(cmap='RdYlGn')\n"
   ]
  },
  {
   "cell_type": "code",
   "execution_count": 80,
   "id": "e4006b2a-f3e5-4f90-8f59-a874e129b8df",
   "metadata": {},
   "outputs": [
    {
     "data": {
      "text/html": [
       "<div>\n",
       "<style scoped>\n",
       "    .dataframe tbody tr th:only-of-type {\n",
       "        vertical-align: middle;\n",
       "    }\n",
       "\n",
       "    .dataframe tbody tr th {\n",
       "        vertical-align: top;\n",
       "    }\n",
       "\n",
       "    .dataframe thead th {\n",
       "        text-align: right;\n",
       "    }\n",
       "</style>\n",
       "<table border=\"1\" class=\"dataframe\">\n",
       "  <thead>\n",
       "    <tr style=\"text-align: right;\">\n",
       "      <th></th>\n",
       "      <th>ratings</th>\n",
       "    </tr>\n",
       "  </thead>\n",
       "  <tbody>\n",
       "    <tr>\n",
       "      <th>median</th>\n",
       "      <td>6.20</td>\n",
       "    </tr>\n",
       "    <tr>\n",
       "      <th>mean</th>\n",
       "      <td>6.04</td>\n",
       "    </tr>\n",
       "    <tr>\n",
       "      <th>min</th>\n",
       "      <td>2.80</td>\n",
       "    </tr>\n",
       "    <tr>\n",
       "      <th>max</th>\n",
       "      <td>8.50</td>\n",
       "    </tr>\n",
       "    <tr>\n",
       "      <th>count</th>\n",
       "      <td>117.00</td>\n",
       "    </tr>\n",
       "  </tbody>\n",
       "</table>\n",
       "</div>"
      ],
      "text/plain": [
       "        ratings\n",
       "median     6.20\n",
       "mean       6.04\n",
       "min        2.80\n",
       "max        8.50\n",
       "count    117.00"
      ]
     },
     "execution_count": 80,
     "metadata": {},
     "output_type": "execute_result"
    }
   ],
   "source": [
    "data_gos_support[data_gos_support['payback_gos_support']>=0]['ratings'].agg(['median', 'mean', 'min', 'max','count']).to_frame()"
   ]
  },
  {
   "cell_type": "markdown",
   "id": "bcb6ce15-0acd-4174-af88-15d6d62dda6b",
   "metadata": {},
   "source": [
    "Можно заметить, что:\n",
    "1. В среднем рейтинг окупаемых фильмов составляет 6,04 (медиана равна 6,2)\n",
    "2. Максимум рейтинга, которые достигли окупившиеся фильмы, составляет 8,5. А именно это 2 фильма: А зори здесь тихие и Большой\n",
    "3. Распределение рейтингов достаточно равномерное вокруг среднего, что можно заметить по графику"
   ]
  },
  {
   "cell_type": "markdown",
   "id": "aee695db-635d-48eb-a2eb-ef429633d490",
   "metadata": {},
   "source": [
    "Теперь рассмотрим собственные гипотезы:\n",
    "- каким главным режиссерам чаще всего оказывают государственную поддержку при съемке кино;"
   ]
  },
  {
   "cell_type": "code",
   "execution_count": 81,
   "id": "b6f59e4f-d06c-48cd-947a-cafda0142d83",
   "metadata": {},
   "outputs": [
    {
     "data": {
      "text/html": [
       "<div>\n",
       "<style scoped>\n",
       "    .dataframe tbody tr th:only-of-type {\n",
       "        vertical-align: middle;\n",
       "    }\n",
       "\n",
       "    .dataframe tbody tr th {\n",
       "        vertical-align: top;\n",
       "    }\n",
       "\n",
       "    .dataframe thead th {\n",
       "        text-align: right;\n",
       "    }\n",
       "</style>\n",
       "<table border=\"1\" class=\"dataframe\">\n",
       "  <thead>\n",
       "    <tr style=\"text-align: right;\">\n",
       "      <th></th>\n",
       "      <th>title</th>\n",
       "    </tr>\n",
       "    <tr>\n",
       "      <th>main_director</th>\n",
       "      <th></th>\n",
       "    </tr>\n",
       "  </thead>\n",
       "  <tbody>\n",
       "    <tr>\n",
       "      <th>Р.Давлетьяров</th>\n",
       "      <td>5</td>\n",
       "    </tr>\n",
       "    <tr>\n",
       "      <th>С.Андреасян</th>\n",
       "      <td>4</td>\n",
       "    </tr>\n",
       "    <tr>\n",
       "      <th>Д.Дьяченко</th>\n",
       "      <td>4</td>\n",
       "    </tr>\n",
       "    <tr>\n",
       "      <th>А.Котт</th>\n",
       "      <td>3</td>\n",
       "    </tr>\n",
       "    <tr>\n",
       "      <th>Н.Хомерики</th>\n",
       "      <td>3</td>\n",
       "    </tr>\n",
       "    <tr>\n",
       "      <th>К.Шипенко</th>\n",
       "      <td>3</td>\n",
       "    </tr>\n",
       "    <tr>\n",
       "      <th>Д.Шмидт</th>\n",
       "      <td>3</td>\n",
       "    </tr>\n",
       "    <tr>\n",
       "      <th>А.Цицилин</th>\n",
       "      <td>3</td>\n",
       "    </tr>\n",
       "    <tr>\n",
       "      <th>А.Аксененко</th>\n",
       "      <td>3</td>\n",
       "    </tr>\n",
       "    <tr>\n",
       "      <th>С.Мокрицкий</th>\n",
       "      <td>3</td>\n",
       "    </tr>\n",
       "  </tbody>\n",
       "</table>\n",
       "</div>"
      ],
      "text/plain": [
       "               title\n",
       "main_director       \n",
       "Р.Давлетьяров      5\n",
       "С.Андреасян        4\n",
       "Д.Дьяченко         4\n",
       "А.Котт             3\n",
       "Н.Хомерики         3\n",
       "К.Шипенко          3\n",
       "Д.Шмидт            3\n",
       "А.Цицилин          3\n",
       "А.Аксененко        3\n",
       "С.Мокрицкий        3"
      ]
     },
     "execution_count": 81,
     "metadata": {},
     "output_type": "execute_result"
    }
   ],
   "source": [
    "directors = data_gos_support.groupby('main_director')['title'].count().to_frame().sort_values(by='title', ascending = False)\n",
    "directors.head(10)"
   ]
  },
  {
   "cell_type": "code",
   "execution_count": 82,
   "id": "9434be2c-cc4f-4670-a3a3-766926bfbb6a",
   "metadata": {},
   "outputs": [
    {
     "data": {
      "image/png": "[encoded data removed]",
      "text/plain": [
       "<Figure size 720x432 with 1 Axes>"
      ]
     },
     "metadata": {},
     "output_type": "display_data"
    }
   ],
   "source": [
    "sns.ecdfplot(data=directors, x= 'title', palette = 'deep').set(title='Распределение фильмов с гос.поддержкой у режиссеров');\n"
   ]
  },
  {
   "cell_type": "markdown",
   "id": "27d214ac-ec41-4d58-a1d7-858fbea43e09",
   "metadata": {},
   "source": [
    "Можно заметить, что:\n",
    "1. 80% режиссеров получают поддержку от государства только на 1 фильм. 4% режиссеров имеют 3 и более фильмов с гос.поддержкой\n",
    "2. Чаще всего поддержку от государства получали: Р.Давлетьяров, С.Андреасян и Д.Дьяченко"
   ]
  },
  {
   "cell_type": "markdown",
   "id": "edfb60c9-9831-46bc-b730-bbac0d4e14d3",
   "metadata": {},
   "source": [
    "- исследую долю возвратности государственных средств;"
   ]
  },
  {
   "cell_type": "markdown",
   "id": "8bc0106b-40a6-446c-ad4f-8a14197c4b67",
   "metadata": {},
   "source": [
    "##### Сделано выше!"
   ]
  },
  {
   "cell_type": "markdown",
   "id": "0b324a92-d7f2-4a50-afba-de84aed786ff",
   "metadata": {},
   "source": [
    "- оценю каким жанрам отдают предпочтение при государственной поддержке;\n",
    "- какие жанры чаще всего окупаются;"
   ]
  },
  {
   "cell_type": "code",
   "execution_count": 83,
   "id": "f3d43b03-00a3-4394-8b65-4af7d36f868e",
   "metadata": {},
   "outputs": [
    {
     "data": {
      "image/png": "[encoded data removed]",
      "text/plain": [
       "<Figure size 1080x360 with 1 Axes>"
      ]
     },
     "metadata": {},
     "output_type": "display_data"
    }
   ],
   "source": [
    "data_gos_support.groupby('main_genre')['main_genre'].count().sort_values(ascending = False).plot(kind = 'bar', title = 'Число фильмов по жанрам с гос.поддержкой', figsize = (15,5));"
   ]
  },
  {
   "cell_type": "code",
   "execution_count": 84,
   "id": "099ed380-73cf-445f-98e1-9bfa2d5c4d3d",
   "metadata": {},
   "outputs": [
    {
     "data": {
      "image/png": "[encoded data removed]",
      "text/plain": [
       "<Figure size 1080x360 with 1 Axes>"
      ]
     },
     "metadata": {},
     "output_type": "display_data"
    }
   ],
   "source": [
    "data_gos_support[data_gos_support['payback_gos_support']>=0].groupby('main_genre')['main_genre'].count().sort_values(ascending = False).plot(kind = 'bar', title = 'Число окупившихся фильмов по жанрам с гос.поддержкой', figsize = (15,5));"
   ]
  },
  {
   "cell_type": "code",
   "execution_count": 85,
   "id": "d066a019-e970-4afa-b081-c3d16da52670",
   "metadata": {},
   "outputs": [
    {
     "data": {
      "image/png": "[encoded data removed]",
      "text/plain": [
       "<Figure size 1080x360 with 1 Axes>"
      ]
     },
     "metadata": {},
     "output_type": "display_data"
    }
   ],
   "source": [
    "all_films_genre_df = data_gos_support.groupby('main_genre')['main_genre'].count().sort_values(ascending = False).to_frame()\n",
    "payed_genres = data_gos_support[data_gos_support['payback_gos_support']>=0].groupby('main_genre')['main_genre'].count().sort_values(ascending = False).to_frame()\n",
    "payed_genres['part_from_all_genres'] = payed_genres['main_genre']/all_films_genre_df['main_genre']*100\n",
    "payed_genres.sort_values(by = 'part_from_all_genres', ascending = False).plot(kind = 'bar', title = 'Окупаемость жанров фильмов с гос.поддержкой', figsize = (15,5), y = 'part_from_all_genres');"
   ]
  },
  {
   "cell_type": "markdown",
   "id": "7ff77c97-439e-4bfe-a869-f2c8a9ebc339",
   "metadata": {},
   "source": [
    "Можно заметить, что:\n",
    "1. Чаще всего отдают средства, направленные на поддержку фильмов, таким жанрам как: драммы - 93 фильма, комедии - 74 фильма и мультфильмы - 31 фильмы\n",
    "2. Если оценивать окупаемость жанра по количеству окувшихся фильмов, то топ-3 занимают жанры: комедия - 35 фильмов, мультфильмы - 20 фильмов и драмы - 19 фильмов. В первую очередь это связано с тем, что фильмы этих жанров просто снимают больше.\n",
    "3. Однако если оценивать показатели окупаемости жанра как процент окувшихся фильмов среди общего количества фильмов этого же жанра, то картина будет совсем другой, а именно: спорт - 100% окупаемости, история - 75% окупаемости и приключения - 75% окупаемости"
   ]
  },
  {
   "cell_type": "markdown",
   "id": "5cba65c4-42c2-4b5d-8563-5c2b8559209c",
   "metadata": {},
   "source": [
    "## Вывод"
   ]
  },
  {
   "cell_type": "markdown",
   "id": "137862a1-4a2d-44f6-9af0-9598dbd19d4c",
   "metadata": {},
   "source": [
    "Изучив полученные данные, а именно два датафрейма, было принято решение объединить их в один для удобства последующего анализа данных (на пути были решены проблемы объединения баз, такие как разница в типе данных ключевого столбца. Устранив данную ошибку, объединение прошло успешно и без потерь, что было продемонстрировано в работе). В дальнейшем были предприняты попытки по предобработке данных, чтобы в дальнешем полученные выводы были достоверны. Поэтому прежде всего были обработаны типы данных (а именно приведены к привычному виду колонка, отвечающая за дату премьеру, а также была выявлена аномалия в колонке рейтинга. Чтобы перевести ее к подходящей ей типу данных, отображение рейтинга было приведено к единому формату и в последующем изменение формата прошло успешно). После этого я приступила к обработке пропусков. Дабы не потерять данные, были заполнены все пропуски насколько это было возможно. Пустующим разве что остались колонки с бюджетом, сборами и рейтингов. Но их было невозможно заполнить поскольку это значащие параметры, сильно зависящие от других. И чтобы не исказить картинку при анализе, пропуски в этих колонках я оставила пустыми. Следующем при обработке данных стали дубликаты. В основном это коснулось категориальных значений. Чтобы убрать неявные дубликаты были предприняты успешные попытки по устранению лишних пробелов, замене знаков препинания или же их устранение (как в колонке с названием фильма). После были изучены категориальные параметры и была выявлена следующая аномалия: при наличии гос.поддержки и имеющейся информации о ее объеме, бюджет был равен 0 (однако таких строчек в базе было достаточно мало). Чтобы устранить данную проблему была расчитана медиана процента господдержки от общего бюджета. И так был вычислен бюджет для аномальных строк. После предобработки данных я приступила к исследованию\n",
    "\n",
    "В процессе изучения было выявлено, что:\n",
    "- Наиболее полно представлены года с 2015 по 2017, в них доля фильмов, по которым представлены данные равны 65.96%, 64.30% и 70.69% соответственно;\n",
    "- В 2010 году суммы сборов были минимальны (2428654 рублей), а в 2018 максимальны (49668403134.32 рублей);\n",
    "- С 2013 года наблюдается резкий рост сборов по среднему на фильм;\n",
    "- На сумму сборов абсолютно точно влияет возрастное ограничение. Была выдвинута гипотеза, что возможно зависимость присутствует из-за предпочтения и загруженности человека в зависимости от года;\n",
    "- Фильмы категории 16+ собрали больше всего в период с 2016 по 2018 год;\n",
    "\n",
    "В дальнейшем мною были выдвинуты собственные гипотезы и я получила следующие выводы:\n",
    "- Пиковые годы в которые среднем выделялось больше всего средств - это 2016, 2017 год, 70543532 рублей и 77657845.41 рублей соответственно;\n",
    "- 80% фильмов получали не более 100млн поддержки. 50% не более 35млн;\n",
    "- 60% фильмов, не выходят в 0. В некоторых годах, не выходят в 0 даже 70% фильмов;\n",
    "- Самым успешным можно считать 2017 год, у которого окупились больше 50% фильмов;\n",
    "- Самым успешным можно назвать кино, которое вышло в 2019 году. А именно фильм \"Холоп\";\n",
    "- На окупаемость фильма не влияет его рейтинг;\n",
    "- В среднем рейтинг окупаемых фильмов составляет 6,04 (медиана равна 6,2);\n",
    "- Максимум рейтинга, которые достигли окупившиеся фильмы, составляет 8,5. А именно это 2 фильма: А зори здесь тихие и Большой;\n",
    "- 80% режиссеров получают поддержку от государства только на 1 фильм. 4% режиссеров имеют 3 и более фильмов с гос.поддержкой;\n",
    "- Чаще всего поддержку от государства получали: Р.Давлетьяров, С.Андреасян и Д.Дьяченко;\n",
    "- Чаще всего отдают средства, направленные на поддержку фильмов, таким жанрам как: драммы - 93 фильма, комедии - 74 фильма и мультфильмы - 31 фильма;\n",
    "- Если оценивать показатели окупаемости жанра как процент окувшихся фильмов среди общего количества фильмов этого же жанра, то картина будет совсем другой, а именно: спорт - 100% окупаемости, история - 75% окупаемости и приключения - 75% окупаемости;\n",
    "- Если оценивать окупаемость жанра по количеству окувшихся фильмов, то топ-3 занимают жанры: комедия - 35 фильмов, мультфильмы - 20 фильмов и драмы - 19 фильмов. В первую очередь это связано с тем, что фильмы этих жанров просто снимают больше;"
   ]
  }
 ],
 "metadata": {
  "ExecuteTimeLog": [
   {
    "duration": 1389,
    "start_time": "2023-06-11T06:39:32.433Z"
   },
   {
    "duration": 355,
    "start_time": "2023-06-11T06:39:33.823Z"
   },
   {
    "duration": 141,
    "start_time": "2023-06-11T06:39:34.180Z"
   },
   {
    "duration": 86,
    "start_time": "2023-06-11T06:39:34.323Z"
   },
   {
    "duration": 12,
    "start_time": "2023-06-11T06:39:34.410Z"
   },
   {
    "duration": 33,
    "start_time": "2023-06-11T06:39:34.423Z"
   },
   {
    "duration": 19,
    "start_time": "2023-06-11T06:39:34.457Z"
   },
   {
    "duration": 5,
    "start_time": "2023-06-11T06:39:34.478Z"
   },
   {
    "duration": 17,
    "start_time": "2023-06-11T06:39:34.484Z"
   },
   {
    "duration": 12,
    "start_time": "2023-06-11T06:39:34.504Z"
   },
   {
    "duration": 36,
    "start_time": "2023-06-11T06:39:34.518Z"
   },
   {
    "duration": 35,
    "start_time": "2023-06-11T06:39:34.555Z"
   },
   {
    "duration": 29,
    "start_time": "2023-06-11T06:39:34.592Z"
   },
   {
    "duration": 47,
    "start_time": "2023-06-11T06:39:34.623Z"
   },
   {
    "duration": 32,
    "start_time": "2023-06-11T06:39:34.672Z"
   },
   {
    "duration": 15,
    "start_time": "2023-06-11T06:39:34.705Z"
   },
   {
    "duration": 47,
    "start_time": "2023-06-11T06:39:34.721Z"
   },
   {
    "duration": 50,
    "start_time": "2023-06-11T06:39:34.769Z"
   },
   {
    "duration": 9,
    "start_time": "2023-06-11T06:39:34.820Z"
   },
   {
    "duration": 37,
    "start_time": "2023-06-11T06:39:34.831Z"
   },
   {
    "duration": 9,
    "start_time": "2023-06-11T06:39:34.870Z"
   },
   {
    "duration": 17,
    "start_time": "2023-06-11T06:39:34.881Z"
   },
   {
    "duration": 14,
    "start_time": "2023-06-11T06:39:34.899Z"
   },
   {
    "duration": 13,
    "start_time": "2023-06-11T06:39:34.915Z"
   },
   {
    "duration": 40,
    "start_time": "2023-06-11T06:39:34.929Z"
   },
   {
    "duration": 23,
    "start_time": "2023-06-11T06:39:34.970Z"
   },
   {
    "duration": 21,
    "start_time": "2023-06-11T06:39:34.994Z"
   },
   {
    "duration": 37,
    "start_time": "2023-06-11T06:39:35.019Z"
   },
   {
    "duration": 5,
    "start_time": "2023-06-11T06:39:35.057Z"
   },
   {
    "duration": 27,
    "start_time": "2023-06-11T06:39:35.063Z"
   },
   {
    "duration": 39,
    "start_time": "2023-06-11T06:39:35.092Z"
   },
   {
    "duration": 31,
    "start_time": "2023-06-11T06:39:35.132Z"
   },
   {
    "duration": 25,
    "start_time": "2023-06-11T06:39:35.165Z"
   },
   {
    "duration": 22,
    "start_time": "2023-06-11T06:39:35.192Z"
   },
   {
    "duration": 35,
    "start_time": "2023-06-11T06:39:35.215Z"
   },
   {
    "duration": 6,
    "start_time": "2023-06-11T06:39:35.252Z"
   },
   {
    "duration": 32,
    "start_time": "2023-06-11T06:39:35.260Z"
   },
   {
    "duration": 11,
    "start_time": "2023-06-11T06:39:35.294Z"
   },
   {
    "duration": 24,
    "start_time": "2023-06-11T06:39:35.307Z"
   },
   {
    "duration": 16,
    "start_time": "2023-06-11T06:39:35.332Z"
   },
   {
    "duration": 20,
    "start_time": "2023-06-11T06:39:35.349Z"
   },
   {
    "duration": 8,
    "start_time": "2023-06-11T06:39:35.370Z"
   },
   {
    "duration": 13,
    "start_time": "2023-06-11T06:39:35.379Z"
   },
   {
    "duration": 49,
    "start_time": "2023-06-11T06:39:35.393Z"
   },
   {
    "duration": 17,
    "start_time": "2023-06-11T06:39:35.443Z"
   },
   {
    "duration": 27,
    "start_time": "2023-06-11T06:39:35.461Z"
   },
   {
    "duration": 11,
    "start_time": "2023-06-11T06:39:35.489Z"
   },
   {
    "duration": 10,
    "start_time": "2023-06-11T06:39:35.501Z"
   },
   {
    "duration": 21,
    "start_time": "2023-06-11T06:39:35.512Z"
   },
   {
    "duration": 17,
    "start_time": "2023-06-11T06:39:35.534Z"
   },
   {
    "duration": 22,
    "start_time": "2023-06-11T06:39:35.553Z"
   },
   {
    "duration": 11,
    "start_time": "2023-06-11T06:39:35.577Z"
   },
   {
    "duration": 15,
    "start_time": "2023-06-11T06:39:35.589Z"
   },
   {
    "duration": 18,
    "start_time": "2023-06-11T06:39:35.606Z"
   },
   {
    "duration": 5,
    "start_time": "2023-06-11T06:39:35.626Z"
   },
   {
    "duration": 177,
    "start_time": "2023-06-11T06:39:35.632Z"
   },
   {
    "duration": 170,
    "start_time": "2023-06-11T06:39:35.810Z"
   },
   {
    "duration": 142,
    "start_time": "2023-06-11T06:39:35.981Z"
   },
   {
    "duration": 3,
    "start_time": "2023-06-11T06:39:36.125Z"
   },
   {
    "duration": 169,
    "start_time": "2023-06-11T06:39:36.130Z"
   },
   {
    "duration": 14,
    "start_time": "2023-06-11T06:39:36.301Z"
   },
   {
    "duration": 8,
    "start_time": "2023-06-11T06:39:36.316Z"
   },
   {
    "duration": 225,
    "start_time": "2023-06-11T06:39:36.325Z"
   },
   {
    "duration": 10,
    "start_time": "2023-06-11T06:39:36.552Z"
   },
   {
    "duration": 35,
    "start_time": "2023-06-11T06:39:36.563Z"
   },
   {
    "duration": 3,
    "start_time": "2023-06-11T06:39:36.600Z"
   },
   {
    "duration": 224,
    "start_time": "2023-06-11T06:39:36.604Z"
   },
   {
    "duration": 314,
    "start_time": "2023-06-11T06:39:36.829Z"
   },
   {
    "duration": 28,
    "start_time": "2023-06-11T06:39:37.144Z"
   },
   {
    "duration": 230,
    "start_time": "2023-06-11T06:39:37.173Z"
   },
   {
    "duration": 17,
    "start_time": "2023-06-11T06:39:37.404Z"
   },
   {
    "duration": 6,
    "start_time": "2023-06-11T06:39:37.422Z"
   },
   {
    "duration": 167,
    "start_time": "2023-06-11T06:39:37.429Z"
   },
   {
    "duration": 8,
    "start_time": "2023-06-11T06:39:37.597Z"
   },
   {
    "duration": 218,
    "start_time": "2023-06-11T06:39:37.606Z"
   },
   {
    "duration": 20,
    "start_time": "2023-06-11T06:39:37.826Z"
   },
   {
    "duration": 25,
    "start_time": "2023-06-11T06:39:37.847Z"
   },
   {
    "duration": 7,
    "start_time": "2023-06-11T06:39:37.874Z"
   },
   {
    "duration": 174,
    "start_time": "2023-06-11T06:39:37.883Z"
   },
   {
    "duration": 237,
    "start_time": "2023-06-11T06:39:38.059Z"
   },
   {
    "duration": 232,
    "start_time": "2023-06-11T06:39:38.298Z"
   },
   {
    "duration": 245,
    "start_time": "2023-06-11T06:39:38.534Z"
   },
   {
    "duration": 10,
    "start_time": "2023-06-11T06:50:27.334Z"
   },
   {
    "duration": 12,
    "start_time": "2023-06-11T06:50:54.941Z"
   },
   {
    "duration": 14,
    "start_time": "2023-06-11T06:51:08.335Z"
   },
   {
    "duration": 1206,
    "start_time": "2023-06-11T06:51:13.324Z"
   },
   {
    "duration": 292,
    "start_time": "2023-06-11T06:51:14.532Z"
   },
   {
    "duration": 45,
    "start_time": "2023-06-11T06:51:14.825Z"
   },
   {
    "duration": 17,
    "start_time": "2023-06-11T06:51:14.872Z"
   },
   {
    "duration": 6,
    "start_time": "2023-06-11T06:51:14.891Z"
   },
   {
    "duration": 23,
    "start_time": "2023-06-11T06:51:14.898Z"
   },
   {
    "duration": 15,
    "start_time": "2023-06-11T06:51:14.923Z"
   },
   {
    "duration": 32,
    "start_time": "2023-06-11T06:51:14.940Z"
   },
   {
    "duration": 13,
    "start_time": "2023-06-11T06:51:14.974Z"
   },
   {
    "duration": 9,
    "start_time": "2023-06-11T06:51:14.990Z"
   },
   {
    "duration": 45,
    "start_time": "2023-06-11T06:51:15.000Z"
   },
   {
    "duration": 17,
    "start_time": "2023-06-11T06:51:15.047Z"
   },
   {
    "duration": 17,
    "start_time": "2023-06-11T06:51:15.066Z"
   },
   {
    "duration": 21,
    "start_time": "2023-06-11T06:51:15.085Z"
   },
   {
    "duration": 22,
    "start_time": "2023-06-11T06:51:15.107Z"
   },
   {
    "duration": 12,
    "start_time": "2023-06-11T06:51:15.131Z"
   },
   {
    "duration": 30,
    "start_time": "2023-06-11T06:51:15.144Z"
   },
   {
    "duration": 50,
    "start_time": "2023-06-11T06:51:15.176Z"
   },
   {
    "duration": 8,
    "start_time": "2023-06-11T06:51:15.228Z"
   },
   {
    "duration": 19,
    "start_time": "2023-06-11T06:51:15.237Z"
   },
   {
    "duration": 19,
    "start_time": "2023-06-11T06:51:15.257Z"
   },
   {
    "duration": 5,
    "start_time": "2023-06-11T06:51:15.278Z"
   },
   {
    "duration": 20,
    "start_time": "2023-06-11T06:51:15.284Z"
   },
   {
    "duration": 34,
    "start_time": "2023-06-11T06:51:15.305Z"
   },
   {
    "duration": 32,
    "start_time": "2023-06-11T06:51:15.341Z"
   },
   {
    "duration": 30,
    "start_time": "2023-06-11T06:51:15.374Z"
   },
   {
    "duration": 20,
    "start_time": "2023-06-11T06:51:15.406Z"
   },
   {
    "duration": 16,
    "start_time": "2023-06-11T06:51:15.431Z"
   },
   {
    "duration": 5,
    "start_time": "2023-06-11T06:51:15.449Z"
   },
   {
    "duration": 10,
    "start_time": "2023-06-11T06:51:15.472Z"
   },
   {
    "duration": 6,
    "start_time": "2023-06-11T06:51:15.484Z"
   },
   {
    "duration": 16,
    "start_time": "2023-06-11T06:51:15.492Z"
   },
   {
    "duration": 11,
    "start_time": "2023-06-11T06:51:15.509Z"
   },
   {
    "duration": 11,
    "start_time": "2023-06-11T06:51:15.521Z"
   },
   {
    "duration": 44,
    "start_time": "2023-06-11T06:51:15.533Z"
   },
   {
    "duration": 9,
    "start_time": "2023-06-11T06:51:15.579Z"
   },
   {
    "duration": 12,
    "start_time": "2023-06-11T06:51:15.589Z"
   },
   {
    "duration": 6,
    "start_time": "2023-06-11T06:51:15.603Z"
   },
   {
    "duration": 20,
    "start_time": "2023-06-11T06:51:15.610Z"
   },
   {
    "duration": 5,
    "start_time": "2023-06-11T06:51:15.632Z"
   },
   {
    "duration": 7,
    "start_time": "2023-06-11T06:51:15.638Z"
   },
   {
    "duration": 5,
    "start_time": "2023-06-11T06:51:15.646Z"
   },
   {
    "duration": 8,
    "start_time": "2023-06-11T06:51:15.652Z"
   },
   {
    "duration": 21,
    "start_time": "2023-06-11T06:51:15.672Z"
   },
   {
    "duration": 17,
    "start_time": "2023-06-11T06:51:15.694Z"
   },
   {
    "duration": 7,
    "start_time": "2023-06-11T06:51:15.713Z"
   },
   {
    "duration": 12,
    "start_time": "2023-06-11T06:51:15.722Z"
   },
   {
    "duration": 9,
    "start_time": "2023-06-11T06:51:15.735Z"
   },
   {
    "duration": 22,
    "start_time": "2023-06-11T06:51:15.771Z"
   },
   {
    "duration": 18,
    "start_time": "2023-06-11T06:51:15.795Z"
   },
   {
    "duration": 5,
    "start_time": "2023-06-11T06:51:15.815Z"
   },
   {
    "duration": 9,
    "start_time": "2023-06-11T06:51:15.822Z"
   },
   {
    "duration": 12,
    "start_time": "2023-06-11T06:51:15.832Z"
   },
   {
    "duration": 36,
    "start_time": "2023-06-11T06:51:15.846Z"
   },
   {
    "duration": 14,
    "start_time": "2023-06-11T06:51:15.883Z"
   },
   {
    "duration": 20,
    "start_time": "2023-06-11T06:51:15.898Z"
   },
   {
    "duration": 5,
    "start_time": "2023-06-11T06:51:15.920Z"
   },
   {
    "duration": 198,
    "start_time": "2023-06-11T06:51:15.926Z"
   },
   {
    "duration": 174,
    "start_time": "2023-06-11T06:51:16.125Z"
   },
   {
    "duration": 140,
    "start_time": "2023-06-11T06:51:16.301Z"
   },
   {
    "duration": 4,
    "start_time": "2023-06-11T06:51:16.442Z"
   },
   {
    "duration": 162,
    "start_time": "2023-06-11T06:51:16.448Z"
   },
   {
    "duration": 13,
    "start_time": "2023-06-11T06:51:16.612Z"
   },
   {
    "duration": 9,
    "start_time": "2023-06-11T06:51:16.627Z"
   },
   {
    "duration": 236,
    "start_time": "2023-06-11T06:51:16.638Z"
   },
   {
    "duration": 11,
    "start_time": "2023-06-11T06:51:16.876Z"
   },
   {
    "duration": 31,
    "start_time": "2023-06-11T06:51:16.889Z"
   },
   {
    "duration": 3,
    "start_time": "2023-06-11T06:51:16.922Z"
   },
   {
    "duration": 248,
    "start_time": "2023-06-11T06:51:16.927Z"
   },
   {
    "duration": 309,
    "start_time": "2023-06-11T06:51:17.177Z"
   },
   {
    "duration": 19,
    "start_time": "2023-06-11T06:51:17.487Z"
   },
   {
    "duration": 243,
    "start_time": "2023-06-11T06:51:17.507Z"
   },
   {
    "duration": 21,
    "start_time": "2023-06-11T06:51:17.752Z"
   },
   {
    "duration": 5,
    "start_time": "2023-06-11T06:51:17.774Z"
   },
   {
    "duration": 156,
    "start_time": "2023-06-11T06:51:17.780Z"
   },
   {
    "duration": 10,
    "start_time": "2023-06-11T06:51:17.938Z"
   },
   {
    "duration": 225,
    "start_time": "2023-06-11T06:51:17.949Z"
   },
   {
    "duration": 19,
    "start_time": "2023-06-11T06:51:18.176Z"
   },
   {
    "duration": 13,
    "start_time": "2023-06-11T06:51:18.196Z"
   },
   {
    "duration": 9,
    "start_time": "2023-06-11T06:51:18.210Z"
   },
   {
    "duration": 158,
    "start_time": "2023-06-11T06:51:18.220Z"
   },
   {
    "duration": 100,
    "start_time": "2023-06-11T06:51:18.382Z"
   },
   {
    "duration": 0,
    "start_time": "2023-06-11T06:51:18.483Z"
   },
   {
    "duration": 0,
    "start_time": "2023-06-11T06:51:18.484Z"
   },
   {
    "duration": 17,
    "start_time": "2023-06-11T07:00:18.899Z"
   },
   {
    "duration": 0,
    "start_time": "2023-06-11T07:00:18.917Z"
   },
   {
    "duration": 16,
    "start_time": "2023-06-11T07:00:25.989Z"
   },
   {
    "duration": 1262,
    "start_time": "2023-06-11T16:18:31.071Z"
   },
   {
    "duration": 510,
    "start_time": "2023-06-11T16:18:32.335Z"
   },
   {
    "duration": 20,
    "start_time": "2023-06-11T16:18:32.847Z"
   },
   {
    "duration": 7,
    "start_time": "2023-06-11T16:18:32.869Z"
   },
   {
    "duration": 63,
    "start_time": "2023-06-11T16:18:32.878Z"
   },
   {
    "duration": 16,
    "start_time": "2023-06-11T16:18:32.943Z"
   },
   {
    "duration": 17,
    "start_time": "2023-06-11T16:18:32.961Z"
   },
   {
    "duration": 23,
    "start_time": "2023-06-11T16:18:32.980Z"
   },
   {
    "duration": 58,
    "start_time": "2023-06-11T16:18:33.004Z"
   },
   {
    "duration": 30,
    "start_time": "2023-06-11T16:18:33.065Z"
   },
   {
    "duration": 22,
    "start_time": "2023-06-11T16:18:33.097Z"
   },
   {
    "duration": 25,
    "start_time": "2023-06-11T16:18:33.121Z"
   },
   {
    "duration": 41,
    "start_time": "2023-06-11T16:18:33.148Z"
   },
   {
    "duration": 23,
    "start_time": "2023-06-11T16:18:33.192Z"
   },
   {
    "duration": 13,
    "start_time": "2023-06-11T16:18:33.217Z"
   },
   {
    "duration": 41,
    "start_time": "2023-06-11T16:18:33.232Z"
   },
   {
    "duration": 56,
    "start_time": "2023-06-11T16:18:33.275Z"
   },
   {
    "duration": 23,
    "start_time": "2023-06-11T16:18:33.333Z"
   },
   {
    "duration": 17,
    "start_time": "2023-06-11T16:18:33.358Z"
   },
   {
    "duration": 9,
    "start_time": "2023-06-11T16:18:33.376Z"
   },
   {
    "duration": 5,
    "start_time": "2023-06-11T16:18:33.387Z"
   },
   {
    "duration": 5,
    "start_time": "2023-06-11T16:18:33.394Z"
   },
   {
    "duration": 4,
    "start_time": "2023-06-11T16:18:33.401Z"
   },
   {
    "duration": 51,
    "start_time": "2023-06-11T16:18:33.407Z"
   },
   {
    "duration": 26,
    "start_time": "2023-06-11T16:18:33.459Z"
   },
   {
    "duration": 59,
    "start_time": "2023-06-11T16:18:33.486Z"
   },
   {
    "duration": 24,
    "start_time": "2023-06-11T16:18:33.547Z"
   },
   {
    "duration": 4,
    "start_time": "2023-06-11T16:18:33.573Z"
   },
   {
    "duration": 21,
    "start_time": "2023-06-11T16:18:33.579Z"
   },
   {
    "duration": 7,
    "start_time": "2023-06-11T16:18:33.602Z"
   },
   {
    "duration": 21,
    "start_time": "2023-06-11T16:18:33.610Z"
   },
   {
    "duration": 23,
    "start_time": "2023-06-11T16:18:33.633Z"
   },
   {
    "duration": 16,
    "start_time": "2023-06-11T16:18:33.658Z"
   },
   {
    "duration": 25,
    "start_time": "2023-06-11T16:18:33.676Z"
   },
   {
    "duration": 23,
    "start_time": "2023-06-11T16:18:33.702Z"
   },
   {
    "duration": 12,
    "start_time": "2023-06-11T16:18:33.727Z"
   },
   {
    "duration": 15,
    "start_time": "2023-06-11T16:18:33.741Z"
   },
   {
    "duration": 10,
    "start_time": "2023-06-11T16:18:33.758Z"
   },
   {
    "duration": 6,
    "start_time": "2023-06-11T16:18:33.769Z"
   },
   {
    "duration": 24,
    "start_time": "2023-06-11T16:18:33.777Z"
   },
   {
    "duration": 6,
    "start_time": "2023-06-11T16:18:33.805Z"
   },
   {
    "duration": 10,
    "start_time": "2023-06-11T16:18:33.812Z"
   },
   {
    "duration": 37,
    "start_time": "2023-06-11T16:18:33.823Z"
   },
   {
    "duration": 24,
    "start_time": "2023-06-11T16:18:33.862Z"
   },
   {
    "duration": 17,
    "start_time": "2023-06-11T16:18:33.888Z"
   },
   {
    "duration": 10,
    "start_time": "2023-06-11T16:18:33.907Z"
   },
   {
    "duration": 27,
    "start_time": "2023-06-11T16:18:33.919Z"
   },
   {
    "duration": 35,
    "start_time": "2023-06-11T16:18:33.947Z"
   },
   {
    "duration": 21,
    "start_time": "2023-06-11T16:18:33.984Z"
   },
   {
    "duration": 9,
    "start_time": "2023-06-11T16:18:34.007Z"
   },
   {
    "duration": 12,
    "start_time": "2023-06-11T16:18:34.018Z"
   },
   {
    "duration": 37,
    "start_time": "2023-06-11T16:18:34.031Z"
   },
   {
    "duration": 6,
    "start_time": "2023-06-11T16:18:34.070Z"
   },
   {
    "duration": 19,
    "start_time": "2023-06-11T16:18:34.078Z"
   },
   {
    "duration": 19,
    "start_time": "2023-06-11T16:18:34.099Z"
   },
   {
    "duration": 7,
    "start_time": "2023-06-11T16:18:34.120Z"
   },
   {
    "duration": 192,
    "start_time": "2023-06-11T16:18:34.157Z"
   },
   {
    "duration": 212,
    "start_time": "2023-06-11T16:18:34.356Z"
   },
   {
    "duration": 171,
    "start_time": "2023-06-11T16:18:34.570Z"
   },
   {
    "duration": 5,
    "start_time": "2023-06-11T16:18:34.743Z"
   },
   {
    "duration": 184,
    "start_time": "2023-06-11T16:18:34.755Z"
   },
   {
    "duration": 24,
    "start_time": "2023-06-11T16:18:34.941Z"
   },
   {
    "duration": 8,
    "start_time": "2023-06-11T16:18:34.966Z"
   },
   {
    "duration": 280,
    "start_time": "2023-06-11T16:18:34.976Z"
   },
   {
    "duration": 14,
    "start_time": "2023-06-11T16:18:35.258Z"
   },
   {
    "duration": 211,
    "start_time": "2023-06-11T16:18:35.274Z"
   },
   {
    "duration": 12,
    "start_time": "2023-06-11T16:18:35.487Z"
   },
   {
    "duration": 34,
    "start_time": "2023-06-11T16:18:35.500Z"
   },
   {
    "duration": 3,
    "start_time": "2023-06-11T16:18:35.536Z"
   },
   {
    "duration": 252,
    "start_time": "2023-06-11T16:18:35.556Z"
   },
   {
    "duration": 360,
    "start_time": "2023-06-11T16:18:35.810Z"
   },
   {
    "duration": 22,
    "start_time": "2023-06-11T16:18:36.172Z"
   },
   {
    "duration": 284,
    "start_time": "2023-06-11T16:18:36.196Z"
   },
   {
    "duration": 21,
    "start_time": "2023-06-11T16:18:36.482Z"
   },
   {
    "duration": 4,
    "start_time": "2023-06-11T16:18:36.505Z"
   },
   {
    "duration": 193,
    "start_time": "2023-06-11T16:18:36.511Z"
   },
   {
    "duration": 10,
    "start_time": "2023-06-11T16:18:36.705Z"
   },
   {
    "duration": 298,
    "start_time": "2023-06-11T16:18:36.717Z"
   },
   {
    "duration": 24,
    "start_time": "2023-06-11T16:18:37.017Z"
   },
   {
    "duration": 24,
    "start_time": "2023-06-11T16:18:37.042Z"
   },
   {
    "duration": 13,
    "start_time": "2023-06-11T16:18:37.068Z"
   },
   {
    "duration": 211,
    "start_time": "2023-06-11T16:18:37.084Z"
   },
   {
    "duration": 317,
    "start_time": "2023-06-11T16:18:37.298Z"
   },
   {
    "duration": 274,
    "start_time": "2023-06-11T16:18:37.617Z"
   },
   {
    "duration": 305,
    "start_time": "2023-06-11T16:18:37.893Z"
   },
   {
    "duration": 105,
    "start_time": "2023-06-11T16:23:03.702Z"
   }
  ],
  "kernelspec": {
   "display_name": "Python 3 (ipykernel)",
   "language": "python",
   "name": "python3"
  },
  "language_info": {
   "codemirror_mode": {
    "name": "ipython",
    "version": 3
   },
   "file_extension": ".py",
   "mimetype": "text/x-python",
   "name": "python",
   "nbconvert_exporter": "python",
   "pygments_lexer": "ipython3",
   "version": "3.10.13"
  },
  "toc": {
   "base_numbering": 1,
   "nav_menu": {},
   "number_sections": true,
   "sideBar": true,
   "skip_h1_title": true,
   "title_cell": "Table of Contents",
   "title_sidebar": "Contents",
   "toc_cell": false,
   "toc_position": {},
   "toc_section_display": true,
   "toc_window_display": false
  }
 },
 "nbformat": 4,
 "nbformat_minor": 5
}
