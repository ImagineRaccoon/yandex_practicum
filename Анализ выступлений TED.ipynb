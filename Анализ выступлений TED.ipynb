{
 "cells": [
  {
   "cell_type": "markdown",
   "id": "412547ec-1532-4157-8e54-75b1e9cd4c5e",
   "metadata": {},
   "source": [
    "## Анализ выступлений TED"
   ]
  },
  {
   "cell_type": "markdown",
   "id": "005af3db-548f-4ed8-9381-c0b3f8fdf024",
   "metadata": {},
   "source": [
    "### Аннотация\n",
    "TED (от англ. technology, education, design — «технологии, образование, дизайн») — некоммерческий фонд, который проводит популярные конференции. На них выступают специалисты из разных областей и читают лекции на актуальные социальные, культурные и научные темы. Анализ данных о проводимых конференциях TED. Во внимание принимаются практически вся информация: участники, темы, популярность выступлений, продолжительность, метрики смеха и аплодисментов."
   ]
  },
  {
   "cell_type": "markdown",
   "id": "9d593f40-1512-4679-9bc4-5ebea715ee4f",
   "metadata": {},
   "source": [
    "### Цель исследования\n",
    "Исследовать историю TED-конференций с помощью Tableau, найти взаимосвязи в данных, проанализировать и представить графическое представление ключевых моментов и сделать выводы на основании полученных данных.\n",
    "\n",
    "### Задачи исследования\n",
    "- Рассмотреть выступления TED за весь период, определить преобладающие темы и тенденции;\n",
    "- Рассмотреть тематики выступлений TED в разрезе стран, просмотров и метрик смеха, аплодисментов;\n",
    "- Определить специализации авторов TED, кто чаще всего выступает;\n",
    "- Определить популярность тем, которые не входят в топ-10 и тенденции их изменений на протяжении всего исследуемого периода;\n",
    "- Рассмотреть популярность конкретных конференций, а также рассмотреть страны в которых они проводились.\n",
    "- Происследовать топ спикеров TED по числу просмотров, определить взаимосвязь средней продолжительности просмотров со среднем числом просмотров"
   ]
  },
  {
   "cell_type": "markdown",
   "id": "c3bf5753-58a0-4917-945f-a911a60a59e3",
   "metadata": {},
   "source": [
    "Р: https://public.tableau.com/views/TED_16944760665380/TED?:language=en-GB&publish=yes&:display_count=n&:origin=viz_share_link"
   ]
  }
 ],
 "metadata": {
  "kernelspec": {
   "display_name": "Python 3 (ipykernel)",
   "language": "python",
   "name": "python3"
  },
  "language_info": {
   "codemirror_mode": {
    "name": "ipython",
    "version": 3
   },
   "file_extension": ".py",
   "mimetype": "text/x-python",
   "name": "python",
   "nbconvert_exporter": "python",
   "pygments_lexer": "ipython3",
   "version": "3.10.13"
  },
  "toc": {
   "base_numbering": 1,
   "nav_menu": {},
   "number_sections": true,
   "sideBar": true,
   "skip_h1_title": true,
   "title_cell": "Table of Contents",
   "title_sidebar": "Contents",
   "toc_cell": false,
   "toc_position": {},
   "toc_section_display": true,
   "toc_window_display": false
  }
 },
 "nbformat": 4,
 "nbformat_minor": 5
}
